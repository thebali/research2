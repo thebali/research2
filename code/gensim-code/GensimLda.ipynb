{
 "cells": [
  {
   "cell_type": "code",
   "execution_count": 8,
   "metadata": {},
   "outputs": [],
   "source": [
    "# implementation of SVD - singular valued decomposition aka LSA\n",
    "from time import time\n",
    "\n",
    "import gensim as gsim\n",
    "import pandas as pd\n",
    "\n",
    "import logging\n",
    "import itertools\n",
    "from sklearn.model_selection import train_test_split\n",
    "from scipy.sparse import csr_matrix\n",
    "\n",
    "n_components = 10\n",
    "\n"
   ]
  },
  {
   "cell_type": "code",
   "execution_count": 9,
   "metadata": {},
   "outputs": [],
   "source": [
    "import pandas as pd\n",
    "import numpy as np\n",
    "\n",
    "# ratingdata = \"../data/digitalmusic/ratings/dm-ratings.csv\"\n",
    "\n",
    "# # loading rating data using pandas\n",
    "# data = pd.read_csv(ratingdata, dtype={\"asin\": str, \"overall\": int, \"reviewerID\": str})\n",
    "\n",
    "# # print(data.head())\n",
    "\n",
    "# datamatrix, test = train_test_split(data, test_size=0.1, random_state=24)\n",
    "\n",
    "# user_u = list(sorted(datamatrix.reviewerID.unique()))\n",
    "# item_u = list(sorted(datamatrix.asin.unique()))\n",
    "\n",
    "# row = datamatrix.reviewerID.astype(pd.api.types.CategoricalDtype(categories=user_u)).cat.codes\n",
    "# # col = datamatrix.asin.astype('category', categories=item_u).cat.codes\n",
    "# col = datamatrix.asin.astype(pd.api.types.CategoricalDtype(categories=item_u)).cat.codes\n",
    "\n",
    "\n",
    "# ratings = datamatrix['overall'].tolist()\n",
    "\n",
    "# ratingmatrix = csr_matrix((ratings, (row, col)), shape=(len(user_u), len(item_u)))\n",
    "\n",
    "# ratingmatrix.shape\n",
    "##ratingmatrix = datamatrix.pivot(index='asin', columns='reviewerID', values='overall')\n",
    "\n",
    "##ratingmatrix.shape"
   ]
  },
  {
   "cell_type": "code",
   "execution_count": 18,
   "metadata": {},
   "outputs": [
    {
     "name": "stderr",
     "output_type": "stream",
     "text": [
      "C:\\Anaconda3\\lib\\site-packages\\IPython\\core\\interactiveshell.py:2728: DtypeWarning: Columns (2) have mixed types. Specify dtype option on import or set low_memory=False.\n",
      "  interactivity=interactivity, compiler=compiler, result=result)\n"
     ]
    },
    {
     "data": {
      "text/html": [
       "<div>\n",
       "<style scoped>\n",
       "    .dataframe tbody tr th:only-of-type {\n",
       "        vertical-align: middle;\n",
       "    }\n",
       "\n",
       "    .dataframe tbody tr th {\n",
       "        vertical-align: top;\n",
       "    }\n",
       "\n",
       "    .dataframe thead th {\n",
       "        text-align: right;\n",
       "    }\n",
       "</style>\n",
       "<table border=\"1\" class=\"dataframe\">\n",
       "  <thead>\n",
       "    <tr style=\"text-align: right;\">\n",
       "      <th></th>\n",
       "      <th>asin</th>\n",
       "      <th>reviewText</th>\n",
       "      <th>reviewerID</th>\n",
       "    </tr>\n",
       "  </thead>\n",
       "  <tbody>\n",
       "    <tr>\n",
       "      <th>0</th>\n",
       "      <td>5555991584</td>\n",
       "      <td>The anthemic title track begins &amp;quot;The Memo...</td>\n",
       "      <td>A2EFCYXHNK06IS</td>\n",
       "    </tr>\n",
       "    <tr>\n",
       "      <th>1</th>\n",
       "      <td>5555991584</td>\n",
       "      <td>Just when I thought Enya couldn't possibly get...</td>\n",
       "      <td>A1WR23ER5HMAA9</td>\n",
       "    </tr>\n",
       "    <tr>\n",
       "      <th>2</th>\n",
       "      <td>5555991584</td>\n",
       "      <td>Nice CD for easy listening.  My husband and I ...</td>\n",
       "      <td>A2IR4Q0GPAFJKW</td>\n",
       "    </tr>\n",
       "    <tr>\n",
       "      <th>3</th>\n",
       "      <td>5555991584</td>\n",
       "      <td>I really liked this CD, especially the differe...</td>\n",
       "      <td>A2V0KUVAB9HSYO</td>\n",
       "    </tr>\n",
       "    <tr>\n",
       "      <th>4</th>\n",
       "      <td>5555991584</td>\n",
       "      <td>Enya's richly chorded style has smitten me onc...</td>\n",
       "      <td>A1J0GL9HCA7ELW</td>\n",
       "    </tr>\n",
       "  </tbody>\n",
       "</table>\n",
       "</div>"
      ],
      "text/plain": [
       "         asin                                         reviewText  \\\n",
       "0  5555991584  The anthemic title track begins &quot;The Memo...   \n",
       "1  5555991584  Just when I thought Enya couldn't possibly get...   \n",
       "2  5555991584  Nice CD for easy listening.  My husband and I ...   \n",
       "3  5555991584  I really liked this CD, especially the differe...   \n",
       "4  5555991584  Enya's richly chorded style has smitten me onc...   \n",
       "\n",
       "       reviewerID  \n",
       "0  A2EFCYXHNK06IS  \n",
       "1  A1WR23ER5HMAA9  \n",
       "2  A2IR4Q0GPAFJKW  \n",
       "3  A2V0KUVAB9HSYO  \n",
       "4  A1J0GL9HCA7ELW  "
      ]
     },
     "execution_count": 18,
     "metadata": {},
     "output_type": "execute_result"
    }
   ],
   "source": [
    "## loading textual using pandas\n",
    "\n",
    "reviewdata = \"../data/digitalmusic/reviews/complete_reviews.csv\"\n",
    "\n",
    "# datamatrix = np.loadtxt(ratingdata, delimiter=\",\", skiprows=1, dtype={'names': ['itemid', 'rating', 'userid'], \n",
    "#                                                                     'formats': ['|S15', np.int32, '|S15']})\n",
    "\n",
    "datamatrix = pd.read_csv(reviewdata, dtype={\"asin\": str, \n",
    "                                           \"helpful\": str, \n",
    "                                           \"reviewText\": str, \n",
    "                                           \"reviewerID\": str, \"summary\": str})\n",
    "\n",
    "datamatrix = datamatrix[['asin', 'reviewText', 'reviewerID']]\n",
    "\n",
    "datamatrix.head()\n",
    "\n",
    "# print(datamatrix[1][2],datamatrix[2][2],datamatrix[3][2])"
   ]
  },
  {
   "cell_type": "code",
   "execution_count": 19,
   "metadata": {},
   "outputs": [
    {
     "ename": "TypeError",
     "evalue": "don't know how to handle uri               asin                                         reviewText  \\\n0       5555991584  The anthemic title track begins &quot;The Memo...   \n1       5555991584  Just when I thought Enya couldn't possibly get...   \n2       5555991584  Nice CD for easy listening.  My husband and I ...   \n3       5555991584  I really liked this CD, especially the differe...   \n4       5555991584  Enya's richly chorded style has smitten me onc...   \n5       5555991584  It's hard to believe \"Memory of Trees\" came ou...   \n6       5555991584  I am an enya fan and like her cd's. on this cd...   \n7       5555991584  I'm not a huge, know it all Enya fan.  But I d...   \n8       5555991584  This is my very favorite Enya album to date. E...   \n9       5555991584  I love, love love love love The Memory of Tree...   \n10      5555991584  I only recently discovered this album by Enya,...   \n11      5555991584  Ok, first off, Enya rocks.  If you don't know ...   \n12      5555991584  A clasically-styled and introverted album, Mem...   \n13      5555991584  Okay, so I'm spreading my #1 rating around.  &...   \n14      5555991584  I never thought Enya would reach the sublime h...   \n15      5555991584  Certainly of very good sound quality.  A coupl...   \n16      5555991584  THE MEMORY OF TREES, combines esoteric grandeu...   \n17      5555991584  I love Watermarket and Shepperd Moons but this...   \n18      5555991584  This album was actually my first exposure to E...   \n19      5555991584  This is the third review of an irish album I w...   \n20      5555991584  In terms of simply flawless and beautiful musi...   \n21      5555991584  This is my favorite Enya album, having to do m...   \n22      5555991584  I've had this CD for years, and EVERY time I t...   \n23      5555991584  Enya, despite being a successful recording art...   \n24      5555991584  In Memory of Trees is yet another great effort...   \n25      5555991584  This album is so hauntingly beautiful.  It rem...   \n26      5555991584  Enya is such a wonderful artist, truly given a...   \n27      5555991584  Who knows why I initially considered this to b...   \n28      5555991584  Once in a while, I'll hear music that affects ...   \n29      5555991584  Replacing lost albums, and this was one of the...   \n...            ...                                                ...   \n835977  B00LOMZDM8  I love the yogscast and this song has got to b...   \n835978  B00LOMZDM8                         Definitely would dig again   \n835979  B00LOMZDM8                                       It's awesome   \n835980  B00LOMZDM8            I AM DAVE YOGNAUT AND I HAVE THE BALLS!   \n835981  B00LOMZDM8  The Yogscast have done it again.  Another amaz...   \n835982  B00LP8WLDU  Great song, once you hear it you feel like dan...   \n835983  B00LP8WLDU  Awesome jam if you like Alternative, Indie Pop...   \n835984  B00LPG4KAO  The best song by SkoolkidD so far in my opinio...   \n835985  B00LPGRZA6                             Very nice blues number   \n835986  B00LPGYCWK  Former Transentience vocalist Melaina Mulder's...   \n835987  B00LPQENZQ  To boldly go where 18 musicians dare to go... ...   \n835988  B00LPQI5R8  This song is a blessing. It definitely has a h...   \n835989  B00LPXAGV4  Finally one of my favorite Electronic Pop albu...   \n835990  B00LQ8DG24  I read about Lena Fayre in a Rolling Stone art...   \n835991  B00LQ92A20  Holy cow can he sing.  IMO this is as good as ...   \n835992  B00LQ92A20                                A TRUE Rising Star!   \n835993  B00LQ92TE4  While exactly one-minute shorter than the prim...   \n835994  B00LQLPTXK  Great tune. Live the combo of EDM in corporate...   \n835995  B00LQLPTXK                                              Nice.   \n835996  B00LQUW3BC                                        i love it !   \n835997  B00LTFDZXE     My jam Yo gotti never fails to speak the truth   \n835998  B00LTL4VGI       Love the song....way to go....another hit...   \n835999  B00LWCRAQ2              \"A demon pianist.\" - THE BOSTON GLOBE   \n836000  B00LWJDZHI              A must have, love this song. # BBN589   \n836001  B00LWJDZHI  i love this song! the lyrics mean so much! Im ...   \n836002  B00LWJDZHI                   Amazing song from a amazing girl   \n836003  B00LWJDZHI                                I Love it!!!BBN1334   \n836004  B00LWJDZHI  Love it!!! I can see she is working hard to ge...   \n836005  B00LWJDZHI                                      Love the song   \n836006  B00LWJDZHI                                            Amazing   \n\n            reviewerID  \n0       A2EFCYXHNK06IS  \n1       A1WR23ER5HMAA9  \n2       A2IR4Q0GPAFJKW  \n3       A2V0KUVAB9HSYO  \n4       A1J0GL9HCA7ELW  \n5       A3EBHHCZO6V2A4  \n6       A340XJYJDFSMUG  \n7       A3Q1J7VFGG80EK  \n8       A1REP2FMPOXV4A  \n9       A3QEKUPBPQ7A2S  \n10       A4BHT5EUI0ZJF  \n11      A23MKKC68TTTF6  \n12       AZPWAXJG9OJXV  \n13       AUR9OG1PGI3Z9  \n14      A38IRL0X2T4DPF  \n15      A3RK1ZZ6FZWY0Z  \n16      A376LDXJFOVU6W  \n17      A18MYUZLBRVKI2  \n18      A3JFEUDWC9UIZG  \n19      A22IK3I6U76GX0  \n20      A20HPUA6S4L8UA  \n21      A3U7E2BOFLD3VM  \n22      A329OO2GZFGM83  \n23      A1AISPOIIHTHXX  \n24      A3LDUEO8JG37RP  \n25      A3KPOJ41SW91C5  \n26      A3C373QJGPWMLS  \n27      A2P49WD75WHAG5  \n28      A3E01TCN1TDRUL  \n29      A18Q37K17WY0VY  \n...                ...  \n835977  A2XW468EXKJ33G  \n835978  A20SSTIFBXBWR9  \n835979  A1MEIIBYDG0S2L  \n835980   A3ZRYLHHETL09  \n835981  A1Q4NMW2803Q79  \n835982  A2WQ19BTGUUZUS  \n835983  A1D62MPB446UG8  \n835984  A1MYBY591OFIXK  \n835985   A7F1UP6YYVL44  \n835986  A33OOR5DBYDR97  \n835987  A3VUSL1BSWE764  \n835988   ARYH56RRZWHZ0  \n835989   AVITQOKP6DYKX  \n835990   A61Y571LEB8S2  \n835991   A5A8DFNJAQC7J  \n835992  A3H6QZK9OUIT9O  \n835993   AGNBUNMKIHYEM  \n835994  A2Q75UQYFAYPGW  \n835995   AN217IYNVARM7  \n835996  A3N3DV79BBOE5C  \n835997  A3HJS000P7AC0Q  \n835998  A1BSP3G2B7UNBK  \n835999  A3LV9NGAOMV9NN  \n836000  A1QP5WSKUYZUMG  \n836001  A3LWJETAAAD4OU  \n836002  A38NRGVVEF3950  \n836003  A36ZEAXJ5HMQXA  \n836004  A1840L5R4OPDE4  \n836005  A1HGHLLGGGAQZX  \n836006  A2SWE776KGEYPI  \n\n[836007 rows x 3 columns]",
     "output_type": "error",
     "traceback": [
      "\u001b[1;31m---------------------------------------------------------------------------\u001b[0m",
      "\u001b[1;31mTypeError\u001b[0m                                 Traceback (most recent call last)",
      "\u001b[1;32m<ipython-input-19-b8abe2c52905>\u001b[0m in \u001b[0;36m<module>\u001b[1;34m()\u001b[0m\n\u001b[0;32m      3\u001b[0m \u001b[1;32mfrom\u001b[0m \u001b[0mgensim\u001b[0m\u001b[1;33m.\u001b[0m\u001b[0mparsing\u001b[0m\u001b[1;33m.\u001b[0m\u001b[0mpreprocessing\u001b[0m \u001b[1;32mimport\u001b[0m \u001b[0mSTOPWORDS\u001b[0m\u001b[1;33m\u001b[0m\u001b[0m\n\u001b[0;32m      4\u001b[0m \u001b[1;33m\u001b[0m\u001b[0m\n\u001b[1;32m----> 5\u001b[1;33m \u001b[0mreviewdata\u001b[0m \u001b[1;33m=\u001b[0m \u001b[0msmart_open\u001b[0m\u001b[1;33m(\u001b[0m\u001b[0mdatamatrix\u001b[0m\u001b[1;33m)\u001b[0m\u001b[1;33m\u001b[0m\u001b[0m\n\u001b[0m\u001b[0;32m      6\u001b[0m \u001b[1;33m\u001b[0m\u001b[0m\n\u001b[0;32m      7\u001b[0m \u001b[0mreviewdata\u001b[0m\u001b[1;33m\u001b[0m\u001b[0m\n",
      "\u001b[1;32mC:\\Anaconda3\\lib\\site-packages\\smart_open\\smart_open_lib.py\u001b[0m in \u001b[0;36msmart_open\u001b[1;34m(uri, mode, **kw)\u001b[0m\n\u001b[0;32m    213\u001b[0m         \u001b[1;32mreturn\u001b[0m \u001b[0muri\u001b[0m\u001b[1;33m\u001b[0m\u001b[0m\n\u001b[0;32m    214\u001b[0m     \u001b[1;32melse\u001b[0m\u001b[1;33m:\u001b[0m\u001b[1;33m\u001b[0m\u001b[0m\n\u001b[1;32m--> 215\u001b[1;33m         \u001b[1;32mraise\u001b[0m \u001b[0mTypeError\u001b[0m\u001b[1;33m(\u001b[0m\u001b[1;34m'don\\'t know how to handle uri %s'\u001b[0m \u001b[1;33m%\u001b[0m \u001b[0mrepr\u001b[0m\u001b[1;33m(\u001b[0m\u001b[0muri\u001b[0m\u001b[1;33m)\u001b[0m\u001b[1;33m)\u001b[0m\u001b[1;33m\u001b[0m\u001b[0m\n\u001b[0m\u001b[0;32m    216\u001b[0m \u001b[1;33m\u001b[0m\u001b[0m\n\u001b[0;32m    217\u001b[0m \u001b[1;33m\u001b[0m\u001b[0m\n",
      "\u001b[1;31mTypeError\u001b[0m: don't know how to handle uri               asin                                         reviewText  \\\n0       5555991584  The anthemic title track begins &quot;The Memo...   \n1       5555991584  Just when I thought Enya couldn't possibly get...   \n2       5555991584  Nice CD for easy listening.  My husband and I ...   \n3       5555991584  I really liked this CD, especially the differe...   \n4       5555991584  Enya's richly chorded style has smitten me onc...   \n5       5555991584  It's hard to believe \"Memory of Trees\" came ou...   \n6       5555991584  I am an enya fan and like her cd's. on this cd...   \n7       5555991584  I'm not a huge, know it all Enya fan.  But I d...   \n8       5555991584  This is my very favorite Enya album to date. E...   \n9       5555991584  I love, love love love love The Memory of Tree...   \n10      5555991584  I only recently discovered this album by Enya,...   \n11      5555991584  Ok, first off, Enya rocks.  If you don't know ...   \n12      5555991584  A clasically-styled and introverted album, Mem...   \n13      5555991584  Okay, so I'm spreading my #1 rating around.  &...   \n14      5555991584  I never thought Enya would reach the sublime h...   \n15      5555991584  Certainly of very good sound quality.  A coupl...   \n16      5555991584  THE MEMORY OF TREES, combines esoteric grandeu...   \n17      5555991584  I love Watermarket and Shepperd Moons but this...   \n18      5555991584  This album was actually my first exposure to E...   \n19      5555991584  This is the third review of an irish album I w...   \n20      5555991584  In terms of simply flawless and beautiful musi...   \n21      5555991584  This is my favorite Enya album, having to do m...   \n22      5555991584  I've had this CD for years, and EVERY time I t...   \n23      5555991584  Enya, despite being a successful recording art...   \n24      5555991584  In Memory of Trees is yet another great effort...   \n25      5555991584  This album is so hauntingly beautiful.  It rem...   \n26      5555991584  Enya is such a wonderful artist, truly given a...   \n27      5555991584  Who knows why I initially considered this to b...   \n28      5555991584  Once in a while, I'll hear music that affects ...   \n29      5555991584  Replacing lost albums, and this was one of the...   \n...            ...                                                ...   \n835977  B00LOMZDM8  I love the yogscast and this song has got to b...   \n835978  B00LOMZDM8                         Definitely would dig again   \n835979  B00LOMZDM8                                       It's awesome   \n835980  B00LOMZDM8            I AM DAVE YOGNAUT AND I HAVE THE BALLS!   \n835981  B00LOMZDM8  The Yogscast have done it again.  Another amaz...   \n835982  B00LP8WLDU  Great song, once you hear it you feel like dan...   \n835983  B00LP8WLDU  Awesome jam if you like Alternative, Indie Pop...   \n835984  B00LPG4KAO  The best song by SkoolkidD so far in my opinio...   \n835985  B00LPGRZA6                             Very nice blues number   \n835986  B00LPGYCWK  Former Transentience vocalist Melaina Mulder's...   \n835987  B00LPQENZQ  To boldly go where 18 musicians dare to go... ...   \n835988  B00LPQI5R8  This song is a blessing. It definitely has a h...   \n835989  B00LPXAGV4  Finally one of my favorite Electronic Pop albu...   \n835990  B00LQ8DG24  I read about Lena Fayre in a Rolling Stone art...   \n835991  B00LQ92A20  Holy cow can he sing.  IMO this is as good as ...   \n835992  B00LQ92A20                                A TRUE Rising Star!   \n835993  B00LQ92TE4  While exactly one-minute shorter than the prim...   \n835994  B00LQLPTXK  Great tune. Live the combo of EDM in corporate...   \n835995  B00LQLPTXK                                              Nice.   \n835996  B00LQUW3BC                                        i love it !   \n835997  B00LTFDZXE     My jam Yo gotti never fails to speak the truth   \n835998  B00LTL4VGI       Love the song....way to go....another hit...   \n835999  B00LWCRAQ2              \"A demon pianist.\" - THE BOSTON GLOBE   \n836000  B00LWJDZHI              A must have, love this song. # BBN589   \n836001  B00LWJDZHI  i love this song! the lyrics mean so much! Im ...   \n836002  B00LWJDZHI                   Amazing song from a amazing girl   \n836003  B00LWJDZHI                                I Love it!!!BBN1334   \n836004  B00LWJDZHI  Love it!!! I can see she is working hard to ge...   \n836005  B00LWJDZHI                                      Love the song   \n836006  B00LWJDZHI                                            Amazing   \n\n            reviewerID  \n0       A2EFCYXHNK06IS  \n1       A1WR23ER5HMAA9  \n2       A2IR4Q0GPAFJKW  \n3       A2V0KUVAB9HSYO  \n4       A1J0GL9HCA7ELW  \n5       A3EBHHCZO6V2A4  \n6       A340XJYJDFSMUG  \n7       A3Q1J7VFGG80EK  \n8       A1REP2FMPOXV4A  \n9       A3QEKUPBPQ7A2S  \n10       A4BHT5EUI0ZJF  \n11      A23MKKC68TTTF6  \n12       AZPWAXJG9OJXV  \n13       AUR9OG1PGI3Z9  \n14      A38IRL0X2T4DPF  \n15      A3RK1ZZ6FZWY0Z  \n16      A376LDXJFOVU6W  \n17      A18MYUZLBRVKI2  \n18      A3JFEUDWC9UIZG  \n19      A22IK3I6U76GX0  \n20      A20HPUA6S4L8UA  \n21      A3U7E2BOFLD3VM  \n22      A329OO2GZFGM83  \n23      A1AISPOIIHTHXX  \n24      A3LDUEO8JG37RP  \n25      A3KPOJ41SW91C5  \n26      A3C373QJGPWMLS  \n27      A2P49WD75WHAG5  \n28      A3E01TCN1TDRUL  \n29      A18Q37K17WY0VY  \n...                ...  \n835977  A2XW468EXKJ33G  \n835978  A20SSTIFBXBWR9  \n835979  A1MEIIBYDG0S2L  \n835980   A3ZRYLHHETL09  \n835981  A1Q4NMW2803Q79  \n835982  A2WQ19BTGUUZUS  \n835983  A1D62MPB446UG8  \n835984  A1MYBY591OFIXK  \n835985   A7F1UP6YYVL44  \n835986  A33OOR5DBYDR97  \n835987  A3VUSL1BSWE764  \n835988   ARYH56RRZWHZ0  \n835989   AVITQOKP6DYKX  \n835990   A61Y571LEB8S2  \n835991   A5A8DFNJAQC7J  \n835992  A3H6QZK9OUIT9O  \n835993   AGNBUNMKIHYEM  \n835994  A2Q75UQYFAYPGW  \n835995   AN217IYNVARM7  \n835996  A3N3DV79BBOE5C  \n835997  A3HJS000P7AC0Q  \n835998  A1BSP3G2B7UNBK  \n835999  A3LV9NGAOMV9NN  \n836000  A1QP5WSKUYZUMG  \n836001  A3LWJETAAAD4OU  \n836002  A38NRGVVEF3950  \n836003  A36ZEAXJ5HMQXA  \n836004  A1840L5R4OPDE4  \n836005  A1HGHLLGGGAQZX  \n836006  A2SWE776KGEYPI  \n\n[836007 rows x 3 columns]"
     ]
    }
   ],
   "source": [
    "from gensim.utils import smart_open, simple_preprocess\n",
    "from gensim.corpora.wikicorpus import _extract_pages, filter_wiki\n",
    "from gensim.parsing.preprocessing import STOPWORDS\n",
    "\n",
    "reviewdata = smart_open(datamatrix)\n",
    "\n",
    "reviewdata\n",
    "\n",
    "\n",
    "print(\"====================================================\")\n"
   ]
  },
  {
   "cell_type": "markdown",
   "metadata": {},
   "source": [
    "# This is the GenSim topic Modelling \"\"\n",
    "\n",
    "## gdfsg\n",
    " \n",
    "\n",
    "    #include<stdio.h>\n",
    "    int main(){\n",
    "    \n",
    "    }\n",
    "\n",
    "~~rahul~~\n"
   ]
  },
  {
   "cell_type": "code",
   "execution_count": null,
   "metadata": {},
   "outputs": [],
   "source": []
  },
  {
   "cell_type": "code",
   "execution_count": null,
   "metadata": {},
   "outputs": [],
   "source": []
  }
 ],
 "metadata": {
  "kernelspec": {
   "display_name": "Python 2",
   "language": "python",
   "name": "python2"
  },
  "language_info": {
   "codemirror_mode": {
    "name": "ipython",
    "version": 2
   },
   "file_extension": ".py",
   "mimetype": "text/x-python",
   "name": "python",
   "nbconvert_exporter": "python",
   "pygments_lexer": "ipython2",
   "version": "2.7.14"
  }
 },
 "nbformat": 4,
 "nbformat_minor": 2
}
