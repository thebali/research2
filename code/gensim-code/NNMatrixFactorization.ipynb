{
 "cells": [
  {
   "cell_type": "code",
   "execution_count": 67,
   "metadata": {},
   "outputs": [],
   "source": [
    "# implementation of NMF - non-negative matrix factorization\n",
    "from time import time\n",
    "\n",
    "from sklearn.decomposition import NMF\n",
    "from sklearn.model_selection import train_test_split\n",
    "from sklearn.random_projection import sparse_random_matrix\n",
    "from scipy.sparse import csr_matrix\n",
    "\n",
    "n_components = 10\n",
    "\n"
   ]
  },
  {
   "cell_type": "code",
   "execution_count": 68,
   "metadata": {},
   "outputs": [
    {
     "data": {
      "text/plain": [
       "(441594, 247426)"
      ]
     },
     "execution_count": 68,
     "metadata": {},
     "output_type": "execute_result"
    }
   ],
   "source": [
    "import pandas as pd\n",
    "import numpy as np\n",
    "\n",
    "ratingdata = \"../data/digitalmusic/ratings/dm-ratings.csv\"\n",
    "\n",
    "# loading data using pandas\n",
    "data = pd.read_csv(ratingdata, dtype={\"asin\": str, \"overall\": int, \"reviewerID\": str})\n",
    "\n",
    "# print(data.head())\n",
    "\n",
    "datamatrix, test = train_test_split(data, test_size=0.1, random_state=24)\n",
    "\n",
    "user_u = list(sorted(datamatrix.reviewerID.unique()))\n",
    "item_u = list(sorted(datamatrix.asin.unique()))\n",
    "\n",
    "row = datamatrix.reviewerID.astype(pd.api.types.CategoricalDtype(categories=user_u)).cat.codes\n",
    "# col = datamatrix.asin.astype('category', categories=item_u).cat.codes\n",
    "col = datamatrix.asin.astype(pd.api.types.CategoricalDtype(categories=item_u)).cat.codes\n",
    "\n",
    "\n",
    "ratings = datamatrix['overall'].tolist()\n",
    "\n",
    "ratingmatrix = csr_matrix((ratings, (row, col)), shape=(len(user_u), len(item_u)))\n",
    "\n",
    "ratingmatrix.shape\n",
    "##ratingmatrix = datamatrix.pivot(index='asin', columns='reviewerID', values='overall')\n",
    "\n",
    "##ratingmatrix.shape"
   ]
  },
  {
   "cell_type": "code",
   "execution_count": 69,
   "metadata": {},
   "outputs": [],
   "source": [
    "## loading data using numpy\n",
    "\n",
    "# datamatrix = np.loadtxt(ratingdata, delimiter=\",\", skiprows=1, dtype={'names': ['itemid', 'rating', 'userid'], \n",
    "#                                                                       'formats': ['|S15', np.int32, '|S15']})\n",
    "\n",
    "# print(datamatrix[1][2],datamatrix[2][2],datamatrix[3][2])"
   ]
  },
  {
   "cell_type": "code",
   "execution_count": 70,
   "metadata": {},
   "outputs": [],
   "source": [
    "model = NMF(n_components=n_components, solver='mu', init='nndsvda', random_state=43)\n",
    "\n",
    "H = model.fit_transform(ratingmatrix)\n",
    "X = model.components_\n",
    "\n",
    "\n",
    "P = model.get_params\n",
    "\n",
    "\n",
    "\n"
   ]
  },
  {
   "cell_type": "code",
   "execution_count": 71,
   "metadata": {},
   "outputs": [
    {
     "data": {
      "text/plain": [
       "array([[2.04584654e-002, 0.00000000e+000, 7.23937418e-026, ...,\n",
       "        0.00000000e+000, 0.00000000e+000, 0.00000000e+000],\n",
       "       [3.63661734e-003, 0.00000000e+000, 9.73448159e-024, ...,\n",
       "        0.00000000e+000, 0.00000000e+000, 4.20011459e-009],\n",
       "       [1.02384476e-014, 0.00000000e+000, 3.17880416e-020, ...,\n",
       "        0.00000000e+000, 0.00000000e+000, 0.00000000e+000],\n",
       "       ...,\n",
       "       [1.01633605e-033, 0.00000000e+000, 9.68983923e-031, ...,\n",
       "        1.07973631e-065, 6.22162846e-053, 0.00000000e+000],\n",
       "       [2.30433042e-012, 0.00000000e+000, 1.72460610e-106, ...,\n",
       "        0.00000000e+000, 0.00000000e+000, 0.00000000e+000],\n",
       "       [2.65905102e-012, 1.18874182e-007, 6.68846189e-004, ...,\n",
       "        1.69128690e-064, 9.74548932e-052, 0.00000000e+000]])"
      ]
     },
     "execution_count": 71,
     "metadata": {},
     "output_type": "execute_result"
    }
   ],
   "source": [
    "X"
   ]
  },
  {
   "cell_type": "code",
   "execution_count": 72,
   "metadata": {},
   "outputs": [
    {
     "data": {
      "text/plain": [
       "array([[5.62620245e-007, 1.28084372e-007, 0.00000000e+000, ...,\n",
       "        1.88860191e-029, 0.00000000e+000, 0.00000000e+000],\n",
       "       [2.25465128e-030, 5.02248615e-021, 2.55460880e-004, ...,\n",
       "        2.78792018e-207, 0.00000000e+000, 3.54102845e-057],\n",
       "       [0.00000000e+000, 0.00000000e+000, 0.00000000e+000, ...,\n",
       "        2.52183257e-058, 0.00000000e+000, 3.37525881e-057],\n",
       "       ...,\n",
       "       [0.00000000e+000, 0.00000000e+000, 0.00000000e+000, ...,\n",
       "        3.30174150e-064, 0.00000000e+000, 4.41910070e-063],\n",
       "       [5.00597778e-007, 1.04977589e-006, 0.00000000e+000, ...,\n",
       "        1.23538402e-006, 7.91006418e-005, 0.00000000e+000],\n",
       "       [0.00000000e+000, 0.00000000e+000, 0.00000000e+000, ...,\n",
       "        3.30174150e-064, 0.00000000e+000, 4.41910070e-063]])"
      ]
     },
     "execution_count": 72,
     "metadata": {},
     "output_type": "execute_result"
    }
   ],
   "source": [
    "H"
   ]
  },
  {
   "cell_type": "code",
   "execution_count": 73,
   "metadata": {},
   "outputs": [
    {
     "data": {
      "text/plain": [
       "<bound method BaseEstimator.get_params of NMF(alpha=0.0, beta_loss='frobenius', init='nndsvda', l1_ratio=0.0,\n",
       "  max_iter=200, n_components=10, random_state=0, shuffle=False,\n",
       "  solver='mu', tol=0.0001, verbose=0)>"
      ]
     },
     "execution_count": 73,
     "metadata": {},
     "output_type": "execute_result"
    }
   ],
   "source": [
    "P"
   ]
  },
  {
   "cell_type": "code",
   "execution_count": null,
   "metadata": {},
   "outputs": [],
   "source": []
  }
 ],
 "metadata": {
  "kernelspec": {
   "display_name": "Python 2",
   "language": "python",
   "name": "python2"
  },
  "language_info": {
   "codemirror_mode": {
    "name": "ipython",
    "version": 2
   },
   "file_extension": ".py",
   "mimetype": "text/x-python",
   "name": "python",
   "nbconvert_exporter": "python",
   "pygments_lexer": "ipython2",
   "version": "2.7.14"
  }
 },
 "nbformat": 4,
 "nbformat_minor": 2
}
