{
 "cells": [
  {
   "cell_type": "code",
   "execution_count": 17,
   "metadata": {},
   "outputs": [],
   "source": [
    "from time import time\n",
    "\n",
    "from sklearn.feature_extraction.text import TfidfVectorizer, CountVectorizer\n",
    "from sklearn.decomposition import NMF, LatentDirichletAllocation\n",
    "from sklearn.datasets import fetch_20newsgroups\n",
    "\n",
    "n_samples = 30\n",
    "n_features = 50\n",
    "n_components = 5\n",
    "n_top_words = 4"
   ]
  },
  {
   "cell_type": "code",
   "execution_count": 39,
   "metadata": {},
   "outputs": [
    {
     "name": "stdout",
     "output_type": "stream",
     "text": [
      "Wall time: 0 ns\n"
     ]
    },
    {
     "name": "stderr",
     "output_type": "stream",
     "text": [
      "C:\\Anaconda3\\lib\\site-packages\\IPython\\core\\interactiveshell.py:2728: DtypeWarning: Columns (2) have mixed types. Specify dtype option on import or set low_memory=False.\n",
      "  interactivity=interactivity, compiler=compiler, result=result)\n"
     ]
    }
   ],
   "source": [
    "%time\n",
    "# dataset = fetch_20newsgroups(shuffle=True, random_state=1, remove=(\"headers\", \"footers\", \"quotes\"))\n",
    "# datasamples = dataset.data[:n_samples]\n",
    "\n",
    "\n",
    "## own data from the amazon reviews\n",
    "\n",
    "import pandas as pd\n",
    "\n",
    "# location of the data\n",
    "datafile = \"../data/digitalmusic/reviews/complete_reviews.csv\"\n",
    "\n",
    "data = pd.read_csv(datafile, dtype={\"asin\": str, \"helpful\": str, \"reviewText\": str, \"reviewerID\": str})\n",
    "\n",
    "# data.head"
   ]
  },
  {
   "cell_type": "code",
   "execution_count": 40,
   "metadata": {},
   "outputs": [
    {
     "name": "stdout",
     "output_type": "stream",
     "text": [
      "['Catchy little tune', 'Awesome song', 'This is an amazing song', \"I love the Yogscast team and I love there music. If your a fan you won't be let down!\", 'Diggy Diggy Hole... nuff said.', \"The Yogscast has done it again- they've somehow managed to turn a silly, lighthearted song into something truly epic. The song has come a long way since the early SOI!\", 'I grew a beard and shrunk down to 3.8ft just by listening to this10/10 no regrets.', 'I just love this song, it has a happy beat, and my kids are easier to get going marching to this tune!', 'Perfect music for Dwarf Fortress', 'We really like this song/tune!  It has a great beat and fun to listen to :)', 'I love the yogscast and this song has got to be there best song yet!!', 'Definitely would dig again', \"It's awesome\", 'I AM DAVE YOGNAUT AND I HAVE THE BALLS!', \"The Yogscast have done it again.  Another amazing song that I already can't get enough of.  Happy dance!\"]\n",
      "[5, 5, 5, 5, 5, 5, 5, 5, 5, 5, 5, 5, 5, 5, 5]\n"
     ]
    },
    {
     "data": {
      "text/plain": [
       "asin          836007\n",
       "helpful       836007\n",
       "overall       836007\n",
       "reviewText    835953\n",
       "reviewerID    836005\n",
       "summary       835981\n",
       "dtype: int64"
      ]
     },
     "execution_count": 40,
     "metadata": {},
     "output_type": "execute_result"
    }
   ],
   "source": [
    "## moulding the data to fit the LDA. \n",
    "# we will not find all the reviews for the item specific B00LOMZDM8\n",
    "\n",
    "item_id1 = \"B00LOMZDM8\"\n",
    "\n",
    "# for rows\n",
    "row_data = data.loc[data['asin'] == item_id1]\n",
    "# for columns\n",
    "review_data = row_data.iloc[:,3]\n",
    "## found 15 reviews for the item specific B00LOMZDM8\n",
    "\n",
    "# datatext = \"\"\n",
    "datatext = review_data.tolist()\n",
    "\n",
    "#ratings on the same product\n",
    "rating_data = row_data.iloc[:,2]\n",
    "\n",
    "rating_data = rating_data.tolist()\n",
    "\n",
    "\n",
    "# for review in data:\n",
    "#     datatext += review+\". \"\n",
    "\n",
    "print(datatext)\n",
    "\n",
    "print(rating_data)\n",
    "data.count()"
   ]
  },
  {
   "cell_type": "code",
   "execution_count": 41,
   "metadata": {},
   "outputs": [
    {
     "name": "stdout",
     "output_type": "stream",
     "text": [
      "Wall time: 0 ns\n"
     ]
    }
   ],
   "source": [
    "# tfidf vectorizer \n",
    "\n",
    "%time\n",
    "tfidf_vectorizer = TfidfVectorizer(max_df=0.95, min_df=2, max_features=n_features, stop_words='english')\n",
    "tfidf = tfidf_vectorizer.fit_transform(datatext)"
   ]
  },
  {
   "cell_type": "code",
   "execution_count": 42,
   "metadata": {},
   "outputs": [
    {
     "name": "stdout",
     "output_type": "stream",
     "text": [
      "Wall time: 0 ns\n"
     ]
    }
   ],
   "source": [
    "# tf vectorizer used for LDA - topiuc Modelling\n",
    "\n",
    "%time\n",
    "tf_vectorizer = CountVectorizer(max_df=0.95, min_df=2, max_features=n_features, stop_words='english')\n",
    "tf = tf_vectorizer.fit_transform(datatext)"
   ]
  },
  {
   "cell_type": "code",
   "execution_count": 45,
   "metadata": {},
   "outputs": [
    {
     "data": {
      "text/plain": [
       "LatentDirichletAllocation(batch_size=128, doc_topic_prior=None,\n",
       "             evaluate_every=-1, learning_decay=0.7,\n",
       "             learning_method='online', learning_offset=50,\n",
       "             max_doc_update_iter=100, max_iter=25, mean_change_tol=0.001,\n",
       "             n_components=5, n_jobs=1, n_topics=None, perp_tol=0.1,\n",
       "             random_state=0, topic_word_prior=None,\n",
       "             total_samples=1000000.0, verbose=0)"
      ]
     },
     "execution_count": 45,
     "metadata": {},
     "output_type": "execute_result"
    }
   ],
   "source": [
    "lda = LatentDirichletAllocation(n_components=n_components, max_iter=25, learning_method='online', learning_offset=50, random_state=0)\n",
    "\n",
    "lda.fit(tf)"
   ]
  },
  {
   "cell_type": "code",
   "execution_count": 47,
   "metadata": {},
   "outputs": [
    {
     "data": {
      "text/html": [
       "\n",
       "<link rel=\"stylesheet\" type=\"text/css\" href=\"https://cdn.rawgit.com/bmabey/pyLDAvis/files/ldavis.v1.0.0.css\">\n",
       "\n",
       "\n",
       "<div id=\"ldavis_el747224309686022003673140941\"></div>\n",
       "<script type=\"text/javascript\">\n",
       "\n",
       "var ldavis_el747224309686022003673140941_data = {\"mdsDat\": {\"Freq\": [31.11576029460726, 27.84273346695035, 22.305356426699053, 13.648971784214117, 5.087178027529226], \"cluster\": [1, 1, 1, 1, 1], \"topics\": [1, 2, 3, 4, 5], \"x\": [0.05439594099536803, -0.08193281466851943, -0.011449838462308471, 0.0316820586641494, 0.007304653471310429], \"y\": [-0.016050862461988037, -0.028080506115457298, 0.06226330138221024, -0.023885270088538232, 0.005753337283773313]}, \"tinfo\": {\"Category\": [\"Default\", \"Default\", \"Default\", \"Default\", \"Default\", \"Default\", \"Default\", \"Default\", \"Default\", \"Default\", \"Topic1\", \"Topic1\", \"Topic1\", \"Topic1\", \"Topic1\", \"Topic1\", \"Topic1\", \"Topic1\", \"Topic1\", \"Topic1\", \"Topic2\", \"Topic2\", \"Topic2\", \"Topic2\", \"Topic2\", \"Topic2\", \"Topic2\", \"Topic2\", \"Topic2\", \"Topic2\", \"Topic3\", \"Topic3\", \"Topic3\", \"Topic3\", \"Topic3\", \"Topic3\", \"Topic3\", \"Topic3\", \"Topic3\", \"Topic3\", \"Topic4\", \"Topic4\", \"Topic4\", \"Topic4\", \"Topic4\", \"Topic4\", \"Topic4\", \"Topic4\", \"Topic4\", \"Topic4\", \"Topic5\", \"Topic5\", \"Topic5\", \"Topic5\", \"Topic5\", \"Topic5\", \"Topic5\", \"Topic5\", \"Topic5\", \"Topic5\"], \"Freq\": [3.0, 2.0, 2.0, 6.0, 2.0, 3.0, 2.0, 2.0, 2.0, 3.0, 2.2263374910806677, 1.4307662547471218, 0.9444060523730774, 0.9520025401772586, 0.9628858961391635, 0.9310096413782737, 0.9463696576152736, 0.919896393618013, 0.3321152911690811, 0.3112540759763912, 1.5191939708002873, 3.239342250598587, 1.482338048294521, 0.8940741864314928, 0.33231482741802665, 0.299246205452293, 0.28881521182023445, 0.2823486671646693, 0.2797551560164689, 0.2922461854275307, 1.3888275442202354, 0.8580641926690268, 0.8326238886984739, 0.8433249746915581, 0.7887815575365792, 1.3875110120204825, 0.2770235896233164, 0.23961727738804056, 0.26572701678564464, 0.2562130029103395, 0.8010289189544448, 0.9127550948101879, 0.7706680961634044, 0.2922899851602371, 0.2759710024544711, 0.26945946225125134, 0.2613866476846524, 0.2468497943412425, 0.26823383032587106, 0.2690281388027551, 0.16627809711341304, 0.16103240498073848, 0.15512004713714164, 0.15772782472093297, 0.15411376925502498, 0.14663402374138498, 0.169545264745993, 0.1770162170625621, 0.14523673703603693, 0.19519258301612402], \"Term\": [\"tune\", \"beat\", \"amazing\", \"song\", \"awesome\", \"love\", \"happy\", \"just\", \"music\", \"yogscast\", \"love\", \"tune\", \"beat\", \"happy\", \"music\", \"just\", \"yogscast\", \"song\", \"amazing\", \"awesome\", \"awesome\", \"song\", \"yogscast\", \"love\", \"amazing\", \"just\", \"beat\", \"happy\", \"music\", \"tune\", \"amazing\", \"just\", \"happy\", \"music\", \"yogscast\", \"song\", \"awesome\", \"beat\", \"tune\", \"love\", \"beat\", \"tune\", \"song\", \"amazing\", \"music\", \"awesome\", \"just\", \"happy\", \"yogscast\", \"love\", \"awesome\", \"amazing\", \"beat\", \"happy\", \"just\", \"music\", \"tune\", \"yogscast\", \"love\", \"song\"], \"Total\": [3.0, 2.0, 2.0, 6.0, 2.0, 3.0, 2.0, 2.0, 2.0, 3.0, 3.7908895562612916, 3.071039816516478, 2.4289875076729386, 2.471552715102577, 2.5085710530430463, 2.503820456439271, 3.6627393108348074, 6.5126103354166105, 2.5065800529483186, 2.5432091957646596, 2.5432091957646596, 6.5126103354166105, 3.6627393108348074, 3.7908895562612916, 2.5065800529483186, 2.503820456439271, 2.4289875076729386, 2.471552715102577, 2.5085710530430463, 3.071039816516478, 2.5065800529483186, 2.503820456439271, 2.471552715102577, 2.5085710530430463, 3.6627393108348074, 6.5126103354166105, 2.5432091957646596, 2.4289875076729386, 3.071039816516478, 3.7908895562612916, 2.4289875076729386, 3.071039816516478, 6.5126103354166105, 2.5065800529483186, 2.5085710530430463, 2.5432091957646596, 2.503820456439271, 2.471552715102577, 3.6627393108348074, 3.7908895562612916, 2.5432091957646596, 2.5065800529483186, 2.4289875076729386, 2.471552715102577, 2.503820456439271, 2.5085710530430463, 3.071039816516478, 3.6627393108348074, 3.7908895562612916, 6.5126103354166105], \"loglift\": [10.0, 9.0, 8.0, 7.0, 6.0, 5.0, 4.0, 3.0, 2.0, 1.0, 0.6352, 0.4036, 0.2228, 0.2134, 0.2099, 0.1782, -0.1859, -0.7898, -0.8537, -0.9331, 0.7634, 0.5802, 0.374, -0.166, -0.742, -0.8457, -0.8508, -0.8909, -0.915, -1.0736, 0.9099, 0.4294, 0.4123, 0.4102, -0.0351, -0.0459, -0.7167, -0.8158, -0.947, -1.194, 0.8822, 0.7782, -0.1427, -0.1574, -0.2157, -0.2533, -0.2681, -0.3123, -0.6226, -0.654, 0.2509, 0.2334, 0.2274, 0.2267, 0.1906, 0.1389, 0.0818, -0.0513, -0.2835, -0.5291], \"logprob\": [10.0, 9.0, 8.0, 7.0, 6.0, 5.0, 4.0, 3.0, 2.0, 1.0, -1.4979, -1.9401, -2.3555, -2.3475, -2.3361, -2.3698, -2.3534, -2.3818, -3.4006, -3.4654, -1.769, -1.0118, -1.7935, -2.2991, -3.2888, -3.3936, -3.4291, -3.4518, -3.461, -3.4173, -1.6369, -2.1185, -2.1486, -2.1358, -2.2027, -1.6379, -3.249, -3.3941, -3.2907, -3.3271, -1.6961, -1.5655, -1.7347, -2.7042, -2.7617, -2.7856, -2.816, -2.8732, -2.7901, -2.7872, -2.2814, -2.3134, -2.3508, -2.3342, -2.3574, -2.4071, -2.2619, -2.2188, -2.4167, -2.1211]}, \"token.table\": {\"Topic\": [3, 2, 1, 4, 1, 3, 1, 3, 1, 2, 1, 3, 1, 2, 3, 4, 1, 4, 1, 2, 3], \"Freq\": [0.39894995526824223, 0.7864079774997297, 0.41169417168309674, 0.41169417168309674, 0.40460395357519086, 0.40460395357519086, 0.39938965968115714, 0.39938965968115714, 0.52758065628598, 0.26379032814299, 0.3986333170778401, 0.3986333170778401, 0.15354826229382113, 0.4606447868814633, 0.15354826229382113, 0.15354826229382113, 0.3256226098476032, 0.3256226098476032, 0.27301970332474496, 0.27301970332474496, 0.27301970332474496], \"Term\": [\"amazing\", \"awesome\", \"beat\", \"beat\", \"happy\", \"happy\", \"just\", \"just\", \"love\", \"love\", \"music\", \"music\", \"song\", \"song\", \"song\", \"song\", \"tune\", \"tune\", \"yogscast\", \"yogscast\", \"yogscast\"]}, \"R\": 10, \"lambda.step\": 0.01, \"plot.opts\": {\"xlab\": \"PC1\", \"ylab\": \"PC2\"}, \"topic.order\": [5, 3, 2, 1, 4]};\n",
       "\n",
       "function LDAvis_load_lib(url, callback){\n",
       "  var s = document.createElement('script');\n",
       "  s.src = url;\n",
       "  s.async = true;\n",
       "  s.onreadystatechange = s.onload = callback;\n",
       "  s.onerror = function(){console.warn(\"failed to load library \" + url);};\n",
       "  document.getElementsByTagName(\"head\")[0].appendChild(s);\n",
       "}\n",
       "\n",
       "if(typeof(LDAvis) !== \"undefined\"){\n",
       "   // already loaded: just create the visualization\n",
       "   !function(LDAvis){\n",
       "       new LDAvis(\"#\" + \"ldavis_el747224309686022003673140941\", ldavis_el747224309686022003673140941_data);\n",
       "   }(LDAvis);\n",
       "}else if(typeof define === \"function\" && define.amd){\n",
       "   // require.js is available: use it to load d3/LDAvis\n",
       "   require.config({paths: {d3: \"https://cdnjs.cloudflare.com/ajax/libs/d3/3.5.5/d3.min\"}});\n",
       "   require([\"d3\"], function(d3){\n",
       "      window.d3 = d3;\n",
       "      LDAvis_load_lib(\"https://cdn.rawgit.com/bmabey/pyLDAvis/files/ldavis.v1.0.0.js\", function(){\n",
       "        new LDAvis(\"#\" + \"ldavis_el747224309686022003673140941\", ldavis_el747224309686022003673140941_data);\n",
       "      });\n",
       "    });\n",
       "}else{\n",
       "    // require.js not available: dynamically load d3 & LDAvis\n",
       "    LDAvis_load_lib(\"https://cdnjs.cloudflare.com/ajax/libs/d3/3.5.5/d3.min.js\", function(){\n",
       "         LDAvis_load_lib(\"https://cdn.rawgit.com/bmabey/pyLDAvis/files/ldavis.v1.0.0.js\", function(){\n",
       "                 new LDAvis(\"#\" + \"ldavis_el747224309686022003673140941\", ldavis_el747224309686022003673140941_data);\n",
       "            })\n",
       "         });\n",
       "}\n",
       "</script>"
      ],
      "text/plain": [
       "<IPython.core.display.HTML object>"
      ]
     },
     "execution_count": 47,
     "metadata": {},
     "output_type": "execute_result"
    }
   ],
   "source": [
    "# using visualisation for the lda\n",
    "import pyLDAvis\n",
    "import pyLDAvis.sklearn\n",
    "\n",
    "tree = pyLDAvis.sklearn.prepare(lda, tf, tf_vectorizer) # there are different variations of this function.\n",
    "\n",
    "pyLDAvis.display(tree)\n",
    "\n"
   ]
  },
  {
   "cell_type": "code",
   "execution_count": 15,
   "metadata": {},
   "outputs": [],
   "source": [
    "\n",
    "def print_top_words(model, feature_names, n_top_words):\n",
    "    for topic_idx, topic in enumerate(model.components_):\n",
    "        message = \"Topic #%d: \" % topic_idx\n",
    "        message += \" \".join([feature_names[i] for i in topic.argsort()[:-n_top_words - 1:-1]])\n",
    "        print(message)\n",
    "    print()"
   ]
  },
  {
   "cell_type": "code",
   "execution_count": 16,
   "metadata": {},
   "outputs": [
    {
     "name": "stdout",
     "output_type": "stream",
     "text": [
      "Topic #0: tune beat song amazing\n",
      "Topic #1: amazing song just music\n",
      "Topic #2: song awesome yogscast love\n",
      "Topic #3: song yogscast tune awesome\n",
      "Topic #4: love tune music happy\n",
      "\n"
     ]
    }
   ],
   "source": [
    "tf_feature_names = tf_vectorizer.get_feature_names()\n",
    "\n",
    "print_top_words(lda, tf_feature_names, n_top_words)"
   ]
  },
  {
   "cell_type": "code",
   "execution_count": null,
   "metadata": {},
   "outputs": [],
   "source": []
  },
  {
   "cell_type": "code",
   "execution_count": null,
   "metadata": {},
   "outputs": [],
   "source": []
  }
 ],
 "metadata": {
  "kernelspec": {
   "display_name": "Python 3",
   "language": "python",
   "name": "python3"
  },
  "language_info": {
   "codemirror_mode": {
    "name": "ipython",
    "version": 3
   },
   "file_extension": ".py",
   "mimetype": "text/x-python",
   "name": "python",
   "nbconvert_exporter": "python",
   "pygments_lexer": "ipython3",
   "version": "3.6.4"
  }
 },
 "nbformat": 4,
 "nbformat_minor": 1
}
