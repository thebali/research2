{
 "cells": [
  {
   "cell_type": "code",
   "execution_count": 7,
   "metadata": {},
   "outputs": [],
   "source": [
    "# implementation of SVD - singular valued decomposition aka LSA\n",
    "from time import time\n",
    "\n",
    "from sklearn.decomposition import TruncatedSVD\n",
    "from sklearn.model_selection import train_test_split\n",
    "from scipy.sparse import csr_matrix\n",
    "\n",
    "n_components = 10\n",
    "\n"
   ]
  },
  {
   "cell_type": "code",
   "execution_count": 8,
   "metadata": {},
   "outputs": [
    {
     "data": {
      "text/plain": [
       "(441594, 247426)"
      ]
     },
     "execution_count": 8,
     "metadata": {},
     "output_type": "execute_result"
    }
   ],
   "source": [
    "import pandas as pd\n",
    "import numpy as np\n",
    "\n",
    "# folder location for the data csv file\n",
    "ratingdata = \"../data/digitalmusic/ratings/dm-ratings.csv\"\n",
    "\n",
    "# loading data using pandas to read csv\n",
    "data = pd.read_csv(ratingdata, dtype={\"asin\": str, \"overall\": int, \"reviewerID\": str})\n",
    "\n",
    "# print(data.head())\n",
    "\n",
    "# data spliting to training, testing set 90-10\n",
    "datamatrix, test = train_test_split(data, test_size=0.1, random_state=24)\n",
    "\n",
    "# get sorted unique lists of the users and items\n",
    "user_u = list(sorted(datamatrix.reviewerID.unique()))\n",
    "item_u = list(sorted(datamatrix.asin.unique()))\n",
    "\n",
    "# handling types of the rows and columns ratingmatrix\n",
    "row = datamatrix.reviewerID.astype(pd.api.types.CategoricalDtype(categories=user_u)).cat.codes\n",
    "# col = datamatrix.asin.astype('category', categories=item_u).cat.codes ----- old way doing this\n",
    "col = datamatrix.asin.astype(pd.api.types.CategoricalDtype(categories=item_u)).cat.codes\n",
    "\n",
    "# create an ratings list from the training set\n",
    "ratings = datamatrix['overall'].tolist()\n",
    "\n",
    "# creating sparse matrix -- Compressed Sparse Row matrix\n",
    "ratingmatrix = csr_matrix((ratings, (row, col)), shape=(len(user_u), len(item_u)))\n",
    "ratingmatrix.shape\n",
    "##ratingmatrix = datamatrix.pivot(index='asin', columns='reviewerID', values='overall')\n",
    "\n",
    "##ratingmatrix.shape"
   ]
  },
  {
   "cell_type": "code",
   "execution_count": 12,
   "metadata": {},
   "outputs": [
    {
     "name": "stdout",
     "output_type": "stream",
     "text": [
      "[0.0024341  0.00228243 0.00214039 0.00178067 0.00153157]\n",
      "1.01691584693347\n",
      "[199.51194352 192.70017293 186.78084313 173.31658953 157.72778064]\n",
      "[[ 2.99947640e-03  1.98913570e-09  1.87364443e-05 ...  2.00599746e-26\n",
      "   1.14274318e-21  1.32895380e-10]\n",
      " [ 7.58199219e-04  9.03149703e-10  8.38245837e-06 ...  3.00639244e-26\n",
      "   2.61399511e-22  4.96852617e-10]\n",
      " [ 1.11825316e-03  2.94927908e-09  2.01321828e-05 ... -6.48822994e-26\n",
      "  -1.14570538e-21  1.29496587e-10]\n",
      " [ 1.06626637e-02  3.62824326e-08  2.06064255e-04 ... -3.24646444e-25\n",
      "   3.15337104e-21  1.73524808e-09]\n",
      " [ 9.65356388e-05 -2.12818416e-09 -2.21845176e-05 ...  9.98015357e-25\n",
      "   1.26459010e-21  2.21748772e-10]]\n"
     ]
    },
    {
     "ename": "AttributeError",
     "evalue": "'TruncatedSVD' object has no attribute 'eval'",
     "output_type": "error",
     "traceback": [
      "\u001b[1;31m---------------------------------------------------------------------------\u001b[0m",
      "\u001b[1;31mAttributeError\u001b[0m                            Traceback (most recent call last)",
      "\u001b[1;32m<ipython-input-12-0212d2e1804f>\u001b[0m in \u001b[0;36m<module>\u001b[1;34m()\u001b[0m\n\u001b[0;32m     11\u001b[0m \u001b[0mprint\u001b[0m\u001b[1;33m(\u001b[0m\u001b[0msvd\u001b[0m\u001b[1;33m.\u001b[0m\u001b[0mcomponents_\u001b[0m\u001b[1;33m)\u001b[0m\u001b[1;33m\u001b[0m\u001b[0m\n\u001b[0;32m     12\u001b[0m \u001b[1;33m\u001b[0m\u001b[0m\n\u001b[1;32m---> 13\u001b[1;33m \u001b[0msvd\u001b[0m\u001b[1;33m.\u001b[0m\u001b[0meval\u001b[0m\u001b[1;33m(\u001b[0m\u001b[0mtest\u001b[0m\u001b[1;33m)\u001b[0m\u001b[1;33m\u001b[0m\u001b[0m\n\u001b[0m\u001b[0;32m     14\u001b[0m \u001b[1;33m\u001b[0m\u001b[0m\n",
      "\u001b[1;31mAttributeError\u001b[0m: 'TruncatedSVD' object has no attribute 'eval'"
     ]
    }
   ],
   "source": [
    "svd = TruncatedSVD(n_components=5, n_iter=7, random_state=42)\n",
    "svd.fit(ratingmatrix)  \n",
    "\n",
    "\n",
    "print(svd.explained_variance_ratio_)  \n",
    "\n",
    "print(svd.explained_variance_ratio_.sum()*100)  \n",
    "\n",
    "print(svd.singular_values_)  \n",
    "\n",
    "print(svd.components_)\n",
    "\n",
    "svd.eval(test)\n",
    "\n"
   ]
  },
  {
   "cell_type": "code",
   "execution_count": null,
   "metadata": {},
   "outputs": [],
   "source": []
  }
 ],
 "metadata": {
  "kernelspec": {
   "display_name": "Python 3",
   "language": "python",
   "name": "python3"
  },
  "language_info": {
   "codemirror_mode": {
    "name": "ipython",
    "version": 3
   },
   "file_extension": ".py",
   "mimetype": "text/x-python",
   "name": "python",
   "nbconvert_exporter": "python",
   "pygments_lexer": "ipython3",
   "version": "3.6.4"
  }
 },
 "nbformat": 4,
 "nbformat_minor": 2
}
