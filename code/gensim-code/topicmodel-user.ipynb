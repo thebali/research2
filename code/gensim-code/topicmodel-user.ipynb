{
 "cells": [
  {
   "cell_type": "code",
   "execution_count": null,
   "metadata": {},
   "outputs": [],
   "source": [
    "from time import time\n",
    "\n",
    "from sklearn.feature_extraction.text import TfidfVectorizer, CountVectorizer\n",
    "from sklearn.decomposition import NMF, LatentDirichletAllocation\n",
    "from sklearn.datasets import fetch_20newsgroups\n",
    "\n",
    "n_samples = 30\n",
    "n_features = 50\n",
    "n_components = 5\n",
    "n_top_words = 4"
   ]
  },
  {
   "cell_type": "code",
   "execution_count": null,
   "metadata": {},
   "outputs": [],
   "source": [
    "%time\n",
    "# dataset = fetch_20newsgroups(shuffle=True, random_state=1, remove=(\"headers\", \"footers\", \"quotes\"))\n",
    "# datasamples = dataset.data[:n_samples]\n",
    "\n",
    "\n",
    "## own data from the amazon reviews\n",
    "\n",
    "import pandas as pd\n",
    "\n",
    "# location of the data\n",
    "datafile = \"../data/digitalmusic/reviews/complete_reviews.csv\"\n",
    "\n",
    "data = pd.read_csv(datafile, dtype={\"asin\": str, \"helpful\": str, \"reviewText\": str, \"reviewerID\": str})\n",
    "\n",
    "# data.head"
   ]
  },
  {
   "cell_type": "code",
   "execution_count": null,
   "metadata": {},
   "outputs": [],
   "source": [
    "## moulding the data to fit the LDA. \n",
    "# we will not find all the reviews for the item specific B00LOMZDM8\n",
    "\n",
    "user_id1 = \"B00LOMZDM8\"\n",
    "\n",
    "# for rows\n",
    "row_data = data.loc[data['reviewerID'] == user_id1]\n",
    "# for columns\n",
    "review_data = row_data.iloc[:,3]\n",
    "## found -- reviews for this user\n",
    "\n",
    "# datatext = \"\"\n",
    "datatext = review_data.tolist()\n",
    "\n",
    "#ratings on the same product\n",
    "rating_data = row_data.iloc[:,2]\n",
    "\n",
    "rating_data = rating_data.tolist()\n",
    "\n",
    "\n",
    "# for review in data:\n",
    "#     datatext += review+\". \"\n",
    "\n",
    "print(datatext)\n",
    "\n",
    "print(rating_data)\n",
    "data.count()"
   ]
  },
  {
   "cell_type": "code",
   "execution_count": null,
   "metadata": {},
   "outputs": [],
   "source": [
    "# tfidf vectorizer \n",
    "\n",
    "%time\n",
    "tfidf_vectorizer = TfidfVectorizer(max_df=0.95, min_df=2, max_features=n_features, stop_words='english')\n",
    "tfidf = tfidf_vectorizer.fit_transform(datatext)"
   ]
  },
  {
   "cell_type": "code",
   "execution_count": null,
   "metadata": {},
   "outputs": [],
   "source": [
    "# tf vectorizer used for LDA - topiuc Modelling\n",
    "\n",
    "%time\n",
    "tf_vectorizer = CountVectorizer(max_df=0.95, min_df=2, max_features=n_features, stop_words='english')\n",
    "tf = tf_vectorizer.fit_transform(datatext)"
   ]
  },
  {
   "cell_type": "code",
   "execution_count": null,
   "metadata": {},
   "outputs": [],
   "source": [
    "lda = LatentDirichletAllocation(n_components=n_components, max_iter=25, learning_method='online', learning_offset=50, random_state=0)\n",
    "\n",
    "lda.fit(tf)"
   ]
  },
  {
   "cell_type": "code",
   "execution_count": null,
   "metadata": {},
   "outputs": [],
   "source": [
    "# using visualisation for the lda\n",
    "import pyLDAvis\n",
    "import pyLDAvis.sklearn\n",
    "\n",
    "tree = pyLDAvis.sklearn.prepare(lda, tf, tf_vectorizer) # there are different variations of this function.\n",
    "\n",
    "pyLDAvis.display(tree)\n",
    "\n"
   ]
  },
  {
   "cell_type": "code",
   "execution_count": null,
   "metadata": {},
   "outputs": [],
   "source": [
    "\n",
    "def print_top_words(model, feature_names, n_top_words):\n",
    "    for topic_idx, topic in enumerate(model.components_):\n",
    "        message = \"Topic #%d: \" % topic_idx\n",
    "        message += \" \".join([feature_names[i] for i in topic.argsort()[:-n_top_words - 1:-1]])\n",
    "        print(message)\n",
    "    print()"
   ]
  },
  {
   "cell_type": "code",
   "execution_count": null,
   "metadata": {},
   "outputs": [],
   "source": [
    "tf_feature_names = tf_vectorizer.get_feature_names()\n",
    "\n",
    "print_top_words(lda, tf_feature_names, n_top_words)"
   ]
  },
  {
   "cell_type": "code",
   "execution_count": null,
   "metadata": {},
   "outputs": [],
   "source": []
  },
  {
   "cell_type": "code",
   "execution_count": null,
   "metadata": {},
   "outputs": [],
   "source": []
  }
 ],
 "metadata": {
  "kernelspec": {
   "display_name": "Python 3",
   "language": "python",
   "name": "python3"
  },
  "language_info": {
   "codemirror_mode": {
    "name": "ipython",
    "version": 3
   },
   "file_extension": ".py",
   "mimetype": "text/x-python",
   "name": "python",
   "nbconvert_exporter": "python",
   "pygments_lexer": "ipython3",
   "version": "3.6.4"
  }
 },
 "nbformat": 4,
 "nbformat_minor": 1
}
