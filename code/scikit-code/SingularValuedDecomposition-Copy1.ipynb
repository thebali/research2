{
 "cells": [
  {
   "cell_type": "code",
   "execution_count": 6,
   "metadata": {},
   "outputs": [],
   "source": [
    "# implementation of SVD - singular valued decomposition aka LSA\n",
    "from time import time\n",
    "\n",
    "from sklearn.decomposition import TruncatedSVD\n",
    "from sklearn.model_selection import train_test_split\n",
    "from scipy.sparse import csr_matrix\n",
    "\n",
    "n_components = 10\n",
    "\n"
   ]
  },
  {
   "cell_type": "code",
   "execution_count": 7,
   "metadata": {},
   "outputs": [
    {
     "data": {
      "text/plain": [
       "(38609, 18534)"
      ]
     },
     "execution_count": 7,
     "metadata": {},
     "output_type": "execute_result"
    }
   ],
   "source": [
    "import pandas as pd\n",
    "import numpy as np\n",
    "\n",
    "# folder location for the data csv file\n",
    "ratingdata = \"../data/amazon5core/healthcare/healthcare5core.csv\"\n",
    "\n",
    "# loading data using pandas to read csv\n",
    "data = pd.read_csv(ratingdata, dtype={\"asin\": str, \"overall\": int, \"reviewerID\": str})\n",
    "\n",
    "# print(data.head())\n",
    "\n",
    "# data spliting to training, testing set 90-10\n",
    "datamatrix, test = train_test_split(data, test_size=0.1, random_state=24)\n",
    "\n",
    "# get sorted unique lists of the users and items\n",
    "user_u = list(sorted(datamatrix.reviewerID.unique()))\n",
    "item_u = list(sorted(datamatrix.asin.unique()))\n",
    "\n",
    "# handling types of the rows and columns ratingmatrix\n",
    "row = datamatrix.reviewerID.astype(pd.api.types.CategoricalDtype(categories=user_u)).cat.codes\n",
    "# col = datamatrix.asin.astype('category', categories=item_u).cat.codes ----- old way doing this\n",
    "col = datamatrix.asin.astype(pd.api.types.CategoricalDtype(categories=item_u)).cat.codes\n",
    "\n",
    "# create an ratings list from the training set\n",
    "ratings = datamatrix['overall'].tolist()\n",
    "\n",
    "# creating sparse matrix -- Compressed Sparse Row matrix\n",
    "ratingmatrix = csr_matrix((ratings, (row, col)), shape=(len(user_u), len(item_u)))\n",
    "ratingmatrix.shape\n",
    "##ratingmatrix = datamatrix.pivot(index='asin', columns='reviewerID', values='overall')\n",
    "\n",
    "##ratingmatrix.shape"
   ]
  },
  {
   "cell_type": "code",
   "execution_count": 9,
   "metadata": {},
   "outputs": [
    {
     "name": "stdout",
     "output_type": "stream",
     "text": [
      "[0.00990333 0.00358035 0.0026001  0.00273766 0.00261462 0.00222692\n",
      " 0.00224473 0.00212274 0.002072   0.00173081]\n",
      "here is the data\n",
      "(38609, 10)\n",
      "3.183326437661223\n",
      "[250.96163967 151.52432958 132.15743844 129.02535011 126.25615215\n",
      " 119.79066594 117.42605077 113.79068223 112.70538395 105.91276096]\n",
      "(10, 18534)\n"
     ]
    }
   ],
   "source": [
    "svd = TruncatedSVD(n_components=n_components, n_iter=100, random_state=42)\n",
    "svd.fit(ratingmatrix)\n",
    "\n",
    "\n",
    "\"\"\"\n",
    "true ,matrix factorization\n",
    "\n",
    "R = X * Y\n",
    "\n",
    "\"\"\"\n",
    "\n",
    "\n",
    "print(svd.explained_variance_ratio_)\n",
    "print(\"here is the data\")\n",
    "\n",
    "X = svd.fit_transform(ratingmatrix)\n",
    "\n",
    "print(ff.shape)\n",
    "\n",
    "print(svd.explained_variance_ratio_.sum()*100)  \n",
    "\n",
    "print(svd.singular_values_)\n",
    "\n",
    "Y = svd.components_\n",
    "\n",
    "print(Y.shape)"
   ]
  },
  {
   "cell_type": "code",
   "execution_count": 12,
   "metadata": {},
   "outputs": [
    {
     "name": "stdout",
     "output_type": "stream",
     "text": [
      "27280 A10103MJIKKIFE\n"
     ]
    }
   ],
   "source": [
    "## matrix multiplication\n",
    "\n",
    "print(row[34], user_u[34])\n",
    "\n",
    "\n"
   ]
  }
 ],
 "metadata": {
  "kernelspec": {
   "display_name": "Python [conda env:Anaconda3]",
   "language": "python",
   "name": "conda-env-Anaconda3-py"
  },
  "language_info": {
   "codemirror_mode": {
    "name": "ipython",
    "version": 3
   },
   "file_extension": ".py",
   "mimetype": "text/x-python",
   "name": "python",
   "nbconvert_exporter": "python",
   "pygments_lexer": "ipython3",
   "version": "3.6.4"
  }
 },
 "nbformat": 4,
 "nbformat_minor": 2
}
