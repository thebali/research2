{
 "cells": [
  {
   "cell_type": "code",
   "execution_count": 23,
   "metadata": {},
   "outputs": [],
   "source": [
    "from time import time\n",
    "\n",
    "from sklearn.feature_extraction.text import TfidfVectorizer, CountVectorizer\n",
    "from sklearn.decomposition import NMF, LatentDirichletAllocation\n",
    "# from sklearn.datasets import fetch_20newsgroups\n",
    "\n",
    "#not required in my case ...n_samples = 30\n",
    "n_features = 50\n",
    "n_components = 6 # topics\n",
    "n_top_words = 8 # words in each topic"
   ]
  },
  {
   "cell_type": "code",
   "execution_count": 24,
   "metadata": {},
   "outputs": [
    {
     "name": "stdout",
     "output_type": "stream",
     "text": [
      "Wall time: 0 ns\n"
     ]
    },
    {
     "data": {
      "text/plain": [
       "<bound method NDFrame.head of               asin      reviewerID  overall  \\\n",
       "0       B002T3DBKW  A339O8ZW72WHZ0        5   \n",
       "1       B001J5H92C   A8QC2O7KA1V8D        5   \n",
       "2       B00EDR6YB0  A2PZ39BYJ4C1LS        5   \n",
       "3       B004OZGG0K   A4P3D4248880B        4   \n",
       "4       B000BABW5Q  A26MQ4YGVS5CC2        5   \n",
       "5       B008BQI8YA   AUP0UHW4TVP1D        3   \n",
       "6       B003V32UDI  A19DW3VKM5KKYB        5   \n",
       "7       B00K5NEORM   AX0ZTNX6KVJ40        5   \n",
       "8       B0014YTACK  A2F69JAZ214QDS        4   \n",
       "9       B00GBQ3K54   AJOZL929DDQPL        4   \n",
       "10      B000NL0T1G  A1R4U9YQRE685X        5   \n",
       "11      B004H4B3VK  A10FYJ0D5Q623M        4   \n",
       "12      B00C7DIFUA  A3VJ27010XUWTF        5   \n",
       "13      B00DP5VX58  A2QRXQPHDMFCQV        4   \n",
       "14      B0014ATBRI  A297R44X7WEQ8T        4   \n",
       "15      B0051U7R0A   AULDDIOHU5I60        2   \n",
       "16      B0013ITH7U  A31CUOIOLF6VVJ        4   \n",
       "17      B007P7AMAO  A32NEDX6UVV8DE        5   \n",
       "18      B00028LZ90  A1KVXT3C21ZEFL        5   \n",
       "19      B003X5FYJQ   AK7CAW3N1XZV6        3   \n",
       "20      B00I5H5Z78  A313EYUCFJMD6U        5   \n",
       "21      B000050FDY   AB8AYATYO2EQ0        5   \n",
       "22      B004FPRBI0   APUA72SOOROK2        5   \n",
       "23      B0002SKUWI  A2SDKX7SSZ2P99        5   \n",
       "24      B0073V0RDY  A25ICSI9P69P2E        2   \n",
       "25      B001BHAFCY   A3BULP9RSPNFR        5   \n",
       "26      B008PEHKAG  A3FZZH8QE3B51H        5   \n",
       "27      B002PBT6VG   AN0U0GNJJPEUR        4   \n",
       "28      B000HCMK90  A14JNK14Q9GDHG        5   \n",
       "29      B008HPRQ3Y   ALJ6O9L416C96        5   \n",
       "...            ...             ...      ...   \n",
       "346325  B00HHMHKMK   AO5G9BBIDKYE5        4   \n",
       "346326  B0032TNPOE  A3TAS1AG6FMBQW        5   \n",
       "346327  B008BQI8YA  A3D5B2CBFNJB0K        5   \n",
       "346328  B00008BFXG   AQJ6FUQ7BLW3A        5   \n",
       "346329  B000G647Y8  A1MTNIU2B9A3NF        5   \n",
       "346330  B0085RZLQ8  A319RDF9F8K4DL        4   \n",
       "346331  B00005NAUM   A4DR01N5AY3FR        4   \n",
       "346332  B002GKEK7G  A30ARH5ZXHDMUI        1   \n",
       "346333  B001KXZ808   APFGJ7E099M9E        5   \n",
       "346334  B004LTA3CG   AS601QL76Q5ES        5   \n",
       "346335  B00012NHUM  A2B3CKPQDHQLXG        2   \n",
       "346336  B005NH4QA0  A1K74YNY7O9O5P        5   \n",
       "346337  B002IXHQ9K  A2EX6ZY8KDI4UC        5   \n",
       "346338  B004Y9GYZS  A1IO9HRIA7ZJGU        5   \n",
       "346339  B0013OSH2K  A157SBZF3WHPB8        5   \n",
       "346340  B0009F3RNS   AXXNZT61J4W4V        5   \n",
       "346341  B007TC11SC   A57Q87B0TC9IJ        1   \n",
       "346342  B000ELVUCC  A1P28UWVW8H4QD        5   \n",
       "346343  B003TPSD7K  A1FVP6G8W3O8ZA        3   \n",
       "346344  B0014WRV32  A1FAF3Z9HCGRTN        5   \n",
       "346345  B001TH8Q72  A2YQ2ZI65F37N8        4   \n",
       "346346  B007TC11SC  A1X3ESYZ79H59E        5   \n",
       "346347  B000T9VTXO  A23RZIU0N8K2KR        3   \n",
       "346348  B004VYRUU4  A1JQ00PT7BOTR2        5   \n",
       "346349  B003LNRKII   AUD70I5FCV5CS        1   \n",
       "346350  B0077PLNNE    AFK893ELKDPY        5   \n",
       "346351  B00HKH0I12  A23OEXX9JTOJZY        5   \n",
       "346352  B004ASER98   A9KPIZFL3O89P        5   \n",
       "346353  B007762NQE  A3JZV00SVBTWRY        3   \n",
       "346354  B001EPQ3H4  A1PG70NH85K859        5   \n",
       "\n",
       "                                               reviewText  \n",
       "0       This is a life saver. I have a bad ankle from ...  \n",
       "1       recieved shipment in 3 days.  I like design an...  \n",
       "2       These do the job they were meant to do, as goo...  \n",
       "3       Miralax was prescribed by my urogynecologist. ...  \n",
       "4       I'd read over a few of the reviews here first,...  \n",
       "5       At first appearance, this detergent seems to w...  \n",
       "6       Having previously used Norelco's Arcitec 1090 ...  \n",
       "7       I take whole food vitamins all the time so che...  \n",
       "8       I've used Lysol Neutra Air Citrus Scent for qu...  \n",
       "9       I feel good that I'm taking Omega-3 fatty acid...  \n",
       "10      I got this razor in a Col.Conk set. Before thi...  \n",
       "11      Pleased wi this purchase. It's easy to use and...  \n",
       "12      I love, love, love dark chocolate so much that...  \n",
       "13      Currently they are priced at 6 cents a piece, ...  \n",
       "14      This MSM with glucosamine creme is very thick ...  \n",
       "15      Sorta works...I bought them to muffle my husba...  \n",
       "16      Always is my favorite feminine product. I pref...  \n",
       "17      This is an excellent supplement that really cu...  \n",
       "18      I've been feeling tired, sluggish, fatigued fo...  \n",
       "19      I exercise daily.  I don't usually use supplem...  \n",
       "20      I received the Gillette Body Free Shave Gel, f...  \n",
       "21      Not really much to say. They do a good job of ...  \n",
       "22      This stool works very well. I really like it f...  \n",
       "23      Works like a charm. Take two of these and ever...  \n",
       "24      Disappointed after all the great reviews. I di...  \n",
       "25      This made a big difference on my feet. I reall...  \n",
       "26      Good packaging for what it is. The rolls come ...  \n",
       "27      I've used Woolite for years, but this bottle h...  \n",
       "28      I was given anti-biotics for a UTI while pregn...  \n",
       "29      Works just like it should, easy to read, very ...  \n",
       "...                                                   ...  \n",
       "346325  *I received this product for free as a part of...  \n",
       "346326  After years of unreliable scales, I am very im...  \n",
       "346327  I've done the Tide Pods and these and they see...  \n",
       "346328  I've used the Sonicare Advance toothbrush for ...  \n",
       "346329  I have been updating my grooming habits recent...  \n",
       "346330  The toothbrush replacement heads are expensive...  \n",
       "346331  This seems to take the edge off my snoring eno...  \n",
       "346332  This is the nastiest protein shake I have ever...  \n",
       "346333  Very stylish and works great, I do believe tha...  \n",
       "346334  I get a very dry nose and have had to have it ...  \n",
       "346335  And still pretty upset.. I'm hardly ever norma...  \n",
       "346336  I do a lot of washing and I am very pleased ho...  \n",
       "346337  I had my nurse run the dwasher with no soap bu...  \n",
       "346338  I have been looking for this color locally, bu...  \n",
       "346339  I find this far more helpful than melatonin, w...  \n",
       "346340  If you want a vitamin that gives you energy an...  \n",
       "346341  I don't consider myself to have large hands, j...  \n",
       "346342  This is a good mineral supplement and you get ...  \n",
       "346343  Summary.  Stress free wakeups, horrible design...  \n",
       "346344  Works great, and as advertised.  I always chec...  \n",
       "346345  The razor is good and I liked it.  The battery...  \n",
       "346346  I have small hands and this wrist splint fits ...  \n",
       "346347  I took this to a friend who is a nurse in a bi...  \n",
       "346348  I've used this mouthwash for about a week and ...  \n",
       "346349  I purchased this stuff (a 4.0oz container of C...  \n",
       "346350  I've used an epilator before so had a good com...  \n",
       "346351  This is some great dishwasher detergent. Got m...  \n",
       "346352  Can't beat the value of having them all in one...  \n",
       "346353  Well, if you're someone who barely ever sweats...  \n",
       "346354  I got these for my daughter in the Army.  She ...  \n",
       "\n",
       "[346355 rows x 4 columns]>"
      ]
     },
     "execution_count": 24,
     "metadata": {},
     "output_type": "execute_result"
    }
   ],
   "source": [
    "%time\n",
    "# dataset = fetch_20newsgroups(shuffle=True, random_state=1, remove=(\"headers\", \"footers\", \"quotes\"))\n",
    "# datasamples = dataset.data[:n_samples]\n",
    "\n",
    "\n",
    "## own data from the amazon reviews\n",
    "\n",
    "import pandas as pd\n",
    "\n",
    "# location of the data\n",
    "# datafile = \"../data/amazon5core/digitalmusic/digitalmusic5core.csv\"\n",
    "datafile = \"../data/amazon5core/healthcare/healthcare5core.csv\"\n",
    "# datafile = \"../data/amazon5core/cellphone/cellphone5core.csv\"\n",
    "\n",
    "\n",
    "data = pd.read_csv(datafile, dtype={\"asin\": str, \"helpful\": str, \"reviewText\": str, \"reviewerID\": str})\n",
    "\n",
    "data.head"
   ]
  },
  {
   "cell_type": "code",
   "execution_count": 25,
   "metadata": {},
   "outputs": [
    {
     "name": "stdout",
     "output_type": "stream",
     "text": [
      "['Works just like it should, easy to read, very helpful.Definitely recommend this app to keep track of your activity and sleep.', 'What an awesome motivational device.  I find myself going out of my way to walk up stairs and often take the long way home just to achieve higher levels.  I compete with friends and am losing weight while building stamina.', \"It's incentive ~ it's amazing how a little instant feedback can be the incentive you need to walk those extra few blocks.  Fitbit is not just for the athletes out there.  Fitbit is easy to use and is packed with great features that help you accomplish your goals, even if they are as simple as just walking more\", 'I installed the app on my Kindle Fire and on my Android HTC Rezound.  I have never seen stats appear on either, yet they both report \"last synced on...{date}\". Everything is showing as \"0\".  I logged in fine as far as I know. It \"knows\" my name. The circle was spinning forever and I left it alone. Later I saw it had logged in.  Now one of them says it does not have a network connection, but that is absolutely not true.And Customer Support is horrible.  I had a problem with the desktop client screwing up my Windows-7/64 PC.  Customer support is a joke -- it takes 2-3 days to get a stupid non-answer answer.  I am so disgusted with them, that I won\\'t even bother with contacting them on the app issues.  I ended up disabling one part of the desktop software (the software comes in two pieces and I see no need for the 2nd poorly written and highly buggy piece -- once setup has been completed).As a workaround for the useless app, you can use the mobile version of the fitbit website, m.fitbit.com, but it is quite limited -- no daily step count which is the most important stat IMO.  It just shows a % of weekly goal.  Not very useful to me.I may try more with re-installing, etc. but right now I\\'m so angry at this company for what I went thru with fixing up my PC after their faulty software, I don\\'t even care.The device itself and what it does seems good so far.  I\\'ve only had it a week so will see how it goes.', 'And this app helps me keep track without doing anything. Updates from when I synch to my computer so I can look up my stats anytime! A+', 'It works and connects easily with my Fibit Flex.  I love it and it loves me, what more can I say!', 'I love the fact that the computer information on your progress is free.  This gives you plenty of information on what you are achieving each day', 'Terrific motivator.  Keeps me on track.', \"On my computer, this allows me not only to see my steps but I can enter my food, weight, activities, BP, glucose and more. It tells me calories burned and how many more I can eat before going over the limit I set for myself. It works better on a computer than my old android phone or my kindle. On either it doesn't have as many features or look as good.\", \"I got a fitbit and it's alright. I like that it tracks my miles per day. I like knowing how much I've walked everyday. And the sleep tracker is cool.\", 'This is a great app if you have the Fitbit. It is easy to set up and sync your device to.', \"I've been wearing my Fitbit everyday. I'm getting a good understanding of my activity level which I really need to work on. I feel the calorie estimation seems accurate, I can say this as I've been tracking my calorie intake and it lines up well with what the Fitbit says I am expending.I also really like the sleep function. I'm getting a better idea of how much I really sleep and also can tell if a restless night leads to bad day.I believe it is catching most of my steps and it occasionally misses a flight of stairs...I'm not sure if that has something to do with how you travel up them.I also liked that I get a weekly e-mail with a brief synopsis of the week.\", \"No negative comments. I'm getting fit and competing against friends. I recommend this to anyone who wants to get fit/healthy.\", 'This little gadget has been incredible and has added extra motivation in my already active lifestyle.  Although it seems to be a little generous on the steps and distance traveled, it is great to see your progress from day to day and week to week.  My only concern prior to my purchase was that some reviews complained about the wrist band ripping, so I reached out to the Amazon community and received several helpful answers which prompted me to purchase the Fitbit.  This is a great product and worth the money.', \"It's a good idea.  Keeps track nicely.If I could add one feature, it would be the ability to locate the device it is attached to.  Read more to understand what I mean.I have lost my fitbit more than once and have been lucky so far in finding it. Only because it was lost in my home.  What if I lose it out of the home?Since it uses blue tooth why can't that technology be used to locate a lost device.You should be able to make the fitbit emit a signal that would make finding it much easier.The technology is there. Convincing fitbit to implement it is the hard part.\", 'This does everything promised, very easy to wear and track everything throughout the day and night.. lets me know how many of hours I actually sleep and how many times I wake up a night, I have a very busy job on my feet all day and never realized i walk 15,000 + steps each day and log over 6 miles !!!  It is easy to wear, easy to sync with on computer and fun !!!  Well worth the money !! And the fitbit site is awesome to track food with !!', \"Running this on an Atrix 2 4g. Does all that it's supposed to do.Minus 1 star for no sleep logging,  that I could find anyway.\", 'I actually love the FITBIT app, yet on the kindle fire it does not rotate like the other apps so I have to turn my kindle upside down', \"Fitbit One is excellent if you're looking for something to keep you accountable.  It tracks the number of steps you take, miles you walk/run, stairs climbed, calories burned, hrs. of sleep, and very active minutes in your day.It was simple to install on both my laptop and my mobile phone.  The graphs on the Fitbit Dashboard are easy to read and informative.  The Fitbit syncs effortlessly with both the phone app and my computer.  It also can link with many different fitness apps.At first, the number of steps did not match with my actual steps.  I had a bit of a problem figuring out the length of my stride.  I finally got it right by counting my steps as I walked through my tiled kitchen and dividing the number by 12&#34; (1' square tiles).  Now it seems pretty accurate.Some people have complained that they lost their Fitbits.  I don't know how this could happen unless they stuck them in a pocket without the rubber case.  I always clip mine to my clothing and have never had a problem.  I don't see how it could fall out of the clip case because it's very snug.I took away one star because it does not seem to accurately record my Very Active Minutes.  I walked 1 mile at 6 mph and it did not show it as active.  Maybe if I could fly they'd register.  I did a 45 min. low impact aerobics workout and registered only 4 mins.  I've done the same workout several days in a row and NEVER gotten any very active mins. again.I also don't trust the amount of calories burned that the Fitbit gives me.  It doesn't match what my h.r. monitor or the MFP app tells me.  The Fitbit app tells me how many calories I can eat taking into account calories burned.  After a 45 min. aerobic workout, it told me I could eat 904 calories today (NOT extra cals).  Huh?  I need to lose weight but, I'm not going to do it by starving myself (my usual amount is 1200 calories w/o any exercise).  It updates the amount of calories to eat throughout the day but, that does not help when planning a daily menu.  It should start with my total daily calories and add on exercise cals as they are burned.Overall, I think this is a great device to help you realize how active you are.  I don't think it's 100% accurate (what is?) but, it's close enough to help me get where I want to go.I would recommend this to anyone who wants to be aware of their daily activity levels.  I would buy this again.\", 'I have gone from the Fitbit One, to the Fitbit Flex and will undoubtedly be using their new product sooner or later.  I love the motivation you get from the app and the tools and I think it is really great.  For anyone who is dealing with trying to begin an exercise program, sleep apnea, or just trying to eat better in general, I highly recommend this product.', 'Love this app for tracking my steps per day. It seems to be very accurate and helps me meet my personal fitness goals.']\n",
      "[5, 5, 5, 1, 5, 5, 5, 5, 5, 4, 5, 5, 5, 5, 4, 5, 4, 4, 4, 5, 5]\n"
     ]
    },
    {
     "data": {
      "text/plain": [
       "asin          346355\n",
       "reviewerID    346355\n",
       "overall       346355\n",
       "reviewText    346307\n",
       "dtype: int64"
      ]
     },
     "execution_count": 25,
     "metadata": {},
     "output_type": "execute_result"
    }
   ],
   "source": [
    "## moulding the data to fit the LDA. \n",
    "# we will not find all the reviews for the item specific B00LOMZDM8\n",
    "\n",
    "item_id1 = \"B008HPRQ3Y\"\n",
    "\n",
    "# for rows\n",
    "row_data = data.loc[data['asin'] == item_id1]\n",
    "# for columns\n",
    "review_data = row_data.iloc[:,3]\n",
    "## found 15 reviews for the item specific B00LOMZDM8\n",
    "\n",
    "# datatext = \"\"\n",
    "datatext = review_data.tolist()\n",
    "\n",
    "#ratings on the same product\n",
    "rating_data = row_data.iloc[:,2]\n",
    "\n",
    "rating_data = rating_data.tolist()\n",
    "\n",
    "\n",
    "# for review in data:\n",
    "#     datatext += review+\". \"\n",
    "\n",
    "print(datatext)\n",
    "\n",
    "print(rating_data)\n",
    "data.count()"
   ]
  },
  {
   "cell_type": "code",
   "execution_count": 26,
   "metadata": {},
   "outputs": [
    {
     "name": "stdout",
     "output_type": "stream",
     "text": [
      "Wall time: 0 ns\n"
     ]
    }
   ],
   "source": [
    "# tfidf vectorizer \n",
    "\n",
    "%time\n",
    "\n",
    "# max_features is the key for the matrix vectorizer\n",
    "tfidf_vectorizer = TfidfVectorizer(max_df=0.95, min_df=2, max_features=n_features, stop_words='english')\n",
    "tfidf = tfidf_vectorizer.fit_transform(datatext)"
   ]
  },
  {
   "cell_type": "code",
   "execution_count": 27,
   "metadata": {},
   "outputs": [
    {
     "name": "stdout",
     "output_type": "stream",
     "text": [
      "Wall time: 0 ns\n"
     ]
    }
   ],
   "source": [
    "# tf vectorizer used for LDA - topic Modelling\n",
    "\n",
    "%time\n",
    "tf_vectorizer = CountVectorizer(max_df=0.95, min_df=2, max_features=n_features, stop_words='english')\n",
    "tf = tf_vectorizer.fit_transform(datatext)"
   ]
  },
  {
   "cell_type": "code",
   "execution_count": 28,
   "metadata": {},
   "outputs": [
    {
     "data": {
      "text/plain": [
       "LatentDirichletAllocation(batch_size=128, doc_topic_prior=None,\n",
       "             evaluate_every=-1, learning_decay=0.7,\n",
       "             learning_method='online', learning_offset=50,\n",
       "             max_doc_update_iter=100, max_iter=25, mean_change_tol=0.001,\n",
       "             n_components=6, n_jobs=1, n_topics=None, perp_tol=0.1,\n",
       "             random_state=0, topic_word_prior=None,\n",
       "             total_samples=1000000.0, verbose=0)"
      ]
     },
     "execution_count": 28,
     "metadata": {},
     "output_type": "execute_result"
    }
   ],
   "source": [
    "lda = LatentDirichletAllocation(n_components=n_components, max_iter=25, learning_method='online', learning_offset=50, random_state=0)\n",
    "\n",
    "lda.fit(tf)"
   ]
  },
  {
   "cell_type": "code",
   "execution_count": 29,
   "metadata": {},
   "outputs": [
    {
     "data": {
      "text/html": [
       "\n",
       "<link rel=\"stylesheet\" type=\"text/css\" href=\"https://cdn.rawgit.com/bmabey/pyLDAvis/files/ldavis.v1.0.0.css\">\n",
       "\n",
       "\n",
       "<div id=\"ldavis_el1206821565511767441461978672\"></div>\n",
       "<script type=\"text/javascript\">\n",
       "\n",
       "var ldavis_el1206821565511767441461978672_data = {\"mdsDat\": {\"Freq\": [35.28920335228987, 33.42273943342827, 16.883774248704917, 5.983692628157587, 5.5876170874782805, 2.832973249941066], \"cluster\": [1, 1, 1, 1, 1, 1], \"topics\": [1, 2, 3, 4, 5, 6], \"x\": [0.06090008915564205, -0.0420658463919259, -0.0804148279624852, 0.053191031157012264, -0.0021302659638196635, 0.010519820005576464], \"y\": [-0.032319896856834236, 0.04063548822396217, -0.05664201252584607, -0.018152745939940467, 0.04829947286859255, 0.018179694230066105]}, \"tinfo\": {\"Category\": [\"Default\", \"Default\", \"Default\", \"Default\", \"Default\", \"Default\", \"Default\", \"Default\", \"Default\", \"Default\", \"Default\", \"Default\", \"Default\", \"Default\", \"Default\", \"Default\", \"Default\", \"Default\", \"Default\", \"Default\", \"Default\", \"Default\", \"Default\", \"Default\", \"Default\", \"Default\", \"Default\", \"Default\", \"Default\", \"Default\", \"Topic1\", \"Topic1\", \"Topic1\", \"Topic1\", \"Topic1\", \"Topic1\", \"Topic1\", \"Topic1\", \"Topic1\", \"Topic1\", \"Topic1\", \"Topic1\", \"Topic1\", \"Topic1\", \"Topic1\", \"Topic1\", \"Topic1\", \"Topic1\", \"Topic1\", \"Topic1\", \"Topic1\", \"Topic1\", \"Topic1\", \"Topic1\", \"Topic1\", \"Topic1\", \"Topic1\", \"Topic1\", \"Topic1\", \"Topic1\", \"Topic1\", \"Topic1\", \"Topic1\", \"Topic1\", \"Topic1\", \"Topic2\", \"Topic2\", \"Topic2\", \"Topic2\", \"Topic2\", \"Topic2\", \"Topic2\", \"Topic2\", \"Topic2\", \"Topic2\", \"Topic2\", \"Topic2\", \"Topic2\", \"Topic2\", \"Topic2\", \"Topic2\", \"Topic2\", \"Topic2\", \"Topic2\", \"Topic2\", \"Topic2\", \"Topic2\", \"Topic2\", \"Topic2\", \"Topic2\", \"Topic2\", \"Topic2\", \"Topic2\", \"Topic2\", \"Topic2\", \"Topic2\", \"Topic2\", \"Topic2\", \"Topic2\", \"Topic2\", \"Topic2\", \"Topic2\", \"Topic3\", \"Topic3\", \"Topic3\", \"Topic3\", \"Topic3\", \"Topic3\", \"Topic3\", \"Topic3\", \"Topic3\", \"Topic3\", \"Topic3\", \"Topic3\", \"Topic3\", \"Topic3\", \"Topic3\", \"Topic3\", \"Topic3\", \"Topic3\", \"Topic3\", \"Topic3\", \"Topic3\", \"Topic3\", \"Topic3\", \"Topic3\", \"Topic3\", \"Topic3\", \"Topic3\", \"Topic3\", \"Topic3\", \"Topic3\", \"Topic3\", \"Topic3\", \"Topic3\", \"Topic3\", \"Topic3\", \"Topic3\", \"Topic3\", \"Topic4\", \"Topic4\", \"Topic4\", \"Topic4\", \"Topic4\", \"Topic4\", \"Topic4\", \"Topic4\", \"Topic4\", \"Topic4\", \"Topic4\", \"Topic4\", \"Topic4\", \"Topic4\", \"Topic4\", \"Topic4\", \"Topic4\", \"Topic4\", \"Topic4\", \"Topic4\", \"Topic4\", \"Topic4\", \"Topic4\", \"Topic4\", \"Topic4\", \"Topic4\", \"Topic4\", \"Topic4\", \"Topic4\", \"Topic4\", \"Topic4\", \"Topic4\", \"Topic4\", \"Topic4\", \"Topic4\", \"Topic4\", \"Topic4\", \"Topic4\", \"Topic4\", \"Topic4\", \"Topic5\", \"Topic5\", \"Topic5\", \"Topic5\", \"Topic5\", \"Topic5\", \"Topic5\", \"Topic5\", \"Topic5\", \"Topic5\", \"Topic5\", \"Topic5\", \"Topic5\", \"Topic5\", \"Topic5\", \"Topic5\", \"Topic5\", \"Topic5\", \"Topic5\", \"Topic5\", \"Topic5\", \"Topic5\", \"Topic5\", \"Topic5\", \"Topic5\", \"Topic5\", \"Topic5\", \"Topic5\", \"Topic5\", \"Topic5\", \"Topic5\", \"Topic5\", \"Topic5\", \"Topic5\", \"Topic5\", \"Topic5\", \"Topic5\", \"Topic5\", \"Topic6\", \"Topic6\", \"Topic6\", \"Topic6\", \"Topic6\", \"Topic6\", \"Topic6\", \"Topic6\", \"Topic6\", \"Topic6\", \"Topic6\", \"Topic6\", \"Topic6\", \"Topic6\", \"Topic6\", \"Topic6\", \"Topic6\", \"Topic6\", \"Topic6\", \"Topic6\", \"Topic6\", \"Topic6\", \"Topic6\", \"Topic6\", \"Topic6\", \"Topic6\", \"Topic6\", \"Topic6\", \"Topic6\", \"Topic6\", \"Topic6\", \"Topic6\", \"Topic6\", \"Topic6\", \"Topic6\", \"Topic6\", \"Topic6\", \"Topic6\", \"Topic6\", \"Topic6\"], \"Freq\": [4.0, 16.0, 3.0, 5.0, 9.0, 8.0, 5.0, 2.0, 5.0, 3.0, 3.0, 3.0, 5.0, 5.0, 3.0, 3.0, 3.0, 3.0, 3.0, 4.0, 7.0, 3.0, 4.0, 3.0, 6.0, 3.0, 4.0, 6.0, 3.0, 3.0, 6.691400111596981, 4.280236933256634, 3.5263092861957044, 3.5310199396300224, 2.7767987145917266, 2.731630039083222, 1.9679965228948348, 2.554885994075898, 1.9565965106182128, 2.674509896454745, 4.15009370342716, 2.013000054179689, 1.9931791749549737, 1.9712395038459716, 2.6336829316843686, 2.0288724819911454, 2.7358832445021504, 4.160658736848168, 1.1121676394200712, 1.1554098593964028, 1.206668681443613, 1.2509020656025283, 1.2040365351190336, 1.1337166221685935, 5.174936529391409, 1.1882319972100945, 1.1947258255142434, 1.1638208934837397, 1.1792397625319557, 2.509675452320909, 1.1987966843066322, 1.241229594140221, 1.2010865187548618, 1.1856082955198566, 1.2121710353842245, 4.030008005524099, 3.2713752754276286, 2.5605158380490005, 2.5912966895410494, 4.066833411880999, 2.502533512327812, 1.8011085768440822, 1.8127880215429841, 5.647933947984292, 2.572029893384431, 1.7788958716996521, 1.8362423698635535, 1.8156870589920644, 2.5934931637777807, 1.8419702262167033, 6.96370591992721, 2.5818208922530257, 1.8738014541239254, 2.587851400594049, 1.8352755054780694, 1.0648508788415794, 1.0666661503938442, 1.0883621319187808, 1.074553137906553, 1.0650940677436362, 1.1088590224901897, 1.1010606968440204, 1.1023366389135294, 1.0925801024890505, 1.0684121094192172, 1.2607420024791764, 1.4018097882724168, 1.26544481886878, 1.297366229991519, 1.2535292661868405, 1.0969242608125032, 1.0958228156302214, 4.731448459501216, 2.5804708585010334, 1.553390528478649, 1.5515577383722603, 1.5468282148566432, 1.9524650918587219, 1.531426982332431, 2.2064824962975567, 1.568775211408924, 1.574505298905159, 0.9357145902497238, 0.9773214627466835, 0.9026550520388741, 0.9149525131948426, 1.586340425357207, 1.531997677823428, 0.9621744855455979, 0.9187893970123182, 0.931578256626648, 0.9605244584015187, 2.2068289816139117, 0.3558805176096842, 0.2932255291483522, 0.31751891737753923, 0.3412318585448428, 0.29656436043483336, 0.2991553297232356, 0.281572146368452, 0.2996597344012306, 0.3231123759904235, 0.3072539524500925, 0.3280609502439851, 0.3047704475609901, 0.3516282538540474, 0.30833483920057164, 0.3095871729588865, 0.311697759836463, 0.606004448696489, 0.9836243369519244, 0.5809003132258548, 0.5899611369900815, 0.5809424868947664, 0.589242313146062, 0.5980838379359318, 0.5761372202830463, 0.6394264855759151, 0.6126838478136941, 0.6420514511898204, 0.5957936635978311, 0.2084474889699615, 0.20110321846296353, 0.21639392071938235, 0.2205350019204303, 0.1936166711708204, 0.18671000114640932, 0.1760788145548697, 0.18330896705012148, 0.18159741150640785, 0.20028530656174368, 0.20143287941444976, 0.1892631253368333, 0.22719806114042126, 0.18915770591636336, 0.1691120355237616, 0.18161915463582928, 0.21439253862763172, 0.20465561874977015, 0.21593724832567307, 0.20086312780259755, 0.2278952952187067, 0.20790849970199418, 0.21087582466263655, 0.19512439806631485, 0.20273538527717092, 0.2089089283465434, 0.19902588584353256, 0.2011080572120088, 1.3503277161799945, 0.9901403226211327, 0.5792704363438456, 0.5650526456023248, 0.5853435604186764, 0.5832998213522468, 1.352308021059712, 0.1794707849706581, 0.2012719900859931, 0.19306474422475978, 0.19261787012451692, 0.19642971095555598, 0.19174065045804622, 0.18619432840746847, 0.1800807079209473, 0.17359276971696477, 0.18608694179422092, 0.21646366178316126, 0.19440865110950295, 0.19478202430257868, 0.1854916567377468, 0.18632388662780078, 0.17000323619092725, 0.17969212030988824, 0.1942347017810582, 0.17298962711450871, 0.195058339590754, 0.1682947604399127, 0.19309908488262098, 0.18510900665123503, 0.20055826531930762, 0.19533736807292768, 0.1900672644770591, 0.20385409293378187, 0.18974269993022375, 0.2003569311449756, 0.19058338377349124, 0.18722142770899866, 0.3675340697681911, 0.3684551004874169, 0.3680551846010057, 0.3609213734525008, 0.3623192176564335, 0.1315855557229753, 0.12658345833836945, 0.12387500731153539, 0.1237771783786264, 0.11764294730662746, 0.11642571058181192, 0.11787686703039675, 0.11252706847129296, 0.1225103571892535, 0.12052076951413311, 0.11291325548953975, 0.10597281576584382, 0.11774425226002654, 0.11815892923458168, 0.11552599872117872, 0.10461271610269401, 0.11170309887896976, 0.10565455567213257, 0.12985395772416689, 0.11959585665402686, 0.13083793203311364, 0.10682357951544004, 0.1228180081539643, 0.12482234351539102, 0.11478844453272372, 0.12020205508972492, 0.1241029389409802, 0.12431597425824442, 0.12243310949994847, 0.13153895883587055, 0.1195575753260351, 0.12204849075510894, 0.11864049284844216, 0.12014828700124458, 0.11877438047233965], \"Term\": [\"device\", \"fitbit\", \"lost\", \"just\", \"day\", \"calories\", \"computer\", \"weight\", \"track\", \"walk\", \"stairs\", \"good\", \"burned\", \"eat\", \"tells\", \"far\", \"phone\", \"read\", \"better\", \"kindle\", \"steps\", \"works\", \"really\", \"little\", \"active\", \"night\", \"week\", \"easy\", \"miles\", \"getting\", \"calories\", \"active\", \"burned\", \"don\", \"help\", \"daily\", \"tells\", \"accurate\", \"phone\", \"eat\", \"steps\", \"think\", \"problem\", \"exercise\", \"love\", \"kindle\", \"does\", \"app\", \"weight\", \"stairs\", \"works\", \"miles\", \"lost\", \"read\", \"fitbit\", \"know\", \"activity\", \"extra\", \"walk\", \"day\", \"recommend\", \"easy\", \"great\", \"like\", \"sleep\", \"just\", \"really\", \"getting\", \"need\", \"sleep\", \"recommend\", \"far\", \"better\", \"app\", \"ve\", \"product\", \"activity\", \"good\", \"great\", \"week\", \"fitbit\", \"easy\", \"device\", \"does\", \"like\", \"stairs\", \"read\", \"night\", \"works\", \"little\", \"know\", \"extra\", \"exercise\", \"problem\", \"walk\", \"accurate\", \"track\", \"love\", \"steps\", \"day\", \"eat\", \"don\", \"day\", \"track\", \"night\", \"little\", \"miles\", \"computer\", \"week\", \"easy\", \"like\", \"great\", \"product\", \"extra\", \"know\", \"walk\", \"sleep\", \"steps\", \"love\", \"ve\", \"active\", \"does\", \"fitbit\", \"better\", \"weight\", \"stairs\", \"getting\", \"works\", \"lost\", \"far\", \"phone\", \"think\", \"problem\", \"recommend\", \"exercise\", \"app\", \"really\", \"burned\", \"calories\", \"weight\", \"computer\", \"better\", \"tells\", \"works\", \"phone\", \"good\", \"kindle\", \"eat\", \"burned\", \"calories\", \"steps\", \"far\", \"stairs\", \"extra\", \"activity\", \"miles\", \"little\", \"read\", \"lost\", \"night\", \"think\", \"walk\", \"know\", \"accurate\", \"problem\", \"product\", \"exercise\", \"daily\", \"recommend\", \"device\", \"need\", \"active\", \"ve\", \"great\", \"really\", \"easy\", \"day\", \"does\", \"fitbit\", \"lost\", \"device\", \"read\", \"far\", \"good\", \"track\", \"fitbit\", \"weight\", \"stairs\", \"tells\", \"little\", \"product\", \"phone\", \"works\", \"night\", \"better\", \"know\", \"kindle\", \"activity\", \"exercise\", \"getting\", \"extra\", \"miles\", \"think\", \"week\", \"problem\", \"really\", \"walk\", \"daily\", \"recommend\", \"eat\", \"ve\", \"computer\", \"does\", \"love\", \"steps\", \"great\", \"burned\", \"weight\", \"stairs\", \"walk\", \"device\", \"just\", \"read\", \"little\", \"night\", \"product\", \"works\", \"tells\", \"phone\", \"better\", \"extra\", \"getting\", \"lost\", \"far\", \"good\", \"think\", \"exercise\", \"miles\", \"activity\", \"know\", \"recommend\", \"week\", \"help\", \"problem\", \"really\", \"daily\", \"kindle\", \"need\", \"eat\", \"like\", \"computer\", \"sleep\", \"ve\", \"steps\", \"active\", \"day\", \"does\"], \"Total\": [4.0, 16.0, 3.0, 5.0, 9.0, 8.0, 5.0, 2.0, 5.0, 3.0, 3.0, 3.0, 5.0, 5.0, 3.0, 3.0, 3.0, 3.0, 3.0, 4.0, 7.0, 3.0, 4.0, 3.0, 6.0, 3.0, 4.0, 6.0, 3.0, 3.0, 8.272441450101343, 6.1291320043368325, 5.124001806328491, 5.384160506784154, 4.652789187275186, 4.61605178378223, 3.4729569183466045, 4.605809422032232, 3.5582951600893633, 5.0378854219851865, 7.8976566967400235, 3.8776724047236395, 3.8619841424404284, 3.870273767980078, 5.35480785436952, 4.288443054803291, 6.805913462747373, 10.628220042035716, 2.897281398793907, 3.308609964651895, 3.4625659423938613, 3.6017003507800105, 3.5106474425810443, 3.367125696940747, 16.004034451456572, 3.6807506945423447, 3.853326485650237, 3.76743121761088, 3.9003872096013836, 9.008315445229695, 4.549009730003602, 6.525133256792805, 5.875949630362068, 5.0655082830029485, 7.376151822212409, 5.3738047216528875, 4.4423223492785135, 3.7387516454546956, 4.5668319802346, 7.376151822212409, 4.549009730003602, 3.3308180767115, 3.403464269374145, 10.628220042035716, 5.162327032214821, 3.587154493259233, 3.853326485650237, 3.8171254851729066, 5.875949630362068, 4.222826139548715, 16.004034451456572, 6.525133256792805, 4.886656608544735, 6.805913462747373, 5.0655082830029485, 3.308609964651895, 3.367125696940747, 3.4886012766906815, 3.4625659423938613, 3.514417181866936, 3.6807506945423447, 3.76743121761088, 3.870273767980078, 3.8619841424404284, 3.9003872096013836, 4.605809422032232, 5.200751713676178, 5.35480785436952, 7.8976566967400235, 9.008315445229695, 5.0378854219851865, 5.384160506784154, 9.008315445229695, 5.200751713676178, 3.4886012766906815, 3.514417181866936, 3.6017003507800105, 5.071722916811369, 4.222826139548715, 6.525133256792805, 5.0655082830029485, 5.875949630362068, 3.587154493259233, 3.76743121761088, 3.6807506945423447, 3.9003872096013836, 7.376151822212409, 7.8976566967400235, 5.35480785436952, 5.162327032214821, 6.1291320043368325, 6.805913462747373, 16.004034451456572, 3.403464269374145, 2.897281398793907, 3.308609964651895, 3.7387516454546956, 3.4625659423938613, 3.5106474425810443, 3.3308180767115, 3.5582951600893633, 3.8776724047236395, 3.8619841424404284, 4.549009730003602, 3.870273767980078, 10.628220042035716, 4.4423223492785135, 5.124001806328491, 8.272441450101343, 2.897281398793907, 5.071722916811369, 3.403464269374145, 3.4729569183466045, 3.4625659423938613, 3.5582951600893633, 3.8171254851729066, 4.288443054803291, 5.0378854219851865, 5.124001806328491, 8.272441450101343, 7.8976566967400235, 3.3308180767115, 3.308609964651895, 3.76743121761088, 3.853326485650237, 3.6017003507800105, 3.514417181866936, 3.367125696940747, 3.5106474425810443, 3.4886012766906815, 3.8776724047236395, 3.9003872096013836, 3.6807506945423447, 4.605809422032232, 3.8619841424404284, 3.587154493259233, 3.870273767980078, 4.61605178378223, 4.549009730003602, 4.886656608544735, 4.5668319802346, 6.1291320043368325, 5.162327032214821, 5.875949630362068, 4.4423223492785135, 6.525133256792805, 9.008315445229695, 6.805913462747373, 16.004034451456572, 3.5106474425810443, 4.886656608544735, 3.367125696940747, 3.3308180767115, 3.8171254851729066, 5.200751713676178, 16.004034451456572, 2.897281398793907, 3.308609964651895, 3.4729569183466045, 3.514417181866936, 3.587154493259233, 3.5582951600893633, 3.4625659423938613, 3.4886012766906815, 3.403464269374145, 3.6807506945423447, 4.288443054803291, 3.853326485650237, 3.870273767980078, 3.7387516454546956, 3.76743121761088, 3.6017003507800105, 3.8776724047236395, 4.222826139548715, 3.8619841424404284, 4.4423223492785135, 3.9003872096013836, 4.61605178378223, 4.549009730003602, 5.0378854219851865, 5.162327032214821, 5.071722916811369, 6.805913462747373, 5.35480785436952, 7.8976566967400235, 5.875949630362068, 5.124001806328491, 2.897281398793907, 3.308609964651895, 3.9003872096013836, 4.886656608544735, 5.3738047216528875, 3.367125696940747, 3.514417181866936, 3.4886012766906815, 3.587154493259233, 3.4625659423938613, 3.4729569183466045, 3.5582951600893633, 3.403464269374145, 3.76743121761088, 3.7387516454546956, 3.5106474425810443, 3.3308180767115, 3.8171254851729066, 3.8776724047236395, 3.870273767980078, 3.6017003507800105, 3.853326485650237, 3.6807506945423447, 4.549009730003602, 4.222826139548715, 4.652789187275186, 3.8619841424404284, 4.4423223492785135, 4.61605178378223, 4.288443054803291, 4.5668319802346, 5.0378854219851865, 5.0655082830029485, 5.071722916811369, 7.376151822212409, 5.162327032214821, 7.8976566967400235, 6.1291320043368325, 9.008315445229695, 6.805913462747373], \"loglift\": [30.0, 29.0, 28.0, 27.0, 26.0, 25.0, 24.0, 23.0, 22.0, 21.0, 20.0, 19.0, 18.0, 17.0, 16.0, 15.0, 14.0, 13.0, 12.0, 11.0, 10.0, 9.0, 8.0, 7.0, 6.0, 5.0, 4.0, 3.0, 2.0, 1.0, 0.8295, 0.6825, 0.6679, 0.6197, 0.5254, 0.517, 0.4736, 0.4523, 0.4435, 0.4084, 0.3982, 0.386, 0.3801, 0.3669, 0.332, 0.2931, 0.1303, 0.1038, 0.0841, -0.0105, -0.0126, -0.0159, -0.0285, -0.047, -0.0874, -0.0891, -0.1294, -0.1331, -0.1546, -0.2364, -0.292, -0.618, -0.546, -0.4106, -0.7642, 0.8082, 0.79, 0.7174, 0.5293, 0.5005, 0.4983, 0.4811, 0.466, 0.4637, 0.3992, 0.3946, 0.3547, 0.3529, 0.2781, 0.2663, 0.2638, 0.1688, 0.1374, 0.129, 0.0807, -0.0378, -0.0536, -0.0689, -0.0742, -0.0979, -0.1039, -0.1342, -0.16, -0.1667, -0.199, -0.1997, -0.2151, -0.3466, -0.7103, -0.8763, -0.4285, -0.496, 1.1349, 1.078, 0.9698, 0.9612, 0.9336, 0.8242, 0.7645, 0.6946, 0.6067, 0.4619, 0.435, 0.4295, 0.3733, 0.3289, 0.242, 0.1388, 0.0623, 0.0527, -0.1051, -0.1793, -0.2025, -0.4791, -0.5118, -0.5649, -0.6151, -0.6787, -0.6838, -0.6918, -0.6956, -0.7062, -0.7524, -0.8506, -0.7627, -1.6299, -0.8889, -1.0276, -1.4998, 1.2515, 1.1759, 1.0482, 1.0434, 1.031, 1.0179, 0.9626, 0.8088, 0.752, 0.6923, 0.2601, 0.2317, 0.0448, 0.0157, -0.0409, -0.0445, -0.1071, -0.1189, -0.1348, -0.1363, -0.1393, -0.1471, -0.1472, -0.1516, -0.1931, -0.2002, -0.2384, -0.243, -0.2534, -0.2852, -0.3031, -0.3078, -0.4758, -0.3959, -0.5112, -0.3092, -0.6554, -0.9479, -0.716, -1.5606, 1.9292, 1.2882, 1.1246, 1.1106, 1.0096, 0.6968, 0.4136, 0.1031, 0.085, -0.0051, -0.0193, -0.0202, -0.0363, -0.0384, -0.0792, -0.0912, -0.1, -0.1016, -0.1021, -0.1046, -0.1189, -0.122, -0.1687, -0.1871, -0.1946, -0.2211, -0.241, -0.2585, -0.2895, -0.3171, -0.339, -0.3898, -0.3994, -0.6235, -0.4555, -0.7896, -0.5439, -0.4248, 1.4991, 1.3689, 1.2032, 0.9582, 0.8671, 0.3217, 0.2401, 0.2259, 0.1972, 0.1817, 0.1683, 0.1564, 0.1545, 0.1379, 0.1292, 0.1269, 0.1161, 0.0851, 0.0729, 0.0523, 0.0249, 0.023, 0.0131, 0.0076, -0.0003, -0.0074, -0.0239, -0.0244, -0.0466, -0.0567, -0.0736, -0.1398, -0.1435, -0.16, -0.4629, -0.2015, -0.6061, -0.3809, -0.7533, -0.4845], \"logprob\": [30.0, 29.0, 28.0, 27.0, 26.0, 25.0, 24.0, 23.0, 22.0, 21.0, 20.0, 19.0, 18.0, 17.0, 16.0, 15.0, 14.0, 13.0, 12.0, 11.0, 10.0, 9.0, 8.0, 7.0, 6.0, 5.0, 4.0, 3.0, 2.0, 1.0, -2.583, -3.0299, -3.2236, -3.2223, -3.4626, -3.479, -3.8068, -3.5459, -3.8127, -3.5001, -3.0607, -3.7842, -3.7941, -3.8052, -3.5155, -3.7764, -3.4774, -3.0582, -4.3775, -4.3394, -4.296, -4.26, -4.2982, -4.3584, -2.84, -4.3114, -4.3059, -4.3322, -4.319, -3.5637, -4.3025, -4.2678, -4.3006, -4.3136, -4.2914, -3.0358, -3.2443, -3.4893, -3.4774, -3.0267, -3.5122, -3.8411, -3.8347, -2.6982, -3.4848, -3.8535, -3.8218, -3.8331, -3.4765, -3.8187, -2.4888, -3.481, -3.8016, -3.4787, -3.8223, -4.3667, -4.365, -4.3448, -4.3576, -4.3665, -4.3262, -4.3332, -4.3321, -4.341, -4.3633, -4.1978, -4.0918, -4.1941, -4.1692, -4.2036, -4.337, -4.338, -2.1924, -2.7987, -3.3062, -3.3074, -3.3104, -3.0775, -3.3204, -2.9552, -3.2963, -3.2927, -3.8131, -3.7696, -3.8491, -3.8355, -3.2852, -3.3201, -3.7852, -3.8313, -3.8175, -3.7869, -2.9551, -4.7798, -4.9734, -4.8939, -4.8218, -4.9621, -4.9534, -5.014, -4.9517, -4.8764, -4.9267, -4.8612, -4.9348, -4.7918, -4.9232, -4.9192, -4.9124, -3.2102, -2.7258, -3.2525, -3.237, -3.2524, -3.2382, -3.2233, -3.2607, -3.1565, -3.1992, -3.1524, -3.2272, -4.2774, -4.3133, -4.24, -4.221, -4.3512, -4.3875, -4.4461, -4.4059, -4.4153, -4.3173, -4.3116, -4.3739, -4.1913, -4.3745, -4.4865, -4.4152, -4.2493, -4.2957, -4.2421, -4.3145, -4.1882, -4.28, -4.2658, -4.3434, -4.3052, -4.2752, -4.3236, -4.3132, -2.3405, -2.6507, -3.1868, -3.2117, -3.1764, -3.1799, -2.339, -4.3586, -4.2439, -4.2856, -4.2879, -4.2683, -4.2924, -4.3218, -4.3552, -4.3919, -4.3224, -4.1712, -4.2786, -4.2767, -4.3256, -4.3211, -4.4128, -4.3573, -4.2795, -4.3954, -4.2753, -4.4229, -4.2854, -4.3276, -4.2475, -4.2739, -4.3012, -4.2312, -4.3029, -4.2485, -4.2985, -4.3163, -2.9625, -2.96, -2.9611, -2.9807, -2.9768, -3.9897, -4.0285, -4.0501, -4.0509, -4.1017, -4.1121, -4.0997, -4.1462, -4.0612, -4.0775, -4.1427, -4.2062, -4.1008, -4.0973, -4.1199, -4.2191, -4.1535, -4.2092, -4.003, -4.0852, -3.9954, -4.1982, -4.0587, -4.0425, -4.1263, -4.0802, -4.0483, -4.0465, -4.0618, -3.9901, -4.0856, -4.0649, -4.0933, -4.0806, -4.0921]}, \"token.table\": {\"Topic\": [1, 2, 1, 3, 1, 2, 1, 2, 2, 4, 1, 4, 1, 4, 1, 2, 3, 4, 1, 2, 1, 2, 3, 1, 2, 5, 1, 2, 3, 1, 2, 1, 2, 3, 1, 2, 4, 1, 2, 1, 2, 3, 2, 5, 1, 2, 3, 5, 2, 2, 4, 5, 1, 2, 3, 1, 2, 2, 1, 2, 4, 1, 2, 3, 1, 2, 3, 2, 3, 1, 5, 1, 2, 3, 1, 3, 1, 2, 2, 3, 1, 4, 1, 2, 2, 3, 1, 2, 5, 2, 1, 2, 1, 2, 3, 1, 2, 1, 2, 3, 4, 1, 4, 1, 2, 2, 3, 5, 1, 2, 3, 1, 2, 3, 2, 3, 1, 4, 1, 2, 4], \"Freq\": [0.6513513098586486, 0.21711710328621622, 0.6526209579382027, 0.16315523948455068, 0.2595160321151072, 0.5190320642302144, 0.37635652857953483, 0.5645347928693023, 0.5876365496170687, 0.29381827480853434, 0.7806398497088209, 0.19515996242720524, 0.8461830817689553, 0.12088329739556504, 0.19717165476159482, 0.19717165476159482, 0.39434330952318963, 0.19717165476159482, 0.6499060540308553, 0.21663535134361844, 0.3330256381717443, 0.11100854605724811, 0.5550427302862405, 0.20463889323661805, 0.4092777864732361, 0.20463889323661805, 0.4407931450231776, 0.4407931450231776, 0.14693104834105922, 0.7429199027331962, 0.18572997568329905, 0.15325357516016677, 0.45976072548050034, 0.30650715032033354, 0.5954879376390909, 0.1984959792130303, 0.1984959792130303, 0.5167593095213555, 0.25837965476067776, 0.2654328486013212, 0.2654328486013212, 0.2654328486013212, 0.6004530880817693, 0.30022654404088467, 0.31242122198411887, 0.43738971077776645, 0.12496848879364755, 0.062484244396823777, 0.8024068685191175, 0.5239544803461982, 0.2619772401730991, 0.2619772401730991, 0.1701852573467995, 0.5105557720403986, 0.340370514693599, 0.6447745382929956, 0.21492484609766518, 0.744351573454584, 0.4663697231002964, 0.2331848615501482, 0.2331848615501482, 0.2716837088376445, 0.2716837088376445, 0.2716837088376445, 0.19741355538899194, 0.3948271107779839, 0.3948271107779839, 0.2845422009542925, 0.569084401908585, 0.2848477428610135, 0.2848477428610135, 0.5602441920585445, 0.18674806401951483, 0.18674806401951483, 0.27764663981095283, 0.5552932796219057, 0.21897017545818045, 0.6569105263745414, 0.2866478340994615, 0.573295668198923, 0.5620669196958276, 0.2810334598479138, 0.5178685168645407, 0.25893425843227036, 0.5575449855193806, 0.2787724927596903, 0.29698920979058346, 0.29698920979058346, 0.29698920979058346, 0.6753224471626279, 0.21982806354630685, 0.6594841906389205, 0.1355720467939147, 0.5422881871756589, 0.2711440935878294, 0.30224173011738237, 0.30224173011738237, 0.5064793461649341, 0.12661983654123352, 0.25323967308246703, 0.12661983654123352, 0.5758781485121774, 0.2879390742560887, 0.5157733277219789, 0.25788666386098946, 0.1922798962639085, 0.5768396887917255, 0.1922798962639085, 0.1937110907076657, 0.5811332721229971, 0.1937110907076657, 0.25638480137006686, 0.25638480137006686, 0.25638480137006686, 0.4736164677179288, 0.4736164677179288, 0.3451511476987649, 0.3451511476987649, 0.2888031640802905, 0.2888031640802905, 0.2888031640802905], \"Term\": [\"accurate\", \"accurate\", \"active\", \"active\", \"activity\", \"activity\", \"app\", \"app\", \"better\", \"better\", \"burned\", \"burned\", \"calories\", \"calories\", \"computer\", \"computer\", \"computer\", \"computer\", \"daily\", \"daily\", \"day\", \"day\", \"day\", \"device\", \"device\", \"device\", \"does\", \"does\", \"does\", \"don\", \"don\", \"easy\", \"easy\", \"easy\", \"eat\", \"eat\", \"eat\", \"exercise\", \"exercise\", \"extra\", \"extra\", \"extra\", \"far\", \"far\", \"fitbit\", \"fitbit\", \"fitbit\", \"fitbit\", \"getting\", \"good\", \"good\", \"good\", \"great\", \"great\", \"great\", \"help\", \"help\", \"just\", \"kindle\", \"kindle\", \"kindle\", \"know\", \"know\", \"know\", \"like\", \"like\", \"like\", \"little\", \"little\", \"lost\", \"lost\", \"love\", \"love\", \"love\", \"miles\", \"miles\", \"need\", \"need\", \"night\", \"night\", \"phone\", \"phone\", \"problem\", \"problem\", \"product\", \"product\", \"read\", \"read\", \"read\", \"really\", \"recommend\", \"recommend\", \"sleep\", \"sleep\", \"sleep\", \"stairs\", \"stairs\", \"steps\", \"steps\", \"steps\", \"steps\", \"tells\", \"tells\", \"think\", \"think\", \"track\", \"track\", \"track\", \"ve\", \"ve\", \"ve\", \"walk\", \"walk\", \"walk\", \"week\", \"week\", \"weight\", \"weight\", \"works\", \"works\", \"works\"]}, \"R\": 30, \"lambda.step\": 0.01, \"plot.opts\": {\"xlab\": \"PC1\", \"ylab\": \"PC2\"}, \"topic.order\": [6, 2, 4, 1, 3, 5]};\n",
       "\n",
       "function LDAvis_load_lib(url, callback){\n",
       "  var s = document.createElement('script');\n",
       "  s.src = url;\n",
       "  s.async = true;\n",
       "  s.onreadystatechange = s.onload = callback;\n",
       "  s.onerror = function(){console.warn(\"failed to load library \" + url);};\n",
       "  document.getElementsByTagName(\"head\")[0].appendChild(s);\n",
       "}\n",
       "\n",
       "if(typeof(LDAvis) !== \"undefined\"){\n",
       "   // already loaded: just create the visualization\n",
       "   !function(LDAvis){\n",
       "       new LDAvis(\"#\" + \"ldavis_el1206821565511767441461978672\", ldavis_el1206821565511767441461978672_data);\n",
       "   }(LDAvis);\n",
       "}else if(typeof define === \"function\" && define.amd){\n",
       "   // require.js is available: use it to load d3/LDAvis\n",
       "   require.config({paths: {d3: \"https://cdnjs.cloudflare.com/ajax/libs/d3/3.5.5/d3.min\"}});\n",
       "   require([\"d3\"], function(d3){\n",
       "      window.d3 = d3;\n",
       "      LDAvis_load_lib(\"https://cdn.rawgit.com/bmabey/pyLDAvis/files/ldavis.v1.0.0.js\", function(){\n",
       "        new LDAvis(\"#\" + \"ldavis_el1206821565511767441461978672\", ldavis_el1206821565511767441461978672_data);\n",
       "      });\n",
       "    });\n",
       "}else{\n",
       "    // require.js not available: dynamically load d3 & LDAvis\n",
       "    LDAvis_load_lib(\"https://cdnjs.cloudflare.com/ajax/libs/d3/3.5.5/d3.min.js\", function(){\n",
       "         LDAvis_load_lib(\"https://cdn.rawgit.com/bmabey/pyLDAvis/files/ldavis.v1.0.0.js\", function(){\n",
       "                 new LDAvis(\"#\" + \"ldavis_el1206821565511767441461978672\", ldavis_el1206821565511767441461978672_data);\n",
       "            })\n",
       "         });\n",
       "}\n",
       "</script>"
      ],
      "text/plain": [
       "<IPython.core.display.HTML object>"
      ]
     },
     "execution_count": 29,
     "metadata": {},
     "output_type": "execute_result"
    }
   ],
   "source": [
    "# using visualisation for the lda\n",
    "import pyLDAvis\n",
    "import pyLDAvis.sklearn\n",
    "\n",
    "tree = pyLDAvis.sklearn.prepare(lda, tf, tf_vectorizer) # there are different variations of this function.\n",
    "\n",
    "pyLDAvis.display(tree)\n"
   ]
  },
  {
   "cell_type": "code",
   "execution_count": 30,
   "metadata": {},
   "outputs": [],
   "source": [
    "def print_top_words(model, feature_names, n_top_words):\n",
    "    for topic_idx, topic in enumerate(model.components_):\n",
    "        message = \"Topic #%d: \" % topic_idx\n",
    "        message += \" \".join([feature_names[i] for i in topic.argsort()[:-n_top_words - 1:-1]])\n",
    "        print(message)\n",
    "    print()"
   ]
  },
  {
   "cell_type": "code",
   "execution_count": 31,
   "metadata": {},
   "outputs": [
    {
     "name": "stdout",
     "output_type": "stream",
     "text": [
      "Topic #0: computer calories eat burned weight good steps tells\n",
      "Topic #1: fitbit app sleep just really great need does\n",
      "Topic #2: fitbit lost device good track read far kindle\n",
      "Topic #3: day track fitbit easy computer sleep great like\n",
      "Topic #4: stairs walk weight just device read sleep help\n",
      "Topic #5: calories fitbit active app steps don burned help\n",
      "\n"
     ]
    }
   ],
   "source": [
    "tf_feature_names = tf_vectorizer.get_feature_names()\n",
    "\n",
    "print_top_words(lda, tf_feature_names, n_top_words)"
   ]
  },
  {
   "cell_type": "code",
   "execution_count": null,
   "metadata": {},
   "outputs": [],
   "source": []
  },
  {
   "cell_type": "code",
   "execution_count": null,
   "metadata": {},
   "outputs": [],
   "source": []
  }
 ],
 "metadata": {
  "kernelspec": {
   "display_name": "Python [conda env:Anaconda3]",
   "language": "python",
   "name": "conda-env-Anaconda3-py"
  },
  "language_info": {
   "codemirror_mode": {
    "name": "ipython",
    "version": 3
   },
   "file_extension": ".py",
   "mimetype": "text/x-python",
   "name": "python",
   "nbconvert_exporter": "python",
   "pygments_lexer": "ipython3",
   "version": "3.6.4"
  }
 },
 "nbformat": 4,
 "nbformat_minor": 1
}
