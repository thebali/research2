{
 "cells": [
  {
   "cell_type": "code",
   "execution_count": 26,
   "metadata": {},
   "outputs": [],
   "source": [
    "from time import time\n",
    "\n",
    "from sklearn.feature_extraction.text import TfidfVectorizer, CountVectorizer\n",
    "from sklearn.decomposition import NMF, LatentDirichletAllocation\n",
    "from sklearn.datasets import fetch_20newsgroups\n",
    "\n",
    "#not required in my case ...n_samples = 30\n",
    "n_features = 50\n",
    "n_components = 4 # topics\n",
    "n_top_words = 20 # words in each topic"
   ]
  },
  {
   "cell_type": "code",
   "execution_count": 27,
   "metadata": {},
   "outputs": [
    {
     "name": "stdout",
     "output_type": "stream",
     "text": [
      "Wall time: 0 ns\n"
     ]
    },
    {
     "name": "stderr",
     "output_type": "stream",
     "text": [
      "C:\\Anaconda3\\lib\\site-packages\\IPython\\core\\interactiveshell.py:2728: DtypeWarning: Columns (2) have mixed types. Specify dtype option on import or set low_memory=False.\n",
      "  interactivity=interactivity, compiler=compiler, result=result)\n"
     ]
    }
   ],
   "source": [
    "%time\n",
    "# dataset = fetch_20newsgroups(shuffle=True, random_state=1, remove=(\"headers\", \"footers\", \"quotes\"))\n",
    "# datasamples = dataset.data[:n_samples]\n",
    "\n",
    "\n",
    "## own data from the amazon reviews\n",
    "\n",
    "import pandas as pd\n",
    "\n",
    "# location of the data\n",
    "datafile = \"../data/digitalmusic/reviews/complete_reviews.csv\"\n",
    "\n",
    "data = pd.read_csv(datafile, dtype={\"asin\": str, \"helpful\": str, \"reviewText\": str, \"reviewerID\": str})\n",
    "\n",
    "# data.head"
   ]
  },
  {
   "cell_type": "code",
   "execution_count": 28,
   "metadata": {},
   "outputs": [
    {
     "name": "stdout",
     "output_type": "stream",
     "text": [
      "['Catchy little tune', 'Awesome song', 'This is an amazing song', \"I love the Yogscast team and I love there music. If your a fan you won't be let down!\", 'Diggy Diggy Hole... nuff said.', \"The Yogscast has done it again- they've somehow managed to turn a silly, lighthearted song into something truly epic. The song has come a long way since the early SOI!\", 'I grew a beard and shrunk down to 3.8ft just by listening to this10/10 no regrets.', 'I just love this song, it has a happy beat, and my kids are easier to get going marching to this tune!', 'Perfect music for Dwarf Fortress', 'We really like this song/tune!  It has a great beat and fun to listen to :)', 'I love the yogscast and this song has got to be there best song yet!!', 'Definitely would dig again', \"It's awesome\", 'I AM DAVE YOGNAUT AND I HAVE THE BALLS!', \"The Yogscast have done it again.  Another amazing song that I already can't get enough of.  Happy dance!\"]\n",
      "[5, 5, 5, 5, 5, 5, 5, 5, 5, 5, 5, 5, 5, 5, 5]\n"
     ]
    },
    {
     "data": {
      "text/plain": [
       "asin          836007\n",
       "helpful       836007\n",
       "overall       836007\n",
       "reviewText    835953\n",
       "reviewerID    836005\n",
       "summary       835981\n",
       "dtype: int64"
      ]
     },
     "execution_count": 28,
     "metadata": {},
     "output_type": "execute_result"
    }
   ],
   "source": [
    "## moulding the data to fit the LDA. \n",
    "# we will not find all the reviews for the item specific B00LOMZDM8\n",
    "\n",
    "item_id1 = \"B00LOMZDM8\"\n",
    "\n",
    "# for rows\n",
    "row_data = data.loc[data['asin'] == item_id1]\n",
    "# for columns\n",
    "review_data = row_data.iloc[:,3]\n",
    "## found 15 reviews for the item specific B00LOMZDM8\n",
    "\n",
    "# datatext = \"\"\n",
    "datatext = review_data.tolist()\n",
    "\n",
    "#ratings on the same product\n",
    "rating_data = row_data.iloc[:,2]\n",
    "\n",
    "rating_data = rating_data.tolist()\n",
    "\n",
    "\n",
    "# for review in data:\n",
    "#     datatext += review+\". \"\n",
    "\n",
    "print(datatext)\n",
    "\n",
    "print(rating_data)\n",
    "data.count()"
   ]
  },
  {
   "cell_type": "code",
   "execution_count": 29,
   "metadata": {},
   "outputs": [
    {
     "name": "stdout",
     "output_type": "stream",
     "text": [
      "Wall time: 0 ns\n"
     ]
    }
   ],
   "source": [
    "# tfidf vectorizer \n",
    "\n",
    "%time\n",
    "\n",
    "# max_features is the key for the matrix vectorizer\n",
    "tfidf_vectorizer = TfidfVectorizer(max_df=0.95, min_df=2, max_features=n_features, stop_words='english')\n",
    "tfidf = tfidf_vectorizer.fit_transform(datatext)"
   ]
  },
  {
   "cell_type": "code",
   "execution_count": 30,
   "metadata": {},
   "outputs": [
    {
     "name": "stdout",
     "output_type": "stream",
     "text": [
      "Wall time: 0 ns\n"
     ]
    }
   ],
   "source": [
    "# tf vectorizer used for LDA - topic Modelling\n",
    "\n",
    "%time\n",
    "tf_vectorizer = CountVectorizer(max_df=0.95, min_df=2, max_features=n_features, stop_words='english')\n",
    "tf = tf_vectorizer.fit_transform(datatext)"
   ]
  },
  {
   "cell_type": "code",
   "execution_count": 31,
   "metadata": {},
   "outputs": [
    {
     "data": {
      "text/plain": [
       "LatentDirichletAllocation(batch_size=128, doc_topic_prior=None,\n",
       "             evaluate_every=-1, learning_decay=0.7,\n",
       "             learning_method='online', learning_offset=50,\n",
       "             max_doc_update_iter=100, max_iter=25, mean_change_tol=0.001,\n",
       "             n_components=4, n_jobs=1, n_topics=None, perp_tol=0.1,\n",
       "             random_state=0, topic_word_prior=None,\n",
       "             total_samples=1000000.0, verbose=0)"
      ]
     },
     "execution_count": 31,
     "metadata": {},
     "output_type": "execute_result"
    }
   ],
   "source": [
    "lda = LatentDirichletAllocation(n_components=n_components, max_iter=25, learning_method='online', learning_offset=50, random_state=0)\n",
    "\n",
    "lda.fit(tf)"
   ]
  },
  {
   "cell_type": "code",
   "execution_count": 32,
   "metadata": {},
   "outputs": [
    {
     "data": {
      "text/html": [
       "\n",
       "<link rel=\"stylesheet\" type=\"text/css\" href=\"https://cdn.rawgit.com/bmabey/pyLDAvis/files/ldavis.v1.0.0.css\">\n",
       "\n",
       "\n",
       "<div id=\"ldavis_el762417282517744407939079140\"></div>\n",
       "<script type=\"text/javascript\">\n",
       "\n",
       "var ldavis_el762417282517744407939079140_data = {\"mdsDat\": {\"Freq\": [40.844795555906934, 40.20581830771861, 9.52714725241063, 9.422238883963836], \"cluster\": [1, 1, 1, 1], \"topics\": [1, 2, 3, 4], \"x\": [-0.029995282458414665, 0.09097164419580632, -0.05072336058303356, -0.010253001154358198], \"y\": [0.04833091668643828, 0.0019175703168457633, -0.018780588766190313, -0.03146789823709375]}, \"tinfo\": {\"Category\": [\"Default\", \"Default\", \"Default\", \"Default\", \"Default\", \"Default\", \"Default\", \"Default\", \"Default\", \"Default\", \"Topic1\", \"Topic1\", \"Topic1\", \"Topic1\", \"Topic1\", \"Topic1\", \"Topic1\", \"Topic1\", \"Topic1\", \"Topic1\", \"Topic2\", \"Topic2\", \"Topic2\", \"Topic2\", \"Topic2\", \"Topic2\", \"Topic2\", \"Topic2\", \"Topic2\", \"Topic2\", \"Topic3\", \"Topic3\", \"Topic3\", \"Topic3\", \"Topic3\", \"Topic3\", \"Topic3\", \"Topic3\", \"Topic3\", \"Topic3\", \"Topic4\", \"Topic4\", \"Topic4\", \"Topic4\", \"Topic4\", \"Topic4\", \"Topic4\", \"Topic4\", \"Topic4\", \"Topic4\"], \"Freq\": [2.0, 2.0, 2.0, 2.0, 3.0, 2.0, 6.0, 2.0, 3.0, 3.0, 2.3170874118761646, 1.7390612499069178, 2.376983809664048, 1.0538353225971935, 1.0365078382262352, 1.0167140034167852, 1.0384798200221812, 1.6865183370588583, 0.3880319371773605, 0.41711484794447334, 4.758434375679883, 1.5649671001100607, 2.2597799806516297, 0.9069818073591541, 0.9723830979445027, 0.9549314761010189, 0.3469975514378319, 0.3318401236092718, 0.34899152945693046, 0.42055481611967166, 0.6254260918082176, 0.6162476129052074, 0.27292276558249345, 0.2353210895629105, 0.21838354360136203, 0.1892365076074259, 0.20929197040097205, 0.2045361389689028, 0.20195193731073816, 0.2753694630231716, 0.7744795377402914, 0.24764576373107616, 0.2724904127936872, 0.23298547495350508, 0.23388468419315048, 0.23809881111928022, 0.24265083203650992, 0.26012273302599026, 0.24786024972082568, 0.26489794355411006], \"Term\": [\"awesome\", \"just\", \"music\", \"amazing\", \"tune\", \"beat\", \"song\", \"happy\", \"love\", \"yogscast\", \"tune\", \"beat\", \"love\", \"music\", \"just\", \"happy\", \"yogscast\", \"song\", \"awesome\", \"amazing\", \"song\", \"amazing\", \"yogscast\", \"awesome\", \"happy\", \"love\", \"just\", \"music\", \"beat\", \"tune\", \"just\", \"music\", \"amazing\", \"happy\", \"awesome\", \"beat\", \"tune\", \"yogscast\", \"love\", \"song\", \"awesome\", \"just\", \"amazing\", \"music\", \"happy\", \"beat\", \"tune\", \"yogscast\", \"love\", \"song\"], \"Total\": [2.0, 2.0, 2.0, 2.0, 3.0, 2.0, 6.0, 2.0, 3.0, 3.0, 3.1895850304333178, 2.5153880980905545, 3.7817274727966304, 2.2349085340651778, 2.256577245203361, 2.4583028751173486, 3.7629186726687034, 6.985220119316023, 2.287876825878168, 2.5274951264307144, 6.985220119316023, 2.5274951264307144, 3.7629186726687034, 2.287876825878168, 2.4583028751173486, 3.7817274727966304, 2.256577245203361, 2.2349085340651778, 2.5153880980905545, 3.1895850304333178, 2.256577245203361, 2.2349085340651778, 2.5274951264307144, 2.4583028751173486, 2.287876825878168, 2.5153880980905545, 3.1895850304333178, 3.7629186726687034, 3.7817274727966304, 6.985220119316023, 2.287876825878168, 2.256577245203361, 2.5274951264307144, 2.2349085340651778, 2.4583028751173486, 2.5153880980905545, 3.1895850304333178, 3.7629186726687034, 3.7817274727966304, 6.985220119316023], \"loglift\": [10.0, 9.0, 8.0, 7.0, 6.0, 5.0, 4.0, 3.0, 2.0, 1.0, 0.5758, 0.5263, 0.431, 0.1436, 0.1174, 0.0125, -0.392, -0.5257, -0.8789, -0.9062, 0.5273, 0.4318, 0.4012, -0.0141, -0.0163, -0.4651, -0.9611, -0.9961, -1.064, -1.1149, 1.0679, 1.0627, 0.1252, 0.0047, 0.0019, -0.2362, -0.3729, -0.5612, -0.5789, -0.8824, 1.2789, 0.1525, 0.1347, 0.1011, 0.0097, 0.0046, -0.2139, -0.3097, -0.363, -0.9101], \"logprob\": [10.0, 9.0, 8.0, 7.0, 6.0, 5.0, 4.0, 3.0, 2.0, 1.0, -1.73, -2.017, -1.7045, -2.5179, -2.5345, -2.5538, -2.5326, -2.0477, -3.517, -3.4447, -0.9947, -2.1067, -1.7393, -2.6522, -2.5826, -2.6007, -3.613, -3.6577, -3.6073, -3.4208, -1.584, -1.5988, -2.4133, -2.5615, -2.6362, -2.7795, -2.6787, -2.7017, -2.7144, -2.4044, -1.3592, -2.4994, -2.4038, -2.5604, -2.5566, -2.5387, -2.5198, -2.4502, -2.4985, -2.432]}, \"token.table\": {\"Topic\": [2, 2, 4, 1, 1, 2, 1, 3, 1, 2, 1, 3, 1, 2, 1, 1, 2], \"Freq\": [0.7912972725784702, 0.437086467544495, 0.437086467544495, 0.7951059327656879, 0.40678470099103, 0.40678470099103, 0.4431490223193671, 0.4431490223193671, 0.5288588388208146, 0.2644294194104073, 0.4474456044879179, 0.4474456044879179, 0.2863188225764653, 0.7157970564411632, 0.6270408159422206, 0.2657511594027593, 0.5315023188055186], \"Term\": [\"amazing\", \"awesome\", \"awesome\", \"beat\", \"happy\", \"happy\", \"just\", \"just\", \"love\", \"love\", \"music\", \"music\", \"song\", \"song\", \"tune\", \"yogscast\", \"yogscast\"]}, \"R\": 10, \"lambda.step\": 0.01, \"plot.opts\": {\"xlab\": \"PC1\", \"ylab\": \"PC2\"}, \"topic.order\": [1, 4, 2, 3]};\n",
       "\n",
       "function LDAvis_load_lib(url, callback){\n",
       "  var s = document.createElement('script');\n",
       "  s.src = url;\n",
       "  s.async = true;\n",
       "  s.onreadystatechange = s.onload = callback;\n",
       "  s.onerror = function(){console.warn(\"failed to load library \" + url);};\n",
       "  document.getElementsByTagName(\"head\")[0].appendChild(s);\n",
       "}\n",
       "\n",
       "if(typeof(LDAvis) !== \"undefined\"){\n",
       "   // already loaded: just create the visualization\n",
       "   !function(LDAvis){\n",
       "       new LDAvis(\"#\" + \"ldavis_el762417282517744407939079140\", ldavis_el762417282517744407939079140_data);\n",
       "   }(LDAvis);\n",
       "}else if(typeof define === \"function\" && define.amd){\n",
       "   // require.js is available: use it to load d3/LDAvis\n",
       "   require.config({paths: {d3: \"https://cdnjs.cloudflare.com/ajax/libs/d3/3.5.5/d3.min\"}});\n",
       "   require([\"d3\"], function(d3){\n",
       "      window.d3 = d3;\n",
       "      LDAvis_load_lib(\"https://cdn.rawgit.com/bmabey/pyLDAvis/files/ldavis.v1.0.0.js\", function(){\n",
       "        new LDAvis(\"#\" + \"ldavis_el762417282517744407939079140\", ldavis_el762417282517744407939079140_data);\n",
       "      });\n",
       "    });\n",
       "}else{\n",
       "    // require.js not available: dynamically load d3 & LDAvis\n",
       "    LDAvis_load_lib(\"https://cdnjs.cloudflare.com/ajax/libs/d3/3.5.5/d3.min.js\", function(){\n",
       "         LDAvis_load_lib(\"https://cdn.rawgit.com/bmabey/pyLDAvis/files/ldavis.v1.0.0.js\", function(){\n",
       "                 new LDAvis(\"#\" + \"ldavis_el762417282517744407939079140\", ldavis_el762417282517744407939079140_data);\n",
       "            })\n",
       "         });\n",
       "}\n",
       "</script>"
      ],
      "text/plain": [
       "<IPython.core.display.HTML object>"
      ]
     },
     "execution_count": 32,
     "metadata": {},
     "output_type": "execute_result"
    }
   ],
   "source": [
    "# using visualisation for the lda\n",
    "import pyLDAvis\n",
    "import pyLDAvis.sklearn\n",
    "\n",
    "tree = pyLDAvis.sklearn.prepare(lda, tf, tf_vectorizer) # there are different variations of this function.\n",
    "\n",
    "pyLDAvis.display(tree)\n",
    "\n"
   ]
  },
  {
   "cell_type": "code",
   "execution_count": 17,
   "metadata": {},
   "outputs": [],
   "source": [
    "\n",
    "def print_top_words(model, feature_names, n_top_words):\n",
    "    for topic_idx, topic in enumerate(model.components_):\n",
    "        message = \"Topic #%d: \" % topic_idx\n",
    "        message += \" \".join([feature_names[i] for i in topic.argsort()[:-n_top_words - 1:-1]])\n",
    "        print(message)\n",
    "    print()"
   ]
  },
  {
   "cell_type": "code",
   "execution_count": 18,
   "metadata": {},
   "outputs": [
    {
     "name": "stdout",
     "output_type": "stream",
     "text": [
      "Topic #0: tune beat song amazing music awesome love yogscast just happy\n",
      "Topic #1: amazing song just music happy yogscast awesome tune love beat\n",
      "Topic #2: song awesome yogscast love amazing just tune beat happy music\n",
      "Topic #3: song yogscast tune awesome amazing happy beat just music love\n",
      "Topic #4: love tune music happy yogscast beat just song amazing awesome\n",
      "\n"
     ]
    }
   ],
   "source": [
    "tf_feature_names = tf_vectorizer.get_feature_names()\n",
    "\n",
    "print_top_words(lda, tf_feature_names, n_top_words)"
   ]
  },
  {
   "cell_type": "code",
   "execution_count": null,
   "metadata": {},
   "outputs": [],
   "source": []
  },
  {
   "cell_type": "code",
   "execution_count": null,
   "metadata": {},
   "outputs": [],
   "source": []
  }
 ],
 "metadata": {
  "kernelspec": {
   "display_name": "Python [conda env:Anaconda3]",
   "language": "python",
   "name": "conda-env-Anaconda3-py"
  },
  "language_info": {
   "codemirror_mode": {
    "name": "ipython",
    "version": 3
   },
   "file_extension": ".py",
   "mimetype": "text/x-python",
   "name": "python",
   "nbconvert_exporter": "python",
   "pygments_lexer": "ipython3",
   "version": "3.6.4"
  }
 },
 "nbformat": 4,
 "nbformat_minor": 1
}
