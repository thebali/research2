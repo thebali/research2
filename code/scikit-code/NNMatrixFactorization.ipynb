{
 "cells": [
  {
   "cell_type": "code",
   "execution_count": 1,
   "metadata": {},
   "outputs": [],
   "source": [
    "# implementation of NMF - non-negative matrix factorization\n",
    "from time import time\n",
    "\n",
    "from sklearn.decomposition import NMF\n",
    "from sklearn.model_selection import train_test_split\n",
    "from sklearn.random_projection import sparse_random_matrix\n",
    "from scipy.sparse import csr_matrix\n",
    "\n",
    "n_components = 10\n",
    "\n"
   ]
  },
  {
   "cell_type": "code",
   "execution_count": 2,
   "metadata": {},
   "outputs": [
    {
     "name": "stdout",
     "output_type": "stream",
     "text": [
      "             overall\n",
      "count  346355.000000\n",
      "mean        4.274958\n",
      "std         1.120213\n",
      "min         1.000000\n",
      "25%         4.000000\n",
      "50%         5.000000\n",
      "75%         5.000000\n",
      "max         5.000000\n"
     ]
    },
    {
     "data": {
      "text/plain": [
       "(38609, 18534)"
      ]
     },
     "execution_count": 2,
     "metadata": {},
     "output_type": "execute_result"
    }
   ],
   "source": [
    "import pandas as pd\n",
    "import numpy as np\n",
    "\n",
    "ratingdata = \"../data/amazon5core/healthcare/healthcare5core.csv\"\n",
    "\n",
    "# loading data using pandas\n",
    "data = pd.read_csv(ratingdata, dtype={\"asin\": str, \"overall\": int, \"reviewerID\": str, \"reviewText\": str})\n",
    "\n",
    "print(data.describe())\n",
    "# print(data.head())\n",
    "\n",
    "datamatrix, test = train_test_split(data, test_size=0.1, random_state=24)\n",
    "\n",
    "user_u = list(sorted(datamatrix.reviewerID.unique()))\n",
    "item_u = list(sorted(datamatrix.asin.unique()))\n",
    "\n",
    "row = datamatrix.reviewerID.astype(pd.api.types.CategoricalDtype(categories=user_u)).cat.codes\n",
    "# col = datamatrix.asin.astype('category', categories=item_u).cat.codes\n",
    "col = datamatrix.asin.astype(pd.api.types.CategoricalDtype(categories=item_u)).cat.codes\n",
    "\n",
    "\n",
    "ratings = datamatrix['overall'].tolist()\n",
    "\n",
    "ratingmatrix = csr_matrix((ratings, (row, col)), shape=(len(user_u), len(item_u)))\n",
    "\n",
    "# print(ratingmatrix.shape)\n",
    "##ratingmatrix = datamatrix.pivot(index='asin', columns='reviewerID', values='overall')\n",
    "\n",
    "ratingmatrix.shape"
   ]
  },
  {
   "cell_type": "code",
   "execution_count": 3,
   "metadata": {},
   "outputs": [],
   "source": [
    "## loading data using numpy\n",
    "\n",
    "# datamatrix = np.loadtxt(ratingdata, delimiter=\",\", skiprows=1, dtype={'names': ['itemid', 'rating', 'userid'], \n",
    "#                                                                       'formats': ['|S15', np.int32, '|S15']})\n",
    "\n",
    "# print(datamatrix[1][2],datamatrix[2][2],datamatrix[3][2])"
   ]
  },
  {
   "cell_type": "code",
   "execution_count": 4,
   "metadata": {},
   "outputs": [],
   "source": [
    "model = NMF(n_components=n_components, solver='mu', init='nndsvda', random_state=43)\n",
    "\n",
    "H = model.fit_transform(ratingmatrix)\n",
    "X = model.components_\n",
    "\n",
    "\n",
    "P = model.get_params\n",
    "\n",
    "\n",
    "\n"
   ]
  },
  {
   "cell_type": "code",
   "execution_count": 5,
   "metadata": {},
   "outputs": [
    {
     "data": {
      "text/plain": [
       "(10, 18534)"
      ]
     },
     "execution_count": 5,
     "metadata": {},
     "output_type": "execute_result"
    }
   ],
   "source": [
    "X.shape"
   ]
  },
  {
   "cell_type": "code",
   "execution_count": 6,
   "metadata": {},
   "outputs": [
    {
     "data": {
      "text/plain": [
       "(38609, 10)"
      ]
     },
     "execution_count": 6,
     "metadata": {},
     "output_type": "execute_result"
    }
   ],
   "source": [
    "H.shape"
   ]
  },
  {
   "cell_type": "code",
   "execution_count": 7,
   "metadata": {},
   "outputs": [
    {
     "data": {
      "text/plain": [
       "{'alpha': 0.0,\n",
       " 'beta_loss': 'frobenius',\n",
       " 'init': 'nndsvda',\n",
       " 'l1_ratio': 0.0,\n",
       " 'max_iter': 200,\n",
       " 'n_components': 10,\n",
       " 'random_state': 43,\n",
       " 'shuffle': False,\n",
       " 'solver': 'mu',\n",
       " 'tol': 0.0001,\n",
       " 'verbose': 0}"
      ]
     },
     "execution_count": 7,
     "metadata": {},
     "output_type": "execute_result"
    }
   ],
   "source": [
    "P()"
   ]
  },
  {
   "cell_type": "code",
   "execution_count": null,
   "metadata": {},
   "outputs": [],
   "source": []
  }
 ],
 "metadata": {
  "kernelspec": {
   "display_name": "Python [conda env:Anaconda3]",
   "language": "python",
   "name": "conda-env-Anaconda3-py"
  },
  "language_info": {
   "codemirror_mode": {
    "name": "ipython",
    "version": 3
   },
   "file_extension": ".py",
   "mimetype": "text/x-python",
   "name": "python",
   "nbconvert_exporter": "python",
   "pygments_lexer": "ipython3",
   "version": "3.6.4"
  }
 },
 "nbformat": 4,
 "nbformat_minor": 2
}
