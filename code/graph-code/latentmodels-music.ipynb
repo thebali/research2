{
 "cells": [
  {
   "cell_type": "code",
   "execution_count": 2,
   "metadata": {},
   "outputs": [],
   "source": [
    "import graphlab as gl\n",
    "\n",
    "from sklearn.model_selection import train_test_split\n",
    "from scipy.sparse import csr_matrix\n",
    "\n",
    "import pandas as pd\n",
    "import numpy as np\n",
    "\n",
    "import matplotlib.pyplot as plt\n",
    "import seaborn as sb"
   ]
  },
  {
   "cell_type": "code",
   "execution_count": 3,
   "metadata": {},
   "outputs": [
    {
     "name": "stdout",
     "output_type": "stream",
     "text": [
      "This non-commercial license of GraphLab Create for academic use is assigned to rahulbali.mecse16@pec.edu.in and will expire on November 23, 2018.\n"
     ]
    },
    {
     "name": "stderr",
     "output_type": "stream",
     "text": [
      "[INFO] graphlab.cython.cy_server: GraphLab Create v2.1 started. Logging: C:\\Users\\cramdog\\AppData\\Local\\Temp\\graphlab_server_1530118130.log.0\n"
     ]
    },
    {
     "data": {
      "text/html": [
       "<pre>Read 45080 lines. Lines per second: 25854.8</pre>"
      ],
      "text/plain": [
       "Read 45080 lines. Lines per second: 25854.8"
      ]
     },
     "metadata": {},
     "output_type": "display_data"
    },
    {
     "data": {
      "text/html": [
       "<pre>Finished parsing file E:\\ACADEMICS\\PEC---\\ME 4 SEM\\code\\graph-code\\dataset\\amazon5core\\digitalmusic\\digitalmusic5core.csv</pre>"
      ],
      "text/plain": [
       "Finished parsing file E:\\ACADEMICS\\PEC---\\ME 4 SEM\\code\\graph-code\\dataset\\amazon5core\\digitalmusic\\digitalmusic5core.csv"
      ]
     },
     "metadata": {},
     "output_type": "display_data"
    },
    {
     "data": {
      "text/html": [
       "<pre>Parsing completed. Parsed 64706 lines in 1.94477 secs.</pre>"
      ],
      "text/plain": [
       "Parsing completed. Parsed 64706 lines in 1.94477 secs."
      ]
     },
     "metadata": {},
     "output_type": "display_data"
    }
   ],
   "source": [
    "musicdata = \"./dataset/amazon5core/digitalmusic/digitalmusic5core.csv\"\n",
    "healthdata = \"./dataset/amazon5core/healthcare/10ksample.csv\"\n",
    "\n",
    "# loading data using gl\n",
    "musicsf = gl.SFrame.read_csv(musicdata, delimiter=\",\",\n",
    "                             usecols=[\"asin\",\"reviewerID\",\"overall\",\"reviewText\"],\n",
    "                             column_type_hints=[str, str, int, str])\n",
    "\n",
    "# healthsf = gl.SFrame.read_csv(healthdata, delimiter=\",\",\n",
    "#                               usecols=[\"asin\",\"reviewerID\",\"overall\",\"reviewText\"],\n",
    "#                               column_type_hints=[str, str, int, str])"
   ]
  },
  {
   "cell_type": "code",
   "execution_count": 4,
   "metadata": {},
   "outputs": [],
   "source": [
    "# divide the review and rating data\n",
    "ratings = musicsf[[\"asin\", \"reviewerID\", \"overall\"]]\n",
    "reviews = musicsf[[\"asin\", \"reviewerID\", \"reviewText\"]]\n",
    "\n",
    "\n",
    "# ratings = healthsf[[\"asin\", \"reviewerID\", \"overall\"]]\n",
    "# reviews = healthsf[[\"asin\", \"reviewerID\", \"reviewText\"]]\n",
    "\n",
    "# train, test = gl.recommender.util.random_split_by_user(dataset=ratings,item_id=\"asin\",user_id=\"reviewerID\",max_num_users=100)\n",
    "\n",
    "## cross validation structure\n",
    "folds = gl.cross_validation.KFold(ratings, 10)\n",
    "train, test = folds[3]\n"
   ]
  },
  {
   "cell_type": "code",
   "execution_count": 5,
   "metadata": {},
   "outputs": [],
   "source": [
    "# train.show()\n",
    "# gl.canvas.show()"
   ]
  },
  {
   "cell_type": "code",
   "execution_count": 6,
   "metadata": {},
   "outputs": [
    {
     "data": {
      "text/html": [
       "<pre>Recsys training: model = factorization_recommender</pre>"
      ],
      "text/plain": [
       "Recsys training: model = factorization_recommender"
      ]
     },
     "metadata": {},
     "output_type": "display_data"
    },
    {
     "data": {
      "text/html": [
       "<pre>Preparing data set.</pre>"
      ],
      "text/plain": [
       "Preparing data set."
      ]
     },
     "metadata": {},
     "output_type": "display_data"
    },
    {
     "data": {
      "text/html": [
       "<pre>    Data has 58235 observations with 5541 users and 3568 items.</pre>"
      ],
      "text/plain": [
       "    Data has 58235 observations with 5541 users and 3568 items."
      ]
     },
     "metadata": {},
     "output_type": "display_data"
    },
    {
     "data": {
      "text/html": [
       "<pre>    Data prepared in: 0.206189s</pre>"
      ],
      "text/plain": [
       "    Data prepared in: 0.206189s"
      ]
     },
     "metadata": {},
     "output_type": "display_data"
    },
    {
     "data": {
      "text/html": [
       "<pre>Training factorization_recommender for recommendations.</pre>"
      ],
      "text/plain": [
       "Training factorization_recommender for recommendations."
      ]
     },
     "metadata": {},
     "output_type": "display_data"
    },
    {
     "data": {
      "text/html": [
       "<pre>+--------------------------------+--------------------------------------------------+----------+</pre>"
      ],
      "text/plain": [
       "+--------------------------------+--------------------------------------------------+----------+"
      ]
     },
     "metadata": {},
     "output_type": "display_data"
    },
    {
     "data": {
      "text/html": [
       "<pre>| Parameter                      | Description                                      | Value    |</pre>"
      ],
      "text/plain": [
       "| Parameter                      | Description                                      | Value    |"
      ]
     },
     "metadata": {},
     "output_type": "display_data"
    },
    {
     "data": {
      "text/html": [
       "<pre>+--------------------------------+--------------------------------------------------+----------+</pre>"
      ],
      "text/plain": [
       "+--------------------------------+--------------------------------------------------+----------+"
      ]
     },
     "metadata": {},
     "output_type": "display_data"
    },
    {
     "data": {
      "text/html": [
       "<pre>| num_factors                    | Factor Dimension                                 | 50       |</pre>"
      ],
      "text/plain": [
       "| num_factors                    | Factor Dimension                                 | 50       |"
      ]
     },
     "metadata": {},
     "output_type": "display_data"
    },
    {
     "data": {
      "text/html": [
       "<pre>| regularization                 | L2 Regularization on Factors                     | 1e-008   |</pre>"
      ],
      "text/plain": [
       "| regularization                 | L2 Regularization on Factors                     | 1e-008   |"
      ]
     },
     "metadata": {},
     "output_type": "display_data"
    },
    {
     "data": {
      "text/html": [
       "<pre>| solver                         | Solver used for training                         | sgd      |</pre>"
      ],
      "text/plain": [
       "| solver                         | Solver used for training                         | sgd      |"
      ]
     },
     "metadata": {},
     "output_type": "display_data"
    },
    {
     "data": {
      "text/html": [
       "<pre>| linear_regularization          | L2 Regularization on Linear Coefficients         | 1e-010   |</pre>"
      ],
      "text/plain": [
       "| linear_regularization          | L2 Regularization on Linear Coefficients         | 1e-010   |"
      ]
     },
     "metadata": {},
     "output_type": "display_data"
    },
    {
     "data": {
      "text/html": [
       "<pre>| max_iterations                 | Maximum Number of Iterations                     | 300      |</pre>"
      ],
      "text/plain": [
       "| max_iterations                 | Maximum Number of Iterations                     | 300      |"
      ]
     },
     "metadata": {},
     "output_type": "display_data"
    },
    {
     "data": {
      "text/html": [
       "<pre>+--------------------------------+--------------------------------------------------+----------+</pre>"
      ],
      "text/plain": [
       "+--------------------------------+--------------------------------------------------+----------+"
      ]
     },
     "metadata": {},
     "output_type": "display_data"
    },
    {
     "data": {
      "text/html": [
       "<pre>  Optimizing model using SGD; tuning step size.</pre>"
      ],
      "text/plain": [
       "  Optimizing model using SGD; tuning step size."
      ]
     },
     "metadata": {},
     "output_type": "display_data"
    },
    {
     "data": {
      "text/html": [
       "<pre>  Using 10000 / 58235 points for tuning the step size.</pre>"
      ],
      "text/plain": [
       "  Using 10000 / 58235 points for tuning the step size."
      ]
     },
     "metadata": {},
     "output_type": "display_data"
    },
    {
     "data": {
      "text/html": [
       "<pre>+---------+-------------------+------------------------------------------+</pre>"
      ],
      "text/plain": [
       "+---------+-------------------+------------------------------------------+"
      ]
     },
     "metadata": {},
     "output_type": "display_data"
    },
    {
     "data": {
      "text/html": [
       "<pre>| Attempt | Initial Step Size | Estimated Objective Value                |</pre>"
      ],
      "text/plain": [
       "| Attempt | Initial Step Size | Estimated Objective Value                |"
      ]
     },
     "metadata": {},
     "output_type": "display_data"
    },
    {
     "data": {
      "text/html": [
       "<pre>+---------+-------------------+------------------------------------------+</pre>"
      ],
      "text/plain": [
       "+---------+-------------------+------------------------------------------+"
      ]
     },
     "metadata": {},
     "output_type": "display_data"
    },
    {
     "data": {
      "text/html": [
       "<pre>| 0       | 25                | Not Viable                               |</pre>"
      ],
      "text/plain": [
       "| 0       | 25                | Not Viable                               |"
      ]
     },
     "metadata": {},
     "output_type": "display_data"
    },
    {
     "data": {
      "text/html": [
       "<pre>| 1       | 6.25              | Not Viable                               |</pre>"
      ],
      "text/plain": [
       "| 1       | 6.25              | Not Viable                               |"
      ]
     },
     "metadata": {},
     "output_type": "display_data"
    },
    {
     "data": {
      "text/html": [
       "<pre>| 2       | 1.5625            | Not Viable                               |</pre>"
      ],
      "text/plain": [
       "| 2       | 1.5625            | Not Viable                               |"
      ]
     },
     "metadata": {},
     "output_type": "display_data"
    },
    {
     "data": {
      "text/html": [
       "<pre>| 3       | 0.390625          | 0.106459                                 |</pre>"
      ],
      "text/plain": [
       "| 3       | 0.390625          | 0.106459                                 |"
      ]
     },
     "metadata": {},
     "output_type": "display_data"
    },
    {
     "data": {
      "text/html": [
       "<pre>| 4       | 0.195312          | 0.276853                                 |</pre>"
      ],
      "text/plain": [
       "| 4       | 0.195312          | 0.276853                                 |"
      ]
     },
     "metadata": {},
     "output_type": "display_data"
    },
    {
     "data": {
      "text/html": [
       "<pre>+---------+-------------------+------------------------------------------+</pre>"
      ],
      "text/plain": [
       "+---------+-------------------+------------------------------------------+"
      ]
     },
     "metadata": {},
     "output_type": "display_data"
    },
    {
     "data": {
      "text/html": [
       "<pre>| Final   | 0.390625          | 0.106459                                 |</pre>"
      ],
      "text/plain": [
       "| Final   | 0.390625          | 0.106459                                 |"
      ]
     },
     "metadata": {},
     "output_type": "display_data"
    },
    {
     "data": {
      "text/html": [
       "<pre>+---------+-------------------+------------------------------------------+</pre>"
      ],
      "text/plain": [
       "+---------+-------------------+------------------------------------------+"
      ]
     },
     "metadata": {},
     "output_type": "display_data"
    },
    {
     "data": {
      "text/html": [
       "<pre>Starting Optimization.</pre>"
      ],
      "text/plain": [
       "Starting Optimization."
      ]
     },
     "metadata": {},
     "output_type": "display_data"
    },
    {
     "data": {
      "text/html": [
       "<pre>+---------+--------------+-------------------+-----------------------+-------------+</pre>"
      ],
      "text/plain": [
       "+---------+--------------+-------------------+-----------------------+-------------+"
      ]
     },
     "metadata": {},
     "output_type": "display_data"
    },
    {
     "data": {
      "text/html": [
       "<pre>| Iter.   | Elapsed Time | Approx. Objective | Approx. Training RMSE | Step Size   |</pre>"
      ],
      "text/plain": [
       "| Iter.   | Elapsed Time | Approx. Objective | Approx. Training RMSE | Step Size   |"
      ]
     },
     "metadata": {},
     "output_type": "display_data"
    },
    {
     "data": {
      "text/html": [
       "<pre>+---------+--------------+-------------------+-----------------------+-------------+</pre>"
      ],
      "text/plain": [
       "+---------+--------------+-------------------+-----------------------+-------------+"
      ]
     },
     "metadata": {},
     "output_type": "display_data"
    },
    {
     "data": {
      "text/html": [
       "<pre>| Initial | 0us          | 1.17842           | 1.08555               |             |</pre>"
      ],
      "text/plain": [
       "| Initial | 0us          | 1.17842           | 1.08555               |             |"
      ]
     },
     "metadata": {},
     "output_type": "display_data"
    },
    {
     "data": {
      "text/html": [
       "<pre>+---------+--------------+-------------------+-----------------------+-------------+</pre>"
      ],
      "text/plain": [
       "+---------+--------------+-------------------+-----------------------+-------------+"
      ]
     },
     "metadata": {},
     "output_type": "display_data"
    },
    {
     "data": {
      "text/html": [
       "<pre>| 1       | 251.228ms    | DIVERGED          | DIVERGED              | 0.390625    |</pre>"
      ],
      "text/plain": [
       "| 1       | 251.228ms    | DIVERGED          | DIVERGED              | 0.390625    |"
      ]
     },
     "metadata": {},
     "output_type": "display_data"
    },
    {
     "data": {
      "text/html": [
       "<pre>| RESET   | 319.29ms     | 1.17842           | 1.08555               |             |</pre>"
      ],
      "text/plain": [
       "| RESET   | 319.29ms     | 1.17842           | 1.08555               |             |"
      ]
     },
     "metadata": {},
     "output_type": "display_data"
    },
    {
     "data": {
      "text/html": [
       "<pre>| 1       | 498.453ms    | 1.36791           | 1.16951               | 0.195312    |</pre>"
      ],
      "text/plain": [
       "| 1       | 498.453ms    | 1.36791           | 1.16951               | 0.195312    |"
      ]
     },
     "metadata": {},
     "output_type": "display_data"
    },
    {
     "data": {
      "text/html": [
       "<pre>| 2       | 643.584ms    | DIVERGED          | DIVERGED              | 0.116134    |</pre>"
      ],
      "text/plain": [
       "| 2       | 643.584ms    | DIVERGED          | DIVERGED              | 0.116134    |"
      ]
     },
     "metadata": {},
     "output_type": "display_data"
    },
    {
     "data": {
      "text/html": [
       "<pre>| RESET   | 719.655ms    | 1.17845           | 1.08557               |             |</pre>"
      ],
      "text/plain": [
       "| RESET   | 719.655ms    | 1.17845           | 1.08557               |             |"
      ]
     },
     "metadata": {},
     "output_type": "display_data"
    },
    {
     "data": {
      "text/html": [
       "<pre>| 1       | 812.738ms    | 0.916383          | 0.957272              | 0.0580668   |</pre>"
      ],
      "text/plain": [
       "| 1       | 812.738ms    | 0.916383          | 0.957272              | 0.0580668   |"
      ]
     },
     "metadata": {},
     "output_type": "display_data"
    },
    {
     "data": {
      "text/html": [
       "<pre>| 2       | 946.86ms     | 0.724937          | 0.851429              | 0.0345267   |</pre>"
      ],
      "text/plain": [
       "| 2       | 946.86ms     | 0.724937          | 0.851429              | 0.0345267   |"
      ]
     },
     "metadata": {},
     "output_type": "display_data"
    },
    {
     "data": {
      "text/html": [
       "<pre>| 3       | 1.05s        | 0.679564          | 0.824356              | 0.0254734   |</pre>"
      ],
      "text/plain": [
       "| 3       | 1.05s        | 0.679564          | 0.824356              | 0.0254734   |"
      ]
     },
     "metadata": {},
     "output_type": "display_data"
    },
    {
     "data": {
      "text/html": [
       "<pre>| 4       | 1.09s        | 0.660457          | 0.812684              | 0.0205297   |</pre>"
      ],
      "text/plain": [
       "| 4       | 1.09s        | 0.660457          | 0.812684              | 0.0205297   |"
      ]
     },
     "metadata": {},
     "output_type": "display_data"
    },
    {
     "data": {
      "text/html": [
       "<pre>| 5       | 1.21s        | 0.648498          | 0.805294              | 0.017366    |</pre>"
      ],
      "text/plain": [
       "| 5       | 1.21s        | 0.648498          | 0.805294              | 0.017366    |"
      ]
     },
     "metadata": {},
     "output_type": "display_data"
    },
    {
     "data": {
      "text/html": [
       "<pre>| 7       | 1.49s        | 0.635958          | 0.79747               | 0.0134929   |</pre>"
      ],
      "text/plain": [
       "| 7       | 1.49s        | 0.635958          | 0.79747               | 0.0134929   |"
      ]
     },
     "metadata": {},
     "output_type": "display_data"
    },
    {
     "data": {
      "text/html": [
       "<pre>| 10      | 1.80s        | 0.624837          | 0.790466              | 0.0103259   |</pre>"
      ],
      "text/plain": [
       "| 10      | 1.80s        | 0.624837          | 0.790466              | 0.0103259   |"
      ]
     },
     "metadata": {},
     "output_type": "display_data"
    },
    {
     "data": {
      "text/html": [
       "<pre>| 17      | 2.51s        | 0.597906          | 0.773243              | 0.00693571  |</pre>"
      ],
      "text/plain": [
       "| 17      | 2.51s        | 0.597906          | 0.773243              | 0.00693571  |"
      ]
     },
     "metadata": {},
     "output_type": "display_data"
    },
    {
     "data": {
      "text/html": [
       "<pre>| 27      | 3.45s        | 0.562114          | 0.74974               | 0.00490235  |</pre>"
      ],
      "text/plain": [
       "| 27      | 3.45s        | 0.562114          | 0.74974               | 0.00490235  |"
      ]
     },
     "metadata": {},
     "output_type": "display_data"
    },
    {
     "data": {
      "text/html": [
       "<pre>| 37      | 4.43s        | 0.52186           | 0.722395              | 0.00387058  |</pre>"
      ],
      "text/plain": [
       "| 37      | 4.43s        | 0.52186           | 0.722395              | 0.00387058  |"
      ]
     },
     "metadata": {},
     "output_type": "display_data"
    },
    {
     "data": {
      "text/html": [
       "<pre>| 47      | 5.23s        | 0.481707          | 0.694045              | 0.00323485  |</pre>"
      ],
      "text/plain": [
       "| 47      | 5.23s        | 0.481707          | 0.694045              | 0.00323485  |"
      ]
     },
     "metadata": {},
     "output_type": "display_data"
    },
    {
     "data": {
      "text/html": [
       "<pre>| 50      | 5.50s        | 0.469517          | 0.685205              | 0.00308816  |</pre>"
      ],
      "text/plain": [
       "| 50      | 5.50s        | 0.469517          | 0.685205              | 0.00308816  |"
      ]
     },
     "metadata": {},
     "output_type": "display_data"
    },
    {
     "data": {
      "text/html": [
       "<pre>| 57      | 6.04s        | 0.441108          | 0.66415               | 0.00279912  |</pre>"
      ],
      "text/plain": [
       "| 57      | 6.04s        | 0.441108          | 0.66415               | 0.00279912  |"
      ]
     },
     "metadata": {},
     "output_type": "display_data"
    },
    {
     "data": {
      "text/html": [
       "<pre>| 67      | 6.91s        | 0.402142          | 0.634133              | 0.00247954  |</pre>"
      ],
      "text/plain": [
       "| 67      | 6.91s        | 0.402142          | 0.634133              | 0.00247954  |"
      ]
     },
     "metadata": {},
     "output_type": "display_data"
    },
    {
     "data": {
      "text/html": [
       "<pre>| 77      | 7.70s        | 0.366442          | 0.605326              | 0.00223388  |</pre>"
      ],
      "text/plain": [
       "| 77      | 7.70s        | 0.366442          | 0.605326              | 0.00223388  |"
      ]
     },
     "metadata": {},
     "output_type": "display_data"
    },
    {
     "data": {
      "text/html": [
       "<pre>| 87      | 8.56s        | 0.334136          | 0.578022              | 0.00203839  |</pre>"
      ],
      "text/plain": [
       "| 87      | 8.56s        | 0.334136          | 0.578022              | 0.00203839  |"
      ]
     },
     "metadata": {},
     "output_type": "display_data"
    },
    {
     "data": {
      "text/html": [
       "<pre>| 97      | 9.42s        | 0.305084          | 0.552317              | 0.00187866  |</pre>"
      ],
      "text/plain": [
       "| 97      | 9.42s        | 0.305084          | 0.552317              | 0.00187866  |"
      ]
     },
     "metadata": {},
     "output_type": "display_data"
    },
    {
     "data": {
      "text/html": [
       "<pre>| 100     | 9.67s        | 0.296969          | 0.54492               | 0.00183623  |</pre>"
      ],
      "text/plain": [
       "| 100     | 9.67s        | 0.296969          | 0.54492               | 0.00183623  |"
      ]
     },
     "metadata": {},
     "output_type": "display_data"
    },
    {
     "data": {
      "text/html": [
       "<pre>| 107     | 10.22s       | 0.279063          | 0.528232              | 0.00174538  |</pre>"
      ],
      "text/plain": [
       "| 107     | 10.22s       | 0.279063          | 0.528232              | 0.00174538  |"
      ]
     },
     "metadata": {},
     "output_type": "display_data"
    },
    {
     "data": {
      "text/html": [
       "<pre>| 117     | 11.03s       | 0.255815          | 0.505744              | 0.00163226  |</pre>"
      ],
      "text/plain": [
       "| 117     | 11.03s       | 0.255815          | 0.505744              | 0.00163226  |"
      ]
     },
     "metadata": {},
     "output_type": "display_data"
    },
    {
     "data": {
      "text/html": [
       "<pre>| 127     | 11.77s       | 0.235046          | 0.484773              | 0.00153488  |</pre>"
      ],
      "text/plain": [
       "| 127     | 11.77s       | 0.235046          | 0.484773              | 0.00153488  |"
      ]
     },
     "metadata": {},
     "output_type": "display_data"
    },
    {
     "data": {
      "text/html": [
       "<pre>| 137     | 12.55s       | 0.216495          | 0.465242              | 0.00145006  |</pre>"
      ],
      "text/plain": [
       "| 137     | 12.55s       | 0.216495          | 0.465242              | 0.00145006  |"
      ]
     },
     "metadata": {},
     "output_type": "display_data"
    },
    {
     "data": {
      "text/html": [
       "<pre>| 147     | 13.31s       | 0.19991           | 0.447059              | 0.00137543  |</pre>"
      ],
      "text/plain": [
       "| 147     | 13.31s       | 0.19991           | 0.447059              | 0.00137543  |"
      ]
     },
     "metadata": {},
     "output_type": "display_data"
    },
    {
     "data": {
      "text/html": [
       "<pre>| 157     | 14.15s       | 0.185055          | 0.430121              | 0.00130919  |</pre>"
      ],
      "text/plain": [
       "| 157     | 14.15s       | 0.185055          | 0.430121              | 0.00130919  |"
      ]
     },
     "metadata": {},
     "output_type": "display_data"
    },
    {
     "data": {
      "text/html": [
       "<pre>| 167     | 14.96s       | 0.171718          | 0.414323              | 0.00124994  |</pre>"
      ],
      "text/plain": [
       "| 167     | 14.96s       | 0.171718          | 0.414323              | 0.00124994  |"
      ]
     },
     "metadata": {},
     "output_type": "display_data"
    },
    {
     "data": {
      "text/html": [
       "<pre>| 177     | 15.68s       | 0.159708          | 0.399563              | 0.0011966   |</pre>"
      ],
      "text/plain": [
       "| 177     | 15.68s       | 0.159708          | 0.399563              | 0.0011966   |"
      ]
     },
     "metadata": {},
     "output_type": "display_data"
    },
    {
     "data": {
      "text/html": [
       "<pre>| 187     | 16.45s       | 0.148864          | 0.385752              | 0.00114828  |</pre>"
      ],
      "text/plain": [
       "| 187     | 16.45s       | 0.148864          | 0.385752              | 0.00114828  |"
      ]
     },
     "metadata": {},
     "output_type": "display_data"
    },
    {
     "data": {
      "text/html": [
       "<pre>| 197     | 17.26s       | 0.139046          | 0.372806              | 0.00110428  |</pre>"
      ],
      "text/plain": [
       "| 197     | 17.26s       | 0.139046          | 0.372806              | 0.00110428  |"
      ]
     },
     "metadata": {},
     "output_type": "display_data"
    },
    {
     "data": {
      "text/html": [
       "<pre>| 207     | 18.04s       | 0.130134          | 0.360652              | 0.00106402  |</pre>"
      ],
      "text/plain": [
       "| 207     | 18.04s       | 0.130134          | 0.360652              | 0.00106402  |"
      ]
     },
     "metadata": {},
     "output_type": "display_data"
    },
    {
     "data": {
      "text/html": [
       "<pre>| 217     | 18.79s       | 0.122025          | 0.349226              | 0.00102703  |</pre>"
      ],
      "text/plain": [
       "| 217     | 18.79s       | 0.122025          | 0.349226              | 0.00102703  |"
      ]
     },
     "metadata": {},
     "output_type": "display_data"
    },
    {
     "data": {
      "text/html": [
       "<pre>| 227     | 19.50s       | 0.114631          | 0.33847               | 0.000992906 |</pre>"
      ],
      "text/plain": [
       "| 227     | 19.50s       | 0.114631          | 0.33847               | 0.000992906 |"
      ]
     },
     "metadata": {},
     "output_type": "display_data"
    },
    {
     "data": {
      "text/html": [
       "<pre>| 237     | 20.22s       | 0.107874          | 0.328334              | 0.000961316 |</pre>"
      ],
      "text/plain": [
       "| 237     | 20.22s       | 0.107874          | 0.328334              | 0.000961316 |"
      ]
     },
     "metadata": {},
     "output_type": "display_data"
    },
    {
     "data": {
      "text/html": [
       "<pre>| 247     | 20.98s       | 0.101688          | 0.318772              | 0.000931976 |</pre>"
      ],
      "text/plain": [
       "| 247     | 20.98s       | 0.101688          | 0.318772              | 0.000931976 |"
      ]
     },
     "metadata": {},
     "output_type": "display_data"
    },
    {
     "data": {
      "text/html": [
       "<pre>| 257     | 21.75s       | 0.0960126         | 0.30974               | 0.000904644 |</pre>"
      ],
      "text/plain": [
       "| 257     | 21.75s       | 0.0960126         | 0.30974               | 0.000904644 |"
      ]
     },
     "metadata": {},
     "output_type": "display_data"
    },
    {
     "data": {
      "text/html": [
       "<pre>| 267     | 22.49s       | 0.090797          | 0.3012                | 0.000879112 |</pre>"
      ],
      "text/plain": [
       "| 267     | 22.49s       | 0.090797          | 0.3012                | 0.000879112 |"
      ]
     },
     "metadata": {},
     "output_type": "display_data"
    },
    {
     "data": {
      "text/html": [
       "<pre>| 277     | 23.40s       | 0.0859943         | 0.293116              | 0.0008552   |</pre>"
      ],
      "text/plain": [
       "| 277     | 23.40s       | 0.0859943         | 0.293116              | 0.0008552   |"
      ]
     },
     "metadata": {},
     "output_type": "display_data"
    },
    {
     "data": {
      "text/html": [
       "<pre>| 287     | 24.20s       | 0.081564          | 0.285456              | 0.000832753 |</pre>"
      ],
      "text/plain": [
       "| 287     | 24.20s       | 0.081564          | 0.285456              | 0.000832753 |"
      ]
     },
     "metadata": {},
     "output_type": "display_data"
    },
    {
     "data": {
      "text/html": [
       "<pre>| 297     | 24.88s       | 0.0774696         | 0.27819               | 0.000811634 |</pre>"
      ],
      "text/plain": [
       "| 297     | 24.88s       | 0.0774696         | 0.27819               | 0.000811634 |"
      ]
     },
     "metadata": {},
     "output_type": "display_data"
    },
    {
     "data": {
      "text/html": [
       "<pre>+---------+--------------+-------------------+-----------------------+-------------+</pre>"
      ],
      "text/plain": [
       "+---------+--------------+-------------------+-----------------------+-------------+"
      ]
     },
     "metadata": {},
     "output_type": "display_data"
    },
    {
     "data": {
      "text/html": [
       "<pre>Optimization Complete: Maximum number of passes through the data reached.</pre>"
      ],
      "text/plain": [
       "Optimization Complete: Maximum number of passes through the data reached."
      ]
     },
     "metadata": {},
     "output_type": "display_data"
    },
    {
     "data": {
      "text/html": [
       "<pre>Computing final objective value and training RMSE.</pre>"
      ],
      "text/plain": [
       "Computing final objective value and training RMSE."
      ]
     },
     "metadata": {},
     "output_type": "display_data"
    },
    {
     "data": {
      "text/html": [
       "<pre>       Final objective value: 0.0755837</pre>"
      ],
      "text/plain": [
       "       Final objective value: 0.0755837"
      ]
     },
     "metadata": {},
     "output_type": "display_data"
    },
    {
     "data": {
      "text/html": [
       "<pre>       Final training RMSE: 0.274778</pre>"
      ],
      "text/plain": [
       "       Final training RMSE: 0.274778"
      ]
     },
     "metadata": {},
     "output_type": "display_data"
    },
    {
     "data": {
      "text/html": [
       "<pre>recommendations finished on 1000/3242 queries. users per second: 12334.4</pre>"
      ],
      "text/plain": [
       "recommendations finished on 1000/3242 queries. users per second: 12334.4"
      ]
     },
     "metadata": {},
     "output_type": "display_data"
    },
    {
     "data": {
      "text/html": [
       "<pre>recommendations finished on 2000/3242 queries. users per second: 10299.9</pre>"
      ],
      "text/plain": [
       "recommendations finished on 2000/3242 queries. users per second: 10299.9"
      ]
     },
     "metadata": {},
     "output_type": "display_data"
    },
    {
     "data": {
      "text/html": [
       "<pre>recommendations finished on 3000/3242 queries. users per second: 10229.7</pre>"
      ],
      "text/plain": [
       "recommendations finished on 3000/3242 queries. users per second: 10229.7"
      ]
     },
     "metadata": {},
     "output_type": "display_data"
    },
    {
     "name": "stdout",
     "output_type": "stream",
     "text": [
      "dict_keys(['precision_recall_overall', 'precision_recall_by_user'])\n",
      "+----------------+--------+-----------+--------+-------+\n",
      "|   reviewerID   | cutoff | precision | recall | count |\n",
      "+----------------+--------+-----------+--------+-------+\n",
      "| A103KNDW8GN92L |   1    |    0.0    |  0.0   |   2   |\n",
      "| A103KNDW8GN92L |   2    |    0.0    |  0.0   |   2   |\n",
      "| A103KNDW8GN92L |   3    |    0.0    |  0.0   |   2   |\n",
      "| A103KNDW8GN92L |   4    |    0.0    |  0.0   |   2   |\n",
      "| A103KNDW8GN92L |   5    |    0.0    |  0.0   |   2   |\n",
      "| A103KNDW8GN92L |   6    |    0.0    |  0.0   |   2   |\n",
      "| A103KNDW8GN92L |   7    |    0.0    |  0.0   |   2   |\n",
      "| A103KNDW8GN92L |   8    |    0.0    |  0.0   |   2   |\n",
      "| A103KNDW8GN92L |   9    |    0.0    |  0.0   |   2   |\n",
      "| A103KNDW8GN92L |   10   |    0.0    |  0.0   |   2   |\n",
      "+----------------+--------+-----------+--------+-------+\n",
      "[58356 rows x 5 columns]\n",
      "Note: Only the head of the SFrame is printed.\n",
      "You can use print_rows(num_rows=m, num_columns=n) to print more rows and columns.\n",
      "0.154317630201\n"
     ]
    }
   ],
   "source": [
    "## using recommender system lsa or svd\n",
    "\n",
    "# outF = open(\"cross_val_score.txt\", \"w\")\n",
    "\n",
    "## random seed 22 is good.\n",
    "shuffletrain = gl.cross_validation.shuffle(train, random_seed=22)\n",
    "\n",
    "# for train, valid in folds:\n",
    "model = gl.recommender.factorization_recommender.create(observation_data=train,\n",
    "                                                        user_id=\"reviewerID\",\n",
    "                                                        item_id=\"asin\",\n",
    "                                                        target=\"overall\",\n",
    "                                                        num_factors=50, \n",
    "                                                        nmf=0, max_iterations=300,\n",
    "                                                        solver='sgd',\n",
    "                                                        verbose=1)\n",
    "    \n",
    "# print >> outF, model['coefficients']\n",
    "# # view = model.views.overview(validation_set=)\n",
    "# print >> outF, model.evaluate_precision_recall(dataset=valid)\n",
    "# print >> outF, model.evaluate_rmse(valid, target='overall')\n",
    "# print >> outF, \"balibalibalibalibalibalibbalibbalibbalibalibali\"\n",
    "\n",
    "# out_rmse = model.evaluate_rmse(dataset=test, target='overall')\n",
    "out_pr = model.evaluate_precision_recall(dataset=test, verbose=1)\n",
    "print(out_pr.viewkeys())\n",
    "print(out_pr['precision_recall_by_user'])\n",
    "print(out_pr['precision_recall_overall']['recall'].sum())\n",
    "# model.show()\n",
    "\n",
    "\n",
    "# outF.close()"
   ]
  },
  {
   "cell_type": "code",
   "execution_count": 7,
   "metadata": {},
   "outputs": [],
   "source": [
    "# params = dict([('target', 'overall'),('observation_data', 'train'),('user_id', \"reviewerID\"),('item_id', \"asin\"),('target', \"overall\"),\n",
    "#                                                 ('num_factors', 10),('solver', 'als'),('verbose', '1')])\n",
    "\n",
    "# def evaluator1(model, train, valid):\n",
    "#     targets = valid['overall']\n",
    "#     return graphlab.evaluation.f1_score(targets, predictions,average = 'micro')\n",
    "\n",
    "# job = gl.cross_validation.cross_val_score(folds,gl.recommender.factorization_recommender.create,params, evaluator=evaluator1)\n",
    "# # # print >> outF, job.get_results()\n",
    "\n",
    "# print(job.get_results())\n",
    "# outF.close()"
   ]
  },
  {
   "cell_type": "code",
   "execution_count": 8,
   "metadata": {},
   "outputs": [],
   "source": [
    "# recs = model.recommend(users=[\"AFNCXMCX7VZWH\"])"
   ]
  },
  {
   "cell_type": "code",
   "execution_count": 13,
   "metadata": {
    "scrolled": false
   },
   "outputs": [
    {
     "data": {
      "text/plain": [
       "<matplotlib.axes._subplots.AxesSubplot at 0x2092da90>"
      ]
     },
     "execution_count": 13,
     "metadata": {},
     "output_type": "execute_result"
    },
    {
     "data": {
      "image/png": "[encoded data removed]",
      "text/plain": [
       "<Figure size 720x720 with 1 Axes>"
      ]
     },
     "metadata": {},
     "output_type": "display_data"
    }
   ],
   "source": [
    "# coeff = model['coefficients']['reviewerID']['factors']\n",
    "\n",
    "# python method list\n",
    "methods = [method_name for method_name in dir(model) if callable(getattr(model, method_name))]\n",
    "# print(coeff)\n",
    "\n",
    "# print(model.summary)\n",
    "\n",
    "userPitem = model.get_num_users_per_item()\n",
    "itemPuser = model.get_num_items_per_user()\n",
    "\n",
    "userPitem = userPitem.to_dataframe()\n",
    "itemPuser = itemPuser.to_dataframe()\n",
    "\n",
    "# itemPuser = itemPuser.sort_values(\"num_items\", ascending=False, kind='mergesort')\n",
    "userPitem = userPitem.sort_values(\"num_users\", ascending=False, kind='mergesort')\n",
    "# print(itemPuser)\n",
    "\n",
    "# sb.barplot(userPitem['asin'], userPitem['num_users']) #Variable Plot\n",
    "\n",
    "plt.figure(figsize=(10,10))\n",
    "# sb.barplot(y='reviewerID', x='num_items', data=itemPuser.head(50))\n",
    "\n",
    "# userPitem.head(50)\n",
    "\n",
    "sb.set_style('darkgrid')\n",
    "sb.barplot(y='asin', x='num_users', data=userPitem.head(50))"
   ]
  },
  {
   "cell_type": "code",
   "execution_count": 9,
   "metadata": {},
   "outputs": [
    {
     "data": {
      "text/html": [
       "<pre>Learning a topic model</pre>"
      ],
      "text/plain": [
       "Learning a topic model"
      ]
     },
     "metadata": {},
     "output_type": "display_data"
    },
    {
     "data": {
      "text/html": [
       "<pre>       Number of documents     64706</pre>"
      ],
      "text/plain": [
       "       Number of documents     64706"
      ]
     },
     "metadata": {},
     "output_type": "display_data"
    },
    {
     "data": {
      "text/html": [
       "<pre>           Vocabulary size    366316</pre>"
      ],
      "text/plain": [
       "           Vocabulary size    366316"
      ]
     },
     "metadata": {},
     "output_type": "display_data"
    },
    {
     "data": {
      "text/html": [
       "<pre>   Running collapsed Gibbs sampling</pre>"
      ],
      "text/plain": [
       "   Running collapsed Gibbs sampling"
      ]
     },
     "metadata": {},
     "output_type": "display_data"
    },
    {
     "data": {
      "text/html": [
       "<pre>+-----------+---------------+----------------+-----------------+</pre>"
      ],
      "text/plain": [
       "+-----------+---------------+----------------+-----------------+"
      ]
     },
     "metadata": {},
     "output_type": "display_data"
    },
    {
     "data": {
      "text/html": [
       "<pre>| Iteration | Elapsed Time  | Tokens/Second  | Est. Perplexity |</pre>"
      ],
      "text/plain": [
       "| Iteration | Elapsed Time  | Tokens/Second  | Est. Perplexity |"
      ]
     },
     "metadata": {},
     "output_type": "display_data"
    },
    {
     "data": {
      "text/html": [
       "<pre>+-----------+---------------+----------------+-----------------+</pre>"
      ],
      "text/plain": [
       "+-----------+---------------+----------------+-----------------+"
      ]
     },
     "metadata": {},
     "output_type": "display_data"
    },
    {
     "data": {
      "text/html": [
       "<pre>| 10        | 23.69s        | 2.38389e+006   | 16452.1         |</pre>"
      ],
      "text/plain": [
       "| 10        | 23.69s        | 2.38389e+006   | 16452.1         |"
      ]
     },
     "metadata": {},
     "output_type": "display_data"
    },
    {
     "data": {
      "text/html": [
       "<pre>topic 0: album original &amp; song title fans single collection music. great full set includes worth include</pre>"
      ],
      "text/plain": [
       "topic 0: album original &amp; song title fans single collection music. great full set includes worth include"
      ]
     },
     "metadata": {},
     "output_type": "display_data"
    },
    {
     "data": {
      "text/html": [
       "<pre>topic 1: buy songs gza collection. wu-tang rza method brandy highly fan made production buckley's liquid iron</pre>"
      ],
      "text/plain": [
       "topic 1: buy songs gza collection. wu-tang rza method brandy highly fan made production buckley's liquid iron"
      ]
     },
     "metadata": {},
     "output_type": "display_data"
    },
    {
     "data": {
      "text/html": [
       "<pre>topic 2: music great musical high albums it. recording enjoy feel rest sing creative give are: here,</pre>"
      ],
      "text/plain": [
       "topic 2: music great musical high albums it. recording enjoy feel rest sing creative give are: here,"
      ]
     },
     "metadata": {},
     "output_type": "display_data"
    },
    {
     "data": {
      "text/html": [
       "<pre>topic 3: album good album, big long can't 3 make \"the hot things listening features top lyrics</pre>"
      ],
      "text/plain": [
       "topic 3: album good album, big long can't 3 make \"the hot things listening features top lyrics"
      ]
     },
     "metadata": {},
     "output_type": "display_data"
    },
    {
     "data": {
      "text/html": [
       "<pre>topic 4: song good don't album. heard hear time song. that's kind it. feel big me. didn't</pre>"
      ],
      "text/plain": [
       "topic 4: song good don't album. heard hear time song. that's kind it. feel big me. didn't"
      ]
     },
     "metadata": {},
     "output_type": "display_data"
    },
    {
     "data": {
      "text/html": [
       "<pre>topic 5: songs it's i'm love i've that's time perfect big give simon stone work fan long</pre>"
      ],
      "text/plain": [
       "topic 5: songs it's i'm love i've that's time perfect big give simon stone work fan long"
      ]
     },
     "metadata": {},
     "output_type": "display_data"
    },
    {
     "data": {
      "text/html": [
       "<pre>topic 6: sounds can't bad find gonna voice listen record singing add tracks lips heard guess make</pre>"
      ],
      "text/plain": [
       "topic 6: sounds can't bad find gonna voice listen record singing add tracks lips heard guess make"
      ]
     },
     "metadata": {},
     "output_type": "display_data"
    },
    {
     "data": {
      "text/html": [
       "<pre>topic 7: album words dance blood record straight band wanna mr. record. beats lot soulful variety pick</pre>"
      ],
      "text/plain": [
       "topic 7: album words dance blood record straight band wanna mr. record. beats lot soulful variety pick"
      ]
     },
     "metadata": {},
     "output_type": "display_data"
    },
    {
     "data": {
      "text/html": [
       "<pre>topic 8: it's don't great album. love i'm albums sound buy back favorite one. real heard that's</pre>"
      ],
      "text/plain": [
       "topic 8: it's don't great album. love i'm albums sound buy back favorite one. real heard that's"
      ]
     },
     "metadata": {},
     "output_type": "display_data"
    },
    {
     "data": {
      "text/html": [
       "<pre>topic 9: cd 2 tracks long stars live reviews 1 fans couple star me, 3 hear punk</pre>"
      ],
      "text/plain": [
       "topic 9: cd 2 tracks long stars live reviews 1 fans couple star me, 3 hear punk"
      ]
     },
     "metadata": {},
     "output_type": "display_data"
    },
    {
     "data": {
      "text/html": [
       "<pre>topic 10: cd album buy album, record material voice, made big run well, solo good sweet song</pre>"
      ],
      "text/plain": [
       "topic 10: cd album buy album, record material voice, made big run well, solo good sweet song"
      ]
     },
     "metadata": {},
     "output_type": "display_data"
    },
    {
     "data": {
      "text/html": [
       "<pre>topic 11: music musical time bit sounds good early tracks disc joni world played release that's time.</pre>"
      ],
      "text/plain": [
       "topic 11: music musical time bit sounds good early tracks disc joni world played release that's time."
      ]
     },
     "metadata": {},
     "output_type": "display_data"
    },
    {
     "data": {
      "text/html": [
       "<pre>topic 12: songs back album. purchased sound favorite r&b best. front hasn't love school i've day loved</pre>"
      ],
      "text/plain": [
       "topic 12: songs back album. purchased sound favorite r&b best. front hasn't love school i've day loved"
      ]
     },
     "metadata": {},
     "output_type": "display_data"
    },
    {
     "data": {
      "text/html": [
       "<pre>topic 13: record years solo stand carly enjoy nice big songs, it's debut simon high interesting girl</pre>"
      ],
      "text/plain": [
       "topic 13: record years solo stand carly enjoy nice big songs, it's debut simon high interesting girl"
      ]
     },
     "metadata": {},
     "output_type": "display_data"
    },
    {
     "data": {
      "text/html": [
       "<pre>topic 14: music it's it. track title don't radio lot world makes years country listen hit strong</pre>"
      ],
      "text/plain": [
       "topic 14: music it's it. track title don't radio lot world makes years country listen hit strong"
      ]
     },
     "metadata": {},
     "output_type": "display_data"
    },
    {
     "data": {
      "text/html": [
       "<pre>topic 15: - good beat -- game track 2 great nice production beats (f/ rap nas he's</pre>"
      ],
      "text/plain": [
       "topic 15: - good beat -- game track 2 great nice production beats (f/ rap nas he's"
      ]
     },
     "metadata": {},
     "output_type": "display_data"
    },
    {
     "data": {
      "text/html": [
       "<pre>topic 16: make found rock buy born release releases dont made solid live interested real sound start</pre>"
      ],
      "text/plain": [
       "topic 16: make found rock buy born release releases dont made solid live interested real sound start"
      ]
     },
     "metadata": {},
     "output_type": "display_data"
    },
    {
     "data": {
      "text/html": [
       "<pre>topic 17: &quot;the hear beats heard bad say, &quot;you &quot;i funky set long mike mary gems pick</pre>"
      ],
      "text/plain": [
       "topic 17: &quot;the hear beats heard bad say, &quot;you &quot;i funky set long mike mary gems pick"
      ]
     },
     "metadata": {},
     "output_type": "display_data"
    },
    {
     "data": {
      "text/html": [
       "<pre>topic 18: music i'm worth found artist 5 stop collection. disc deep loves cd. mr. one. i've</pre>"
      ],
      "text/plain": [
       "topic 18: music i'm worth found artist 5 stop collection. disc deep loves cd. mr. one. i've"
      ]
     },
     "metadata": {},
     "output_type": "display_data"
    },
    {
     "data": {
      "text/html": [
       "<pre>topic 19: songs album rock phil don't album. collection country fan collins you're good eagles dance make</pre>"
      ],
      "text/plain": [
       "topic 19: songs album rock phil don't album. collection country fan collins you're good eagles dance make"
      ]
     },
     "metadata": {},
     "output_type": "display_data"
    },
    {
     "data": {
      "text/html": [
       "<pre>topic 20: blues love rock time playing moody title sacd can't &quot;the enjoyed stars lot songs blues.</pre>"
      ],
      "text/plain": [
       "topic 20: blues love rock time playing moody title sacd can't &quot;the enjoyed stars lot songs blues."
      ]
     },
     "metadata": {},
     "output_type": "display_data"
    },
    {
     "data": {
      "text/html": [
       "<pre>topic 21: cd time album. it, prince hate sound. i'm carl 70's she's high them. debut stars</pre>"
      ],
      "text/plain": [
       "topic 21: cd time album. it, prince hate sound. i'm carl 70's she's high them. debut stars"
      ]
     },
     "metadata": {},
     "output_type": "display_data"
    },
    {
     "data": {
      "text/html": [
       "<pre>topic 22: cd good 2 rap beats 4 hip da hop production ja 5 rule stars rhymes</pre>"
      ],
      "text/plain": [
       "topic 22: cd good 2 rap beats 4 hip da hop production ja 5 rule stars rhymes"
      ]
     },
     "metadata": {},
     "output_type": "display_data"
    },
    {
     "data": {
      "text/html": [
       "<pre>topic 23: cd album - heard don't song high jay-z cd, alison listened review however, style 10</pre>"
      ],
      "text/plain": [
       "topic 23: cd album - heard don't song high jay-z cd, alison listened review however, style 10"
      ]
     },
     "metadata": {},
     "output_type": "display_data"
    },
    {
     "data": {
      "text/html": [
       "<pre>topic 24: album can't put back favorite single black soul kind coast west me, mike live make</pre>"
      ],
      "text/plain": [
       "topic 24: album can't put back favorite single black soul kind coast west me, mike live make"
      ]
     },
     "metadata": {},
     "output_type": "display_data"
    },
    {
     "data": {
      "text/html": [
       "<pre>topic 25: rock love classic i'm long brings isn't hard kind guys jazz found fire bands stuff</pre>"
      ],
      "text/plain": [
       "topic 25: rock love classic i'm long brings isn't hard kind guys jazz found fire bands stuff"
      ]
     },
     "metadata": {},
     "output_type": "display_data"
    },
    {
     "data": {
      "text/html": [
       "<pre>topic 26: white jack great stripes fan it. stuff bought play meg black hear dance pick feat</pre>"
      ],
      "text/plain": [
       "topic 26: white jack great stripes fan it. stuff bought play meg black hear dance pick feat"
      ]
     },
     "metadata": {},
     "output_type": "display_data"
    },
    {
     "data": {
      "text/html": [
       "<pre>topic 27: great \" r&b , track ( an' can't nice true cd. worth ) music. collection.</pre>"
      ],
      "text/plain": [
       "topic 27: great \" r&b , track ( an' can't nice true cd. worth ) music. collection."
      ]
     },
     "metadata": {},
     "output_type": "display_data"
    },
    {
     "data": {
      "text/html": [
       "<pre>topic 28: cd music dont real lyrics beats classic words matter thought 10 doesn't solid dope didnt</pre>"
      ],
      "text/plain": [
       "topic 28: cd music dont real lyrics beats classic words matter thought 10 doesn't solid dope didnt"
      ]
     },
     "metadata": {},
     "output_type": "display_data"
    },
    {
     "data": {
      "text/html": [
       "<pre>topic 29: sound group hot put production makes wasn't miss classic ! music. don't out. duffy day</pre>"
      ],
      "text/plain": [
       "topic 29: sound group hot put production makes wasn't miss classic ! music. don't out. duffy day"
      ]
     },
     "metadata": {},
     "output_type": "display_data"
    },
    {
     "data": {
      "text/html": [
       "<pre>topic 30: lyrics music favorite steely album's perfect turn pure simon sound didn't you. hit can't simon's</pre>"
      ],
      "text/plain": [
       "topic 30: lyrics music favorite steely album's perfect turn pure simon sound didn't you. hit can't simon's"
      ]
     },
     "metadata": {},
     "output_type": "display_data"
    },
    {
     "data": {
      "text/html": [
       "<pre>topic 31: cd years songs alicia release can't music keys classic give good lp album, amy ballads</pre>"
      ],
      "text/plain": [
       "topic 31: cd years songs alicia release can't music keys classic give good lp album, amy ballads"
      ]
     },
     "metadata": {},
     "output_type": "display_data"
    },
    {
     "data": {
      "text/html": [
       "<pre>topic 32: cd tunes guy artists highly pure kids i've alot talent today admit moment left jam</pre>"
      ],
      "text/plain": [
       "topic 32: cd tunes guy artists highly pure kids i've alot talent today admit moment left jam"
      ]
     },
     "metadata": {},
     "output_type": "display_data"
    },
    {
     "data": {
      "text/html": [
       "<pre>topic 33: great listen pop you're 3 cd. band tunes that's amazing pretty beautiful track start live</pre>"
      ],
      "text/plain": [
       "topic 33: great listen pop you're 3 cd. band tunes that's amazing pretty beautiful track start live"
      ]
     },
     "metadata": {},
     "output_type": "display_data"
    },
    {
     "data": {
      "text/html": [
       "<pre>topic 34: tracks music album make feel track listen listening put classic i've music. i'm fans that's</pre>"
      ],
      "text/plain": [
       "topic 34: tracks music album make feel track listen listening put classic i've music. i'm fans that's"
      ]
     },
     "metadata": {},
     "output_type": "display_data"
    },
    {
     "data": {
      "text/html": [
       "<pre>topic 35: songs song albums classic don't hit &quot; give enjoy part things greatest it. favorite it,</pre>"
      ],
      "text/plain": [
       "topic 35: songs song albums classic don't hit &quot; give enjoy part things greatest it. favorite it,"
      ]
     },
     "metadata": {},
     "output_type": "display_data"
    },
    {
     "data": {
      "text/html": [
       "<pre>topic 36: sound listen soul sounds easy album years remember collection. amazing hit knew stop long interpol</pre>"
      ],
      "text/plain": [
       "topic 36: sound listen soul sounds easy album years remember collection. amazing hit knew stop long interpol"
      ]
     },
     "metadata": {},
     "output_type": "display_data"
    },
    {
     "data": {
      "text/html": [
       "<pre>topic 37: it's voice title long sounds dance remember group good tracks world pop, earth dire idea</pre>"
      ],
      "text/plain": [
       "topic 37: it's voice title long sounds dance remember group good tracks world pop, earth dire idea"
      ]
     },
     "metadata": {},
     "output_type": "display_data"
    },
    {
     "data": {
      "text/html": [
       "<pre>topic 38: hard time music guy real check rock it's you've great work i'm james album. songs,</pre>"
      ],
      "text/plain": [
       "topic 38: hard time music guy real check rock it's you've great work i'm james album. songs,"
      ]
     },
     "metadata": {},
     "output_type": "display_data"
    },
    {
     "data": {
      "text/html": [
       "<pre>topic 39: - album music & track sounds guitar vocal vocals sound work piano pop -- makes</pre>"
      ],
      "text/plain": [
       "topic 39: - album music & track sounds guitar vocal vocals sound work piano pop -- makes"
      ]
     },
     "metadata": {},
     "output_type": "display_data"
    },
    {
     "data": {
      "text/html": [
       "<pre>topic 40: i'm music pop people buy made lyrics kelly fun huge music, r. jackson left top</pre>"
      ],
      "text/plain": [
       "topic 40: i'm music pop people buy made lyrics kelly fun huge music, r. jackson left top"
      ]
     },
     "metadata": {},
     "output_type": "display_data"
    },
    {
     "data": {
      "text/html": [
       "<pre>topic 41: songs cd good song great it. worth make heard listening favorite voice listen live sarah</pre>"
      ],
      "text/plain": [
       "topic 41: songs cd good song great it. worth make heard listening favorite voice listen live sarah"
      ]
     },
     "metadata": {},
     "output_type": "display_data"
    },
    {
     "data": {
      "text/html": [
       "<pre>topic 42: music pop nelly don't makes furtado listening it, musical words fans amazing gave isn't times</pre>"
      ],
      "text/plain": [
       "topic 42: music pop nelly don't makes furtado listening it, musical words fans amazing gave isn't times"
      ]
     },
     "metadata": {},
     "output_type": "display_data"
    },
    {
     "data": {
      "text/html": [
       "<pre>topic 43: fan heard guru & gang he's cd check sounds work bit production mr. guy stays</pre>"
      ],
      "text/plain": [
       "topic 43: fan heard guru & gang he's cd check sounds work bit production mr. guy stays"
      ]
     },
     "metadata": {},
     "output_type": "display_data"
    },
    {
     "data": {
      "text/html": [
       "<pre>topic 44: voice cyndi reviews lauper wanna grace blues song. jimmy nickel cyndi's vocals ever. fan past</pre>"
      ],
      "text/plain": [
       "topic 44: voice cyndi reviews lauper wanna grace blues song. jimmy nickel cyndi's vocals ever. fan past"
      ]
     },
     "metadata": {},
     "output_type": "display_data"
    },
    {
     "data": {
      "text/html": [
       "<pre>topic 45: cd cd. it's heard made &amp; songs makes she's disc lyrics don't big &quot;the dance</pre>"
      ],
      "text/plain": [
       "topic 45: cd cd. it's heard made &amp; songs makes she's disc lyrics don't big &quot;the dance"
      ]
     },
     "metadata": {},
     "output_type": "display_data"
    },
    {
     "data": {
      "text/html": [
       "<pre>topic 46: love big outkast , rest real andre i'm singing voice back country boi songs, style</pre>"
      ],
      "text/plain": [
       "topic 46: love big outkast , rest real andre i'm singing voice back country boi songs, style"
      ]
     },
     "metadata": {},
     "output_type": "display_data"
    },
    {
     "data": {
      "text/html": [
       "<pre>topic 47: songs . love buy listening true hit songs, fans check sell albums hits johnny recorded</pre>"
      ],
      "text/plain": [
       "topic 47: songs . love buy listening true hit songs, fans check sell albums hits johnny recorded"
      ]
     },
     "metadata": {},
     "output_type": "display_data"
    },
    {
     "data": {
      "text/html": [
       "<pre>topic 48: time love songs can't cd lyrics album. release 2 disc track life find 4 loved</pre>"
      ],
      "text/plain": [
       "topic 48: time love songs can't cd lyrics album. release 2 disc track life find 4 loved"
      ]
     },
     "metadata": {},
     "output_type": "display_data"
    },
    {
     "data": {
      "text/html": [
       "<pre>topic 49: songs van time long band david halen alanis lot lee albums eddie music songs, interesting</pre>"
      ],
      "text/plain": [
       "topic 49: songs van time long band david halen alanis lot lee albums eddie music songs, interesting"
      ]
     },
     "metadata": {},
     "output_type": "display_data"
    },
    {
     "data": {
      "text/html": [
       "<pre>topic 50: it's song pretty voice heard album, record there's isn't great title beautiful song. find here,</pre>"
      ],
      "text/plain": [
       "topic 50: it's song pretty voice heard album, record there's isn't great title beautiful song. find here,"
      ]
     },
     "metadata": {},
     "output_type": "display_data"
    },
    {
     "data": {
      "text/html": [
       "<pre>topic 51: song it's track good song, favorite tracks song. featuring chorus eminem catchy bit lot makes</pre>"
      ],
      "text/plain": [
       "topic 51: song it's track good song, favorite tracks song. featuring chorus eminem catchy bit lot makes"
      ]
     },
     "metadata": {},
     "output_type": "display_data"
    },
    {
     "data": {
      "text/html": [
       "<pre>topic 52: hip hop great songs listen don't buy you're time. thing i've sound straight life thought</pre>"
      ],
      "text/plain": [
       "topic 52: hip hop great songs listen don't buy you're time. thing i've sound straight life thought"
      ]
     },
     "metadata": {},
     "output_type": "display_data"
    },
    {
     "data": {
      "text/html": [
       "<pre>topic 53: great sound i'm people listen it. music. vocals disc song. music, amazing jazz heard singing</pre>"
      ],
      "text/plain": [
       "topic 53: great sound i'm people listen it. music. vocals disc song. music, amazing jazz heard singing"
      ]
     },
     "metadata": {},
     "output_type": "display_data"
    },
    {
     "data": {
      "text/html": [
       "<pre>topic 54: song listen lyrics songs, listening made long time. life songs. give work i've they're music.</pre>"
      ],
      "text/plain": [
       "topic 54: song listen lyrics songs, listening made long time. life songs. give work i've they're music."
      ]
     },
     "metadata": {},
     "output_type": "display_data"
    },
    {
     "data": {
      "text/html": [
       "<pre>topic 55: tori cat tori's amos put stevens albums marshall eminem time music. lyrics long mathers found</pre>"
      ],
      "text/plain": [
       "topic 55: tori cat tori's amos put stevens albums marshall eminem time music. lyrics long mathers found"
      ]
     },
     "metadata": {},
     "output_type": "display_data"
    },
    {
     "data": {
      "text/html": [
       "<pre>topic 56: make buy recommend great voice la band dark one. material late music, excellent playing bad</pre>"
      ],
      "text/plain": [
       "topic 56: make buy recommend great voice la band dark one. material late music, excellent playing bad"
      ]
     },
     "metadata": {},
     "output_type": "display_data"
    },
    {
     "data": {
      "text/html": [
       "<pre>topic 57: classic cd tracks tunes favorites &amp; personal &quot;i bon artist playing musical title high jovi</pre>"
      ],
      "text/plain": [
       "topic 57: classic cd tracks tunes favorites &amp; personal &quot;i bon artist playing musical title high jovi"
      ]
     },
     "metadata": {},
     "output_type": "display_data"
    },
    {
     "data": {
      "text/html": [
       "<pre>topic 58: good love rest bought kind it. day stars radiohead top clay you, time. &amp; out,</pre>"
      ],
      "text/plain": [
       "topic 58: good love rest bought kind it. day stars radiohead top clay you, time. &amp; out,"
      ]
     },
     "metadata": {},
     "output_type": "display_data"
    },
    {
     "data": {
      "text/html": [
       "<pre>topic 59: jazz albums rock heard musicians lyrics pop highly song duran tracks group bossa that. enjoy</pre>"
      ],
      "text/plain": [
       "topic 59: jazz albums rock heard musicians lyrics pop highly song duran tracks group bossa that. enjoy"
      ]
     },
     "metadata": {},
     "output_type": "display_data"
    },
    {
     "data": {
      "text/html": [
       "<pre>topic 60: music jazz it. work recording don't playing recordings modern musicians release steely favorite radio miles</pre>"
      ],
      "text/plain": [
       "topic 60: music jazz it. work recording don't playing recordings modern musicians release steely favorite radio miles"
      ]
     },
     "metadata": {},
     "output_type": "display_data"
    },
    {
     "data": {
      "text/html": [
       "<pre>topic 61: don't albums lyrics billboard rest u.s. nice long &amp; sound 100 sweet didn't i've sounds</pre>"
      ],
      "text/plain": [
       "topic 61: don't albums lyrics billboard rest u.s. nice long &amp; sound 100 sweet didn't i've sounds"
      ]
     },
     "metadata": {},
     "output_type": "display_data"
    },
    {
     "data": {
      "text/html": [
       "<pre>topic 62: dan song play 5 pick fred dan's bon style listened rocks sublime r&amp;b , fogelberg</pre>"
      ],
      "text/plain": [
       "topic 62: dan song play 5 pick fred dan's bon style listened rocks sublime r&amp;b , fogelberg"
      ]
     },
     "metadata": {},
     "output_type": "display_data"
    },
    {
     "data": {
      "text/html": [
       "<pre>topic 63: hits greatest years bone james musical style sam brown artists popular top album, mariah career</pre>"
      ],
      "text/plain": [
       "topic 63: hits greatest years bone james musical style sam brown artists popular top album, mariah career"
      ]
     },
     "metadata": {},
     "output_type": "display_data"
    },
    {
     "data": {
      "text/html": [
       "<pre>topic 64: - great cd song listen rock back nice bit top love shows single make year</pre>"
      ],
      "text/plain": [
       "topic 64: - great cd song listen rock back nice bit top love shows single make year"
      ]
     },
     "metadata": {},
     "output_type": "display_data"
    },
    {
     "data": {
      "text/html": [
       "<pre>topic 65: album years it. it! there's hiphop ago sing voice genesis but, pretty excellent shyne found</pre>"
      ],
      "text/plain": [
       "topic 65: album years it. it! there's hiphop ago sing voice genesis but, pretty excellent shyne found"
      ]
     },
     "metadata": {},
     "output_type": "display_data"
    },
    {
     "data": {
      "text/html": [
       "<pre>topic 66: & back it's snoop dr. time dre can't he's real released favorite dogg production records</pre>"
      ],
      "text/plain": [
       "topic 66: & back it's snoop dr. time dre can't he's real released favorite dogg production records"
      ]
     },
     "metadata": {},
     "output_type": "display_data"
    },
    {
     "data": {
      "text/html": [
       "<pre>topic 67: jay de albums blueprint nick music. heard good featuring stars reasonable drake girl jamiroquai ~</pre>"
      ],
      "text/plain": [
       "topic 67: jay de albums blueprint nick music. heard good featuring stars reasonable drake girl jamiroquai ~"
      ]
     },
     "metadata": {},
     "output_type": "display_data"
    },
    {
     "data": {
      "text/html": [
       "<pre>topic 68: album songs top don't single michael release big it, live elvis feel costello radio 20</pre>"
      ],
      "text/plain": [
       "topic 68: album songs top don't single michael release big it, live elvis feel costello radio 20"
      ]
     },
     "metadata": {},
     "output_type": "display_data"
    },
    {
     "data": {
      "text/html": [
       "<pre>topic 69: rap 50 & lil gangsta cent hip pac money beat tight 10 rappers rapper ja</pre>"
      ],
      "text/plain": [
       "topic 69: rap 50 & lil gangsta cent hip pac money beat tight 10 rappers rapper ja"
      ]
     },
     "metadata": {},
     "output_type": "display_data"
    },
    {
     "data": {
      "text/html": [
       "<pre>topic 70: pick favorite worth work time buy strong i'm pop music devo classic you're stop ain't</pre>"
      ],
      "text/plain": [
       "topic 70: pick favorite worth work time buy strong i'm pop music devo classic you're stop ain't"
      ]
     },
     "metadata": {},
     "output_type": "display_data"
    },
    {
     "data": {
      "text/html": [
       "<pre>topic 71: album it's love album, great song pop hit single madonna beautiful live time i've classic</pre>"
      ],
      "text/plain": [
       "topic 71: album it's love album, great song pop hit single madonna beautiful live time i've classic"
      ]
     },
     "metadata": {},
     "output_type": "display_data"
    },
    {
     "data": {
      "text/html": [
       "<pre>topic 72: love favorite album music albums hear songs cypress real isn't hill fun hit out, disc,</pre>"
      ],
      "text/plain": [
       "topic 72: love favorite album music albums hear songs cypress real isn't hill fun hit out, disc,"
      ]
     },
     "metadata": {},
     "output_type": "display_data"
    },
    {
     "data": {
      "text/html": [
       "<pre>topic 73: album song it's songs great album. albums sound find put lyrics strong debut i've years</pre>"
      ],
      "text/plain": [
       "topic 73: album song it's songs great album. albums sound find put lyrics strong debut i've years"
      ]
     },
     "metadata": {},
     "output_type": "display_data"
    },
    {
     "data": {
      "text/html": [
       "<pre>topic 74: songs band version love & album. isn't musical find cover here. found versions collection here,</pre>"
      ],
      "text/plain": [
       "topic 74: songs band version love & album. isn't musical find cover here. found versions collection here,"
      ]
     },
     "metadata": {},
     "output_type": "display_data"
    },
    {
     "data": {
      "text/html": [
       "<pre>topic 75: good rock love album, american bad buy life album. full find title world recommend bought</pre>"
      ],
      "text/plain": [
       "topic 75: good rock love album, american bad buy life album. full find title world recommend bought"
      ]
     },
     "metadata": {},
     "output_type": "display_data"
    },
    {
     "data": {
      "text/html": [
       "<pre>topic 76: made album listening great free simply songs, can't &quot;the soul wonderful me, wild man smoke</pre>"
      ],
      "text/plain": [
       "topic 76: made album listening great free simply songs, can't &quot;the soul wonderful me, wild man smoke"
      ]
     },
     "metadata": {},
     "output_type": "display_data"
    },
    {
     "data": {
      "text/html": [
       "<pre>topic 77: album back fans rest album. worth thought people hits , give true boys pretty albums.</pre>"
      ],
      "text/plain": [
       "topic 77: album back fans rest album. worth thought people hits , give true boys pretty albums."
      ]
     },
     "metadata": {},
     "output_type": "display_data"
    },
    {
     "data": {
      "text/html": [
       "<pre>topic 78: album great album, doesn't album. people make classic there's \"the work however, back heavy style</pre>"
      ],
      "text/plain": [
       "topic 78: album great album, doesn't album. people make classic there's \"the work however, back heavy style"
      ]
     },
     "metadata": {},
     "output_type": "display_data"
    },
    {
     "data": {
      "text/html": [
       "<pre>topic 79: good album. music pretty tracks back isn't albums favorite bad thing excellent work there's beats</pre>"
      ],
      "text/plain": [
       "topic 79: good album. music pretty tracks back isn't albums favorite bad thing excellent work there's beats"
      ]
     },
     "metadata": {},
     "output_type": "display_data"
    },
    {
     "data": {
      "text/html": [
       "<pre>topic 80: song album group girl recommend wonderful el en la time listen highly funky metal late</pre>"
      ],
      "text/plain": [
       "topic 80: song album group girl recommend wonderful el en la time listen highly funky metal late"
      ]
     },
     "metadata": {},
     "output_type": "display_data"
    },
    {
     "data": {
      "text/html": [
       "<pre>topic 81: high boys wanna listened doesn't metal found pop 80's artist tupac beach it's solo production</pre>"
      ],
      "text/plain": [
       "topic 81: high boys wanna listened doesn't metal found pop 80's artist tupac beach it's solo production"
      ]
     },
     "metadata": {},
     "output_type": "display_data"
    },
    {
     "data": {
      "text/html": [
       "<pre>topic 82: albums it. years album. album, glad 4 talented incredible forget played good. heard. piece simply</pre>"
      ],
      "text/plain": [
       "topic 82: albums it. years album. album, glad 4 talented incredible forget played good. heard. piece simply"
      ]
     },
     "metadata": {},
     "output_type": "display_data"
    },
    {
     "data": {
      "text/html": [
       "<pre>topic 83: songs hits music greatest love cd it. hard hendrix collection listen cd. compilation fan can't</pre>"
      ],
      "text/plain": [
       "topic 83: songs hits music greatest love cd it. hard hendrix collection listen cd. compilation fan can't"
      ]
     },
     "metadata": {},
     "output_type": "display_data"
    },
    {
     "data": {
      "text/html": [
       "<pre>topic 84: & hot rap black back tight listen pretty wu classic worth 2 gangsta albums solo</pre>"
      ],
      "text/plain": [
       "topic 84: & hot rap black back tight listen pretty wu classic worth 2 gangsta albums solo"
      ]
     },
     "metadata": {},
     "output_type": "display_data"
    },
    {
     "data": {
      "text/html": [
       "<pre>topic 85: album \"the sound john elton single time released hit original version track \"i made live</pre>"
      ],
      "text/plain": [
       "topic 85: album \"the sound john elton single time released hit original version track \"i made live"
      ]
     },
     "metadata": {},
     "output_type": "display_data"
    },
    {
     "data": {
      "text/html": [
       "<pre>topic 86: album band it's song guitar albums time - back good vocals bands lyrics \"the however,</pre>"
      ],
      "text/plain": [
       "topic 86: album band it's song guitar albums time - back good vocals bands lyrics \"the however,"
      ]
     },
     "metadata": {},
     "output_type": "display_data"
    },
    {
     "data": {
      "text/html": [
       "<pre>topic 87: songs sound pop album, love cd i'm songs. band sounds bit beautiful tracks strong music.</pre>"
      ],
      "text/plain": [
       "topic 87: songs sound pop album, love cd i'm songs. band sounds bit beautiful tracks strong music."
      ]
     },
     "metadata": {},
     "output_type": "display_data"
    },
    {
     "data": {
      "text/html": [
       "<pre>topic 88: songs great love album, album. cd rock voice stevie make time fleetwood duran music mac</pre>"
      ],
      "text/plain": [
       "topic 88: songs great love album, album. cd rock voice stevie make time fleetwood duran music mac"
      ]
     },
     "metadata": {},
     "output_type": "display_data"
    },
    {
     "data": {
      "text/html": [
       "<pre>topic 89: cube listen ice you'll years urban pop cube's beats high find favorites this. wanna annie</pre>"
      ],
      "text/plain": [
       "topic 89: cube listen ice you'll years urban pop cube's beats high find favorites this. wanna annie"
      ]
     },
     "metadata": {},
     "output_type": "display_data"
    },
    {
     "data": {
      "text/html": [
       "<pre>topic 90: great album it! time. soulful cd, song wanted 5 hope single ballads listened collection album.</pre>"
      ],
      "text/plain": [
       "topic 90: great album it! time. soulful cd, song wanted 5 hope single ballads listened collection album."
      ]
     },
     "metadata": {},
     "output_type": "display_data"
    },
    {
     "data": {
      "text/html": [
       "<pre>topic 91: listen garbage on. add &quot;the point stars stand solid purchase. playing heard year don't it!</pre>"
      ],
      "text/plain": [
       "topic 91: listen garbage on. add &quot;the point stars stand solid purchase. playing heard year don't it!"
      ]
     },
     "metadata": {},
     "output_type": "display_data"
    },
    {
     "data": {
      "text/html": [
       "<pre>topic 92: good classic remixes albums collection filled recommend water singers 1 interesting sounds. katy kiss mellow</pre>"
      ],
      "text/plain": [
       "topic 92: good classic remixes albums collection filled recommend water singers 1 interesting sounds. katy kiss mellow"
      ]
     },
     "metadata": {},
     "output_type": "display_data"
    },
    {
     "data": {
      "text/html": [
       "<pre>topic 93: album it. music. can't aretha fan songs bad heard title put beats bit but, isn't</pre>"
      ],
      "text/plain": [
       "topic 93: album it. music. can't aretha fan songs bad heard title put beats bit but, isn't"
      ]
     },
     "metadata": {},
     "output_type": "display_data"
    },
    {
     "data": {
      "text/html": [
       "<pre>topic 94: music album rock i've great bands recommend i'm listen future wonderful young perfect tunes high</pre>"
      ],
      "text/plain": [
       "topic 94: music album rock i've great bands recommend i'm listen future wonderful young perfect tunes high"
      ]
     },
     "metadata": {},
     "output_type": "display_data"
    },
    {
     "data": {
      "text/html": [
       "<pre>topic 95: album rock tracks album, it's hard bit you'll long put real fans nice deep band,</pre>"
      ],
      "text/plain": [
       "topic 95: album rock tracks album, it's hard bit you'll long put real fans nice deep band,"
      ]
     },
     "metadata": {},
     "output_type": "display_data"
    },
    {
     "data": {
      "text/html": [
       "<pre>topic 96: great cash johnny buy hear top cd cash's late ain't punk songs. , record lp</pre>"
      ],
      "text/plain": [
       "topic 96: great cash johnny buy hear top cd cash's late ain't punk songs. , record lp"
      ]
     },
     "metadata": {},
     "output_type": "display_data"
    },
    {
     "data": {
      "text/html": [
       "<pre>topic 97: album tracks albums rock album. excellent made hard release disc sound original highly remastered live</pre>"
      ],
      "text/plain": [
       "topic 97: album tracks albums rock album. excellent made hard release disc sound original highly remastered live"
      ]
     },
     "metadata": {},
     "output_type": "display_data"
    },
    {
     "data": {
      "text/html": [
       "<pre>topic 98: sound pretty album. don't it. album it, that. this. songs. title damn back lyrics hear</pre>"
      ],
      "text/plain": [
       "topic 98: sound pretty album. don't it. album it, that. this. songs. title damn back lyrics hear"
      ]
     },
     "metadata": {},
     "output_type": "display_data"
    },
    {
     "data": {
      "text/html": [
       "<pre>topic 99: sounds voice it's i'm doesn't people love music back rock long he's beat favorite time.</pre>"
      ],
      "text/plain": [
       "topic 99: sounds voice it's i'm doesn't people love music back rock long he's beat favorite time."
      ]
     },
     "metadata": {},
     "output_type": "display_data"
    },
    {
     "data": {
      "text/html": [
       "<pre>| 20        | 56.43s        | 1.84734e+006   | 16375.6         |</pre>"
      ],
      "text/plain": [
       "| 20        | 56.43s        | 1.84734e+006   | 16375.6         |"
      ]
     },
     "metadata": {},
     "output_type": "display_data"
    },
    {
     "data": {
      "text/html": [
       "<pre>topic 0: album &amp; &quot;i title jam great r&amp;b pearl pop &quot;i'm me&quot; &quot;you music. song &quot;love</pre>"
      ],
      "text/plain": [
       "topic 0: album &amp; &quot;i title jam great r&amp;b pearl pop &quot;i'm me&quot; &quot;you music. song &quot;love"
      ]
     },
     "metadata": {},
     "output_type": "display_data"
    },
    {
     "data": {
      "text/html": [
       "<pre>topic 1: buy hayes buckley's production brandy world mr. fan make liquid women one, grow isaac enjoyed</pre>"
      ],
      "text/plain": [
       "topic 1: buy hayes buckley's production brandy world mr. fan make liquid women one, grow isaac enjoyed"
      ]
     },
     "metadata": {},
     "output_type": "display_data"
    },
    {
     "data": {
      "text/html": [
       "<pre>topic 2: music great it. feel young word enjoy rest songwriting sing lyrics creative listening pay special</pre>"
      ],
      "text/plain": [
       "topic 2: music great it. feel young word enjoy rest songwriting sing lyrics creative listening pay special"
      ]
     },
     "metadata": {},
     "output_type": "display_data"
    },
    {
     "data": {
      "text/html": [
       "<pre>topic 3: album good album, big songs can't long lyrics \"the things top remember make 3 pick</pre>"
      ],
      "text/plain": [
       "topic 3: album good album, big songs can't long lyrics \"the things top remember make 3 pick"
      ]
     },
     "metadata": {},
     "output_type": "display_data"
    },
    {
     "data": {
      "text/html": [
       "<pre>topic 4: don't song good it. heard feel that's album. hear time sound isn't didn't kind favorite</pre>"
      ],
      "text/plain": [
       "topic 4: don't song good it. heard feel that's album. hear time sound isn't didn't kind favorite"
      ]
     },
     "metadata": {},
     "output_type": "display_data"
    },
    {
     "data": {
      "text/html": [
       "<pre>topic 5: songs love it's simon soul stone i'm i've time joss work give she's barry big</pre>"
      ],
      "text/plain": [
       "topic 5: songs love it's simon soul stone i'm i've time joss work give she's barry big"
      ]
     },
     "metadata": {},
     "output_type": "display_data"
    },
    {
     "data": {
      "text/html": [
       "<pre>topic 6: can't sounds record listen music lips flaming find bad make perfect voice start gonna stand</pre>"
      ],
      "text/plain": [
       "topic 6: can't sounds record listen music lips flaming find bad make perfect voice start gonna stand"
      ]
     },
     "metadata": {},
     "output_type": "display_data"
    },
    {
     "data": {
      "text/html": [
       "<pre>topic 7: album record rest grab simply emotional albums bright records effort. amazing smash it. luck comparable</pre>"
      ],
      "text/plain": [
       "topic 7: album record rest grab simply emotional albums bright records effort. amazing smash it. luck comparable"
      ]
     },
     "metadata": {},
     "output_type": "display_data"
    },
    {
     "data": {
      "text/html": [
       "<pre>topic 8: don't it's i'm love buy great that's back albums album. favorite one. real i've ...</pre>"
      ],
      "text/plain": [
       "topic 8: don't it's i'm love buy great that's back albums album. favorite one. real i've ..."
      ]
     },
     "metadata": {},
     "output_type": "display_data"
    },
    {
     "data": {
      "text/html": [
       "<pre>topic 9: cd punk 1 daft 2 tracks me, long copy reason day buy fans. couple purchase</pre>"
      ],
      "text/plain": [
       "topic 9: cd punk 1 daft 2 tracks me, long copy reason day buy fans. couple purchase"
      ]
     },
     "metadata": {},
     "output_type": "display_data"
    },
    {
     "data": {
      "text/html": [
       "<pre>topic 10: album cd buy made cd. run material song collection good sound. talent hiatt great sweet</pre>"
      ],
      "text/plain": [
       "topic 10: album cd buy made cd. run material song collection good sound. talent hiatt great sweet"
      ]
     },
     "metadata": {},
     "output_type": "display_data"
    },
    {
     "data": {
      "text/html": [
       "<pre>topic 11: music musical early joni time disc bit cars late sounds rock time. mitchell tracks world</pre>"
      ],
      "text/plain": [
       "topic 11: music musical early joni time disc bit cars late sounds rock time. mitchell tracks world"
      ]
     },
     "metadata": {},
     "output_type": "display_data"
    },
    {
     "data": {
      "text/html": [
       "<pre>topic 12: songs album. school miss alone, love humble that's purchased work best. love, price 3 electronic</pre>"
      ],
      "text/plain": [
       "topic 12: songs album. school miss alone, love humble that's purchased work best. love, price 3 electronic"
      ]
     },
     "metadata": {},
     "output_type": "display_data"
    },
    {
     "data": {
      "text/html": [
       "<pre>topic 13: record years carly solo enjoy simon stand make high carole songs, sweet remember essential rest</pre>"
      ],
      "text/plain": [
       "topic 13: record years carly solo enjoy simon stand make high carole songs, sweet remember essential rest"
      ]
     },
     "metadata": {},
     "output_type": "display_data"
    },
    {
     "data": {
      "text/html": [
       "<pre>topic 14: music it's don't radio it. listen country world years music, makes people make listening title</pre>"
      ],
      "text/plain": [
       "topic 14: music it's don't radio it. listen country world years music, makes people make listening title"
      ]
     },
     "metadata": {},
     "output_type": "display_data"
    },
    {
     "data": {
      "text/html": [
       "<pre>topic 15: - album good & beat beats track rap great production -- 2 lyrics game featuring</pre>"
      ],
      "text/plain": [
       "topic 15: - album good & beat beats track rap great production -- 2 lyrics game featuring"
      ]
     },
     "metadata": {},
     "output_type": "display_data"
    },
    {
     "data": {
      "text/html": [
       "<pre>topic 16: buy make albums live shame impossible upbeat jimmy favorite legacy rock matter outstanding. enjoy. style</pre>"
      ],
      "text/plain": [
       "topic 16: buy make albums live shame impossible upbeat jimmy favorite legacy rock matter outstanding. enjoy. style"
      ]
     },
     "metadata": {},
     "output_type": "display_data"
    },
    {
     "data": {
      "text/html": [
       "<pre>topic 17: &quot;the long funky bad buy grooves gems &quot;i work mediocre makes you'll album stars career.</pre>"
      ],
      "text/plain": [
       "topic 17: &quot;the long funky bad buy grooves gems &quot;i work mediocre makes you'll album stars career."
      ]
     },
     "metadata": {},
     "output_type": "display_data"
    },
    {
     "data": {
      "text/html": [
       "<pre>topic 18: music i've record best. found one. r&b = purchase people long forward easy track mr.</pre>"
      ],
      "text/plain": [
       "topic 18: music i've record best. found one. r&b = purchase people long forward easy track mr."
      ]
     },
     "metadata": {},
     "output_type": "display_data"
    },
    {
     "data": {
      "text/html": [
       "<pre>topic 19: songs album phil eagles collins don't rock country album. good genesis fan albums pop steve</pre>"
      ],
      "text/plain": [
       "topic 19: songs album phil eagles collins don't rock country album. good genesis fan albums pop steve"
      ]
     },
     "metadata": {},
     "output_type": "display_data"
    },
    {
     "data": {
      "text/html": [
       "<pre>topic 20: blues love moody can't time title enjoyed blues. people c.d. playing guy's car back incredible</pre>"
      ],
      "text/plain": [
       "topic 20: blues love moody can't time title enjoyed blues. people c.d. playing guy's car back incredible"
      ]
     },
     "metadata": {},
     "output_type": "display_data"
    },
    {
     "data": {
      "text/html": [
       "<pre>topic 21: cd tracks good prince now. debut sound. time band. thought days play songs. artists big</pre>"
      ],
      "text/plain": [
       "topic 21: cd tracks good prince now. debut sound. time band. thought days play songs. artists big"
      ]
     },
     "metadata": {},
     "output_type": "display_data"
    },
    {
     "data": {
      "text/html": [
       "<pre>topic 22: cd good 2 5 beats 4 hip stars im hop bad cd. production worth worst</pre>"
      ],
      "text/plain": [
       "topic 22: cd good 2 5 beats 4 hip stars im hop bad cd. production worth worst"
      ]
     },
     "metadata": {},
     "output_type": "display_data"
    },
    {
     "data": {
      "text/html": [
       "<pre>topic 23: cd album - buy heard alison bluegrass song worth cd, country krauss don't 2 times</pre>"
      ],
      "text/plain": [
       "topic 23: cd album - buy heard alison bluegrass song worth cd, country krauss don't 2 times"
      ]
     },
     "metadata": {},
     "output_type": "display_data"
    },
    {
     "data": {
      "text/html": [
       "<pre>topic 24: album can't put back favorite girl black title wait check lot expect pop add pure</pre>"
      ],
      "text/plain": [
       "topic 24: album can't put back favorite girl black title wait check lot expect pop add pure"
      ]
     },
     "metadata": {},
     "output_type": "display_data"
    },
    {
     "data": {
      "text/html": [
       "<pre>topic 25: love rock worth lot guys true classic stuff long played found i'm fire good. year</pre>"
      ],
      "text/plain": [
       "topic 25: love rock worth lot guys true classic stuff long played found i'm fire good. year"
      ]
     },
     "metadata": {},
     "output_type": "display_data"
    },
    {
     "data": {
      "text/html": [
       "<pre>topic 26: white jack stripes great black meg cold lady white's gaga button nation led elephant feel</pre>"
      ],
      "text/plain": [
       "topic 26: white jack stripes great black meg cold lady white's gaga button nation led elephant feel"
      ]
     },
     "metadata": {},
     "output_type": "display_data"
    },
    {
     "data": {
      "text/html": [
       "<pre>topic 27: , great \" ( . ) danger mouse an' gnarls cee-lo : feel tracks years</pre>"
      ],
      "text/plain": [
       "topic 27: , great \" ( . ) danger mouse an' gnarls cee-lo : feel tracks years"
      ]
     },
     "metadata": {},
     "output_type": "display_data"
    },
    {
     "data": {
      "text/html": [
       "<pre>topic 28: dont cd music real didnt im isnt lyrics classic alot guy songs. aint wont beats</pre>"
      ],
      "text/plain": [
       "topic 28: dont cd music real didnt im isnt lyrics classic alot guy songs. aint wont beats"
      ]
     },
     "metadata": {},
     "output_type": "display_data"
    },
    {
     "data": {
      "text/html": [
       "<pre>topic 29: ! put group sound guys duffy production music. happy don't ? say, hot started miss</pre>"
      ],
      "text/plain": [
       "topic 29: ! put group sound guys duffy production music. happy don't ? say, hot started miss"
      ]
     },
     "metadata": {},
     "output_type": "display_data"
    },
    {
     "data": {
      "text/html": [
       "<pre>topic 30: lyrics music ben hit folds years pop pure del word perfect night effort royal stuff</pre>"
      ],
      "text/plain": [
       "topic 30: lyrics music ben hit folds years pop pure del word perfect night effort royal stuff"
      ]
     },
     "metadata": {},
     "output_type": "display_data"
    },
    {
     "data": {
      "text/html": [
       "<pre>topic 31: cd good alicia songs amy lp keys music years true release classic keyshia reviews man</pre>"
      ],
      "text/plain": [
       "topic 31: cd good alicia songs amy lp keys music years true release classic keyshia reviews man"
      ]
     },
     "metadata": {},
     "output_type": "display_data"
    },
    {
     "data": {
      "text/html": [
       "<pre>topic 32: cd tunes seals beautiful man highly please, crofts till artists running kids surprised jimmy remake</pre>"
      ],
      "text/plain": [
       "topic 32: cd tunes seals beautiful man highly please, crofts till artists running kids surprised jimmy remake"
      ]
     },
     "metadata": {},
     "output_type": "display_data"
    },
    {
     "data": {
      "text/html": [
       "<pre>topic 33: great christmas listen amazing 3 pop you're tunes --- call track put feel boys sing</pre>"
      ],
      "text/plain": [
       "topic 33: great christmas listen amazing 3 pop you're tunes --- call track put feel boys sing"
      ]
     },
     "metadata": {},
     "output_type": "display_data"
    },
    {
     "data": {
      "text/html": [
       "<pre>topic 34: album music listen tracks i'm make don't feel music. listening artist she's i've put track</pre>"
      ],
      "text/plain": [
       "topic 34: album music listen tracks i'm make don't feel music. listening artist she's i've put track"
      ]
     },
     "metadata": {},
     "output_type": "display_data"
    },
    {
     "data": {
      "text/html": [
       "<pre>topic 35: songs albums don't song &quot; , collection. enjoy didn't simply tracks album, remember classic found</pre>"
      ],
      "text/plain": [
       "topic 35: songs albums don't song &quot; , collection. enjoy didn't simply tracks album, remember classic found"
      ]
     },
     "metadata": {},
     "output_type": "display_data"
    },
    {
     "data": {
      "text/html": [
       "<pre>topic 36: listen easy remember musical albums. guy soul classic. years album listened beach heart. albums 25</pre>"
      ],
      "text/plain": [
       "topic 36: listen easy remember musical albums. guy soul classic. years album listened beach heart. albums 25"
      ]
     },
     "metadata": {},
     "output_type": "display_data"
    },
    {
     "data": {
      "text/html": [
       "<pre>topic 37: mark voice title dire knopfler long world straits emmylou group sounds nice albums, great. knopfler's</pre>"
      ],
      "text/plain": [
       "topic 37: mark voice title dire knopfler long world straits emmylou group sounds nice albums, great. knopfler's"
      ]
     },
     "metadata": {},
     "output_type": "display_data"
    },
    {
     "data": {
      "text/html": [
       "<pre>topic 38: music guy check work hard it's time gordon listening lightfoot real good mind albums years</pre>"
      ],
      "text/plain": [
       "topic 38: music guy check work hard it's time gordon listening lightfoot real good mind albums years"
      ]
     },
     "metadata": {},
     "output_type": "display_data"
    },
    {
     "data": {
      "text/html": [
       "<pre>topic 39: music - album vocals sound track lyrics sounds vocal pop & guitar piano love beautiful</pre>"
      ],
      "text/plain": [
       "topic 39: music - album vocals sound track lyrics sounds vocal pop & guitar piano love beautiful"
      ]
     },
     "metadata": {},
     "output_type": "display_data"
    },
    {
     "data": {
      "text/html": [
       "<pre>topic 40: kelly pop music. buy r. music i'm lyrics made real people huge 12 you're hope</pre>"
      ],
      "text/plain": [
       "topic 40: kelly pop music. buy r. music i'm lyrics made real people huge 12 you're hope"
      ]
     },
     "metadata": {},
     "output_type": "display_data"
    },
    {
     "data": {
      "text/html": [
       "<pre>topic 41: cd songs song good great cd. heard voice it. favorite cd, listen bought worth album</pre>"
      ],
      "text/plain": [
       "topic 41: cd songs song good great cd. heard voice it. favorite cd, listen bought worth album"
      ]
     },
     "metadata": {},
     "output_type": "display_data"
    },
    {
     "data": {
      "text/html": [
       "<pre>topic 42: nelly music furtado pop carrie amazing makes don't pure nelly's isn't gwen chris fans furtado's</pre>"
      ],
      "text/plain": [
       "topic 42: nelly music furtado pop carrie amazing makes don't pure nelly's isn't gwen chris fans furtado's"
      ]
     },
     "metadata": {},
     "output_type": "display_data"
    },
    {
     "data": {
      "text/html": [
       "<pre>topic 43: gang fan guru starr premier this. side check elo work beats & skills cut times</pre>"
      ],
      "text/plain": [
       "topic 43: gang fan guru starr premier this. side check elo work beats & skills cut times"
      ]
     },
     "metadata": {},
     "output_type": "display_data"
    },
    {
     "data": {
      "text/html": [
       "<pre>topic 44: cyndi voice lauper doesn't cyndi's great. nickel lauper's wanna debut one. creek \"she's here, great</pre>"
      ],
      "text/plain": [
       "topic 44: cyndi voice lauper doesn't cyndi's great. nickel lauper's wanna debut one. creek \"she's here, great"
      ]
     },
     "metadata": {},
     "output_type": "display_data"
    },
    {
     "data": {
      "text/html": [
       "<pre>topic 45: cd &amp; cd. &quot;the don't songs heard made disc original lyrics makes it's cd's pick</pre>"
      ],
      "text/plain": [
       "topic 45: cd &amp; cd. &quot;the don't songs heard made disc original lyrics makes it's cd's pick"
      ]
     },
     "metadata": {},
     "output_type": "display_data"
    },
    {
     "data": {
      "text/html": [
       "<pre>topic 46: love big outkast andre boi &quot;the boi's real hip-hop i'm outkast's free 3000 style rest</pre>"
      ],
      "text/plain": [
       "topic 46: love big outkast andre boi &quot;the boi's real hip-hop i'm outkast's free 3000 style rest"
      ]
     },
     "metadata": {},
     "output_type": "display_data"
    },
    {
     "data": {
      "text/html": [
       "<pre>topic 47: . songs love karen buy voice carpenters fan listening willie it, make now! true richard</pre>"
      ],
      "text/plain": [
       "topic 47: . songs love karen buy voice carpenters fan listening willie it, make now! true richard"
      ]
     },
     "metadata": {},
     "output_type": "display_data"
    },
    {
     "data": {
      "text/html": [
       "<pre>topic 48: time love songs disc lyrics can't cd release 2 talent i'm thought fan death loved</pre>"
      ],
      "text/plain": [
       "topic 48: time love songs disc lyrics can't cd release 2 talent i'm thought fan death loved"
      ]
     },
     "metadata": {},
     "output_type": "display_data"
    },
    {
     "data": {
      "text/html": [
       "<pre>topic 49: songs van rock alanis halen david eddie lee time debut fan albums long band dave</pre>"
      ],
      "text/plain": [
       "topic 49: songs van rock alanis halen david eddie lee time debut fan albums long band dave"
      ]
     },
     "metadata": {},
     "output_type": "display_data"
    },
    {
     "data": {
      "text/html": [
       "<pre>topic 50: it's song songs voice great isn't album, pretty there's heard find favorite can't you're i'm</pre>"
      ],
      "text/plain": [
       "topic 50: it's song songs voice great isn't album, pretty there's heard find favorite can't you're i'm"
      ]
     },
     "metadata": {},
     "output_type": "display_data"
    },
    {
     "data": {
      "text/html": [
       "<pre>topic 51: song it's track good song. album. song, tracks favorite nice makes album, people make catchy</pre>"
      ],
      "text/plain": [
       "topic 51: song it's track good song. album. song, tracks favorite nice makes album, people make catchy"
      ]
     },
     "metadata": {},
     "output_type": "display_data"
    },
    {
     "data": {
      "text/html": [
       "<pre>topic 52: hip hop great listen don't songs buy time. makes check recommend thumbs now. thought release</pre>"
      ],
      "text/plain": [
       "topic 52: hip hop great listen don't songs buy time. makes check recommend thumbs now. thought release"
      ]
     },
     "metadata": {},
     "output_type": "display_data"
    },
    {
     "data": {
      "text/html": [
       "<pre>topic 53: great sound listen i'm love it. years guitar music. play disc people music, record singing</pre>"
      ],
      "text/plain": [
       "topic 53: great sound listen i'm love it. years guitar music. play disc people music, record singing"
      ]
     },
     "metadata": {},
     "output_type": "display_data"
    },
    {
     "data": {
      "text/html": [
       "<pre>topic 54: listen lyrics music. song long made you'll i've time. sounds songs. listening work earlier listened</pre>"
      ],
      "text/plain": [
       "topic 54: listen lyrics music. song long made you'll i've time. sounds songs. listening work earlier listened"
      ]
     },
     "metadata": {},
     "output_type": "display_data"
    },
    {
     "data": {
      "text/html": [
       "<pre>topic 55: tori cat amos tori's stevens found long lyrics albums boys choirgirl &quot;little time venus \"little</pre>"
      ],
      "text/plain": [
       "topic 55: tori cat amos tori's stevens found long lyrics albums boys choirgirl &quot;little time venus \"little"
      ]
     },
     "metadata": {},
     "output_type": "display_data"
    },
    {
     "data": {
      "text/html": [
       "<pre>topic 56: recommend purchase artist make 3 great late material mix nerves talent. point years\" follow toto</pre>"
      ],
      "text/plain": [
       "topic 56: recommend purchase artist make 3 great late material mix nerves talent. point years\" follow toto"
      ]
     },
     "metadata": {},
     "output_type": "display_data"
    },
    {
     "data": {
      "text/html": [
       "<pre>topic 57: tracks bon musical cd favorites jovi day tunes classic personal amazing put playing huge memories</pre>"
      ],
      "text/plain": [
       "topic 57: tracks bon musical cd favorites jovi day tunes classic personal amazing put playing huge memories"
      ]
     },
     "metadata": {},
     "output_type": "display_data"
    },
    {
     "data": {
      "text/html": [
       "<pre>topic 58: good radiohead thom love clay yorke here. kind radiohead's top yorke's you, rest 90's it.</pre>"
      ],
      "text/plain": [
       "topic 58: good radiohead thom love clay yorke here. kind radiohead's top yorke's you, rest 90's it."
      ]
     },
     "metadata": {},
     "output_type": "display_data"
    },
    {
     "data": {
      "text/html": [
       "<pre>topic 59: jazz albums blue musicians musical coltrane jazz, session bossa classic players recorded highly sinatra nova</pre>"
      ],
      "text/plain": [
       "topic 59: jazz albums blue musicians musical coltrane jazz, session bossa classic players recorded highly sinatra nova"
      ]
     },
     "metadata": {},
     "output_type": "display_data"
    },
    {
     "data": {
      "text/html": [
       "<pre>topic 60: music miles playing jazz recording work recordings it. recommend modern musicians me, favorite ornette davis</pre>"
      ],
      "text/plain": [
       "topic 60: music miles playing jazz recording work recordings it. recommend modern musicians me, favorite ornette davis"
      ]
     },
     "metadata": {},
     "output_type": "display_data"
    },
    {
     "data": {
      "text/html": [
       "<pre>topic 61: hot albums top billboard u.s. don't 100 &quot;the adult 40 released easy year long &amp;</pre>"
      ],
      "text/plain": [
       "topic 61: hot albums top billboard u.s. don't 100 &quot;the adult 40 released easy year long &amp;"
      ]
     },
     "metadata": {},
     "output_type": "display_data"
    },
    {
     "data": {
      "text/html": [
       "<pre>topic 62: dan steely donald fagen dan's becker fred royal play durst lose limp b-52's &amp; fogelberg</pre>"
      ],
      "text/plain": [
       "topic 62: dan steely donald fagen dan's becker fred royal play durst lose limp b-52's &amp; fogelberg"
      ]
     },
     "metadata": {},
     "output_type": "display_data"
    },
    {
     "data": {
      "text/html": [
       "<pre>topic 63: bone greatest james years mariah hits songs sam top made whitney brown style musical popular</pre>"
      ],
      "text/plain": [
       "topic 63: bone greatest james years mariah hits songs sam top made whitney brown style musical popular"
      ]
     },
     "metadata": {},
     "output_type": "display_data"
    },
    {
     "data": {
      "text/html": [
       "<pre>topic 64: - great cd song love listen back rock top nice bit shows school don't hear</pre>"
      ],
      "text/plain": [
       "topic 64: - great cd song love listen back rock top nice bit shows school don't hear"
      ]
     },
     "metadata": {},
     "output_type": "display_data"
    },
    {
     "data": {
      "text/html": [
       "<pre>topic 65: album years it. 10 glen boys sing wolf put up, pick tracks poor it! effort</pre>"
      ],
      "text/plain": [
       "topic 65: album years it. 10 glen boys sing wolf put up, pick tracks poor it! effort"
      ]
     },
     "metadata": {},
     "output_type": "display_data"
    },
    {
     "data": {
      "text/html": [
       "<pre>topic 66: & back he's snoop it's time funk can't dre production brings real death year buy</pre>"
      ],
      "text/plain": [
       "topic 66: & back he's snoop it's time funk can't dre production brings real death year buy"
      ]
     },
     "metadata": {},
     "output_type": "display_data"
    },
    {
     "data": {
      "text/html": [
       "<pre>topic 67: nick drake drake's albums music. jamiroquai jay gonna nick's heard \"pink reasonable jane kay bought</pre>"
      ],
      "text/plain": [
       "topic 67: nick drake drake's albums music. jamiroquai jay gonna nick's heard \"pink reasonable jane kay bought"
      ]
     },
     "metadata": {},
     "output_type": "display_data"
    },
    {
     "data": {
      "text/html": [
       "<pre>topic 68: album songs michael jackson top single don't elvis jackson's hit costello michael's release music quincy</pre>"
      ],
      "text/plain": [
       "topic 68: album songs michael jackson top single don't elvis jackson's hit costello michael's release music quincy"
      ]
     },
     "metadata": {},
     "output_type": "display_data"
    },
    {
     "data": {
      "text/html": [
       "<pre>topic 69: rap 50 hip money rappers cent hop ja hip-hop rapper pac 2pac don't die real</pre>"
      ],
      "text/plain": [
       "topic 69: rap 50 hip money rappers cent hop ja hip-hop rapper pac 2pac don't die real"
      ]
     },
     "metadata": {},
     "output_type": "display_data"
    },
    {
     "data": {
      "text/html": [
       "<pre>topic 70: devo worth work pick strong point time years can't talent. buy effort i'm favorite loved</pre>"
      ],
      "text/plain": [
       "topic 70: devo worth work pick strong point time years can't talent. buy effort i'm favorite loved"
      ]
     },
     "metadata": {},
     "output_type": "display_data"
    },
    {
     "data": {
      "text/html": [
       "<pre>topic 71: album song love it's great album, pop single hit time years madonna dance released beautiful</pre>"
      ],
      "text/plain": [
       "topic 71: album song love it's great album, pop single hit time years madonna dance released beautiful"
      ]
     },
     "metadata": {},
     "output_type": "display_data"
    },
    {
     "data": {
      "text/html": [
       "<pre>topic 72: album hill love cypress tracks liz favorite albums phair hill's one. album. solo grace group</pre>"
      ],
      "text/plain": [
       "topic 72: album hill love cypress tracks liz favorite albums phair hill's one. album. solo grace group"
      ]
     },
     "metadata": {},
     "output_type": "display_data"
    },
    {
     "data": {
      "text/html": [
       "<pre>topic 73: album songs great it's albums song album. sound put can't lyrics find i've love buy</pre>"
      ],
      "text/plain": [
       "topic 73: album songs great it's albums song album. sound put can't lyrics find i've love buy"
      ]
     },
     "metadata": {},
     "output_type": "display_data"
    },
    {
     "data": {
      "text/html": [
       "<pre>topic 74: songs band live version heard cover made & dylan found here, isn't album. love bob</pre>"
      ],
      "text/plain": [
       "topic 74: songs band live version heard cover made & dylan found here, isn't album. love bob"
      ]
     },
     "metadata": {},
     "output_type": "display_data"
    },
    {
     "data": {
      "text/html": [
       "<pre>topic 75: buy love good rock album time albums album, group bad blur world american i'm recommend</pre>"
      ],
      "text/plain": [
       "topic 75: buy love good rock album time albums album, group bad blur world american i'm recommend"
      ]
     },
     "metadata": {},
     "output_type": "display_data"
    },
    {
     "data": {
      "text/html": [
       "<pre>topic 76: album great free coming simply stereolab proved 7 satisfying artist. moment can't this. stars. it.</pre>"
      ],
      "text/plain": [
       "topic 76: album great free coming simply stereolab proved 7 satisfying artist. moment can't this. stars. it."
      ]
     },
     "metadata": {},
     "output_type": "display_data"
    },
    {
     "data": {
      "text/html": [
       "<pre>topic 77: album album. fans back rest worth , good true boys start heavy thought great pixies</pre>"
      ],
      "text/plain": [
       "topic 77: album album. fans back rest worth , good true boys start heavy thought great pixies"
      ]
     },
     "metadata": {},
     "output_type": "display_data"
    },
    {
     "data": {
      "text/html": [
       "<pre>topic 78: album great album, album. people tracks doesn't make lot can't time back \"the songs it.</pre>"
      ],
      "text/plain": [
       "topic 78: album great album, album. people tracks doesn't make lot can't time back \"the songs it."
      ]
     },
     "metadata": {},
     "output_type": "display_data"
    },
    {
     "data": {
      "text/html": [
       "<pre>topic 79: good tracks album. music albums pretty great bad good. back favorite check them. beats albums,</pre>"
      ],
      "text/plain": [
       "topic 79: good tracks album. music albums pretty great bad good. back favorite check them. beats albums,"
      ]
     },
     "metadata": {},
     "output_type": "display_data"
    },
    {
     "data": {
      "text/html": [
       "<pre>topic 80: de la los listen el album en girl son lo group better. del wonderful al</pre>"
      ],
      "text/plain": [
       "topic 80: de la los listen el album en girl son lo group better. del wonderful al"
      ]
     },
     "metadata": {},
     "output_type": "display_data"
    },
    {
     "data": {
      "text/html": [
       "<pre>topic 81: guy = boys cd. close hey expected stellar world eye call here. r&b sound, fairly</pre>"
      ],
      "text/plain": [
       "topic 81: guy = boys cd. close hey expected stellar world eye call here. r&b sound, fairly"
      ]
     },
     "metadata": {},
     "output_type": "display_data"
    },
    {
     "data": {
      "text/html": [
       "<pre>topic 82: albums sade patton album. date. incredible glad cool track played make black bound bright morning,</pre>"
      ],
      "text/plain": [
       "topic 82: albums sade patton album. date. incredible glad cool track played make black bound bright morning,"
      ]
     },
     "metadata": {},
     "output_type": "display_data"
    },
    {
     "data": {
      "text/html": [
       "<pre>topic 83: hits songs greatest collection cd fan music compilation hendrix jimi love top including original rock</pre>"
      ],
      "text/plain": [
       "topic 83: hits songs greatest collection cd fan music compilation hendrix jimi love top including original rock"
      ]
     },
     "metadata": {},
     "output_type": "display_data"
    },
    {
     "data": {
      "text/html": [
       "<pre>topic 84: album back black hot tight wu classic hip-hop solo pretty & fan listen worth wu-tang</pre>"
      ],
      "text/plain": [
       "topic 84: album back black hot tight wu classic hip-hop solo pretty & fan listen worth wu-tang"
      ]
     },
     "metadata": {},
     "output_type": "display_data"
    },
    {
     "data": {
      "text/html": [
       "<pre>topic 85: album \"the hit released john version elton musical original time rock single \"i sound classic</pre>"
      ],
      "text/plain": [
       "topic 85: album \"the hit released john version elton musical original time rock single \"i sound classic"
      ]
     },
     "metadata": {},
     "output_type": "display_data"
    },
    {
     "data": {
      "text/html": [
       "<pre>topic 86: album band it's song guitar - albums time solo back bands lyrics record doesn't \"the</pre>"
      ],
      "text/plain": [
       "topic 86: album band it's song guitar - albums time solo back bands lyrics record doesn't \"the"
      ]
     },
     "metadata": {},
     "output_type": "display_data"
    },
    {
     "data": {
      "text/html": [
       "<pre>topic 87: songs cd sound pop i'm love norah album, jones musical bit listen songs. music. jewel</pre>"
      ],
      "text/plain": [
       "topic 87: songs cd sound pop i'm love norah album, jones musical bit listen songs. music. jewel"
      ]
     },
     "metadata": {},
     "output_type": "display_data"
    },
    {
     "data": {
      "text/html": [
       "<pre>topic 88: songs great cd love stevie duran voice fleetwood album, time album. sound mac world music</pre>"
      ],
      "text/plain": [
       "topic 88: songs great cd love stevie duran voice fleetwood album, time album. sound mac world music"
      ]
     },
     "metadata": {},
     "output_type": "display_data"
    },
    {
     "data": {
      "text/html": [
       "<pre>topic 89: cube ice cube's wanna cry now, connection listen feat future political rate sound enjoyed evil</pre>"
      ],
      "text/plain": [
       "topic 89: cube ice cube's wanna cry now, connection listen feat future political rate sound enjoyed evil"
      ]
     },
     "metadata": {},
     "output_type": "display_data"
    },
    {
     "data": {
      "text/html": [
       "<pre>topic 90: great album rock highly single time. it! you'll 5. fun cd, leave wonderful ms ordered</pre>"
      ],
      "text/plain": [
       "topic 90: great album rock highly single time. it! you'll 5. fun cd, leave wonderful ms ordered"
      ]
     },
     "metadata": {},
     "output_type": "display_data"
    },
    {
     "data": {
      "text/html": [
       "<pre>topic 91: add plenty rockin' barely start. get. result art parties groups dido artist amazing. listen dug</pre>"
      ],
      "text/plain": [
       "topic 91: add plenty rockin' barely start. get. result art parties groups dido artist amazing. listen dug"
      ]
     },
     "metadata": {},
     "output_type": "display_data"
    },
    {
     "data": {
      "text/html": [
       "<pre>topic 92: good albums urban neko though. world styles. blue gift lady &quot;back excellent park loves listen</pre>"
      ],
      "text/plain": [
       "topic 92: good albums urban neko though. world styles. blue gift lady &quot;back excellent park loves listen"
      ]
     },
     "metadata": {},
     "output_type": "display_data"
    },
    {
     "data": {
      "text/html": [
       "<pre>topic 93: album songs aretha fan can't tunes it. album! pretty aretha's franklin likes put stuff. previous</pre>"
      ],
      "text/plain": [
       "topic 93: album songs aretha fan can't tunes it. album! pretty aretha's franklin likes put stuff. previous"
      ]
     },
     "metadata": {},
     "output_type": "display_data"
    },
    {
     "data": {
      "text/html": [
       "<pre>topic 94: music great listen good highly incubus recommend perfect rock doubt talent miss won't future fans.</pre>"
      ],
      "text/plain": [
       "topic 94: music great listen good highly incubus recommend perfect rock doubt talent miss won't future fans."
      ]
     },
     "metadata": {},
     "output_type": "display_data"
    },
    {
     "data": {
      "text/html": [
       "<pre>topic 95: rock album album, it's tracks hard bit long bands put fans red band, chili melodic</pre>"
      ],
      "text/plain": [
       "topic 95: rock album album, it's tracks hard bit long bands put fans red band, chili melodic"
      ]
     },
     "metadata": {},
     "output_type": "display_data"
    },
    {
     "data": {
      "text/html": [
       "<pre>topic 96: cash johnny great cd buy rick american cash's man record ain't prison albums mr. rubin</pre>"
      ],
      "text/plain": [
       "topic 96: cash johnny great cd buy rick american cash's man record ain't prison albums mr. rubin"
      ]
     },
     "metadata": {},
     "output_type": "display_data"
    },
    {
     "data": {
      "text/html": [
       "<pre>topic 97: album tracks rock original sound albums disc version release bonus classic live album. deep remastered</pre>"
      ],
      "text/plain": [
       "topic 97: album tracks rock original sound albums disc version release bonus classic live album. deep remastered"
      ]
     },
     "metadata": {},
     "output_type": "display_data"
    },
    {
     "data": {
      "text/html": [
       "<pre>topic 98: album album. it. sound hear entire music best. favorites it, that. songs. don't lyrics cool</pre>"
      ],
      "text/plain": [
       "topic 98: album album. it. sound hear entire music best. favorites it, that. songs. don't lyrics cool"
      ]
     },
     "metadata": {},
     "output_type": "display_data"
    },
    {
     "data": {
      "text/html": [
       "<pre>topic 99: it's music voice i'm sounds love people doesn't he's back she's long rock young fan</pre>"
      ],
      "text/plain": [
       "topic 99: it's music voice i'm sounds love people doesn't he's back she's long rock young fan"
      ]
     },
     "metadata": {},
     "output_type": "display_data"
    },
    {
     "data": {
      "text/html": [
       "<pre>| 30        | 1m 20s        | 2.35177e+006   | 16350.8         |</pre>"
      ],
      "text/plain": [
       "| 30        | 1m 20s        | 2.35177e+006   | 16350.8         |"
      ]
     },
     "metadata": {},
     "output_type": "display_data"
    },
    {
     "data": {
      "text/html": [
       "<pre>topic 0: &amp; album &quot;i r&amp;b jam love&quot; &quot;you title me&quot; &quot;love &quot;i'm &quot;my great you&quot; &quot;all</pre>"
      ],
      "text/plain": [
       "topic 0: &amp; album &quot;i r&amp;b jam love&quot; &quot;you title me&quot; &quot;love &quot;i'm &quot;my great you&quot; &quot;all"
      ]
     },
     "metadata": {},
     "output_type": "display_data"
    },
    {
     "data": {
      "text/html": [
       "<pre>topic 1: production world fan brandy enjoyed buy business isaac finest styles tight hayes insight fun cd's</pre>"
      ],
      "text/plain": [
       "topic 1: production world fan brandy enjoyed buy business isaac finest styles tight hayes insight fun cd's"
      ]
     },
     "metadata": {},
     "output_type": "display_data"
    },
    {
     "data": {
      "text/html": [
       "<pre>topic 2: music great primus feel blondie family push hopefully, ultra easy combines (4/5): glad hoping listening</pre>"
      ],
      "text/plain": [
       "topic 2: music great primus feel blondie family push hopefully, ultra easy combines (4/5): glad hoping listening"
      ]
     },
     "metadata": {},
     "output_type": "display_data"
    },
    {
     "data": {
      "text/html": [
       "<pre>topic 3: album good songs album, lyrics great make can't remember long lot songs. record didn't fans</pre>"
      ],
      "text/plain": [
       "topic 3: album good songs album, lyrics great make can't remember long lot songs. record didn't fans"
      ]
     },
     "metadata": {},
     "output_type": "display_data"
    },
    {
     "data": {
      "text/html": [
       "<pre>topic 4: don't good song it. that's heard doesn't buy album. sound time isn't thought give he's</pre>"
      ],
      "text/plain": [
       "topic 4: don't good song it. that's heard doesn't buy album. sound time isn't thought give he's"
      ]
     },
     "metadata": {},
     "output_type": "display_data"
    },
    {
     "data": {
      "text/html": [
       "<pre>topic 5: simon soul love stone paul songs joss it's simon's bee i'm barry she's listen troubled</pre>"
      ],
      "text/plain": [
       "topic 5: simon soul love stone paul songs joss it's simon's bee i'm barry she's listen troubled"
      ]
     },
     "metadata": {},
     "output_type": "display_data"
    },
    {
     "data": {
      "text/html": [
       "<pre>topic 6: music lips flaming listen love album perfect bad group make r&b voice sounds talented wayne</pre>"
      ],
      "text/plain": [
       "topic 6: music lips flaming listen love album perfect bad group make r&b voice sounds talented wayne"
      ]
     },
     "metadata": {},
     "output_type": "display_data"
    },
    {
     "data": {
      "text/html": [
       "<pre>topic 7: album record bring guess lost records todays rest collection. bruno country recommended. man, set train</pre>"
      ],
      "text/plain": [
       "topic 7: album record bring guess lost records todays rest collection. bruno country recommended. man, set train"
      ]
     },
     "metadata": {},
     "output_type": "display_data"
    },
    {
     "data": {
      "text/html": [
       "<pre>topic 8: love buy don't i'm it's favorite that's ... back you'll real heard great glad i've</pre>"
      ],
      "text/plain": [
       "topic 8: love buy don't i'm it's favorite that's ... back you'll real heard great glad i've"
      ]
     },
     "metadata": {},
     "output_type": "display_data"
    },
    {
     "data": {
      "text/html": [
       "<pre>topic 9: cd punk daft buy copy fans. 1 thought best. one. rate out. cd! 3 down.</pre>"
      ],
      "text/plain": [
       "topic 9: cd punk daft buy copy fans. 1 thought best. one. rate out. cd! 3 down."
      ]
     },
     "metadata": {},
     "output_type": "display_data"
    },
    {
     "data": {
      "text/html": [
       "<pre>topic 10: album cd buy good glass albums jump recommend gems record girl amazon overly stuff material</pre>"
      ],
      "text/plain": [
       "topic 10: album cd buy good glass albums jump recommend gems record girl amazon overly stuff material"
      ]
     },
     "metadata": {},
     "output_type": "display_data"
    },
    {
     "data": {
      "text/html": [
       "<pre>topic 11: music joni cars musical early albums mitchell time made joni's today late tracks bit work.</pre>"
      ],
      "text/plain": [
       "topic 11: music joni cars musical early albums mitchell time made joni's today late tracks bit work."
      ]
     },
     "metadata": {},
     "output_type": "display_data"
    },
    {
     "data": {
      "text/html": [
       "<pre>topic 12: add album. :) (or best. bruce kick amount killing album, boring. heaven\" browne album: stuff.</pre>"
      ],
      "text/plain": [
       "topic 12: add album. :) (or best. bruce kick amount killing album, boring. heaven\" browne album: stuff."
      ]
     },
     "metadata": {},
     "output_type": "display_data"
    },
    {
     "data": {
      "text/html": [
       "<pre>topic 13: carly record years favorite carly's james remember material a-ha sweet star sister rest mr. album!</pre>"
      ],
      "text/plain": [
       "topic 13: carly record years favorite carly's james remember material a-ha sweet star sister rest mr. album!"
      ]
     },
     "metadata": {},
     "output_type": "display_data"
    },
    {
     "data": {
      "text/html": [
       "<pre>topic 14: music it's don't listen country music, years make radio listening people hear music. makes world</pre>"
      ],
      "text/plain": [
       "topic 14: music it's don't listen country music, years make radio listening people hear music. makes world"
      ]
     },
     "metadata": {},
     "output_type": "display_data"
    },
    {
     "data": {
      "text/html": [
       "<pre>topic 15: - album & good beat track beats production rap great 2 -- lyrics back tracks</pre>"
      ],
      "text/plain": [
       "topic 15: - album & good beat track beats production rap great 2 -- lyrics back tracks"
      ]
     },
     "metadata": {},
     "output_type": "display_data"
    },
    {
     "data": {
      "text/html": [
       "<pre>topic 16: awesome cool raw school mr. make buy retro pushed ever, turn fantastic rid means albums</pre>"
      ],
      "text/plain": [
       "topic 16: awesome cool raw school mr. make buy retro pushed ever, turn fantastic rid means albums"
      ]
     },
     "metadata": {},
     "output_type": "display_data"
    },
    {
     "data": {
      "text/html": [
       "<pre>topic 17: album song pick effort. heard buy writing book &quot;one makes funky clean ears. song. cd.</pre>"
      ],
      "text/plain": [
       "topic 17: album song pick effort. heard buy writing book &quot;one makes funky clean ears. song. cd."
      ]
     },
     "metadata": {},
     "output_type": "display_data"
    },
    {
     "data": {
      "text/html": [
       "<pre>topic 18: = best. music easy connection running others. listen song. collection. recommended hear opinion living staying</pre>"
      ],
      "text/plain": [
       "topic 18: = best. music easy connection running others. listen song. collection. recommended hear opinion living staying"
      ]
     },
     "metadata": {},
     "output_type": "display_data"
    },
    {
     "data": {
      "text/html": [
       "<pre>topic 19: album songs phil collins eagles don good country genesis music long don't steve album. air</pre>"
      ],
      "text/plain": [
       "topic 19: album songs phil collins eagles don good country genesis music long don't steve album. air"
      ]
     },
     "metadata": {},
     "output_type": "display_data"
    },
    {
     "data": {
      "text/html": [
       "<pre>topic 20: love friends ! makes boy 2 listening. alive soul albums best, lovely amazed moody superb</pre>"
      ],
      "text/plain": [
       "topic 20: love friends ! makes boy 2 listening. alive soul albums best, lovely amazed moody superb"
      ]
     },
     "metadata": {},
     "output_type": "display_data"
    },
    {
     "data": {
      "text/html": [
       "<pre>topic 21: cd boy proves pop should've artist. bright wont approach figure days finest, clear chance necessarily</pre>"
      ],
      "text/plain": [
       "topic 21: cd boy proves pop should've artist. bright wont approach figure days finest, clear chance necessarily"
      ]
     },
     "metadata": {},
     "output_type": "display_data"
    },
    {
     "data": {
      "text/html": [
       "<pre>topic 22: cd 2 good 4 stars 5 cd. put real bad beats 1 worth star im</pre>"
      ],
      "text/plain": [
       "topic 22: cd 2 good 4 stars 5 cd. put real bad beats 1 worth star im"
      ]
     },
     "metadata": {},
     "output_type": "display_data"
    },
    {
     "data": {
      "text/html": [
       "<pre>topic 23: - cd alison bluegrass tracks krauss i've heard album buy love worth tweet country union</pre>"
      ],
      "text/plain": [
       "topic 23: - cd alison bluegrass tracks krauss i've heard album buy love worth tweet country union"
      ]
     },
     "metadata": {},
     "output_type": "display_data"
    },
    {
     "data": {
      "text/html": [
       "<pre>topic 24: album buy put great words check back family cd guys free waiting bill collection! acts</pre>"
      ],
      "text/plain": [
       "topic 24: album buy put great words check back family cd guys free waiting bill collection! acts"
      ]
     },
     "metadata": {},
     "output_type": "display_data"
    },
    {
     "data": {
      "text/html": [
       "<pre>topic 25: cd love long worth simply popular finest talk dollar guys man it. time record wrong</pre>"
      ],
      "text/plain": [
       "topic 25: cd love long worth simply popular finest talk dollar guys man it. time record wrong"
      ]
     },
     "metadata": {},
     "output_type": "display_data"
    },
    {
     "data": {
      "text/html": [
       "<pre>topic 26: white jack stripes great lady blood gaga black cold meg duo white's \"born dead dirty</pre>"
      ],
      "text/plain": [
       "topic 26: white jack stripes great lady blood gaga black cold meg duo white's \"born dead dirty"
      ]
     },
     "metadata": {},
     "output_type": "display_data"
    },
    {
     "data": {
      "text/html": [
       "<pre>topic 27: , . \" ( great ) danger mouse : an' cee-lo gnarls modest barkley audience</pre>"
      ],
      "text/plain": [
       "topic 27: , . \" ( great ) danger mouse : an' cee-lo gnarls modest barkley audience"
      ]
     },
     "metadata": {},
     "output_type": "display_data"
    },
    {
     "data": {
      "text/html": [
       "<pre>topic 28: dont alot music cd love classic. time. perfect arent knew listen. yeah didnt makes isnt</pre>"
      ],
      "text/plain": [
       "topic 28: dont alot music cd love classic. time. perfect arent knew listen. yeah didnt makes isnt"
      ]
     },
     "metadata": {},
     "output_type": "display_data"
    },
    {
     "data": {
      "text/html": [
       "<pre>topic 29: ! duffy dog songs early awful strong music. out. ? flavored day !! favorite group</pre>"
      ],
      "text/plain": [
       "topic 29: ! duffy dog songs early awful strong music. out. ? flavored day !! favorite group"
      ]
     },
     "metadata": {},
     "output_type": "display_data"
    },
    {
     "data": {
      "text/html": [
       "<pre>topic 30: ben lyrics folds music del lana strong absolutely word chance \"video rey dollar \"beauty games\"</pre>"
      ],
      "text/plain": [
       "topic 30: ben lyrics folds music del lana strong absolutely word chance \"video rey dollar \"beauty games\""
      ]
     },
     "metadata": {},
     "output_type": "display_data"
    },
    {
     "data": {
      "text/html": [
       "<pre>topic 31: cd lp alicia keys amy good mary music true winehouse j. talented record diary school</pre>"
      ],
      "text/plain": [
       "topic 31: cd lp alicia keys amy good mary music true winehouse j. talented record diary school"
      ]
     },
     "metadata": {},
     "output_type": "display_data"
    },
    {
     "data": {
      "text/html": [
       "<pre>topic 32: running seals frank crofts one. crazy dance space regret now! sounded chose 4 save kiss</pre>"
      ],
      "text/plain": [
       "topic 32: running seals frank crofts one. crazy dance space regret now! sounded chose 4 save kiss"
      ]
     },
     "metadata": {},
     "output_type": "display_data"
    },
    {
     "data": {
      "text/html": [
       "<pre>topic 33: great christmas --- agree tunes you're pop solid 3 music, winter listen you. holiday soulful</pre>"
      ],
      "text/plain": [
       "topic 33: great christmas --- agree tunes you're pop solid 3 music, winter listen you. holiday soulful"
      ]
     },
     "metadata": {},
     "output_type": "display_data"
    },
    {
     "data": {
      "text/html": [
       "<pre>topic 34: music album listen love i'm don't feel she's time make artists artist track put music.</pre>"
      ],
      "text/plain": [
       "topic 34: music album listen love i'm don't feel she's time make artists artist track put music."
      ]
     },
     "metadata": {},
     "output_type": "display_data"
    },
    {
     "data": {
      "text/html": [
       "<pre>topic 35: songs albums &quot; , don't song simply collection. great dance cool house enjoy classic tracks</pre>"
      ],
      "text/plain": [
       "topic 35: songs albums &quot; , don't song simply collection. great dance cool house enjoy classic tracks"
      ]
     },
     "metadata": {},
     "output_type": "display_data"
    },
    {
     "data": {
      "text/html": [
       "<pre>topic 36: album listen rest james worth years musical hit guy classic. slick lot buy hooks wise</pre>"
      ],
      "text/plain": [
       "topic 36: album listen rest james worth years musical hit guy classic. slick lot buy hooks wise"
      ]
     },
     "metadata": {},
     "output_type": "display_data"
    },
    {
     "data": {
      "text/html": [
       "<pre>topic 37: mark dire knopfler emmylou straits album knopfler's group harris promise arms\" \"brothers arms shelf anymore</pre>"
      ],
      "text/plain": [
       "topic 37: mark dire knopfler emmylou straits album knopfler's group harris promise arms\" \"brothers arms shelf anymore"
      ]
     },
     "metadata": {},
     "output_type": "display_data"
    },
    {
     "data": {
      "text/html": [
       "<pre>topic 38: gordon music work lightfoot good album fun highlights it! bought simply learn brilliant asked single,</pre>"
      ],
      "text/plain": [
       "topic 38: gordon music work lightfoot good album fun highlights it! bought simply learn brilliant asked single,"
      ]
     },
     "metadata": {},
     "output_type": "display_data"
    },
    {
     "data": {
      "text/html": [
       "<pre>topic 39: album music - lyrics vocals track pop vocal sound guitar love beautiful piano bit sounds</pre>"
      ],
      "text/plain": [
       "topic 39: album music - lyrics vocals track pop vocal sound guitar love beautiful piano bit sounds"
      ]
     },
     "metadata": {},
     "output_type": "display_data"
    },
    {
     "data": {
      "text/html": [
       "<pre>topic 40: kelly pop r. real music. lyrics he's left price puts 12 kelly's tunes fans faith</pre>"
      ],
      "text/plain": [
       "topic 40: kelly pop r. real music. lyrics he's left price puts 12 kelly's tunes fans faith"
      ]
     },
     "metadata": {},
     "output_type": "display_data"
    },
    {
     "data": {
      "text/html": [
       "<pre>topic 41: cd songs song great good cd. listen cd, heard favorite it. bought voice lyrics worth</pre>"
      ],
      "text/plain": [
       "topic 41: cd songs song great good cd. listen cd, heard favorite it. bought voice lyrics worth"
      ]
     },
     "metadata": {},
     "output_type": "display_data"
    },
    {
     "data": {
      "text/html": [
       "<pre>topic 42: nelly furtado pop carrie nelly's gwen voices trick worth furtado's pure god's roots spanish underwood</pre>"
      ],
      "text/plain": [
       "topic 42: nelly furtado pop carrie nelly's gwen voices trick worth furtado's pure god's roots spanish underwood"
      ]
     },
     "metadata": {},
     "output_type": "display_data"
    },
    {
     "data": {
      "text/html": [
       "<pre>topic 43: guru gang starr moment premier & trust work mass albums minor \"that's monotone guru's truth</pre>"
      ],
      "text/plain": [
       "topic 43: guru gang starr moment premier & trust work mass albums minor \"that's monotone guru's truth"
      ]
     },
     "metadata": {},
     "output_type": "display_data"
    },
    {
     "data": {
      "text/html": [
       "<pre>topic 44: cyndi lauper group cyndi's nickel great. wanna lauper's creek voice \"girls years. titled fan. great</pre>"
      ],
      "text/plain": [
       "topic 44: cyndi lauper group cyndi's nickel great. wanna lauper's creek voice \"girls years. titled fan. great"
      ]
     },
     "metadata": {},
     "output_type": "display_data"
    },
    {
     "data": {
      "text/html": [
       "<pre>topic 45: cd &quot;the &amp; cd. &quot;i don't dido &quot;don't pick cd's disc heard &quot;no 2 &quot;this</pre>"
      ],
      "text/plain": [
       "topic 45: cd &quot;the &amp; cd. &quot;i don't dido &quot;don't pick cd's disc heard &quot;no 2 &quot;this"
      ]
     },
     "metadata": {},
     "output_type": "display_data"
    },
    {
     "data": {
      "text/html": [
       "<pre>topic 46: big love outkast andre hip-hop boi &quot;the kelis lives boi's hey 3000 double rest day</pre>"
      ],
      "text/plain": [
       "topic 46: big love outkast andre hip-hop boi &quot;the kelis lives boi's hey 3000 double rest day"
      ]
     },
     "metadata": {},
     "output_type": "display_data"
    },
    {
     "data": {
      "text/html": [
       "<pre>topic 47: . karen yeah love carpenters songs willie fan .. carpenter richard buy voice time brother</pre>"
      ],
      "text/plain": [
       "topic 47: . karen yeah love carpenters songs willie fan .. carpenter richard buy voice time brother"
      ]
     },
     "metadata": {},
     "output_type": "display_data"
    },
    {
     "data": {
      "text/html": [
       "<pre>topic 48: love songs time lyrics cd album. release buy debut can't fan talent tunes disc 2</pre>"
      ],
      "text/plain": [
       "topic 48: love songs time lyrics cd album. release buy debut can't fan talent tunes disc 2"
      ]
     },
     "metadata": {},
     "output_type": "display_data"
    },
    {
     "data": {
      "text/html": [
       "<pre>topic 49: van rock alanis halen david eddie songs lee debut cover time cream roth album albums</pre>"
      ],
      "text/plain": [
       "topic 49: van rock alanis halen david eddie songs lee debut cover time cream roth album albums"
      ]
     },
     "metadata": {},
     "output_type": "display_data"
    },
    {
     "data": {
      "text/html": [
       "<pre>topic 50: it's songs voice great i'm isn't there's album, you're find pretty record can't heard lyrics</pre>"
      ],
      "text/plain": [
       "topic 50: it's songs voice great i'm isn't there's album, you're find pretty record can't heard lyrics"
      ]
     },
     "metadata": {},
     "output_type": "display_data"
    },
    {
     "data": {
      "text/html": [
       "<pre>topic 51: song it's track good songs album. song. song, album, nice favorite tracks makes sounds single</pre>"
      ],
      "text/plain": [
       "topic 51: song it's track good songs album. song. song, album, nice favorite tracks makes sounds single"
      ]
     },
     "metadata": {},
     "output_type": "display_data"
    },
    {
     "data": {
      "text/html": [
       "<pre>topic 52: thumbs great listen don't buy hip hop makes word: matter: go-go's recommend straight worth highlights:</pre>"
      ],
      "text/plain": [
       "topic 52: thumbs great listen don't buy hip hop makes word: matter: go-go's recommend straight worth highlights:"
      ]
     },
     "metadata": {},
     "output_type": "display_data"
    },
    {
     "data": {
      "text/html": [
       "<pre>topic 53: great love time sound record i'm blues hear listen years guitar people music. make play</pre>"
      ],
      "text/plain": [
       "topic 53: great love time sound record i'm blues hear listen years guitar people music. make play"
      ]
     },
     "metadata": {},
     "output_type": "display_data"
    },
    {
     "data": {
      "text/html": [
       "<pre>topic 54: sheryl lyrics made music. crow again. barnes montreal time. i've song great. amazing great, absolute</pre>"
      ],
      "text/plain": [
       "topic 54: sheryl lyrics made music. crow again. barnes montreal time. i've song great. amazing great, absolute"
      ]
     },
     "metadata": {},
     "output_type": "display_data"
    },
    {
     "data": {
      "text/html": [
       "<pre>topic 55: tori cat amos tori's albums stevens lyrics boys \"little choirgirl &quot;little found find pink venus</pre>"
      ],
      "text/plain": [
       "topic 55: tori cat amos tori's albums stevens lyrics boys \"little choirgirl &quot;little found find pink venus"
      ]
     },
     "metadata": {},
     "output_type": "display_data"
    },
    {
     "data": {
      "text/html": [
       "<pre>topic 56: recommend 3 hooks late 80s write release. gift. make enjoyed listenable stuff material tradition topics</pre>"
      ],
      "text/plain": [
       "topic 56: recommend 3 hooks late 80s write release. gift. make enjoyed listenable stuff material tradition topics"
      ]
     },
     "metadata": {},
     "output_type": "display_data"
    },
    {
     "data": {
      "text/html": [
       "<pre>topic 57: bon jovi dark tracks amazing iver awesome time. start jovi's musical favorites too. guys, background</pre>"
      ],
      "text/plain": [
       "topic 57: bon jovi dark tracks amazing iver awesome time. start jovi's musical favorites too. guys, background"
      ]
     },
     "metadata": {},
     "output_type": "display_data"
    },
    {
     "data": {
      "text/html": [
       "<pre>topic 58: radiohead thom clay rest yorke radiohead's kind yorke's kid radiohead, musical love flying it. top</pre>"
      ],
      "text/plain": [
       "topic 58: radiohead thom clay rest yorke radiohead's kind yorke's kid radiohead, musical love flying it. top"
      ]
     },
     "metadata": {},
     "output_type": "display_data"
    },
    {
     "data": {
      "text/html": [
       "<pre>topic 59: jazz playing musicians recording miles blue recorded albums musical recordings free classic coltrane jimmy jazz,</pre>"
      ],
      "text/plain": [
       "topic 59: jazz playing musicians recording miles blue recorded albums musical recordings free classic coltrane jimmy jazz,"
      ]
     },
     "metadata": {},
     "output_type": "display_data"
    },
    {
     "data": {
      "text/html": [
       "<pre>topic 60: music work recommend 1st perfect. modern purchased speaks favorite impressive lots left. where's artist favorites</pre>"
      ],
      "text/plain": [
       "topic 60: music work recommend 1st perfect. modern purchased speaks favorite impressive lots left. where's artist favorites"
      ]
     },
     "metadata": {},
     "output_type": "display_data"
    },
    {
     "data": {
      "text/html": [
       "<pre>topic 61: hot top billboard albums u.s. 100 adult easy released 40 don't mainstream music reached chart</pre>"
      ],
      "text/plain": [
       "topic 61: hot top billboard albums u.s. 100 adult easy released 40 don't mainstream music reached chart"
      ]
     },
     "metadata": {},
     "output_type": "display_data"
    },
    {
     "data": {
      "text/html": [
       "<pre>topic 62: dan steely royal fagen fred dan's donald becker lose limp walter durst katy b-52's bizkit</pre>"
      ],
      "text/plain": [
       "topic 62: dan steely royal fagen fred dan's donald becker lose limp walter durst katy b-52's bizkit"
      ]
     },
     "metadata": {},
     "output_type": "display_data"
    },
    {
     "data": {
      "text/html": [
       "<pre>topic 63: bone james mariah sam songs whitney made years carey brown style thugs greatest abba cooke</pre>"
      ],
      "text/plain": [
       "topic 63: bone james mariah sam songs whitney made years carey brown style thugs greatest abba cooke"
      ]
     },
     "metadata": {},
     "output_type": "display_data"
    },
    {
     "data": {
      "text/html": [
       "<pre>topic 64: - great song cd love back single song! made group listen radio sweet dance don't</pre>"
      ],
      "text/plain": [
       "topic 64: - great song cd love back single song! made group listen radio sweet dance don't"
      ]
     },
     "metadata": {},
     "output_type": "display_data"
    },
    {
     "data": {
      "text/html": [
       "<pre>topic 65: album it. dream 2nd outstanding. plastic home thought passion, thinking cuts desert follow-up gift release</pre>"
      ],
      "text/plain": [
       "topic 65: album it. dream 2nd outstanding. plastic home thought passion, thinking cuts desert follow-up gift release"
      ]
     },
     "metadata": {},
     "output_type": "display_data"
    },
    {
     "data": {
      "text/html": [
       "<pre>topic 66: back & time funk can't he's year buy funky death worth brings it's brother year.</pre>"
      ],
      "text/plain": [
       "topic 66: back & time funk can't he's year buy funky death worth brings it's brother year."
      ]
     },
     "metadata": {},
     "output_type": "display_data"
    },
    {
     "data": {
      "text/html": [
       "<pre>topic 67: nick drake drake's jamiroquai \"pink jay debut kay moon\" nick's pink jane best. traditional bryter</pre>"
      ],
      "text/plain": [
       "topic 67: nick drake drake's jamiroquai \"pink jay debut kay moon\" nick's pink jane best. traditional bryter"
      ]
     },
     "metadata": {},
     "output_type": "display_data"
    },
    {
     "data": {
      "text/html": [
       "<pre>topic 68: album michael jackson songs music elvis bad jackson's solo stop pop top costello michael's disco</pre>"
      ],
      "text/plain": [
       "topic 68: album michael jackson songs music elvis bad jackson's solo stop pop top costello michael's disco"
      ]
     },
     "metadata": {},
     "output_type": "display_data"
    },
    {
     "data": {
      "text/html": [
       "<pre>topic 69: rap 50 hip eminem hop don't ja real dont cent pac i'm 2pac rapper die</pre>"
      ],
      "text/plain": [
       "topic 69: rap 50 hip eminem hop don't ja real dont cent pac i'm 2pac rapper die"
      ]
     },
     "metadata": {},
     "output_type": "display_data"
    },
    {
     "data": {
      "text/html": [
       "<pre>topic 70: devo r&b enjoy talent. glad 3 group, effort devo's freedom proved hold work highly dream</pre>"
      ],
      "text/plain": [
       "topic 70: devo r&b enjoy talent. glad 3 group, effort devo's freedom proved hold work highly dream"
      ]
     },
     "metadata": {},
     "output_type": "display_data"
    },
    {
     "data": {
      "text/html": [
       "<pre>topic 71: album song love great it's pop dance hit time single years album, released madonna title</pre>"
      ],
      "text/plain": [
       "topic 71: album song love great it's pop dance hit time single years album, released madonna title"
      ]
     },
     "metadata": {},
     "output_type": "display_data"
    },
    {
     "data": {
      "text/html": [
       "<pre>topic 72: hill cypress liz phair dark 10 too. one. time. 18 weezer don't it's sen new.</pre>"
      ],
      "text/plain": [
       "topic 72: hill cypress liz phair dark 10 too. one. time. 18 weezer don't it's sen new."
      ]
     },
     "metadata": {},
     "output_type": "display_data"
    },
    {
     "data": {
      "text/html": [
       "<pre>topic 73: album songs great album. it's albums love song prince time. buy put sound debut 5</pre>"
      ],
      "text/plain": [
       "topic 73: album songs great album. it's albums love song prince time. buy put sound debut 5"
      ]
     },
     "metadata": {},
     "output_type": "display_data"
    },
    {
     "data": {
      "text/html": [
       "<pre>topic 74: songs band live dylan cover find musical heard here, & worth made years found bob</pre>"
      ],
      "text/plain": [
       "topic 74: songs band live dylan cover find musical heard here, & worth made years found bob"
      ]
     },
     "metadata": {},
     "output_type": "display_data"
    },
    {
     "data": {
      "text/html": [
       "<pre>topic 75: good buy blur group gift best. all. record fans day hear here. eyes love side,</pre>"
      ],
      "text/plain": [
       "topic 75: good buy blur group gift best. all. record fans day hear here. eyes love side,"
      ]
     },
     "metadata": {},
     "output_type": "display_data"
    },
    {
     "data": {
      "text/html": [
       "<pre>topic 76: album stereolab disc. artist. great played takes earlier effort. todays introduced coming industry steady been.</pre>"
      ],
      "text/plain": [
       "topic 76: album stereolab disc. artist. great played takes earlier effort. todays introduced coming industry steady been."
      ]
     },
     "metadata": {},
     "output_type": "display_data"
    },
    {
     "data": {
      "text/html": [
       "<pre>topic 77: album album. worth rest pixies albums kim great it. back music. fans work. soundgarden good.</pre>"
      ],
      "text/plain": [
       "topic 77: album album. worth rest pixies albums kim great it. back music. fans work. soundgarden good."
      ]
     },
     "metadata": {},
     "output_type": "display_data"
    },
    {
     "data": {
      "text/html": [
       "<pre>topic 78: album album, great songs album. people time tracks music fan make lot back work it.</pre>"
      ],
      "text/plain": [
       "topic 78: album album, great songs album. people time tracks music fan make lot back work it."
      ]
     },
     "metadata": {},
     "output_type": "display_data"
    },
    {
     "data": {
      "text/html": [
       "<pre>topic 79: good album. pretty great albums back tracks bad one. music good. favorite stuff recommend check</pre>"
      ],
      "text/plain": [
       "topic 79: good album. pretty great albums back tracks bad one. music good. favorite stuff recommend check"
      ]
     },
     "metadata": {},
     "output_type": "display_data"
    },
    {
     "data": {
      "text/html": [
       "<pre>topic 80: la de los listen el en rage al lo las se lobos disco le grind</pre>"
      ],
      "text/plain": [
       "topic 80: la de los listen el en rage al lo las se lobos disco le grind"
      ]
     },
     "metadata": {},
     "output_type": "display_data"
    },
    {
     "data": {
      "text/html": [
       "<pre>topic 81: tunes imagine r&b punch mp3 song, emotions ska quiet door (not masses works. losing kinda</pre>"
      ],
      "text/plain": [
       "topic 81: tunes imagine r&b punch mp3 song, emotions ska quiet door (not masses works. losing kinda"
      ]
     },
     "metadata": {},
     "output_type": "display_data"
    },
    {
     "data": {
      "text/html": [
       "<pre>topic 82: regret heard. black pick found sade hoping worth place, care track began bird then, solid</pre>"
      ],
      "text/plain": [
       "topic 82: regret heard. black pick found sade hoping worth place, care track began bird then, solid"
      ]
     },
     "metadata": {},
     "output_type": "display_data"
    },
    {
     "data": {
      "text/html": [
       "<pre>topic 83: hits greatest songs collection cd disc set fan compilation hendrix rock jimi includes years fans</pre>"
      ],
      "text/plain": [
       "topic 83: hits greatest songs collection cd disc set fan compilation hendrix rock jimi includes years fans"
      ]
     },
     "metadata": {},
     "output_type": "display_data"
    },
    {
     "data": {
      "text/html": [
       "<pre>topic 84: album classic wu black fan wu-tang production albums man album. ghost solo ghostface rza worth</pre>"
      ],
      "text/plain": [
       "topic 84: album classic wu black fan wu-tang production albums man album. ghost solo ghostface rza worth"
      ]
     },
     "metadata": {},
     "output_type": "display_data"
    },
    {
     "data": {
      "text/html": [
       "<pre>topic 85: album & hit \"the released john elton albums top classic time version musical track single</pre>"
      ],
      "text/plain": [
       "topic 85: album & hit \"the released john elton albums top classic time version musical track single"
      ]
     },
     "metadata": {},
     "output_type": "display_data"
    },
    {
     "data": {
      "text/html": [
       "<pre>topic 86: album band it's rock sound guitar - songs song albums time record bands hard solo</pre>"
      ],
      "text/plain": [
       "topic 86: album band it's rock sound guitar - songs song albums time record bands hard solo"
      ]
     },
     "metadata": {},
     "output_type": "display_data"
    },
    {
     "data": {
      "text/html": [
       "<pre>topic 87: songs pop cd love jones norah sound musical i'm jewel talent great music. country bit</pre>"
      ],
      "text/plain": [
       "topic 87: songs pop cd love jones norah sound musical i'm jewel talent great music. country bit"
      ]
     },
     "metadata": {},
     "output_type": "display_data"
    },
    {
     "data": {
      "text/html": [
       "<pre>topic 88: great songs cd stevie love duran album. fleetwood mac annie eurythmics world make music 80s</pre>"
      ],
      "text/plain": [
       "topic 88: great songs cd stevie love duran album. fleetwood mac annie eurythmics world make music 80s"
      ]
     },
     "metadata": {},
     "output_type": "display_data"
    },
    {
     "data": {
      "text/html": [
       "<pre>topic 89: cube ice cry cube's gems listen laugh albums production start true, energy. \"check capable harder</pre>"
      ],
      "text/plain": [
       "topic 89: cube ice cry cube's gems listen laugh albums production start true, energy. \"check capable harder"
      ]
     },
     "metadata": {},
     "output_type": "display_data"
    },
    {
     "data": {
      "text/html": [
       "<pre>topic 90: great album night kings memories beginning body highly artist, american unique time. thing put tracks:</pre>"
      ],
      "text/plain": [
       "topic 90: great album night kings memories beginning body highly artist, american unique time. thing put tracks:"
      ]
     },
     "metadata": {},
     "output_type": "display_data"
    },
    {
     "data": {
      "text/html": [
       "<pre>topic 91: thier add worthwhile nice blew cheap vibe show it... release. put much, anthem war dollars</pre>"
      ],
      "text/plain": [
       "topic 91: thier add worthwhile nice blew cheap vibe show it... release. put much, anthem war dollars"
      ]
     },
     "metadata": {},
     "output_type": "display_data"
    },
    {
     "data": {
      "text/html": [
       "<pre>topic 92: world albums gift urban good hit excellent offering project here. loves dollar school represents beastie</pre>"
      ],
      "text/plain": [
       "topic 92: world albums gift urban good hit excellent offering project here. loves dollar school represents beastie"
      ]
     },
     "metadata": {},
     "output_type": "display_data"
    },
    {
     "data": {
      "text/html": [
       "<pre>topic 93: album songs tunes fan. great super album! favorite fan brilliant can't imagine 70's year grooves</pre>"
      ],
      "text/plain": [
       "topic 93: album songs tunes fan. great super album! favorite fan brilliant can't imagine 70's year grooves"
      ]
     },
     "metadata": {},
     "output_type": "display_data"
    },
    {
     "data": {
      "text/html": [
       "<pre>topic 94: music incubus recommend highly view good perfect radio miss listen record. brandon gonna mixed enjoying</pre>"
      ],
      "text/plain": [
       "topic 94: music incubus recommend highly view good perfect radio miss listen record. brandon gonna mixed enjoying"
      ]
     },
     "metadata": {},
     "output_type": "display_data"
    },
    {
     "data": {
      "text/html": [
       "<pre>topic 95: album rock hot album, hard red tracks funk bands punk chili peppers it's sex fans</pre>"
      ],
      "text/plain": [
       "topic 95: album rock hot album, hard red tracks funk bands punk chili peppers it's sex fans"
      ]
     },
     "metadata": {},
     "output_type": "display_data"
    },
    {
     "data": {
      "text/html": [
       "<pre>topic 96: cash johnny man american great cd rick cash's ain't albums prison recordings life country covers</pre>"
      ],
      "text/plain": [
       "topic 96: cash johnny man american great cd rick cash's ain't albums prison recordings life country covers"
      ]
     },
     "metadata": {},
     "output_type": "display_data"
    },
    {
     "data": {
      "text/html": [
       "<pre>topic 97: album version original tracks sound great bonus disc live classic release rock quality deep remastered</pre>"
      ],
      "text/plain": [
       "topic 97: album version original tracks sound great bonus disc live classic release rock quality deep remastered"
      ]
     },
     "metadata": {},
     "output_type": "display_data"
    },
    {
     "data": {
      "text/html": [
       "<pre>topic 98: album it. album. great hear albums. don't cool formula listen. puts today's add why. solid</pre>"
      ],
      "text/plain": [
       "topic 98: album it. album. great hear albums. don't cool formula listen. puts today's add why. solid"
      ]
     },
     "metadata": {},
     "output_type": "display_data"
    },
    {
     "data": {
      "text/html": [
       "<pre>topic 99: it's music sounds love i'm voice people back doesn't made time. well, lyrics young boys</pre>"
      ],
      "text/plain": [
       "topic 99: it's music sounds love i'm voice people back doesn't made time. well, lyrics young boys"
      ]
     },
     "metadata": {},
     "output_type": "display_data"
    },
    {
     "data": {
      "text/html": [
       "<pre>| 40        | 1m 42s        | 2.77256e+006   | 16340.3         |</pre>"
      ],
      "text/plain": [
       "| 40        | 1m 42s        | 2.77256e+006   | 16340.3         |"
      ]
     },
     "metadata": {},
     "output_type": "display_data"
    },
    {
     "data": {
      "text/html": [
       "<pre>topic 0: &amp; album &quot;i r&amp;b jam great love&quot; you&quot; &quot;you me&quot; &quot;love &quot;i'm pearl &quot;in &quot;all</pre>"
      ],
      "text/plain": [
       "topic 0: &amp; album &quot;i r&amp;b jam great love&quot; you&quot; &quot;you me&quot; &quot;love &quot;i'm pearl &quot;in &quot;all"
      ]
     },
     "metadata": {},
     "output_type": "display_data"
    },
    {
     "data": {
      "text/html": [
       "<pre>topic 1: mr. brandy good gift isaac love classics one. solid hayes energy bringing living talent follow</pre>"
      ],
      "text/plain": [
       "topic 1: mr. brandy good gift isaac love classics one. solid hayes energy bringing living talent follow"
      ]
     },
     "metadata": {},
     "output_type": "display_data"
    },
    {
     "data": {
      "text/html": [
       "<pre>topic 2: it. music puts fan again. enough, albums super voice (...) mid jams. made etc. versatile</pre>"
      ],
      "text/plain": [
       "topic 2: it. music puts fan again. enough, albums super voice (...) mid jams. made etc. versatile"
      ]
     },
     "metadata": {},
     "output_type": "display_data"
    },
    {
     "data": {
      "text/html": [
       "<pre>topic 3: album good songs album, great albums make songs. check didn't buy fans rest 3 release</pre>"
      ],
      "text/plain": [
       "topic 3: album good songs album, great albums make songs. check didn't buy fans rest 3 release"
      ]
     },
     "metadata": {},
     "output_type": "display_data"
    },
    {
     "data": {
      "text/html": [
       "<pre>topic 4: don't i'm good it. that's can't listen i've doesn't heard buy give didn't sound you're</pre>"
      ],
      "text/plain": [
       "topic 4: don't i'm good it. that's can't listen i've doesn't heard buy give didn't sound you're"
      ]
     },
     "metadata": {},
     "output_type": "display_data"
    },
    {
     "data": {
      "text/html": [
       "<pre>topic 5: simon paul stone soul love joss simon's bee barry folk garfunkel carly songs troubled stone's</pre>"
      ],
      "text/plain": [
       "topic 5: simon paul stone soul love joss simon's bee barry folk garfunkel carly songs troubled stone's"
      ]
     },
     "metadata": {},
     "output_type": "display_data"
    },
    {
     "data": {
      "text/html": [
       "<pre>topic 6: lips flaming soft music love add wrong dance battles wayne jazmine talented taste bad listen</pre>"
      ],
      "text/plain": [
       "topic 6: lips flaming soft music love add wrong dance battles wayne jazmine talented taste bad listen"
      ]
     },
     "metadata": {},
     "output_type": "display_data"
    },
    {
     "data": {
      "text/html": [
       "<pre>topic 7: album things melodic made dj ability aptly playing. bruno listen it!! school / college 2008</pre>"
      ],
      "text/plain": [
       "topic 7: album things melodic made dj ability aptly playing. bruno listen it!! school / college 2008"
      ]
     },
     "metadata": {},
     "output_type": "display_data"
    },
    {
     "data": {
      "text/html": [
       "<pre>topic 8: love buy don't it's ... listen i'm you'll album. favorite recommend real back that's great.</pre>"
      ],
      "text/plain": [
       "topic 8: love buy don't it's ... listen i'm you'll album. favorite recommend real back that's great."
      ]
     },
     "metadata": {},
     "output_type": "display_data"
    },
    {
     "data": {
      "text/html": [
       "<pre>topic 9: punk daft buy punk's cd ska choice excellent one. excellent. best. chance kids stuck 1</pre>"
      ],
      "text/plain": [
       "topic 9: punk daft buy punk's cd ska choice excellent one. excellent. best. chance kids stuck 1"
      ]
     },
     "metadata": {},
     "output_type": "display_data"
    },
    {
     "data": {
      "text/html": [
       "<pre>topic 10: cd album gems buy good stuff music record based years do, words god can't hit</pre>"
      ],
      "text/plain": [
       "topic 10: cd album gems buy good stuff music record based years do, words god can't hit"
      ]
     },
     "metadata": {},
     "output_type": "display_data"
    },
    {
     "data": {
      "text/html": [
       "<pre>topic 11: joni cars music albums mitchell time joni's made work. music. mitchell's early ric fan court</pre>"
      ],
      "text/plain": [
       "topic 11: joni cars music albums mitchell time joni's made work. music. mitchell's early ric fan court"
      ]
     },
     "metadata": {},
     "output_type": "display_data"
    },
    {
     "data": {
      "text/html": [
       "<pre>topic 12: stuff. best. checking also. jb basically you\". listening alone. reviews expect instruments. love + producing</pre>"
      ],
      "text/plain": [
       "topic 12: stuff. best. checking also. jb basically you\". listening alone. reviews expect instruments. love + producing"
      ]
     },
     "metadata": {},
     "output_type": "display_data"
    },
    {
     "data": {
      "text/html": [
       "<pre>topic 13: carly star rest carly's buy ranks hey we've favorite buying one's gems remember current catch</pre>"
      ],
      "text/plain": [
       "topic 13: carly star rest carly's buy ranks hey we've favorite buying one's gems remember current catch"
      ]
     },
     "metadata": {},
     "output_type": "display_data"
    },
    {
     "data": {
      "text/html": [
       "<pre>topic 14: music it's years make listening music. don't people listen music, voice country radio heard musical</pre>"
      ],
      "text/plain": [
       "topic 14: music it's years make listening music. don't people listen music, voice country radio heard musical"
      ]
     },
     "metadata": {},
     "output_type": "display_data"
    },
    {
     "data": {
      "text/html": [
       "<pre>topic 15: - album & good beat track great beats production rap 2 lyrics song -- tracks</pre>"
      ],
      "text/plain": [
       "topic 15: - album & good beat track great beats production rap 2 lyrics song -- tracks"
      ]
     },
     "metadata": {},
     "output_type": "display_data"
    },
    {
     "data": {
      "text/html": [
       "<pre>topic 16: man older lot hands cult them, martin records dare rank classic vocalists album.i job other.</pre>"
      ],
      "text/plain": [
       "topic 16: man older lot hands cult them, martin records dare rank classic vocalists album.i job other."
      ]
     },
     "metadata": {},
     "output_type": "display_data"
    },
    {
     "data": {
      "text/html": [
       "<pre>topic 17: high problem reason alot. supposed album crew artist groups loads buy spot choose featured refreshing</pre>"
      ],
      "text/plain": [
       "topic 17: high problem reason alot. supposed album crew artist groups loads buy spot choose featured refreshing"
      ]
     },
     "metadata": {},
     "output_type": "display_data"
    },
    {
     "data": {
      "text/html": [
       "<pre>topic 18: hot, recommended. gospel one. ever. spin gems grabs nice dislike caught years. brilliant tracks exception</pre>"
      ],
      "text/plain": [
       "topic 18: hot, recommended. gospel one. ever. spin gems grabs nice dislike caught years. brilliant tracks exception"
      ]
     },
     "metadata": {},
     "output_type": "display_data"
    },
    {
     "data": {
      "text/html": [
       "<pre>topic 19: album phil songs collins eagles don long good genesis country albums album. easy day peter</pre>"
      ],
      "text/plain": [
       "topic 19: album phil songs collins eagles don long good genesis country albums album. easy day peter"
      ]
     },
     "metadata": {},
     "output_type": "display_data"
    },
    {
     "data": {
      "text/html": [
       "<pre>topic 20: shines (4/5): gotye angel fab truely huge talented night phenomenal welcomed long. coming thang boy</pre>"
      ],
      "text/plain": [
       "topic 20: shines (4/5): gotye angel fab truely huge talented night phenomenal welcomed long. coming thang boy"
      ]
     },
     "metadata": {},
     "output_type": "display_data"
    },
    {
     "data": {
      "text/html": [
       "<pre>topic 21: cd disc. dark favorites works. production. school down. simply stay albums. thier project driving loved</pre>"
      ],
      "text/plain": [
       "topic 21: cd disc. dark favorites works. production. school down. simply stay albums. thier project driving loved"
      ]
     },
     "metadata": {},
     "output_type": "display_data"
    },
    {
     "data": {
      "text/html": [
       "<pre>topic 22: cd good 2 5 4 stars dont bad put star 3 im cd. 1 stars.</pre>"
      ],
      "text/plain": [
       "topic 22: cd good 2 5 4 stars dont bad put star 3 im cd. 1 stars."
      ]
     },
     "metadata": {},
     "output_type": "display_data"
    },
    {
     "data": {
      "text/html": [
       "<pre>topic 23: - cd alison love bluegrass krauss plant tweet tracks break [see no. union country degrees</pre>"
      ],
      "text/plain": [
       "topic 23: - cd alison love bluegrass krauss plant tweet tracks break [see no. union country degrees"
      ]
     },
     "metadata": {},
     "output_type": "display_data"
    },
    {
     "data": {
      "text/html": [
       "<pre>topic 24: album great cd greatest family add piece guys buy they're love, puts way, funky shown</pre>"
      ],
      "text/plain": [
       "topic 24: album great cd greatest family add piece guys buy they're love, puts way, funky shown"
      ]
     },
     "metadata": {},
     "output_type": "display_data"
    },
    {
     "data": {
      "text/html": [
       "<pre>topic 25: creative album there's low essence pure sing ska season goth cult effort, excellence dug listening.</pre>"
      ],
      "text/plain": [
       "topic 25: creative album there's low essence pure sing ska season goth cult effort, excellence dug listening."
      ]
     },
     "metadata": {},
     "output_type": "display_data"
    },
    {
     "data": {
      "text/html": [
       "<pre>topic 26: white jack stripes great lady black blood gaga cold boy meg white's lonely nation led</pre>"
      ],
      "text/plain": [
       "topic 26: white jack stripes great lady black blood gaga cold boy meg white's lonely nation led"
      ]
     },
     "metadata": {},
     "output_type": "display_data"
    },
    {
     "data": {
      "text/html": [
       "<pre>topic 27: , . \" ( great &quot; danger ) mouse an' : cee-lo modest gnarls day</pre>"
      ],
      "text/plain": [
       "topic 27: , . \" ( great &quot; danger ) mouse an' : cee-lo modest gnarls day"
      ]
     },
     "metadata": {},
     "output_type": "display_data"
    },
    {
     "data": {
      "text/html": [
       "<pre>topic 28: perfect music! gentle band time, sisters releases favorite finish gothic grew great, immediately wonderful. sad</pre>"
      ],
      "text/plain": [
       "topic 28: perfect music! gentle band time, sisters releases favorite finish gothic grew great, immediately wonderful. sad"
      ]
     },
     "metadata": {},
     "output_type": "display_data"
    },
    {
     "data": {
      "text/html": [
       "<pre>topic 29: ! songs duffy r&b group. duffy's awful writing produce 21 cuts gems favorite worthwhile guys</pre>"
      ],
      "text/plain": [
       "topic 29: ! songs duffy r&b group. duffy's awful writing produce 21 cuts gems favorite worthwhile guys"
      ]
     },
     "metadata": {},
     "output_type": "display_data"
    },
    {
     "data": {
      "text/html": [
       "<pre>topic 30: ben lyrics folds del lana music \"beauty rey work. recommend games\" feel \"born dollar skipping</pre>"
      ],
      "text/plain": [
       "topic 30: ben lyrics folds del lana music \"beauty rey work. recommend games\" feel \"born dollar skipping"
      ]
     },
     "metadata": {},
     "output_type": "display_data"
    },
    {
     "data": {
      "text/html": [
       "<pre>topic 31: mary cd keys alicia amy j. blige winehouse talent keyshia lp diary release cd's compared</pre>"
      ],
      "text/plain": [
       "topic 31: mary cd keys alicia amy j. blige winehouse talent keyshia lp diary release cd's compared"
      ]
     },
     "metadata": {},
     "output_type": "display_data"
    },
    {
     "data": {
      "text/html": [
       "<pre>topic 32: seals man running crofts theme decent jim die lyrics (my blackfield purchase. personal hearing 90s</pre>"
      ],
      "text/plain": [
       "topic 32: seals man running crofts theme decent jim die lyrics (my blackfield purchase. personal hearing 90s"
      ]
     },
     "metadata": {},
     "output_type": "display_data"
    },
    {
     "data": {
      "text/html": [
       "<pre>topic 33: great christmas --- listen holiday stuff. it's least. make couple title strong truth earlier tunes</pre>"
      ],
      "text/plain": [
       "topic 33: great christmas --- listen holiday stuff. it's least. make couple title strong truth earlier tunes"
      ]
     },
     "metadata": {},
     "output_type": "display_data"
    },
    {
     "data": {
      "text/html": [
       "<pre>topic 34: album music love listen don't time voice i'm feel artist she's tracks it. artists music.</pre>"
      ],
      "text/plain": [
       "topic 34: album music love listen don't time voice i'm feel artist she's tracks it. artists music."
      ]
     },
     "metadata": {},
     "output_type": "display_data"
    },
    {
     "data": {
      "text/html": [
       "<pre>topic 35: albums don't great songs &quot; paula cool buy makes simply incredible left joy dig nice</pre>"
      ],
      "text/plain": [
       "topic 35: albums don't great songs &quot; paula cool buy makes simply incredible left joy dig nice"
      ]
     },
     "metadata": {},
     "output_type": "display_data"
    },
    {
     "data": {
      "text/html": [
       "<pre>topic 36: listen buy review. enjoy. monkees rest amazing ever. limit beats. deserve upside course, expected version</pre>"
      ],
      "text/plain": [
       "topic 36: listen buy review. enjoy. monkees rest amazing ever. limit beats. deserve upside course, expected version"
      ]
     },
     "metadata": {},
     "output_type": "display_data"
    },
    {
     "data": {
      "text/html": [
       "<pre>topic 37: mark album dire knopfler straits knopfler's work. arms\" add nothing\" edge emmylou \"brothers catchy gold</pre>"
      ],
      "text/plain": [
       "topic 37: mark album dire knopfler straits knopfler's work. arms\" add nothing\" edge emmylou \"brothers catchy gold"
      ]
     },
     "metadata": {},
     "output_type": "display_data"
    },
    {
     "data": {
      "text/html": [
       "<pre>topic 38: gordon album lightfoot nina highly fun guy salt product couple lightfoot's veruca gordon's fit ever,</pre>"
      ],
      "text/plain": [
       "topic 38: gordon album lightfoot nina highly fun guy salt product couple lightfoot's veruca gordon's fit ever,"
      ]
     },
     "metadata": {},
     "output_type": "display_data"
    },
    {
     "data": {
      "text/html": [
       "<pre>topic 39: music album lyrics - track vocals vocal pop sound guitar beautiful love album, title sounds</pre>"
      ],
      "text/plain": [
       "topic 39: music album lyrics - track vocals vocal pop sound guitar beautiful love album, title sounds"
      ]
     },
     "metadata": {},
     "output_type": "display_data"
    },
    {
     "data": {
      "text/html": [
       "<pre>topic 40: kelly r. pop he's lyrics project kelly's music. 12 real letter clarkson strip material finish,</pre>"
      ],
      "text/plain": [
       "topic 40: kelly r. pop he's lyrics project kelly's music. 12 real letter clarkson strip material finish,"
      ]
     },
     "metadata": {},
     "output_type": "display_data"
    },
    {
     "data": {
      "text/html": [
       "<pre>topic 41: cd songs song great cd. good heard favorite listen cd, bought it. lyrics listening time</pre>"
      ],
      "text/plain": [
       "topic 41: cd songs song great cd. good heard favorite listen cd, bought it. lyrics listening time"
      ]
     },
     "metadata": {},
     "output_type": "display_data"
    },
    {
     "data": {
      "text/html": [
       "<pre>topic 42: nelly furtado carrie trick song nelly's gwen music pop furtado's god's underwood fans. magazine tunes</pre>"
      ],
      "text/plain": [
       "topic 42: nelly furtado carrie trick song nelly's gwen music pop furtado's god's underwood fans. magazine tunes"
      ]
     },
     "metadata": {},
     "output_type": "display_data"
    },
    {
     "data": {
      "text/html": [
       "<pre>topic 43: gang guru starr moment pretty step premier mass monotone guru's children raw world songs exception</pre>"
      ],
      "text/plain": [
       "topic 43: gang guru starr moment pretty step premier mass monotone guru's children raw world songs exception"
      ]
     },
     "metadata": {},
     "output_type": "display_data"
    },
    {
     "data": {
      "text/html": [
       "<pre>topic 44: cyndi lauper album great. cyndi's nickel lauper's billy wanna young home \"girls dance taking doubt</pre>"
      ],
      "text/plain": [
       "topic 44: cyndi lauper album great. cyndi's nickel lauper's billy wanna young home \"girls dance taking doubt"
      ]
     },
     "metadata": {},
     "output_type": "display_data"
    },
    {
     "data": {
      "text/html": [
       "<pre>topic 45: &quot;the cd &amp; cd. dido &quot;don't rest &quot;i songs lyrics &quot;this collection. &quot;we &quot;no dido's</pre>"
      ],
      "text/plain": [
       "topic 45: &quot;the cd &amp; cd. dido &quot;don't rest &quot;i songs lyrics &quot;this collection. &quot;we &quot;no dido's"
      ]
     },
     "metadata": {},
     "output_type": "display_data"
    },
    {
     "data": {
      "text/html": [
       "<pre>topic 46: big love outkast andre hip-hop boi kelis boi's lives hey 3000 outkast's patti groups \"hey</pre>"
      ],
      "text/plain": [
       "topic 46: big love outkast andre hip-hop boi kelis boi's lives hey 3000 outkast's patti groups \"hey"
      ]
     },
     "metadata": {},
     "output_type": "display_data"
    },
    {
     "data": {
      "text/html": [
       "<pre>topic 47: . yeah karen carpenters voice buy carpenter richard fan .. karen's willie yeahs hear songs</pre>"
      ],
      "text/plain": [
       "topic 47: . yeah karen carpenters voice buy carpenter richard fan .. karen's willie yeahs hear songs"
      ]
     },
     "metadata": {},
     "output_type": "display_data"
    },
    {
     "data": {
      "text/html": [
       "<pre>topic 48: love fan album. songs time fleet lyrics release. foxes cd great. wanted release can't tunes</pre>"
      ],
      "text/plain": [
       "topic 48: love fan album. songs time fleet lyrics release. foxes cd great. wanted release can't tunes"
      ]
     },
     "metadata": {},
     "output_type": "display_data"
    },
    {
     "data": {
      "text/html": [
       "<pre>topic 49: van alanis halen rock david eddie classic lee cover debut albums roth made morissette dave</pre>"
      ],
      "text/plain": [
       "topic 49: van alanis halen rock david eddie classic lee cover debut albums roth made morissette dave"
      ]
     },
     "metadata": {},
     "output_type": "display_data"
    },
    {
     "data": {
      "text/html": [
       "<pre>topic 50: it's songs great there's voice album, i'm record you're isn't lyrics you'll pretty can't find</pre>"
      ],
      "text/plain": [
       "topic 50: it's songs great there's voice album, i'm record you're isn't lyrics you'll pretty can't find"
      ]
     },
     "metadata": {},
     "output_type": "display_data"
    },
    {
     "data": {
      "text/html": [
       "<pre>topic 51: song it's songs good track album album. song. album, song, nice sounds favorite pretty it.</pre>"
      ],
      "text/plain": [
       "topic 51: song it's songs good track album album. song. album, song, nice sounds favorite pretty it."
      ]
     },
     "metadata": {},
     "output_type": "display_data"
    },
    {
     "data": {
      "text/html": [
       "<pre>topic 52: thumbs great songs word: here's excellent highlights: matter: / listen day\" awful terrific rid a+</pre>"
      ],
      "text/plain": [
       "topic 52: thumbs great songs word: here's excellent highlights: matter: / listen day\" awful terrific rid a+"
      ]
     },
     "metadata": {},
     "output_type": "display_data"
    },
    {
     "data": {
      "text/html": [
       "<pre>topic 53: great time blues love record sound listen hear guitar years play playing people heard good</pre>"
      ],
      "text/plain": [
       "topic 53: great time blues love record sound listen hear guitar years play playing people heard good"
      ]
     },
     "metadata": {},
     "output_type": "display_data"
    },
    {
     "data": {
      "text/html": [
       "<pre>topic 54: sheryl crow barnes montreal crow's pop. absolute lyrics kevin sheryl's music. false c'mon \"good ones.</pre>"
      ],
      "text/plain": [
       "topic 54: sheryl crow barnes montreal crow's pop. absolute lyrics kevin sheryl's music. false c'mon \"good ones."
      ]
     },
     "metadata": {},
     "output_type": "display_data"
    },
    {
     "data": {
      "text/html": [
       "<pre>topic 55: tori cat amos tori's lyrics stevens albums piano amazing \"little choirgirl boys venus find journey</pre>"
      ],
      "text/plain": [
       "topic 55: tori cat amos tori's lyrics stevens albums piano amazing \"little choirgirl boys venus find journey"
      ]
     },
     "metadata": {},
     "output_type": "display_data"
    },
    {
     "data": {
      "text/html": [
       "<pre>topic 56: enjoy! cd recommend listen loved 3 watch (all hooks magic songs: spektor safe all-time longer</pre>"
      ],
      "text/plain": [
       "topic 56: enjoy! cd recommend listen loved 3 watch (all hooks magic songs: spektor safe all-time longer"
      ]
     },
     "metadata": {},
     "output_type": "display_data"
    },
    {
     "data": {
      "text/html": [
       "<pre>topic 57: bon jovi chris iver early jovi's jon richie start paying right. exposure amazing emma, material</pre>"
      ],
      "text/plain": [
       "topic 57: bon jovi chris iver early jovi's jon richie start paying right. exposure amazing emma, material"
      ]
     },
     "metadata": {},
     "output_type": "display_data"
    },
    {
     "data": {
      "text/html": [
       "<pre>topic 58: radiohead thom clay yorke radiohead's rest yorke's kid it. peace electronica, clay's perry limbs \"kid</pre>"
      ],
      "text/plain": [
       "topic 58: radiohead thom clay yorke radiohead's rest yorke's kid it. peace electronica, clay's perry limbs \"kid"
      ]
     },
     "metadata": {},
     "output_type": "display_data"
    },
    {
     "data": {
      "text/html": [
       "<pre>topic 59: jazz playing musicians miles blue recording jimmy recorded jazz, john solo note coltrane classic free</pre>"
      ],
      "text/plain": [
       "topic 59: jazz playing musicians miles blue recording jimmy recorded jazz, john solo note coltrane classic free"
      ]
     },
     "metadata": {},
     "output_type": "display_data"
    },
    {
     "data": {
      "text/html": [
       "<pre>topic 60: work make single recommend tunes enjoying taste, free music. music money. special genius train 2000</pre>"
      ],
      "text/plain": [
       "topic 60: work make single recommend tunes enjoying taste, free music. music money. special genius train 2000"
      ]
     },
     "metadata": {},
     "output_type": "display_data"
    },
    {
     "data": {
      "text/html": [
       "<pre>topic 61: hot top billboard u.s. 100 40 albums easy don't country adult # charts chart singles</pre>"
      ],
      "text/plain": [
       "topic 61: hot top billboard u.s. 100 40 albums easy don't country adult # charts chart singles"
      ]
     },
     "metadata": {},
     "output_type": "display_data"
    },
    {
     "data": {
      "text/html": [
       "<pre>topic 62: dan steely royal fagen dan's becker donald fred b-52's stars, walter start fogelberg keith limp</pre>"
      ],
      "text/plain": [
       "topic 62: dan steely royal fagen dan's becker donald fred b-52's stars, walter start fogelberg keith limp"
      ]
     },
     "metadata": {},
     "output_type": "display_data"
    },
    {
     "data": {
      "text/html": [
       "<pre>topic 63: bone mariah james songs whitney brown greatest sam carey thugs abba mariah's cooke 1999 chance</pre>"
      ],
      "text/plain": [
       "topic 63: bone mariah james songs whitney brown greatest sam carey thugs abba mariah's cooke 1999 chance"
      ]
     },
     "metadata": {},
     "output_type": "display_data"
    },
    {
     "data": {
      "text/html": [
       "<pre>topic 64: - great love songs song nice album! radio sounds major song! earth 5/5. days high</pre>"
      ],
      "text/plain": [
       "topic 64: - great love songs song nice album! radio sounds major song! earth 5/5. days high"
      ]
     },
     "metadata": {},
     "output_type": "display_data"
    },
    {
     "data": {
      "text/html": [
       "<pre>topic 65: album dark years. classic it. rest 10 \"heart baby christmas link cardigans title commercial. stones'</pre>"
      ],
      "text/plain": [
       "topic 65: album dark years. classic it. rest 10 \"heart baby christmas link cardigans title commercial. stones'"
      ]
     },
     "metadata": {},
     "output_type": "display_data"
    },
    {
     "data": {
      "text/html": [
       "<pre>topic 66: funk & back funky time buy it's brings p-funk parliament jams clinton he's worth year</pre>"
      ],
      "text/plain": [
       "topic 66: funk & back funky time buy it's brings p-funk parliament jams clinton he's worth year"
      ]
     },
     "metadata": {},
     "output_type": "display_data"
    },
    {
     "data": {
      "text/html": [
       "<pre>topic 67: nick drake drake's pink jamiroquai \"pink jane jay rest nick's voice kay discover bryter exception</pre>"
      ],
      "text/plain": [
       "topic 67: nick drake drake's pink jamiroquai \"pink jane jay rest nick's voice kay discover bryter exception"
      ]
     },
     "metadata": {},
     "output_type": "display_data"
    },
    {
     "data": {
      "text/html": [
       "<pre>topic 68: michael album jackson bad music pop songs elvis jackson's solo stop costello michael's disco quincy</pre>"
      ],
      "text/plain": [
       "topic 68: michael album jackson bad music pop songs elvis jackson's solo stop costello michael's disco quincy"
      ]
     },
     "metadata": {},
     "output_type": "display_data"
    },
    {
     "data": {
      "text/html": [
       "<pre>topic 69: rap 50 eminem hip hop real people ja dont cent pac die rapper hip-hop 2pac</pre>"
      ],
      "text/plain": [
       "topic 69: rap 50 eminem hip hop real people ja dont cent pac die rapper hip-hop 2pac"
      ]
     },
     "metadata": {},
     "output_type": "display_data"
    },
    {
     "data": {
      "text/html": [
       "<pre>topic 70: devo freedom guy mentioned enjoy fan r&b devo's few. tunes highly album! proven 3 pure</pre>"
      ],
      "text/plain": [
       "topic 70: devo freedom guy mentioned enjoy fan r&b devo's few. tunes highly album! proven 3 pure"
      ]
     },
     "metadata": {},
     "output_type": "display_data"
    },
    {
     "data": {
      "text/html": [
       "<pre>topic 71: album song love great it's pop dance single hit madonna back time released years title</pre>"
      ],
      "text/plain": [
       "topic 71: album song love great it's pop dance single hit madonna back time released years title"
      ]
     },
     "metadata": {},
     "output_type": "display_data"
    },
    {
     "data": {
      "text/html": [
       "<pre>topic 72: hill cypress liz recommend phair miss love bones you'll too. reccomend sen hill's disappointment hear</pre>"
      ],
      "text/plain": [
       "topic 72: hill cypress liz recommend phair miss love bones you'll too. reccomend sen hill's disappointment hear"
      ]
     },
     "metadata": {},
     "output_type": "display_data"
    },
    {
     "data": {
      "text/html": [
       "<pre>topic 73: album songs great album. prince albums it's love buy favorite album, albums. put song prince's</pre>"
      ],
      "text/plain": [
       "topic 73: album songs great album. prince albums it's love buy favorite album, albums. put song prince's"
      ]
     },
     "metadata": {},
     "output_type": "display_data"
    },
    {
     "data": {
      "text/html": [
       "<pre>topic 74: songs dylan great live bob band make songs. & made collection musical songs, years cover</pre>"
      ],
      "text/plain": [
       "topic 74: songs dylan great live bob band make songs. & made collection musical songs, years cover"
      ]
     },
     "metadata": {},
     "output_type": "display_data"
    },
    {
     "data": {
      "text/html": [
       "<pre>topic 75: good group love buy blur check too. earlier solid - leave boy time all. 10</pre>"
      ],
      "text/plain": [
       "topic 75: good group love buy blur check too. earlier solid - leave boy time all. 10"
      ]
     },
     "metadata": {},
     "output_type": "display_data"
    },
    {
     "data": {
      "text/html": [
       "<pre>topic 76: album downloaded stereolab out. katy band amazing, artist. bach this, favorite 3 summer boring. meaning</pre>"
      ],
      "text/plain": [
       "topic 76: album downloaded stereolab out. katy band amazing, artist. bach this, favorite 3 summer boring. meaning"
      ]
     },
     "metadata": {},
     "output_type": "display_data"
    },
    {
     "data": {
      "text/html": [
       "<pre>topic 77: album pixies kim albums rest soundgarden end christ albums. collection. give true music. should've songs</pre>"
      ],
      "text/plain": [
       "topic 77: album pixies kim albums rest soundgarden end christ albums. collection. give true music. should've songs"
      ]
     },
     "metadata": {},
     "output_type": "display_data"
    },
    {
     "data": {
      "text/html": [
       "<pre>topic 78: album great songs album, album. music time tracks people back fan it. make can't real</pre>"
      ],
      "text/plain": [
       "topic 78: album great songs album, album. music time tracks people back fan it. make can't real"
      ]
     },
     "metadata": {},
     "output_type": "display_data"
    },
    {
     "data": {
      "text/html": [
       "<pre>topic 79: good great album. pretty music bad good. one. recommend albums stuff tracks back too. worth</pre>"
      ],
      "text/plain": [
       "topic 79: good great album. pretty music bad good. one. recommend albums stuff tracks back too. worth"
      ]
     },
     "metadata": {},
     "output_type": "display_data"
    },
    {
     "data": {
      "text/html": [
       "<pre>topic 80: la de los rage en el lo las al disco yo continues son lobos del</pre>"
      ],
      "text/plain": [
       "topic 80: la de los rage en el lo las al disco yo continues son lobos del"
      ]
     },
     "metadata": {},
     "output_type": "display_data"
    },
    {
     "data": {
      "text/html": [
       "<pre>topic 81: r&b surprised out, best, (track punch guy harmony loved prime video amazing. stand-out vocal tunes</pre>"
      ],
      "text/plain": [
       "topic 81: r&b surprised out, best, (track punch guy harmony loved prime video amazing. stand-out vocal tunes"
      ]
     },
     "metadata": {},
     "output_type": "display_data"
    },
    {
     "data": {
      "text/html": [
       "<pre>topic 82: skin duo days waiting sad local move of: toto 20 chemical mediocre releasing innovative alright</pre>"
      ],
      "text/plain": [
       "topic 82: skin duo days waiting sad local move of: toto 20 chemical mediocre releasing innovative alright"
      ]
     },
     "metadata": {},
     "output_type": "display_data"
    },
    {
     "data": {
      "text/html": [
       "<pre>topic 83: hits songs collection greatest cd tracks fan disc compilation set fans years hendrix jimi rock</pre>"
      ],
      "text/plain": [
       "topic 83: hits songs collection greatest cd tracks fan disc compilation set fans years hendrix jimi rock"
      ]
     },
     "metadata": {},
     "output_type": "display_data"
    },
    {
     "data": {
      "text/html": [
       "<pre>topic 84: album classic beats wu album. production man wu-tang albums lyrics rza ghostface back ghost black</pre>"
      ],
      "text/plain": [
       "topic 84: album classic beats wu album. production man wu-tang albums lyrics rza ghostface back ghost black"
      ]
     },
     "metadata": {},
     "output_type": "display_data"
    },
    {
     "data": {
      "text/html": [
       "<pre>topic 85: album & hit \"the song john released elton time albums top classic single music made</pre>"
      ],
      "text/plain": [
       "topic 85: album & hit \"the song john released elton time albums top classic single music made"
      ]
     },
     "metadata": {},
     "output_type": "display_data"
    },
    {
     "data": {
      "text/html": [
       "<pre>topic 86: band album rock it's sound songs guitar - albums time song bands record hard sounds</pre>"
      ],
      "text/plain": [
       "topic 86: band album rock it's sound songs guitar - albums time song bands record hard sounds"
      ]
     },
     "metadata": {},
     "output_type": "display_data"
    },
    {
     "data": {
      "text/html": [
       "<pre>topic 87: songs cd pop jones love jewel norah she's country debut talent musical sound shows michelle</pre>"
      ],
      "text/plain": [
       "topic 87: songs cd pop jones love jewel norah she's country debut talent musical sound shows michelle"
      ]
     },
     "metadata": {},
     "output_type": "display_data"
    },
    {
     "data": {
      "text/html": [
       "<pre>topic 88: great songs duran stevie fleetwood annie mac love eurythmics pop make hit cd great, album,</pre>"
      ],
      "text/plain": [
       "topic 88: great songs duran stevie fleetwood annie mac love eurythmics pop make hit cd great, album,"
      ]
     },
     "metadata": {},
     "output_type": "display_data"
    },
    {
     "data": {
      "text/html": [
       "<pre>topic 89: cube ice cry cube's listenable olivia vocal urban start watching it. space stars. releases. wanted\"</pre>"
      ],
      "text/plain": [
       "topic 89: cube ice cry cube's listenable olivia vocal urban start watching it. space stars. releases. wanted\""
      ]
     },
     "metadata": {},
     "output_type": "display_data"
    },
    {
     "data": {
      "text/html": [
       "<pre>topic 90: great mr stars strongly can't last. meets innocent mr. roots kill fabulous change. happen wearing</pre>"
      ],
      "text/plain": [
       "topic 90: great mr stars strongly can't last. meets innocent mr. roots kill fabulous change. happen wearing"
      ]
     },
     "metadata": {},
     "output_type": "display_data"
    },
    {
     "data": {
      "text/html": [
       "<pre>topic 91: thier group. melodic worthwhile wondered takes live. passionate (which expect actual album: simple collection! sample</pre>"
      ],
      "text/plain": [
       "topic 91: thier group. melodic worthwhile wondered takes live. passionate (which expect actual album: simple collection! sample"
      ]
     },
     "metadata": {},
     "output_type": "display_data"
    },
    {
     "data": {
      "text/html": [
       "<pre>topic 92: great mtv bad. wasn't once. late blend genius. bringing chris cover hypnotize mr. deeper blondie</pre>"
      ],
      "text/plain": [
       "topic 92: great mtv bad. wasn't once. late blend genius. bringing chris cover hypnotize mr. deeper blondie"
      ]
     },
     "metadata": {},
     "output_type": "display_data"
    },
    {
     "data": {
      "text/html": [
       "<pre>topic 93: album songs record have. great twisted fan. stuff city work. super warm vocals forget high</pre>"
      ],
      "text/plain": [
       "topic 93: album songs record have. great twisted fan. stuff city work. super warm vocals forget high"
      ]
     },
     "metadata": {},
     "output_type": "display_data"
    },
    {
     "data": {
      "text/html": [
       "<pre>topic 94: incubus music recommend morning perfect fan highly brandon angel boyd chapter more, harder view incubus'</pre>"
      ],
      "text/plain": [
       "topic 94: incubus music recommend morning perfect fan highly brandon angel boyd chapter more, harder view incubus'"
      ]
     },
     "metadata": {},
     "output_type": "display_data"
    },
    {
     "data": {
      "text/html": [
       "<pre>topic 95: album rock hot red peppers chili sex album, funk hard tracks mellow sugar album. it's</pre>"
      ],
      "text/plain": [
       "topic 95: album rock hot red peppers chili sex album, funk hard tracks mellow sugar album. it's"
      ]
     },
     "metadata": {},
     "output_type": "display_data"
    },
    {
     "data": {
      "text/html": [
       "<pre>topic 96: cash johnny man american great cash's rick country cd ain't prison life san music recordings</pre>"
      ],
      "text/plain": [
       "topic 96: cash johnny man american great cash's rick country cd ain't prison life san music recordings"
      ]
     },
     "metadata": {},
     "output_type": "display_data"
    },
    {
     "data": {
      "text/html": [
       "<pre>topic 97: version original album tracks great sound live bonus disc release versions albums quality remastered edition</pre>"
      ],
      "text/plain": [
       "topic 97: version original album tracks great sound live bonus disc release versions albums quality remastered edition"
      ]
     },
     "metadata": {},
     "output_type": "display_data"
    },
    {
     "data": {
      "text/html": [
       "<pre>topic 98: album album. it. & christmas great huge made, keith party free relax sung ordinary natalie</pre>"
      ],
      "text/plain": [
       "topic 98: album album. it. & christmas great huge made, keith party free relax sung ordinary natalie"
      ]
     },
     "metadata": {},
     "output_type": "display_data"
    },
    {
     "data": {
      "text/html": [
       "<pre>topic 99: music sounds it's love back voice boys made people pet toni i'm long doesn't lost</pre>"
      ],
      "text/plain": [
       "topic 99: music sounds it's love back voice boys made people pet toni i'm long doesn't lost"
      ]
     },
     "metadata": {},
     "output_type": "display_data"
    },
    {
     "data": {
      "text/html": [
       "<pre>| 50        | 2m 4s         | 3.01179e+006   | 16326.7         |</pre>"
      ],
      "text/plain": [
       "| 50        | 2m 4s         | 3.01179e+006   | 16326.7         |"
      ]
     },
     "metadata": {},
     "output_type": "display_data"
    },
    {
     "data": {
      "text/html": [
       "<pre>topic 0: &amp; &quot;the &quot;i great album r&amp;b me&quot; you&quot; &quot;you love&quot; &quot;my nice &quot;love &quot;i'm &quot;don't</pre>"
      ],
      "text/plain": [
       "topic 0: &amp; &quot;the &quot;i great album r&amp;b me&quot; you&quot; &quot;you love&quot; &quot;my nice &quot;love &quot;i'm &quot;don't"
      ]
     },
     "metadata": {},
     "output_type": "display_data"
    },
    {
     "data": {
      "text/html": [
       "<pre>topic 1: gift highly showing energy usual works. --------- noticed \"the impact -------- death cage moon pop.</pre>"
      ],
      "text/plain": [
       "topic 1: gift highly showing energy usual works. --------- noticed \"the impact -------- death cage moon pop."
      ]
     },
     "metadata": {},
     "output_type": "display_data"
    },
    {
     "data": {
      "text/html": [
       "<pre>topic 2: back stand past down. big made credit hit sweet voice prime tight nevertheless, twist too,</pre>"
      ],
      "text/plain": [
       "topic 2: back stand past down. big made credit hit sweet voice prime tight nevertheless, twist too,"
      ]
     },
     "metadata": {},
     "output_type": "display_data"
    },
    {
     "data": {
      "text/html": [
       "<pre>topic 3: album songs good great album, albums buy fans songs. release check lot make big top</pre>"
      ],
      "text/plain": [
       "topic 3: album songs good great album, albums buy fans songs. release check lot make big top"
      ]
     },
     "metadata": {},
     "output_type": "display_data"
    },
    {
     "data": {
      "text/html": [
       "<pre>topic 4: don't i'm good that's it. listen can't doesn't i've heard it, didn't you're give he's</pre>"
      ],
      "text/plain": [
       "topic 4: don't i'm good that's it. listen can't doesn't i've heard it, didn't you're give he's"
      ]
     },
     "metadata": {},
     "output_type": "display_data"
    },
    {
     "data": {
      "text/html": [
       "<pre>topic 5: simon paul stone soul love joss songs carly simon's bee barry troubled body garfunkel stone's</pre>"
      ],
      "text/plain": [
       "topic 5: simon paul stone soul love joss songs carly simon's bee barry troubled body garfunkel stone's"
      ]
     },
     "metadata": {},
     "output_type": "display_data"
    },
    {
     "data": {
      "text/html": [
       "<pre>topic 6: lips flaming soft wayne pink full jazmine battles music voice lips, taste yoshimi bad lips'</pre>"
      ],
      "text/plain": [
       "topic 6: lips flaming soft wayne pink full jazmine battles music voice lips, taste yoshimi bad lips'"
      ]
     },
     "metadata": {},
     "output_type": "display_data"
    },
    {
     "data": {
      "text/html": [
       "<pre>topic 7: album high ginuwine missing cut instruments work, queen stars; fell choose surprised exception. regret far.</pre>"
      ],
      "text/plain": [
       "topic 7: album high ginuwine missing cut instruments work, queen stars; fell choose surprised exception. regret far."
      ]
     },
     "metadata": {},
     "output_type": "display_data"
    },
    {
     "data": {
      "text/html": [
       "<pre>topic 8: buy love it's listen recommend great album. ... real don't favorite stuff great. music. enjoy</pre>"
      ],
      "text/plain": [
       "topic 8: buy love it's listen recommend great album. ... real don't favorite stuff great. music. enjoy"
      ]
     },
     "metadata": {},
     "output_type": "display_data"
    },
    {
     "data": {
      "text/html": [
       "<pre>topic 9: punk daft buy fresh feel ska out. ace people. thinking checking punk's guy one. masterpiece.</pre>"
      ],
      "text/plain": [
       "topic 9: punk daft buy fresh feel ska out. ace people. thinking checking punk's guy one. masterpiece."
      ]
     },
     "metadata": {},
     "output_type": "display_data"
    },
    {
     "data": {
      "text/html": [
       "<pre>topic 10: album voice gems radio hit buy goth cuts bad left mentioned doubt while. time sustain</pre>"
      ],
      "text/plain": [
       "topic 10: album voice gems radio hit buy goth cuts bad left mentioned doubt while. time sustain"
      ]
     },
     "metadata": {},
     "output_type": "display_data"
    },
    {
     "data": {
      "text/html": [
       "<pre>topic 11: joni cars mitchell music joni's work. albums mitchell's time fan ric court spark ocasek friend's</pre>"
      ],
      "text/plain": [
       "topic 11: joni cars mitchell music joni's work. albums mitchell's time fan ric court spark ocasek friend's"
      ]
     },
     "metadata": {},
     "output_type": "display_data"
    },
    {
     "data": {
      "text/html": [
       "<pre>topic 12: this, worth cool. rest answer captured room fantastic, tight, meets teenager creativity. usual, recycled best.</pre>"
      ],
      "text/plain": [
       "topic 12: this, worth cool. rest answer captured room fantastic, tight, meets teenager creativity. usual, recycled best."
      ]
     },
     "metadata": {},
     "output_type": "display_data"
    },
    {
     "data": {
      "text/html": [
       "<pre>topic 13: album sound stuff 3 quality today. single last. favor greatness minutes. points chain produced feel</pre>"
      ],
      "text/plain": [
       "topic 13: album sound stuff 3 quality today. single last. favor greatness minutes. points chain produced feel"
      ]
     },
     "metadata": {},
     "output_type": "display_data"
    },
    {
     "data": {
      "text/html": [
       "<pre>topic 14: music it's people music. listening listen hear make years country music, voice don't radio made</pre>"
      ],
      "text/plain": [
       "topic 14: music it's people music. listening listen hear make years country music, voice don't radio made"
      ]
     },
     "metadata": {},
     "output_type": "display_data"
    },
    {
     "data": {
      "text/html": [
       "<pre>topic 15: - album & good beat track great production rap beats song 2 -- tracks lyrics</pre>"
      ],
      "text/plain": [
       "topic 15: - album & good beat track great production rap beats song 2 -- tracks lyrics"
      ]
     },
     "metadata": {},
     "output_type": "display_data"
    },
    {
     "data": {
      "text/html": [
       "<pre>topic 16: classic do. soulful soundtrack awesome reading moby lost far. belongs golden volume recomend hooks. hard,</pre>"
      ],
      "text/plain": [
       "topic 16: classic do. soulful soundtrack awesome reading moby lost far. belongs golden volume recomend hooks. hard,"
      ]
     },
     "metadata": {},
     "output_type": "display_data"
    },
    {
     "data": {
      "text/html": [
       "<pre>topic 17: high ready out. production one. chance hill fully pleasant monotonous where's night shows \"sex taylor's</pre>"
      ],
      "text/plain": [
       "topic 17: high ready out. production one. chance hill fully pleasant monotonous where's night shows \"sex taylor's"
      ]
     },
     "metadata": {},
     "output_type": "display_data"
    },
    {
     "data": {
      "text/html": [
       "<pre>topic 18: one. great ever. friends opinion, there, carole bad miss soundtrack experience entire playing meets uncanny</pre>"
      ],
      "text/plain": [
       "topic 18: one. great ever. friends opinion, there, carole bad miss soundtrack experience entire playing meets uncanny"
      ]
     },
     "metadata": {},
     "output_type": "display_data"
    },
    {
     "data": {
      "text/html": [
       "<pre>topic 19: songs album phil eagles collins long don good day genesis steve classic air peter album.</pre>"
      ],
      "text/plain": [
       "topic 19: songs album phil eagles collins long don good day genesis steve classic air peter album."
      ]
     },
     "metadata": {},
     "output_type": "display_data"
    },
    {
     "data": {
      "text/html": [
       "<pre>topic 20: 10 planet writing shame. brings play gotye level first. brand reunion try, art better. saga</pre>"
      ],
      "text/plain": [
       "topic 20: 10 planet writing shame. brings play gotye level first. brand reunion try, art better. saga"
      ]
     },
     "metadata": {},
     "output_type": "display_data"
    },
    {
     "data": {
      "text/html": [
       "<pre>topic 21: cd vibe project love, on, recently debut, dust all! exception vocalist return knock said, give</pre>"
      ],
      "text/plain": [
       "topic 21: cd vibe project love, on, recently debut, dust all! exception vocalist return knock said, give"
      ]
     },
     "metadata": {},
     "output_type": "display_data"
    },
    {
     "data": {
      "text/html": [
       "<pre>topic 22: cd good 5 2 4 stars 3 dont star give bad 1 worth gave stars.</pre>"
      ],
      "text/plain": [
       "topic 22: cd good 5 2 4 stars 3 dont star give bad 1 worth gave stars."
      ]
     },
     "metadata": {},
     "output_type": "display_data"
    },
    {
     "data": {
      "text/html": [
       "<pre>topic 23: - cd alison bluegrass krauss plant country love union tweet no. robert [see nickel station</pre>"
      ],
      "text/plain": [
       "topic 23: - cd alison bluegrass krauss plant country love union tweet no. robert [see nickel station"
      ]
     },
     "metadata": {},
     "output_type": "display_data"
    },
    {
     "data": {
      "text/html": [
       "<pre>topic 24: album great back check forgettable weak filler exception. definitly label. decline beats, reading 2001 impress</pre>"
      ],
      "text/plain": [
       "topic 24: album great back check forgettable weak filler exception. definitly label. decline beats, reading 2001 impress"
      ]
     },
     "metadata": {},
     "output_type": "display_data"
    },
    {
     "data": {
      "text/html": [
       "<pre>topic 25: word forget listen rest highly piece fine cut, enjoy long for. way, them. night produced,</pre>"
      ],
      "text/plain": [
       "topic 25: word forget listen rest highly piece fine cut, enjoy long for. way, them. night produced,"
      ]
     },
     "metadata": {},
     "output_type": "display_data"
    },
    {
     "data": {
      "text/html": [
       "<pre>topic 26: white jack stripes great black lady blood gaga cold don't meg boy white's lonely nation</pre>"
      ],
      "text/plain": [
       "topic 26: white jack stripes great black lady blood gaga cold don't meg boy white's lonely nation"
      ]
     },
     "metadata": {},
     "output_type": "display_data"
    },
    {
     "data": {
      "text/html": [
       "<pre>topic 27: , . \" ( &quot; ) danger great mouse ! an' : gnarls cee-lo green</pre>"
      ],
      "text/plain": [
       "topic 27: , . \" ( &quot; ) danger great mouse ! an' : gnarls cee-lo green"
      ]
     },
     "metadata": {},
     "output_type": "display_data"
    },
    {
     "data": {
      "text/html": [
       "<pre>topic 28: album mix music. perfect smooth here. lisa music! ones. fact strange killer top. works ten</pre>"
      ],
      "text/plain": [
       "topic 28: album mix music. perfect smooth here. lisa music! ones. fact strange killer top. works ten"
      ]
     },
     "metadata": {},
     "output_type": "display_data"
    },
    {
     "data": {
      "text/html": [
       "<pre>topic 29: ! duffy words songs loud sisters however, subject putting fits greatest duffy's show thier r&b</pre>"
      ],
      "text/plain": [
       "topic 29: ! duffy words songs loud sisters however, subject putting fits greatest duffy's show thier r&b"
      ]
     },
     "metadata": {},
     "output_type": "display_data"
    },
    {
     "data": {
      "text/html": [
       "<pre>topic 30: ben folds lyrics del primus lana herb recommend \"video \"beauty music cd rey games\" carry</pre>"
      ],
      "text/plain": [
       "topic 30: ben folds lyrics del primus lana herb recommend \"video \"beauty music cd rey games\" carry"
      ]
     },
     "metadata": {},
     "output_type": "display_data"
    },
    {
     "data": {
      "text/html": [
       "<pre>topic 31: mary keys alicia cd j. amy blige ain't true winehouse mary's diary good. dry and/or</pre>"
      ],
      "text/plain": [
       "topic 31: mary keys alicia cd j. amy blige ain't true winehouse mary's diary good. dry and/or"
      ]
     },
     "metadata": {},
     "output_type": "display_data"
    },
    {
     "data": {
      "text/html": [
       "<pre>topic 32: doubt seals crofts man guys quality. free world, great. definately play, proof incredible compare stars!</pre>"
      ],
      "text/plain": [
       "topic 32: doubt seals crofts man guys quality. free world, great. definately play, proof incredible compare stars!"
      ]
     },
     "metadata": {},
     "output_type": "display_data"
    },
    {
     "data": {
      "text/html": [
       "<pre>topic 33: great christmas --- holiday made pop held call buy delivers band mp3 free tunes classic</pre>"
      ],
      "text/plain": [
       "topic 33: great christmas --- holiday made pop held call buy delivers band mp3 free tunes classic"
      ]
     },
     "metadata": {},
     "output_type": "display_data"
    },
    {
     "data": {
      "text/html": [
       "<pre>topic 34: album music love voice time cd back listen feel she's artist soul it. don't i'm</pre>"
      ],
      "text/plain": [
       "topic 34: album music love voice time cd back listen feel she's artist soul it. don't i'm"
      ]
     },
     "metadata": {},
     "output_type": "display_data"
    },
    {
     "data": {
      "text/html": [
       "<pre>topic 35: great buy harder paula stuff. dance albums albums, 2nd music. more. classic, good, makes albums.</pre>"
      ],
      "text/plain": [
       "topic 35: great buy harder paula stuff. dance albums albums, 2nd music. more. classic, good, makes albums."
      ]
     },
     "metadata": {},
     "output_type": "display_data"
    },
    {
     "data": {
      "text/html": [
       "<pre>topic 36: hard buy school cool songs. bad stuff blueprint expected others, enjoy. doubt produced play muse</pre>"
      ],
      "text/plain": [
       "topic 36: hard buy school cool songs. bad stuff blueprint expected others, enjoy. doubt produced play muse"
      ]
     },
     "metadata": {},
     "output_type": "display_data"
    },
    {
     "data": {
      "text/html": [
       "<pre>topic 37: mark dire knopfler album straits emmylou knopfler's work. helped arms\" buy first. local fantastic. \"brothers</pre>"
      ],
      "text/plain": [
       "topic 37: mark dire knopfler album straits emmylou knopfler's work. helped arms\" buy first. local fantastic. \"brothers"
      ]
     },
     "metadata": {},
     "output_type": "display_data"
    },
    {
     "data": {
      "text/html": [
       "<pre>topic 38: gordon lightfoot fun nina voice raw listenable album gordon's highly mainstream me! lightfoot's veruca ain't</pre>"
      ],
      "text/plain": [
       "topic 38: gordon lightfoot fun nina voice raw listenable album gordon's highly mainstream me! lightfoot's veruca ain't"
      ]
     },
     "metadata": {},
     "output_type": "display_data"
    },
    {
     "data": {
      "text/html": [
       "<pre>topic 39: - music album lyrics track it's pop vocals musical sound vocal guitar beautiful love album,</pre>"
      ],
      "text/plain": [
       "topic 39: - music album lyrics track it's pop vocals musical sound vocal guitar beautiful love album,"
      ]
     },
     "metadata": {},
     "output_type": "display_data"
    },
    {
     "data": {
      "text/html": [
       "<pre>topic 40: kelly r. material kelly's real price project clarkson = buy reba woman's folks guy r.kelly</pre>"
      ],
      "text/plain": [
       "topic 40: kelly r. material kelly's real price project clarkson = buy reba woman's folks guy r.kelly"
      ]
     },
     "metadata": {},
     "output_type": "display_data"
    },
    {
     "data": {
      "text/html": [
       "<pre>topic 41: cd songs great song cd. good love heard listen cd, it. bought favorite lyrics voice</pre>"
      ],
      "text/plain": [
       "topic 41: cd songs great song cd. good love heard listen cd, it. bought favorite lyrics voice"
      ]
     },
     "metadata": {},
     "output_type": "display_data"
    },
    {
     "data": {
      "text/html": [
       "<pre>topic 42: nelly furtado carrie pop worth nelly's gwen song furtado's underwood god's trick group timbaland push</pre>"
      ],
      "text/plain": [
       "topic 42: nelly furtado carrie pop worth nelly's gwen song furtado's underwood god's trick group timbaland push"
      ]
     },
     "metadata": {},
     "output_type": "display_data"
    },
    {
     "data": {
      "text/html": [
       "<pre>topic 43: gang guru starr work premier (with guru's moment earth, mass pointed blondie 23 primo loving</pre>"
      ],
      "text/plain": [
       "topic 43: gang guru starr work premier (with guru's moment earth, mass pointed blondie 23 primo loving"
      ]
     },
     "metadata": {},
     "output_type": "display_data"
    },
    {
     "data": {
      "text/html": [
       "<pre>topic 44: cyndi lauper cyndi's fun drove lauper's kids mellencamp \"girls majority highly ol' solid pretty confused</pre>"
      ],
      "text/plain": [
       "topic 44: cyndi lauper cyndi's fun drove lauper's kids mellencamp \"girls majority highly ol' solid pretty confused"
      ]
     },
     "metadata": {},
     "output_type": "display_data"
    },
    {
     "data": {
      "text/html": [
       "<pre>topic 45: cd dido lyrics &amp; excellent dido's cd. rest adele song&quot; buy songs collection. &quot;the boy</pre>"
      ],
      "text/plain": [
       "topic 45: cd dido lyrics &amp; excellent dido's cd. rest adele song&quot; buy songs collection. &quot;the boy"
      ]
     },
     "metadata": {},
     "output_type": "display_data"
    },
    {
     "data": {
      "text/html": [
       "<pre>topic 46: big love outkast andre boi hip-hop kelis day boi's hey 3000 outkast's groups innovative classic.</pre>"
      ],
      "text/plain": [
       "topic 46: big love outkast andre boi hip-hop kelis day boi's hey 3000 outkast's groups innovative classic."
      ]
     },
     "metadata": {},
     "output_type": "display_data"
    },
    {
     "data": {
      "text/html": [
       "<pre>topic 47: . yeah karen carpenters richard carpenter back karen's yeahs love imagine won't duo can't yyy's</pre>"
      ],
      "text/plain": [
       "topic 47: . yeah karen carpenters richard carpenter back karen's yeahs love imagine won't duo can't yyy's"
      ]
     },
     "metadata": {},
     "output_type": "display_data"
    },
    {
     "data": {
      "text/html": [
       "<pre>topic 48: album. fleet love stand foxes good. can't wanted great. too. cd! stills work. made. trust</pre>"
      ],
      "text/plain": [
       "topic 48: album. fleet love stand foxes good. can't wanted great. too. cd! stills work. made. trust"
      ]
     },
     "metadata": {},
     "output_type": "display_data"
    },
    {
     "data": {
      "text/html": [
       "<pre>topic 49: van rock album alanis halen eddie david great lee cover roth classic made morissette debut</pre>"
      ],
      "text/plain": [
       "topic 49: van rock album alanis halen eddie david great lee cover roth classic made morissette debut"
      ]
     },
     "metadata": {},
     "output_type": "display_data"
    },
    {
     "data": {
      "text/html": [
       "<pre>topic 50: it's songs great album, there's album you're isn't you'll i'm record pretty voice lyrics can't</pre>"
      ],
      "text/plain": [
       "topic 50: it's songs great album, there's album you're isn't you'll i'm record pretty voice lyrics can't"
      ]
     },
     "metadata": {},
     "output_type": "display_data"
    },
    {
     "data": {
      "text/html": [
       "<pre>topic 51: song it's album songs good track album. album, song. song, nice don't pretty sounds favorite</pre>"
      ],
      "text/plain": [
       "topic 51: song it's album songs good track album. album, song. song, nice don't pretty sounds favorite"
      ]
     },
     "metadata": {},
     "output_type": "display_data"
    },
    {
     "data": {
      "text/html": [
       "<pre>topic 52: thumbs here's summer excellent pulled word: highlights: rest material. matter: deep talent great hooks disc.</pre>"
      ],
      "text/plain": [
       "topic 52: thumbs here's summer excellent pulled word: highlights: rest material. matter: deep talent great hooks disc."
      ]
     },
     "metadata": {},
     "output_type": "display_data"
    },
    {
     "data": {
      "text/html": [
       "<pre>topic 53: great blues time love guitar sound record playing good years play jeff hear heard remember</pre>"
      ],
      "text/plain": [
       "topic 53: great blues time love guitar sound record playing good years play jeff hear heard remember"
      ]
     },
     "metadata": {},
     "output_type": "display_data"
    },
    {
     "data": {
      "text/html": [
       "<pre>topic 54: sheryl crow montreal barnes kevin crow's staying 'the & false hard music. stuff. sheryl's effort.</pre>"
      ],
      "text/plain": [
       "topic 54: sheryl crow montreal barnes kevin crow's staying 'the & false hard music. stuff. sheryl's effort."
      ]
     },
     "metadata": {},
     "output_type": "display_data"
    },
    {
     "data": {
      "text/html": [
       "<pre>topic 55: tori cat amos tori's albums stevens piano choirgirl bonnie favourite venus \"little amos' pink boys</pre>"
      ],
      "text/plain": [
       "topic 55: tori cat amos tori's albums stevens piano choirgirl bonnie favourite venus \"little amos' pink boys"
      ]
     },
     "metadata": {},
     "output_type": "display_data"
    },
    {
     "data": {
      "text/html": [
       "<pre>topic 56: purchased mind. tight, 10 chicago grooves awesome. days spot moon, purchase. sounds. track title. 90's</pre>"
      ],
      "text/plain": [
       "topic 56: purchased mind. tight, 10 chicago grooves awesome. days spot moon, purchase. sounds. track title. 90's"
      ]
     },
     "metadata": {},
     "output_type": "display_data"
    },
    {
     "data": {
      "text/html": [
       "<pre>topic 57: bon jovi album. iver jon cd jersey mr. justin material you. jovi's twisted vernon's (and</pre>"
      ],
      "text/plain": [
       "topic 57: bon jovi album. iver jon cd jersey mr. justin material you. jovi's twisted vernon's (and"
      ]
     },
     "metadata": {},
     "output_type": "display_data"
    },
    {
     "data": {
      "text/html": [
       "<pre>topic 58: radiohead thom clay kid yorke king rest radiohead's pretty yorke's tracks recommend computer radiohead, entire</pre>"
      ],
      "text/plain": [
       "topic 58: radiohead thom clay kid yorke king rest radiohead's pretty yorke's tracks recommend computer radiohead, entire"
      ]
     },
     "metadata": {},
     "output_type": "display_data"
    },
    {
     "data": {
      "text/html": [
       "<pre>topic 59: jazz playing miles musicians recording blue recorded solo jazz, jimmy classic john coltrane bass note</pre>"
      ],
      "text/plain": [
       "topic 59: jazz playing miles musicians recording blue recorded solo jazz, jimmy classic john coltrane bass note"
      ]
     },
     "metadata": {},
     "output_type": "display_data"
    },
    {
     "data": {
      "text/html": [
       "<pre>topic 60: work future groups lp recommend best. r&b money. good. master personality quality buy enjoy! producers</pre>"
      ],
      "text/plain": [
       "topic 60: work future groups lp recommend best. r&b money. good. master personality quality buy enjoy! producers"
      ]
     },
     "metadata": {},
     "output_type": "display_data"
    },
    {
     "data": {
      "text/html": [
       "<pre>topic 61: hot top billboard u.s. 100 40 albums don't # singles adult chart easy charts magazine</pre>"
      ],
      "text/plain": [
       "topic 61: hot top billboard u.s. 100 40 albums don't # singles adult chart easy charts magazine"
      ]
     },
     "metadata": {},
     "output_type": "display_data"
    },
    {
     "data": {
      "text/html": [
       "<pre>topic 62: dan steely fagen royal dan's donald becker katy fred b-52's walter lose fogelberg quality lyrics</pre>"
      ],
      "text/plain": [
       "topic 62: dan steely fagen royal dan's donald becker katy fred b-52's walter lose fogelberg quality lyrics"
      ]
     },
     "metadata": {},
     "output_type": "display_data"
    },
    {
     "data": {
      "text/html": [
       "<pre>topic 63: bone mariah songs whitney carey thugs sam mariah's cooke abba strong chance houston 1999 made</pre>"
      ],
      "text/plain": [
       "topic 63: bone mariah songs whitney carey thugs sam mariah's cooke abba strong chance houston 1999 made"
      ]
     },
     "metadata": {},
     "output_type": "display_data"
    },
    {
     "data": {
      "text/html": [
       "<pre>topic 64: great - love album. sounds album! group 5/5. songs album / cd effort. don't house.</pre>"
      ],
      "text/plain": [
       "topic 64: great - love album. sounds album! group 5/5. songs album / cd effort. don't house."
      ]
     },
     "metadata": {},
     "output_type": "display_data"
    },
    {
     "data": {
      "text/html": [
       "<pre>topic 65: album it. classic reason provoking ... dark years. add mad rest is, tunes leave best.</pre>"
      ],
      "text/plain": [
       "topic 65: album it. classic reason provoking ... dark years. add mad rest is, tunes leave best."
      ]
     },
     "metadata": {},
     "output_type": "display_data"
    },
    {
     "data": {
      "text/html": [
       "<pre>topic 66: funk funky it's time george p-funk jams now. parliament clinton buy funk. back it. sound</pre>"
      ],
      "text/plain": [
       "topic 66: funk funky it's time george p-funk jams now. parliament clinton buy funk. back it. sound"
      ]
     },
     "metadata": {},
     "output_type": "display_data"
    },
    {
     "data": {
      "text/html": [
       "<pre>topic 67: nick drake drake's jamiroquai jay \"pink nick's pink kay duncan jane side reason bryter heart.</pre>"
      ],
      "text/plain": [
       "topic 67: nick drake drake's jamiroquai jay \"pink nick's pink kay duncan jane side reason bryter heart."
      ]
     },
     "metadata": {},
     "output_type": "display_data"
    },
    {
     "data": {
      "text/html": [
       "<pre>topic 68: michael album jackson music pop bad songs solo stop jackson's elvis can't title disco costello</pre>"
      ],
      "text/plain": [
       "topic 68: michael album jackson music pop bad songs solo stop jackson's elvis can't title disco costello"
      ]
     },
     "metadata": {},
     "output_type": "display_data"
    },
    {
     "data": {
      "text/html": [
       "<pre>topic 69: rap 50 eminem album hip hop beats people real ja cent pac die dont cd</pre>"
      ],
      "text/plain": [
       "topic 69: rap 50 eminem album hip hop beats people real ja cent pac die dont cd"
      ]
     },
     "metadata": {},
     "output_type": "display_data"
    },
    {
     "data": {
      "text/html": [
       "<pre>topic 70: devo pure freedom devo's catchy otherwise, boat worth choice enjoy standing few. meet songs; forgettable.</pre>"
      ],
      "text/plain": [
       "topic 70: devo pure freedom devo's catchy otherwise, boat worth choice enjoy standing few. meet songs; forgettable."
      ]
     },
     "metadata": {},
     "output_type": "display_data"
    },
    {
     "data": {
      "text/html": [
       "<pre>topic 71: song album love great it's dance pop single hit time madonna alice beautiful released title</pre>"
      ],
      "text/plain": [
       "topic 71: song album love great it's dance pop single hit time madonna alice beautiful released title"
      ]
     },
     "metadata": {},
     "output_type": "display_data"
    },
    {
     "data": {
      "text/html": [
       "<pre>topic 72: hill cypress liz phair solid start hill's - dark tough sen recommend you'll muggs large</pre>"
      ],
      "text/plain": [
       "topic 72: hill cypress liz phair solid start hill's - dark tough sen recommend you'll muggs large"
      ]
     },
     "metadata": {},
     "output_type": "display_data"
    },
    {
     "data": {
      "text/html": [
       "<pre>topic 73: album songs great prince album. albums it's favorite love buy prince's sound good albums. song</pre>"
      ],
      "text/plain": [
       "topic 73: album songs great prince album. albums it's favorite love buy prince's sound good albums. song"
      ]
     },
     "metadata": {},
     "output_type": "display_data"
    },
    {
     "data": {
      "text/html": [
       "<pre>topic 74: songs dylan album bob great record it's love band mars dylan's songs. songs, made here,</pre>"
      ],
      "text/plain": [
       "topic 74: songs dylan album bob great record it's love band mars dylan's songs. songs, made here,"
      ]
     },
     "metadata": {},
     "output_type": "display_data"
    },
    {
     "data": {
      "text/html": [
       "<pre>topic 75: good blur boy love buy however, unique fan releases, solid earlier blur's time he's cardigans</pre>"
      ],
      "text/plain": [
       "topic 75: good blur boy love buy however, unique fan releases, solid earlier blur's time he's cardigans"
      ]
     },
     "metadata": {},
     "output_type": "display_data"
    },
    {
     "data": {
      "text/html": [
       "<pre>topic 76: album song amazing, nice playing bach talented works book. purchase rocks intelligent serve wave, catchy</pre>"
      ],
      "text/plain": [
       "topic 76: album song amazing, nice playing bach talented works book. purchase rocks intelligent serve wave, catchy"
      ]
     },
     "metadata": {},
     "output_type": "display_data"
    },
    {
     "data": {
      "text/html": [
       "<pre>topic 77: album pixies kim rest true soundgarden christ frank download days surfer pixies, francis breeders badmotorfinger</pre>"
      ],
      "text/plain": [
       "topic 77: album pixies kim rest true soundgarden christ frank download days surfer pixies, francis breeders badmotorfinger"
      ]
     },
     "metadata": {},
     "output_type": "display_data"
    },
    {
     "data": {
      "text/html": [
       "<pre>topic 78: album songs great album. album, music albums time fan tracks good people back make favorite</pre>"
      ],
      "text/plain": [
       "topic 78: album songs great album. album, music albums time fan tracks good people back make favorite"
      ]
     },
     "metadata": {},
     "output_type": "display_data"
    },
    {
     "data": {
      "text/html": [
       "<pre>topic 79: good great music recommend bad albums. good. album. pretty worth too. one. back cuts excellent</pre>"
      ],
      "text/plain": [
       "topic 79: good great music recommend bad albums. good. album. pretty worth too. one. back cuts excellent"
      ]
     },
     "metadata": {},
     "output_type": "display_data"
    },
    {
     "data": {
      "text/html": [
       "<pre>topic 80: la de los rage en tom el yo rock, machine lobos listen ratm al zack</pre>"
      ],
      "text/plain": [
       "topic 80: la de los rage en tom el yo rock, machine lobos listen ratm al zack"
      ]
     },
     "metadata": {},
     "output_type": "display_data"
    },
    {
     "data": {
      "text/html": [
       "<pre>topic 81: there's you'll (track pull again! company anthony wise people 90's. creative definately loves world. -</pre>"
      ],
      "text/plain": [
       "topic 81: there's you'll (track pull again! company anthony wise people 90's. creative definately loves world. -"
      ]
     },
     "metadata": {},
     "output_type": "display_data"
    },
    {
     "data": {
      "text/html": [
       "<pre>topic 82: skin lack artistic free move usual rate figure me, pictures seriously. chaka are: positive entire</pre>"
      ],
      "text/plain": [
       "topic 82: skin lack artistic free move usual rate figure me, pictures seriously. chaka are: positive entire"
      ]
     },
     "metadata": {},
     "output_type": "display_data"
    },
    {
     "data": {
      "text/html": [
       "<pre>topic 83: songs hits collection greatest cd tracks disc fan compilation set fans hendrix years don't jimi</pre>"
      ],
      "text/plain": [
       "topic 83: songs hits collection greatest cd tracks disc fan compilation set fans hendrix years don't jimi"
      ]
     },
     "metadata": {},
     "output_type": "display_data"
    },
    {
     "data": {
      "text/html": [
       "<pre>topic 84: album album. wu lyrics albums classic wu-tang production beats rza ghost ghostface solo arctic tang</pre>"
      ],
      "text/plain": [
       "topic 84: album album. wu lyrics albums classic wu-tang production beats rza ghost ghostface solo arctic tang"
      ]
     },
     "metadata": {},
     "output_type": "display_data"
    },
    {
     "data": {
      "text/html": [
       "<pre>topic 85: album & song hit \"the time john elton released single albums years top \"i early</pre>"
      ],
      "text/plain": [
       "topic 85: album & song hit \"the time john elton released single albums years top \"i early"
      ]
     },
     "metadata": {},
     "output_type": "display_data"
    },
    {
     "data": {
      "text/html": [
       "<pre>topic 86: band album rock it's sound guitar songs bands - song hard time albums sounds record</pre>"
      ],
      "text/plain": [
       "topic 86: band album rock it's sound guitar songs bands - song hard time albums sounds record"
      ]
     },
     "metadata": {},
     "output_type": "display_data"
    },
    {
     "data": {
      "text/html": [
       "<pre>topic 87: jones norah jewel she's cd pop great love songs country debut sound talent spirit listen</pre>"
      ],
      "text/plain": [
       "topic 87: jones norah jewel she's cd pop great love songs country debut sound talent spirit listen"
      ]
     },
     "metadata": {},
     "output_type": "display_data"
    },
    {
     "data": {
      "text/html": [
       "<pre>topic 88: great songs duran love stevie annie fleetwood pop mac make eurythmics hit fan christine dreams</pre>"
      ],
      "text/plain": [
       "topic 88: great songs duran love stevie annie fleetwood pop mac make eurythmics hit fan christine dreams"
      ]
     },
     "metadata": {},
     "output_type": "display_data"
    },
    {
     "data": {
      "text/html": [
       "<pre>topic 89: thier wishes hit intelligent watch sublime 'i cd. singing. dug then, doubt on. rather, fun.</pre>"
      ],
      "text/plain": [
       "topic 89: thier wishes hit intelligent watch sublime 'i cd. singing. dug then, doubt on. rather, fun."
      ]
     },
     "metadata": {},
     "output_type": "display_data"
    },
    {
     "data": {
      "text/html": [
       "<pre>topic 90: great great, listening. years. isn't packed beats, buy. juve highly draw amazing aaliyah day. kill</pre>"
      ],
      "text/plain": [
       "topic 90: great great, listening. years. isn't packed beats, buy. juve highly draw amazing aaliyah day. kill"
      ]
     },
     "metadata": {},
     "output_type": "display_data"
    },
    {
     "data": {
      "text/html": [
       "<pre>topic 91: you. range r&b thier history mood. masterpiece cutting blown singing time boy\" constant tired bobby</pre>"
      ],
      "text/plain": [
       "topic 91: you. range r&b thier history mood. masterpiece cutting blown singing time boy\" constant tired bobby"
      ]
     },
     "metadata": {},
     "output_type": "display_data"
    },
    {
     "data": {
      "text/html": [
       "<pre>topic 92: highly sounding finest summer again. agree glad sequel discovered guy out. foot ultimate lackluster decent</pre>"
      ],
      "text/plain": [
       "topic 92: highly sounding finest summer again. agree glad sequel discovered guy out. foot ultimate lackluster decent"
      ]
     },
     "metadata": {},
     "output_type": "display_data"
    },
    {
     "data": {
      "text/html": [
       "<pre>topic 93: album songs true hard record mr good car times. enjoyable today measure la, gap classic,</pre>"
      ],
      "text/plain": [
       "topic 93: album songs true hard record mr good car times. enjoyable today measure la, gap classic,"
      ]
     },
     "metadata": {},
     "output_type": "display_data"
    },
    {
     "data": {
      "text/html": [
       "<pre>topic 94: morning incubus music view pretty brandon it! creative bought bit best. ground boyd soundtrack. follow-up</pre>"
      ],
      "text/plain": [
       "topic 94: morning incubus music view pretty brandon it! creative bought bit best. ground boyd soundtrack. follow-up"
      ]
     },
     "metadata": {},
     "output_type": "display_data"
    },
    {
     "data": {
      "text/html": [
       "<pre>topic 95: album hot red rock chili peppers sex funk mellow sugar it's blood album. hell awesome</pre>"
      ],
      "text/plain": [
       "topic 95: album hot red rock chili peppers sex funk mellow sugar it's blood album. hell awesome"
      ]
     },
     "metadata": {},
     "output_type": "display_data"
    },
    {
     "data": {
      "text/html": [
       "<pre>topic 96: cash johnny american man country cash's music rick prison cd legend neil waylon life rubin</pre>"
      ],
      "text/plain": [
       "topic 96: cash johnny american man country cash's music rick prison cd legend neil waylon life rubin"
      ]
     },
     "metadata": {},
     "output_type": "display_data"
    },
    {
     "data": {
      "text/html": [
       "<pre>topic 97: version original album tracks live sound great bonus disc versions quality release released remastered albums</pre>"
      ],
      "text/plain": [
       "topic 97: version original album tracks live sound great bonus disc versions quality release released remastered albums"
      ]
     },
     "metadata": {},
     "output_type": "display_data"
    },
    {
     "data": {
      "text/html": [
       "<pre>topic 98: album time tight favor also. learn copy close here. track flat holds loved coffee album.</pre>"
      ],
      "text/plain": [
       "topic 98: album time tight favor also. learn copy close here. track flat holds loved coffee album."
      ]
     },
     "metadata": {},
     "output_type": "display_data"
    },
    {
     "data": {
      "text/html": [
       "<pre>topic 99: sounds music boys love beach it's brian pet voice toni made pretty back long it.</pre>"
      ],
      "text/plain": [
       "topic 99: sounds music boys love beach it's brian pet voice toni made pretty back long it."
      ]
     },
     "metadata": {},
     "output_type": "display_data"
    },
    {
     "data": {
      "text/html": [
       "<pre>| 60        | 2m 30s        | 2.31887e+006   | 16338           |</pre>"
      ],
      "text/plain": [
       "| 60        | 2m 30s        | 2.31887e+006   | 16338           |"
      ]
     },
     "metadata": {},
     "output_type": "display_data"
    },
    {
     "data": {
      "text/html": [
       "<pre>topic 0: &amp; &quot;the &quot;i album great songs r&amp;b me&quot; you&quot; &quot;you love&quot; make &quot;my &quot;don't &quot;love</pre>"
      ],
      "text/plain": [
       "topic 0: &amp; &quot;the &quot;i album great songs r&amp;b me&quot; you&quot; &quot;you love&quot; make &quot;my &quot;don't &quot;love"
      ]
     },
     "metadata": {},
     "output_type": "display_data"
    },
    {
     "data": {
      "text/html": [
       "<pre>topic 1: unique voices sad bad chief effort. highly album, them. gift bless --------- doubt, crisp same.</pre>"
      ],
      "text/plain": [
       "topic 1: unique voices sad bad chief effort. highly album, them. gift bless --------- doubt, crisp same."
      ]
     },
     "metadata": {},
     "output_type": "display_data"
    },
    {
     "data": {
      "text/html": [
       "<pre>topic 2: stand hard this. worth black regret back plays isn't (of added show plenty start. collection!</pre>"
      ],
      "text/plain": [
       "topic 2: stand hard this. worth black regret back plays isn't (of added show plenty start. collection!"
      ]
     },
     "metadata": {},
     "output_type": "display_data"
    },
    {
     "data": {
      "text/html": [
       "<pre>topic 3: songs good album great buy albums recommend album, lyrics song big fun group friends hard</pre>"
      ],
      "text/plain": [
       "topic 3: songs good album great buy albums recommend album, lyrics song big fun group friends hard"
      ]
     },
     "metadata": {},
     "output_type": "display_data"
    },
    {
     "data": {
      "text/html": [
       "<pre>topic 4: don't i'm good it. songs that's listen can't you're didn't it, i've doesn't album make</pre>"
      ],
      "text/plain": [
       "topic 4: don't i'm good it. songs that's listen can't you're didn't it, i've doesn't album make"
      ]
     },
     "metadata": {},
     "output_type": "display_data"
    },
    {
     "data": {
      "text/html": [
       "<pre>topic 5: paul simon stone songs joss carly simon's bee soul troubled love barry garfunkel paul's stone's</pre>"
      ],
      "text/plain": [
       "topic 5: paul simon stone songs joss carly simon's bee soul troubled love barry garfunkel paul's stone's"
      ]
     },
     "metadata": {},
     "output_type": "display_data"
    },
    {
     "data": {
      "text/html": [
       "<pre>topic 6: lips flaming soft wayne pink music battles jazmine taste song lips, yoshimi trust recommended lips'</pre>"
      ],
      "text/plain": [
       "topic 6: lips flaming soft wayne pink music battles jazmine taste song lips, yoshimi trust recommended lips'"
      ]
     },
     "metadata": {},
     "output_type": "display_data"
    },
    {
     "data": {
      "text/html": [
       "<pre>topic 7: album .. great. downloaded kingdom i'm regret high standouts lyrics. cool 'the science breaking highly</pre>"
      ],
      "text/plain": [
       "topic 7: album .. great. downloaded kingdom i'm regret high standouts lyrics. cool 'the science breaking highly"
      ]
     },
     "metadata": {},
     "output_type": "display_data"
    },
    {
     "data": {
      "text/html": [
       "<pre>topic 8: it's buy great love ... stuff don't listen recommend album. :) favorite one. it. highly</pre>"
      ],
      "text/plain": [
       "topic 8: it's buy great love ... stuff don't listen recommend album. :) favorite one. it. highly"
      ]
     },
     "metadata": {},
     "output_type": "display_data"
    },
    {
     "data": {
      "text/html": [
       "<pre>topic 9: punk daft buy feel brings punk's give hands squeeze feet one. blend back, flows instead.</pre>"
      ],
      "text/plain": [
       "topic 9: punk daft buy feel brings punk's give hands squeeze feet one. blend back, flows instead."
      ]
     },
     "metadata": {},
     "output_type": "display_data"
    },
    {
     "data": {
      "text/html": [
       "<pre>topic 10: voice favorites music album brothers, filler held creative total samples mature upbeat sick tunes. memory</pre>"
      ],
      "text/plain": [
       "topic 10: voice favorites music album brothers, filler held creative total samples mature upbeat sick tunes. memory"
      ]
     },
     "metadata": {},
     "output_type": "display_data"
    },
    {
     "data": {
      "text/html": [
       "<pre>topic 11: joni cars mitchell music joni's mitchell's ride court ric ocasek spark friend's years. \"free folk</pre>"
      ],
      "text/plain": [
       "topic 11: joni cars mitchell music joni's mitchell's ride court ric ocasek spark friend's years. \"free folk"
      ]
     },
     "metadata": {},
     "output_type": "display_data"
    },
    {
     "data": {
      "text/html": [
       "<pre>topic 12: popular kind stuff material. find album, time. display alike. dated tracks me, (how amazing! march</pre>"
      ],
      "text/plain": [
       "topic 12: popular kind stuff material. find album, time. display alike. dated tracks me, (how amazing! march"
      ]
     },
     "metadata": {},
     "output_type": "display_data"
    },
    {
     "data": {
      "text/html": [
       "<pre>topic 13: rest body view classic words efforts 2nd yeah, you're this, likes wanting meet single favorites</pre>"
      ],
      "text/plain": [
       "topic 13: rest body view classic words efforts 2nd yeah, you're this, likes wanting meet single favorites"
      ]
     },
     "metadata": {},
     "output_type": "display_data"
    },
    {
     "data": {
      "text/html": [
       "<pre>topic 14: music it's people music. listening back listen years hear make heard music, made radio lot</pre>"
      ],
      "text/plain": [
       "topic 14: music it's people music. listening back listen years hear make heard music, made radio lot"
      ]
     },
     "metadata": {},
     "output_type": "display_data"
    },
    {
     "data": {
      "text/html": [
       "<pre>topic 15: - album & good track beat great rap production song beats -- tracks 2 back</pre>"
      ],
      "text/plain": [
       "topic 15: - album & good track beat great rap production song beats -- tracks 2 back"
      ]
     },
     "metadata": {},
     "output_type": "display_data"
    },
    {
     "data": {
      "text/html": [
       "<pre>topic 16: bad follow solid lots ran add 80's this. brilliant misfits classic it? recommended. morning forgotten</pre>"
      ],
      "text/plain": [
       "topic 16: bad follow solid lots ran add 80's this. brilliant misfits classic it? recommended. morning forgotten"
      ]
     },
     "metadata": {},
     "output_type": "display_data"
    },
    {
     "data": {
      "text/html": [
       "<pre>topic 17: buy / excellent blows traditional sleep albums key sides jimmy celebrate grab suited high (that</pre>"
      ],
      "text/plain": [
       "topic 17: buy / excellent blows traditional sleep albums key sides jimmy celebrate grab suited high (that"
      ]
     },
     "metadata": {},
     "output_type": "display_data"
    },
    {
     "data": {
      "text/html": [
       "<pre>topic 18: rob team small low guys dirty jonathan chaotic matchbox sounding. cool ethereal bush priest's indication</pre>"
      ],
      "text/plain": [
       "topic 18: rob team small low guys dirty jonathan chaotic matchbox sounding. cool ethereal bush priest's indication"
      ]
     },
     "metadata": {},
     "output_type": "display_data"
    },
    {
     "data": {
      "text/html": [
       "<pre>topic 19: phil album solo long eagles songs collins don day good genesis steve hit peter country</pre>"
      ],
      "text/plain": [
       "topic 19: phil album solo long eagles songs collins don day good genesis steve hit peter country"
      ]
     },
     "metadata": {},
     "output_type": "display_data"
    },
    {
     "data": {
      "text/html": [
       "<pre>topic 20: best. putting 10 wanna enjoy. crowded mixture boring alright level depressing hornsby opinion can't moments.</pre>"
      ],
      "text/plain": [
       "topic 20: best. putting 10 wanna enjoy. crowded mixture boring alright level depressing hornsby opinion can't moments."
      ]
     },
     "metadata": {},
     "output_type": "display_data"
    },
    {
     "data": {
      "text/html": [
       "<pre>topic 21: cd queen pop enjoy time standout real don't matter favor chic this. album. adds actor</pre>"
      ],
      "text/plain": [
       "topic 21: cd queen pop enjoy time standout real don't matter favor chic this. album. adds actor"
      ]
     },
     "metadata": {},
     "output_type": "display_data"
    },
    {
     "data": {
      "text/html": [
       "<pre>topic 22: good cd 5 2 4 stars buy star dont 3 give worth bad 1 stars.</pre>"
      ],
      "text/plain": [
       "topic 22: good cd 5 2 4 stars buy star dont 3 give worth bad 1 stars."
      ]
     },
     "metadata": {},
     "output_type": "display_data"
    },
    {
     "data": {
      "text/html": [
       "<pre>topic 23: - alison cd bluegrass krauss plant no. robert union missy tweet [see pretty nickel country</pre>"
      ],
      "text/plain": [
       "topic 23: - alison cd bluegrass krauss plant no. robert union missy tweet [see pretty nickel country"
      ]
     },
     "metadata": {},
     "output_type": "display_data"
    },
    {
     "data": {
      "text/html": [
       "<pre>topic 24: great release album dark lot. rufus back artist. young simple cute straight worth reccomend ears</pre>"
      ],
      "text/plain": [
       "topic 24: great release album dark lot. rufus back artist. young simple cute straight worth reccomend ears"
      ]
     },
     "metadata": {},
     "output_type": "display_data"
    },
    {
     "data": {
      "text/html": [
       "<pre>topic 25: huge album. too. planet worth classic. walking forgotten highly single rest disappoint. earth, morrison time!</pre>"
      ],
      "text/plain": [
       "topic 25: huge album. too. planet worth classic. walking forgotten highly single rest disappoint. earth, morrison time!"
      ]
     },
     "metadata": {},
     "output_type": "display_data"
    },
    {
     "data": {
      "text/html": [
       "<pre>topic 26: white jack stripes lady black don't cold gaga blood meg gonna white's great nation \"born</pre>"
      ],
      "text/plain": [
       "topic 26: white jack stripes lady black don't cold gaga blood meg gonna white's great nation \"born"
      ]
     },
     "metadata": {},
     "output_type": "display_data"
    },
    {
     "data": {
      "text/html": [
       "<pre>topic 27: . , \" ( &quot; ! ) ... danger mouse : an' great ? gnarls</pre>"
      ],
      "text/plain": [
       "topic 27: . , \" ( &quot; ! ) ... danger mouse : an' great ? gnarls"
      ]
     },
     "metadata": {},
     "output_type": "display_data"
    },
    {
     "data": {
      "text/html": [
       "<pre>topic 28: album disc classic. moon plain raw french show sleep twisted alot. market album! thing, stevie</pre>"
      ],
      "text/plain": [
       "topic 28: album disc classic. moon plain raw french show sleep twisted alot. market album! thing, stevie"
      ]
     },
     "metadata": {},
     "output_type": "display_data"
    },
    {
     "data": {
      "text/html": [
       "<pre>topic 29: duffy 'in play words form favourite etc. feels 10 spectacular. school. songwriting pure monster sisters</pre>"
      ],
      "text/plain": [
       "topic 29: duffy 'in play words form favourite etc. feels 10 spectacular. school. songwriting pure monster sisters"
      ]
     },
     "metadata": {},
     "output_type": "display_data"
    },
    {
     "data": {
      "text/html": [
       "<pre>topic 30: ben folds del make les primus lana dark \"video rey die\" games\" \"beauty weak recommend</pre>"
      ],
      "text/plain": [
       "topic 30: ben folds del make les primus lana dark \"video rey die\" games\" \"beauty weak recommend"
      ]
     },
     "metadata": {},
     "output_type": "display_data"
    },
    {
     "data": {
      "text/html": [
       "<pre>topic 31: mary alicia j. amy keys blige cd mary's winehouse ain't diary dry r&b artist. \"back</pre>"
      ],
      "text/plain": [
       "topic 31: mary alicia j. amy keys blige cd mary's winehouse ain't diary dry r&b artist. \"back"
      ]
     },
     "metadata": {},
     "output_type": "display_data"
    },
    {
     "data": {
      "text/html": [
       "<pre>topic 32: album seals crofts cool albums breathe fox gave fool delivers listenable expect phrase caught simply</pre>"
      ],
      "text/plain": [
       "topic 32: album seals crofts cool albums breathe fox gave fool delivers listenable expect phrase caught simply"
      ]
     },
     "metadata": {},
     "output_type": "display_data"
    },
    {
     "data": {
      "text/html": [
       "<pre>topic 33: great christmas listen --- buy free cox holiday chrissie dead soft stories wanna boy, bing</pre>"
      ],
      "text/plain": [
       "topic 33: great christmas listen --- buy free cox holiday chrissie dead soft stories wanna boy, bing"
      ]
     },
     "metadata": {},
     "output_type": "display_data"
    },
    {
     "data": {
      "text/html": [
       "<pre>topic 34: music love voice album cd soul she's listen artist time feel artists back i'm don't</pre>"
      ],
      "text/plain": [
       "topic 34: music love voice album cd soul she's listen artist time feel artists back i'm don't"
      ]
     },
     "metadata": {},
     "output_type": "display_data"
    },
    {
     "data": {
      "text/html": [
       "<pre>topic 35: great buy work great, cuts sharp incredible school excellent top sense memories people hold earned</pre>"
      ],
      "text/plain": [
       "topic 35: great buy work great, cuts sharp incredible school excellent top sense memories people hold earned"
      ]
     },
     "metadata": {},
     "output_type": "display_data"
    },
    {
     "data": {
      "text/html": [
       "<pre>topic 36: hard play sound production. city strange mouth rest pulled job forget fashioned great, productions pack</pre>"
      ],
      "text/plain": [
       "topic 36: hard play sound production. city strange mouth rest pulled job forget fashioned great, productions pack"
      ]
     },
     "metadata": {},
     "output_type": "display_data"
    },
    {
     "data": {
      "text/html": [
       "<pre>topic 37: mark dire knopfler straits knopfler's rest fall party arms\" emmylou work. \"brothers nothing\" @ skills</pre>"
      ],
      "text/plain": [
       "topic 37: mark dire knopfler straits knopfler's rest fall party arms\" emmylou work. \"brothers nothing\" @ skills"
      ]
     },
     "metadata": {},
     "output_type": "display_data"
    },
    {
     "data": {
      "text/html": [
       "<pre>topic 38: gordon lightfoot nina voice time cool buy gordon's veruca ... longer jam radio. matter tonight</pre>"
      ],
      "text/plain": [
       "topic 38: gordon lightfoot nina voice time cool buy gordon's veruca ... longer jam radio. matter tonight"
      ]
     },
     "metadata": {},
     "output_type": "display_data"
    },
    {
     "data": {
      "text/html": [
       "<pre>topic 39: it's - music album lyrics track musical vocals sound vocal pop guitar beautiful sounds work</pre>"
      ],
      "text/plain": [
       "topic 39: it's - music album lyrics track musical vocals sound vocal pop guitar beautiful sounds work"
      ]
     },
     "metadata": {},
     "output_type": "display_data"
    },
    {
     "data": {
      "text/html": [
       "<pre>topic 40: kelly r. long light rate stop kelly's it's kelly, buy music. clarkson burn collection. give</pre>"
      ],
      "text/plain": [
       "topic 40: kelly r. long light rate stop kelly's it's kelly, buy music. clarkson burn collection. give"
      ]
     },
     "metadata": {},
     "output_type": "display_data"
    },
    {
     "data": {
      "text/html": [
       "<pre>topic 41: cd songs song cd. great good love heard listen bought cd, favorite it. listening time</pre>"
      ],
      "text/plain": [
       "topic 41: cd songs song cd. great good love heard listen bought cd, favorite it. listening time"
      ]
     },
     "metadata": {},
     "output_type": "display_data"
    },
    {
     "data": {
      "text/html": [
       "<pre>topic 42: nelly furtado carrie gwen nelly's best. trick loose furtado's push female underwood stars. full listen</pre>"
      ],
      "text/plain": [
       "topic 42: nelly furtado carrie gwen nelly's best. trick loose furtado's push female underwood stars. full listen"
      ]
     },
     "metadata": {},
     "output_type": "display_data"
    },
    {
     "data": {
      "text/html": [
       "<pre>topic 43: gang guru starr moment premier mass hear monotone guru's advice favourite avoid crack gangstarr earn</pre>"
      ],
      "text/plain": [
       "topic 43: gang guru starr moment premier mass hear monotone guru's advice favourite avoid crack gangstarr earn"
      ]
     },
     "metadata": {},
     "output_type": "display_data"
    },
    {
     "data": {
      "text/html": [
       "<pre>topic 44: cyndi lauper & cyndi's lauper's wanna awesome \"girls \"true urban have. \"same shake fun this,</pre>"
      ],
      "text/plain": [
       "topic 44: cyndi lauper & cyndi's lauper's wanna awesome \"girls \"true urban have. \"same shake fun this,"
      ]
     },
     "metadata": {},
     "output_type": "display_data"
    },
    {
     "data": {
      "text/html": [
       "<pre>topic 45: cd dido dido's adele rest lyrics classic put excellent adele's faithless hit kravitz remember land</pre>"
      ],
      "text/plain": [
       "topic 45: cd dido dido's adele rest lyrics classic put excellent adele's faithless hit kravitz remember land"
      ]
     },
     "metadata": {},
     "output_type": "display_data"
    },
    {
     "data": {
      "text/html": [
       "<pre>topic 46: big love outkast andre hip-hop boi hey kelis boi's 3000 day lives outkast's classic. groups</pre>"
      ],
      "text/plain": [
       "topic 46: big love outkast andre hip-hop boi hey kelis boi's 3000 day lives outkast's classic. groups"
      ]
     },
     "metadata": {},
     "output_type": "display_data"
    },
    {
     "data": {
      "text/html": [
       "<pre>topic 47: yeah karen richard carpenters carpenter back karen's yeahs fuel powerful sound. dull fever music. tv</pre>"
      ],
      "text/plain": [
       "topic 47: yeah karen richard carpenters carpenter back karen's yeahs fuel powerful sound. dull fever music. tv"
      ]
     },
     "metadata": {},
     "output_type": "display_data"
    },
    {
     "data": {
      "text/html": [
       "<pre>topic 48: fleet foxes it! this. album. buy this, it.the corrs enough. par rough overall. save leave</pre>"
      ],
      "text/plain": [
       "topic 48: fleet foxes it! this. album. buy this, it.the corrs enough. par rough overall. save leave"
      ]
     },
     "metadata": {},
     "output_type": "display_data"
    },
    {
     "data": {
      "text/html": [
       "<pre>topic 49: van great rock album alanis halen eddie david lee cover classic debut hard roth morissette</pre>"
      ],
      "text/plain": [
       "topic 49: van great rock album alanis halen eddie david lee cover classic debut hard roth morissette"
      ]
     },
     "metadata": {},
     "output_type": "display_data"
    },
    {
     "data": {
      "text/html": [
       "<pre>topic 50: it's great songs album there's album, you're you'll isn't pop voice they're album. fan pretty</pre>"
      ],
      "text/plain": [
       "topic 50: it's great songs album there's album, you're you'll isn't pop voice they're album. fan pretty"
      ]
     },
     "metadata": {},
     "output_type": "display_data"
    },
    {
     "data": {
      "text/html": [
       "<pre>topic 51: song it's album songs good track album. song. song, love album, lyrics don't nice favorite</pre>"
      ],
      "text/plain": [
       "topic 51: song it's album songs good track album. song. song, love album, lyrics don't nice favorite"
      ]
     },
     "metadata": {},
     "output_type": "display_data"
    },
    {
     "data": {
      "text/html": [
       "<pre>topic 52: thumbs made too. stuff highlights: feel solid change matter: word: goofy albums gotta material (it</pre>"
      ],
      "text/plain": [
       "topic 52: thumbs made too. stuff highlights: feel solid change matter: word: goofy albums gotta material (it"
      ]
     },
     "metadata": {},
     "output_type": "display_data"
    },
    {
     "data": {
      "text/html": [
       "<pre>topic 53: great blues guitar time song love playing made jeff record live robert songs eric cd</pre>"
      ],
      "text/plain": [
       "topic 53: great blues guitar time song love playing made jeff record live robert songs eric cd"
      ]
     },
     "metadata": {},
     "output_type": "display_data"
    },
    {
     "data": {
      "text/html": [
       "<pre>topic 54: crow sheryl montreal barnes crow's add music. found kevin number sheryl's false c'mon stuff. effort.</pre>"
      ],
      "text/plain": [
       "topic 54: crow sheryl montreal barnes crow's add music. found kevin number sheryl's false c'mon stuff. effort."
      ]
     },
     "metadata": {},
     "output_type": "display_data"
    },
    {
     "data": {
      "text/html": [
       "<pre>topic 55: tori cat amos tori's stevens albums piano favourite walk amazing choirgirl father strange boys venus</pre>"
      ],
      "text/plain": [
       "topic 55: tori cat amos tori's stevens albums piano favourite walk amazing choirgirl father strange boys venus"
      ]
     },
     "metadata": {},
     "output_type": "display_data"
    },
    {
     "data": {
      "text/html": [
       "<pre>topic 56: pure sounded club time title 32 voice. album! purchase. born major fingers this. peak producers</pre>"
      ],
      "text/plain": [
       "topic 56: pure sounded club time title 32 voice. album! purchase. born major fingers this. peak producers"
      ]
     },
     "metadata": {},
     "output_type": "display_data"
    },
    {
     "data": {
      "text/html": [
       "<pre>topic 57: bon jovi justin jon iver variety album, john jersey album. perfect compared moving jovi's start</pre>"
      ],
      "text/plain": [
       "topic 57: bon jovi justin jon iver variety album, john jersey album. perfect compared moving jovi's start"
      ]
     },
     "metadata": {},
     "output_type": "display_data"
    },
    {
     "data": {
      "text/html": [
       "<pre>topic 58: radiohead thom clay king kid yorke radiohead's yorke's style. computer out, radiohead, rest clay's talented</pre>"
      ],
      "text/plain": [
       "topic 58: radiohead thom clay king kid yorke radiohead's yorke's style. computer out, radiohead, rest clay's talented"
      ]
     },
     "metadata": {},
     "output_type": "display_data"
    },
    {
     "data": {
      "text/html": [
       "<pre>topic 59: jazz playing great miles musicians recording recorded solo blue play jazz, john jimmy tunes classic</pre>"
      ],
      "text/plain": [
       "topic 59: jazz playing great miles musicians recording recorded solo blue play jazz, john jimmy tunes classic"
      ]
     },
     "metadata": {},
     "output_type": "display_data"
    },
    {
     "data": {
      "text/html": [
       "<pre>topic 60: make good. standouts damn recommend left please, years legend hasn't add lp here, missed. underrated</pre>"
      ],
      "text/plain": [
       "topic 60: make good. standouts damn recommend left please, years legend hasn't add lp here, missed. underrated"
      ]
     },
     "metadata": {},
     "output_type": "display_data"
    },
    {
     "data": {
      "text/html": [
       "<pre>topic 61: hot top billboard u.s. 100 albums 40 don't easy adult singles # mainstream weeks magazine</pre>"
      ],
      "text/plain": [
       "topic 61: hot top billboard u.s. 100 albums 40 don't easy adult singles # mainstream weeks magazine"
      ]
     },
     "metadata": {},
     "output_type": "display_data"
    },
    {
     "data": {
      "text/html": [
       "<pre>topic 62: dan steely fagen dan's royal becker donald katy fred keith lose b-52's walter perry fogelberg</pre>"
      ],
      "text/plain": [
       "topic 62: dan steely fagen dan's royal becker donald katy fred keith lose b-52's walter perry fogelberg"
      ]
     },
     "metadata": {},
     "output_type": "display_data"
    },
    {
     "data": {
      "text/html": [
       "<pre>topic 63: bone mariah whitney carey thugs abba mariah's 1999 krayzie group houston strong flesh chance eternal</pre>"
      ],
      "text/plain": [
       "topic 63: bone mariah whitney carey thugs abba mariah's 1999 krayzie group houston strong flesh chance eternal"
      ]
     },
     "metadata": {},
     "output_type": "display_data"
    },
    {
     "data": {
      "text/html": [
       "<pre>topic 64: great love album. home bunch expect finest wrong lean 10 - sister will. 15 touch,</pre>"
      ],
      "text/plain": [
       "topic 64: great love album. home bunch expect finest wrong lean 10 - sister will. 15 touch,"
      ]
     },
     "metadata": {},
     "output_type": "display_data"
    },
    {
     "data": {
      "text/html": [
       "<pre>topic 65: it. classic rest high lists carl instrumental beginning add music. aaron r&b; grab best. wrong,</pre>"
      ],
      "text/plain": [
       "topic 65: it. classic rest high lists carl instrumental beginning add music. aaron r&b; grab best. wrong,"
      ]
     },
     "metadata": {},
     "output_type": "display_data"
    },
    {
     "data": {
      "text/html": [
       "<pre>topic 66: funk it's george funk. parliament p-funk funky sound clinton classics connection grooves group back mothership</pre>"
      ],
      "text/plain": [
       "topic 66: funk it's george funk. parliament p-funk funky sound clinton classics connection grooves group back mothership"
      ]
     },
     "metadata": {},
     "output_type": "display_data"
    },
    {
     "data": {
      "text/html": [
       "<pre>topic 67: nick drake drake's pink jamiroquai jay \"pink leaves nick's strong jane do. recommended. duncan \"five</pre>"
      ],
      "text/plain": [
       "topic 67: nick drake drake's pink jamiroquai jay \"pink leaves nick's strong jane do. recommended. duncan \"five"
      ]
     },
     "metadata": {},
     "output_type": "display_data"
    },
    {
     "data": {
      "text/html": [
       "<pre>topic 68: album michael jackson pop music songs bad elvis solo stop jackson's can't disco dance costello</pre>"
      ],
      "text/plain": [
       "topic 68: album michael jackson pop music songs bad elvis solo stop jackson's can't disco dance costello"
      ]
     },
     "metadata": {},
     "output_type": "display_data"
    },
    {
     "data": {
      "text/html": [
       "<pre>topic 69: album rap 50 eminem hip beats hop he's real cd people dre ja tracks cent</pre>"
      ],
      "text/plain": [
       "topic 69: album rap 50 eminem hip beats hop he's real cd people dre ja tracks cent"
      ]
     },
     "metadata": {},
     "output_type": "display_data"
    },
    {
     "data": {
      "text/html": [
       "<pre>topic 70: devo 100% devo's freedom asked have. banging moves couldn't pure while. chick pleasure best, drag</pre>"
      ],
      "text/plain": [
       "topic 70: devo 100% devo's freedom asked have. banging moves couldn't pure while. chick pleasure best, drag"
      ]
     },
     "metadata": {},
     "output_type": "display_data"
    },
    {
     "data": {
      "text/html": [
       "<pre>topic 71: album song love great pop it's dance single hit madonna time alice album, title released</pre>"
      ],
      "text/plain": [
       "topic 71: album song love great pop it's dance single hit madonna time alice album, title released"
      ]
     },
     "metadata": {},
     "output_type": "display_data"
    },
    {
     "data": {
      "text/html": [
       "<pre>topic 72: hill cypress liz start phair ahead usual mr. forced you'll rest helped notice silly muggs</pre>"
      ],
      "text/plain": [
       "topic 72: hill cypress liz start phair ahead usual mr. forced you'll rest helped notice silly muggs"
      ]
     },
     "metadata": {},
     "output_type": "display_data"
    },
    {
     "data": {
      "text/html": [
       "<pre>topic 73: album great prince songs album. song it's favorite albums worth prince's buy albums. funk sound</pre>"
      ],
      "text/plain": [
       "topic 73: album great prince songs album. song it's favorite albums worth prince's buy albums. funk sound"
      ]
     },
     "metadata": {},
     "output_type": "display_data"
    },
    {
     "data": {
      "text/html": [
       "<pre>topic 74: songs dylan bob album great mars dylan's belle make pretty one. band songs. blood you're</pre>"
      ],
      "text/plain": [
       "topic 74: songs dylan bob album great mars dylan's belle make pretty one. band songs. blood you're"
      ]
     },
     "metadata": {},
     "output_type": "display_data"
    },
    {
     "data": {
      "text/html": [
       "<pre>topic 75: buy c.d. soundtrack favorite. best. works shows world. packed disk layers dream police sand too.</pre>"
      ],
      "text/plain": [
       "topic 75: buy c.d. soundtrack favorite. best. works shows world. packed disk layers dream police sand too."
      ]
     },
     "metadata": {},
     "output_type": "display_data"
    },
    {
     "data": {
      "text/html": [
       "<pre>topic 76: album bach made bad works download gold. on. hall day own, rank lets free. tough</pre>"
      ],
      "text/plain": [
       "topic 76: album bach made bad works download gold. on. hall day own, rank lets free. tough"
      ]
     },
     "metadata": {},
     "output_type": "display_data"
    },
    {
     "data": {
      "text/html": [
       "<pre>topic 77: album pixies kim albums black frank soundgarden christ slow raw francis pixies, doubt, back surfer</pre>"
      ],
      "text/plain": [
       "topic 77: album pixies kim albums black frank soundgarden christ slow raw francis pixies, doubt, back surfer"
      ]
     },
     "metadata": {},
     "output_type": "display_data"
    },
    {
     "data": {
      "text/html": [
       "<pre>topic 78: album songs great album. albums album, music time good tracks fan favorite highly recommend heard</pre>"
      ],
      "text/plain": [
       "topic 78: album songs great album. albums album, music time good tracks fan favorite highly recommend heard"
      ]
     },
     "metadata": {},
     "output_type": "display_data"
    },
    {
     "data": {
      "text/html": [
       "<pre>topic 79: good great recommend music cuts pretty creative check super puts tough loved disc won't add</pre>"
      ],
      "text/plain": [
       "topic 79: good great recommend music cuts pretty creative check super puts tough loved disc won't add"
      ]
     },
     "metadata": {},
     "output_type": "display_data"
    },
    {
     "data": {
      "text/html": [
       "<pre>topic 80: la de rage los tom el en yo lo lobos ratm grind con morello zack</pre>"
      ],
      "text/plain": [
       "topic 80: la de rage los tom el en yo lo lobos ratm grind con morello zack"
      ]
     },
     "metadata": {},
     "output_type": "display_data"
    },
    {
     "data": {
      "text/html": [
       "<pre>topic 81: world. me. move 40 bunch working most, ride masterpiece copy glad selling goes. show \"the</pre>"
      ],
      "text/plain": [
       "topic 81: world. me. move 40 bunch working most, ride masterpiece copy glad selling goes. show \"the"
      ]
     },
     "metadata": {},
     "output_type": "display_data"
    },
    {
     "data": {
      "text/html": [
       "<pre>topic 82: production this, one, time there. fan. angela rave grab best. piece sings ways attention you'll</pre>"
      ],
      "text/plain": [
       "topic 82: production this, one, time there. fan. angela rave grab best. piece sings ways attention you'll"
      ]
     },
     "metadata": {},
     "output_type": "display_data"
    },
    {
     "data": {
      "text/html": [
       "<pre>topic 83: songs hits collection greatest cd tracks disc fan compilation set fans hendrix don't collection. albums</pre>"
      ],
      "text/plain": [
       "topic 83: songs hits collection greatest cd tracks disc fan compilation set fans hendrix don't collection. albums"
      ]
     },
     "metadata": {},
     "output_type": "display_data"
    },
    {
     "data": {
      "text/html": [
       "<pre>topic 84: album wu beats album. production wu-tang ghost rza classic ghostface lyrics arctic tang method monkeys</pre>"
      ],
      "text/plain": [
       "topic 84: album wu beats album. production wu-tang ghost rza classic ghostface lyrics arctic tang method monkeys"
      ]
     },
     "metadata": {},
     "output_type": "display_data"
    },
    {
     "data": {
      "text/html": [
       "<pre>topic 85: album song hit & \"the time elton john released great single top albums music years</pre>"
      ],
      "text/plain": [
       "topic 85: album song hit & \"the time elton john released great single top albums music years"
      ]
     },
     "metadata": {},
     "output_type": "display_data"
    },
    {
     "data": {
      "text/html": [
       "<pre>topic 86: band album rock sound guitar it's songs bands - time hard albums music sounds record</pre>"
      ],
      "text/plain": [
       "topic 86: band album rock sound guitar it's songs bands - time hard albums music sounds record"
      ]
     },
     "metadata": {},
     "output_type": "display_data"
    },
    {
     "data": {
      "text/html": [
       "<pre>topic 87: jones great pop songs norah jewel cd she's debut sound country talent love miss michelle</pre>"
      ],
      "text/plain": [
       "topic 87: jones great pop songs norah jewel cd she's debut sound country talent love miss michelle"
      ]
     },
     "metadata": {},
     "output_type": "display_data"
    },
    {
     "data": {
      "text/html": [
       "<pre>topic 88: duran songs great fleetwood annie pop mac stevie eurythmics love hit dreams christine nicks stars</pre>"
      ],
      "text/plain": [
       "topic 88: duran songs great fleetwood annie pop mac stevie eurythmics love hit dreams christine nicks stars"
      ]
     },
     "metadata": {},
     "output_type": "display_data"
    },
    {
     "data": {
      "text/html": [
       "<pre>topic 89: move year buy listenable fan. chuck cool. control heavy 4th titles debarge pleasant meaningful seconds</pre>"
      ],
      "text/plain": [
       "topic 89: move year buy listenable fan. chuck cool. control heavy 4th titles debarge pleasant meaningful seconds"
      ]
     },
     "metadata": {},
     "output_type": "display_data"
    },
    {
     "data": {
      "text/html": [
       "<pre>topic 90: great recommend one's out. free previous wasn't hear. stuff. list. amazing, makes nice work. hair</pre>"
      ],
      "text/plain": [
       "topic 90: great recommend one's out. free previous wasn't hear. stuff. list. amazing, makes nice work. hair"
      ]
     },
     "metadata": {},
     "output_type": "display_data"
    },
    {
     "data": {
      "text/html": [
       "<pre>topic 91: album great / represent range years albums, change. show press addition foot bounce seriously, they're</pre>"
      ],
      "text/plain": [
       "topic 91: album great / represent range years albums, change. show press addition foot bounce seriously, they're"
      ]
     },
     "metadata": {},
     "output_type": "display_data"
    },
    {
     "data": {
      "text/html": [
       "<pre>topic 92: bring summer that. run flow bland avoid flat energy pack vince burn ride again. thrown</pre>"
      ],
      "text/plain": [
       "topic 92: bring summer that. run flow bland avoid flat energy pack vince burn ride again. thrown"
      ]
     },
     "metadata": {},
     "output_type": "display_data"
    },
    {
     "data": {
      "text/html": [
       "<pre>topic 93: good classic, songs mr best. people great songs: songs, soul bright ipod wear albums end</pre>"
      ],
      "text/plain": [
       "topic 93: good classic, songs mr best. people great songs: songs, soul bright ipod wear albums end"
      ]
     },
     "metadata": {},
     "output_type": "display_data"
    },
    {
     "data": {
      "text/html": [
       "<pre>topic 94: morning incubus recommend music view highly brandon limit lisa best. boyd lenny listen. ones. dj</pre>"
      ],
      "text/plain": [
       "topic 94: morning incubus recommend music view highly brandon limit lisa best. boyd lenny listen. ones. dj"
      ]
     },
     "metadata": {},
     "output_type": "display_data"
    },
    {
     "data": {
      "text/html": [
       "<pre>topic 95: album hot red chili peppers sex funky rock funk sugar guys blood anthony mellow awesome</pre>"
      ],
      "text/plain": [
       "topic 95: album hot red chili peppers sex funky rock funk sugar guys blood anthony mellow awesome"
      ]
     },
     "metadata": {},
     "output_type": "display_data"
    },
    {
     "data": {
      "text/html": [
       "<pre>topic 96: cash johnny american man country cash's ain't rick prison great waylon kris san meet life</pre>"
      ],
      "text/plain": [
       "topic 96: cash johnny american man country cash's ain't rick prison great waylon kris san meet life"
      ]
     },
     "metadata": {},
     "output_type": "display_data"
    },
    {
     "data": {
      "text/html": [
       "<pre>topic 97: version original tracks album live sound disc great bonus release versions track quality released studio</pre>"
      ],
      "text/plain": [
       "topic 97: version original tracks album live sound disc great bonus release versions track quality released studio"
      ]
     },
     "metadata": {},
     "output_type": "display_data"
    },
    {
     "data": {
      "text/html": [
       "<pre>topic 98: album full also. buy. album. song listen watching set singles songs. comparison garbage classics delivery.</pre>"
      ],
      "text/plain": [
       "topic 98: album full also. buy. album. song listen watching set singles songs. comparison garbage classics delivery."
      ]
     },
     "metadata": {},
     "output_type": "display_data"
    },
    {
     "data": {
      "text/html": [
       "<pre>topic 99: sounds boys beach brian pet wilson love toni music made beatles wasn't smashing it's pumpkins</pre>"
      ],
      "text/plain": [
       "topic 99: sounds boys beach brian pet wilson love toni music made beatles wasn't smashing it's pumpkins"
      ]
     },
     "metadata": {},
     "output_type": "display_data"
    },
    {
     "data": {
      "text/html": [
       "<pre>| 70        | 3m 2s         | 2.06346e+006   | 16324.2         |</pre>"
      ],
      "text/plain": [
       "| 70        | 3m 2s         | 2.06346e+006   | 16324.2         |"
      ]
     },
     "metadata": {},
     "output_type": "display_data"
    },
    {
     "data": {
      "text/html": [
       "<pre>topic 0: &amp; &quot;the album &quot;i songs me&quot; you&quot; &quot;you r&amp;b love&quot; great make &quot;my &quot;don't mr.</pre>"
      ],
      "text/plain": [
       "topic 0: &amp; &quot;the album &quot;i songs me&quot; you&quot; &quot;you r&amp;b love&quot; great make &quot;my &quot;don't mr."
      ]
     },
     "metadata": {},
     "output_type": "display_data"
    },
    {
     "data": {
      "text/html": [
       "<pre>topic 1: great follow chief bad highly 90s gift fun friends. nicely. putting keef --------- peace amazing!</pre>"
      ],
      "text/plain": [
       "topic 1: great follow chief bad highly 90s gift fun friends. nicely. putting keef --------- peace amazing!"
      ]
     },
     "metadata": {},
     "output_type": "display_data"
    },
    {
     "data": {
      "text/html": [
       "<pre>topic 2: follow worth boom excellent pull cloud ears falling captures performer. this. limit many, best, continuing</pre>"
      ],
      "text/plain": [
       "topic 2: follow worth boom excellent pull cloud ears falling captures performer. this. limit many, best, continuing"
      ]
     },
     "metadata": {},
     "output_type": "display_data"
    },
    {
     "data": {
      "text/html": [
       "<pre>topic 3: good songs album buy great recommend albums album, * hope anna nalick admit big wait</pre>"
      ],
      "text/plain": [
       "topic 3: good songs album buy great recommend albums album, * hope anna nalick admit big wait"
      ]
     },
     "metadata": {},
     "output_type": "display_data"
    },
    {
     "data": {
      "text/html": [
       "<pre>topic 4: don't i'm album songs good that's it. can't listen didn't doesn't you're heard i've it's</pre>"
      ],
      "text/plain": [
       "topic 4: don't i'm album songs good that's it. can't listen didn't doesn't you're heard i've it's"
      ]
     },
     "metadata": {},
     "output_type": "display_data"
    },
    {
     "data": {
      "text/html": [
       "<pre>topic 5: paul simon stone & joss love carly simon's songs bee paul's solo troubled garfunkel barry</pre>"
      ],
      "text/plain": [
       "topic 5: paul simon stone & joss love carly simon's songs bee paul's solo troubled garfunkel barry"
      ]
     },
     "metadata": {},
     "output_type": "display_data"
    },
    {
     "data": {
      "text/html": [
       "<pre>topic 6: lips flaming soft wayne taste jazmine battles lips, pink terror lips' \"at yoshimi coyne easy</pre>"
      ],
      "text/plain": [
       "topic 6: lips flaming soft wayne taste jazmine battles lips, pink terror lips' \"at yoshimi coyne easy"
      ]
     },
     "metadata": {},
     "output_type": "display_data"
    },
    {
     "data": {
      "text/html": [
       "<pre>topic 7: album great wrong worthy that. master harder out, case end. carry rate songwriting anthems forget</pre>"
      ],
      "text/plain": [
       "topic 7: album great wrong worthy that. master harder out, case end. carry rate songwriting anthems forget"
      ]
     },
     "metadata": {},
     "output_type": "display_data"
    },
    {
     "data": {
      "text/html": [
       "<pre>topic 8: it's buy ... great classic stuff :) favorite listen recommend too! tunes sound love one.</pre>"
      ],
      "text/plain": [
       "topic 8: it's buy ... great classic stuff :) favorite listen recommend too! tunes sound love one."
      ]
     },
     "metadata": {},
     "output_type": "display_data"
    },
    {
     "data": {
      "text/html": [
       "<pre>topic 9: punk daft works download old. lyrics work. punk's great, sublime check brought mainstream. side. be,</pre>"
      ],
      "text/plain": [
       "topic 9: punk daft works download old. lyrics work. punk's great, sublime check brought mainstream. side. be,"
      ]
     },
     "metadata": {},
     "output_type": "display_data"
    },
    {
     "data": {
      "text/html": [
       "<pre>topic 10: classic. while. call do. school singer win displays mix chance holds average originality. was, you'll</pre>"
      ],
      "text/plain": [
       "topic 10: classic. while. call do. school singer win displays mix chance holds average originality. was, you'll"
      ]
     },
     "metadata": {},
     "output_type": "display_data"
    },
    {
     "data": {
      "text/html": [
       "<pre>topic 11: joni cars mitchell joni's music mitchell's ric court ocasek cars, spark strawbs years. carole cars'</pre>"
      ],
      "text/plain": [
       "topic 11: joni cars mitchell joni's music mitchell's ric court ocasek cars, spark strawbs years. carole cars'"
      ]
     },
     "metadata": {},
     "output_type": "display_data"
    },
    {
     "data": {
      "text/html": [
       "<pre>topic 12: it's stuff enjoyed masterpiece. christmas line won't end hearing support burned hard, brand album.this you.</pre>"
      ],
      "text/plain": [
       "topic 12: it's stuff enjoyed masterpiece. christmas line won't end hearing support burned hard, brand album.this you."
      ]
     },
     "metadata": {},
     "output_type": "display_data"
    },
    {
     "data": {
      "text/html": [
       "<pre>topic 13: rest original ms on, good. strong, fallen bears (3 yet. similar ~ downright enjoy truely</pre>"
      ],
      "text/plain": [
       "topic 13: rest original ms on, good. strong, fallen bears (3 yet. similar ~ downright enjoy truely"
      ]
     },
     "metadata": {},
     "output_type": "display_data"
    },
    {
     "data": {
      "text/html": [
       "<pre>topic 14: music it's back listen years people listening music. heard hear make music, radio record made</pre>"
      ],
      "text/plain": [
       "topic 14: music it's back listen years people listening music. heard hear make music, radio record made"
      ]
     },
     "metadata": {},
     "output_type": "display_data"
    },
    {
     "data": {
      "text/html": [
       "<pre>topic 15: - album & track good beat great song production rap beats -- tracks featuring 2</pre>"
      ],
      "text/plain": [
       "topic 15: - album & track good beat great song production rap beats -- tracks featuring 2"
      ]
     },
     "metadata": {},
     "output_type": "display_data"
    },
    {
     "data": {
      "text/html": [
       "<pre>topic 16: low pretty awesome. ear this. production stay music. heard too. 11 bond parts draw awesome</pre>"
      ],
      "text/plain": [
       "topic 16: low pretty awesome. ear this. production stay music. heard too. 11 bond parts draw awesome"
      ]
     },
     "metadata": {},
     "output_type": "display_data"
    },
    {
     "data": {
      "text/html": [
       "<pre>topic 17: buy head make titled landmark 'i lyrics, strong kingdom stray threshold songs: runaway product get.</pre>"
      ],
      "text/plain": [
       "topic 17: buy head make titled landmark 'i lyrics, strong kingdom stray threshold songs: runaway product get."
      ]
     },
     "metadata": {},
     "output_type": "display_data"
    },
    {
     "data": {
      "text/html": [
       "<pre>topic 18: worth cd, rob previous taylor listening enough. thomas so. created i'm delivers first. surprise matchbox</pre>"
      ],
      "text/plain": [
       "topic 18: worth cd, rob previous taylor listening enough. thomas so. created i'm delivers first. surprise matchbox"
      ]
     },
     "metadata": {},
     "output_type": "display_data"
    },
    {
     "data": {
      "text/html": [
       "<pre>topic 19: album phil songs eagles collins solo long don can't genesis steve album. peter easy air</pre>"
      ],
      "text/plain": [
       "topic 19: album phil songs eagles collins solo long don can't genesis steve album. peter easy air"
      ]
     },
     "metadata": {},
     "output_type": "display_data"
    },
    {
     "data": {
      "text/html": [
       "<pre>topic 20: album cd head. fans material. enjoy. pick 3 teenage gift man bunch production had. line</pre>"
      ],
      "text/plain": [
       "topic 20: album cd head. fans material. enjoy. pick 3 teenage gift man bunch production had. line"
      ]
     },
     "metadata": {},
     "output_type": "display_data"
    },
    {
     "data": {
      "text/html": [
       "<pre>topic 21: cd don't real boy let's rock (in work. pull ear duo. five, queen drag stayed</pre>"
      ],
      "text/plain": [
       "topic 21: cd don't real boy let's rock (in work. pull ear duo. five, queen drag stayed"
      ]
     },
     "metadata": {},
     "output_type": "display_data"
    },
    {
     "data": {
      "text/html": [
       "<pre>topic 22: cd good 5 stars 4 2 give 3 buy star dont it. stars. bad worth</pre>"
      ],
      "text/plain": [
       "topic 22: cd good 5 stars 4 2 give 3 buy star dont it. stars. bad worth"
      ]
     },
     "metadata": {},
     "output_type": "display_data"
    },
    {
     "data": {
      "text/html": [
       "<pre>topic 23: - cd alison bluegrass krauss plant no. country = + robert [see nickel tweet union</pre>"
      ],
      "text/plain": [
       "topic 23: - cd alison bluegrass krauss plant no. country = + robert [see nickel tweet union"
      ]
     },
     "metadata": {},
     "output_type": "display_data"
    },
    {
     "data": {
      "text/html": [
       "<pre>topic 24: great album record music. now. average pure long good you. crazy records. high best. combined</pre>"
      ],
      "text/plain": [
       "topic 24: great album record music. now. average pure long good you. crazy records. high best. combined"
      ]
     },
     "metadata": {},
     "output_type": "display_data"
    },
    {
     "data": {
      "text/html": [
       "<pre>topic 25: highly album. can't addition again. 'i fan i'm group much. it! thin enjoy 11 dark</pre>"
      ],
      "text/plain": [
       "topic 25: highly album. can't addition again. 'i fan i'm group much. it! thin enjoy 11 dark"
      ]
     },
     "metadata": {},
     "output_type": "display_data"
    },
    {
     "data": {
      "text/html": [
       "<pre>topic 26: white jack stripes lady blood great don't gaga good meg gonna black cold white's lonely</pre>"
      ],
      "text/plain": [
       "topic 26: white jack stripes lady blood great don't gaga good meg gonna black cold white's lonely"
      ]
     },
     "metadata": {},
     "output_type": "display_data"
    },
    {
     "data": {
      "text/html": [
       "<pre>topic 27: . , \" ( &quot; ! ) danger great mouse : an' modest ? gnarls</pre>"
      ],
      "text/plain": [
       "topic 27: . , \" ( &quot; ! ) danger great mouse : an' modest ? gnarls"
      ]
     },
     "metadata": {},
     "output_type": "display_data"
    },
    {
     "data": {
      "text/html": [
       "<pre>topic 28: driving sweet, pleasure about. suggest raw perfect. hour music. done. album.it group hip-hop, covers work,</pre>"
      ],
      "text/plain": [
       "topic 28: driving sweet, pleasure about. suggest raw perfect. hour music. done. album.it group hip-hop, covers work,"
      ]
     },
     "metadata": {},
     "output_type": "display_data"
    },
    {
     "data": {
      "text/html": [
       "<pre>topic 29: worthwhile leave caught imagine claim debut meaningful recomend word downloaded hard day. disc. sisters mine</pre>"
      ],
      "text/plain": [
       "topic 29: worthwhile leave caught imagine claim debut meaningful recomend word downloaded hard day. disc. sisters mine"
      ]
     },
     "metadata": {},
     "output_type": "display_data"
    },
    {
     "data": {
      "text/html": [
       "<pre>topic 30: ben folds del primus les days lana great high \"video rey puts games\" claypool make</pre>"
      ],
      "text/plain": [
       "topic 30: ben folds del primus les days lana great high \"video rey puts games\" claypool make"
      ]
     },
     "metadata": {},
     "output_type": "display_data"
    },
    {
     "data": {
      "text/html": [
       "<pre>topic 31: mary j. alicia amy keys blige ain't winehouse mary's duffy diary queen rest debut. breakthrough</pre>"
      ],
      "text/plain": [
       "topic 31: mary j. alicia amy keys blige ain't winehouse mary's duffy diary queen rest debut. breakthrough"
      ]
     },
     "metadata": {},
     "output_type": "display_data"
    },
    {
     "data": {
      "text/html": [
       "<pre>topic 32: free seals crofts album cool aren't dance windows styles. recommended tight, ride production, dash while,</pre>"
      ],
      "text/plain": [
       "topic 32: free seals crofts album cool aren't dance windows styles. recommended tight, ride production, dash while,"
      ]
     },
     "metadata": {},
     "output_type": "display_data"
    },
    {
     "data": {
      "text/html": [
       "<pre>topic 33: great --- hear listen holiday talent. christmas money do. spot expected bing cuts hasn't unique</pre>"
      ],
      "text/plain": [
       "topic 33: great --- hear listen holiday talent. christmas money do. spot expected bing cuts hasn't unique"
      ]
     },
     "metadata": {},
     "output_type": "display_data"
    },
    {
     "data": {
      "text/html": [
       "<pre>topic 34: music love voice album soul cd she's feel listen back artist artists debut music. don't</pre>"
      ],
      "text/plain": [
       "topic 34: music love voice album soul cd she's feel listen back artist artists debut music. don't"
      ]
     },
     "metadata": {},
     "output_type": "display_data"
    },
    {
     "data": {
      "text/html": [
       "<pre>topic 35: nice work meets great, sounds miss great absolutely fun end flawless dig group then, label.</pre>"
      ],
      "text/plain": [
       "topic 35: nice work meets great, sounds miss great absolutely fun end flawless dig group then, label."
      ]
     },
     "metadata": {},
     "output_type": "display_data"
    },
    {
     "data": {
      "text/html": [
       "<pre>topic 36: found buying album sound belongs rest recommended musical ready dig disco wont vulture good! rushed</pre>"
      ],
      "text/plain": [
       "topic 36: found buying album sound belongs rest recommended musical ready dig disco wont vulture good! rushed"
      ]
     },
     "metadata": {},
     "output_type": "display_data"
    },
    {
     "data": {
      "text/html": [
       "<pre>topic 37: mark dire knopfler straits knopfler's isn't disc arms\" fave real rest it's \"brothers money band</pre>"
      ],
      "text/plain": [
       "topic 37: mark dire knopfler straits knopfler's isn't disc arms\" fave real rest it's \"brothers money band"
      ]
     },
     "metadata": {},
     "output_type": "display_data"
    },
    {
     "data": {
      "text/html": [
       "<pre>topic 38: gordon lightfoot nina buy time gordon's disk lightfoot's veruca head opinion, likes cool. tonight disappoint.</pre>"
      ],
      "text/plain": [
       "topic 38: gordon lightfoot nina buy time gordon's disk lightfoot's veruca head opinion, likes cool. tonight disappoint."
      ]
     },
     "metadata": {},
     "output_type": "display_data"
    },
    {
     "data": {
      "text/html": [
       "<pre>topic 39: - it's music album lyrics sound musical track vocals pop vocal work guitar beautiful voice</pre>"
      ],
      "text/plain": [
       "topic 39: - it's music album lyrics sound musical track vocals pop vocal work guitar beautiful voice"
      ]
     },
     "metadata": {},
     "output_type": "display_data"
    },
    {
     "data": {
      "text/html": [
       "<pre>topic 40: kelly r. 12 real kelly's stop clarkson kelly, (although listening. music. listens. that's trust price</pre>"
      ],
      "text/plain": [
       "topic 40: kelly r. 12 real kelly's stop clarkson kelly, (although listening. music. listens. that's trust price"
      ]
     },
     "metadata": {},
     "output_type": "display_data"
    },
    {
     "data": {
      "text/html": [
       "<pre>topic 41: cd songs song great cd. love good listen heard cd, it. music bought favorite time</pre>"
      ],
      "text/plain": [
       "topic 41: cd songs song great cd. love good listen heard cd, it. music bought favorite time"
      ]
     },
     "metadata": {},
     "output_type": "display_data"
    },
    {
     "data": {
      "text/html": [
       "<pre>topic 42: nelly furtado carrie gwen loose god's nelly's doubt furtado's trick underwood timbaland hip-hop \"say hay</pre>"
      ],
      "text/plain": [
       "topic 42: nelly furtado carrie gwen loose god's nelly's doubt furtado's trick underwood timbaland hip-hop \"say hay"
      ]
     },
     "metadata": {},
     "output_type": "display_data"
    },
    {
     "data": {
      "text/html": [
       "<pre>topic 43: gang guru album starr moment premier fall monotone guru's advice machine touch primo perfect unique</pre>"
      ],
      "text/plain": [
       "topic 43: gang guru album starr moment premier fall monotone guru's advice machine touch primo perfect unique"
      ]
     },
     "metadata": {},
     "output_type": "display_data"
    },
    {
     "data": {
      "text/html": [
       "<pre>topic 44: cyndi lauper cyndi's lauper's this, now! \"girls sound, stand chance everything. fantastic copy \"true etc.</pre>"
      ],
      "text/plain": [
       "topic 44: cyndi lauper cyndi's lauper's this, now! \"girls sound, stand chance everything. fantastic copy \"true etc."
      ]
     },
     "metadata": {},
     "output_type": "display_data"
    },
    {
     "data": {
      "text/html": [
       "<pre>topic 45: dido dido's adele rest land cd angel enjoy adele's popular excellent faithless \"rolling tracks start</pre>"
      ],
      "text/plain": [
       "topic 45: dido dido's adele rest land cd angel enjoy adele's popular excellent faithless \"rolling tracks start"
      ]
     },
     "metadata": {},
     "output_type": "display_data"
    },
    {
     "data": {
      "text/html": [
       "<pre>topic 46: big love outkast andre hip-hop boi kelis double day boi's hey 3000 lives groups outkast's</pre>"
      ],
      "text/plain": [
       "topic 46: big love outkast andre hip-hop boi kelis double day boi's hey 3000 lives groups outkast's"
      ]
     },
     "metadata": {},
     "output_type": "display_data"
    },
    {
     "data": {
      "text/html": [
       "<pre>topic 47: yeah karen richard carpenters carpenter year karen's music. pop yeahs back (4/5): decade reviewer pleased</pre>"
      ],
      "text/plain": [
       "topic 47: yeah karen richard carpenters carpenter year karen's music. pop yeahs back (4/5): decade reviewer pleased"
      ]
     },
     "metadata": {},
     "output_type": "display_data"
    },
    {
     "data": {
      "text/html": [
       "<pre>topic 48: fleet foxes trouble house \"the carried this. it! favorites lyfe melodies wrong point. funny 3</pre>"
      ],
      "text/plain": [
       "topic 48: fleet foxes trouble house \"the carried this. it! favorites lyfe melodies wrong point. funny 3"
      ]
     },
     "metadata": {},
     "output_type": "display_data"
    },
    {
     "data": {
      "text/html": [
       "<pre>topic 49: van album great rock halen alanis david eddie lee classic cover roth hard morissette halen's</pre>"
      ],
      "text/plain": [
       "topic 49: van album great rock halen alanis david eddie lee classic cover roth hard morissette halen's"
      ]
     },
     "metadata": {},
     "output_type": "display_data"
    },
    {
     "data": {
      "text/html": [
       "<pre>topic 50: it's great songs album you'll you're album, there's album. favorite isn't pretty pop don't worth</pre>"
      ],
      "text/plain": [
       "topic 50: it's great songs album you'll you're album, there's album. favorite isn't pretty pop don't worth"
      ]
     },
     "metadata": {},
     "output_type": "display_data"
    },
    {
     "data": {
      "text/html": [
       "<pre>topic 51: song it's album songs good track album. love song. song, lyrics don't album, pretty nice</pre>"
      ],
      "text/plain": [
       "topic 51: song it's album songs good track album. love song. song, lyrics don't album, pretty nice"
      ]
     },
     "metadata": {},
     "output_type": "display_data"
    },
    {
     "data": {
      "text/html": [
       "<pre>topic 52: thumbs albums made here's highlights: word: middle, upbeat matter: all. classic stuff show, year. instant</pre>"
      ],
      "text/plain": [
       "topic 52: thumbs albums made here's highlights: word: middle, upbeat matter: all. classic stuff show, year. instant"
      ]
     },
     "metadata": {},
     "output_type": "display_data"
    },
    {
     "data": {
      "text/html": [
       "<pre>topic 53: great blues guitar rock time jeff playing love robert song eric songs blues, young singing</pre>"
      ],
      "text/plain": [
       "topic 53: great blues guitar rock time jeff playing love robert song eric songs blues, young singing"
      ]
     },
     "metadata": {},
     "output_type": "display_data"
    },
    {
     "data": {
      "text/html": [
       "<pre>topic 54: sheryl crow sound wanna montreal barnes crow's false kevin sheryl's music. voice c'mon it! effort.</pre>"
      ],
      "text/plain": [
       "topic 54: sheryl crow sound wanna montreal barnes crow's false kevin sheryl's music. voice c'mon it! effort."
      ]
     },
     "metadata": {},
     "output_type": "display_data"
    },
    {
     "data": {
      "text/html": [
       "<pre>topic 55: tori cat amos albums tori's stevens piano amazing live favourite strange boys choirgirl cover \"little</pre>"
      ],
      "text/plain": [
       "topic 55: tori cat amos albums tori's stevens piano amazing live favourite strange boys choirgirl cover \"little"
      ]
     },
     "metadata": {},
     "output_type": "display_data"
    },
    {
     "data": {
      "text/html": [
       "<pre>topic 56: cd listen follow pure thing. purchase. solid fresh master cut amazing. seriously. funky release. form</pre>"
      ],
      "text/plain": [
       "topic 56: cd listen follow pure thing. purchase. solid fresh master cut amazing. seriously. funky release. form"
      ]
     },
     "metadata": {},
     "output_type": "display_data"
    },
    {
     "data": {
      "text/html": [
       "<pre>topic 57: bon jovi forever jon iver justin cd. cross someday disc. jovi's talented vernon's cd emma,</pre>"
      ],
      "text/plain": [
       "topic 57: bon jovi forever jon iver justin cd. cross someday disc. jovi's talented vernon's cd emma,"
      ]
     },
     "metadata": {},
     "output_type": "display_data"
    },
    {
     "data": {
      "text/html": [
       "<pre>topic 58: radiohead king thom clay yorke kid radiohead's yorke's computer radiohead, measure secret peace deny clay's</pre>"
      ],
      "text/plain": [
       "topic 58: radiohead king thom clay yorke kid radiohead's yorke's computer radiohead, measure secret peace deny clay's"
      ]
     },
     "metadata": {},
     "output_type": "display_data"
    },
    {
     "data": {
      "text/html": [
       "<pre>topic 59: jazz playing recording miles great musicians recorded solo blue note john bass played free takes</pre>"
      ],
      "text/plain": [
       "topic 59: jazz playing recording miles great musicians recorded solo blue note john bass played free takes"
      ]
     },
     "metadata": {},
     "output_type": "display_data"
    },
    {
     "data": {
      "text/html": [
       "<pre>topic 60: favor defined rest memory records yes. money. melodic genius cold that! good. jb letting filled</pre>"
      ],
      "text/plain": [
       "topic 60: favor defined rest memory records yes. money. melodic genius cold that! good. jb letting filled"
      ]
     },
     "metadata": {},
     "output_type": "display_data"
    },
    {
     "data": {
      "text/html": [
       "<pre>topic 61: hot billboard u.s. top 100 # adult 40 minutes magazine easy singles charts albums grammy</pre>"
      ],
      "text/plain": [
       "topic 61: hot billboard u.s. top 100 # adult 40 minutes magazine easy singles charts albums grammy"
      ]
     },
     "metadata": {},
     "output_type": "display_data"
    },
    {
     "data": {
      "text/html": [
       "<pre>topic 62: dan steely fagen royal dan's donald becker lose lyrics katy b-52's walter fred \"do hit</pre>"
      ],
      "text/plain": [
       "topic 62: dan steely fagen royal dan's donald becker lose lyrics katy b-52's walter fred \"do hit"
      ]
     },
     "metadata": {},
     "output_type": "display_data"
    },
    {
     "data": {
      "text/html": [
       "<pre>topic 63: bone mariah whitney carey thugs group mariah's abba 1999 krayzie super houston art flesh bizzy</pre>"
      ],
      "text/plain": [
       "topic 63: bone mariah whitney carey thugs group mariah's abba 1999 krayzie super houston art flesh bizzy"
      ]
     },
     "metadata": {},
     "output_type": "display_data"
    },
    {
     "data": {
      "text/html": [
       "<pre>topic 64: great album. best. album! miss girls normal raw cool nice now. agree piece releases luck</pre>"
      ],
      "text/plain": [
       "topic 64: great album. best. album! miss girls normal raw cool nice now. agree piece releases luck"
      ]
     },
     "metadata": {},
     "output_type": "display_data"
    },
    {
     "data": {
      "text/html": [
       "<pre>topic 65: album, lyrics power ago best. album! thing, tracks: bullet recommend always, one. hard recommended. crap</pre>"
      ],
      "text/plain": [
       "topic 65: album, lyrics power ago best. album! thing, tracks: bullet recommend always, one. hard recommended. crap"
      ]
     },
     "metadata": {},
     "output_type": "display_data"
    },
    {
     "data": {
      "text/html": [
       "<pre>topic 66: funk it's george funky p-funk parliament clinton funk. connection bootsy buy chocolate nose essential mothership</pre>"
      ],
      "text/plain": [
       "topic 66: funk it's george funky p-funk parliament clinton funk. connection bootsy buy chocolate nose essential mothership"
      ]
     },
     "metadata": {},
     "output_type": "display_data"
    },
    {
     "data": {
      "text/html": [
       "<pre>topic 67: nick drake drake's leaves pink jamiroquai jay \"pink nick's duncan kay blows moon, pleasant strong</pre>"
      ],
      "text/plain": [
       "topic 67: nick drake drake's leaves pink jamiroquai jay \"pink nick's duncan kay blows moon, pleasant strong"
      ]
     },
     "metadata": {},
     "output_type": "display_data"
    },
    {
     "data": {
      "text/html": [
       "<pre>topic 68: album michael jackson music pop bad dance elvis jackson's stop solo make can't costello songs</pre>"
      ],
      "text/plain": [
       "topic 68: album michael jackson music pop bad dance elvis jackson's stop solo make can't costello songs"
      ]
     },
     "metadata": {},
     "output_type": "display_data"
    },
    {
     "data": {
      "text/html": [
       "<pre>topic 69: album rap 50 eminem hip beats hop he's good real people lyrics dre ja game</pre>"
      ],
      "text/plain": [
       "topic 69: album rap 50 eminem hip beats hop he's good real people lyrics dre ja game"
      ]
     },
     "metadata": {},
     "output_type": "display_data"
    },
    {
     "data": {
      "text/html": [
       "<pre>topic 70: devo can't great devo's corporate freedom shelf taste worthy \"whip wild lp king gotta latest</pre>"
      ],
      "text/plain": [
       "topic 70: devo can't great devo's corporate freedom shelf taste worthy \"whip wild lp king gotta latest"
      ]
     },
     "metadata": {},
     "output_type": "display_data"
    },
    {
     "data": {
      "text/html": [
       "<pre>topic 71: album song love great pop it's dance hit madonna single track time alice back top</pre>"
      ],
      "text/plain": [
       "topic 71: album song love great pop it's dance hit madonna single track time alice back top"
      ]
     },
     "metadata": {},
     "output_type": "display_data"
    },
    {
     "data": {
      "text/html": [
       "<pre>topic 72: hill cypress rest phair liz isn't side this, find simply player. sen solid group. helped</pre>"
      ],
      "text/plain": [
       "topic 72: hill cypress rest phair liz isn't side this, find simply player. sen solid group. helped"
      ]
     },
     "metadata": {},
     "output_type": "display_data"
    },
    {
     "data": {
      "text/html": [
       "<pre>topic 73: album prince great songs album. song prince's albums it's funk favorite album, buy sign movie</pre>"
      ],
      "text/plain": [
       "topic 73: album prince great songs album. song prince's albums it's funk favorite album, buy sign movie"
      ]
     },
     "metadata": {},
     "output_type": "display_data"
    },
    {
     "data": {
      "text/html": [
       "<pre>topic 74: songs dylan bob album great mars dylan's make belle songs. you're band one. sebastian album.</pre>"
      ],
      "text/plain": [
       "topic 74: songs dylan bob album great mars dylan's make belle songs. you're band one. sebastian album."
      ]
     },
     "metadata": {},
     "output_type": "display_data"
    },
    {
     "data": {
      "text/html": [
       "<pre>topic 75: buy black too. orbital try. catchy c.d. lacks extra eyes, it'll bj&ouml;rk strong ol' holly</pre>"
      ],
      "text/plain": [
       "topic 75: buy black too. orbital try. catchy c.d. lacks extra eyes, it'll bj&ouml;rk strong ol' holly"
      ]
     },
     "metadata": {},
     "output_type": "display_data"
    },
    {
     "data": {
      "text/html": [
       "<pre>topic 76: album overall, hold you. monkees song day plain 20 pretty jodeci nice (from pain, stop</pre>"
      ],
      "text/plain": [
       "topic 76: album overall, hold you. monkees song day plain 20 pretty jodeci nice (from pain, stop"
      ]
     },
     "metadata": {},
     "output_type": "display_data"
    },
    {
     "data": {
      "text/html": [
       "<pre>topic 77: album black pixies kim frank jesus christ part / guys perfect soundgarden francis pixies, live</pre>"
      ],
      "text/plain": [
       "topic 77: album black pixies kim frank jesus christ part / guys perfect soundgarden francis pixies, live"
      ]
     },
     "metadata": {},
     "output_type": "display_data"
    },
    {
     "data": {
      "text/html": [
       "<pre>topic 78: album songs great album. albums album, good time tracks music fan favorite highly listen back</pre>"
      ],
      "text/plain": [
       "topic 78: album songs great album. albums album, good time tracks music fan favorite highly listen back"
      ]
     },
     "metadata": {},
     "output_type": "display_data"
    },
    {
     "data": {
      "text/html": [
       "<pre>topic 79: good great listen recommend vocals plays times. sing works cuts music, sound. album. stayed winner.</pre>"
      ],
      "text/plain": [
       "topic 79: good great listen recommend vocals plays times. sing works cuts music, sound. album. stayed winner."
      ]
     },
     "metadata": {},
     "output_type": "display_data"
    },
    {
     "data": {
      "text/html": [
       "<pre>topic 80: la de los rage tom el en yo machine lo agree son ratm le brad</pre>"
      ],
      "text/plain": [
       "topic 80: la de los rage tom el en yo machine lo agree son ratm le brad"
      ]
     },
     "metadata": {},
     "output_type": "display_data"
    },
    {
     "data": {
      "text/html": [
       "<pre>topic 81: brings best, late highly best. it. ride strongest jams & best! memories restless love hit</pre>"
      ],
      "text/plain": [
       "topic 81: brings best, late highly best. it. ride strongest jams & best! memories restless love hit"
      ]
     },
     "metadata": {},
     "output_type": "display_data"
    },
    {
     "data": {
      "text/html": [
       "<pre>topic 82: classic harder again. on! style. effort. fingers god city first. runs record weak middle dealing</pre>"
      ],
      "text/plain": [
       "topic 82: classic harder again. on! style. effort. fingers god city first. runs record weak middle dealing"
      ]
     },
     "metadata": {},
     "output_type": "display_data"
    },
    {
     "data": {
      "text/html": [
       "<pre>topic 83: songs hits collection greatest cd tracks disc set fan compilation fans albums hendrix don't early</pre>"
      ],
      "text/plain": [
       "topic 83: songs hits collection greatest cd tracks disc set fan compilation fans albums hendrix don't early"
      ]
     },
     "metadata": {},
     "output_type": "display_data"
    },
    {
     "data": {
      "text/html": [
       "<pre>topic 84: album wu album. wu-tang beats rza ghostface classic ghost arctic method tang monkeys gza pete</pre>"
      ],
      "text/plain": [
       "topic 84: album wu album. wu-tang beats rza ghostface classic ghost arctic method tang monkeys gza pete"
      ]
     },
     "metadata": {},
     "output_type": "display_data"
    },
    {
     "data": {
      "text/html": [
       "<pre>topic 85: album song hit songs \"the & great elton released time john \"i top classic albums</pre>"
      ],
      "text/plain": [
       "topic 85: album song hit songs \"the & great elton released time john \"i top classic albums"
      ]
     },
     "metadata": {},
     "output_type": "display_data"
    },
    {
     "data": {
      "text/html": [
       "<pre>topic 86: band rock album sound guitar it's bands songs hard music time albums sounds heavy record</pre>"
      ],
      "text/plain": [
       "topic 86: band rock album sound guitar it's bands songs hard music time albums sounds heavy record"
      ]
     },
     "metadata": {},
     "output_type": "display_data"
    },
    {
     "data": {
      "text/html": [
       "<pre>topic 87: pop jones great songs norah jewel cd she's country talent artist michelle music songs. spirit</pre>"
      ],
      "text/plain": [
       "topic 87: pop jones great songs norah jewel cd she's country talent artist michelle music songs. spirit"
      ]
     },
     "metadata": {},
     "output_type": "display_data"
    },
    {
     "data": {
      "text/html": [
       "<pre>topic 88: great duran fleetwood annie pop stevie mac eurythmics songs christine nicks buckingham hit fans lennox</pre>"
      ],
      "text/plain": [
       "topic 88: great duran fleetwood annie pop stevie mac eurythmics songs christine nicks buckingham hit fans lennox"
      ]
     },
     "metadata": {},
     "output_type": "display_data"
    },
    {
     "data": {
      "text/html": [
       "<pre>topic 89: puts heard work, wake girls filler well. one's noteworthy understand lyrics fan. groove standouts attempt</pre>"
      ],
      "text/plain": [
       "topic 89: puts heard work, wake girls filler well. one's noteworthy understand lyrics fan. groove standouts attempt"
      ]
     },
     "metadata": {},
     "output_type": "display_data"
    },
    {
     "data": {
      "text/html": [
       "<pre>topic 90: work. vocals great girl previous expected singer ain't inside simply albums. title. man. days, -</pre>"
      ],
      "text/plain": [
       "topic 90: work. vocals great girl previous expected singer ain't inside simply albums. title. man. days, -"
      ]
     },
     "metadata": {},
     "output_type": "display_data"
    },
    {
     "data": {
      "text/html": [
       "<pre>topic 91: / foot pleasure make also. hearing. good, listen. voice, time night, interesting reminds brings bow</pre>"
      ],
      "text/plain": [
       "topic 91: / foot pleasure make also. hearing. good, listen. voice, time night, interesting reminds brings bow"
      ]
     },
     "metadata": {},
     "output_type": "display_data"
    },
    {
     "data": {
      "text/html": [
       "<pre>topic 92: great, cold daughter kill job -- happen stuff. chick 70's intelligent, 1/2 replay intense, marie</pre>"
      ],
      "text/plain": [
       "topic 92: great, cold daughter kill job -- happen stuff. chick 70's intelligent, 1/2 replay intense, marie"
      ]
     },
     "metadata": {},
     "output_type": "display_data"
    },
    {
     "data": {
      "text/html": [
       "<pre>topic 93: recommend can't love great songs hear. brain subject cretu shows adams buy project. albums back,</pre>"
      ],
      "text/plain": [
       "topic 93: recommend can't love great songs hear. brain subject cretu shows adams buy project. albums back,"
      ]
     },
     "metadata": {},
     "output_type": "display_data"
    },
    {
     "data": {
      "text/html": [
       "<pre>topic 94: morning incubus recommend view brandon long sound boyd innovative finest perfectly etc. view, enjoyed guys</pre>"
      ],
      "text/plain": [
       "topic 94: morning incubus recommend view brandon long sound boyd innovative finest perfectly etc. view, enjoyed guys"
      ]
     },
     "metadata": {},
     "output_type": "display_data"
    },
    {
     "data": {
      "text/html": [
       "<pre>topic 95: hot album red chili peppers funky sex funk anthony sugar blood john hard awesome stadium</pre>"
      ],
      "text/plain": [
       "topic 95: hot album red chili peppers funky sex funk anthony sugar blood john hard awesome stadium"
      ]
     },
     "metadata": {},
     "output_type": "display_data"
    },
    {
     "data": {
      "text/html": [
       "<pre>topic 96: cash johnny man american country cash's great prison rick ain't neil waylon life recordings rubin</pre>"
      ],
      "text/plain": [
       "topic 96: cash johnny man american country cash's great prison rick ain't neil waylon life recordings rubin"
      ]
     },
     "metadata": {},
     "output_type": "display_data"
    },
    {
     "data": {
      "text/html": [
       "<pre>topic 97: version - album original live tracks sound great bonus disc release track quality versions released</pre>"
      ],
      "text/plain": [
       "topic 97: version - album original live tracks sound great bonus disc release track quality versions released"
      ]
     },
     "metadata": {},
     "output_type": "display_data"
    },
    {
     "data": {
      "text/html": [
       "<pre>topic 98: early album faces cover. jam countless ability recommended prime improve soft hit same. ...and best.</pre>"
      ],
      "text/plain": [
       "topic 98: early album faces cover. jam countless ability recommended prime improve soft hit same. ...and best."
      ]
     },
     "metadata": {},
     "output_type": "display_data"
    },
    {
     "data": {
      "text/html": [
       "<pre>topic 99: sounds boys beach brian pet toni wilson beatles love shop back smashing pumpkins great braxton</pre>"
      ],
      "text/plain": [
       "topic 99: sounds boys beach brian pet toni wilson beatles love shop back smashing pumpkins great braxton"
      ]
     },
     "metadata": {},
     "output_type": "display_data"
    },
    {
     "data": {
      "text/html": [
       "<pre>| 80        | 3m 29s        | 2.53323e+006   | 16338.9         |</pre>"
      ],
      "text/plain": [
       "| 80        | 3m 29s        | 2.53323e+006   | 16338.9         |"
      ]
     },
     "metadata": {},
     "output_type": "display_data"
    },
    {
     "data": {
      "text/html": [
       "<pre>topic 0: &amp; &quot;the album &quot;i songs me&quot; r&amp;b you&quot; &quot;you love&quot; title &quot;don't &quot;my include make</pre>"
      ],
      "text/plain": [
       "topic 0: &amp; &quot;the album &quot;i songs me&quot; r&amp;b you&quot; &quot;you love&quot; title &quot;don't &quot;my include make"
      ]
     },
     "metadata": {},
     "output_type": "display_data"
    },
    {
     "data": {
      "text/html": [
       "<pre>topic 1: writing chief gift music. money. sound. peace written keef --------- ten highly san -------- chaka</pre>"
      ],
      "text/plain": [
       "topic 1: writing chief gift music. money. sound. peace written keef --------- ten highly san -------- chaka"
      ]
     },
     "metadata": {},
     "output_type": "display_data"
    },
    {
     "data": {
      "text/html": [
       "<pre>topic 2: follow dub rarely evident leave case album groove, living damn shame better. which, dance chapter</pre>"
      ],
      "text/plain": [
       "topic 2: follow dub rarely evident leave case album groove, living damn shame better. which, dance chapter"
      ]
     },
     "metadata": {},
     "output_type": "display_data"
    },
    {
     "data": {
      "text/html": [
       "<pre>topic 3: album songs good buy recommend great hit don't song * super anna hope nalick regret</pre>"
      ],
      "text/plain": [
       "topic 3: album songs good buy recommend great hit don't song * super anna hope nalick regret"
      ]
     },
     "metadata": {},
     "output_type": "display_data"
    },
    {
     "data": {
      "text/html": [
       "<pre>topic 4: it's don't album i'm songs that's good it. time doesn't can't didn't isn't people listen</pre>"
      ],
      "text/plain": [
       "topic 4: it's don't album i'm songs that's good it. time doesn't can't didn't isn't people listen"
      ]
     },
     "metadata": {},
     "output_type": "display_data"
    },
    {
     "data": {
      "text/html": [
       "<pre>topic 5: paul simon & mccartney stone joss solo carly simon's love mccartney's bee paul's songs garfunkel</pre>"
      ],
      "text/plain": [
       "topic 5: paul simon & mccartney stone joss solo carly simon's love mccartney's bee paul's songs garfunkel"
      ]
     },
     "metadata": {},
     "output_type": "display_data"
    },
    {
     "data": {
      "text/html": [
       "<pre>topic 6: lips flaming soft wayne pink up. battles jazmine yoshimi build indeed. lips' lips, amazing go,</pre>"
      ],
      "text/plain": [
       "topic 6: lips flaming soft wayne pink up. battles jazmine yoshimi build indeed. lips' lips, amazing go,"
      ]
     },
     "metadata": {},
     "output_type": "display_data"
    },
    {
     "data": {
      "text/html": [
       "<pre>topic 7: album wrong great (and one! albums masterpiece, beginning, gift excellent release favorite. that. can't c.d.</pre>"
      ],
      "text/plain": [
       "topic 7: album wrong great (and one! albums masterpiece, beginning, gift excellent release favorite. that. can't c.d."
      ]
     },
     "metadata": {},
     "output_type": "display_data"
    },
    {
     "data": {
      "text/html": [
       "<pre>topic 8: ... buy great it's one. album! :) off, catchy, perfect joy you'll recommend piece listen</pre>"
      ],
      "text/plain": [
       "topic 8: ... buy great it's one. album! :) off, catchy, perfect joy you'll recommend piece listen"
      ]
     },
     "metadata": {},
     "output_type": "display_data"
    },
    {
     "data": {
      "text/html": [
       "<pre>topic 9: punk daft buy change better, gonna punk's albums wild too. brings delivery thing missing. punk.</pre>"
      ],
      "text/plain": [
       "topic 9: punk daft buy change better, gonna punk's albums wild too. brings delivery thing missing. punk."
      ]
     },
     "metadata": {},
     "output_type": "display_data"
    },
    {
     "data": {
      "text/html": [
       "<pre>topic 10: sounding produce real guys all. learn limited ranks sounds it! call dark dressed now! beats</pre>"
      ],
      "text/plain": [
       "topic 10: sounding produce real guys all. learn limited ranks sounds it! call dark dressed now! beats"
      ]
     },
     "metadata": {},
     "output_type": "display_data"
    },
    {
     "data": {
      "text/html": [
       "<pre>topic 11: joni cars mitchell joni's mitchell's court years. love ric ocasek friend's earlier ride \"shake spark</pre>"
      ],
      "text/plain": [
       "topic 11: joni cars mitchell joni's mitchell's court years. love ric ocasek friend's earlier ride \"shake spark"
      ]
     },
     "metadata": {},
     "output_type": "display_data"
    },
    {
     "data": {
      "text/html": [
       "<pre>topic 12: cd crafted cloud collection. classic music. cds. year. fired &quot;pink now, arrangements produced trance face</pre>"
      ],
      "text/plain": [
       "topic 12: cd crafted cloud collection. classic music. cds. year. fired &quot;pink now, arrangements produced trance face"
      ]
     },
     "metadata": {},
     "output_type": "display_data"
    },
    {
     "data": {
      "text/html": [
       "<pre>topic 13: rest here, standouts classics lyric ear too! push good. left (what crazy best. changing pat</pre>"
      ],
      "text/plain": [
       "topic 13: rest here, standouts classics lyric ear too! push good. left (what crazy best. changing pat"
      ]
     },
     "metadata": {},
     "output_type": "display_data"
    },
    {
     "data": {
      "text/html": [
       "<pre>topic 14: music back listen years music. people listening hear heard make it's music, radio made day</pre>"
      ],
      "text/plain": [
       "topic 14: music back listen years music. people listening hear heard make it's music, radio made day"
      ]
     },
     "metadata": {},
     "output_type": "display_data"
    },
    {
     "data": {
      "text/html": [
       "<pre>topic 15: - album & track good beat production song tracks rap great beats -- featuring back</pre>"
      ],
      "text/plain": [
       "topic 15: - album & track good beat production song tracks rap great beats -- featuring back"
      ]
     },
     "metadata": {},
     "output_type": "display_data"
    },
    {
     "data": {
      "text/html": [
       "<pre>topic 16: pretty music. harder forgotten real version wanting mind sound timeless nasty fun compared magic notice</pre>"
      ],
      "text/plain": [
       "topic 16: pretty music. harder forgotten real version wanting mind sound timeless nasty fun compared magic notice"
      ]
     },
     "metadata": {},
     "output_type": "display_data"
    },
    {
     "data": {
      "text/html": [
       "<pre>topic 17: sounds job upcoming alot do, slick make squeeze also. (for up, deal. worst back. listening.</pre>"
      ],
      "text/plain": [
       "topic 17: sounds job upcoming alot do, slick make squeeze also. (for up, deal. worst back. listening."
      ]
     },
     "metadata": {},
     "output_type": "display_data"
    },
    {
     "data": {
      "text/html": [
       "<pre>topic 18: ol' limit i'm hooks. easily fans. worth subsequent have, runs great one. big, nineties praise</pre>"
      ],
      "text/plain": [
       "topic 18: ol' limit i'm hooks. easily fans. worth subsequent have, runs great one. big, nineties praise"
      ]
     },
     "metadata": {},
     "output_type": "display_data"
    },
    {
     "data": {
      "text/html": [
       "<pre>topic 19: phil album solo eagles collins songs don long great good genesis can't easy day peter</pre>"
      ],
      "text/plain": [
       "topic 19: phil album solo eagles collins songs don long great good genesis can't easy day peter"
      ]
     },
     "metadata": {},
     "output_type": "display_data"
    },
    {
     "data": {
      "text/html": [
       "<pre>topic 20: album miley today enjoy. for. decides myself, peaceful back, grab quickly real mention too. stuff</pre>"
      ],
      "text/plain": [
       "topic 20: album miley today enjoy. for. decides myself, peaceful back, grab quickly real mention too. stuff"
      ]
     },
     "metadata": {},
     "output_type": "display_data"
    },
    {
     "data": {
      "text/html": [
       "<pre>topic 21: fave don't favorites goofy what's definite change real stands cd funky blunt finest led work,</pre>"
      ],
      "text/plain": [
       "topic 21: fave don't favorites goofy what's definite change real stands cd funky blunt finest led work,"
      ]
     },
     "metadata": {},
     "output_type": "display_data"
    },
    {
     "data": {
      "text/html": [
       "<pre>topic 22: cd good 5 stars 2 4 3 give star buy dont stars. worth gave put</pre>"
      ],
      "text/plain": [
       "topic 22: cd good 5 stars 2 4 3 give star buy dont stars. worth gave put"
      ]
     },
     "metadata": {},
     "output_type": "display_data"
    },
    {
     "data": {
      "text/html": [
       "<pre>topic 23: - alison cd bluegrass krauss plant = robert union [see tweet nickel lots no. creek</pre>"
      ],
      "text/plain": [
       "topic 23: - alison cd bluegrass krauss plant = robert union [see tweet nickel lots no. creek"
      ]
     },
     "metadata": {},
     "output_type": "display_data"
    },
    {
     "data": {
      "text/html": [
       "<pre>topic 24: sounded you. high rocks great artists happy pure gem purchasing ... it, good twice. record</pre>"
      ],
      "text/plain": [
       "topic 24: sounded you. high rocks great artists happy pure gem purchasing ... it, good twice. record"
      ]
     },
     "metadata": {},
     "output_type": "display_data"
    },
    {
     "data": {
      "text/html": [
       "<pre>topic 25: recommend enjoy it! include real notice heart. talented subjects song! found fan doubt, summertime pretty</pre>"
      ],
      "text/plain": [
       "topic 25: recommend enjoy it! include real notice heart. talented subjects song! found fan doubt, summertime pretty"
      ]
     },
     "metadata": {},
     "output_type": "display_data"
    },
    {
     "data": {
      "text/html": [
       "<pre>topic 26: white jack stripes lady blood gaga meg don't great white's cold good boy \"born \"white</pre>"
      ],
      "text/plain": [
       "topic 26: white jack stripes lady blood gaga meg don't great white's cold good boy \"born \"white"
      ]
     },
     "metadata": {},
     "output_type": "display_data"
    },
    {
     "data": {
      "text/html": [
       "<pre>topic 27: . , \" ( &quot; ! ) danger mouse great an' ? ... cee-lo gnarls</pre>"
      ],
      "text/plain": [
       "topic 27: . , \" ( &quot; ! ) danger mouse great an' ? ... cee-lo gnarls"
      ]
     },
     "metadata": {},
     "output_type": "display_data"
    },
    {
     "data": {
      "text/html": [
       "<pre>topic 28: long time! nice collection too. sounds outstanding. stand much. go, around, sound. price electronica why.</pre>"
      ],
      "text/plain": [
       "topic 28: long time! nice collection too. sounds outstanding. stand much. go, around, sound. price electronica why."
      ]
     },
     "metadata": {},
     "output_type": "display_data"
    },
    {
     "data": {
      "text/html": [
       "<pre>topic 29: album stuff downloaded fast album) well. wanna can, chapter library. list. fully 12 long flavor</pre>"
      ],
      "text/plain": [
       "topic 29: album stuff downloaded fast album) well. wanna can, chapter library. list. fully 12 long flavor"
      ]
     },
     "metadata": {},
     "output_type": "display_data"
    },
    {
     "data": {
      "text/html": [
       "<pre>topic 30: ben great folds del les primus lana likes time. \"video rey claypool including seas games\"</pre>"
      ],
      "text/plain": [
       "topic 30: ben great folds del les primus lana likes time. \"video rey claypool including seas games\""
      ]
     },
     "metadata": {},
     "output_type": "display_data"
    },
    {
     "data": {
      "text/html": [
       "<pre>topic 31: mary alicia j. amy keys blige mary's ain't winehouse queen duffy sample losing diary \"back</pre>"
      ],
      "text/plain": [
       "topic 31: mary alicia j. amy keys blige mary's ain't winehouse queen duffy sample losing diary \"back"
      ]
     },
     "metadata": {},
     "output_type": "display_data"
    },
    {
     "data": {
      "text/html": [
       "<pre>topic 32: seals pass album etc. whole. crofts shame cuts definately voices down. america gonna while, unique</pre>"
      ],
      "text/plain": [
       "topic 32: seals pass album etc. whole. crofts shame cuts definately voices down. america gonna while, unique"
      ]
     },
     "metadata": {},
     "output_type": "display_data"
    },
    {
     "data": {
      "text/html": [
       "<pre>topic 33: great --- fun leave listen found beat, classic. new. recommend carole excellent. cuts lost funk</pre>"
      ],
      "text/plain": [
       "topic 33: great --- fun leave listen found beat, classic. new. recommend carole excellent. cuts lost funk"
      ]
     },
     "metadata": {},
     "output_type": "display_data"
    },
    {
     "data": {
      "text/html": [
       "<pre>topic 34: love voice music soul album she's cd artist artists debut back music. listen female feel</pre>"
      ],
      "text/plain": [
       "topic 34: love voice music soul album she's cd artist artists debut back music. listen female feel"
      ]
     },
     "metadata": {},
     "output_type": "display_data"
    },
    {
     "data": {
      "text/html": [
       "<pre>topic 35: it. bit groups nice support disc. mystery alike hit mix absolute records, group great, make</pre>"
      ],
      "text/plain": [
       "topic 35: it. bit groups nice support disc. mystery alike hit mix absolute records, group great, make"
      ]
     },
     "metadata": {},
     "output_type": "display_data"
    },
    {
     "data": {
      "text/html": [
       "<pre>topic 36: all! super neck here, bizarre, anthems direction first, arlo bunch sly good! bad. dark, chose</pre>"
      ],
      "text/plain": [
       "topic 36: all! super neck here, bizarre, anthems direction first, arlo bunch sly good! bad. dark, chose"
      ]
     },
     "metadata": {},
     "output_type": "display_data"
    },
    {
     "data": {
      "text/html": [
       "<pre>topic 37: mark dire knopfler straits lyrics knopfler's arms\" albums emmylou nothing\" fall but, \"brothers style work.</pre>"
      ],
      "text/plain": [
       "topic 37: mark dire knopfler straits lyrics knopfler's arms\" albums emmylou nothing\" fall but, \"brothers style work."
      ]
     },
     "metadata": {},
     "output_type": "display_data"
    },
    {
     "data": {
      "text/html": [
       "<pre>topic 38: gordon lightfoot nina good gordon's salt veruca don't lightfoot's worth forever, sang tonight god 'the</pre>"
      ],
      "text/plain": [
       "topic 38: gordon lightfoot nina good gordon's salt veruca don't lightfoot's worth forever, sang tonight god 'the"
      ]
     },
     "metadata": {},
     "output_type": "display_data"
    },
    {
     "data": {
      "text/html": [
       "<pre>topic 39: - album it's music lyrics musical sound track vocal vocals pop beautiful guitar work sounds</pre>"
      ],
      "text/plain": [
       "topic 39: - album it's music lyrics musical sound track vocal vocals pop beautiful guitar work sounds"
      ]
     },
     "metadata": {},
     "output_type": "display_data"
    },
    {
     "data": {
      "text/html": [
       "<pre>topic 40: kelly r. real 12 kelly's trust aaliyah kelly, clarkson r.kelly hands production. letter reba lack</pre>"
      ],
      "text/plain": [
       "topic 40: kelly r. real 12 kelly's trust aaliyah kelly, clarkson r.kelly hands production. letter reba lack"
      ]
     },
     "metadata": {},
     "output_type": "display_data"
    },
    {
     "data": {
      "text/html": [
       "<pre>topic 41: cd songs song cd. good great listen love heard favorite it. cd, bought music buy</pre>"
      ],
      "text/plain": [
       "topic 41: cd songs song cd. good great listen love heard favorite it. cd, bought music buy"
      ]
     },
     "metadata": {},
     "output_type": "display_data"
    },
    {
     "data": {
      "text/html": [
       "<pre>topic 42: nelly furtado doubt carrie loose gwen nelly's good push trick highly furtado's ska god's underwood</pre>"
      ],
      "text/plain": [
       "topic 42: nelly furtado doubt carrie loose gwen nelly's good push trick highly furtado's ska god's underwood"
      ]
     },
     "metadata": {},
     "output_type": "display_data"
    },
    {
     "data": {
      "text/html": [
       "<pre>topic 43: gang guru starr kool premier moment wrong simple mass stuck boring album beats guru's doubt</pre>"
      ],
      "text/plain": [
       "topic 43: gang guru starr kool premier moment wrong simple mass stuck boring album beats guru's doubt"
      ]
     },
     "metadata": {},
     "output_type": "display_data"
    },
    {
     "data": {
      "text/html": [
       "<pre>topic 44: cyndi lauper cyndi's lauper's buy said, shake forget colors \"girls songs: \"true album, ride search</pre>"
      ],
      "text/plain": [
       "topic 44: cyndi lauper cyndi's lauper's buy said, shake forget colors \"girls songs: \"true album, ride search"
      ]
     },
     "metadata": {},
     "output_type": "display_data"
    },
    {
     "data": {
      "text/html": [
       "<pre>topic 45: dido adele dido's land angel cd rest adele's bond list good. album. faithless \"rolling there.</pre>"
      ],
      "text/plain": [
       "topic 45: dido adele dido's land angel cd rest adele's bond list good. album. faithless \"rolling there."
      ]
     },
     "metadata": {},
     "output_type": "display_data"
    },
    {
     "data": {
      "text/html": [
       "<pre>topic 46: big love outkast andre day boi hip-hop double guys boi's hey kelis 3000 outkast's straight</pre>"
      ],
      "text/plain": [
       "topic 46: big love outkast andre day boi hip-hop double guys boi's hey kelis 3000 outkast's straight"
      ]
     },
     "metadata": {},
     "output_type": "display_data"
    },
    {
     "data": {
      "text/html": [
       "<pre>topic 47: yeah karen richard carpenters carpenter karen's yeahs great records. (4/5): control fever heard yyy's richard's</pre>"
      ],
      "text/plain": [
       "topic 47: yeah karen richard carpenters carpenter karen's yeahs great records. (4/5): control fever heard yyy's richard's"
      ]
     },
     "metadata": {},
     "output_type": "display_data"
    },
    {
     "data": {
      "text/html": [
       "<pre>topic 48: fleet foxes this! dream worth wrong compared albums. super it! buy earth rock \"helplessness work.</pre>"
      ],
      "text/plain": [
       "topic 48: fleet foxes this! dream worth wrong compared albums. super it! buy earth rock \"helplessness work."
      ]
     },
     "metadata": {},
     "output_type": "display_data"
    },
    {
     "data": {
      "text/html": [
       "<pre>topic 49: van great album rock halen alanis eddie david lee roth cover classic album, hard morissette</pre>"
      ],
      "text/plain": [
       "topic 49: van great album rock halen alanis eddie david lee roth cover classic album, hard morissette"
      ]
     },
     "metadata": {},
     "output_type": "display_data"
    },
    {
     "data": {
      "text/html": [
       "<pre>topic 50: it's album good songs great album, you'll album. you're don't favorite there's pop good. fan</pre>"
      ],
      "text/plain": [
       "topic 50: it's album good songs great album, you'll album. you're don't favorite there's pop good. fan"
      ]
     },
     "metadata": {},
     "output_type": "display_data"
    },
    {
     "data": {
      "text/html": [
       "<pre>topic 51: song it's album songs good great love album. track song. song, lyrics album, don't nice</pre>"
      ],
      "text/plain": [
       "topic 51: song it's album songs good great love album. track song. song, lyrics album, don't nice"
      ]
     },
     "metadata": {},
     "output_type": "display_data"
    },
    {
     "data": {
      "text/html": [
       "<pre>topic 52: thumbs here's word: half highlights: made favorites limit matter: read like: craig carlisle terrible it!</pre>"
      ],
      "text/plain": [
       "topic 52: thumbs here's word: half highlights: made favorites limit matter: read like: craig carlisle terrible it!"
      ]
     },
     "metadata": {},
     "output_type": "display_data"
    },
    {
     "data": {
      "text/html": [
       "<pre>topic 53: blues great rock guitar time jeff love eric song robert playing blues, clapton songs young</pre>"
      ],
      "text/plain": [
       "topic 53: blues great rock guitar time jeff love eric song robert playing blues, clapton songs young"
      ]
     },
     "metadata": {},
     "output_type": "display_data"
    },
    {
     "data": {
      "text/html": [
       "<pre>topic 54: sheryl crow wanna montreal barnes best, great crow's complete ... kevin sheryl's standout collection. truely</pre>"
      ],
      "text/plain": [
       "topic 54: sheryl crow wanna montreal barnes best, great crow's complete ... kevin sheryl's standout collection. truely"
      ]
     },
     "metadata": {},
     "output_type": "display_data"
    },
    {
     "data": {
      "text/html": [
       "<pre>topic 55: tori cat amos albums tori's stevens piano cover strange boys choirgirl \"little venus walk favourite</pre>"
      ],
      "text/plain": [
       "topic 55: tori cat amos albums tori's stevens piano cover strange boys choirgirl \"little venus walk favourite"
      ]
     },
     "metadata": {},
     "output_type": "display_data"
    },
    {
     "data": {
      "text/html": [
       "<pre>topic 56: cd add fans charm chosen waste stuff lack surprised levels pop dug late silk latest</pre>"
      ],
      "text/plain": [
       "topic 56: cd add fans charm chosen waste stuff lack surprised levels pop dug late silk latest"
      ]
     },
     "metadata": {},
     "output_type": "display_data"
    },
    {
     "data": {
      "text/html": [
       "<pre>topic 57: bon jovi jon long cd iver justin said. rockin' forever it's you're jovi's lost follow</pre>"
      ],
      "text/plain": [
       "topic 57: bon jovi jon long cd iver justin said. rockin' forever it's you're jovi's lost follow"
      ]
     },
     "metadata": {},
     "output_type": "display_data"
    },
    {
     "data": {
      "text/html": [
       "<pre>topic 58: radiohead thom king clay yorke ruben radiohead's kid yorke's piece computer electronic stuff more. found</pre>"
      ],
      "text/plain": [
       "topic 58: radiohead thom king clay yorke ruben radiohead's kid yorke's piece computer electronic stuff more. found"
      ]
     },
     "metadata": {},
     "output_type": "display_data"
    },
    {
     "data": {
      "text/html": [
       "<pre>topic 59: jazz playing music musicians great recording miles solo work blue recorded albums classic note play</pre>"
      ],
      "text/plain": [
       "topic 59: jazz playing music musicians great recording miles solo work blue recorded albums classic note play"
      ]
     },
     "metadata": {},
     "output_type": "display_data"
    },
    {
     "data": {
      "text/html": [
       "<pre>topic 60: them. lights plays on, goodbye roots months first. deserves. missing rarely growth excited pretty speaking</pre>"
      ],
      "text/plain": [
       "topic 60: them. lights plays on, goodbye roots months first. deserves. missing rarely growth excited pretty speaking"
      ]
     },
     "metadata": {},
     "output_type": "display_data"
    },
    {
     "data": {
      "text/html": [
       "<pre>topic 61: hot billboard u.s. 100 top adult easy # weeks chart don't 40 seconds minutes charts</pre>"
      ],
      "text/plain": [
       "topic 61: hot billboard u.s. 100 top adult easy # weeks chart don't 40 seconds minutes charts"
      ]
     },
     "metadata": {},
     "output_type": "display_data"
    },
    {
     "data": {
      "text/html": [
       "<pre>topic 62: dan steely fagen dan's becker royal donald lyrics katy lose walter fred keith perry fogelberg</pre>"
      ],
      "text/plain": [
       "topic 62: dan steely fagen dan's becker royal donald lyrics katy lose walter fred keith perry fogelberg"
      ]
     },
     "metadata": {},
     "output_type": "display_data"
    },
    {
     "data": {
      "text/html": [
       "<pre>topic 63: bone mariah whitney carey group thugs houston mariah's abba 1999 krayzie eternal harmony bizzy layzie</pre>"
      ],
      "text/plain": [
       "topic 63: bone mariah whitney carey group thugs houston mariah's abba 1999 krayzie eternal harmony bizzy layzie"
      ]
     },
     "metadata": {},
     "output_type": "display_data"
    },
    {
     "data": {
      "text/html": [
       "<pre>topic 64: great best. album. songs raw lp. material step job prime play \"port finish. loves case.</pre>"
      ],
      "text/plain": [
       "topic 64: great best. album. songs raw lp. material step job prime play \"port finish. loves case."
      ]
     },
     "metadata": {},
     "output_type": "display_data"
    },
    {
     "data": {
      "text/html": [
       "<pre>topic 65: creativity hard substance sublime pretty original first, guess hold last, definately times. terrific again! record.</pre>"
      ],
      "text/plain": [
       "topic 65: creativity hard substance sublime pretty original first, guess hold last, definately times. terrific again! record."
      ]
     },
     "metadata": {},
     "output_type": "display_data"
    },
    {
     "data": {
      "text/html": [
       "<pre>topic 66: funk p-funk clinton parliament funky george it's real beats nose funk. bootsy mothership sir cut</pre>"
      ],
      "text/plain": [
       "topic 66: funk p-funk clinton parliament funky george it's real beats nose funk. bootsy mothership sir cut"
      ]
     },
     "metadata": {},
     "output_type": "display_data"
    },
    {
     "data": {
      "text/html": [
       "<pre>topic 67: nick drake drake's leaves pink jamiroquai \"pink jay moon nick's kay songs! duncan mix jane</pre>"
      ],
      "text/plain": [
       "topic 67: nick drake drake's leaves pink jamiroquai \"pink jay moon nick's kay songs! duncan mix jane"
      ]
     },
     "metadata": {},
     "output_type": "display_data"
    },
    {
     "data": {
      "text/html": [
       "<pre>topic 68: album michael jackson music pop stop bad can't elvis jackson's dance solo make wall costello</pre>"
      ],
      "text/plain": [
       "topic 68: album michael jackson music pop stop bad can't elvis jackson's dance solo make wall costello"
      ]
     },
     "metadata": {},
     "output_type": "display_data"
    },
    {
     "data": {
      "text/html": [
       "<pre>topic 69: album rap 50 eminem hip beats hop good he's real game dre lyrics people ja</pre>"
      ],
      "text/plain": [
       "topic 69: album rap 50 eminem hip beats hop good he's real game dre lyrics people ja"
      ]
     },
     "metadata": {},
     "output_type": "display_data"
    },
    {
     "data": {
      "text/html": [
       "<pre>topic 70: devo great cd gonna can't freedom 90s devo's impressive tight trip satisfaction brother, \"whip ~</pre>"
      ],
      "text/plain": [
       "topic 70: devo great cd gonna can't freedom 90s devo's impressive tight trip satisfaction brother, \"whip ~"
      ]
     },
     "metadata": {},
     "output_type": "display_data"
    },
    {
     "data": {
      "text/html": [
       "<pre>topic 71: album song love great pop dance madonna hit single it's track alice songs time album,</pre>"
      ],
      "text/plain": [
       "topic 71: album song love great pop dance madonna hit single it's track alice songs time album,"
      ]
     },
     "metadata": {},
     "output_type": "display_data"
    },
    {
     "data": {
      "text/html": [
       "<pre>topic 72: cypress hill rest liz group. phair solid days case grab sen record, great. top recommend</pre>"
      ],
      "text/plain": [
       "topic 72: cypress hill rest liz group. phair solid days case grab sen record, great. top recommend"
      ]
     },
     "metadata": {},
     "output_type": "display_data"
    },
    {
     "data": {
      "text/html": [
       "<pre>topic 73: prince album great songs album. funky prince's funk times movie sign albums purple sound world</pre>"
      ],
      "text/plain": [
       "topic 73: prince album great songs album. funky prince's funk times movie sign albums purple sound world"
      ]
     },
     "metadata": {},
     "output_type": "display_data"
    },
    {
     "data": {
      "text/html": [
       "<pre>topic 74: dylan bob songs great mars dylan's boy belle album album. sebastian band blood volta you're</pre>"
      ],
      "text/plain": [
       "topic 74: dylan bob songs great mars dylan's boy belle album album. sebastian band blood volta you're"
      ]
     },
     "metadata": {},
     "output_type": "display_data"
    },
    {
     "data": {
      "text/html": [
       "<pre>topic 75: bit orbital buy wanna carole matched there's fantastic. word written combination stick dark tip idol</pre>"
      ],
      "text/plain": [
       "topic 75: bit orbital buy wanna carole matched there's fantastic. word written combination stick dark tip idol"
      ]
     },
     "metadata": {},
     "output_type": "display_data"
    },
    {
     "data": {
      "text/html": [
       "<pre>topic 76: album back masterpiece you. classic. soft cd heaven grab ready train pumped you'll chris pretty</pre>"
      ],
      "text/plain": [
       "topic 76: album back masterpiece you. classic. soft cd heaven grab ready train pumped you'll chris pretty"
      ]
     },
     "metadata": {},
     "output_type": "display_data"
    },
    {
     "data": {
      "text/html": [
       "<pre>topic 77: album pixies kim black frank fan breeders francis pixies, sublime doolittle borrowed making deal's between.</pre>"
      ],
      "text/plain": [
       "topic 77: album pixies kim black frank fan breeders francis pixies, sublime doolittle borrowed making deal's between."
      ]
     },
     "metadata": {},
     "output_type": "display_data"
    },
    {
     "data": {
      "text/html": [
       "<pre>topic 78: album songs album. great albums good album, tracks music time fan highly favorite recommend heard</pre>"
      ],
      "text/plain": [
       "topic 78: album songs album. great albums good album, tracks music time fan highly favorite recommend heard"
      ]
     },
     "metadata": {},
     "output_type": "display_data"
    },
    {
     "data": {
      "text/html": [
       "<pre>topic 79: good great tight up, kids i'll girl daughter greatness good. listen. slow album. on, rain</pre>"
      ],
      "text/plain": [
       "topic 79: good great tight up, kids i'll girl daughter greatness good. listen. slow album. on, rain"
      ]
     },
     "metadata": {},
     "output_type": "display_data"
    },
    {
     "data": {
      "text/html": [
       "<pre>topic 80: la de los rage tom el en son angeles machine le it. battle las yo</pre>"
      ],
      "text/plain": [
       "topic 80: la de los rage tom el en son angeles machine le it. battle las yo"
      ]
     },
     "metadata": {},
     "output_type": "display_data"
    },
    {
     "data": {
      "text/html": [
       "<pre>topic 81: lyrics today. grow it. guess easily old. suppose though. magic best, 70s, eating inspiration hit.</pre>"
      ],
      "text/plain": [
       "topic 81: lyrics today. grow it. guess easily old. suppose though. magic best, 70s, eating inspiration hit."
      ]
     },
     "metadata": {},
     "output_type": "display_data"
    },
    {
     "data": {
      "text/html": [
       "<pre>topic 82: man style. side remain ever. anymore recommend finally time! guaranteed pure commercial. advice wanted eat</pre>"
      ],
      "text/plain": [
       "topic 82: man style. side remain ever. anymore recommend finally time! guaranteed pure commercial. advice wanted eat"
      ]
     },
     "metadata": {},
     "output_type": "display_data"
    },
    {
     "data": {
      "text/html": [
       "<pre>topic 83: songs hits collection greatest cd disc tracks set albums fan compilation live fans early collection.</pre>"
      ],
      "text/plain": [
       "topic 83: songs hits collection greatest cd disc tracks set albums fan compilation live fans early collection."
      ]
     },
     "metadata": {},
     "output_type": "display_data"
    },
    {
     "data": {
      "text/html": [
       "<pre>topic 84: album wu beats album. wu-tang rza ghostface production ghost classic arctic tang gza monkeys method</pre>"
      ],
      "text/plain": [
       "topic 84: album wu beats album. wu-tang rza ghostface production ghost classic arctic tang gza monkeys method"
      ]
     },
     "metadata": {},
     "output_type": "display_data"
    },
    {
     "data": {
      "text/html": [
       "<pre>topic 85: album song songs hit & \"the elton time john released top \"i classic title albums</pre>"
      ],
      "text/plain": [
       "topic 85: album song songs hit & \"the elton time john released top \"i classic title albums"
      ]
     },
     "metadata": {},
     "output_type": "display_data"
    },
    {
     "data": {
      "text/html": [
       "<pre>topic 86: band rock album sound guitar it's bands songs music hard albums sounds band's time heavy</pre>"
      ],
      "text/plain": [
       "topic 86: band rock album sound guitar it's bands songs music hard albums sounds band's time heavy"
      ]
     },
     "metadata": {},
     "output_type": "display_data"
    },
    {
     "data": {
      "text/html": [
       "<pre>topic 87: jones jewel songs norah pop she's cd country great music love spirit debut michelle artist</pre>"
      ],
      "text/plain": [
       "topic 87: jones jewel songs norah pop she's cd country great music love spirit debut michelle artist"
      ]
     },
     "metadata": {},
     "output_type": "display_data"
    },
    {
     "data": {
      "text/html": [
       "<pre>topic 88: duran great fleetwood stevie annie pop mac eurythmics dreams songs nicks christine love buckingham angel</pre>"
      ],
      "text/plain": [
       "topic 88: duran great fleetwood stevie annie pop mac eurythmics dreams songs nicks christine love buckingham angel"
      ]
     },
     "metadata": {},
     "output_type": "display_data"
    },
    {
     "data": {
      "text/html": [
       "<pre>topic 89: miss full best. put great downloaded lack (5 us. prefer revolutionary taste, cd. done, reviews</pre>"
      ],
      "text/plain": [
       "topic 89: miss full best. put great downloaded lack (5 us. prefer revolutionary taste, cd. done, reviews"
      ]
     },
     "metadata": {},
     "output_type": "display_data"
    },
    {
     "data": {
      "text/html": [
       "<pre>topic 90: great written teen ok, blend knew style. sharp wrong disk helped bit movement mega thinking</pre>"
      ],
      "text/plain": [
       "topic 90: great written teen ok, blend knew style. sharp wrong disk helped bit movement mega thinking"
      ]
     },
     "metadata": {},
     "output_type": "display_data"
    },
    {
     "data": {
      "text/html": [
       "<pre>topic 91: songs listen. heard ear / dark heaven ms full dont composed there. features incredible reach</pre>"
      ],
      "text/plain": [
       "topic 91: songs listen. heard ear / dark heaven ms full dont composed there. features incredible reach"
      ]
     },
     "metadata": {},
     "output_type": "display_data"
    },
    {
     "data": {
      "text/html": [
       "<pre>topic 92: todays 'in absolutely songwriter burn longer, pun output acid start hey wear broke there. show</pre>"
      ],
      "text/plain": [
       "topic 92: todays 'in absolutely songwriter burn longer, pun output acid start hey wear broke there. show"
      ]
     },
     "metadata": {},
     "output_type": "display_data"
    },
    {
     "data": {
      "text/html": [
       "<pre>topic 93: songs good added love ten great stuff. couldn't people happen great, kicks there. road also.</pre>"
      ],
      "text/plain": [
       "topic 93: songs good added love ten great stuff. couldn't people happen great, kicks there. road also."
      ]
     },
     "metadata": {},
     "output_type": "display_data"
    },
    {
     "data": {
      "text/html": [
       "<pre>topic 94: incubus morning brandon view \"morning boyd recommend par worthy raw incubus, times. get. record. served</pre>"
      ],
      "text/plain": [
       "topic 94: incubus morning brandon view \"morning boyd recommend par worthy raw incubus, times. get. record. served"
      ]
     },
     "metadata": {},
     "output_type": "display_data"
    },
    {
     "data": {
      "text/html": [
       "<pre>topic 95: album hot red chili peppers sex john funk sugar funky blood guys anthony double bad</pre>"
      ],
      "text/plain": [
       "topic 95: album hot red chili peppers sex john funk sugar funky blood guys anthony double bad"
      ]
     },
     "metadata": {},
     "output_type": "display_data"
    },
    {
     "data": {
      "text/html": [
       "<pre>topic 96: cash johnny american man cash's country rick ain't prison waylon legend depeche kris recordings meet</pre>"
      ],
      "text/plain": [
       "topic 96: cash johnny american man cash's country rick ain't prison waylon legend depeche kris recordings meet"
      ]
     },
     "metadata": {},
     "output_type": "display_data"
    },
    {
     "data": {
      "text/html": [
       "<pre>topic 97: version - original live album tracks sound disc bonus great release released versions quality track</pre>"
      ],
      "text/plain": [
       "topic 97: version - original live album tracks sound disc bonus great release released versions quality track"
      ]
     },
     "metadata": {},
     "output_type": "display_data"
    },
    {
     "data": {
      "text/html": [
       "<pre>topic 98: early recommended summer best. jam rock. cardigans cover. ledisi rain taking mouth lot side does.</pre>"
      ],
      "text/plain": [
       "topic 98: early recommended summer best. jam rock. cardigans cover. ledisi rain taking mouth lot side does."
      ]
     },
     "metadata": {},
     "output_type": "display_data"
    },
    {
     "data": {
      "text/html": [
       "<pre>topic 99: sounds boys beach brian pet toni wilson music beatles love smashing god shop pumpkins braxton</pre>"
      ],
      "text/plain": [
       "topic 99: sounds boys beach brian pet toni wilson music beatles love smashing god shop pumpkins braxton"
      ]
     },
     "metadata": {},
     "output_type": "display_data"
    },
    {
     "data": {
      "text/html": [
       "<pre>| 90        | 3m 50s        | 3.11946e+006   | 16313.3         |</pre>"
      ],
      "text/plain": [
       "| 90        | 3m 50s        | 3.11946e+006   | 16313.3         |"
      ]
     },
     "metadata": {},
     "output_type": "display_data"
    },
    {
     "data": {
      "text/html": [
       "<pre>topic 0: &amp; &quot;the album &quot;i songs me&quot; title you&quot; classic &quot;you r&amp;b love&quot; tracks make &quot;don't</pre>"
      ],
      "text/plain": [
       "topic 0: &amp; &quot;the album &quot;i songs me&quot; title you&quot; classic &quot;you r&amp;b love&quot; tracks make &quot;don't"
      ]
     },
     "metadata": {},
     "output_type": "display_data"
    },
    {
     "data": {
      "text/html": [
       "<pre>topic 1: highly filled record, party chief gift fan. writing = ' finish, too. --------- jody dug</pre>"
      ],
      "text/plain": [
       "topic 1: highly filled record, party chief gift fan. writing = ' finish, too. --------- jody dug"
      ]
     },
     "metadata": {},
     "output_type": "display_data"
    },
    {
     "data": {
      "text/html": [
       "<pre>topic 2: lenny kravitz 19 voice mediocre good disk respect. way, expect cool due bashing waste means</pre>"
      ],
      "text/plain": [
       "topic 2: lenny kravitz 19 voice mediocre good disk respect. way, expect cool due bashing waste means"
      ]
     },
     "metadata": {},
     "output_type": "display_data"
    },
    {
     "data": {
      "text/html": [
       "<pre>topic 3: album buy good recommend song hit great day\" nalick makes strong solid anna music\" voice</pre>"
      ],
      "text/plain": [
       "topic 3: album buy good recommend song hit great day\" nalick makes strong solid anna music\" voice"
      ]
     },
     "metadata": {},
     "output_type": "display_data"
    },
    {
     "data": {
      "text/html": [
       "<pre>topic 4: it's don't album i'm songs that's good people doesn't can't you're it. isn't time make</pre>"
      ],
      "text/plain": [
       "topic 4: it's don't album i'm songs that's good people doesn't can't you're it. isn't time make"
      ]
     },
     "metadata": {},
     "output_type": "display_data"
    },
    {
     "data": {
      "text/html": [
       "<pre>topic 5: paul simon mccartney stone & joss love solo carly simon's beatles bee art mccartney's paul's</pre>"
      ],
      "text/plain": [
       "topic 5: paul simon mccartney stone & joss love solo carly simon's beatles bee art mccartney's paul's"
      ]
     },
     "metadata": {},
     "output_type": "display_data"
    },
    {
     "data": {
      "text/html": [
       "<pre>topic 6: lips flaming soft wayne pink battles doesn't stars lips, running yoshimi lips' artistic coyne brings</pre>"
      ],
      "text/plain": [
       "topic 6: lips flaming soft wayne pink battles doesn't stars lips, running yoshimi lips' artistic coyne brings"
      ]
     },
     "metadata": {},
     "output_type": "display_data"
    },
    {
     "data": {
      "text/html": [
       "<pre>topic 7: great pure genius. masterpiece, piece one. to. album! album stayed 12 earlier, 1, bury theme</pre>"
      ],
      "text/plain": [
       "topic 7: great pure genius. masterpiece, piece one. to. album! album stayed 12 earlier, 1, bury theme"
      ]
     },
     "metadata": {},
     "output_type": "display_data"
    },
    {
     "data": {
      "text/html": [
       "<pre>topic 8: one. it's & up, low ... hudson recommend excellent. beth ready voices rufus give i'm</pre>"
      ],
      "text/plain": [
       "topic 8: one. it's & up, low ... hudson recommend excellent. beth ready voices rufus give i'm"
      ]
     },
     "metadata": {},
     "output_type": "display_data"
    },
    {
     "data": {
      "text/html": [
       "<pre>topic 9: punk daft punk's albums lets original here. away. ti change time! music. happen more. nail</pre>"
      ],
      "text/plain": [
       "topic 9: punk daft punk's albums lets original here. away. ti change time! music. happen more. nail"
      ]
     },
     "metadata": {},
     "output_type": "display_data"
    },
    {
     "data": {
      "text/html": [
       "<pre>topic 10: strong mediocre lyric 22 finish. buy standout haunting dogs invasion songs: brutal horrid love sounds</pre>"
      ],
      "text/plain": [
       "topic 10: strong mediocre lyric 22 finish. buy standout haunting dogs invasion songs: brutal horrid love sounds"
      ]
     },
     "metadata": {},
     "output_type": "display_data"
    },
    {
     "data": {
      "text/html": [
       "<pre>topic 11: joni cars mitchell love joni's mitchell's ric court long friend's ocasek shake reckless \"free car</pre>"
      ],
      "text/plain": [
       "topic 11: joni cars mitchell love joni's mitchell's ric court long friend's ocasek shake reckless \"free car"
      ]
     },
     "metadata": {},
     "output_type": "display_data"
    },
    {
     "data": {
      "text/html": [
       "<pre>topic 12: hasn't usual, personal. keeping taking matter blend is, 2005 nice limp one's god. memorable system</pre>"
      ],
      "text/plain": [
       "topic 12: hasn't usual, personal. keeping taking matter blend is, 2005 nice limp one's god. memorable system"
      ]
     },
     "metadata": {},
     "output_type": "display_data"
    },
    {
     "data": {
      "text/html": [
       "<pre>topic 13: buy highly cd! song. taste compared grab live duds past. truely music boom tunes heading</pre>"
      ],
      "text/plain": [
       "topic 13: buy highly cd! song. taste compared grab live duds past. truely music boom tunes heading"
      ]
     },
     "metadata": {},
     "output_type": "display_data"
    },
    {
     "data": {
      "text/html": [
       "<pre>topic 14: music back years listen music. listening people hear heard make made radio record country it's</pre>"
      ],
      "text/plain": [
       "topic 14: music back years listen music. listening people hear heard make made radio record country it's"
      ]
     },
     "metadata": {},
     "output_type": "display_data"
    },
    {
     "data": {
      "text/html": [
       "<pre>topic 15: - album & track good beat song production tracks rap beats -- great featuring back</pre>"
      ],
      "text/plain": [
       "topic 15: - album & track good beat song production tracks rap beats -- great featuring back"
      ]
     },
     "metadata": {},
     "output_type": "display_data"
    },
    {
     "data": {
      "text/html": [
       "<pre>topic 16: - magic music. amount arrangements modern squeeze / satisfying imagine that. wanted female corny old,</pre>"
      ],
      "text/plain": [
       "topic 16: - magic music. amount arrangements modern squeeze / satisfying imagine that. wanted female corny old,"
      ]
     },
     "metadata": {},
     "output_type": "display_data"
    },
    {
     "data": {
      "text/html": [
       "<pre>topic 17: classics fashioned strong. challenge mixes fire, musical excellent. stuff, tastes nice silly genius isn't beautiful</pre>"
      ],
      "text/plain": [
       "topic 17: classics fashioned strong. challenge mixes fire, musical excellent. stuff, tastes nice silly genius isn't beautiful"
      ]
     },
     "metadata": {},
     "output_type": "display_data"
    },
    {
     "data": {
      "text/html": [
       "<pre>topic 18: one. definately mixture completely touches radio pleasantly good was. knock packed putting today. promotion introducing</pre>"
      ],
      "text/plain": [
       "topic 18: one. definately mixture completely touches radio pleasantly good was. knock packed putting today. promotion introducing"
      ]
     },
     "metadata": {},
     "output_type": "display_data"
    },
    {
     "data": {
      "text/html": [
       "<pre>topic 19: phil eagles collins album solo don great long day songs genesis can't steve easy album.</pre>"
      ],
      "text/plain": [
       "topic 19: phil eagles collins album solo don great long day songs genesis can't steve easy album."
      ]
     },
     "metadata": {},
     "output_type": "display_data"
    },
    {
     "data": {
      "text/html": [
       "<pre>topic 20: strong high thing (i album slick miley consistent newest bringing lets prolific there, technical hornsby</pre>"
      ],
      "text/plain": [
       "topic 20: strong high thing (i album slick miley consistent newest bringing lets prolific there, technical hornsby"
      ]
     },
     "metadata": {},
     "output_type": "display_data"
    },
    {
     "data": {
      "text/html": [
       "<pre>topic 21: wear intelligent attempts don't amazon it. song! sunshine follow stands group. back pressure lack feeling</pre>"
      ],
      "text/plain": [
       "topic 21: wear intelligent attempts don't amazon it. song! sunshine follow stands group. back pressure lack feeling"
      ]
     },
     "metadata": {},
     "output_type": "display_data"
    },
    {
     "data": {
      "text/html": [
       "<pre>topic 22: cd good 5 stars 4 2 give 3 star dont buy bad stars. gave put</pre>"
      ],
      "text/plain": [
       "topic 22: cd good 5 stars 4 2 give 3 star dont buy bad stars. gave put"
      ]
     },
     "metadata": {},
     "output_type": "display_data"
    },
    {
     "data": {
      "text/html": [
       "<pre>topic 23: - cd alison bluegrass krauss plant no. tweet union chris traditional [see nickel break creek</pre>"
      ],
      "text/plain": [
       "topic 23: - cd alison bluegrass krauss plant no. tweet union chris traditional [see nickel break creek"
      ]
     },
     "metadata": {},
     "output_type": "display_data"
    },
    {
     "data": {
      "text/html": [
       "<pre>topic 24: ... * hyped you. record. happy boy alpert clean brought mixed rip time sisters hope</pre>"
      ],
      "text/plain": [
       "topic 24: ... * hyped you. record. happy boy alpert clean brought mixed rip time sisters hope"
      ]
     },
     "metadata": {},
     "output_type": "display_data"
    },
    {
     "data": {
      "text/html": [
       "<pre>topic 25: rest recommend grand back! finish. lost blow bit effort. &lt; put tunes. likes sublime first.</pre>"
      ],
      "text/plain": [
       "topic 25: rest recommend grand back! finish. lost blow bit effort. &lt; put tunes. likes sublime first."
      ]
     },
     "metadata": {},
     "output_type": "display_data"
    },
    {
     "data": {
      "text/html": [
       "<pre>topic 26: white jack stripes lady don't gaga blood meg white's good cold great nation dead \"born</pre>"
      ],
      "text/plain": [
       "topic 26: white jack stripes lady don't gaga blood meg white's good cold great nation dead \"born"
      ]
     },
     "metadata": {},
     "output_type": "display_data"
    },
    {
     "data": {
      "text/html": [
       "<pre>topic 27: . , \" ( &quot; ! ) danger mouse an' : modest green stuff gnarls</pre>"
      ],
      "text/plain": [
       "topic 27: . , \" ( &quot; ! ) danger mouse an' : modest green stuff gnarls"
      ]
     },
     "metadata": {},
     "output_type": "display_data"
    },
    {
     "data": {
      "text/html": [
       "<pre>topic 28: good too. nice you're 'the tracks: stand alike close matches loves 2001 can't time\" cd's</pre>"
      ],
      "text/plain": [
       "topic 28: good too. nice you're 'the tracks: stand alike close matches loves 2001 can't time\" cd's"
      ]
     },
     "metadata": {},
     "output_type": "display_data"
    },
    {
     "data": {
      "text/html": [
       "<pre>topic 29: absolutely rare mixed glad melodies them, bucks literally wide whiny download commercial qualities wear vampire</pre>"
      ],
      "text/plain": [
       "topic 29: absolutely rare mixed glad melodies them, bucks literally wide whiny download commercial qualities wear vampire"
      ]
     },
     "metadata": {},
     "output_type": "display_data"
    },
    {
     "data": {
      "text/html": [
       "<pre>topic 30: ben folds les great del primus lana \"video ride \"born time. games\" claypool rey air</pre>"
      ],
      "text/plain": [
       "topic 30: ben folds les great del primus lana \"video ride \"born time. games\" claypool rey air"
      ]
     },
     "metadata": {},
     "output_type": "display_data"
    },
    {
     "data": {
      "text/html": [
       "<pre>topic 31: mary alicia j. amy blige keys mary's black rest winehouse duffy cd diary breakthrough drama</pre>"
      ],
      "text/plain": [
       "topic 31: mary alicia j. amy blige keys mary's black rest winehouse duffy cd diary breakthrough drama"
      ]
     },
     "metadata": {},
     "output_type": "display_data"
    },
    {
     "data": {
      "text/html": [
       "<pre>topic 32: effort. listen. mixing group water, me, pulls instant bill though. pass do, order voice. catchy</pre>"
      ],
      "text/plain": [
       "topic 32: effort. listen. mixing group water, me, pulls instant bill though. pass do, order voice. catchy"
      ]
     },
     "metadata": {},
     "output_type": "display_data"
    },
    {
     "data": {
      "text/html": [
       "<pre>topic 33: great rest tight time --- ~ sample out. classic. recommend real me. riding wow, puts</pre>"
      ],
      "text/plain": [
       "topic 33: great rest tight time --- ~ sample out. classic. recommend real me. riding wow, puts"
      ]
     },
     "metadata": {},
     "output_type": "display_data"
    },
    {
     "data": {
      "text/html": [
       "<pre>topic 34: love voice music soul cd she's album debut artist girl artists soulful feel female make</pre>"
      ],
      "text/plain": [
       "topic 34: love voice music soul cd she's album debut artist girl artists soulful feel female make"
      ]
     },
     "metadata": {},
     "output_type": "display_data"
    },
    {
     "data": {
      "text/html": [
       "<pre>topic 35: better. best. can't pop release hell album. groups waste cd. proves shows doesn't definately based</pre>"
      ],
      "text/plain": [
       "topic 35: better. best. can't pop release hell album. groups waste cd. proves shows doesn't definately based"
      ]
     },
     "metadata": {},
     "output_type": "display_data"
    },
    {
     "data": {
      "text/html": [
       "<pre>topic 36: cool add album lp. wanted everyone's friends. hit instantly collect day flawless popular good! laid</pre>"
      ],
      "text/plain": [
       "topic 36: cool add album lp. wanted everyone's friends. hit instantly collect day flawless popular good! laid"
      ]
     },
     "metadata": {},
     "output_type": "display_data"
    },
    {
     "data": {
      "text/html": [
       "<pre>topic 37: mark dire knopfler straits knopfler's lyrics emmylou arms\" arms summer listen you'll \"brothers this, celtic</pre>"
      ],
      "text/plain": [
       "topic 37: mark dire knopfler straits knopfler's lyrics emmylou arms\" arms summer listen you'll \"brothers this, celtic"
      ]
     },
     "metadata": {},
     "output_type": "display_data"
    },
    {
     "data": {
      "text/html": [
       "<pre>topic 38: gordon lightfoot nina gordon's all. stay lightfoot's excellent veruca showcases impressive music. please, thought salt</pre>"
      ],
      "text/plain": [
       "topic 38: gordon lightfoot nina gordon's all. stay lightfoot's excellent veruca showcases impressive music. please, thought salt"
      ]
     },
     "metadata": {},
     "output_type": "display_data"
    },
    {
     "data": {
      "text/html": [
       "<pre>topic 39: album music it's - lyrics sound song musical track vocal vocals pop guitar beautiful \"the</pre>"
      ],
      "text/plain": [
       "topic 39: album music it's - lyrics sound song musical track vocal vocals pop guitar beautiful \"the"
      ]
     },
     "metadata": {},
     "output_type": "display_data"
    },
    {
     "data": {
      "text/html": [
       "<pre>topic 40: kelly r. 12 kelly's letter kelly, clarkson standout on, aaliyah trust one. r.kelly brit woman's</pre>"
      ],
      "text/plain": [
       "topic 40: kelly r. 12 kelly's letter kelly, clarkson standout on, aaliyah trust one. r.kelly brit woman's"
      ]
     },
     "metadata": {},
     "output_type": "display_data"
    },
    {
     "data": {
      "text/html": [
       "<pre>topic 41: cd songs song cd. love heard good listen music it. bought great cd, favorite buy</pre>"
      ],
      "text/plain": [
       "topic 41: cd songs song cd. love heard good listen music it. bought great cd, favorite buy"
      ]
     },
     "metadata": {},
     "output_type": "display_data"
    },
    {
     "data": {
      "text/html": [
       "<pre>topic 42: nelly furtado doubt gwen nelly's ska loose good latest trick \"say furtado's melodies god's carrie</pre>"
      ],
      "text/plain": [
       "topic 42: nelly furtado doubt gwen nelly's ska loose good latest trick \"say furtado's melodies god's carrie"
      ]
     },
     "metadata": {},
     "output_type": "display_data"
    },
    {
     "data": {
      "text/html": [
       "<pre>topic 43: gang guru album starr kool moment premier puts follow advice real guru's nice truth\" don't</pre>"
      ],
      "text/plain": [
       "topic 43: gang guru album starr kool moment premier puts follow advice real guru's nice truth\" don't"
      ]
     },
     "metadata": {},
     "output_type": "display_data"
    },
    {
     "data": {
      "text/html": [
       "<pre>topic 44: cyndi lauper good cyndi's lauper's colors \"girls don't listening. modern ever. style. puts burn listening</pre>"
      ],
      "text/plain": [
       "topic 44: cyndi lauper good cyndi's lauper's colors \"girls don't listening. modern ever. style. puts burn listening"
      ]
     },
     "metadata": {},
     "output_type": "display_data"
    },
    {
     "data": {
      "text/html": [
       "<pre>topic 45: dido dido's adele land it! adele's angel bond work. faithless \"life \"rolling \"thank one! par</pre>"
      ],
      "text/plain": [
       "topic 45: dido dido's adele land it! adele's angel bond work. faithless \"life \"rolling \"thank one! par"
      ]
     },
     "metadata": {},
     "output_type": "display_data"
    },
    {
     "data": {
      "text/html": [
       "<pre>topic 46: big love outkast andre hip-hop boi day hey kelis boi's straight 3000 double outkast's innovative</pre>"
      ],
      "text/plain": [
       "topic 46: big love outkast andre hip-hop boi day hey kelis boi's straight 3000 double outkast's innovative"
      ]
     },
     "metadata": {},
     "output_type": "display_data"
    },
    {
     "data": {
      "text/html": [
       "<pre>topic 47: yeah karen carpenters richard carpenter karen's time. yeahs classic. good. yyy's media (4/5): o's richard's</pre>"
      ],
      "text/plain": [
       "topic 47: yeah karen carpenters richard carpenter karen's time. yeahs classic. good. yyy's media (4/5): o's richard's"
      ]
     },
     "metadata": {},
     "output_type": "display_data"
    },
    {
     "data": {
      "text/html": [
       "<pre>topic 48: fleet foxes guys wrong do. robin friend always, cd. ho \"helplessness choosing earth trust lot</pre>"
      ],
      "text/plain": [
       "topic 48: fleet foxes guys wrong do. robin friend always, cd. ho \"helplessness choosing earth trust lot"
      ]
     },
     "metadata": {},
     "output_type": "display_data"
    },
    {
     "data": {
      "text/html": [
       "<pre>topic 49: van album alanis halen rock great eddie david classic lee dave bad roth hard morissette</pre>"
      ],
      "text/plain": [
       "topic 49: van album alanis halen rock great eddie david classic lee dave bad roth hard morissette"
      ]
     },
     "metadata": {},
     "output_type": "display_data"
    },
    {
     "data": {
      "text/html": [
       "<pre>topic 50: album good songs it's great don't album. good. you'll tunes weezer can't worth pretty catchy</pre>"
      ],
      "text/plain": [
       "topic 50: album good songs it's great don't album. good. you'll tunes weezer can't worth pretty catchy"
      ]
     },
     "metadata": {},
     "output_type": "display_data"
    },
    {
     "data": {
      "text/html": [
       "<pre>topic 51: song it's album great songs good love track song. album. song, - lyrics nice album,</pre>"
      ],
      "text/plain": [
       "topic 51: song it's album great songs good love track song. album. song, - lyrics nice album,"
      ]
     },
     "metadata": {},
     "output_type": "display_data"
    },
    {
     "data": {
      "text/html": [
       "<pre>topic 52: thumbs here's time highlights: word: filler matter: it! up, huge thought days. impressed yet. music</pre>"
      ],
      "text/plain": [
       "topic 52: thumbs here's time highlights: word: filler matter: it! up, huge thought days. impressed yet. music"
      ]
     },
     "metadata": {},
     "output_type": "display_data"
    },
    {
     "data": {
      "text/html": [
       "<pre>topic 53: blues great rock guitar playing classic jeff songs love eric blues, time led robert clapton</pre>"
      ],
      "text/plain": [
       "topic 53: blues great rock guitar playing classic jeff songs love eric blues, time led robert clapton"
      ]
     },
     "metadata": {},
     "output_type": "display_data"
    },
    {
     "data": {
      "text/html": [
       "<pre>topic 54: sheryl crow wanna montreal barnes crow's false best, kevin sheryl's it! star ear sweet it.</pre>"
      ],
      "text/plain": [
       "topic 54: sheryl crow wanna montreal barnes crow's false best, kevin sheryl's it! star ear sweet it."
      ]
     },
     "metadata": {},
     "output_type": "display_data"
    },
    {
     "data": {
      "text/html": [
       "<pre>topic 55: tori cat amos tori's stevens albums favourite strange boys piano choirgirl walk venus amazing record</pre>"
      ],
      "text/plain": [
       "topic 55: tori cat amos tori's stevens albums favourite strange boys piano choirgirl walk venus amazing record"
      ]
     },
     "metadata": {},
     "output_type": "display_data"
    },
    {
     "data": {
      "text/html": [
       "<pre>topic 56: rest releases album featured add stuff. straight i've follow rock, problem talent shows best, ft</pre>"
      ],
      "text/plain": [
       "topic 56: rest releases album featured add stuff. straight i've follow rock, problem talent shows best, ft"
      ]
     },
     "metadata": {},
     "output_type": "display_data"
    },
    {
     "data": {
      "text/html": [
       "<pre>topic 57: bon jovi cd jon justin iver purchase. forever scene. enough. jersey vernon's emma, jovi's vernon</pre>"
      ],
      "text/plain": [
       "topic 57: bon jovi cd jon justin iver purchase. forever scene. enough. jersey vernon's emma, jovi's vernon"
      ]
     },
     "metadata": {},
     "output_type": "display_data"
    },
    {
     "data": {
      "text/html": [
       "<pre>topic 58: radiohead thom king clay yorke ruben radiohead's electronic kid yorke's computer talent radiohead, peace aiken</pre>"
      ],
      "text/plain": [
       "topic 58: radiohead thom king clay yorke ruben radiohead's electronic kid yorke's computer talent radiohead, peace aiken"
      ]
     },
     "metadata": {},
     "output_type": "display_data"
    },
    {
     "data": {
      "text/html": [
       "<pre>topic 59: jazz playing great music musicians miles recording solo work recorded blue james free john jazz,</pre>"
      ],
      "text/plain": [
       "topic 59: jazz playing great music musicians miles recording solo work recorded blue james free john jazz,"
      ]
     },
     "metadata": {},
     "output_type": "display_data"
    },
    {
     "data": {
      "text/html": [
       "<pre>topic 60: however, enjoyable. follow made. wonderfully days. 90s ears gbv cover throwback variety creativity ii, level,</pre>"
      ],
      "text/plain": [
       "topic 60: however, enjoyable. follow made. wonderfully days. 90s ears gbv cover throwback variety creativity ii, level,"
      ]
     },
     "metadata": {},
     "output_type": "display_data"
    },
    {
     "data": {
      "text/html": [
       "<pre>topic 61: hot billboard u.s. 100 top adult # reached easy chart minutes don't albums hell weeks</pre>"
      ],
      "text/plain": [
       "topic 61: hot billboard u.s. 100 top adult # reached easy chart minutes don't albums hell weeks"
      ]
     },
     "metadata": {},
     "output_type": "display_data"
    },
    {
     "data": {
      "text/html": [
       "<pre>topic 62: dan steely fagen dan's donald becker katy royal lose b-52's perry walter fogelberg lyrics group's</pre>"
      ],
      "text/plain": [
       "topic 62: dan steely fagen dan's donald becker katy royal lose b-52's perry walter fogelberg lyrics group's"
      ]
     },
     "metadata": {},
     "output_type": "display_data"
    },
    {
     "data": {
      "text/html": [
       "<pre>topic 63: bone mariah whitney carey thugs 1999 mariah's krayzie abba eternal houston group strong flesh harmony</pre>"
      ],
      "text/plain": [
       "topic 63: bone mariah whitney carey thugs 1999 mariah's krayzie abba eternal houston group strong flesh harmony"
      ]
     },
     "metadata": {},
     "output_type": "display_data"
    },
    {
     "data": {
      "text/html": [
       "<pre>topic 64: great worth best. piece style memories lacking lot. ripped better. put miss follow influenced speak</pre>"
      ],
      "text/plain": [
       "topic 64: great worth best. piece style memories lacking lot. ripped better. put miss follow influenced speak"
      ]
     },
     "metadata": {},
     "output_type": "display_data"
    },
    {
     "data": {
      "text/html": [
       "<pre>topic 65: it's lets listed repeat baby boat things (all gone. mid side playing pleased. sweet club</pre>"
      ],
      "text/plain": [
       "topic 65: it's lets listed repeat baby boat things (all gone. mid side playing pleased. sweet club"
      ]
     },
     "metadata": {},
     "output_type": "display_data"
    },
    {
     "data": {
      "text/html": [
       "<pre>topic 66: funk love great p-funk parliament clinton george bootsy singers nose buy mothership c.d. funk. it!</pre>"
      ],
      "text/plain": [
       "topic 66: funk love great p-funk parliament clinton george bootsy singers nose buy mothership c.d. funk. it!"
      ]
     },
     "metadata": {},
     "output_type": "display_data"
    },
    {
     "data": {
      "text/html": [
       "<pre>topic 67: nick drake drake's leaves jamiroquai \"pink moon back nick's pink jay duncan jane kay bryter</pre>"
      ],
      "text/plain": [
       "topic 67: nick drake drake's leaves jamiroquai \"pink moon back nick's pink jay duncan jane kay bryter"
      ]
     },
     "metadata": {},
     "output_type": "display_data"
    },
    {
     "data": {
      "text/html": [
       "<pre>topic 68: album michael jackson music pop song can't stop bad dance jackson's elvis make costello perfect</pre>"
      ],
      "text/plain": [
       "topic 68: album michael jackson music pop song can't stop bad dance jackson's elvis make costello perfect"
      ]
     },
     "metadata": {},
     "output_type": "display_data"
    },
    {
     "data": {
      "text/html": [
       "<pre>topic 69: album rap 50 eminem hip beats hop he's good real game lyrics dre people dont</pre>"
      ],
      "text/plain": [
       "topic 69: album rap 50 eminem hip beats hop he's good real game lyrics dre people dont"
      ]
     },
     "metadata": {},
     "output_type": "display_data"
    },
    {
     "data": {
      "text/html": [
       "<pre>topic 70: great devo can't cd devo's best. same. corporate person songs giant leave \"whip amazing. move</pre>"
      ],
      "text/plain": [
       "topic 70: great devo can't cd devo's best. same. corporate person songs giant leave \"whip amazing. move"
      ]
     },
     "metadata": {},
     "output_type": "display_data"
    },
    {
     "data": {
      "text/html": [
       "<pre>topic 71: album great song love dance pop madonna it's alice songs album, hit time single title</pre>"
      ],
      "text/plain": [
       "topic 71: album great song love dance pop madonna it's alice songs album, hit time single title"
      ]
     },
     "metadata": {},
     "output_type": "display_data"
    },
    {
     "data": {
      "text/html": [
       "<pre>topic 72: hill cypress liz album phair fans. free real na style, sen cd rest superior exile</pre>"
      ],
      "text/plain": [
       "topic 72: hill cypress liz album phair fans. free real na style, sen cd rest superior exile"
      ]
     },
     "metadata": {},
     "output_type": "display_data"
    },
    {
     "data": {
      "text/html": [
       "<pre>topic 73: prince album great prince's funk soundtrack funky songs sign movie albums times purple it! sound</pre>"
      ],
      "text/plain": [
       "topic 73: prince album great prince's funk soundtrack funky songs sign movie albums times purple it! sound"
      ]
     },
     "metadata": {},
     "output_type": "display_data"
    },
    {
     "data": {
      "text/html": [
       "<pre>topic 74: dylan bob songs great mars album. boy dylan's belle blood make songs. sebastian feeling love</pre>"
      ],
      "text/plain": [
       "topic 74: dylan bob songs great mars album. boy dylan's belle blood make songs. sebastian feeling love"
      ]
     },
     "metadata": {},
     "output_type": "display_data"
    },
    {
     "data": {
      "text/html": [
       "<pre>topic 75: pop. thier talented nofx brilliant. give bit age, finally orleans year. fast wouldn't guys synth</pre>"
      ],
      "text/plain": [
       "topic 75: pop. thier talented nofx brilliant. give bit age, finally orleans year. fast wouldn't guys synth"
      ]
     },
     "metadata": {},
     "output_type": "display_data"
    },
    {
     "data": {
      "text/html": [
       "<pre>topic 76: sound call era album. fail recent spot :) side works. live great! daughter dig singles,</pre>"
      ],
      "text/plain": [
       "topic 76: sound call era album. fail recent spot :) side works. live great! daughter dig singles,"
      ]
     },
     "metadata": {},
     "output_type": "display_data"
    },
    {
     "data": {
      "text/html": [
       "<pre>topic 77: album pixies kim frank black thought songs. don't deal. pixies, francis too. band. album, flawless</pre>"
      ],
      "text/plain": [
       "topic 77: album pixies kim frank black thought songs. don't deal. pixies, francis too. band. album, flawless"
      ]
     },
     "metadata": {},
     "output_type": "display_data"
    },
    {
     "data": {
      "text/html": [
       "<pre>topic 78: album songs album. great albums album, good tracks favorite time highly music fan recommend heard</pre>"
      ],
      "text/plain": [
       "topic 78: album songs album. great albums album, good tracks favorite time highly music fan recommend heard"
      ]
     },
     "metadata": {},
     "output_type": "display_data"
    },
    {
     "data": {
      "text/html": [
       "<pre>topic 79: good effort ep, listen release. listened stayed radio, world. that'll tops todays think, promotion beautiful</pre>"
      ],
      "text/plain": [
       "topic 79: good effort ep, listen release. listened stayed radio, world. that'll tops todays think, promotion beautiful"
      ]
     },
     "metadata": {},
     "output_type": "display_data"
    },
    {
     "data": {
      "text/html": [
       "<pre>topic 80: la de los rage el en good machine tom yo lo son angeles le con</pre>"
      ],
      "text/plain": [
       "topic 80: la de los rage el en good machine tom yo lo son angeles le con"
      ]
     },
     "metadata": {},
     "output_type": "display_data"
    },
    {
     "data": {
      "text/html": [
       "<pre>topic 81: lyrics cuts albums day. house it. magic songs: earth touches \"i system wrote teenage times.</pre>"
      ],
      "text/plain": [
       "topic 81: lyrics cuts albums day. house it. magic songs: earth touches \"i system wrote teenage times."
      ]
     },
     "metadata": {},
     "output_type": "display_data"
    },
    {
     "data": {
      "text/html": [
       "<pre>topic 82: part face happy what's prime moby ride skills postal eat get. titles distinct groups round</pre>"
      ],
      "text/plain": [
       "topic 82: part face happy what's prime moby ride skills postal eat get. titles distinct groups round"
      ]
     },
     "metadata": {},
     "output_type": "display_data"
    },
    {
     "data": {
      "text/html": [
       "<pre>topic 83: songs hits greatest collection cd disc tracks compilation albums fan fans set live hendrix rock</pre>"
      ],
      "text/plain": [
       "topic 83: songs hits greatest collection cd disc tracks compilation albums fan fans set live hendrix rock"
      ]
     },
     "metadata": {},
     "output_type": "display_data"
    },
    {
     "data": {
      "text/html": [
       "<pre>topic 84: album wu wu-tang beats rza ghostface ghost arctic album. tang classic gza production monkeys method</pre>"
      ],
      "text/plain": [
       "topic 84: album wu wu-tang beats rza ghostface ghost arctic album. tang classic gza production monkeys method"
      ]
     },
     "metadata": {},
     "output_type": "display_data"
    },
    {
     "data": {
      "text/html": [
       "<pre>topic 85: album songs song hit time & \"the elton john released great top classic albums pop</pre>"
      ],
      "text/plain": [
       "topic 85: album songs song hit time & \"the elton john released great top classic albums pop"
      ]
     },
     "metadata": {},
     "output_type": "display_data"
    },
    {
     "data": {
      "text/html": [
       "<pre>topic 86: band rock album sound guitar bands it's songs hard albums sounds heavy time band's music</pre>"
      ],
      "text/plain": [
       "topic 86: band rock album sound guitar bands it's songs hard albums sounds heavy time band's music"
      ]
     },
     "metadata": {},
     "output_type": "display_data"
    },
    {
     "data": {
      "text/html": [
       "<pre>topic 87: jones pop norah music jewel cd songs she's country debut style spirit michelle artist love</pre>"
      ],
      "text/plain": [
       "topic 87: jones pop norah music jewel cd songs she's country debut style spirit michelle artist love"
      ]
     },
     "metadata": {},
     "output_type": "display_data"
    },
    {
     "data": {
      "text/html": [
       "<pre>topic 88: duran great stevie fleetwood songs annie mac eurythmics dreams pop christine nicks buckingham lennox lindsey</pre>"
      ],
      "text/plain": [
       "topic 88: duran great stevie fleetwood songs annie mac eurythmics dreams pop christine nicks buckingham lennox lindsey"
      ]
     },
     "metadata": {},
     "output_type": "display_data"
    },
    {
     "data": {
      "text/html": [
       "<pre>topic 89: brought loves have. smoke full coming miss positive complaint best. done, must-have balance first. bo</pre>"
      ],
      "text/plain": [
       "topic 89: brought loves have. smoke full coming miss positive complaint best. done, must-have balance first. bo"
      ]
     },
     "metadata": {},
     "output_type": "display_data"
    },
    {
     "data": {
      "text/html": [
       "<pre>topic 90: great sound, thier wait standing 23 money. relaxing, par chrissie stars nyc act sitting understand.</pre>"
      ],
      "text/plain": [
       "topic 90: great sound, thier wait standing 23 money. relaxing, par chrissie stars nyc act sitting understand."
      ]
     },
     "metadata": {},
     "output_type": "display_data"
    },
    {
     "data": {
      "text/html": [
       "<pre>topic 91: great, super couple back good. sound (with law tear laughing part clean be. mary, defines</pre>"
      ],
      "text/plain": [
       "topic 91: great, super couple back good. sound (with law tear laughing part clean be. mary, defines"
      ]
     },
     "metadata": {},
     "output_type": "display_data"
    },
    {
     "data": {
      "text/html": [
       "<pre>topic 92: ready enjoyed dig trust creative cd energy group carry start wax himself, enjoyable brother, opening</pre>"
      ],
      "text/plain": [
       "topic 92: ready enjoyed dig trust creative cd energy group carry start wax himself, enjoyable brother, opening"
      ]
     },
     "metadata": {},
     "output_type": "display_data"
    },
    {
     "data": {
      "text/html": [
       "<pre>topic 93: full can't grab one! song fan. days overall, far. closest pure produce stop pun crazy</pre>"
      ],
      "text/plain": [
       "topic 93: full can't grab one! song fan. days overall, far. closest pure produce stop pun crazy"
      ]
     },
     "metadata": {},
     "output_type": "display_data"
    },
    {
     "data": {
      "text/html": [
       "<pre>topic 94: morning incubus view great add stand brandon again. boyd buy. crow \"morning cool sounding ginuwine</pre>"
      ],
      "text/plain": [
       "topic 94: morning incubus view great add stand brandon again. boyd buy. crow \"morning cool sounding ginuwine"
      ]
     },
     "metadata": {},
     "output_type": "display_data"
    },
    {
     "data": {
      "text/html": [
       "<pre>topic 95: hot album red chili peppers funky sex john funk blood sugar rob solid double anthony</pre>"
      ],
      "text/plain": [
       "topic 95: hot album red chili peppers funky sex john funk blood sugar rob solid double anthony"
      ]
     },
     "metadata": {},
     "output_type": "display_data"
    },
    {
     "data": {
      "text/html": [
       "<pre>topic 96: cash johnny man american country cash's rick ain't prison cover miss waylon kris recordings cash,</pre>"
      ],
      "text/plain": [
       "topic 96: cash johnny man american country cash's rick ain't prison cover miss waylon kris recordings cash,"
      ]
     },
     "metadata": {},
     "output_type": "display_data"
    },
    {
     "data": {
      "text/html": [
       "<pre>topic 97: - version original album live tracks sound bonus disc great release quality released versions studio</pre>"
      ],
      "text/plain": [
       "topic 97: - version original album live tracks sound bonus disc great release quality released versions studio"
      ]
     },
     "metadata": {},
     "output_type": "display_data"
    },
    {
     "data": {
      "text/html": [
       "<pre>topic 98: have. hit, will. cats earth start. about. songs. support sticking others, hanging (get hooks bound</pre>"
      ],
      "text/plain": [
       "topic 98: have. hit, will. cats earth start. about. songs. support sticking others, hanging (get hooks bound"
      ]
     },
     "metadata": {},
     "output_type": "display_data"
    },
    {
     "data": {
      "text/html": [
       "<pre>topic 99: sounds boys beach brian pet toni wilson beatles back shop smashing songs love pumpkins braxton</pre>"
      ],
      "text/plain": [
       "topic 99: sounds boys beach brian pet toni wilson beatles back shop smashing songs love pumpkins braxton"
      ]
     },
     "metadata": {},
     "output_type": "display_data"
    },
    {
     "data": {
      "text/html": [
       "<pre>| 100       | 4m 14s        | 2.0609e+006    | 16322.7         |</pre>"
      ],
      "text/plain": [
       "| 100       | 4m 14s        | 2.0609e+006    | 16322.7         |"
      ]
     },
     "metadata": {},
     "output_type": "display_data"
    },
    {
     "data": {
      "text/html": [
       "<pre>topic 0: &amp; &quot;the album songs &quot;i me&quot; you&quot; &quot;you love&quot; r&amp;b title pop &quot;don't &quot;my &quot;love</pre>"
      ],
      "text/plain": [
       "topic 0: &amp; &quot;the album songs &quot;i me&quot; you&quot; &quot;you love&quot; r&amp;b title pop &quot;don't &quot;my &quot;love"
      ]
     },
     "metadata": {},
     "output_type": "display_data"
    },
    {
     "data": {
      "text/html": [
       "<pre>topic 1: won't sell style. reccomend bad god's appearance simply golden ability magic definately gems soon. carole</pre>"
      ],
      "text/plain": [
       "topic 1: won't sell style. reccomend bad god's appearance simply golden ability magic definately gems soon. carole"
      ]
     },
     "metadata": {},
     "output_type": "display_data"
    },
    {
     "data": {
      "text/html": [
       "<pre>topic 2: lenny lisa enjoyable blondie mediocre instrumentals fair cool not, growth house. outstanding kravitz decade fun.</pre>"
      ],
      "text/plain": [
       "topic 2: lenny lisa enjoyable blondie mediocre instrumentals fair cool not, growth house. outstanding kravitz decade fun."
      ]
     },
     "metadata": {},
     "output_type": "display_data"
    },
    {
     "data": {
      "text/html": [
       "<pre>topic 3: album great recommend nalick anna favourite skin bet best. strong nalick's tough hit chick makes</pre>"
      ],
      "text/plain": [
       "topic 3: album great recommend nalick anna favourite skin bet best. strong nalick's tough hit chick makes"
      ]
     },
     "metadata": {},
     "output_type": "display_data"
    },
    {
     "data": {
      "text/html": [
       "<pre>topic 4: it's album don't i'm songs good that's people doesn't it. can't isn't album. you're listen</pre>"
      ],
      "text/plain": [
       "topic 4: it's album don't i'm songs good that's people doesn't it. can't isn't album. you're listen"
      ]
     },
     "metadata": {},
     "output_type": "display_data"
    },
    {
     "data": {
      "text/html": [
       "<pre>topic 5: paul simon mccartney stone & joss solo carly simon's beatles bee mccartney's paul's troubled garfunkel</pre>"
      ],
      "text/plain": [
       "topic 5: paul simon mccartney stone & joss solo carly simon's beatles bee mccartney's paul's troubled garfunkel"
      ]
     },
     "metadata": {},
     "output_type": "display_data"
    },
    {
     "data": {
      "text/html": [
       "<pre>topic 6: lips flaming soft great real wayne pink better. battles lips, picking now! add good, yoshimi</pre>"
      ],
      "text/plain": [
       "topic 6: lips flaming soft great real wayne pink better. battles lips, picking now! add good, yoshimi"
      ]
     },
     "metadata": {},
     "output_type": "display_data"
    },
    {
     "data": {
      "text/html": [
       "<pre>topic 7: great work. lights, also. band singer delivered dj fault fred cheap play waste cage group.</pre>"
      ],
      "text/plain": [
       "topic 7: great work. lights, also. band singer delivered dj fault fred cheap play waste cage group."
      ]
     },
     "metadata": {},
     "output_type": "display_data"
    },
    {
     "data": {
      "text/html": [
       "<pre>topic 8: it's listen great money. forever mixes grows side lost 2nd shines dylan listener sleep have.</pre>"
      ],
      "text/plain": [
       "topic 8: it's listen great money. forever mixes grows side lost 2nd shines dylan listener sleep have."
      ]
     },
     "metadata": {},
     "output_type": "display_data"
    },
    {
     "data": {
      "text/html": [
       "<pre>topic 9: punk daft reason french punk's creative solid runs lyrics takes jaxx sake siouxsie future, one,</pre>"
      ],
      "text/plain": [
       "topic 9: punk daft reason french punk's creative solid runs lyrics takes jaxx sake siouxsie future, one,"
      ]
     },
     "metadata": {},
     "output_type": "display_data"
    },
    {
     "data": {
      "text/html": [
       "<pre>topic 10: buy but, fun mine date album's it's compared again. song! make gift face etc. songs.</pre>"
      ],
      "text/plain": [
       "topic 10: buy but, fun mine date album's it's compared again. song! make gift face etc. songs."
      ]
     },
     "metadata": {},
     "output_type": "display_data"
    },
    {
     "data": {
      "text/html": [
       "<pre>topic 11: joni cars mitchell joni's mitchell's ric \"just court ocasek summer cars, strawbs reckless friend's orr</pre>"
      ],
      "text/plain": [
       "topic 11: joni cars mitchell joni's mitchell's ric \"just court ocasek summer cars, strawbs reckless friend's orr"
      ]
     },
     "metadata": {},
     "output_type": "display_data"
    },
    {
     "data": {
      "text/html": [
       "<pre>topic 12: mix creative ride bright way. hasn't kids meaningful mixing / standing speak (if hold straight</pre>"
      ],
      "text/plain": [
       "topic 12: mix creative ride bright way. hasn't kids meaningful mixing / standing speak (if hold straight"
      ]
     },
     "metadata": {},
     "output_type": "display_data"
    },
    {
     "data": {
      "text/html": [
       "<pre>topic 13: recommended this! buy highly eye start good play boy lyrics girl singers, mixture guilty when,</pre>"
      ],
      "text/plain": [
       "topic 13: recommended this! buy highly eye start good play boy lyrics girl singers, mixture guilty when,"
      ]
     },
     "metadata": {},
     "output_type": "display_data"
    },
    {
     "data": {
      "text/html": [
       "<pre>topic 14: music back years time music. people listen listening record hear make made radio heard it's</pre>"
      ],
      "text/plain": [
       "topic 14: music back years time music. people listen listening record hear make made radio heard it's"
      ]
     },
     "metadata": {},
     "output_type": "display_data"
    },
    {
     "data": {
      "text/html": [
       "<pre>topic 15: - album & track good beat song production tracks rap -- beats 2 great featuring</pre>"
      ],
      "text/plain": [
       "topic 15: - album & track good beat song production tracks rap -- beats 2 great featuring"
      ]
     },
     "metadata": {},
     "output_type": "display_data"
    },
    {
     "data": {
      "text/html": [
       "<pre>topic 16: cd buy magic great talking favorite let's good. perfect volume phenomenal luck fire, \"there great!</pre>"
      ],
      "text/plain": [
       "topic 16: cd buy magic great talking favorite let's good. perfect volume phenomenal luck fire, \"there great!"
      ]
     },
     "metadata": {},
     "output_type": "display_data"
    },
    {
     "data": {
      "text/html": [
       "<pre>topic 17: modern bit start ears it's off, mr blew biting major material, while, waste continues disappoint</pre>"
      ],
      "text/plain": [
       "topic 17: modern bit start ears it's off, mr blew biting major material, while, waste continues disappoint"
      ]
     },
     "metadata": {},
     "output_type": "display_data"
    },
    {
     "data": {
      "text/html": [
       "<pre>topic 18: found mad one. best. lyrics. rotation musically category day, restless personal. record gotta average, 40</pre>"
      ],
      "text/plain": [
       "topic 18: found mad one. best. lyrics. rotation musically category day, restless personal. record gotta average, 40"
      ]
     },
     "metadata": {},
     "output_type": "display_data"
    },
    {
     "data": {
      "text/html": [
       "<pre>topic 19: phil album eagles collins great long solo don can't steve genesis album. day good peter</pre>"
      ],
      "text/plain": [
       "topic 19: phil album eagles collins great long solo don can't steve genesis album. day good peter"
      ]
     },
     "metadata": {},
     "output_type": "display_data"
    },
    {
     "data": {
      "text/html": [
       "<pre>topic 20: stuff strong definately check this, young it. entertaining, buy fashion system album! sounding cuts stuck</pre>"
      ],
      "text/plain": [
       "topic 20: stuff strong definately check this, young it. entertaining, buy fashion system album! sounding cuts stuck"
      ]
     },
     "metadata": {},
     "output_type": "display_data"
    },
    {
     "data": {
      "text/html": [
       "<pre>topic 21: don't group. stands heard earth save amazing outta taste, favorite, will. talented find old. moon</pre>"
      ],
      "text/plain": [
       "topic 21: don't group. stands heard earth save amazing outta taste, favorite, will. talented find old. moon"
      ]
     },
     "metadata": {},
     "output_type": "display_data"
    },
    {
     "data": {
      "text/html": [
       "<pre>topic 22: cd good 5 stars 4 2 give 3 star buy dont stars. 1 gave rate</pre>"
      ],
      "text/plain": [
       "topic 22: cd good 5 stars 4 2 give 3 star buy dont stars. 1 gave rate"
      ]
     },
     "metadata": {},
     "output_type": "display_data"
    },
    {
     "data": {
      "text/html": [
       "<pre>topic 23: alison bluegrass cd krauss plant - tweet union traditional nickel [see robert chris station no.</pre>"
      ],
      "text/plain": [
       "topic 23: alison bluegrass cd krauss plant - tweet union traditional nickel [see robert chris station no."
      ]
     },
     "metadata": {},
     "output_type": "display_data"
    },
    {
     "data": {
      "text/html": [
       "<pre>topic 24: ... good * love too! fan. man, do. likes say. captures writes brilliant ft rate</pre>"
      ],
      "text/plain": [
       "topic 24: ... good * love too! fan. man, do. likes say. captures writes brilliant ft rate"
      ]
     },
     "metadata": {},
     "output_type": "display_data"
    },
    {
     "data": {
      "text/html": [
       "<pre>topic 25: album? play learn listen search stellar jason maxi worthwhile far. perfect. chief gem done, it!!!</pre>"
      ],
      "text/plain": [
       "topic 25: album? play learn listen search stellar jason maxi worthwhile far. perfect. chief gem done, it!!!"
      ]
     },
     "metadata": {},
     "output_type": "display_data"
    },
    {
     "data": {
      "text/html": [
       "<pre>topic 26: white jack stripes lady blood gaga cold don't meg white's lonely \"white dead boy gonna</pre>"
      ],
      "text/plain": [
       "topic 26: white jack stripes lady blood gaga cold don't meg white's lonely \"white dead boy gonna"
      ]
     },
     "metadata": {},
     "output_type": "display_data"
    },
    {
     "data": {
      "text/html": [
       "<pre>topic 27: . , \" ( &quot; ! ) danger mouse an' : gnarls cee-lo green ..</pre>"
      ],
      "text/plain": [
       "topic 27: . , \" ( &quot; ! ) danger mouse an' : gnarls cee-lo green .."
      ]
     },
     "metadata": {},
     "output_type": "display_data"
    },
    {
     "data": {
      "text/html": [
       "<pre>topic 28: collection. fave too. lyric heart, aside, above, make more. good you'll l.a. anyway. good, thing,</pre>"
      ],
      "text/plain": [
       "topic 28: collection. fave too. lyric heart, aside, above, make more. good you'll l.a. anyway. good, thing,"
      ]
     },
     "metadata": {},
     "output_type": "display_data"
    },
    {
     "data": {
      "text/html": [
       "<pre>topic 29: party earth free good! mike set memories everyday classics done, 'i horror beauty eyes, entertaining</pre>"
      ],
      "text/plain": [
       "topic 29: party earth free good! mike set memories everyday classics done, 'i horror beauty eyes, entertaining"
      ]
     },
     "metadata": {},
     "output_type": "display_data"
    },
    {
     "data": {
      "text/html": [
       "<pre>topic 30: great ben folds del primus les lana you're overall, thing, rey \"video games\" enjoyable claypool</pre>"
      ],
      "text/plain": [
       "topic 30: great ben folds del primus les lana you're overall, thing, rey \"video games\" enjoyable claypool"
      ]
     },
     "metadata": {},
     "output_type": "display_data"
    },
    {
     "data": {
      "text/html": [
       "<pre>topic 31: mary alicia j. keys blige amy mary's winehouse duffy ain't diary \"you sample breakthrough queen</pre>"
      ],
      "text/plain": [
       "topic 31: mary alicia j. keys blige amy mary's winehouse duffy ain't diary \"you sample breakthrough queen"
      ]
     },
     "metadata": {},
     "output_type": "display_data"
    },
    {
     "data": {
      "text/html": [
       "<pre>topic 32: classic worth music. essence pass absolutely purchased fave specific everyone's effort. cd. moving ahead ten</pre>"
      ],
      "text/plain": [
       "topic 32: classic worth music. essence pass absolutely purchased fave specific everyone's effort. cd. moving ahead ten"
      ]
     },
     "metadata": {},
     "output_type": "display_data"
    },
    {
     "data": {
      "text/html": [
       "<pre>topic 33: great real side rest it. out. classic. put grace crying downtempo terrific innocent high, between,</pre>"
      ],
      "text/plain": [
       "topic 33: great real side rest it. out. classic. put grace crying downtempo terrific innocent high, between,"
      ]
     },
     "metadata": {},
     "output_type": "display_data"
    },
    {
     "data": {
      "text/html": [
       "<pre>topic 34: love voice soul music she's album cd debut artist feel singing artists soulful singer girl</pre>"
      ],
      "text/plain": [
       "topic 34: love voice soul music she's album cd debut artist feel singing artists soulful singer girl"
      ]
     },
     "metadata": {},
     "output_type": "display_data"
    },
    {
     "data": {
      "text/html": [
       "<pre>topic 35: blend i'm hit music. deliver martin lights same. album. offering basically in, follow sharp go,</pre>"
      ],
      "text/plain": [
       "topic 35: blend i'm hit music. deliver martin lights same. album. offering basically in, follow sharp go,"
      ]
     },
     "metadata": {},
     "output_type": "display_data"
    },
    {
     "data": {
      "text/html": [
       "<pre>topic 36: great kiss half highly doubt, par must-have hidden excellent armatrading standout directly life gorgeous music</pre>"
      ],
      "text/plain": [
       "topic 36: great kiss half highly doubt, par must-have hidden excellent armatrading standout directly life gorgeous music"
      ]
     },
     "metadata": {},
     "output_type": "display_data"
    },
    {
     "data": {
      "text/html": [
       "<pre>topic 37: mark dire knopfler straits knopfler's emmylou lyrics nothing\" arms\" better. \"brothers animal 9 lighter &amp;</pre>"
      ],
      "text/plain": [
       "topic 37: mark dire knopfler straits knopfler's emmylou lyrics nothing\" arms\" better. \"brothers animal 9 lighter &amp;"
      ]
     },
     "metadata": {},
     "output_type": "display_data"
    },
    {
     "data": {
      "text/html": [
       "<pre>topic 38: gordon nina lightfoot gordon's style. great! lightfoot's ever, veruca cd! tonight match weak groovy salt</pre>"
      ],
      "text/plain": [
       "topic 38: gordon nina lightfoot gordon's style. great! lightfoot's ever, veruca cd! tonight match weak groovy salt"
      ]
     },
     "metadata": {},
     "output_type": "display_data"
    },
    {
     "data": {
      "text/html": [
       "<pre>topic 39: album music it's song lyrics musical track sound - vocal pop vocals beautiful sounds work</pre>"
      ],
      "text/plain": [
       "topic 39: album music it's song lyrics musical track sound - vocal pop vocals beautiful sounds work"
      ]
     },
     "metadata": {},
     "output_type": "display_data"
    },
    {
     "data": {
      "text/html": [
       "<pre>topic 40: kelly r. 12 one. kelly's done. r.kelly aaliyah live trust kelly, super clarkson storm woman's</pre>"
      ],
      "text/plain": [
       "topic 40: kelly r. 12 one. kelly's done. r.kelly aaliyah live trust kelly, super clarkson storm woman's"
      ]
     },
     "metadata": {},
     "output_type": "display_data"
    },
    {
     "data": {
      "text/html": [
       "<pre>topic 41: cd songs cd. song love heard listen good it. music great bought cd, buy favorite</pre>"
      ],
      "text/plain": [
       "topic 41: cd songs cd. song love heard listen good it. music great bought cd, buy favorite"
      ]
     },
     "metadata": {},
     "output_type": "display_data"
    },
    {
     "data": {
      "text/html": [
       "<pre>topic 42: nelly furtado doubt good gwen sublime ska super tragic loose nelly's furtado's push god's shove</pre>"
      ],
      "text/plain": [
       "topic 42: nelly furtado doubt good gwen sublime ska super tragic loose nelly's furtado's push god's shove"
      ]
     },
     "metadata": {},
     "output_type": "display_data"
    },
    {
     "data": {
      "text/html": [
       "<pre>topic 43: album gang guru starr kool premier cool moment mass enjoy gonna susan guru's advice arena</pre>"
      ],
      "text/plain": [
       "topic 43: album gang guru starr kool premier cool moment mass enjoy gonna susan guru's advice arena"
      ]
     },
     "metadata": {},
     "output_type": "display_data"
    },
    {
     "data": {
      "text/html": [
       "<pre>topic 44: cyndi lauper time cyndi's lauper's \"girls party company result \"true hot! waiting filler brother teenager</pre>"
      ],
      "text/plain": [
       "topic 44: cyndi lauper time cyndi's lauper's \"girls party company result \"true hot! waiting filler brother teenager"
      ]
     },
     "metadata": {},
     "output_type": "display_data"
    },
    {
     "data": {
      "text/html": [
       "<pre>topic 45: dido adele dido's land angel adele's faithless singing bond \"rolling \"see daughtry good. rent second,</pre>"
      ],
      "text/plain": [
       "topic 45: dido adele dido's land angel adele's faithless singing bond \"rolling \"see daughtry good. rent second,"
      ]
     },
     "metadata": {},
     "output_type": "display_data"
    },
    {
     "data": {
      "text/html": [
       "<pre>topic 46: big love outkast andre hip-hop boi hey day kelis boi's double 3000 innovative lives outkast's</pre>"
      ],
      "text/plain": [
       "topic 46: big love outkast andre hip-hop boi hey day kelis boi's double 3000 innovative lives outkast's"
      ]
     },
     "metadata": {},
     "output_type": "display_data"
    },
    {
     "data": {
      "text/html": [
       "<pre>topic 47: yeah karen carpenters richard carpenter karen's work. yeahs deny one. lacks run fire, possibly fever</pre>"
      ],
      "text/plain": [
       "topic 47: yeah karen carpenters richard carpenter karen's work. yeahs deny one. lacks run fire, possibly fever"
      ]
     },
     "metadata": {},
     "output_type": "display_data"
    },
    {
     "data": {
      "text/html": [
       "<pre>topic 48: fleet foxes years. awesome release. (with (very found boring, alot portishead would. attitude bunch sharp</pre>"
      ],
      "text/plain": [
       "topic 48: fleet foxes years. awesome release. (with (very found boring, alot portishead would. attitude bunch sharp"
      ]
     },
     "metadata": {},
     "output_type": "display_data"
    },
    {
     "data": {
      "text/html": [
       "<pre>topic 49: van great rock halen alanis album eddie david lee hard dave classic roth morissette bad</pre>"
      ],
      "text/plain": [
       "topic 49: van great rock halen alanis album eddie david lee hard dave classic roth morissette bad"
      ]
     },
     "metadata": {},
     "output_type": "display_data"
    },
    {
     "data": {
      "text/html": [
       "<pre>topic 50: album good songs great it's don't album. good. you'll weezer pretty favorite solid cher album,</pre>"
      ],
      "text/plain": [
       "topic 50: album good songs great it's don't album. good. you'll weezer pretty favorite solid cher album,"
      ]
     },
     "metadata": {},
     "output_type": "display_data"
    },
    {
     "data": {
      "text/html": [
       "<pre>topic 51: song it's album great good songs - track love song. album. song, lyrics don't sounds</pre>"
      ],
      "text/plain": [
       "topic 51: song it's album great good songs - track love song. album. song, lyrics don't sounds"
      ]
     },
     "metadata": {},
     "output_type": "display_data"
    },
    {
     "data": {
      "text/html": [
       "<pre>topic 52: thumbs up, cd here's new, word: it! song alive highlights: bet matter: hour case dull,</pre>"
      ],
      "text/plain": [
       "topic 52: thumbs up, cd here's new, word: it! song alive highlights: bet matter: hour case dull,"
      ]
     },
     "metadata": {},
     "output_type": "display_data"
    },
    {
     "data": {
      "text/html": [
       "<pre>topic 53: blues great rock guitar songs robert eric jeff playing love classic play blues, clapton led</pre>"
      ],
      "text/plain": [
       "topic 53: blues great rock guitar songs robert eric jeff playing love classic play blues, clapton led"
      ]
     },
     "metadata": {},
     "output_type": "display_data"
    },
    {
     "data": {
      "text/html": [
       "<pre>topic 54: sheryl crow montreal barnes crow's false kevin disappoint. pop too. cool joy wanna recommend sheryl's</pre>"
      ],
      "text/plain": [
       "topic 54: sheryl crow montreal barnes crow's false kevin disappoint. pop too. cool joy wanna recommend sheryl's"
      ]
     },
     "metadata": {},
     "output_type": "display_data"
    },
    {
     "data": {
      "text/html": [
       "<pre>topic 55: tori cat amos tori's albums stevens piano walk boys choirgirl stuff \"little track cover pink</pre>"
      ],
      "text/plain": [
       "topic 55: tori cat amos tori's albums stevens piano walk boys choirgirl stuff \"little track cover pink"
      ]
     },
     "metadata": {},
     "output_type": "display_data"
    },
    {
     "data": {
      "text/html": [
       "<pre>topic 56: add fun time straight lots talent gets. damn did, cute vocals, recognize finger cd. good,</pre>"
      ],
      "text/plain": [
       "topic 56: add fun time straight lots talent gets. damn did, cute vocals, recognize finger cd. good,"
      ]
     },
     "metadata": {},
     "output_type": "display_data"
    },
    {
     "data": {
      "text/html": [
       "<pre>topic 57: bon jovi jon iver forever justin force back, jovi's expecting deserves vernon's add you'll emma,</pre>"
      ],
      "text/plain": [
       "topic 57: bon jovi jon iver forever justin force back, jovi's expecting deserves vernon's add you'll emma,"
      ]
     },
     "metadata": {},
     "output_type": "display_data"
    },
    {
     "data": {
      "text/html": [
       "<pre>topic 58: radiohead thom king clay yorke ruben kid radiohead's yorke's electronic computer radiohead, talent peace more.</pre>"
      ],
      "text/plain": [
       "topic 58: radiohead thom king clay yorke ruben kid radiohead's yorke's electronic computer radiohead, talent peace more."
      ]
     },
     "metadata": {},
     "output_type": "display_data"
    },
    {
     "data": {
      "text/html": [
       "<pre>topic 59: jazz music great playing miles musicians recording work solo blue recorded free group jazz, albums</pre>"
      ],
      "text/plain": [
       "topic 59: jazz music great playing miles musicians recording work solo blue recorded free group jazz, albums"
      ]
     },
     "metadata": {},
     "output_type": "display_data"
    },
    {
     "data": {
      "text/html": [
       "<pre>topic 60: stay point underrated better, songs: slick doesn't efforts go. that's &lt; \"fire acts best. mary</pre>"
      ],
      "text/plain": [
       "topic 60: stay point underrated better, songs: slick doesn't efforts go. that's &lt; \"fire acts best. mary"
      ]
     },
     "metadata": {},
     "output_type": "display_data"
    },
    {
     "data": {
      "text/html": [
       "<pre>topic 61: hot billboard u.s. 100 top adult # easy minutes weeks charts magazine listen chart 200</pre>"
      ],
      "text/plain": [
       "topic 61: hot billboard u.s. 100 top adult # easy minutes weeks charts magazine listen chart 200"
      ]
     },
     "metadata": {},
     "output_type": "display_data"
    },
    {
     "data": {
      "text/html": [
       "<pre>topic 62: dan steely fagen royal dan's katy donald becker walter perry b-52's fred keith fogelberg lose</pre>"
      ],
      "text/plain": [
       "topic 62: dan steely fagen royal dan's katy donald becker walter perry b-52's fred keith fogelberg lose"
      ]
     },
     "metadata": {},
     "output_type": "display_data"
    },
    {
     "data": {
      "text/html": [
       "<pre>topic 63: bone mariah whitney carey thugs abba mariah's 1999 group love houston krayzie strong eternal baby</pre>"
      ],
      "text/plain": [
       "topic 63: bone mariah whitney carey thugs abba mariah's 1999 group love houston krayzie strong eternal baby"
      ]
     },
     "metadata": {},
     "output_type": "display_data"
    },
    {
     "data": {
      "text/html": [
       "<pre>topic 64: worth instant songs. orbital album, turned couple triumph follow ' young little. means. sex listen</pre>"
      ],
      "text/plain": [
       "topic 64: worth instant songs. orbital album, turned couple triumph follow ' young little. means. sex listen"
      ]
     },
     "metadata": {},
     "output_type": "display_data"
    },
    {
     "data": {
      "text/html": [
       "<pre>topic 65: out. late voice year. stuff talk fire pimps retro moments app enjoyable absolute fast harmonies</pre>"
      ],
      "text/plain": [
       "topic 65: out. late voice year. stuff talk fire pimps retro moments app enjoyable absolute fast harmonies"
      ]
     },
     "metadata": {},
     "output_type": "display_data"
    },
    {
     "data": {
      "text/html": [
       "<pre>topic 66: funk great love p-funk parliament band clinton george connection bootsy mothership gotta classics 'in dream</pre>"
      ],
      "text/plain": [
       "topic 66: funk great love p-funk parliament band clinton george connection bootsy mothership gotta classics 'in dream"
      ]
     },
     "metadata": {},
     "output_type": "display_data"
    },
    {
     "data": {
      "text/html": [
       "<pre>topic 67: nick drake drake's leaves jamiroquai jay pink moon \"pink nick's kay jane duncan bryter interesting</pre>"
      ],
      "text/plain": [
       "topic 67: nick drake drake's leaves jamiroquai jay pink moon \"pink nick's kay jane duncan bryter interesting"
      ]
     },
     "metadata": {},
     "output_type": "display_data"
    },
    {
     "data": {
      "text/html": [
       "<pre>topic 68: michael album jackson bad pop music can't elvis jackson's stop make song dance costello michael's</pre>"
      ],
      "text/plain": [
       "topic 68: michael album jackson bad pop music can't elvis jackson's stop make song dance costello michael's"
      ]
     },
     "metadata": {},
     "output_type": "display_data"
    },
    {
     "data": {
      "text/html": [
       "<pre>topic 69: album rap 50 eminem hip beats hop good he's lyrics real dre dont people game</pre>"
      ],
      "text/plain": [
       "topic 69: album rap 50 eminem hip beats hop good he's lyrics real dre dont people game"
      ]
     },
     "metadata": {},
     "output_type": "display_data"
    },
    {
     "data": {
      "text/html": [
       "<pre>topic 70: great devo cd freedom member leave devo's reasonable fault lovett stand best, chief it, \"whip</pre>"
      ],
      "text/plain": [
       "topic 70: great devo cd freedom member leave devo's reasonable fault lovett stand best, chief it, \"whip"
      ]
     },
     "metadata": {},
     "output_type": "display_data"
    },
    {
     "data": {
      "text/html": [
       "<pre>topic 71: album song great dance love madonna songs alice it's pop single album, back time track</pre>"
      ],
      "text/plain": [
       "topic 71: album song great dance love madonna songs alice it's pop single album, back time track"
      ]
     },
     "metadata": {},
     "output_type": "display_data"
    },
    {
     "data": {
      "text/html": [
       "<pre>topic 72: cypress hill liz don't phair album you'll band. critics tunes effort. pop choice. sen &</pre>"
      ],
      "text/plain": [
       "topic 72: cypress hill liz don't phair album you'll band. critics tunes effort. pop choice. sen &"
      ]
     },
     "metadata": {},
     "output_type": "display_data"
    },
    {
     "data": {
      "text/html": [
       "<pre>topic 73: prince album funk prince's movie funky songs soundtrack worth purple world sign wanna music o'</pre>"
      ],
      "text/plain": [
       "topic 73: prince album funk prince's movie funky songs soundtrack worth purple world sign wanna music o'"
      ]
     },
     "metadata": {},
     "output_type": "display_data"
    },
    {
     "data": {
      "text/html": [
       "<pre>topic 74: bob dylan great mars dylan's belle blood songs sebastian album. boy volta one. you're dylan,</pre>"
      ],
      "text/plain": [
       "topic 74: bob dylan great mars dylan's belle blood songs sebastian album. boy volta one. you're dylan,"
      ]
     },
     "metadata": {},
     "output_type": "display_data"
    },
    {
     "data": {
      "text/html": [
       "<pre>topic 75: music. level piece shows find vinyl. writing. group back spot house, do, point. tells offer.</pre>"
      ],
      "text/plain": [
       "topic 75: music. level piece shows find vinyl. writing. group back spot house, do, point. tells offer."
      ]
     },
     "metadata": {},
     "output_type": "display_data"
    },
    {
     "data": {
      "text/html": [
       "<pre>topic 76: praise cd this. party worthwhile christian hell. again. call group's ears. carries hear. jams downloaded</pre>"
      ],
      "text/plain": [
       "topic 76: praise cd this. party worthwhile christian hell. again. call group's ears. carries hear. jams downloaded"
      ]
     },
     "metadata": {},
     "output_type": "display_data"
    },
    {
     "data": {
      "text/html": [
       "<pre>topic 77: album pixies kim frank head can't francis black pixies, breeders songs. listen recommend i'm 2nd</pre>"
      ],
      "text/plain": [
       "topic 77: album pixies kim frank head can't francis black pixies, breeders songs. listen recommend i'm 2nd"
      ]
     },
     "metadata": {},
     "output_type": "display_data"
    },
    {
     "data": {
      "text/html": [
       "<pre>topic 78: album songs album. great albums album, tracks good highly favorite fan time recommend worth track</pre>"
      ],
      "text/plain": [
       "topic 78: album songs album. great albums album, tracks good highly favorite fan time recommend worth track"
      ]
     },
     "metadata": {},
     "output_type": "display_data"
    },
    {
     "data": {
      "text/html": [
       "<pre>topic 79: good better. people. hurt .. eyes touch records. captures feel sell everyone's record. it. earned</pre>"
      ],
      "text/plain": [
       "topic 79: good better. people. hurt .. eyes touch records. captures feel sell everyone's record. it. earned"
      ]
     },
     "metadata": {},
     "output_type": "display_data"
    },
    {
     "data": {
      "text/html": [
       "<pre>topic 80: la de los rage tom en el lo yo le battle ratm lobos del machine</pre>"
      ],
      "text/plain": [
       "topic 80: la de los rage tom en el lo yo le battle ratm lobos del machine"
      ]
     },
     "metadata": {},
     "output_type": "display_data"
    },
    {
     "data": {
      "text/html": [
       "<pre>topic 81: buy albums feeling find yet. answer superior club carry wrong enjoyable. boys, project. reggae extra</pre>"
      ],
      "text/plain": [
       "topic 81: buy albums feeling find yet. answer superior club carry wrong enjoyable. boys, project. reggae extra"
      ]
     },
     "metadata": {},
     "output_type": "display_data"
    },
    {
     "data": {
      "text/html": [
       "<pre>topic 82: beginning black coughing music. gas enjoyable fine of. dare guy this, shooting irresistible combined vicious</pre>"
      ],
      "text/plain": [
       "topic 82: beginning black coughing music. gas enjoyable fine of. dare guy this, shooting irresistible combined vicious"
      ]
     },
     "metadata": {},
     "output_type": "display_data"
    },
    {
     "data": {
      "text/html": [
       "<pre>topic 83: songs hits greatest collection cd disc albums tracks set compilation fans fan hendrix hit songs,</pre>"
      ],
      "text/plain": [
       "topic 83: songs hits greatest collection cd disc albums tracks set compilation fans fan hendrix hit songs,"
      ]
     },
     "metadata": {},
     "output_type": "display_data"
    },
    {
     "data": {
      "text/html": [
       "<pre>topic 84: album wu beats wu-tang album. rza ghostface production classic ghost tang arctic monkeys gza 36</pre>"
      ],
      "text/plain": [
       "topic 84: album wu beats wu-tang album. rza ghostface production classic ghost tang arctic monkeys gza 36"
      ]
     },
     "metadata": {},
     "output_type": "display_data"
    },
    {
     "data": {
      "text/html": [
       "<pre>topic 85: album song songs hit & \"the elton released john time top pop \"i albums great</pre>"
      ],
      "text/plain": [
       "topic 85: album song songs hit & \"the elton released john time top pop \"i albums great"
      ]
     },
     "metadata": {},
     "output_type": "display_data"
    },
    {
     "data": {
      "text/html": [
       "<pre>topic 86: band rock album guitar sound bands it's hard songs music albums band's heavy album, time</pre>"
      ],
      "text/plain": [
       "topic 86: band rock album guitar sound bands it's hard songs music albums band's heavy album, time"
      ]
     },
     "metadata": {},
     "output_type": "display_data"
    },
    {
     "data": {
      "text/html": [
       "<pre>topic 87: jewel jones norah cd music pop country love she's spirit debut michelle vanessa jewel's dolly</pre>"
      ],
      "text/plain": [
       "topic 87: jewel jones norah cd music pop country love she's spirit debut michelle vanessa jewel's dolly"
      ]
     },
     "metadata": {},
     "output_type": "display_data"
    },
    {
     "data": {
      "text/html": [
       "<pre>topic 88: great duran stevie fleetwood songs annie mac eurythmics pop dreams nicks christine buckingham lennox lindsey</pre>"
      ],
      "text/plain": [
       "topic 88: great duran stevie fleetwood songs annie mac eurythmics pop dreams nicks christine buckingham lennox lindsey"
      ]
     },
     "metadata": {},
     "output_type": "display_data"
    },
    {
     "data": {
      "text/html": [
       "<pre>topic 89: music 90s great first. skills played pity show tough huge good. lots (not times tunes</pre>"
      ],
      "text/plain": [
       "topic 89: music 90s great first. skills played pity show tough huge good. lots (not times tunes"
      ]
     },
     "metadata": {},
     "output_type": "display_data"
    },
    {
     "data": {
      "text/html": [
       "<pre>topic 90: great artist. happy cup fine blind strongest tracks: cd! spanish wrong. also, better. 100% wow,</pre>"
      ],
      "text/plain": [
       "topic 90: great artist. happy cup fine blind strongest tracks: cd! spanish wrong. also, better. 100% wow,"
      ]
     },
     "metadata": {},
     "output_type": "display_data"
    },
    {
     "data": {
      "text/html": [
       "<pre>topic 91: super theory broke back clean adore button time! night works material site hit versatility great</pre>"
      ],
      "text/plain": [
       "topic 91: super theory broke back clean adore button time! night works material site hit versatility great"
      ]
     },
     "metadata": {},
     "output_type": "display_data"
    },
    {
     "data": {
      "text/html": [
       "<pre>topic 92: group perfect melodies. year. giving joy guys good remaining listen smith hope grand songs: cd</pre>"
      ],
      "text/plain": [
       "topic 92: group perfect melodies. year. giving joy guys good remaining listen smith hope grand songs: cd"
      ]
     },
     "metadata": {},
     "output_type": "display_data"
    },
    {
     "data": {
      "text/html": [
       "<pre>topic 93: can't isn't stuff perfect, typical far. style nice album, ok, hype kick overall, music! songs</pre>"
      ],
      "text/plain": [
       "topic 93: can't isn't stuff perfect, typical far. style nice album, ok, hype kick overall, music! songs"
      ]
     },
     "metadata": {},
     "output_type": "display_data"
    },
    {
     "data": {
      "text/html": [
       "<pre>topic 94: morning incubus view pick brandon can't again. \"morning boyd view, intelligent stand last. cool. crow</pre>"
      ],
      "text/plain": [
       "topic 94: morning incubus view pick brandon can't again. \"morning boyd view, intelligent stand last. cool. crow"
      ]
     },
     "metadata": {},
     "output_type": "display_data"
    },
    {
     "data": {
      "text/html": [
       "<pre>topic 95: hot red album sex funky chili peppers sugar album. funk rob blood john classic meat</pre>"
      ],
      "text/plain": [
       "topic 95: hot red album sex funky chili peppers sugar album. funk rob blood john classic meat"
      ]
     },
     "metadata": {},
     "output_type": "display_data"
    },
    {
     "data": {
      "text/html": [
       "<pre>topic 96: cash johnny man american country cash's black rick ain't prison recordings can't waylon kris cover</pre>"
      ],
      "text/plain": [
       "topic 96: cash johnny man american country cash's black rick ain't prison recordings can't waylon kris cover"
      ]
     },
     "metadata": {},
     "output_type": "display_data"
    },
    {
     "data": {
      "text/html": [
       "<pre>topic 97: - version album original live tracks sound bonus disc great release versions released quality track</pre>"
      ],
      "text/plain": [
       "topic 97: - version album original live tracks sound bonus disc great release versions released quality track"
      ]
     },
     "metadata": {},
     "output_type": "display_data"
    },
    {
     "data": {
      "text/html": [
       "<pre>topic 98: album they're songs. long gave it's earth negative cool, hasn't brilliant, 1996 people's road best.</pre>"
      ],
      "text/plain": [
       "topic 98: album they're songs. long gave it's earth negative cool, hasn't brilliant, 1996 people's road best."
      ]
     },
     "metadata": {},
     "output_type": "display_data"
    },
    {
     "data": {
      "text/html": [
       "<pre>topic 99: sounds boys beach brian pet wilson toni songs smashing love beatles pumpkins braxton time. back</pre>"
      ],
      "text/plain": [
       "topic 99: sounds boys beach brian pet wilson toni songs smashing love beatles pumpkins braxton time. back"
      ]
     },
     "metadata": {},
     "output_type": "display_data"
    },
    {
     "data": {
      "text/html": [
       "<pre>| 110       | 4m 38s        | 2.48388e+006   | 16323.3         |</pre>"
      ],
      "text/plain": [
       "| 110       | 4m 38s        | 2.48388e+006   | 16323.3         |"
      ]
     },
     "metadata": {},
     "output_type": "display_data"
    },
    {
     "data": {
      "text/html": [
       "<pre>topic 0: &amp; &quot;the album songs &quot;i me&quot; you&quot; pop &quot;you love&quot; r&amp;b title hit &quot;don't &quot;my</pre>"
      ],
      "text/plain": [
       "topic 0: &amp; &quot;the album songs &quot;i me&quot; you&quot; pop &quot;you love&quot; r&amp;b title hit &quot;don't &quot;my"
      ]
     },
     "metadata": {},
     "output_type": "display_data"
    },
    {
     "data": {
      "text/html": [
       "<pre>topic 1: bed strong bad won't all. gift group. love, lacked magic style. live helped secrets yellow</pre>"
      ],
      "text/plain": [
       "topic 1: bed strong bad won't all. gift group. love, lacked magic style. live helped secrets yellow"
      ]
     },
     "metadata": {},
     "output_type": "display_data"
    },
    {
     "data": {
      "text/html": [
       "<pre>topic 2: lenny kravitz blondie dark opinion again. demi enjoyable well, late love pop album cool talent.</pre>"
      ],
      "text/plain": [
       "topic 2: lenny kravitz blondie dark opinion again. demi enjoyable well, late love pop album cool talent."
      ]
     },
     "metadata": {},
     "output_type": "display_data"
    },
    {
     "data": {
      "text/html": [
       "<pre>topic 3: album lyrics pass great nalick day\" anna me, shake left foot nalick's grade over, one.</pre>"
      ],
      "text/plain": [
       "topic 3: album lyrics pass great nalick day\" anna me, shake left foot nalick's grade over, one."
      ]
     },
     "metadata": {},
     "output_type": "display_data"
    },
    {
     "data": {
      "text/html": [
       "<pre>topic 4: it's album don't i'm songs good that's doesn't people isn't can't album, you're it. there's</pre>"
      ],
      "text/plain": [
       "topic 4: it's album don't i'm songs good that's doesn't people isn't can't album, you're it. there's"
      ]
     },
     "metadata": {},
     "output_type": "display_data"
    },
    {
     "data": {
      "text/html": [
       "<pre>topic 5: paul simon mccartney & solo beatles simon's carly bee mccartney's paul's garfunkel troubled art wings</pre>"
      ],
      "text/plain": [
       "topic 5: paul simon mccartney & solo beatles simon's carly bee mccartney's paul's garfunkel troubled art wings"
      ]
     },
     "metadata": {},
     "output_type": "display_data"
    },
    {
     "data": {
      "text/html": [
       "<pre>topic 6: lips flaming great soft wayne pink lips, major straight battles set add stuff yoshimi supposed</pre>"
      ],
      "text/plain": [
       "topic 6: lips flaming great soft wayne pink lips, major straight battles set add stuff yoshimi supposed"
      ]
     },
     "metadata": {},
     "output_type": "display_data"
    },
    {
     "data": {
      "text/html": [
       "<pre>topic 7: great piece work. production nonetheless, failed band, lazy chemistry band! kick road steve (such middle</pre>"
      ],
      "text/plain": [
       "topic 7: great piece work. production nonetheless, failed band, lazy chemistry band! kick road steve (such middle"
      ]
     },
     "metadata": {},
     "output_type": "display_data"
    },
    {
     "data": {
      "text/html": [
       "<pre>topic 8: it's have. cd music bells written, martin innocent lost move result liars mama line album...</pre>"
      ],
      "text/plain": [
       "topic 8: it's have. cd music bells written, martin innocent lost move result liars mama line album..."
      ]
     },
     "metadata": {},
     "output_type": "display_data"
    },
    {
     "data": {
      "text/html": [
       "<pre>topic 9: punk daft done, punk's definately discovery tracks, basement french = brought mellow albums. best! ep,</pre>"
      ],
      "text/plain": [
       "topic 9: punk daft done, punk's definately discovery tracks, basement french = brought mellow albums. best! ep,"
      ]
     },
     "metadata": {},
     "output_type": "display_data"
    },
    {
     "data": {
      "text/html": [
       "<pre>topic 10: buy classic. stands (with days new. tight own. effort this. nowadays lyrics remember god time</pre>"
      ],
      "text/plain": [
       "topic 10: buy classic. stands (with days new. tight own. effort this. nowadays lyrics remember god time"
      ]
     },
     "metadata": {},
     "output_type": "display_data"
    },
    {
     "data": {
      "text/html": [
       "<pre>topic 11: joni cars mitchell joni's mitchell's ric court ocasek summer cars, friend's strawbs you're orr cars'</pre>"
      ],
      "text/plain": [
       "topic 11: joni cars mitchell joni's mitchell's ric court ocasek summer cars, friend's strawbs you're orr cars'"
      ]
     },
     "metadata": {},
     "output_type": "display_data"
    },
    {
     "data": {
      "text/html": [
       "<pre>topic 12: it. rest finally product type collection. money sell ride cry flowing tight suck out, peace</pre>"
      ],
      "text/plain": [
       "topic 12: it. rest finally product type collection. money sell ride cry flowing tight suck out, peace"
      ]
     },
     "metadata": {},
     "output_type": "display_data"
    },
    {
     "data": {
      "text/html": [
       "<pre>topic 13: stuff have. play primal crowd \"true longer before. ahead point album. disk gets. fans great,</pre>"
      ],
      "text/plain": [
       "topic 13: stuff have. play primal crowd \"true longer before. ahead point album. disk gets. fans great,"
      ]
     },
     "metadata": {},
     "output_type": "display_data"
    },
    {
     "data": {
      "text/html": [
       "<pre>topic 14: music time back years people music. listen listening record heard make hear made day radio</pre>"
      ],
      "text/plain": [
       "topic 14: music time back years people music. listen listening record heard make hear made day radio"
      ]
     },
     "metadata": {},
     "output_type": "display_data"
    },
    {
     "data": {
      "text/html": [
       "<pre>topic 15: - album & track good song beat production tracks -- rap featuring beats 2 great</pre>"
      ],
      "text/plain": [
       "topic 15: - album & track good song beat production tracks -- rap featuring beats 2 great"
      ]
     },
     "metadata": {},
     "output_type": "display_data"
    },
    {
     "data": {
      "text/html": [
       "<pre>topic 16: awesome fall songs: over. daughtry melodies lot pass effort originally par system, means. degrees \"new</pre>"
      ],
      "text/plain": [
       "topic 16: awesome fall songs: over. daughtry melodies lot pass effort originally par system, means. degrees \"new"
      ]
     },
     "metadata": {},
     "output_type": "display_data"
    },
    {
     "data": {
      "text/html": [
       "<pre>topic 17: bit work masterpiece. imo, 40 change foot creative tight, entire dance. time don't poetry turn</pre>"
      ],
      "text/plain": [
       "topic 17: bit work masterpiece. imo, 40 change foot creative tight, entire dance. time don't poetry turn"
      ]
     },
     "metadata": {},
     "output_type": "display_data"
    },
    {
     "data": {
      "text/html": [
       "<pre>topic 18: worth add added remake material. wrong out, best. approach around, found 16 admit listened cross</pre>"
      ],
      "text/plain": [
       "topic 18: worth add added remake material. wrong out, best. approach around, found 16 admit listened cross"
      ]
     },
     "metadata": {},
     "output_type": "display_data"
    },
    {
     "data": {
      "text/html": [
       "<pre>topic 19: phil album eagles collins solo long great don can't genesis album. steve don't easy peter</pre>"
      ],
      "text/plain": [
       "topic 19: phil album eagles collins solo long great don can't genesis album. steve don't easy peter"
      ]
     },
     "metadata": {},
     "output_type": "display_data"
    },
    {
     "data": {
      "text/html": [
       "<pre>topic 20: pure body superb lot effort. lacks things lp system skinner great strong balance number park</pre>"
      ],
      "text/plain": [
       "topic 20: pure body superb lot effort. lacks things lp system skinner great strong balance number park"
      ]
     },
     "metadata": {},
     "output_type": "display_data"
    },
    {
     "data": {
      "text/html": [
       "<pre>topic 21: highly tracks :) tunes heard that's talented it. originality still, eventually here, drop favorite mellencamp</pre>"
      ],
      "text/plain": [
       "topic 21: highly tracks :) tunes heard that's talented it. originality still, eventually here, drop favorite mellencamp"
      ]
     },
     "metadata": {},
     "output_type": "display_data"
    },
    {
     "data": {
      "text/html": [
       "<pre>topic 22: cd good 5 stars 4 2 3 give star buy stars. dont worth gave 1</pre>"
      ],
      "text/plain": [
       "topic 22: cd good 5 stars 4 2 3 give star buy stars. dont worth gave 1"
      ]
     },
     "metadata": {},
     "output_type": "display_data"
    },
    {
     "data": {
      "text/html": [
       "<pre>topic 23: - alison bluegrass krauss no. plant cd chris tweet [see nickel robert union sara sand</pre>"
      ],
      "text/plain": [
       "topic 23: - alison bluegrass krauss no. plant cd chris tweet [see nickel robert union sara sand"
      ]
     },
     "metadata": {},
     "output_type": "display_data"
    },
    {
     "data": {
      "text/html": [
       "<pre>topic 24: ... * / style. normal likes about. 100% too! fan. suit gangnam period. overall: moment\"</pre>"
      ],
      "text/plain": [
       "topic 24: ... * / style. normal likes about. 100% too! fan. suit gangnam period. overall: moment\""
      ]
     },
     "metadata": {},
     "output_type": "display_data"
    },
    {
     "data": {
      "text/html": [
       "<pre>topic 25: years listen did. stuff. can't talent. it. ever! who's world similar mtv. tunes misses things.</pre>"
      ],
      "text/plain": [
       "topic 25: years listen did. stuff. can't talent. it. ever! who's world similar mtv. tunes misses things."
      ]
     },
     "metadata": {},
     "output_type": "display_data"
    },
    {
     "data": {
      "text/html": [
       "<pre>topic 26: white jack stripes lady blood gaga cold meg boy white's don't great dead \"born gonna</pre>"
      ],
      "text/plain": [
       "topic 26: white jack stripes lady blood gaga cold meg boy white's don't great dead \"born gonna"
      ]
     },
     "metadata": {},
     "output_type": "display_data"
    },
    {
     "data": {
      "text/html": [
       "<pre>topic 27: . , \" ( &quot; ! ) danger mouse an' modest : ? .. gnarls</pre>"
      ],
      "text/plain": [
       "topic 27: . , \" ( &quot; ! ) danger mouse an' modest : ? .. gnarls"
      ]
     },
     "metadata": {},
     "output_type": "display_data"
    },
    {
     "data": {
      "text/html": [
       "<pre>topic 28: wanted bt buy you'll 70's hell mtv thrown multiple clever favourite king gets. artists alike.</pre>"
      ],
      "text/plain": [
       "topic 28: wanted bt buy you'll 70's hell mtv thrown multiple clever favourite king gets. artists alike."
      ]
     },
     "metadata": {},
     "output_type": "display_data"
    },
    {
     "data": {
      "text/html": [
       "<pre>topic 29: group music crafted hurt good generic one. everyday night portishead earth tired copy. dealing star.</pre>"
      ],
      "text/plain": [
       "topic 29: group music crafted hurt good generic one. everyday night portishead earth tired copy. dealing star."
      ]
     },
     "metadata": {},
     "output_type": "display_data"
    },
    {
     "data": {
      "text/html": [
       "<pre>topic 30: ben great folds les del primus finest lana add music, rock debut. favourite \"video rey</pre>"
      ],
      "text/plain": [
       "topic 30: ben great folds les del primus finest lana add music, rock debut. favourite \"video rey"
      ]
     },
     "metadata": {},
     "output_type": "display_data"
    },
    {
     "data": {
      "text/html": [
       "<pre>topic 31: mary j. blige amy keys alicia mary's winehouse duffy diary sample queen breakthrough 60's ain't</pre>"
      ],
      "text/plain": [
       "topic 31: mary j. blige amy keys alicia mary's winehouse duffy diary sample queen breakthrough 60's ain't"
      ]
     },
     "metadata": {},
     "output_type": "display_data"
    },
    {
     "data": {
      "text/html": [
       "<pre>topic 32: guys here. check effort. cuts entire desert rank buy great, case, album. suzanne definite it)</pre>"
      ],
      "text/plain": [
       "topic 32: guys here. check effort. cuts entire desert rank buy great, case, album. suzanne definite it)"
      ]
     },
     "metadata": {},
     "output_type": "display_data"
    },
    {
     "data": {
      "text/html": [
       "<pre>topic 33: great style driving pleasant music. contributions lp speak put forgotten bit school expected. confused wasn't</pre>"
      ],
      "text/plain": [
       "topic 33: great style driving pleasant music. contributions lp speak put forgotten bit school expected. confused wasn't"
      ]
     },
     "metadata": {},
     "output_type": "display_data"
    },
    {
     "data": {
      "text/html": [
       "<pre>topic 34: love voice soul music she's album cd debut artist artists singing soulful real singer girl</pre>"
      ],
      "text/plain": [
       "topic 34: love voice soul music she's album cd debut artist artists singing soulful real singer girl"
      ]
     },
     "metadata": {},
     "output_type": "display_data"
    },
    {
     "data": {
      "text/html": [
       "<pre>topic 35: classic, strong lyrics good. effort. days sing i'll history. forget main satisfying others, much, school</pre>"
      ],
      "text/plain": [
       "topic 35: classic, strong lyrics good. effort. days sing i'll history. forget main satisfying others, much, school"
      ]
     },
     "metadata": {},
     "output_type": "display_data"
    },
    {
     "data": {
      "text/html": [
       "<pre>topic 36: great one! continues years trip desert flawless purchasing fan. effort. fill grab producer, songs, knock</pre>"
      ],
      "text/plain": [
       "topic 36: great one! continues years trip desert flawless purchasing fan. effort. fill grab producer, songs, knock"
      ]
     },
     "metadata": {},
     "output_type": "display_data"
    },
    {
     "data": {
      "text/html": [
       "<pre>topic 37: mark dire knopfler straits knopfler's emmylou lyrics nothing\" brings arms\" \"brothers touch mediocre grew flame</pre>"
      ],
      "text/plain": [
       "topic 37: mark dire knopfler straits knopfler's emmylou lyrics nothing\" brings arms\" \"brothers touch mediocre grew flame"
      ]
     },
     "metadata": {},
     "output_type": "display_data"
    },
    {
     "data": {
      "text/html": [
       "<pre>topic 38: gordon it's lightfoot nina year. veruca gordon's lightfoot's best, 3rd death current disc. album. others,</pre>"
      ],
      "text/plain": [
       "topic 38: gordon it's lightfoot nina year. veruca gordon's lightfoot's best, 3rd death current disc. album. others,"
      ]
     },
     "metadata": {},
     "output_type": "display_data"
    },
    {
     "data": {
      "text/html": [
       "<pre>topic 39: album it's music song lyrics sound musical track - vocal vocals pop work beautiful guitar</pre>"
      ],
      "text/plain": [
       "topic 39: album it's music song lyrics sound musical track - vocal vocals pop work beautiful guitar"
      ]
     },
     "metadata": {},
     "output_type": "display_data"
    },
    {
     "data": {
      "text/html": [
       "<pre>topic 40: kelly r. 12 time one. kelly's good aaliyah fall kelly, chocolate clarkson woman's writing overall,</pre>"
      ],
      "text/plain": [
       "topic 40: kelly r. 12 time one. kelly's good aaliyah fall kelly, chocolate clarkson woman's writing overall,"
      ]
     },
     "metadata": {},
     "output_type": "display_data"
    },
    {
     "data": {
      "text/html": [
       "<pre>topic 41: cd songs cd. song love heard good music listen it. cd, bought buy favorite great</pre>"
      ],
      "text/plain": [
       "topic 41: cd songs cd. song love heard good music listen it. cd, bought buy favorite great"
      ]
     },
     "metadata": {},
     "output_type": "display_data"
    },
    {
     "data": {
      "text/html": [
       "<pre>topic 42: nelly furtado doubt gwen push ska loose sublime god's nelly's fresh furtado's tragic trick reggae,</pre>"
      ],
      "text/plain": [
       "topic 42: nelly furtado doubt gwen push ska loose sublime god's nelly's fresh furtado's tragic trick reggae,"
      ]
     },
     "metadata": {},
     "output_type": "display_data"
    },
    {
     "data": {
      "text/html": [
       "<pre>topic 43: gang guru album starr kool moment enjoy call advice monotone moody premier record. guru's step</pre>"
      ],
      "text/plain": [
       "topic 43: gang guru album starr kool moment enjoy call advice monotone moody premier record. guru's step"
      ]
     },
     "metadata": {},
     "output_type": "display_data"
    },
    {
     "data": {
      "text/html": [
       "<pre>topic 44: cyndi lauper cyndi's lauper's colors music. fun amazing, \"girls sisters group. examples house writes shake</pre>"
      ],
      "text/plain": [
       "topic 44: cyndi lauper cyndi's lauper's colors music. fun amazing, \"girls sisters group. examples house writes shake"
      ]
     },
     "metadata": {},
     "output_type": "display_data"
    },
    {
     "data": {
      "text/html": [
       "<pre>topic 45: dido adele dido's land bond angel faithless adele's man unique sound \"rolling sound, \"thank dido,</pre>"
      ],
      "text/plain": [
       "topic 45: dido adele dido's land bond angel faithless adele's man unique sound \"rolling sound, \"thank dido,"
      ]
     },
     "metadata": {},
     "output_type": "display_data"
    },
    {
     "data": {
      "text/html": [
       "<pre>topic 46: big love outkast andre hip-hop boi day listen straight kelis boi's hey 3000 outkast's killer</pre>"
      ],
      "text/plain": [
       "topic 46: big love outkast andre hip-hop boi day listen straight kelis boi's hey 3000 outkast's killer"
      ]
     },
     "metadata": {},
     "output_type": "display_data"
    },
    {
     "data": {
      "text/html": [
       "<pre>topic 47: yeah karen carpenters carpenter richard karen's yeahs female days work. (4/5): listen. yyy's one. richard's</pre>"
      ],
      "text/plain": [
       "topic 47: yeah karen carpenters carpenter richard karen's yeahs female days work. (4/5): listen. yyy's one. richard's"
      ]
     },
     "metadata": {},
     "output_type": "display_data"
    },
    {
     "data": {
      "text/html": [
       "<pre>topic 48: fleet foxes sound years. can't samples riding awesome place full thought. judging ridiculous admire (i</pre>"
      ],
      "text/plain": [
       "topic 48: fleet foxes sound years. can't samples riding awesome place full thought. judging ridiculous admire (i"
      ]
     },
     "metadata": {},
     "output_type": "display_data"
    },
    {
     "data": {
      "text/html": [
       "<pre>topic 49: van album great alanis halen rock eddie david lee it's roth cover morissette halen's dave</pre>"
      ],
      "text/plain": [
       "topic 49: van album great alanis halen rock eddie david lee it's roth cover morissette halen's dave"
      ]
     },
     "metadata": {},
     "output_type": "display_data"
    },
    {
     "data": {
      "text/html": [
       "<pre>topic 50: album good great songs album. don't it's weezer good. fun cd cher worth ain't catchy</pre>"
      ],
      "text/plain": [
       "topic 50: album good great songs album. don't it's weezer good. fun cd cher worth ain't catchy"
      ]
     },
     "metadata": {},
     "output_type": "display_data"
    },
    {
     "data": {
      "text/html": [
       "<pre>topic 51: song it's great album good - songs love track song. album. song, lyrics nice sounds</pre>"
      ],
      "text/plain": [
       "topic 51: song it's great album good - songs love track song. album. song, lyrics nice sounds"
      ]
     },
     "metadata": {},
     "output_type": "display_data"
    },
    {
     "data": {
      "text/html": [
       "<pre>topic 52: thumbs here's cd word: worth though. highlights: matter: put great style. call relaxing it! generic</pre>"
      ],
      "text/plain": [
       "topic 52: thumbs here's cd word: worth though. highlights: matter: put great style. call relaxing it! generic"
      ]
     },
     "metadata": {},
     "output_type": "display_data"
    },
    {
     "data": {
      "text/html": [
       "<pre>topic 53: blues great guitar rock songs jeff robert eric playing blues, classic love clapton led guy</pre>"
      ],
      "text/plain": [
       "topic 53: blues great guitar rock songs jeff robert eric playing blues, classic love clapton led guy"
      ]
     },
     "metadata": {},
     "output_type": "display_data"
    },
    {
     "data": {
      "text/html": [
       "<pre>topic 54: sheryl crow pop montreal barnes wanna crow's kevin fans. las too. false sheryl's years. \"live</pre>"
      ],
      "text/plain": [
       "topic 54: sheryl crow pop montreal barnes wanna crow's kevin fans. las too. false sheryl's years. \"live"
      ]
     },
     "metadata": {},
     "output_type": "display_data"
    },
    {
     "data": {
      "text/html": [
       "<pre>topic 55: tori cat amos tori's albums stevens piano strange choirgirl songs \"little father amos' venus sorta</pre>"
      ],
      "text/plain": [
       "topic 55: tori cat amos tori's albums stevens piano strange choirgirl songs \"little father amos' venus sorta"
      ]
     },
     "metadata": {},
     "output_type": "display_data"
    },
    {
     "data": {
      "text/html": [
       "<pre>topic 56: amazing love best, now. replace music back song! cd. want. left sheer end. tight garbage</pre>"
      ],
      "text/plain": [
       "topic 56: amazing love best, now. replace music back song! cd. want. left sheer end. tight garbage"
      ]
     },
     "metadata": {},
     "output_type": "display_data"
    },
    {
     "data": {
      "text/html": [
       "<pre>topic 57: bon jovi jon forever justin iver real ever. music vernon's jovi's damien vernon collection. emma,</pre>"
      ],
      "text/plain": [
       "topic 57: bon jovi jon forever justin iver real ever. music vernon's jovi's damien vernon collection. emma,"
      ]
     },
     "metadata": {},
     "output_type": "display_data"
    },
    {
     "data": {
      "text/html": [
       "<pre>topic 58: radiohead thom clay yorke kid king ruben radiohead's yorke's computer style radiohead, peace clay's good</pre>"
      ],
      "text/plain": [
       "topic 58: radiohead thom clay yorke kid king ruben radiohead's yorke's computer style radiohead, peace clay's good"
      ]
     },
     "metadata": {},
     "output_type": "display_data"
    },
    {
     "data": {
      "text/html": [
       "<pre>topic 59: jazz playing great music miles work musicians recording recorded blue solo title john play jazz,</pre>"
      ],
      "text/plain": [
       "topic 59: jazz playing great music miles work musicians recording recorded blue solo title john play jazz,"
      ]
     },
     "metadata": {},
     "output_type": "display_data"
    },
    {
     "data": {
      "text/html": [
       "<pre>topic 60: record day titled thing perfect best. sounded heard. point loves lights man, had, provoking badly</pre>"
      ],
      "text/plain": [
       "topic 60: record day titled thing perfect best. sounded heard. point loves lights man, had, provoking badly"
      ]
     },
     "metadata": {},
     "output_type": "display_data"
    },
    {
     "data": {
      "text/html": [
       "<pre>topic 61: hot billboard u.s. top 100 listen # chart 40 adult easy weeks charts 200 reached</pre>"
      ],
      "text/plain": [
       "topic 61: hot billboard u.s. top 100 listen # chart 40 adult easy weeks charts 200 reached"
      ]
     },
     "metadata": {},
     "output_type": "display_data"
    },
    {
     "data": {
      "text/html": [
       "<pre>topic 62: dan steely fagen royal dan's becker donald katy play lose b-52's fred walter fogelberg perry</pre>"
      ],
      "text/plain": [
       "topic 62: dan steely fagen royal dan's becker donald katy play lose b-52's fred walter fogelberg perry"
      ]
     },
     "metadata": {},
     "output_type": "display_data"
    },
    {
     "data": {
      "text/html": [
       "<pre>topic 63: bone mariah love carey whitney thugs mariah's abba krayzie group 1999 houston eternal super baby</pre>"
      ],
      "text/plain": [
       "topic 63: bone mariah love carey whitney thugs mariah's abba krayzie group 1999 houston eternal super baby"
      ]
     },
     "metadata": {},
     "output_type": "display_data"
    },
    {
     "data": {
      "text/html": [
       "<pre>topic 64: / far, one. listen follow made rest path ' mercury great thing, you. grew you've</pre>"
      ],
      "text/plain": [
       "topic 64: / far, one. listen follow made rest path ' mercury great thing, you. grew you've"
      ]
     },
     "metadata": {},
     "output_type": "display_data"
    },
    {
     "data": {
      "text/html": [
       "<pre>topic 65: it's made. fast artistic wouldn't usual b-52s sick you. genius. best, ms treasure falling sly</pre>"
      ],
      "text/plain": [
       "topic 65: it's made. fast artistic wouldn't usual b-52s sick you. genius. best, ms treasure falling sly"
      ]
     },
     "metadata": {},
     "output_type": "display_data"
    },
    {
     "data": {
      "text/html": [
       "<pre>topic 66: funk great p-funk parliament clinton george found bootsy mothership roof album classics connection funk. par</pre>"
      ],
      "text/plain": [
       "topic 66: funk great p-funk parliament clinton george found bootsy mothership roof album classics connection funk. par"
      ]
     },
     "metadata": {},
     "output_type": "display_data"
    },
    {
     "data": {
      "text/html": [
       "<pre>topic 67: nick drake drake's jamiroquai pink leaves moon jane jay \"pink nick's duncan kay don't lost</pre>"
      ],
      "text/plain": [
       "topic 67: nick drake drake's jamiroquai pink leaves moon jane jay \"pink nick's duncan kay don't lost"
      ]
     },
     "metadata": {},
     "output_type": "display_data"
    },
    {
     "data": {
      "text/html": [
       "<pre>topic 68: michael album jackson music pop bad can't dance stop elvis song jackson's make costello michael's</pre>"
      ],
      "text/plain": [
       "topic 68: michael album jackson music pop bad can't dance stop elvis song jackson's make costello michael's"
      ]
     },
     "metadata": {},
     "output_type": "display_data"
    },
    {
     "data": {
      "text/html": [
       "<pre>topic 69: album rap 50 eminem beats hip hop good he's real lyrics game dre people dont</pre>"
      ],
      "text/plain": [
       "topic 69: album rap 50 eminem beats hip hop good he's real lyrics game dre people dont"
      ]
     },
     "metadata": {},
     "output_type": "display_data"
    },
    {
     "data": {
      "text/html": [
       "<pre>topic 70: great devo cd freedom chief devo's corporate album. highly christian \"freedom it, mix alright. piece</pre>"
      ],
      "text/plain": [
       "topic 70: great devo cd freedom chief devo's corporate album. highly christian \"freedom it, mix alright. piece"
      ]
     },
     "metadata": {},
     "output_type": "display_data"
    },
    {
     "data": {
      "text/html": [
       "<pre>topic 71: album dance love madonna great song alice songs it's single pop hit track madonna's title</pre>"
      ],
      "text/plain": [
       "topic 71: album dance love madonna great song alice songs it's single pop hit track madonna's title"
      ]
     },
     "metadata": {},
     "output_type": "display_data"
    },
    {
     "data": {
      "text/html": [
       "<pre>topic 72: cypress hill liz phair chapter double album muggs innovative sen cds release pick fan. fanatic</pre>"
      ],
      "text/plain": [
       "topic 72: cypress hill liz phair chapter double album muggs innovative sen cds release pick fan. fanatic"
      ]
     },
     "metadata": {},
     "output_type": "display_data"
    },
    {
     "data": {
      "text/html": [
       "<pre>topic 73: prince album funk prince's movie funky sign purple worth world o' rain rain, soundtrack \"purple</pre>"
      ],
      "text/plain": [
       "topic 73: prince album funk prince's movie funky sign purple worth world o' rain rain, soundtrack \"purple"
      ]
     },
     "metadata": {},
     "output_type": "display_data"
    },
    {
     "data": {
      "text/html": [
       "<pre>topic 74: dylan bob mars dylan's belle great boy songs sebastian volta blood stuart twist manson dylan,</pre>"
      ],
      "text/plain": [
       "topic 74: dylan bob mars dylan's belle great boy songs sebastian volta blood stuart twist manson dylan,"
      ]
     },
     "metadata": {},
     "output_type": "display_data"
    },
    {
     "data": {
      "text/html": [
       "<pre>topic 75: fit ride again. album. supply nofx it? song. show hopefully, luckily head wrong piece enjoy!</pre>"
      ],
      "text/plain": [
       "topic 75: fit ride again. album. supply nofx it? song. show hopefully, luckily head wrong piece enjoy!"
      ]
     },
     "metadata": {},
     "output_type": "display_data"
    },
    {
     "data": {
      "text/html": [
       "<pre>topic 76: rest pop out, annoying number + trip party lead singer, growth night\", rotation soul. downloaded</pre>"
      ],
      "text/plain": [
       "topic 76: rest pop out, annoying number + trip party lead singer, growth night\", rotation soul. downloaded"
      ]
     },
     "metadata": {},
     "output_type": "display_data"
    },
    {
     "data": {
      "text/html": [
       "<pre>topic 77: album pixies black kim recommend frank perfect francis pixies, songs. tremendous enjoy mind own, listen</pre>"
      ],
      "text/plain": [
       "topic 77: album pixies black kim recommend frank perfect francis pixies, songs. tremendous enjoy mind own, listen"
      ]
     },
     "metadata": {},
     "output_type": "display_data"
    },
    {
     "data": {
      "text/html": [
       "<pre>topic 78: album great songs album. albums album, good tracks favorite track highly fan recommend music albums.</pre>"
      ],
      "text/plain": [
       "topic 78: album great songs album. albums album, good tracks favorite track highly fan recommend music albums."
      ]
     },
     "metadata": {},
     "output_type": "display_data"
    },
    {
     "data": {
      "text/html": [
       "<pre>topic 79: good can't genius bucks heard. sting hoped songwriting bits joy fashion. reviews sublime 20, hype</pre>"
      ],
      "text/plain": [
       "topic 79: good can't genius bucks heard. sting hoped songwriting bits joy fashion. reviews sublime 20, hype"
      ]
     },
     "metadata": {},
     "output_type": "display_data"
    },
    {
     "data": {
      "text/html": [
       "<pre>topic 80: la de los rage en el tom machine yo thier disco lo angeles del ratm</pre>"
      ],
      "text/plain": [
       "topic 80: la de los rage en el tom machine yo thier disco lo angeles del ratm"
      ]
     },
     "metadata": {},
     "output_type": "display_data"
    },
    {
     "data": {
      "text/html": [
       "<pre>topic 81: say, pick wrong fan cool. stop purchase half lyrics, out! soft night feeling memory moves</pre>"
      ],
      "text/plain": [
       "topic 81: say, pick wrong fan cool. stop purchase half lyrics, out! soft night feeling memory moves"
      ]
     },
     "metadata": {},
     "output_type": "display_data"
    },
    {
     "data": {
      "text/html": [
       "<pre>topic 82: beginning back very, kids earth jodeci rocks deep pretty don't are: 6, love running delivers</pre>"
      ],
      "text/plain": [
       "topic 82: beginning back very, kids earth jodeci rocks deep pretty don't are: 6, love running delivers"
      ]
     },
     "metadata": {},
     "output_type": "display_data"
    },
    {
     "data": {
      "text/html": [
       "<pre>topic 83: songs hits collection greatest cd disc tracks albums set compilation fan fans live early hit</pre>"
      ],
      "text/plain": [
       "topic 83: songs hits collection greatest cd disc tracks albums set compilation fan fans live early hit"
      ]
     },
     "metadata": {},
     "output_type": "display_data"
    },
    {
     "data": {
      "text/html": [
       "<pre>topic 84: album wu beats wu-tang production rza ghostface classic album. method ghost tang solo gza 36</pre>"
      ],
      "text/plain": [
       "topic 84: album wu beats wu-tang production rza ghostface classic album. method ghost tang solo gza 36"
      ]
     },
     "metadata": {},
     "output_type": "display_data"
    },
    {
     "data": {
      "text/html": [
       "<pre>topic 85: album songs song hit & \"the elton john released single top pop \"i great time</pre>"
      ],
      "text/plain": [
       "topic 85: album songs song hit & \"the elton john released single top pop \"i great time"
      ]
     },
     "metadata": {},
     "output_type": "display_data"
    },
    {
     "data": {
      "text/html": [
       "<pre>topic 86: band rock album guitar sound bands it's hard songs great albums music band's heavy sounds</pre>"
      ],
      "text/plain": [
       "topic 86: band rock album guitar sound bands it's hard songs great albums music band's heavy sounds"
      ]
     },
     "metadata": {},
     "output_type": "display_data"
    },
    {
     "data": {
      "text/html": [
       "<pre>topic 87: jones music norah jewel pop country cd she's love michelle jewel's spirit talent vanessa dolly</pre>"
      ],
      "text/plain": [
       "topic 87: jones music norah jewel pop country cd she's love michelle jewel's spirit talent vanessa dolly"
      ]
     },
     "metadata": {},
     "output_type": "display_data"
    },
    {
     "data": {
      "text/html": [
       "<pre>topic 88: duran stevie fleetwood annie songs mac eurythmics great christine nicks dreams buckingham lennox lindsey doubt</pre>"
      ],
      "text/plain": [
       "topic 88: duran stevie fleetwood annie songs mac eurythmics great christine nicks dreams buckingham lennox lindsey doubt"
      ]
     },
     "metadata": {},
     "output_type": "display_data"
    },
    {
     "data": {
      "text/html": [
       "<pre>topic 89: songs tunes music, khan great called dream christmas boys, twisted listen date. get. 90s musically,</pre>"
      ],
      "text/plain": [
       "topic 89: songs tunes music, khan great called dream christmas boys, twisted listen date. get. 90s musically,"
      ]
     },
     "metadata": {},
     "output_type": "display_data"
    },
    {
     "data": {
      "text/html": [
       "<pre>topic 90: can't needed great artist. way\", hype someone's purchase. group. ten duo drunk fav corny reputation</pre>"
      ],
      "text/plain": [
       "topic 90: can't needed great artist. way\", hype someone's purchase. group. ten duo drunk fav corny reputation"
      ]
     },
     "metadata": {},
     "output_type": "display_data"
    },
    {
     "data": {
      "text/html": [
       "<pre>topic 91: limit cut nice energy longtime to! managed alot aware understood brothers rediscovered monster wise sets</pre>"
      ],
      "text/plain": [
       "topic 91: limit cut nice energy longtime to! managed alot aware understood brothers rediscovered monster wise sets"
      ]
     },
     "metadata": {},
     "output_type": "display_data"
    },
    {
     "data": {
      "text/html": [
       "<pre>topic 92: perfect here. group is. originals straight brother 10 sustain right, singles, group's 100% cuts significant</pre>"
      ],
      "text/plain": [
       "topic 92: perfect here. group is. originals straight brother 10 sustain right, singles, group's 100% cuts significant"
      ]
     },
     "metadata": {},
     "output_type": "display_data"
    },
    {
     "data": {
      "text/html": [
       "<pre>topic 93: full can't up, decent album. hit ok. heard, cd, production, recorded. older be, mean. stuff</pre>"
      ],
      "text/plain": [
       "topic 93: full can't up, decent album. hit ok. heard, cd, production, recorded. older be, mean. stuff"
      ]
     },
     "metadata": {},
     "output_type": "display_data"
    },
    {
     "data": {
      "text/html": [
       "<pre>topic 94: incubus morning view pick brandon sounds crow boyd proves write bunch \"morning i'll nice styles</pre>"
      ],
      "text/plain": [
       "topic 94: incubus morning view pick brandon sounds crow boyd proves write bunch \"morning i'll nice styles"
      ]
     },
     "metadata": {},
     "output_type": "display_data"
    },
    {
     "data": {
      "text/html": [
       "<pre>topic 95: hot red album chili peppers funky sex funk sugar blood john anthony rob double hell</pre>"
      ],
      "text/plain": [
       "topic 95: hot red album chili peppers funky sex funk sugar blood john anthony rob double hell"
      ]
     },
     "metadata": {},
     "output_type": "display_data"
    },
    {
     "data": {
      "text/html": [
       "<pre>topic 96: cash johnny man american country music cash's rick prison waylon black ain't kris june recordings</pre>"
      ],
      "text/plain": [
       "topic 96: cash johnny man american country music cash's rick prison waylon black ain't kris june recordings"
      ]
     },
     "metadata": {},
     "output_type": "display_data"
    },
    {
     "data": {
      "text/html": [
       "<pre>topic 97: - version original album live tracks sound disc bonus release released quality versions studio great</pre>"
      ],
      "text/plain": [
       "topic 97: - version original album live tracks sound disc bonus release released quality versions studio great"
      ]
     },
     "metadata": {},
     "output_type": "display_data"
    },
    {
     "data": {
      "text/html": [
       "<pre>topic 98: album. album great. + music. young awesome. cd. including hasn't time. make stuck brain bell</pre>"
      ],
      "text/plain": [
       "topic 98: album. album great. + music. young awesome. cd. including hasn't time. make stuck brain bell"
      ]
     },
     "metadata": {},
     "output_type": "display_data"
    },
    {
     "data": {
      "text/html": [
       "<pre>topic 99: sounds boys beach brian pet wilson love toni beatles smashing shop pumpkins braxton beastie corgan</pre>"
      ],
      "text/plain": [
       "topic 99: sounds boys beach brian pet wilson love toni beatles smashing shop pumpkins braxton beastie corgan"
      ]
     },
     "metadata": {},
     "output_type": "display_data"
    },
    {
     "data": {
      "text/html": [
       "<pre>| 120       | 4m 58s        | 3.19459e+006   | 16330.6         |</pre>"
      ],
      "text/plain": [
       "| 120       | 4m 58s        | 3.19459e+006   | 16330.6         |"
      ]
     },
     "metadata": {},
     "output_type": "display_data"
    },
    {
     "data": {
      "text/html": [
       "<pre>topic 0: &amp; &quot;the album songs &quot;i hit pop tracks me&quot; love r&amp;b you&quot; &quot;you title love&quot;</pre>"
      ],
      "text/plain": [
       "topic 0: &amp; &quot;the album songs &quot;i hit pop tracks me&quot; love r&amp;b you&quot; &quot;you title love&quot;"
      ]
     },
     "metadata": {},
     "output_type": "display_data"
    },
    {
     "data": {
      "text/html": [
       "<pre>topic 1: strong hate fan. it. version enough. you. meaningful polished first. techno --------- wonderful. gift natalie</pre>"
      ],
      "text/plain": [
       "topic 1: strong hate fan. it. version enough. you. meaningful polished first. techno --------- wonderful. gift natalie"
      ]
     },
     "metadata": {},
     "output_type": "display_data"
    },
    {
     "data": {
      "text/html": [
       "<pre>topic 2: lenny kravitz enjoyable love fresh me. trade (especially point, tracks, last. force \"down sticks calexico</pre>"
      ],
      "text/plain": [
       "topic 2: lenny kravitz enjoyable love fresh me. trade (especially point, tracks, last. force \"down sticks calexico"
      ]
     },
     "metadata": {},
     "output_type": "display_data"
    },
    {
     "data": {
      "text/html": [
       "<pre>topic 3: album lyrics nalick great anna work. charlotte replace wonderful. classics due is: ok, highly again.</pre>"
      ],
      "text/plain": [
       "topic 3: album lyrics nalick great anna work. charlotte replace wonderful. classics due is: ok, highly again."
      ]
     },
     "metadata": {},
     "output_type": "display_data"
    },
    {
     "data": {
      "text/html": [
       "<pre>topic 4: it's album don't songs i'm good that's doesn't can't people isn't album. album, lot you're</pre>"
      ],
      "text/plain": [
       "topic 4: it's album don't songs i'm good that's doesn't can't people isn't album. album, lot you're"
      ]
     },
     "metadata": {},
     "output_type": "display_data"
    },
    {
     "data": {
      "text/html": [
       "<pre>topic 5: paul simon mccartney solo beatles carly simon's bee art mccartney's paul's & garfunkel troubled gees</pre>"
      ],
      "text/plain": [
       "topic 5: paul simon mccartney solo beatles carly simon's bee art mccartney's paul's & garfunkel troubled gees"
      ]
     },
     "metadata": {},
     "output_type": "display_data"
    },
    {
     "data": {
      "text/html": [
       "<pre>topic 6: lips great flaming soft wayne battles lips, stuff yoshimi pink wear coyne song side coyne's</pre>"
      ],
      "text/plain": [
       "topic 6: lips great flaming soft wayne battles lips, stuff yoshimi pink wear coyne song side coyne's"
      ]
     },
     "metadata": {},
     "output_type": "display_data"
    },
    {
     "data": {
      "text/html": [
       "<pre>topic 7: good sound cd. blondie this. (...) though. geffen 'love songs: fun record. ever. delivered cruise</pre>"
      ],
      "text/plain": [
       "topic 7: good sound cd. blondie this. (...) though. geffen 'love songs: fun record. ever. delivered cruise"
      ]
     },
     "metadata": {},
     "output_type": "display_data"
    },
    {
     "data": {
      "text/html": [
       "<pre>topic 8: trust have. match talented more. banging while. gotta band regina same, both. awful. recommended free,</pre>"
      ],
      "text/plain": [
       "topic 8: trust have. match talented more. banging while. gotta band regina same, both. awful. recommended free,"
      ]
     },
     "metadata": {},
     "output_type": "display_data"
    },
    {
     "data": {
      "text/html": [
       "<pre>topic 9: punk daft likes awesome discovery punk's time french stream mind made rihanna date, & normal</pre>"
      ],
      "text/plain": [
       "topic 9: punk daft likes awesome discovery punk's time french stream mind made rihanna date, & normal"
      ]
     },
     "metadata": {},
     "output_type": "display_data"
    },
    {
     "data": {
      "text/html": [
       "<pre>topic 10: buy classic. time this. mediocre heard deny list commercial. worth slow yes. boys review immortal</pre>"
      ],
      "text/plain": [
       "topic 10: buy classic. time this. mediocre heard deny list commercial. worth slow yes. boys review immortal"
      ]
     },
     "metadata": {},
     "output_type": "display_data"
    },
    {
     "data": {
      "text/html": [
       "<pre>topic 11: joni cars mitchell joni's mitchell's ric court ocasek cars, strawbs reckless spark orr night elliot</pre>"
      ],
      "text/plain": [
       "topic 11: joni cars mitchell joni's mitchell's ric court ocasek cars, strawbs reckless spark orr night elliot"
      ]
     },
     "metadata": {},
     "output_type": "display_data"
    },
    {
     "data": {
      "text/html": [
       "<pre>topic 12: it. song genius. greatest enjoy. days ... work. boring, tv standard ever. be. wrong. emily</pre>"
      ],
      "text/plain": [
       "topic 12: it. song genius. greatest enjoy. days ... work. boring, tv standard ever. be. wrong. emily"
      ]
     },
     "metadata": {},
     "output_type": "display_data"
    },
    {
     "data": {
      "text/html": [
       "<pre>topic 13: this, start totally best. kiss while. cuts high helped schmilsson go, stuff consistently you. generation.</pre>"
      ],
      "text/plain": [
       "topic 13: this, start totally best. kiss while. cuts high helped schmilsson go, stuff consistently you. generation."
      ]
     },
     "metadata": {},
     "output_type": "display_data"
    },
    {
     "data": {
      "text/html": [
       "<pre>topic 14: music time back years people music. make listen listening record heard hear world made put</pre>"
      ],
      "text/plain": [
       "topic 14: music time back years people music. make listen listening record heard hear world made put"
      ]
     },
     "metadata": {},
     "output_type": "display_data"
    },
    {
     "data": {
      "text/html": [
       "<pre>topic 15: - album & track good beat song production -- rap tracks great featuring beats nice</pre>"
      ],
      "text/plain": [
       "topic 15: - album & track good beat song production -- rap tracks great featuring beats nice"
      ]
     },
     "metadata": {},
     "output_type": "display_data"
    },
    {
     "data": {
      "text/html": [
       "<pre>topic 16: awesome why? sound, start have. best. back more. dance falls memories again. forward fully cool</pre>"
      ],
      "text/plain": [
       "topic 16: awesome why? sound, start have. best. back more. dance falls memories again. forward fully cool"
      ]
     },
     "metadata": {},
     "output_type": "display_data"
    },
    {
     "data": {
      "text/html": [
       "<pre>topic 17: bit unique, pass arguably voice best. throw taking funny lyrics :: basically generic it!!! it;</pre>"
      ],
      "text/plain": [
       "topic 17: bit unique, pass arguably voice best. throw taking funny lyrics :: basically generic it!!! it;"
      ]
     },
     "metadata": {},
     "output_type": "display_data"
    },
    {
     "data": {
      "text/html": [
       "<pre>topic 18: worth to. give horrible awesome. hoping bang hard add unforgettable price artists quiet owns year</pre>"
      ],
      "text/plain": [
       "topic 18: worth to. give horrible awesome. hoping bang hard add unforgettable price artists quiet owns year"
      ]
     },
     "metadata": {},
     "output_type": "display_data"
    },
    {
     "data": {
      "text/html": [
       "<pre>topic 19: phil album eagles collins can't long don songs great solo genesis peter don't easy christmas</pre>"
      ],
      "text/plain": [
       "topic 19: phil album eagles collins can't long don songs great solo genesis peter don't easy christmas"
      ]
     },
     "metadata": {},
     "output_type": "display_data"
    },
    {
     "data": {
      "text/html": [
       "<pre>topic 20: best. us. also, lyric recommend support @ soft luck out! equally fine finish. hit, scaggs</pre>"
      ],
      "text/plain": [
       "topic 20: best. us. also, lyric recommend support @ soft luck out! equally fine finish. hit, scaggs"
      ]
     },
     "metadata": {},
     "output_type": "display_data"
    },
    {
     "data": {
      "text/html": [
       "<pre>topic 21: fire stuff. complicated dark groups memories uninspired one. touching favorite product way. little. dog all-time</pre>"
      ],
      "text/plain": [
       "topic 21: fire stuff. complicated dark groups memories uninspired one. touching favorite product way. little. dog all-time"
      ]
     },
     "metadata": {},
     "output_type": "display_data"
    },
    {
     "data": {
      "text/html": [
       "<pre>topic 22: cd good 5 stars 4 2 give 3 star buy stars. gave dont bad it.</pre>"
      ],
      "text/plain": [
       "topic 22: cd good 5 stars 4 2 give 3 star buy stars. gave dont bad it."
      ]
     },
     "metadata": {},
     "output_type": "display_data"
    },
    {
     "data": {
      "text/html": [
       "<pre>topic 23: alison bluegrass krauss album plant no. tweet union sara [see nickel chris cd creek wrong</pre>"
      ],
      "text/plain": [
       "topic 23: alison bluegrass krauss album plant no. tweet union sara [see nickel chris cd creek wrong"
      ]
     },
     "metadata": {},
     "output_type": "display_data"
    },
    {
     "data": {
      "text/html": [
       "<pre>topic 24: ... fun overall, great. times cute down. cool download absolutely ivy saving touch tracks, standout</pre>"
      ],
      "text/plain": [
       "topic 24: ... fun overall, great. times cute down. cool download absolutely ivy saving touch tracks, standout"
      ]
     },
     "metadata": {},
     "output_type": "display_data"
    },
    {
     "data": {
      "text/html": [
       "<pre>topic 25: can't style wrong. space quality. approach single describe haven't dirty vibe head, etc. buying. run</pre>"
      ],
      "text/plain": [
       "topic 25: can't style wrong. space quality. approach single describe haven't dirty vibe head, etc. buying. run"
      ]
     },
     "metadata": {},
     "output_type": "display_data"
    },
    {
     "data": {
      "text/html": [
       "<pre>topic 26: white jack stripes lady blood gaga good meg cold white's gonna songs music. \"born boy</pre>"
      ],
      "text/plain": [
       "topic 26: white jack stripes lady blood gaga good meg cold white's gonna songs music. \"born boy"
      ]
     },
     "metadata": {},
     "output_type": "display_data"
    },
    {
     "data": {
      "text/html": [
       "<pre>topic 27: . , \" ( &quot; ! ) danger ... mouse : an' .. ? gnarls</pre>"
      ],
      "text/plain": [
       "topic 27: . , \" ( &quot; ! ) danger ... mouse : an' .. ? gnarls"
      ]
     },
     "metadata": {},
     "output_type": "display_data"
    },
    {
     "data": {
      "text/html": [
       "<pre>topic 28: album. albums out, old. purchasing stars time you'll janis mind riding heart geffen careful 10/10:</pre>"
      ],
      "text/plain": [
       "topic 28: album. albums out, old. purchasing stars time you'll janis mind riding heart geffen careful 10/10:"
      ]
     },
     "metadata": {},
     "output_type": "display_data"
    },
    {
     "data": {
      "text/html": [
       "<pre>topic 29: group grand perfect. too. vintage band. dog loaded great. eyes, grow comparisons beats, wacky atlanta</pre>"
      ],
      "text/plain": [
       "topic 29: group grand perfect. too. vintage band. dog loaded great. eyes, grow comparisons beats, wacky atlanta"
      ]
     },
     "metadata": {},
     "output_type": "display_data"
    },
    {
     "data": {
      "text/html": [
       "<pre>topic 30: ben folds del les primus lana pure rey games\" combined \"video seas claypool harper years.</pre>"
      ],
      "text/plain": [
       "topic 30: ben folds del les primus lana pure rey games\" combined \"video seas claypool harper years."
      ]
     },
     "metadata": {},
     "output_type": "display_data"
    },
    {
     "data": {
      "text/html": [
       "<pre>topic 31: mary j. blige amy keys alicia mary's winehouse duffy ain't sample works rest left drama</pre>"
      ],
      "text/plain": [
       "topic 31: mary j. blige amy keys alicia mary's winehouse duffy ain't sample works rest left drama"
      ]
     },
     "metadata": {},
     "output_type": "display_data"
    },
    {
     "data": {
      "text/html": [
       "<pre>topic 32: buy listen. pure out. lyrics. he's lyrics blondie poor dominated guys playin' strongest it\" dug</pre>"
      ],
      "text/plain": [
       "topic 32: buy listen. pure out. lyrics. he's lyrics blondie poor dominated guys playin' strongest it\" dug"
      ]
     },
     "metadata": {},
     "output_type": "display_data"
    },
    {
     "data": {
      "text/html": [
       "<pre>topic 33: great gonna boring hands worth talk listen music. pop songs: acts listenable. disappoint frank quality</pre>"
      ],
      "text/plain": [
       "topic 33: great gonna boring hands worth talk listen music. pop songs: acts listenable. disappoint frank quality"
      ]
     },
     "metadata": {},
     "output_type": "display_data"
    },
    {
     "data": {
      "text/html": [
       "<pre>topic 34: love voice soul music album she's cd debut artist sounds real r&b; artists singer soulful</pre>"
      ],
      "text/plain": [
       "topic 34: love voice soul music album she's cd debut artist sounds real r&b; artists singer soulful"
      ]
     },
     "metadata": {},
     "output_type": "display_data"
    },
    {
     "data": {
      "text/html": [
       "<pre>topic 35: lyrics mix classic, worse camp means neil effort, they're good. music! you'll key world this,</pre>"
      ],
      "text/plain": [
       "topic 35: lyrics mix classic, worse camp means neil effort, they're good. music! you'll key world this,"
      ]
     },
     "metadata": {},
     "output_type": "display_data"
    },
    {
     "data": {
      "text/html": [
       "<pre>topic 36: boom album best, that. loose downhill up! ripping range tape thought road rounded discuss glee,</pre>"
      ],
      "text/plain": [
       "topic 36: boom album best, that. loose downhill up! ripping range tape thought road rounded discuss glee,"
      ]
     },
     "metadata": {},
     "output_type": "display_data"
    },
    {
     "data": {
      "text/html": [
       "<pre>topic 37: mark dire knopfler straits knopfler's arms\" emmylou lyrics nothing\" great, \"brothers ever! i'd stuff duo</pre>"
      ],
      "text/plain": [
       "topic 37: mark dire knopfler straits knopfler's arms\" emmylou lyrics nothing\" great, \"brothers ever! i'd stuff duo"
      ]
     },
     "metadata": {},
     "output_type": "display_data"
    },
    {
     "data": {
      "text/html": [
       "<pre>topic 38: gordon lightfoot pop nina gordon's group veruca album. hasn't 2002 lightfoot's joy regret excitement ewf</pre>"
      ],
      "text/plain": [
       "topic 38: gordon lightfoot pop nina gordon's group veruca album. hasn't 2002 lightfoot's joy regret excitement ewf"
      ]
     },
     "metadata": {},
     "output_type": "display_data"
    },
    {
     "data": {
      "text/html": [
       "<pre>topic 39: album it's music song lyrics musical sound track - songs vocal pop vocals work guitar</pre>"
      ],
      "text/plain": [
       "topic 39: album it's music song lyrics musical sound track - songs vocal pop vocals work guitar"
      ]
     },
     "metadata": {},
     "output_type": "display_data"
    },
    {
     "data": {
      "text/html": [
       "<pre>topic 40: kelly r. 12 kelly's true kelly, found mind body's hoping aaliyah brought clarkson said. reba</pre>"
      ],
      "text/plain": [
       "topic 40: kelly r. 12 kelly's true kelly, found mind body's hoping aaliyah brought clarkson said. reba"
      ]
     },
     "metadata": {},
     "output_type": "display_data"
    },
    {
     "data": {
      "text/html": [
       "<pre>topic 41: cd songs cd. song heard love music listen it. good bought buy cd, great favorite</pre>"
      ],
      "text/plain": [
       "topic 41: cd songs cd. song heard love music listen it. good bought buy cd, great favorite"
      ]
     },
     "metadata": {},
     "output_type": "display_data"
    },
    {
     "data": {
      "text/html": [
       "<pre>topic 42: nelly furtado doubt gwen nelly's best. loose trick furtado's god's kingdom sublime tragic push spanish</pre>"
      ],
      "text/plain": [
       "topic 42: nelly furtado doubt gwen nelly's best. loose trick furtado's god's kingdom sublime tragic push spanish"
      ]
     },
     "metadata": {},
     "output_type": "display_data"
    },
    {
     "data": {
      "text/html": [
       "<pre>topic 43: gang guru album kool starr moment enjoy mass premier ready shines guru's monotone meet best.</pre>"
      ],
      "text/plain": [
       "topic 43: gang guru album kool starr moment enjoy mass premier ready shines guru's monotone meet best."
      ]
     },
     "metadata": {},
     "output_type": "display_data"
    },
    {
     "data": {
      "text/html": [
       "<pre>topic 44: cyndi lauper cyndi's lauper's fun yorn page 'the strong. back one, glad timeless goth favorite</pre>"
      ],
      "text/plain": [
       "topic 44: cyndi lauper cyndi's lauper's fun yorn page 'the strong. back one, glad timeless goth favorite"
      ]
     },
     "metadata": {},
     "output_type": "display_data"
    },
    {
     "data": {
      "text/html": [
       "<pre>topic 45: dido dido's adele theme angel land songs adele's bond faithless music \"rolling life \"life future</pre>"
      ],
      "text/plain": [
       "topic 45: dido dido's adele theme angel land songs adele's bond faithless music \"rolling life \"life future"
      ]
     },
     "metadata": {},
     "output_type": "display_data"
    },
    {
     "data": {
      "text/html": [
       "<pre>topic 46: big love outkast andre hip-hop boi day listen straight boi's kelis groups hey killer funk,</pre>"
      ],
      "text/plain": [
       "topic 46: big love outkast andre hip-hop boi day listen straight boi's kelis groups hey killer funk,"
      ]
     },
     "metadata": {},
     "output_type": "display_data"
    },
    {
     "data": {
      "text/html": [
       "<pre>topic 47: yeah karen carpenters carpenter richard karen's days yeahs work. hit too. love one. headed ears</pre>"
      ],
      "text/plain": [
       "topic 47: yeah karen carpenters carpenter richard karen's days yeahs work. hit too. love one. headed ears"
      ]
     },
     "metadata": {},
     "output_type": "display_data"
    },
    {
     "data": {
      "text/html": [
       "<pre>topic 48: fleet foxes robin sing great, borrowed sound part, doubt, torn out, group. watch project. opinion</pre>"
      ],
      "text/plain": [
       "topic 48: fleet foxes robin sing great, borrowed sound part, doubt, torn out, group. watch project. opinion"
      ]
     },
     "metadata": {},
     "output_type": "display_data"
    },
    {
     "data": {
      "text/html": [
       "<pre>topic 49: van album alanis halen david eddie rock lee classic great hard cover dave roth morissette</pre>"
      ],
      "text/plain": [
       "topic 49: van album alanis halen david eddie rock lee classic great hard cover dave roth morissette"
      ]
     },
     "metadata": {},
     "output_type": "display_data"
    },
    {
     "data": {
      "text/html": [
       "<pre>topic 50: album songs great album. good weezer it's blue fun pretty cher don't good. worth cd</pre>"
      ],
      "text/plain": [
       "topic 50: album songs great album. good weezer it's blue fun pretty cher don't good. worth cd"
      ]
     },
     "metadata": {},
     "output_type": "display_data"
    },
    {
     "data": {
      "text/html": [
       "<pre>topic 51: song it's great good album - songs love song. album. track song, lyrics nice favorite</pre>"
      ],
      "text/plain": [
       "topic 51: song it's great good album - songs love song. album. track song, lyrics nice favorite"
      ]
     },
     "metadata": {},
     "output_type": "display_data"
    },
    {
     "data": {
      "text/html": [
       "<pre>topic 52: great thumbs here's cd highlights: word: par grows matter: excellent music. leaning represents alone. mellow</pre>"
      ],
      "text/plain": [
       "topic 52: great thumbs here's cd highlights: word: par grows matter: excellent music. leaning represents alone. mellow"
      ]
     },
     "metadata": {},
     "output_type": "display_data"
    },
    {
     "data": {
      "text/html": [
       "<pre>topic 53: blues great guitar rock classic jeff love robert blues, eric guy playing clapton songs led</pre>"
      ],
      "text/plain": [
       "topic 53: blues great guitar rock classic jeff love robert blues, eric guy playing clapton songs led"
      ]
     },
     "metadata": {},
     "output_type": "display_data"
    },
    {
     "data": {
      "text/html": [
       "<pre>topic 54: sheryl crow kevin put montreal barnes crow's sheryl's false aaron buy wanna girls days. piece</pre>"
      ],
      "text/plain": [
       "topic 54: sheryl crow kevin put montreal barnes crow's sheryl's false aaron buy wanna girls days. piece"
      ]
     },
     "metadata": {},
     "output_type": "display_data"
    },
    {
     "data": {
      "text/html": [
       "<pre>topic 55: tori cat amos tori's stevens albums piano songs strange \"little choirgirl walk venus amos' sorta</pre>"
      ],
      "text/plain": [
       "topic 55: tori cat amos tori's stevens albums piano songs strange \"little choirgirl walk venus amos' sorta"
      ]
     },
     "metadata": {},
     "output_type": "display_data"
    },
    {
     "data": {
      "text/html": [
       "<pre>topic 56: too. back can't remaining now. / pumped beth excellent dub christian gaslight driving mad five-star</pre>"
      ],
      "text/plain": [
       "topic 56: too. back can't remaining now. / pumped beth excellent dub christian gaslight driving mad five-star"
      ]
     },
     "metadata": {},
     "output_type": "display_data"
    },
    {
     "data": {
      "text/html": [
       "<pre>topic 57: bon jovi jon iver justin always, again. include: jovi's forever richie vernon's enjoy recommend heck</pre>"
      ],
      "text/plain": [
       "topic 57: bon jovi jon iver justin always, again. include: jovi's forever richie vernon's enjoy recommend heck"
      ]
     },
     "metadata": {},
     "output_type": "display_data"
    },
    {
     "data": {
      "text/html": [
       "<pre>topic 58: radiohead thom clay king kid yorke ruben radiohead's yorke's computer wake radiohead, aiken clay's limbs</pre>"
      ],
      "text/plain": [
       "topic 58: radiohead thom clay king kid yorke ruben radiohead's yorke's computer wake radiohead, aiken clay's limbs"
      ]
     },
     "metadata": {},
     "output_type": "display_data"
    },
    {
     "data": {
      "text/html": [
       "<pre>topic 59: jazz great playing music recording miles musicians solo work recorded blue tunes title play john</pre>"
      ],
      "text/plain": [
       "topic 59: jazz great playing music recording miles musicians solo work recorded blue tunes title play john"
      ]
     },
     "metadata": {},
     "output_type": "display_data"
    },
    {
     "data": {
      "text/html": [
       "<pre>topic 60: ride simply he's records. mike recommended. thier ab-soul die plain hear christmas note bubblegum virgin</pre>"
      ],
      "text/plain": [
       "topic 60: ride simply he's records. mike recommended. thier ab-soul die plain hear christmas note bubblegum virgin"
      ]
     },
     "metadata": {},
     "output_type": "display_data"
    },
    {
     "data": {
      "text/html": [
       "<pre>topic 61: hot billboard u.s. 100 top adult # easy reached 40 weeks chart charts 200 minutes</pre>"
      ],
      "text/plain": [
       "topic 61: hot billboard u.s. 100 top adult # easy reached 40 weeks chart charts 200 minutes"
      ]
     },
     "metadata": {},
     "output_type": "display_data"
    },
    {
     "data": {
      "text/html": [
       "<pre>topic 62: dan steely royal fagen dan's donald becker katy b-52's lose walter perry fred st. fogelberg</pre>"
      ],
      "text/plain": [
       "topic 62: dan steely royal fagen dan's donald becker katy b-52's lose walter perry fred st. fogelberg"
      ]
     },
     "metadata": {},
     "output_type": "display_data"
    },
    {
     "data": {
      "text/html": [
       "<pre>topic 63: bone mariah thugs carey abba mariah's whitney group fast houston 1999 krayzie bizzy harmony eternal</pre>"
      ],
      "text/plain": [
       "topic 63: bone mariah thugs carey abba mariah's whitney group fast houston 1999 krayzie bizzy harmony eternal"
      ]
     },
     "metadata": {},
     "output_type": "display_data"
    },
    {
     "data": {
      "text/html": [
       "<pre>topic 64: one. / effort worth overall, hint stands too, work. call boring. decade. mercury follow-up experience.</pre>"
      ],
      "text/plain": [
       "topic 64: one. / effort worth overall, hint stands too, work. call boring. decade. mercury follow-up experience."
      ]
     },
     "metadata": {},
     "output_type": "display_data"
    },
    {
     "data": {
      "text/html": [
       "<pre>topic 65: solid sharp wouldn't shot style, era. delivered attitude eat earth head hour 1998 \"a originally</pre>"
      ],
      "text/plain": [
       "topic 65: solid sharp wouldn't shot style, era. delivered attitude eat earth head hour 1998 \"a originally"
      ]
     },
     "metadata": {},
     "output_type": "display_data"
    },
    {
     "data": {
      "text/html": [
       "<pre>topic 66: funk p-funk parliament clinton george bootsy mothership mix clones connection roof great nose funk. end.</pre>"
      ],
      "text/plain": [
       "topic 66: funk p-funk parliament clinton george bootsy mothership mix clones connection roof great nose funk. end."
      ]
     },
     "metadata": {},
     "output_type": "display_data"
    },
    {
     "data": {
      "text/html": [
       "<pre>topic 67: nick drake drake's moon leaves pink jamiroquai \"pink nick's kay lost raw don't years. buy</pre>"
      ],
      "text/plain": [
       "topic 67: nick drake drake's moon leaves pink jamiroquai \"pink nick's kay lost raw don't years. buy"
      ]
     },
     "metadata": {},
     "output_type": "display_data"
    },
    {
     "data": {
      "text/html": [
       "<pre>topic 68: michael album jackson pop bad music dance stop jackson's elvis favorite song can't costello michael's</pre>"
      ],
      "text/plain": [
       "topic 68: michael album jackson pop bad music dance stop jackson's elvis favorite song can't costello michael's"
      ]
     },
     "metadata": {},
     "output_type": "display_data"
    },
    {
     "data": {
      "text/html": [
       "<pre>topic 69: album rap 50 eminem beats hip good hop he's real game lyrics dre dont song</pre>"
      ],
      "text/plain": [
       "topic 69: album rap 50 eminem beats hip good hop he's real game lyrics dre dont song"
      ]
     },
     "metadata": {},
     "output_type": "display_data"
    },
    {
     "data": {
      "text/html": [
       "<pre>topic 70: great devo style cd freedom devo's hear. cross purchased compare plastic pop whip corporate releases</pre>"
      ],
      "text/plain": [
       "topic 70: great devo style cd freedom devo's hear. cross purchased compare plastic pop whip corporate releases"
      ]
     },
     "metadata": {},
     "output_type": "display_data"
    },
    {
     "data": {
      "text/html": [
       "<pre>topic 71: album madonna great dance love alice song songs pop madonna's single title track it's album,</pre>"
      ],
      "text/plain": [
       "topic 71: album madonna great dance love alice song songs pop madonna's single title track it's album,"
      ]
     },
     "metadata": {},
     "output_type": "display_data"
    },
    {
     "data": {
      "text/html": [
       "<pre>topic 72: cypress hill liz listen phair enjoy great peace guys sen times, lost days back on.</pre>"
      ],
      "text/plain": [
       "topic 72: cypress hill liz listen phair enjoy great peace guys sen times, lost days back on."
      ]
     },
     "metadata": {},
     "output_type": "display_data"
    },
    {
     "data": {
      "text/html": [
       "<pre>topic 73: prince prince's funk sign funky movie album rain worth world soundtrack purple times o' rain,</pre>"
      ],
      "text/plain": [
       "topic 73: prince prince's funk sign funky movie album rain worth world soundtrack purple times o' rain,"
      ]
     },
     "metadata": {},
     "output_type": "display_data"
    },
    {
     "data": {
      "text/html": [
       "<pre>topic 74: dylan bob dylan's mars belle boy great sebastian feeling volta stuart songs dylan, drink blood</pre>"
      ],
      "text/plain": [
       "topic 74: dylan bob dylan's mars belle boy great sebastian feeling volta stuart songs dylan, drink blood"
      ]
     },
     "metadata": {},
     "output_type": "display_data"
    },
    {
     "data": {
      "text/html": [
       "<pre>topic 75: have. gotta nofx still, hell. finished direction mtv brilliance one, fit capable time records. lyrical</pre>"
      ],
      "text/plain": [
       "topic 75: have. gotta nofx still, hell. finished direction mtv brilliance one, fit capable time records. lyrical"
      ]
     },
     "metadata": {},
     "output_type": "display_data"
    },
    {
     "data": {
      "text/html": [
       "<pre>topic 76: this. this, plenty rest pretty death that. classics stay list waiting 15 touches joy highlights</pre>"
      ],
      "text/plain": [
       "topic 76: this. this, plenty rest pretty death that. classics stay list waiting 15 touches joy highlights"
      ]
     },
     "metadata": {},
     "output_type": "display_data"
    },
    {
     "data": {
      "text/html": [
       "<pre>topic 77: album pixies frank listen good kim black cool, recommend francis breeders hour loved pixies' grooves</pre>"
      ],
      "text/plain": [
       "topic 77: album pixies frank listen good kim black cool, recommend francis breeders hour loved pixies' grooves"
      ]
     },
     "metadata": {},
     "output_type": "display_data"
    },
    {
     "data": {
      "text/html": [
       "<pre>topic 78: album great album. songs albums good album, tracks track highly favorite fan music recommend debut</pre>"
      ],
      "text/plain": [
       "topic 78: album great album. songs albums good album, tracks track highly favorite fan music recommend debut"
      ]
     },
     "metadata": {},
     "output_type": "display_data"
    },
    {
     "data": {
      "text/html": [
       "<pre>topic 79: good pure can't cd! mix instant days agree beautiful showcase style sublime you. seriously. stuff</pre>"
      ],
      "text/plain": [
       "topic 79: good pure can't cd! mix instant days agree beautiful showcase style sublime you. seriously. stuff"
      ]
     },
     "metadata": {},
     "output_type": "display_data"
    },
    {
     "data": {
      "text/html": [
       "<pre>topic 80: la de los rage el en tom battle machine angeles yo tracks con le ratm</pre>"
      ],
      "text/plain": [
       "topic 80: la de los rage el en tom battle machine angeles yo tracks con le ratm"
      ]
     },
     "metadata": {},
     "output_type": "display_data"
    },
    {
     "data": {
      "text/html": [
       "<pre>topic 81: step reminds brandy exception releases, replace found soooo disappoint. this. booming saving ballads remembered you'll</pre>"
      ],
      "text/plain": [
       "topic 81: step reminds brandy exception releases, replace found soooo disappoint. this. booming saving ballads remembered you'll"
      ]
     },
     "metadata": {},
     "output_type": "display_data"
    },
    {
     "data": {
      "text/html": [
       "<pre>topic 82: love based enjoyable cd 16 group. world, listening close album, this, fatboy concept worry close.</pre>"
      ],
      "text/plain": [
       "topic 82: love based enjoyable cd 16 group. world, listening close album, this, fatboy concept worry close."
      ]
     },
     "metadata": {},
     "output_type": "display_data"
    },
    {
     "data": {
      "text/html": [
       "<pre>topic 83: songs hits collection greatest cd disc tracks good fans compilation fan set rock collection. songs,</pre>"
      ],
      "text/plain": [
       "topic 83: songs hits collection greatest cd disc tracks good fans compilation fan set rock collection. songs,"
      ]
     },
     "metadata": {},
     "output_type": "display_data"
    },
    {
     "data": {
      "text/html": [
       "<pre>topic 84: album wu beats wu-tang production ghostface rza ghost method album. arctic tang solo gza monkeys</pre>"
      ],
      "text/plain": [
       "topic 84: album wu beats wu-tang production ghostface rza ghost method album. arctic tang solo gza monkeys"
      ]
     },
     "metadata": {},
     "output_type": "display_data"
    },
    {
     "data": {
      "text/html": [
       "<pre>topic 85: album song hit songs & \"the elton john released time single top pop \"i albums</pre>"
      ],
      "text/plain": [
       "topic 85: album song hit songs & \"the elton john released time single top pop \"i albums"
      ]
     },
     "metadata": {},
     "output_type": "display_data"
    },
    {
     "data": {
      "text/html": [
       "<pre>topic 86: band rock album guitar sound bands it's great hard songs band's heavy music albums metal</pre>"
      ],
      "text/plain": [
       "topic 86: band rock album guitar sound bands it's great hard songs band's heavy music albums metal"
      ]
     },
     "metadata": {},
     "output_type": "display_data"
    },
    {
     "data": {
      "text/html": [
       "<pre>topic 87: music jones pop norah jewel country love she's michelle spirit vanessa cd jewel's dolly talented</pre>"
      ],
      "text/plain": [
       "topic 87: music jones pop norah jewel country love she's michelle spirit vanessa cd jewel's dolly talented"
      ]
     },
     "metadata": {},
     "output_type": "display_data"
    },
    {
     "data": {
      "text/html": [
       "<pre>topic 88: songs duran fleetwood stevie annie mac eurythmics album. christine nicks group dreams buckingham lennox lindsey</pre>"
      ],
      "text/plain": [
       "topic 88: songs duran fleetwood stevie annie mac eurythmics album. christine nicks group dreams buckingham lennox lindsey"
      ]
     },
     "metadata": {},
     "output_type": "display_data"
    },
    {
     "data": {
      "text/html": [
       "<pre>topic 89: listen songs project price lyrics light meaningful years! continue postal tiresome are: smoke reduced though.</pre>"
      ],
      "text/plain": [
       "topic 89: listen songs project price lyrics light meaningful years! continue postal tiresome are: smoke reduced though."
      ]
     },
     "metadata": {},
     "output_type": "display_data"
    },
    {
     "data": {
      "text/html": [
       "<pre>topic 90: group. pun days. find christmas god enigma shame hype great break shoot large talent, living</pre>"
      ],
      "text/plain": [
       "topic 90: group. pun days. find christmas god enigma shame hype great break shoot large talent, living"
      ]
     },
     "metadata": {},
     "output_type": "display_data"
    },
    {
     "data": {
      "text/html": [
       "<pre>topic 91: hope again! you're about. texas singer, nice music. soon. piece ear vocals back old. figure</pre>"
      ],
      "text/plain": [
       "topic 91: hope again! you're about. texas singer, nice music. soon. piece ear vocals back old. figure"
      ]
     },
     "metadata": {},
     "output_type": "display_data"
    },
    {
     "data": {
      "text/html": [
       "<pre>topic 92: fan. something. school perfect awesome cd is. stills cut lacks bo keeping cuts better. find</pre>"
      ],
      "text/plain": [
       "topic 92: fan. something. school perfect awesome cd is. stills cut lacks bo keeping cuts better. find"
      ]
     },
     "metadata": {},
     "output_type": "display_data"
    },
    {
     "data": {
      "text/html": [
       "<pre>topic 93: piece fave ... stuff hunting words single etc.) digging cool. gap includes mr. this. signs</pre>"
      ],
      "text/plain": [
       "topic 93: piece fave ... stuff hunting words single etc.) digging cool. gap includes mr. this. signs"
      ]
     },
     "metadata": {},
     "output_type": "display_data"
    },
    {
     "data": {
      "text/html": [
       "<pre>topic 94: incubus morning view incredible. brandon tracks eyes talent boyd else, years \"morning crow great cats</pre>"
      ],
      "text/plain": [
       "topic 94: incubus morning view incredible. brandon tracks eyes talent boyd else, years \"morning crow great cats"
      ]
     },
     "metadata": {},
     "output_type": "display_data"
    },
    {
     "data": {
      "text/html": [
       "<pre>topic 95: hot red album chili peppers funky sex sugar funk blood hell john rob meat stadium</pre>"
      ],
      "text/plain": [
       "topic 95: hot red album chili peppers funky sex sugar funk blood hell john rob meat stadium"
      ]
     },
     "metadata": {},
     "output_type": "display_data"
    },
    {
     "data": {
      "text/html": [
       "<pre>topic 96: cash johnny man american cash's country ain't rick prison waylon rest audience inch recordings san</pre>"
      ],
      "text/plain": [
       "topic 96: cash johnny man american cash's country ain't rick prison waylon rest audience inch recordings san"
      ]
     },
     "metadata": {},
     "output_type": "display_data"
    },
    {
     "data": {
      "text/html": [
       "<pre>topic 97: - version original album live tracks sound bonus cd disc great release released versions quality</pre>"
      ],
      "text/plain": [
       "topic 97: - version original album live tracks sound bonus cd disc great release released versions quality"
      ]
     },
     "metadata": {},
     "output_type": "display_data"
    },
    {
     "data": {
      "text/html": [
       "<pre>topic 98: album. it! best. add thing pick music. album masterpiece. nerves expected ready producer titled falling</pre>"
      ],
      "text/plain": [
       "topic 98: album. it! best. add thing pick music. album masterpiece. nerves expected ready producer titled falling"
      ]
     },
     "metadata": {},
     "output_type": "display_data"
    },
    {
     "data": {
      "text/html": [
       "<pre>topic 99: sounds boys love beach brian pet wilson toni shop beatles smashing pumpkins beastie braxton corgan</pre>"
      ],
      "text/plain": [
       "topic 99: sounds boys love beach brian pet wilson toni shop beatles smashing pumpkins beastie braxton corgan"
      ]
     },
     "metadata": {},
     "output_type": "display_data"
    },
    {
     "data": {
      "text/html": [
       "<pre>| 130       | 5m 17s        | 3.19151e+006   | 16340.3         |</pre>"
      ],
      "text/plain": [
       "| 130       | 5m 17s        | 3.19151e+006   | 16340.3         |"
      ]
     },
     "metadata": {},
     "output_type": "display_data"
    },
    {
     "data": {
      "text/html": [
       "<pre>topic 0: &amp; &quot;the album songs &quot;i hit me&quot; make love you&quot; &quot;you love&quot; pop tracks r&amp;b</pre>"
      ],
      "text/plain": [
       "topic 0: &amp; &quot;the album songs &quot;i hit me&quot; make love you&quot; &quot;you love&quot; pop tracks r&amp;b"
      ]
     },
     "metadata": {},
     "output_type": "display_data"
    },
    {
     "data": {
      "text/html": [
       "<pre>topic 1: pure gift matter --------- cutter lyric: thier opinion. staind night fan. days 12 moment. cd.</pre>"
      ],
      "text/plain": [
       "topic 1: pure gift matter --------- cutter lyric: thier opinion. staind night fan. days 12 moment. cd."
      ]
     },
     "metadata": {},
     "output_type": "display_data"
    },
    {
     "data": {
      "text/html": [
       "<pre>topic 2: lenny kravitz love kids recomend recommend cover singers records. enjoyable minutes. great skin flowing writing.</pre>"
      ],
      "text/plain": [
       "topic 2: lenny kravitz love kids recomend recommend cover singers records. enjoyable minutes. great skin flowing writing."
      ]
     },
     "metadata": {},
     "output_type": "display_data"
    },
    {
     "data": {
      "text/html": [
       "<pre>topic 3: album good super we're ok, nalick anna i'm well. date inside lyrics loved music! great!</pre>"
      ],
      "text/plain": [
       "topic 3: album good super we're ok, nalick anna i'm well. date inside lyrics loved music! great!"
      ]
     },
     "metadata": {},
     "output_type": "display_data"
    },
    {
     "data": {
      "text/html": [
       "<pre>topic 4: it's album don't songs i'm good that's doesn't album, people isn't can't album. lot pretty</pre>"
      ],
      "text/plain": [
       "topic 4: it's album don't songs i'm good that's doesn't album, people isn't can't album. lot pretty"
      ]
     },
     "metadata": {},
     "output_type": "display_data"
    },
    {
     "data": {
      "text/html": [
       "<pre>topic 5: paul simon mccartney & beatles solo carly simon's bee mccartney's paul's run garfunkel george troubled</pre>"
      ],
      "text/plain": [
       "topic 5: paul simon mccartney & beatles solo carly simon's bee mccartney's paul's run garfunkel george troubled"
      ]
     },
     "metadata": {},
     "output_type": "display_data"
    },
    {
     "data": {
      "text/html": [
       "<pre>topic 6: lips flaming soft great wayne stuff there. battles lips, pink voice yoshimi lips' coyne head,</pre>"
      ],
      "text/plain": [
       "topic 6: lips flaming soft great wayne stuff there. battles lips, pink voice yoshimi lips' coyne head,"
      ]
     },
     "metadata": {},
     "output_type": "display_data"
    },
    {
     "data": {
      "text/html": [
       "<pre>topic 7: good solid road :) funky everyday man chase call \"let's simply ear agree produced make</pre>"
      ],
      "text/plain": [
       "topic 7: good solid road :) funky everyday man chase call \"let's simply ear agree produced make"
      ]
     },
     "metadata": {},
     "output_type": "display_data"
    },
    {
     "data": {
      "text/html": [
       "<pre>topic 8: group match goin' morcheeba download nyc not, perfect lets wrong. energy awesome house. that. hang</pre>"
      ],
      "text/plain": [
       "topic 8: group match goin' morcheeba download nyc not, perfect lets wrong. energy awesome house. that. hang"
      ]
     },
     "metadata": {},
     "output_type": "display_data"
    },
    {
     "data": {
      "text/html": [
       "<pre>topic 9: punk daft cd likes favorites albums. punk's love all! killer french ways avoid discovery song,</pre>"
      ],
      "text/plain": [
       "topic 9: punk daft cd likes favorites albums. punk's love all! killer french ways avoid discovery song,"
      ]
     },
     "metadata": {},
     "output_type": "display_data"
    },
    {
     "data": {
      "text/html": [
       "<pre>topic 10: deny back. field pleasant experimenting pop words horrible actually, ball storm 98 games working defines</pre>"
      ],
      "text/plain": [
       "topic 10: deny back. field pleasant experimenting pop words horrible actually, ball storm 98 games working defines"
      ]
     },
     "metadata": {},
     "output_type": "display_data"
    },
    {
     "data": {
      "text/html": [
       "<pre>topic 11: joni cars mitchell joni's mitchell's court ric ocasek spark elliot friend's twisted strawbs reckless cars'</pre>"
      ],
      "text/plain": [
       "topic 11: joni cars mitchell joni's mitchell's court ric ocasek spark elliot friend's twisted strawbs reckless cars'"
      ]
     },
     "metadata": {},
     "output_type": "display_data"
    },
    {
     "data": {
      "text/html": [
       "<pre>topic 12: it. mix me) about. record borrowed aren't top pick jason complete right, urban masses. brought</pre>"
      ],
      "text/plain": [
       "topic 12: it. mix me) about. record borrowed aren't top pick jason complete right, urban masses. brought"
      ]
     },
     "metadata": {},
     "output_type": "display_data"
    },
    {
     "data": {
      "text/html": [
       "<pre>topic 13: cover lacks sad hit gotta best! heard. this, tracks. there, 'the hands star. terrific disc.</pre>"
      ],
      "text/plain": [
       "topic 13: cover lacks sad hit gotta best! heard. this, tracks. there, 'the hands star. terrific disc."
      ]
     },
     "metadata": {},
     "output_type": "display_data"
    },
    {
     "data": {
      "text/html": [
       "<pre>topic 14: music time back years people listen music. heard record make listening world made life hear</pre>"
      ],
      "text/plain": [
       "topic 14: music time back years people listen music. heard record make listening world made life hear"
      ]
     },
     "metadata": {},
     "output_type": "display_data"
    },
    {
     "data": {
      "text/html": [
       "<pre>topic 15: - album & track good beat production song -- tracks rap featuring beats great 2</pre>"
      ],
      "text/plain": [
       "topic 15: - album & track good beat production song -- tracks rap featuring beats great 2"
      ]
     },
     "metadata": {},
     "output_type": "display_data"
    },
    {
     "data": {
      "text/html": [
       "<pre>topic 16: best. more. awesome this. on! love bigger have. mix production absolutely worth dance places joe</pre>"
      ],
      "text/plain": [
       "topic 16: best. more. awesome this. on! love bigger have. mix production absolutely worth dance places joe"
      ]
     },
     "metadata": {},
     "output_type": "display_data"
    },
    {
     "data": {
      "text/html": [
       "<pre>topic 17: taking best. it. frame webb more. party cowboy memory arguably brought gaslight shows you. ad</pre>"
      ],
      "text/plain": [
       "topic 17: taking best. it. frame webb more. party cowboy memory arguably brought gaslight shows you. ad"
      ]
     },
     "metadata": {},
     "output_type": "display_data"
    },
    {
     "data": {
      "text/html": [
       "<pre>topic 18: add point. loves awesome. songwriter bad ago good. too, great! energetic last, sampled low, late</pre>"
      ],
      "text/plain": [
       "topic 18: add point. loves awesome. songwriter bad ago good. too, great! energetic last, sampled low, late"
      ]
     },
     "metadata": {},
     "output_type": "display_data"
    },
    {
     "data": {
      "text/html": [
       "<pre>topic 19: phil album eagles collins solo don can't long songs genesis day peter christmas great henley</pre>"
      ],
      "text/plain": [
       "topic 19: phil album eagles collins solo don can't long songs genesis day peter christmas great henley"
      ]
     },
     "metadata": {},
     "output_type": "display_data"
    },
    {
     "data": {
      "text/html": [
       "<pre>topic 20: finish. gap hurt songs. add soft silent numerous out. it... music! sticky takes again, job</pre>"
      ],
      "text/plain": [
       "topic 20: finish. gap hurt songs. add soft silent numerous out. it... music! sticky takes again, job"
      ]
     },
     "metadata": {},
     "output_type": "display_data"
    },
    {
     "data": {
      "text/html": [
       "<pre>topic 21: talented can't doesnt thing memories meaning exception fire cool fine grab oh, today gem walked</pre>"
      ],
      "text/plain": [
       "topic 21: talented can't doesnt thing memories meaning exception fire cool fine grab oh, today gem walked"
      ]
     },
     "metadata": {},
     "output_type": "display_data"
    },
    {
     "data": {
      "text/html": [
       "<pre>topic 22: cd 5 good stars 4 give star 2 3 stars. gave 1 buy reason worth</pre>"
      ],
      "text/plain": [
       "topic 22: cd 5 good stars 4 give star 2 3 stars. gave 1 buy reason worth"
      ]
     },
     "metadata": {},
     "output_type": "display_data"
    },
    {
     "data": {
      "text/html": [
       "<pre>topic 23: alison bluegrass krauss sara album no. plant robert chris tweet nickel [see union creek singer</pre>"
      ],
      "text/plain": [
       "topic 23: alison bluegrass krauss sara album no. plant robert chris tweet nickel [see union creek singer"
      ]
     },
     "metadata": {},
     "output_type": "display_data"
    },
    {
     "data": {
      "text/html": [
       "<pre>topic 24: rest beats sing great. love alike comparison unique focus done. beats. rain that. james 70s,</pre>"
      ],
      "text/plain": [
       "topic 24: rest beats sing great. love alike comparison unique focus done. beats. rain that. james 70s,"
      ]
     },
     "metadata": {},
     "output_type": "display_data"
    },
    {
     "data": {
      "text/html": [
       "<pre>topic 25: real you're smoke can't single do. continue best. this! offer gangnam line tracks. wrong. truth</pre>"
      ],
      "text/plain": [
       "topic 25: real you're smoke can't single do. continue best. this! offer gangnam line tracks. wrong. truth"
      ]
     },
     "metadata": {},
     "output_type": "display_data"
    },
    {
     "data": {
      "text/html": [
       "<pre>topic 26: white jack stripes lady good blood gaga meg cold white's rest music. \"born songs nation</pre>"
      ],
      "text/plain": [
       "topic 26: white jack stripes lady good blood gaga meg cold white's rest music. \"born songs nation"
      ]
     },
     "metadata": {},
     "output_type": "display_data"
    },
    {
     "data": {
      "text/html": [
       "<pre>topic 27: . , \" ( &quot; ! ) danger ... mouse : an' ? modest gnarls</pre>"
      ],
      "text/plain": [
       "topic 27: . , \" ( &quot; ! ) danger ... mouse : an' ? modest gnarls"
      ]
     },
     "metadata": {},
     "output_type": "display_data"
    },
    {
     "data": {
      "text/html": [
       "<pre>topic 28: while. album albums wave fans ready (to flows par singers guarantee treasure ahead concert mind.</pre>"
      ],
      "text/plain": [
       "topic 28: while. album albums wave fans ready (to flows par singers guarantee treasure ahead concert mind."
      ]
     },
     "metadata": {},
     "output_type": "display_data"
    },
    {
     "data": {
      "text/html": [
       "<pre>topic 29: one. group follow compared emotional carry best. track trip good. production wow! total moment produce</pre>"
      ],
      "text/plain": [
       "topic 29: one. group follow compared emotional carry best. track trip good. production wow! total moment produce"
      ]
     },
     "metadata": {},
     "output_type": "display_data"
    },
    {
     "data": {
      "text/html": [
       "<pre>topic 30: ben folds del amazing les primus lana harper rey \"born \"video can't games\" claypool favorite</pre>"
      ],
      "text/plain": [
       "topic 30: ben folds del amazing les primus lana harper rey \"born \"video can't games\" claypool favorite"
      ]
     },
     "metadata": {},
     "output_type": "display_data"
    },
    {
     "data": {
      "text/html": [
       "<pre>topic 31: mary j. blige amy mary's winehouse duffy blige's \"back drama sample dry breakthrough amy's 60's</pre>"
      ],
      "text/plain": [
       "topic 31: mary j. blige amy mary's winehouse duffy blige's \"back drama sample dry breakthrough amy's 60's"
      ]
     },
     "metadata": {},
     "output_type": "display_data"
    },
    {
     "data": {
      "text/html": [
       "<pre>topic 32: group dance fine. history. albums style dig good! earth single man. stands leads years. wonderful</pre>"
      ],
      "text/plain": [
       "topic 32: group dance fine. history. albums style dig good! earth single man. stands leads years. wonderful"
      ]
     },
     "metadata": {},
     "output_type": "display_data"
    },
    {
     "data": {
      "text/html": [
       "<pre>topic 33: great time! album original. talented far, creative christmas choice answer it's lp. rest singing, shining</pre>"
      ],
      "text/plain": [
       "topic 33: great time! album original. talented far, creative christmas choice answer it's lp. rest singing, shining"
      ]
     },
     "metadata": {},
     "output_type": "display_data"
    },
    {
     "data": {
      "text/html": [
       "<pre>topic 34: love voice soul album music she's cd debut artist soulful sounds feel singing singer artists</pre>"
      ],
      "text/plain": [
       "topic 34: love voice soul album music she's cd debut artist soulful sounds feel singing singer artists"
      ]
     },
     "metadata": {},
     "output_type": "display_data"
    },
    {
     "data": {
      "text/html": [
       "<pre>topic 35: faves time bt better. similar years you'll anyway. far. it! added wild damn luv side,</pre>"
      ],
      "text/plain": [
       "topic 35: faves time bt better. similar years you'll anyway. far. it! added wild damn luv side,"
      ]
     },
     "metadata": {},
     "output_type": "display_data"
    },
    {
     "data": {
      "text/html": [
       "<pre>topic 36: dark effort. fantastic ... it's belongs bands time! trouble bunch tonight, delivers it). killer good</pre>"
      ],
      "text/plain": [
       "topic 36: dark effort. fantastic ... it's belongs bands time! trouble bunch tonight, delivers it). killer good"
      ]
     },
     "metadata": {},
     "output_type": "display_data"
    },
    {
     "data": {
      "text/html": [
       "<pre>topic 37: mark dire knopfler straits knopfler's piece arms\" emmylou miss lyrics \"brothers lets for, men you'll</pre>"
      ],
      "text/plain": [
       "topic 37: mark dire knopfler straits knopfler's piece arms\" emmylou miss lyrics \"brothers lets for, men you'll"
      ]
     },
     "metadata": {},
     "output_type": "display_data"
    },
    {
     "data": {
      "text/html": [
       "<pre>topic 38: gordon music. lightfoot nina high collection. listening gordon's point veruca lightfoot's staying lord bored. matchbox</pre>"
      ],
      "text/plain": [
       "topic 38: gordon music. lightfoot nina high collection. listening gordon's point veruca lightfoot's staying lord bored. matchbox"
      ]
     },
     "metadata": {},
     "output_type": "display_data"
    },
    {
     "data": {
      "text/html": [
       "<pre>topic 39: it's album music song sound lyrics songs track musical - pop vocal vocals guitar \"the</pre>"
      ],
      "text/plain": [
       "topic 39: it's album music song sound lyrics songs track musical - pop vocal vocals guitar \"the"
      ]
     },
     "metadata": {},
     "output_type": "display_data"
    },
    {
     "data": {
      "text/html": [
       "<pre>topic 40: kelly r. 12 real kelly's kelly, 90's aaliyah r.kelly great masterpiece generally dominate it!! kelly.</pre>"
      ],
      "text/plain": [
       "topic 40: kelly r. 12 real kelly's kelly, 90's aaliyah r.kelly great masterpiece generally dominate it!! kelly."
      ]
     },
     "metadata": {},
     "output_type": "display_data"
    },
    {
     "data": {
      "text/html": [
       "<pre>topic 41: cd songs song cd. heard love good it. listen music bought buy great cd, favorite</pre>"
      ],
      "text/plain": [
       "topic 41: cd songs song cd. heard love good it. listen music bought buy great cd, favorite"
      ]
     },
     "metadata": {},
     "output_type": "display_data"
    },
    {
     "data": {
      "text/html": [
       "<pre>topic 42: nelly doubt furtado gwen ska nelly's push tragic furtado's love loose trick album, \"say kingdom</pre>"
      ],
      "text/plain": [
       "topic 42: nelly doubt furtado gwen ska nelly's push tragic furtado's love loose trick album, \"say kingdom"
      ]
     },
     "metadata": {},
     "output_type": "display_data"
    },
    {
     "data": {
      "text/html": [
       "<pre>topic 43: album gang guru starr kool love premier song moment mass songs guru's this. monotone solid</pre>"
      ],
      "text/plain": [
       "topic 43: album gang guru starr kool love premier song moment mass songs guru's this. monotone solid"
      ]
     },
     "metadata": {},
     "output_type": "display_data"
    },
    {
     "data": {
      "text/html": [
       "<pre>topic 44: cyndi lauper music. cyndi's lauper's back note \"girls timeless yorn loved colors album. darker good</pre>"
      ],
      "text/plain": [
       "topic 44: cyndi lauper music. cyndi's lauper's back note \"girls timeless yorn loved colors album. darker good"
      ]
     },
     "metadata": {},
     "output_type": "display_data"
    },
    {
     "data": {
      "text/html": [
       "<pre>topic 45: dido dido's adele land lyrics angel enjoy fire adele's album. bond faithless \"rolling \"white rent</pre>"
      ],
      "text/plain": [
       "topic 45: dido dido's adele land lyrics angel enjoy fire adele's album. bond faithless \"rolling \"white rent"
      ]
     },
     "metadata": {},
     "output_type": "display_data"
    },
    {
     "data": {
      "text/html": [
       "<pre>topic 46: big love outkast andre boi hip-hop listen kelis boi's groups 3000 outkast's cool eclectic hey</pre>"
      ],
      "text/plain": [
       "topic 46: big love outkast andre boi hip-hop listen kelis boi's groups 3000 outkast's cool eclectic hey"
      ]
     },
     "metadata": {},
     "output_type": "display_data"
    },
    {
     "data": {
      "text/html": [
       "<pre>topic 47: yeah karen carpenters carpenter richard pretty karen's album, yeahs timeless effort. put days love rufus</pre>"
      ],
      "text/plain": [
       "topic 47: yeah karen carpenters carpenter richard pretty karen's album, yeahs timeless effort. put days love rufus"
      ]
     },
     "metadata": {},
     "output_type": "display_data"
    },
    {
     "data": {
      "text/html": [
       "<pre>topic 48: fleet foxes album! best, robin feeling sing period. dont \"helplessness hear. super / alot impossible</pre>"
      ],
      "text/plain": [
       "topic 48: fleet foxes album! best, robin feeling sing period. dont \"helplessness hear. super / alot impossible"
      ]
     },
     "metadata": {},
     "output_type": "display_data"
    },
    {
     "data": {
      "text/html": [
       "<pre>topic 49: van album halen alanis rock eddie david great lee bad roth dave morissette cover halen's</pre>"
      ],
      "text/plain": [
       "topic 49: van album halen alanis rock eddie david great lee bad roth dave morissette cover halen's"
      ]
     },
     "metadata": {},
     "output_type": "display_data"
    },
    {
     "data": {
      "text/html": [
       "<pre>topic 50: album songs great good album. weezer cd fun love don't cher it's good. pretty favorite</pre>"
      ],
      "text/plain": [
       "topic 50: album songs great good album. weezer cd fun love don't cher it's good. pretty favorite"
      ]
     },
     "metadata": {},
     "output_type": "display_data"
    },
    {
     "data": {
      "text/html": [
       "<pre>topic 51: song it's great album good - love songs song. track album. song, lyrics nice don't</pre>"
      ],
      "text/plain": [
       "topic 51: song it's great album good - love songs song. track album. song, lyrics nice don't"
      ]
     },
     "metadata": {},
     "output_type": "display_data"
    },
    {
     "data": {
      "text/html": [
       "<pre>topic 52: great thumbs cd here's word: highlights: write agree cd. subject crafted 2 middle, bunch overall,</pre>"
      ],
      "text/plain": [
       "topic 52: great thumbs cd here's word: highlights: write agree cd. subject crafted 2 middle, bunch overall,"
      ]
     },
     "metadata": {},
     "output_type": "display_data"
    },
    {
     "data": {
      "text/html": [
       "<pre>topic 53: blues great rock guitar jeff songs classic blues, eric playing clapton folk john robert beck</pre>"
      ],
      "text/plain": [
       "topic 53: blues great rock guitar jeff songs classic blues, eric playing clapton folk john robert beck"
      ]
     },
     "metadata": {},
     "output_type": "display_data"
    },
    {
     "data": {
      "text/html": [
       "<pre>topic 54: sheryl crow wanna montreal barnes kevin crow's bit voice c'mon sheryl's buy \"live masterpiece 'the</pre>"
      ],
      "text/plain": [
       "topic 54: sheryl crow wanna montreal barnes kevin crow's bit voice c'mon sheryl's buy \"live masterpiece 'the"
      ]
     },
     "metadata": {},
     "output_type": "display_data"
    },
    {
     "data": {
      "text/html": [
       "<pre>topic 55: tori songs cat amos tori's stevens piano albums cover strange choirgirl \"little boys venus amos'</pre>"
      ],
      "text/plain": [
       "topic 55: tori songs cat amos tori's stevens piano albums cover strange choirgirl \"little boys venus amos'"
      ]
     },
     "metadata": {},
     "output_type": "display_data"
    },
    {
     "data": {
      "text/html": [
       "<pre>topic 56: great too. guys energy sly &amp; there, reccomend earlier perfect. fun. done, highly speak order</pre>"
      ],
      "text/plain": [
       "topic 56: great too. guys energy sly &amp; there, reccomend earlier perfect. fun. done, highly speak order"
      ]
     },
     "metadata": {},
     "output_type": "display_data"
    },
    {
     "data": {
      "text/html": [
       "<pre>topic 57: bon jovi jon cool justin iver 13 jersey jovi's fairly this, real vernon's slippery recommended</pre>"
      ],
      "text/plain": [
       "topic 57: bon jovi jon cool justin iver 13 jersey jovi's fairly this, real vernon's slippery recommended"
      ]
     },
     "metadata": {},
     "output_type": "display_data"
    },
    {
     "data": {
      "text/html": [
       "<pre>topic 58: radiohead king thom clay yorke kid radiohead's ruben yorke's computer peace radiohead, clay's piece \"king</pre>"
      ],
      "text/plain": [
       "topic 58: radiohead king thom clay yorke kid radiohead's ruben yorke's computer peace radiohead, clay's piece \"king"
      ]
     },
     "metadata": {},
     "output_type": "display_data"
    },
    {
     "data": {
      "text/html": [
       "<pre>topic 59: jazz music playing great musicians miles recording blue recorded solo work james classic played jazz,</pre>"
      ],
      "text/plain": [
       "topic 59: jazz music playing great musicians miles recording blue recorded solo work james classic played jazz,"
      ]
     },
     "metadata": {},
     "output_type": "display_data"
    },
    {
     "data": {
      "text/html": [
       "<pre>topic 60: say, dig earlier wrong hope man. mix christmas buying. eisley sure. too. heard. seriously. business.</pre>"
      ],
      "text/plain": [
       "topic 60: say, dig earlier wrong hope man. mix christmas buying. eisley sure. too. heard. seriously. business."
      ]
     },
     "metadata": {},
     "output_type": "display_data"
    },
    {
     "data": {
      "text/html": [
       "<pre>topic 61: hot billboard u.s. 100 top easy adult # minutes chart mainstream weeks reached 200 charts</pre>"
      ],
      "text/plain": [
       "topic 61: hot billboard u.s. 100 top easy adult # minutes chart mainstream weeks reached 200 charts"
      ]
     },
     "metadata": {},
     "output_type": "display_data"
    },
    {
     "data": {
      "text/html": [
       "<pre>topic 62: dan steely fagen dan's royal becker donald katy don't b-52's walter lose fred perry \"do</pre>"
      ],
      "text/plain": [
       "topic 62: dan steely fagen dan's royal becker donald katy don't b-52's walter lose fred perry \"do"
      ]
     },
     "metadata": {},
     "output_type": "display_data"
    },
    {
     "data": {
      "text/html": [
       "<pre>topic 63: bone mariah carey abba thugs mariah's 1999 krayzie harmony group fast super eternal bizzy double</pre>"
      ],
      "text/plain": [
       "topic 63: bone mariah carey abba thugs mariah's 1999 krayzie harmony group fast super eternal bizzy double"
      ]
     },
     "metadata": {},
     "output_type": "display_data"
    },
    {
     "data": {
      "text/html": [
       "<pre>topic 64: one. this, expect done. production, dog album, mix delivery pop free worth one, deserves disappoint</pre>"
      ],
      "text/plain": [
       "topic 64: one. this, expect done. production, dog album, mix delivery pop free worth one, deserves disappoint"
      ]
     },
     "metadata": {},
     "output_type": "display_data"
    },
    {
     "data": {
      "text/html": [
       "<pre>topic 65: head - latest again. song couple them. favorites style, doubt theme wouldn't lyric eye confused</pre>"
      ],
      "text/plain": [
       "topic 65: head - latest again. song couple them. favorites style, doubt theme wouldn't lyric eye confused"
      ]
     },
     "metadata": {},
     "output_type": "display_data"
    },
    {
     "data": {
      "text/html": [
       "<pre>topic 66: funk p-funk parliament clinton connection bootsy mothership movie worth cuts funk. out. funky nose money.</pre>"
      ],
      "text/plain": [
       "topic 66: funk p-funk parliament clinton connection bootsy mothership movie worth cuts funk. out. funky nose money."
      ]
     },
     "metadata": {},
     "output_type": "display_data"
    },
    {
     "data": {
      "text/html": [
       "<pre>topic 67: nick drake drake's pink leaves jamiroquai moon buy choose jay unique \"pink duncan nick's moon,</pre>"
      ],
      "text/plain": [
       "topic 67: nick drake drake's pink leaves jamiroquai moon buy choose jay unique \"pink duncan nick's moon,"
      ]
     },
     "metadata": {},
     "output_type": "display_data"
    },
    {
     "data": {
      "text/html": [
       "<pre>topic 68: michael album jackson music pop dance elvis stop bad can't jackson's costello hit michael's world</pre>"
      ],
      "text/plain": [
       "topic 68: michael album jackson music pop dance elvis stop bad can't jackson's costello hit michael's world"
      ]
     },
     "metadata": {},
     "output_type": "display_data"
    },
    {
     "data": {
      "text/html": [
       "<pre>topic 69: album rap 50 eminem hip beats hop good he's game dont real song dre lyrics</pre>"
      ],
      "text/plain": [
       "topic 69: album rap 50 eminem hip beats hop good he's game dont real song dre lyrics"
      ]
     },
     "metadata": {},
     "output_type": "display_data"
    },
    {
     "data": {
      "text/html": [
       "<pre>topic 70: devo great you're freedom one, devo's fun money. future listenable done, full good, impressed ride</pre>"
      ],
      "text/plain": [
       "topic 70: devo great you're freedom one, devo's fun money. future listenable done, full good, impressed ride"
      ]
     },
     "metadata": {},
     "output_type": "display_data"
    },
    {
     "data": {
      "text/html": [
       "<pre>topic 71: album great madonna alice dance pop love songs it's title madonna's album. album, song buffett</pre>"
      ],
      "text/plain": [
       "topic 71: album great madonna alice dance pop love songs it's title madonna's album. album, song buffett"
      ]
     },
     "metadata": {},
     "output_type": "display_data"
    },
    {
     "data": {
      "text/html": [
       "<pre>topic 72: great hill cypress liz phair love music you'll creative lost plain sen exile muggs lyrics</pre>"
      ],
      "text/plain": [
       "topic 72: great hill cypress liz phair love music you'll creative lost plain sen exile muggs lyrics"
      ]
     },
     "metadata": {},
     "output_type": "display_data"
    },
    {
     "data": {
      "text/html": [
       "<pre>topic 73: prince funky prince's funk sign purple soundtrack album world times time o' \"purple cd morris</pre>"
      ],
      "text/plain": [
       "topic 73: prince funky prince's funk sign purple soundtrack album world times time o' \"purple cd morris"
      ]
     },
     "metadata": {},
     "output_type": "display_data"
    },
    {
     "data": {
      "text/html": [
       "<pre>topic 74: dylan bob mars dylan's songs boy belle great sebastian volta blood listen stuart joan twist</pre>"
      ],
      "text/plain": [
       "topic 74: dylan bob mars dylan's songs boy belle great sebastian volta blood listen stuart joan twist"
      ]
     },
     "metadata": {},
     "output_type": "display_data"
    },
    {
     "data": {
      "text/html": [
       "<pre>topic 75: buy music. one, gonna doubt filled long best. creative close strong fav that's and, it.</pre>"
      ],
      "text/plain": [
       "topic 75: buy music. one, gonna doubt filled long best. creative close strong fav that's and, it."
      ]
     },
     "metadata": {},
     "output_type": "display_data"
    },
    {
     "data": {
      "text/html": [
       "<pre>topic 76: classics cd! rate heard early release. mentioning past silly let's price didn't album.in too. collection,</pre>"
      ],
      "text/plain": [
       "topic 76: classics cd! rate heard early release. mentioning past silly let's price didn't album.in too. collection,"
      ]
     },
     "metadata": {},
     "output_type": "display_data"
    },
    {
     "data": {
      "text/html": [
       "<pre>topic 77: pixies album kim black frank radio francis good surf splash pixies, cd! breeders surfer work</pre>"
      ],
      "text/plain": [
       "topic 77: pixies album kim black frank radio francis good surf splash pixies, cd! breeders surfer work"
      ]
     },
     "metadata": {},
     "output_type": "display_data"
    },
    {
     "data": {
      "text/html": [
       "<pre>topic 78: album great album. songs albums album, good tracks highly favorite track recommend fan music debut</pre>"
      ],
      "text/plain": [
       "topic 78: album great album. songs albums album, good tracks highly favorite track recommend fan music debut"
      ]
     },
     "metadata": {},
     "output_type": "display_data"
    },
    {
     "data": {
      "text/html": [
       "<pre>topic 79: cd. stuff can't release it! stop fond (number reminds awful sublime ride mr. beat ain't</pre>"
      ],
      "text/plain": [
       "topic 79: cd. stuff can't release it! stop fond (number reminds awful sublime ride mr. beat ain't"
      ]
     },
     "metadata": {},
     "output_type": "display_data"
    },
    {
     "data": {
      "text/html": [
       "<pre>topic 80: la de los rage el en tom machine yo battle lo le con angeles ratm</pre>"
      ],
      "text/plain": [
       "topic 80: la de los rage el en tom machine yo battle lo le con angeles ratm"
      ]
     },
     "metadata": {},
     "output_type": "display_data"
    },
    {
     "data": {
      "text/html": [
       "<pre>topic 81: you'll dead project gold sing quality. adam tough years. // selena points condition greats others.</pre>"
      ],
      "text/plain": [
       "topic 81: you'll dead project gold sing quality. adam tough years. // selena points condition greats others."
      ]
     },
     "metadata": {},
     "output_type": "display_data"
    },
    {
     "data": {
      "text/html": [
       "<pre>topic 82: love this, release. bad i'll he's full it's based album ii. core voice. work, =</pre>"
      ],
      "text/plain": [
       "topic 82: love this, release. bad i'll he's full it's based album ii. core voice. work, ="
      ]
     },
     "metadata": {},
     "output_type": "display_data"
    },
    {
     "data": {
      "text/html": [
       "<pre>topic 83: songs hits greatest collection disc cd tracks good albums compilation fans fan rock set live</pre>"
      ],
      "text/plain": [
       "topic 83: songs hits greatest collection disc cd tracks good albums compilation fans fan rock set live"
      ]
     },
     "metadata": {},
     "output_type": "display_data"
    },
    {
     "data": {
      "text/html": [
       "<pre>topic 84: album wu wu-tang production beats rza ghostface ghost method arctic album. tang gza monkeys 36</pre>"
      ],
      "text/plain": [
       "topic 84: album wu wu-tang production beats rza ghostface ghost method arctic album. tang gza monkeys 36"
      ]
     },
     "metadata": {},
     "output_type": "display_data"
    },
    {
     "data": {
      "text/html": [
       "<pre>topic 85: album song hit songs & \"the elton released top john pop great \"i albums single</pre>"
      ],
      "text/plain": [
       "topic 85: album song hit songs & \"the elton released top john pop great \"i albums single"
      ]
     },
     "metadata": {},
     "output_type": "display_data"
    },
    {
     "data": {
      "text/html": [
       "<pre>topic 86: band rock album guitar sound bands great it's hard sounds heavy band's albums metal music</pre>"
      ],
      "text/plain": [
       "topic 86: band rock album guitar sound bands great it's hard sounds heavy band's albums metal music"
      ]
     },
     "metadata": {},
     "output_type": "display_data"
    },
    {
     "data": {
      "text/html": [
       "<pre>topic 87: pop jones music norah jewel country she's michelle spirit jewel's vanessa dolly listen branch jones'</pre>"
      ],
      "text/plain": [
       "topic 87: pop jones music norah jewel country she's michelle spirit jewel's vanessa dolly listen branch jones'"
      ]
     },
     "metadata": {},
     "output_type": "display_data"
    },
    {
     "data": {
      "text/html": [
       "<pre>topic 88: duran stevie fleetwood songs annie mac eurythmics great christine nicks dreams buckingham dave lennox group</pre>"
      ],
      "text/plain": [
       "topic 88: duran stevie fleetwood songs annie mac eurythmics great christine nicks dreams buckingham dave lennox group"
      ]
     },
     "metadata": {},
     "output_type": "display_data"
    },
    {
     "data": {
      "text/html": [
       "<pre>topic 89: songs record word listen definite here, blah material. smile 2) heard, set expect, recommended english,</pre>"
      ],
      "text/plain": [
       "topic 89: songs record word listen definite here, blah material. smile 2) heard, set expect, recommended english,"
      ]
     },
     "metadata": {},
     "output_type": "display_data"
    },
    {
     "data": {
      "text/html": [
       "<pre>topic 90: find instant slightly helped hard disc. teenage creative free checking received lost growth trademark young</pre>"
      ],
      "text/plain": [
       "topic 90: find instant slightly helped hard disc. teenage creative free checking received lost growth trademark young"
      ]
     },
     "metadata": {},
     "output_type": "display_data"
    },
    {
     "data": {
      "text/html": [
       "<pre>topic 91: album check it. pick ten hope this, minutes good. material. stays capture style. next. alone.</pre>"
      ],
      "text/plain": [
       "topic 91: album check it. pick ten hope this, minutes good. material. stays capture style. next. alone."
      ]
     },
     "metadata": {},
     "output_type": "display_data"
    },
    {
     "data": {
      "text/html": [
       "<pre>topic 92: cd 2nd star, matter rate ones. do, work sounds sam buy ranks cuts job phenomenal</pre>"
      ],
      "text/plain": [
       "topic 92: cd 2nd star, matter rate ones. do, work sounds sam buy ranks cuts job phenomenal"
      ]
     },
     "metadata": {},
     "output_type": "display_data"
    },
    {
     "data": {
      "text/html": [
       "<pre>topic 93: remember piece funny stuff go-go's masterpiece. chapman tiny rocks 'don't this. basement natural elements, redhead</pre>"
      ],
      "text/plain": [
       "topic 93: remember piece funny stuff go-go's masterpiece. chapman tiny rocks 'don't this. basement natural elements, redhead"
      ]
     },
     "metadata": {},
     "output_type": "display_data"
    },
    {
     "data": {
      "text/html": [
       "<pre>topic 94: incubus morning view buy brandon great listen underrated boyd me, crow \"morning turned masterpiece, incubus'</pre>"
      ],
      "text/plain": [
       "topic 94: incubus morning view buy brandon great listen underrated boyd me, crow \"morning turned masterpiece, incubus'"
      ]
     },
     "metadata": {},
     "output_type": "display_data"
    },
    {
     "data": {
      "text/html": [
       "<pre>topic 95: hot red album chili peppers sex blood funk funky sugar double john mellow rob meat</pre>"
      ],
      "text/plain": [
       "topic 95: hot red album chili peppers sex blood funk funky sugar double john mellow rob meat"
      ]
     },
     "metadata": {},
     "output_type": "display_data"
    },
    {
     "data": {
      "text/html": [
       "<pre>topic 96: cash johnny man american cash's rick ain't prison country waylon inch legend rubin walk series</pre>"
      ],
      "text/plain": [
       "topic 96: cash johnny man american cash's rick ain't prison country waylon inch legend rubin walk series"
      ]
     },
     "metadata": {},
     "output_type": "display_data"
    },
    {
     "data": {
      "text/html": [
       "<pre>topic 97: - version original album live sound tracks cd bonus disc great release released versions quality</pre>"
      ],
      "text/plain": [
       "topic 97: - version original album live sound tracks cd bonus disc great release released versions quality"
      ]
     },
     "metadata": {},
     "output_type": "display_data"
    },
    {
     "data": {
      "text/html": [
       "<pre>topic 98: it! album. favourite (a music. bit best. car music dandy par incredible. shock stuff bunch</pre>"
      ],
      "text/plain": [
       "topic 98: it! album. favourite (a music. bit best. car music dandy par incredible. shock stuff bunch"
      ]
     },
     "metadata": {},
     "output_type": "display_data"
    },
    {
     "data": {
      "text/html": [
       "<pre>topic 99: sounds boys beach brian pet wilson toni smashing shop pumpkins love braxton beatles wilson's corgan</pre>"
      ],
      "text/plain": [
       "topic 99: sounds boys beach brian pet wilson toni smashing shop pumpkins love braxton beatles wilson's corgan"
      ]
     },
     "metadata": {},
     "output_type": "display_data"
    },
    {
     "data": {
      "text/html": [
       "<pre>| 140       | 5m 37s        | 3.1732e+006    | 16345           |</pre>"
      ],
      "text/plain": [
       "| 140       | 5m 37s        | 3.1732e+006    | 16345           |"
      ]
     },
     "metadata": {},
     "output_type": "display_data"
    },
    {
     "data": {
      "text/html": [
       "<pre>topic 0: &amp; &quot;the album songs &quot;i hit me&quot; you&quot; &quot;you love&quot; title pop classic make &quot;don't</pre>"
      ],
      "text/plain": [
       "topic 0: &amp; &quot;the album songs &quot;i hit me&quot; you&quot; &quot;you love&quot; title pop classic make &quot;don't"
      ]
     },
     "metadata": {},
     "output_type": "display_data"
    },
    {
     "data": {
      "text/html": [
       "<pre>topic 1: gift step sounds due disc out, work, must-have added to. word lot. purchased. -------- this.</pre>"
      ],
      "text/plain": [
       "topic 1: gift step sounds due disc out, work, must-have added to. word lot. purchased. -------- this."
      ]
     },
     "metadata": {},
     "output_type": "display_data"
    },
    {
     "data": {
      "text/html": [
       "<pre>topic 2: lenny kravitz turned delivered writing. hold grows specific lyrics 4th show, etc. love lp crazy.</pre>"
      ],
      "text/plain": [
       "topic 2: lenny kravitz turned delivered writing. hold grows specific lyrics 4th show, etc. love lp crazy."
      ]
     },
     "metadata": {},
     "output_type": "display_data"
    },
    {
     "data": {
      "text/html": [
       "<pre>topic 3: album good avoid nalick hit super of. fan to. return recommend close pretty writes anna</pre>"
      ],
      "text/plain": [
       "topic 3: album good avoid nalick hit super of. fan to. return recommend close pretty writes anna"
      ]
     },
     "metadata": {},
     "output_type": "display_data"
    },
    {
     "data": {
      "text/html": [
       "<pre>topic 4: it's album don't songs i'm good that's doesn't album, album. people isn't lot can't it.</pre>"
      ],
      "text/plain": [
       "topic 4: it's album don't songs i'm good that's doesn't album, album. people isn't lot can't it."
      ]
     },
     "metadata": {},
     "output_type": "display_data"
    },
    {
     "data": {
      "text/html": [
       "<pre>topic 5: paul simon & mccartney solo simon's carly beatles bee paul's mccartney's garfunkel troubled run wings</pre>"
      ],
      "text/plain": [
       "topic 5: paul simon & mccartney solo simon's carly beatles bee paul's mccartney's garfunkel troubled run wings"
      ]
     },
     "metadata": {},
     "output_type": "display_data"
    },
    {
     "data": {
      "text/html": [
       "<pre>topic 6: lips flaming soft great wayne pink battles yoshimi lips, taste super band. lips' coyne weighs</pre>"
      ],
      "text/plain": [
       "topic 6: lips flaming soft great wayne pink battles yoshimi lips, taste super band. lips' coyne weighs"
      ]
     },
     "metadata": {},
     "output_type": "display_data"
    },
    {
     "data": {
      "text/html": [
       "<pre>topic 7: good song entire grows running goin' off. cover singer's girls taste solid one. same, large</pre>"
      ],
      "text/plain": [
       "topic 7: good song entire grows running goin' off. cover singer's girls taste solid one. same, large"
      ]
     },
     "metadata": {},
     "output_type": "display_data"
    },
    {
     "data": {
      "text/html": [
       "<pre>topic 8: radio, lost match creative out. stuff. excellent tracks hour alot choose blow song! day piece</pre>"
      ],
      "text/plain": [
       "topic 8: radio, lost match creative out. stuff. excellent tracks hour alot choose blow song! day piece"
      ]
     },
     "metadata": {},
     "output_type": "display_data"
    },
    {
     "data": {
      "text/html": [
       "<pre>topic 9: punk daft ... it! punk's emily face love nevertheless, basement kiss disappointed. he's here, jaxx</pre>"
      ],
      "text/plain": [
       "topic 9: punk daft ... it! punk's emily face love nevertheless, basement kiss disappointed. he's here, jaxx"
      ]
     },
     "metadata": {},
     "output_type": "display_data"
    },
    {
     "data": {
      "text/html": [
       "<pre>topic 10: add time! reverse represents mr artists. time. albums course, highest olivia's theater lacked alone, lenny</pre>"
      ],
      "text/plain": [
       "topic 10: add time! reverse represents mr artists. time. albums course, highest olivia's theater lacked alone, lenny"
      ]
     },
     "metadata": {},
     "output_type": "display_data"
    },
    {
     "data": {
      "text/html": [
       "<pre>topic 11: joni cars mitchell joni's mitchell's court ric spark ocasek strawbs friend's cars, cars' orr elliot</pre>"
      ],
      "text/plain": [
       "topic 11: joni cars mitchell joni's mitchell's court ric spark ocasek strawbs friend's cars, cars' orr elliot"
      ]
     },
     "metadata": {},
     "output_type": "display_data"
    },
    {
     "data": {
      "text/html": [
       "<pre>topic 12: best. fresh it. * add answer degrees loves again, i've amount music start now. nice.</pre>"
      ],
      "text/plain": [
       "topic 12: best. fresh it. * add answer degrees loves again, i've amount music start now. nice."
      ]
     },
     "metadata": {},
     "output_type": "display_data"
    },
    {
     "data": {
      "text/html": [
       "<pre>topic 13: character you. deep hard i've brilliant factor todays standout bubblegum good; agree follow-up inevitable it.the</pre>"
      ],
      "text/plain": [
       "topic 13: character you. deep hard i've brilliant factor todays standout bubblegum good; agree follow-up inevitable it.the"
      ]
     },
     "metadata": {},
     "output_type": "display_data"
    },
    {
     "data": {
      "text/html": [
       "<pre>topic 14: music back time years people make heard music. world record listen it's life made listening</pre>"
      ],
      "text/plain": [
       "topic 14: music back time years people make heard music. world record listen it's life made listening"
      ]
     },
     "metadata": {},
     "output_type": "display_data"
    },
    {
     "data": {
      "text/html": [
       "<pre>topic 15: - album & track good beat song production -- tracks great featuring rap beats nice</pre>"
      ],
      "text/plain": [
       "topic 15: - album & track good beat song production -- tracks great featuring rap beats nice"
      ]
     },
     "metadata": {},
     "output_type": "display_data"
    },
    {
     "data": {
      "text/html": [
       "<pre>topic 16: best. eyes mainstream. album. style dance type equally side introspective style, compare time! filler. easy</pre>"
      ],
      "text/plain": [
       "topic 16: best. eyes mainstream. album. style dance type equally side introspective style, compare time! filler. easy"
      ]
     },
     "metadata": {},
     "output_type": "display_data"
    },
    {
     "data": {
      "text/html": [
       "<pre>topic 17: touches hey it. have. craig fun tower also. group songs: clever cocteau satisfying i'm fearless</pre>"
      ],
      "text/plain": [
       "topic 17: touches hey it. have. craig fun tower also. group songs: clever cocteau satisfying i'm fearless"
      ]
     },
     "metadata": {},
     "output_type": "display_data"
    },
    {
     "data": {
      "text/html": [
       "<pre>topic 18: loves hands better. list heard, mind. forward remember st. you. left masterpiece can. entertaining others,</pre>"
      ],
      "text/plain": [
       "topic 18: loves hands better. list heard, mind. forward remember st. you. left masterpiece can. entertaining others,"
      ]
     },
     "metadata": {},
     "output_type": "display_data"
    },
    {
     "data": {
      "text/html": [
       "<pre>topic 19: phil great album eagles collins solo don long songs can't genesis day christmas steve peter</pre>"
      ],
      "text/plain": [
       "topic 19: phil great album eagles collins solo don long songs can't genesis day christmas steve peter"
      ]
     },
     "metadata": {},
     "output_type": "display_data"
    },
    {
     "data": {
      "text/html": [
       "<pre>topic 20: artists best. beats. enjoy. tight add it... creative again, magic rest why? similar. silent heat</pre>"
      ],
      "text/plain": [
       "topic 20: artists best. beats. enjoy. tight add it... creative again, magic rest why? similar. silent heat"
      ]
     },
     "metadata": {},
     "output_type": "display_data"
    },
    {
     "data": {
      "text/html": [
       "<pre>topic 21: love years all. aware shining track peace fine related cuts, make include air it! favorite</pre>"
      ],
      "text/plain": [
       "topic 21: love years all. aware shining track peace fine related cuts, make include air it! favorite"
      ]
     },
     "metadata": {},
     "output_type": "display_data"
    },
    {
     "data": {
      "text/html": [
       "<pre>topic 22: cd good 5 stars 4 give 2 3 star stars. buy gave bad 10 stars,</pre>"
      ],
      "text/plain": [
       "topic 22: cd good 5 stars 4 give 2 3 star stars. buy gave bad 10 stars,"
      ]
     },
     "metadata": {},
     "output_type": "display_data"
    },
    {
     "data": {
      "text/html": [
       "<pre>topic 23: album alison sara bluegrass krauss plant no. robert tweet tegan [see chris union nickel hands</pre>"
      ],
      "text/plain": [
       "topic 23: album alison sara bluegrass krauss plant no. robert tweet tegan [see chris union nickel hands"
      ]
     },
     "metadata": {},
     "output_type": "display_data"
    },
    {
     "data": {
      "text/html": [
       "<pre>topic 24: rest cd's gem love that. plenty sing great. tv turn hailed promise best. business, puts</pre>"
      ],
      "text/plain": [
       "topic 24: rest cd's gem love that. plenty sing great. tv turn hailed promise best. business, puts"
      ]
     },
     "metadata": {},
     "output_type": "display_data"
    },
    {
     "data": {
      "text/html": [
       "<pre>topic 25: voice fantastic. lacking place. heavy tops son too! overlooked disliked places years weeks. can't phone</pre>"
      ],
      "text/plain": [
       "topic 25: voice fantastic. lacking place. heavy tops son too! overlooked disliked places years weeks. can't phone"
      ]
     },
     "metadata": {},
     "output_type": "display_data"
    },
    {
     "data": {
      "text/html": [
       "<pre>topic 26: white jack stripes lady blood gaga meg cold white's good nation elephant \"born boy lonely</pre>"
      ],
      "text/plain": [
       "topic 26: white jack stripes lady blood gaga meg cold white's good nation elephant \"born boy lonely"
      ]
     },
     "metadata": {},
     "output_type": "display_data"
    },
    {
     "data": {
      "text/html": [
       "<pre>topic 27: . , \" ( &quot; ! ) danger mouse : an' cee-lo ... ? gnarls</pre>"
      ],
      "text/plain": [
       "topic 27: . , \" ( &quot; ! ) danger mouse : an' cee-lo ... ? gnarls"
      ]
     },
     "metadata": {},
     "output_type": "display_data"
    },
    {
     "data": {
      "text/html": [
       "<pre>topic 28: great worth fine songwriter baby nice band roots cd. pull 60 creative advice ride \"right</pre>"
      ],
      "text/plain": [
       "topic 28: great worth fine songwriter baby nice band roots cd. pull 60 creative advice ride \"right"
      ]
     },
     "metadata": {},
     "output_type": "display_data"
    },
    {
     "data": {
      "text/html": [
       "<pre>topic 29: songs songs. gonna fans, carry one. that's check expect sort elements off, late matter sense</pre>"
      ],
      "text/plain": [
       "topic 29: songs songs. gonna fans, carry one. that's check expect sort elements off, late matter sense"
      ]
     },
     "metadata": {},
     "output_type": "display_data"
    },
    {
     "data": {
      "text/html": [
       "<pre>topic 30: ben folds del die primus les lana can't \"video window \"born harper games\" seas die\"</pre>"
      ],
      "text/plain": [
       "topic 30: ben folds del die primus les lana can't \"video window \"born harper games\" seas die\""
      ]
     },
     "metadata": {},
     "output_type": "display_data"
    },
    {
     "data": {
      "text/html": [
       "<pre>topic 31: mary amy blige j. mary's duffy winehouse drama 60's breakthrough classic dry puts losing mary,</pre>"
      ],
      "text/plain": [
       "topic 31: mary amy blige j. mary's duffy winehouse drama 60's breakthrough classic dry puts losing mary,"
      ]
     },
     "metadata": {},
     "output_type": "display_data"
    },
    {
     "data": {
      "text/html": [
       "<pre>topic 32: style cd huge letter attempts earlier continue tear funky album. wow! decades. live recommended reviewer</pre>"
      ],
      "text/plain": [
       "topic 32: style cd huge letter attempts earlier continue tear funky album. wow! decades. live recommended reviewer"
      ]
     },
     "metadata": {},
     "output_type": "display_data"
    },
    {
     "data": {
      "text/html": [
       "<pre>topic 33: great feel album rest fun. it's home modern / hype. system wrong miss sublime start</pre>"
      ],
      "text/plain": [
       "topic 33: great feel album rest fun. it's home modern / hype. system wrong miss sublime start"
      ]
     },
     "metadata": {},
     "output_type": "display_data"
    },
    {
     "data": {
      "text/html": [
       "<pre>topic 34: love voice soul music she's album debut r&b; soulful artist singing cd singer don't artists</pre>"
      ],
      "text/plain": [
       "topic 34: love voice soul music she's album debut r&b; soulful artist singing cd singer don't artists"
      ]
     },
     "metadata": {},
     "output_type": "display_data"
    },
    {
     "data": {
      "text/html": [
       "<pre>topic 35: buy compared clever listenable success throw faves blows it's admits fave inside fine record, ranks</pre>"
      ],
      "text/plain": [
       "topic 35: buy compared clever listenable success throw faves blows it's admits fave inside fine record, ranks"
      ]
     },
     "metadata": {},
     "output_type": "display_data"
    },
    {
     "data": {
      "text/html": [
       "<pre>topic 36: dark effort. it's full this, listening. bands chief cut god's passionate good glad mega song,</pre>"
      ],
      "text/plain": [
       "topic 36: dark effort. it's full this, listening. bands chief cut god's passionate good glad mega song,"
      ]
     },
     "metadata": {},
     "output_type": "display_data"
    },
    {
     "data": {
      "text/html": [
       "<pre>topic 37: mark dire knopfler straits knopfler's release miss pop rock, emmylou lyrics efforts arms\" nothing\" \"brothers</pre>"
      ],
      "text/plain": [
       "topic 37: mark dire knopfler straits knopfler's release miss pop rock, emmylou lyrics efforts arms\" nothing\" \"brothers"
      ]
     },
     "metadata": {},
     "output_type": "display_data"
    },
    {
     "data": {
      "text/html": [
       "<pre>topic 38: gordon lightfoot nina collection. par music. gordon's repetitive release lightfoot's veruca light recording, lyrics years</pre>"
      ],
      "text/plain": [
       "topic 38: gordon lightfoot nina collection. par music. gordon's repetitive release lightfoot's veruca light recording, lyrics years"
      ]
     },
     "metadata": {},
     "output_type": "display_data"
    },
    {
     "data": {
      "text/html": [
       "<pre>topic 39: album it's music song lyrics sound track musical - pop vocal vocals songs guitar sounds</pre>"
      ],
      "text/plain": [
       "topic 39: album it's music song lyrics sound track musical - pop vocal vocals songs guitar sounds"
      ]
     },
     "metadata": {},
     "output_type": "display_data"
    },
    {
     "data": {
      "text/html": [
       "<pre>topic 40: r. kelly great real album! 12 kelly, 90's. mind kelly's totally r.kelly upbeat 90's saved</pre>"
      ],
      "text/plain": [
       "topic 40: r. kelly great real album! 12 kelly, 90's. mind kelly's totally r.kelly upbeat 90's saved"
      ]
     },
     "metadata": {},
     "output_type": "display_data"
    },
    {
     "data": {
      "text/html": [
       "<pre>topic 41: cd songs song cd. love heard listen music it. good bought buy great cd, favorite</pre>"
      ],
      "text/plain": [
       "topic 41: cd songs song cd. love heard listen music it. good bought buy great cd, favorite"
      ]
     },
     "metadata": {},
     "output_type": "display_data"
    },
    {
     "data": {
      "text/html": [
       "<pre>topic 42: nelly furtado doubt love gwen nelly's loose furtado's bad tragic kingdom ska spanish god's hay</pre>"
      ],
      "text/plain": [
       "topic 42: nelly furtado doubt love gwen nelly's loose furtado's bad tragic kingdom ska spanish god's hay"
      ]
     },
     "metadata": {},
     "output_type": "display_data"
    },
    {
     "data": {
      "text/html": [
       "<pre>topic 43: gang guru kool album starr pure premier moment song listen mass mediocre guru's gangstarr flawless</pre>"
      ],
      "text/plain": [
       "topic 43: gang guru kool album starr pure premier moment song listen mass mediocre guru's gangstarr flawless"
      ]
     },
     "metadata": {},
     "output_type": "display_data"
    },
    {
     "data": {
      "text/html": [
       "<pre>topic 44: cyndi lauper hit lauper's cyndi's music. give \"girls voice, head. hands titled follow truth humor</pre>"
      ],
      "text/plain": [
       "topic 44: cyndi lauper hit lauper's cyndi's music. give \"girls voice, head. hands titled follow truth humor"
      ]
     },
     "metadata": {},
     "output_type": "display_data"
    },
    {
     "data": {
      "text/html": [
       "<pre>topic 45: dido dido's adele fire angel lyrics land adele's c.d. faithless finest \"rolling alone, album. sampled</pre>"
      ],
      "text/plain": [
       "topic 45: dido dido's adele fire angel lyrics land adele's c.d. faithless finest \"rolling alone, album. sampled"
      ]
     },
     "metadata": {},
     "output_type": "display_data"
    },
    {
     "data": {
      "text/html": [
       "<pre>topic 46: big love outkast andre boi killer fun kelis boi's hip-hop lives 3000 outkast's innovative double</pre>"
      ],
      "text/plain": [
       "topic 46: big love outkast andre boi killer fun kelis boi's hip-hop lives 3000 outkast's innovative double"
      ]
     },
     "metadata": {},
     "output_type": "display_data"
    },
    {
     "data": {
      "text/html": [
       "<pre>topic 47: yeah karen richard carpenters carpenter karen's one. album! yeahs love richard's yyy's recommend cover fever</pre>"
      ],
      "text/plain": [
       "topic 47: yeah karen richard carpenters carpenter karen's one. album! yeahs love richard's yyy's recommend cover fever"
      ]
     },
     "metadata": {},
     "output_type": "display_data"
    },
    {
     "data": {
      "text/html": [
       "<pre>topic 48: fleet foxes one, wrong. loved recording day too. bigger spectacular. provoking purchased what's quit debut.</pre>"
      ],
      "text/plain": [
       "topic 48: fleet foxes one, wrong. loved recording day too. bigger spectacular. provoking purchased what's quit debut."
      ]
     },
     "metadata": {},
     "output_type": "display_data"
    },
    {
     "data": {
      "text/html": [
       "<pre>topic 49: van alanis halen david album eddie great lee rock bad roth dave morissette cover album.</pre>"
      ],
      "text/plain": [
       "topic 49: van alanis halen david album eddie great lee rock bad roth dave morissette cover album."
      ]
     },
     "metadata": {},
     "output_type": "display_data"
    },
    {
     "data": {
      "text/html": [
       "<pre>topic 50: album great songs good cd album. weezer cher albums fun it's favorite blue mann melissa</pre>"
      ],
      "text/plain": [
       "topic 50: album great songs good cd album. weezer cher albums fun it's favorite blue mann melissa"
      ]
     },
     "metadata": {},
     "output_type": "display_data"
    },
    {
     "data": {
      "text/html": [
       "<pre>topic 51: song it's great album good - songs love song. track album. song, lyrics nice favorite</pre>"
      ],
      "text/plain": [
       "topic 51: song it's great album good - songs love song. track album. song, lyrics nice favorite"
      ]
     },
     "metadata": {},
     "output_type": "display_data"
    },
    {
     "data": {
      "text/html": [
       "<pre>topic 52: great thumbs cd here's cd. hasn't - highlights: word: times. back matter: like: gems loved</pre>"
      ],
      "text/plain": [
       "topic 52: great thumbs cd here's cd. hasn't - highlights: word: times. back matter: like: gems loved"
      ]
     },
     "metadata": {},
     "output_type": "display_data"
    },
    {
     "data": {
      "text/html": [
       "<pre>topic 53: blues great rock guitar songs classic jeff john love blues, eric moody clapton robert beck</pre>"
      ],
      "text/plain": [
       "topic 53: blues great rock guitar songs classic jeff john love blues, eric moody clapton robert beck"
      ]
     },
     "metadata": {},
     "output_type": "display_data"
    },
    {
     "data": {
      "text/html": [
       "<pre>topic 54: sheryl crow great kevin wanna montreal barnes crow's bit buy no, sheryl's helped lyrics. effort.</pre>"
      ],
      "text/plain": [
       "topic 54: sheryl crow great kevin wanna montreal barnes crow's bit buy no, sheryl's helped lyrics. effort."
      ]
     },
     "metadata": {},
     "output_type": "display_data"
    },
    {
     "data": {
      "text/html": [
       "<pre>topic 55: tori songs cat amos tori's stevens piano beautiful strange walk choirgirl venus \"little amos' tea</pre>"
      ],
      "text/plain": [
       "topic 55: tori songs cat amos tori's stevens piano beautiful strange walk choirgirl venus \"little amos' tea"
      ]
     },
     "metadata": {},
     "output_type": "display_data"
    },
    {
     "data": {
      "text/html": [
       "<pre>topic 56: ... listen too. finish. effort female disc chicago mexican shame making brilliant twin amazon gem</pre>"
      ],
      "text/plain": [
       "topic 56: ... listen too. finish. effort female disc chicago mexican shame making brilliant twin amazon gem"
      ]
     },
     "metadata": {},
     "output_type": "display_data"
    },
    {
     "data": {
      "text/html": [
       "<pre>topic 57: bon jovi jon justin songs cool forever iver richie jersey record. jovi's vernon's 10/10: christmas</pre>"
      ],
      "text/plain": [
       "topic 57: bon jovi jon justin songs cool forever iver richie jersey record. jovi's vernon's 10/10: christmas"
      ]
     },
     "metadata": {},
     "output_type": "display_data"
    },
    {
     "data": {
      "text/html": [
       "<pre>topic 58: radiohead thom clay king kid yorke ruben radiohead's yorke's solo computer radiohead, aiken clay's high</pre>"
      ],
      "text/plain": [
       "topic 58: radiohead thom clay king kid yorke ruben radiohead's yorke's solo computer radiohead, aiken clay's high"
      ]
     },
     "metadata": {},
     "output_type": "display_data"
    },
    {
     "data": {
      "text/html": [
       "<pre>topic 59: jazz music playing great work miles recording musicians blue recorded solo james note bass hear</pre>"
      ],
      "text/plain": [
       "topic 59: jazz music playing great work miles recording musicians blue recorded solo james note bass hear"
      ]
     },
     "metadata": {},
     "output_type": "display_data"
    },
    {
     "data": {
      "text/html": [
       "<pre>topic 60: expecting stick loving lyrics, lisa doesn't mtv hope direction rest business yorn's radio, long money</pre>"
      ],
      "text/plain": [
       "topic 60: expecting stick loving lyrics, lisa doesn't mtv hope direction rest business yorn's radio, long money"
      ]
     },
     "metadata": {},
     "output_type": "display_data"
    },
    {
     "data": {
      "text/html": [
       "<pre>topic 61: hot u.s. billboard 100 top charts easy # adult weeks chart reached box mainstream minutes</pre>"
      ],
      "text/plain": [
       "topic 61: hot u.s. billboard 100 top charts easy # adult weeks chart reached box mainstream minutes"
      ]
     },
     "metadata": {},
     "output_type": "display_data"
    },
    {
     "data": {
      "text/html": [
       "<pre>topic 62: dan steely fagen royal dan's becker katy donald lose b-52's walter fogelberg fred \"do kate</pre>"
      ],
      "text/plain": [
       "topic 62: dan steely fagen royal dan's becker katy donald lose b-52's walter fogelberg fred \"do kate"
      ]
     },
     "metadata": {},
     "output_type": "display_data"
    },
    {
     "data": {
      "text/html": [
       "<pre>topic 63: bone mariah thugs carey love abba mariah's fast group krayzie 1999 harmony it. bizzy eternal</pre>"
      ],
      "text/plain": [
       "topic 63: bone mariah thugs carey love abba mariah's fast group krayzie 1999 harmony it. bizzy eternal"
      ]
     },
     "metadata": {},
     "output_type": "display_data"
    },
    {
     "data": {
      "text/html": [
       "<pre>topic 64: worth kansas once. genius. rest free great there's real tiny too. alot groups era. effort</pre>"
      ],
      "text/plain": [
       "topic 64: worth kansas once. genius. rest free great there's real tiny too. alot groups era. effort"
      ]
     },
     "metadata": {},
     "output_type": "display_data"
    },
    {
     "data": {
      "text/html": [
       "<pre>topic 65: give this. project doubt great! now. album, effort. money. ability too. unique and, dance label.</pre>"
      ],
      "text/plain": [
       "topic 65: give this. project doubt great! now. album, effort. money. ability too. unique and, dance label."
      ]
     },
     "metadata": {},
     "output_type": "display_data"
    },
    {
     "data": {
      "text/html": [
       "<pre>topic 66: funk p-funk clinton parliament connection favorite funky sounds mothership jams roof bootsy good, intelligent coming</pre>"
      ],
      "text/plain": [
       "topic 66: funk p-funk clinton parliament connection favorite funky sounds mothership jams roof bootsy good, intelligent coming"
      ]
     },
     "metadata": {},
     "output_type": "display_data"
    },
    {
     "data": {
      "text/html": [
       "<pre>topic 67: nick drake drake's pink moon leaves jamiroquai jay \"pink duncan nick's listen jane kay depressing</pre>"
      ],
      "text/plain": [
       "topic 67: nick drake drake's pink moon leaves jamiroquai jay \"pink duncan nick's listen jane kay depressing"
      ]
     },
     "metadata": {},
     "output_type": "display_data"
    },
    {
     "data": {
      "text/html": [
       "<pre>topic 68: album michael jackson pop music bad elvis jackson's dance stop songs can't costello michael's hit</pre>"
      ],
      "text/plain": [
       "topic 68: album michael jackson pop music bad elvis jackson's dance stop songs can't costello michael's hit"
      ]
     },
     "metadata": {},
     "output_type": "display_data"
    },
    {
     "data": {
      "text/html": [
       "<pre>topic 69: album rap 50 hip eminem beats good hop he's game lyrics real dont cd dre</pre>"
      ],
      "text/plain": [
       "topic 69: album rap 50 hip eminem beats good hop he's game lyrics real dont cd dre"
      ]
     },
     "metadata": {},
     "output_type": "display_data"
    },
    {
     "data": {
      "text/html": [
       "<pre>topic 70: devo great freedom one, devo's repeat doubt, grace good, time, made but, huge \"whip theme</pre>"
      ],
      "text/plain": [
       "topic 70: devo great freedom one, devo's repeat doubt, grace good, time, made but, huge \"whip theme"
      ]
     },
     "metadata": {},
     "output_type": "display_data"
    },
    {
     "data": {
      "text/html": [
       "<pre>topic 71: album madonna alice great dance title love it's madonna's pop album. buffett light single video</pre>"
      ],
      "text/plain": [
       "topic 71: album madonna alice great dance title love it's madonna's pop album. buffett light single video"
      ]
     },
     "metadata": {},
     "output_type": "display_data"
    },
    {
     "data": {
      "text/html": [
       "<pre>topic 72: great cypress hill liz phair head music sen super mp3 muggs you're party checking creative</pre>"
      ],
      "text/plain": [
       "topic 72: great cypress hill liz phair head music sen super mp3 muggs you're party checking creative"
      ]
     },
     "metadata": {},
     "output_type": "display_data"
    },
    {
     "data": {
      "text/html": [
       "<pre>topic 73: prince funk prince's album funky sign time movie times purple soundtrack o' \"purple morris called</pre>"
      ],
      "text/plain": [
       "topic 73: prince funk prince's album funky sign time movie times purple soundtrack o' \"purple morris called"
      ]
     },
     "metadata": {},
     "output_type": "display_data"
    },
    {
     "data": {
      "text/html": [
       "<pre>topic 74: dylan bob dylan's mars songs belle blood great sebastian volta boy stuart dylan, manson drink</pre>"
      ],
      "text/plain": [
       "topic 74: dylan bob dylan's mars songs belle blood great sebastian volta boy stuart dylan, manson drink"
      ]
     },
     "metadata": {},
     "output_type": "display_data"
    },
    {
     "data": {
      "text/html": [
       "<pre>topic 75: follow buy mind favorite call choose fall hanging rock. done, lousy listening, thought over. religion</pre>"
      ],
      "text/plain": [
       "topic 75: follow buy mind favorite call choose fall hanging rock. done, lousy listening, thought over. religion"
      ]
     },
     "metadata": {},
     "output_type": "display_data"
    },
    {
     "data": {
      "text/html": [
       "<pre>topic 76: one! dance cd! listen sounded talent amazing, can't super fresh move ab-soul mindless again. mood.</pre>"
      ],
      "text/plain": [
       "topic 76: one! dance cd! listen sounded talent amazing, can't super fresh move ab-soul mindless again. mood."
      ]
     },
     "metadata": {},
     "output_type": "display_data"
    },
    {
     "data": {
      "text/html": [
       "<pre>topic 77: album pixies kim frank black free deal surf francis view breeders lyrics talent supposed surfer</pre>"
      ],
      "text/plain": [
       "topic 77: album pixies kim frank black free deal surf francis view breeders lyrics talent supposed surfer"
      ]
     },
     "metadata": {},
     "output_type": "display_data"
    },
    {
     "data": {
      "text/html": [
       "<pre>topic 78: album album. great songs albums album, good tracks track favorite highly recommend fan albums. excellent</pre>"
      ],
      "text/plain": [
       "topic 78: album album. great songs albums album, good tracks track favorite highly recommend fan albums. excellent"
      ]
     },
     "metadata": {},
     "output_type": "display_data"
    },
    {
     "data": {
      "text/html": [
       "<pre>topic 79: cd. guys doubt taste york you'll bit older choice disc rock, artist, awful would. history,</pre>"
      ],
      "text/plain": [
       "topic 79: cd. guys doubt taste york you'll bit older choice disc rock, artist, awful would. history,"
      ]
     },
     "metadata": {},
     "output_type": "display_data"
    },
    {
     "data": {
      "text/html": [
       "<pre>topic 80: la de los rage el machine en battle lo grind yo tom lobos ratm evil</pre>"
      ],
      "text/plain": [
       "topic 80: la de los rage el machine en battle lo grind yo tom lobos ratm evil"
      ]
     },
     "metadata": {},
     "output_type": "display_data"
    },
    {
     "data": {
      "text/html": [
       "<pre>topic 81: music you'll recomend here: patience likes it! numerous fun, major avoid put tough \"we piece</pre>"
      ],
      "text/plain": [
       "topic 81: music you'll recomend here: patience likes it! numerous fun, major avoid put tough \"we piece"
      ]
     },
     "metadata": {},
     "output_type": "display_data"
    },
    {
     "data": {
      "text/html": [
       "<pre>topic 82: soul tune artists love vocals, always, opinion, saving worth times. money odd enjoy buy. million</pre>"
      ],
      "text/plain": [
       "topic 82: soul tune artists love vocals, always, opinion, saving worth times. money odd enjoy buy. million"
      ]
     },
     "metadata": {},
     "output_type": "display_data"
    },
    {
     "data": {
      "text/html": [
       "<pre>topic 83: songs hits collection greatest cd disc tracks albums compilation love fan set early rock live</pre>"
      ],
      "text/plain": [
       "topic 83: songs hits collection greatest cd disc tracks albums compilation love fan set early rock live"
      ]
     },
     "metadata": {},
     "output_type": "display_data"
    },
    {
     "data": {
      "text/html": [
       "<pre>topic 84: album wu wu-tang rza ghostface ghost beats album. tang arctic 36 gza monkeys method production</pre>"
      ],
      "text/plain": [
       "topic 84: album wu wu-tang rza ghostface ghost beats album. tang arctic 36 gza monkeys method production"
      ]
     },
     "metadata": {},
     "output_type": "display_data"
    },
    {
     "data": {
      "text/html": [
       "<pre>topic 85: album song songs hit & \"the elton released pop single top john great albums \"i</pre>"
      ],
      "text/plain": [
       "topic 85: album song songs hit & \"the elton released pop single top john great albums \"i"
      ]
     },
     "metadata": {},
     "output_type": "display_data"
    },
    {
     "data": {
      "text/html": [
       "<pre>topic 86: band rock album guitar sound bands it's great hard heavy songs band's metal music albums</pre>"
      ],
      "text/plain": [
       "topic 86: band rock album guitar sound bands it's great hard heavy songs band's metal music albums"
      ]
     },
     "metadata": {},
     "output_type": "display_data"
    },
    {
     "data": {
      "text/html": [
       "<pre>topic 87: jones country norah pop jewel music voice she's michelle spirit jewel's artist vanessa dolly debut</pre>"
      ],
      "text/plain": [
       "topic 87: jones country norah pop jewel music voice she's michelle spirit jewel's artist vanessa dolly debut"
      ]
     },
     "metadata": {},
     "output_type": "display_data"
    },
    {
     "data": {
      "text/html": [
       "<pre>topic 88: duran stevie fleetwood annie mac great eurythmics dreams songs nicks christine lennox buckingham lindsey group</pre>"
      ],
      "text/plain": [
       "topic 88: duran stevie fleetwood annie mac great eurythmics dreams songs nicks christine lennox buckingham lindsey group"
      ]
     },
     "metadata": {},
     "output_type": "display_data"
    },
    {
     "data": {
      "text/html": [
       "<pre>topic 89: awesome songs record artistic par + stab cute forgot dark summer track), hype. more. wrong</pre>"
      ],
      "text/plain": [
       "topic 89: awesome songs record artistic par + stab cute forgot dark summer track), hype. more. wrong"
      ]
     },
     "metadata": {},
     "output_type": "display_data"
    },
    {
     "data": {
      "text/html": [
       "<pre>topic 90: one. cover attention (one enjoy :) production quiet all. cool poor anyone. relaxing asia chance</pre>"
      ],
      "text/plain": [
       "topic 90: one. cover attention (one enjoy :) production quiet all. cool poor anyone. relaxing asia chance"
      ]
     },
     "metadata": {},
     "output_type": "display_data"
    },
    {
     "data": {
      "text/html": [
       "<pre>topic 91: album it. hit classic do, electronica makes you've .. yeah, asked music! good. glad strength</pre>"
      ],
      "text/plain": [
       "topic 91: album it. hit classic do, electronica makes you've .. yeah, asked music! good. glad strength"
      ]
     },
     "metadata": {},
     "output_type": "display_data"
    },
    {
     "data": {
      "text/html": [
       "<pre>topic 92: girls ... music best. recommend sisters through. i'll '80s pair often. comparison soothing imagine grand</pre>"
      ],
      "text/plain": [
       "topic 92: girls ... music best. recommend sisters through. i'll '80s pair often. comparison soothing imagine grand"
      ]
     },
     "metadata": {},
     "output_type": "display_data"
    },
    {
     "data": {
      "text/html": [
       "<pre>topic 93: good songs happy short wrong high move star. deserved beats, blown turning giving credibility strong.</pre>"
      ],
      "text/plain": [
       "topic 93: good songs happy short wrong high move star. deserved beats, blown turning giving credibility strong."
      ]
     },
     "metadata": {},
     "output_type": "display_data"
    },
    {
     "data": {
      "text/html": [
       "<pre>topic 94: incubus morning great buy view brandon \"morning crow like. fa boyd anyway, mellow romance incubus'</pre>"
      ],
      "text/plain": [
       "topic 94: incubus morning great buy view brandon \"morning crow like. fa boyd anyway, mellow romance incubus'"
      ]
     },
     "metadata": {},
     "output_type": "display_data"
    },
    {
     "data": {
      "text/html": [
       "<pre>topic 95: hot red chili peppers sex funky sugar funk blood john double meat anthony album rhcp</pre>"
      ],
      "text/plain": [
       "topic 95: hot red chili peppers sex funky sugar funk blood john double meat anthony album rhcp"
      ]
     },
     "metadata": {},
     "output_type": "display_data"
    },
    {
     "data": {
      "text/html": [
       "<pre>topic 96: cash johnny man american country cash's prison rick ain't voice legend waylon inch san life</pre>"
      ],
      "text/plain": [
       "topic 96: cash johnny man american country cash's prison rick ain't voice legend waylon inch san life"
      ]
     },
     "metadata": {},
     "output_type": "display_data"
    },
    {
     "data": {
      "text/html": [
       "<pre>topic 97: - version original album live tracks sound cd bonus disc great release released versions quality</pre>"
      ],
      "text/plain": [
       "topic 97: - version original album live tracks sound cd bonus disc great release released versions quality"
      ]
     },
     "metadata": {},
     "output_type": "display_data"
    },
    {
     "data": {
      "text/html": [
       "<pre>topic 98: favorite. it. biggest delivered so. ordinary hits diana crazy memory happy stay (written extremely work,</pre>"
      ],
      "text/plain": [
       "topic 98: favorite. it. biggest delivered so. ordinary hits diana crazy memory happy stay (written extremely work,"
      ]
     },
     "metadata": {},
     "output_type": "display_data"
    },
    {
     "data": {
      "text/html": [
       "<pre>topic 99: sounds boys beach brian pet toni wilson beatles pop smashing pumpkins shop love god braxton</pre>"
      ],
      "text/plain": [
       "topic 99: sounds boys beach brian pet toni wilson beatles pop smashing pumpkins shop love god braxton"
      ]
     },
     "metadata": {},
     "output_type": "display_data"
    },
    {
     "data": {
      "text/html": [
       "<pre>| 150       | 5m 57s        | 3.12829e+006   | 16339.5         |</pre>"
      ],
      "text/plain": [
       "| 150       | 5m 57s        | 3.12829e+006   | 16339.5         |"
      ]
     },
     "metadata": {},
     "output_type": "display_data"
    },
    {
     "data": {
      "text/html": [
       "<pre>topic 0: &amp; &quot;the album songs &quot;i hit me&quot; pop title you&quot; &quot;you love&quot; classic r&amp;b &quot;don't</pre>"
      ],
      "text/plain": [
       "topic 0: &amp; &quot;the album songs &quot;i hit me&quot; pop title you&quot; &quot;you love&quot; classic r&amp;b &quot;don't"
      ]
     },
     "metadata": {},
     "output_type": "display_data"
    },
    {
     "data": {
      "text/html": [
       "<pre>topic 1: group twins original guess --------- songwriting head -------- you're hard full kick real written gift</pre>"
      ],
      "text/plain": [
       "topic 1: group twins original guess --------- songwriting head -------- you're hard full kick real written gift"
      ]
     },
     "metadata": {},
     "output_type": "display_data"
    },
    {
     "data": {
      "text/html": [
       "<pre>topic 2: lenny lp good. artistic john groundbreaking trip forever. attention live, there, songs album around, drag</pre>"
      ],
      "text/plain": [
       "topic 2: lenny lp good. artistic john groundbreaking trip forever. attention live, there, songs album around, drag"
      ]
     },
     "metadata": {},
     "output_type": "display_data"
    },
    {
     "data": {
      "text/html": [
       "<pre>topic 3: album day\" fun, real good recommend nalick stuff anna combination thought. songwriting anymore sounded easy</pre>"
      ],
      "text/plain": [
       "topic 3: album day\" fun, real good recommend nalick stuff anna combination thought. songwriting anymore sounded easy"
      ]
     },
     "metadata": {},
     "output_type": "display_data"
    },
    {
     "data": {
      "text/html": [
       "<pre>topic 4: it's album don't songs i'm good that's doesn't album, isn't lot can't people it. album.</pre>"
      ],
      "text/plain": [
       "topic 4: it's album don't songs i'm good that's doesn't album, isn't lot can't people it. album."
      ]
     },
     "metadata": {},
     "output_type": "display_data"
    },
    {
     "data": {
      "text/html": [
       "<pre>topic 5: paul simon mccartney & solo carly simon's beatles troubled mccartney's paul's garfunkel tunes wings bee</pre>"
      ],
      "text/plain": [
       "topic 5: paul simon mccartney & solo carly simon's beatles troubled mccartney's paul's garfunkel tunes wings bee"
      ]
     },
     "metadata": {},
     "output_type": "display_data"
    },
    {
     "data": {
      "text/html": [
       "<pre>topic 6: lips flaming soft great wayne battles lips, lips' yoshimi it! mature coyne weighs terror coyne's</pre>"
      ],
      "text/plain": [
       "topic 6: lips flaming soft great wayne battles lips, lips' yoshimi it! mature coyne weighs terror coyne's"
      ]
     },
     "metadata": {},
     "output_type": "display_data"
    },
    {
     "data": {
      "text/html": [
       "<pre>topic 7: good style. recommend disk dance fans. powerful ears detract sings songs, long favorite aural one.</pre>"
      ],
      "text/plain": [
       "topic 7: good style. recommend disk dance fans. powerful ears detract sings songs, long favorite aural one."
      ]
     },
     "metadata": {},
     "output_type": "display_data"
    },
    {
     "data": {
      "text/html": [
       "<pre>topic 8: stuff. right. out. head definately talented finest simple thier miss morning states college creative cookie</pre>"
      ],
      "text/plain": [
       "topic 8: stuff. right. out. head definately talented finest simple thier miss morning states college creative cookie"
      ]
     },
     "metadata": {},
     "output_type": "display_data"
    },
    {
     "data": {
      "text/html": [
       "<pre>topic 9: punk daft punk's simply he's human doubt, surprised. making you, him, instead. times. wears deny</pre>"
      ],
      "text/plain": [
       "topic 9: punk daft punk's simply he's human doubt, surprised. making you, him, instead. times. wears deny"
      ]
     },
     "metadata": {},
     "output_type": "display_data"
    },
    {
     "data": {
      "text/html": [
       "<pre>topic 10: indeed. disc years. 2nd stuck pure delivered cd! i, sure, alone. meaningful works. satisfying songs,</pre>"
      ],
      "text/plain": [
       "topic 10: indeed. disc years. 2nd stuck pure delivered cd! i, sure, alone. meaningful works. satisfying songs,"
      ]
     },
     "metadata": {},
     "output_type": "display_data"
    },
    {
     "data": {
      "text/html": [
       "<pre>topic 11: joni cars mitchell joni's mitchell's ric ocasek court great cars, one. strawbs friend's spark benjamin</pre>"
      ],
      "text/plain": [
       "topic 11: joni cars mitchell joni's mitchell's ric ocasek court great cars, one. strawbs friend's spark benjamin"
      ]
     },
     "metadata": {},
     "output_type": "display_data"
    },
    {
     "data": {
      "text/html": [
       "<pre>topic 12: earth cool. member summer latest party it!! singing \"cut filler. thing remains 'love makes flows</pre>"
      ],
      "text/plain": [
       "topic 12: earth cool. member summer latest party it!! singing \"cut filler. thing remains 'love makes flows"
      ]
     },
     "metadata": {},
     "output_type": "display_data"
    },
    {
     "data": {
      "text/html": [
       "<pre>topic 13: loud songs: bunch joy press on, it'll united worthwhile simple singer true, poor christmas having.</pre>"
      ],
      "text/plain": [
       "topic 13: loud songs: bunch joy press on, it'll united worthwhile simple singer true, poor christmas having."
      ]
     },
     "metadata": {},
     "output_type": "display_data"
    },
    {
     "data": {
      "text/html": [
       "<pre>topic 14: music back time years people life record make listening listen heard world day hear don't</pre>"
      ],
      "text/plain": [
       "topic 14: music back time years people life record make listening listen heard world day hear don't"
      ]
     },
     "metadata": {},
     "output_type": "display_data"
    },
    {
     "data": {
      "text/html": [
       "<pre>topic 15: - album & track good song beat production -- rap featuring great tracks beats nice</pre>"
      ],
      "text/plain": [
       "topic 15: - album & track good song beat production -- rap featuring great tracks beats nice"
      ]
     },
     "metadata": {},
     "output_type": "display_data"
    },
    {
     "data": {
      "text/html": [
       "<pre>topic 16: brothers on, tracks ever. manages tongue simply remains superstar choice delivery 15 reading car looked</pre>"
      ],
      "text/plain": [
       "topic 16: brothers on, tracks ever. manages tongue simply remains superstar choice delivery 15 reading car looked"
      ]
     },
     "metadata": {},
     "output_type": "display_data"
    },
    {
     "data": {
      "text/html": [
       "<pre>topic 17: them. heard. creative mp3 belongs stars play delivered heavily sound. money. chill express missed overly</pre>"
      ],
      "text/plain": [
       "topic 17: them. heard. creative mp3 belongs stars play delivered heavily sound. money. chill express missed overly"
      ]
     },
     "metadata": {},
     "output_type": "display_data"
    },
    {
     "data": {
      "text/html": [
       "<pre>topic 18: appeal (you called cd classic! favorite out. secret surprisingly, continues grow complex by. soundtrack. ago.</pre>"
      ],
      "text/plain": [
       "topic 18: appeal (you called cd classic! favorite out. secret surprisingly, continues grow complex by. soundtrack. ago."
      ]
     },
     "metadata": {},
     "output_type": "display_data"
    },
    {
     "data": {
      "text/html": [
       "<pre>topic 19: phil album great eagles collins don can't solo long genesis day christmas air peter easy</pre>"
      ],
      "text/plain": [
       "topic 19: phil album great eagles collins don can't solo long genesis day christmas air peter easy"
      ]
     },
     "metadata": {},
     "output_type": "display_data"
    },
    {
     "data": {
      "text/html": [
       "<pre>topic 20: stand love girl. \"something was, laugh nu cute feelin' classic girl cult otherwise, luther cohen</pre>"
      ],
      "text/plain": [
       "topic 20: stand love girl. \"something was, laugh nu cute feelin' classic girl cult otherwise, luther cohen"
      ]
     },
     "metadata": {},
     "output_type": "display_data"
    },
    {
     "data": {
      "text/html": [
       "<pre>topic 21: all. great strength move hour though. recommend tracks fun personally mix love remain \"a finest.</pre>"
      ],
      "text/plain": [
       "topic 21: all. great strength move hour though. recommend tracks fun personally mix love remain \"a finest."
      ]
     },
     "metadata": {},
     "output_type": "display_data"
    },
    {
     "data": {
      "text/html": [
       "<pre>topic 22: cd 5 good stars 4 give 2 star 3 stars. rate gave 1 worth buy</pre>"
      ],
      "text/plain": [
       "topic 22: cd 5 good stars 4 give 2 star 3 stars. rate gave 1 worth buy"
      ]
     },
     "metadata": {},
     "output_type": "display_data"
    },
    {
     "data": {
      "text/html": [
       "<pre>topic 23: alison bluegrass sara krauss album plant no. robert tweet [see nickel tegan union chris creek</pre>"
      ],
      "text/plain": [
       "topic 23: alison bluegrass sara krauss album plant no. robert tweet [see nickel tegan union chris creek"
      ]
     },
     "metadata": {},
     "output_type": "display_data"
    },
    {
     "data": {
      "text/html": [
       "<pre>topic 24: best. great. cd's nice with. rest perfectly felt doesn't cuts contribution remind continuing (and can't</pre>"
      ],
      "text/plain": [
       "topic 24: best. great. cd's nice with. rest perfectly felt doesn't cuts contribution remind continuing (and can't"
      ]
     },
     "metadata": {},
     "output_type": "display_data"
    },
    {
     "data": {
      "text/html": [
       "<pre>topic 25: it's shame like, tunes buying. lies listenable hour career. wow, band. much, music, funk fire</pre>"
      ],
      "text/plain": [
       "topic 25: it's shame like, tunes buying. lies listenable hour career. wow, band. much, music, funk fire"
      ]
     },
     "metadata": {},
     "output_type": "display_data"
    },
    {
     "data": {
      "text/html": [
       "<pre>topic 26: white jack stripes lady blood gaga meg cold white's boy dirty \"born elephant music. lonely</pre>"
      ],
      "text/plain": [
       "topic 26: white jack stripes lady blood gaga meg cold white's boy dirty \"born elephant music. lonely"
      ]
     },
     "metadata": {},
     "output_type": "display_data"
    },
    {
     "data": {
      "text/html": [
       "<pre>topic 27: . , \" ( &quot; ! ) danger ... mouse an' ? : cee-lo modest</pre>"
      ],
      "text/plain": [
       "topic 27: . , \" ( &quot; ! ) danger ... mouse an' ? : cee-lo modest"
      ]
     },
     "metadata": {},
     "output_type": "display_data"
    },
    {
     "data": {
      "text/html": [
       "<pre>topic 28: listen strong great shake ride nice hot slick music! do. rhythms turn lean home start,</pre>"
      ],
      "text/plain": [
       "topic 28: listen strong great shake ride nice hot slick music! do. rhythms turn lean home start,"
      ]
     },
     "metadata": {},
     "output_type": "display_data"
    },
    {
     "data": {
      "text/html": [
       "<pre>topic 29: play good. songs rules complete pop order away. year's fatboy wow! end. release. compared convince</pre>"
      ],
      "text/plain": [
       "topic 29: play good. songs rules complete pop order away. year's fatboy wow! end. release. compared convince"
      ]
     },
     "metadata": {},
     "output_type": "display_data"
    },
    {
     "data": {
      "text/html": [
       "<pre>topic 30: ben folds del primus les perfect lana play good \"video rey age harper hoping cool</pre>"
      ],
      "text/plain": [
       "topic 30: ben folds del primus les perfect lana play good \"video rey age harper hoping cool"
      ]
     },
     "metadata": {},
     "output_type": "display_data"
    },
    {
     "data": {
      "text/html": [
       "<pre>topic 31: mary amy mary's duffy j. 60's blige \"back nice winehouse dry amy's drama mary, duffy's</pre>"
      ],
      "text/plain": [
       "topic 31: mary amy mary's duffy j. 60's blige \"back nice winehouse dry amy's drama mary, duffy's"
      ]
     },
     "metadata": {},
     "output_type": "display_data"
    },
    {
     "data": {
      "text/html": [
       "<pre>topic 32: pure style you'll good expect disney cd highly witty debut geffen 5-star learn include mode</pre>"
      ],
      "text/plain": [
       "topic 32: pure style you'll good expect disney cd highly witty debut geffen 5-star learn include mode"
      ]
     },
     "metadata": {},
     "output_type": "display_data"
    },
    {
     "data": {
      "text/html": [
       "<pre>topic 33: modern great work style follow superb. order bad, today's perfect. set stays offers carry perspective</pre>"
      ],
      "text/plain": [
       "topic 33: modern great work style follow superb. order bad, today's perfect. set stays offers carry perspective"
      ]
     },
     "metadata": {},
     "output_type": "display_data"
    },
    {
     "data": {
      "text/html": [
       "<pre>topic 34: love voice soul music album she's debut artist r&b; artists singer cd soulful real make</pre>"
      ],
      "text/plain": [
       "topic 34: love voice soul music album she's debut artist r&b; artists singer cd soulful real make"
      ]
     },
     "metadata": {},
     "output_type": "display_data"
    },
    {
     "data": {
      "text/html": [
       "<pre>topic 35: efforts now. order blows worthwhile broke thrown biggest tunes '80s down. offering loggins off. this!</pre>"
      ],
      "text/plain": [
       "topic 35: efforts now. order blows worthwhile broke thrown biggest tunes '80s down. offering loggins off. this!"
      ]
     },
     "metadata": {},
     "output_type": "display_data"
    },
    {
     "data": {
      "text/html": [
       "<pre>topic 36: chief creative avoid own. dont keef degrees decade late easy listening. bands effort. can't skinner</pre>"
      ],
      "text/plain": [
       "topic 36: chief creative avoid own. dont keef degrees decade late easy listening. bands effort. can't skinner"
      ]
     },
     "metadata": {},
     "output_type": "display_data"
    },
    {
     "data": {
      "text/html": [
       "<pre>topic 37: mark dire knopfler straits knopfler's perfect arms\" emmylou clark belongs \"brothers urban cd. that's funky</pre>"
      ],
      "text/plain": [
       "topic 37: mark dire knopfler straits knopfler's perfect arms\" emmylou clark belongs \"brothers urban cd. that's funky"
      ]
     },
     "metadata": {},
     "output_type": "display_data"
    },
    {
     "data": {
      "text/html": [
       "<pre>topic 38: gordon lightfoot nina buy christmas / gordon's music. usual force beats salt veruca follow lightfoot's</pre>"
      ],
      "text/plain": [
       "topic 38: gordon lightfoot nina buy christmas / gordon's music. usual force beats salt veruca follow lightfoot's"
      ]
     },
     "metadata": {},
     "output_type": "display_data"
    },
    {
     "data": {
      "text/html": [
       "<pre>topic 39: album it's music song sound lyrics track musical songs pop vocals vocal guitar sounds \"the</pre>"
      ],
      "text/plain": [
       "topic 39: album it's music song sound lyrics track musical songs pop vocals vocal guitar sounds \"the"
      ]
     },
     "metadata": {},
     "output_type": "display_data"
    },
    {
     "data": {
      "text/html": [
       "<pre>topic 40: r. kelly great 12 love kelly, kelly's show bottom r.kelly baby effort body's strip reason</pre>"
      ],
      "text/plain": [
       "topic 40: r. kelly great 12 love kelly, kelly's show bottom r.kelly baby effort body's strip reason"
      ]
     },
     "metadata": {},
     "output_type": "display_data"
    },
    {
     "data": {
      "text/html": [
       "<pre>topic 41: cd songs cd. song listen heard music love good it. bought buy cd, favorite great</pre>"
      ],
      "text/plain": [
       "topic 41: cd songs cd. song listen heard music love good it. bought buy cd, favorite great"
      ]
     },
     "metadata": {},
     "output_type": "display_data"
    },
    {
     "data": {
      "text/html": [
       "<pre>topic 42: nelly doubt furtado gwen loose nelly's ska \"say furtado's trick god's sublime 80's kingdom filled</pre>"
      ],
      "text/plain": [
       "topic 42: nelly doubt furtado gwen loose nelly's ska \"say furtado's trick god's sublime 80's kingdom filled"
      ]
     },
     "metadata": {},
     "output_type": "display_data"
    },
    {
     "data": {
      "text/html": [
       "<pre>topic 43: gang guru starr kool album moment premier true ever. pure listen guru's words monotone not,</pre>"
      ],
      "text/plain": [
       "topic 43: gang guru starr kool album moment premier true ever. pure listen guru's words monotone not,"
      ]
     },
     "metadata": {},
     "output_type": "display_data"
    },
    {
     "data": {
      "text/html": [
       "<pre>topic 44: cyndi lauper ol' lauper's cyndi's far, you. hit house tight collection. truth \"same listened harmonies</pre>"
      ],
      "text/plain": [
       "topic 44: cyndi lauper ol' lauper's cyndi's far, you. hit house tight collection. truth \"same listened harmonies"
      ]
     },
     "metadata": {},
     "output_type": "display_data"
    },
    {
     "data": {
      "text/html": [
       "<pre>topic 45: dido dido's adele angel album land adele's faithless sound. coming piece fire rent words doubt</pre>"
      ],
      "text/plain": [
       "topic 45: dido dido's adele angel album land adele's faithless sound. coming piece fire rent words doubt"
      ]
     },
     "metadata": {},
     "output_type": "display_data"
    },
    {
     "data": {
      "text/html": [
       "<pre>topic 46: big love outkast andre boi hip-hop boi's kelis hey lives 3000 outkast's fun straight double</pre>"
      ],
      "text/plain": [
       "topic 46: big love outkast andre boi hip-hop boi's kelis hey lives 3000 outkast's fun straight double"
      ]
     },
     "metadata": {},
     "output_type": "display_data"
    },
    {
     "data": {
      "text/html": [
       "<pre>topic 47: yeah karen carpenters richard carpenter karen's yeahs world listen yyy's recommend sound o's sister richard's</pre>"
      ],
      "text/plain": [
       "topic 47: yeah karen carpenters richard carpenter karen's yeahs world listen yyy's recommend sound o's sister richard's"
      ]
     },
     "metadata": {},
     "output_type": "display_data"
    },
    {
     "data": {
      "text/html": [
       "<pre>topic 48: fleet day foxes tears follow / there. awesome group. there's na \"helplessness masterpiece. works. it's</pre>"
      ],
      "text/plain": [
       "topic 48: fleet day foxes tears follow / there. awesome group. there's na \"helplessness masterpiece. works. it's"
      ]
     },
     "metadata": {},
     "output_type": "display_data"
    },
    {
     "data": {
      "text/html": [
       "<pre>topic 49: van album alanis halen great david eddie rock lee classic roth morissette dave cover halen's</pre>"
      ],
      "text/plain": [
       "topic 49: van album alanis halen great david eddie rock lee classic roth morissette dave cover halen's"
      ]
     },
     "metadata": {},
     "output_type": "display_data"
    },
    {
     "data": {
      "text/html": [
       "<pre>topic 50: great album songs good album. weezer love cd cher green blue good. ain't turn it's</pre>"
      ],
      "text/plain": [
       "topic 50: great album songs good album. weezer love cd cher green blue good. ain't turn it's"
      ]
     },
     "metadata": {},
     "output_type": "display_data"
    },
    {
     "data": {
      "text/html": [
       "<pre>topic 51: song it's great album good - love songs song. track album. song, lyrics nice favorite</pre>"
      ],
      "text/plain": [
       "topic 51: song it's great album good - love songs song. track album. song, lyrics nice favorite"
      ]
     },
     "metadata": {},
     "output_type": "display_data"
    },
    {
     "data": {
      "text/html": [
       "<pre>topic 52: thumbs great here's love highlights: word: matter: sophomore can't cd ivy project middle, you'll absolute</pre>"
      ],
      "text/plain": [
       "topic 52: thumbs great here's love highlights: word: matter: sophomore can't cd ivy project middle, you'll absolute"
      ]
     },
     "metadata": {},
     "output_type": "display_data"
    },
    {
     "data": {
      "text/html": [
       "<pre>topic 53: blues great guitar rock jeff classic blues, songs eric robert clapton john beck led guy</pre>"
      ],
      "text/plain": [
       "topic 53: blues great guitar rock jeff classic blues, songs eric robert clapton john beck led guy"
      ]
     },
     "metadata": {},
     "output_type": "display_data"
    },
    {
     "data": {
      "text/html": [
       "<pre>topic 54: sheryl crow great montreal kevin barnes crow's rest call sheryl's c'mon album, singing better. project</pre>"
      ],
      "text/plain": [
       "topic 54: sheryl crow great montreal kevin barnes crow's rest call sheryl's c'mon album, singing better. project"
      ]
     },
     "metadata": {},
     "output_type": "display_data"
    },
    {
     "data": {
      "text/html": [
       "<pre>topic 55: tori songs cat amos tori's stevens beautiful piano albums strange choirgirl venus bonnie boys amos'</pre>"
      ],
      "text/plain": [
       "topic 55: tori songs cat amos tori's stevens beautiful piano albums strange choirgirl venus bonnie boys amos'"
      ]
     },
     "metadata": {},
     "output_type": "display_data"
    },
    {
     "data": {
      "text/html": [
       "<pre>topic 56: buy - couple kills selection deep songs: 90's listen forward same, consistent house heat enjoy</pre>"
      ],
      "text/plain": [
       "topic 56: buy - couple kills selection deep songs: 90's listen forward same, consistent house heat enjoy"
      ]
     },
     "metadata": {},
     "output_type": "display_data"
    },
    {
     "data": {
      "text/html": [
       "<pre>topic 57: bon jovi jon justin songs forever iver trash alternative greatest jovi's jersey enjoyable night wait</pre>"
      ],
      "text/plain": [
       "topic 57: bon jovi jon justin songs forever iver trash alternative greatest jovi's jersey enjoyable night wait"
      ]
     },
     "metadata": {},
     "output_type": "display_data"
    },
    {
     "data": {
      "text/html": [
       "<pre>topic 58: radiohead king thom yorke ruben clay radiohead's kid sounds yorke's album, computer hail solo have.</pre>"
      ],
      "text/plain": [
       "topic 58: radiohead king thom yorke ruben clay radiohead's kid sounds yorke's album, computer hail solo have."
      ]
     },
     "metadata": {},
     "output_type": "display_data"
    },
    {
     "data": {
      "text/html": [
       "<pre>topic 59: jazz music playing great miles recording musicians work blue recorded solo note jazz, musical takes</pre>"
      ],
      "text/plain": [
       "topic 59: jazz music playing great miles recording musicians work blue recorded solo note jazz, musical takes"
      ]
     },
     "metadata": {},
     "output_type": "display_data"
    },
    {
     "data": {
      "text/html": [
       "<pre>topic 60: good tubular square i'm on. dark demi long anymore bette tradition touch wonderful. eldritch hope</pre>"
      ],
      "text/plain": [
       "topic 60: good tubular square i'm on. dark demi long anymore bette tradition touch wonderful. eldritch hope"
      ]
     },
     "metadata": {},
     "output_type": "display_data"
    },
    {
     "data": {
      "text/html": [
       "<pre>topic 61: hot billboard u.s. 100 easy top # singles charts reached 40 adult magazine mainstream 200</pre>"
      ],
      "text/plain": [
       "topic 61: hot billboard u.s. 100 easy top # singles charts reached 40 adult magazine mainstream 200"
      ]
     },
     "metadata": {},
     "output_type": "display_data"
    },
    {
     "data": {
      "text/html": [
       "<pre>topic 62: dan steely fagen dan's donald becker royal lose katy b-52's music walter perry world fred</pre>"
      ],
      "text/plain": [
       "topic 62: dan steely fagen dan's donald becker royal lose katy b-52's music walter perry world fred"
      ]
     },
     "metadata": {},
     "output_type": "display_data"
    },
    {
     "data": {
      "text/html": [
       "<pre>topic 63: bone mariah thugs carey group mariah's abba 1999 krayzie bizzy fast eternal harmony layzie tight,</pre>"
      ],
      "text/plain": [
       "topic 63: bone mariah thugs carey group mariah's abba 1999 krayzie bizzy fast eternal harmony layzie tight,"
      ]
     },
     "metadata": {},
     "output_type": "display_data"
    },
    {
     "data": {
      "text/html": [
       "<pre>topic 64: show favorite sound won't nice fun do. ground impressive buy (and losing cute leave mo</pre>"
      ],
      "text/plain": [
       "topic 64: show favorite sound won't nice fun do. ground impressive buy (and losing cute leave mo"
      ]
     },
     "metadata": {},
     "output_type": "display_data"
    },
    {
     "data": {
      "text/html": [
       "<pre>topic 65: they're buy this. fresh wear cop delivers this, offering hey 1994 running on, style. effort.</pre>"
      ],
      "text/plain": [
       "topic 65: they're buy this. fresh wear cop delivers this, offering hey 1994 running on, style. effort."
      ]
     },
     "metadata": {},
     "output_type": "display_data"
    },
    {
     "data": {
      "text/html": [
       "<pre>topic 66: funk / parliament p-funk clinton bootsy sly mothership nose connection clones sir this. cross real</pre>"
      ],
      "text/plain": [
       "topic 66: funk / parliament p-funk clinton bootsy sly mothership nose connection clones sir this. cross real"
      ]
     },
     "metadata": {},
     "output_type": "display_data"
    },
    {
     "data": {
      "text/html": [
       "<pre>topic 67: nick drake drake's leaves moon jamiroquai cd pink jay \"pink lost jane nick's kay duncan</pre>"
      ],
      "text/plain": [
       "topic 67: nick drake drake's leaves moon jamiroquai cd pink jay \"pink lost jane nick's kay duncan"
      ]
     },
     "metadata": {},
     "output_type": "display_data"
    },
    {
     "data": {
      "text/html": [
       "<pre>topic 68: album michael jackson pop music bad elvis jackson's songs stop dance costello number made michael's</pre>"
      ],
      "text/plain": [
       "topic 68: album michael jackson pop music bad elvis jackson's songs stop dance costello number made michael's"
      ]
     },
     "metadata": {},
     "output_type": "display_data"
    },
    {
     "data": {
      "text/html": [
       "<pre>topic 69: album rap 50 beats eminem hip good hop he's game real lyrics dont tracks dre</pre>"
      ],
      "text/plain": [
       "topic 69: album rap 50 beats eminem hip good hop he's game real lyrics dont tracks dre"
      ]
     },
     "metadata": {},
     "output_type": "display_data"
    },
    {
     "data": {
      "text/html": [
       "<pre>topic 70: devo worth devo's ever. find free rufus doubt, faith great one! freedom stolen recognition album.</pre>"
      ],
      "text/plain": [
       "topic 70: devo worth devo's ever. find free rufus doubt, faith great one! freedom stolen recognition album."
      ]
     },
     "metadata": {},
     "output_type": "display_data"
    },
    {
     "data": {
      "text/html": [
       "<pre>topic 71: album madonna alice great title album. it's dance love madonna's pop buffett jimmy albums cooper</pre>"
      ],
      "text/plain": [
       "topic 71: album madonna alice great title album. it's dance love madonna's pop buffett jimmy albums cooper"
      ]
     },
     "metadata": {},
     "output_type": "display_data"
    },
    {
     "data": {
      "text/html": [
       "<pre>topic 72: great cypress hill liz phair gonna genius sen grows yeah, music, body golden uncompromising bear</pre>"
      ],
      "text/plain": [
       "topic 72: great cypress hill liz phair gonna genius sen grows yeah, music, body golden uncompromising bear"
      ]
     },
     "metadata": {},
     "output_type": "display_data"
    },
    {
     "data": {
      "text/html": [
       "<pre>topic 73: prince album prince's time funk sign purple times soundtrack o' \"purple rain movie jams funky</pre>"
      ],
      "text/plain": [
       "topic 73: prince album prince's time funk sign purple times soundtrack o' \"purple rain movie jams funky"
      ]
     },
     "metadata": {},
     "output_type": "display_data"
    },
    {
     "data": {
      "text/html": [
       "<pre>topic 74: dylan bob mars dylan's great belle blood sebastian listen volta boy stuart joan manson twist</pre>"
      ],
      "text/plain": [
       "topic 74: dylan bob mars dylan's great belle blood sebastian listen volta boy stuart joan manson twist"
      ]
     },
     "metadata": {},
     "output_type": "display_data"
    },
    {
     "data": {
      "text/html": [
       "<pre>topic 75: track beats. recommend buy bunch nyc keith records shows. have. n' pass alright. hope purpose</pre>"
      ],
      "text/plain": [
       "topic 75: track beats. recommend buy bunch nyc keith records shows. have. n' pass alright. hope purpose"
      ]
     },
     "metadata": {},
     "output_type": "display_data"
    },
    {
     "data": {
      "text/html": [
       "<pre>topic 76: dance again. remind one! hear can't cd, compare cd! mellow keeping success platinum listening. albums</pre>"
      ],
      "text/plain": [
       "topic 76: dance again. remind one! hear can't cd, compare cd! mellow keeping success platinum listening. albums"
      ]
     },
     "metadata": {},
     "output_type": "display_data"
    },
    {
     "data": {
      "text/html": [
       "<pre>topic 77: album pixies kim frank excellent it! francis par free pixies, bad breeders deal cool. crafted</pre>"
      ],
      "text/plain": [
       "topic 77: album pixies kim frank excellent it! francis par free pixies, bad breeders deal cool. crafted"
      ]
     },
     "metadata": {},
     "output_type": "display_data"
    },
    {
     "data": {
      "text/html": [
       "<pre>topic 78: album great album. songs album, albums tracks good track favorite highly fan recommend albums. worth</pre>"
      ],
      "text/plain": [
       "topic 78: album great album. songs album, albums tracks good track favorite highly fan recommend albums. worth"
      ]
     },
     "metadata": {},
     "output_type": "display_data"
    },
    {
     "data": {
      "text/html": [
       "<pre>topic 79: you've high not. perform beats poor fresh simply love of. overplayed straight group seat awful</pre>"
      ],
      "text/plain": [
       "topic 79: you've high not. perform beats poor fresh simply love of. overplayed straight group seat awful"
      ]
     },
     "metadata": {},
     "output_type": "display_data"
    },
    {
     "data": {
      "text/html": [
       "<pre>topic 80: la de los rage el en tom yo machine le lo battle super grind lobos</pre>"
      ],
      "text/plain": [
       "topic 80: la de los rage el en tom yo machine le lo battle super grind lobos"
      ]
     },
     "metadata": {},
     "output_type": "display_data"
    },
    {
     "data": {
      "text/html": [
       "<pre>topic 81: songs major great group album, piece boy music it! masterpiece road foot titles baby tied</pre>"
      ],
      "text/plain": [
       "topic 81: songs major great group album, piece boy music it! masterpiece road foot titles baby tied"
      ]
     },
     "metadata": {},
     "output_type": "display_data"
    },
    {
     "data": {
      "text/html": [
       "<pre>topic 82: this, stuff. production. albums ago love 80s, good song down. tight is: part you'll moments</pre>"
      ],
      "text/plain": [
       "topic 82: this, stuff. production. albums ago love 80s, good song down. tight is: part you'll moments"
      ]
     },
     "metadata": {},
     "output_type": "display_data"
    },
    {
     "data": {
      "text/html": [
       "<pre>topic 83: songs hits collection greatest disc albums cd tracks set love live fan compilation good early</pre>"
      ],
      "text/plain": [
       "topic 83: songs hits collection greatest disc albums cd tracks set love live fan compilation good early"
      ]
     },
     "metadata": {},
     "output_type": "display_data"
    },
    {
     "data": {
      "text/html": [
       "<pre>topic 84: album wu wu-tang rza ghostface method ghost beats arctic album. classic tang gza 36 monkeys</pre>"
      ],
      "text/plain": [
       "topic 84: album wu wu-tang rza ghostface method ghost beats arctic album. classic tang gza 36 monkeys"
      ]
     },
     "metadata": {},
     "output_type": "display_data"
    },
    {
     "data": {
      "text/html": [
       "<pre>topic 85: album song songs hit \"the & elton released john pop top great single albums classic</pre>"
      ],
      "text/plain": [
       "topic 85: album song songs hit \"the & elton released john pop top great single albums classic"
      ]
     },
     "metadata": {},
     "output_type": "display_data"
    },
    {
     "data": {
      "text/html": [
       "<pre>topic 86: band rock album guitar sound bands great it's hard band's heavy metal albums music sounds</pre>"
      ],
      "text/plain": [
       "topic 86: band rock album guitar sound bands great it's hard band's heavy metal albums music sounds"
      ]
     },
     "metadata": {},
     "output_type": "display_data"
    },
    {
     "data": {
      "text/html": [
       "<pre>topic 87: music jones pop country norah jewel voice she's cd michelle debut spirit jewel's vanessa dolly</pre>"
      ],
      "text/plain": [
       "topic 87: music jones pop country norah jewel voice she's cd michelle debut spirit jewel's vanessa dolly"
      ]
     },
     "metadata": {},
     "output_type": "display_data"
    },
    {
     "data": {
      "text/html": [
       "<pre>topic 88: duran fleetwood stevie mac annie great eurythmics pop christine nicks dreams lennox buckingham group doubt</pre>"
      ],
      "text/plain": [
       "topic 88: duran fleetwood stevie mac annie great eurythmics pop christine nicks dreams lennox buckingham group doubt"
      ]
     },
     "metadata": {},
     "output_type": "display_data"
    },
    {
     "data": {
      "text/html": [
       "<pre>topic 89: listen more. music same. innovative record touches absolutely long cute deserve producer uneven overall, awsome</pre>"
      ],
      "text/plain": [
       "topic 89: listen more. music same. innovative record touches absolutely long cute deserve producer uneven overall, awsome"
      ]
     },
     "metadata": {},
     "output_type": "display_data"
    },
    {
     "data": {
      "text/html": [
       "<pre>topic 90: fun guys perfect said. hope volumes buy, sad what's anberlin forget fairly anyway. collection! 90s.</pre>"
      ],
      "text/plain": [
       "topic 90: fun guys perfect said. hope volumes buy, sad what's anberlin forget fairly anyway. collection! 90s."
      ]
     },
     "metadata": {},
     "output_type": "display_data"
    },
    {
     "data": {
      "text/html": [
       "<pre>topic 91: it. 10 stuff greatness piece talent mighty skip straight promise good. 'love ab-soul mix full</pre>"
      ],
      "text/plain": [
       "topic 91: it. 10 stuff greatness piece talent mighty skip straight promise good. 'love ab-soul mix full"
      ]
     },
     "metadata": {},
     "output_type": "display_data"
    },
    {
     "data": {
      "text/html": [
       "<pre>topic 92: cuts damn sounds sound. passion pop. fun enjoy! has. musicianship best. par sonic hey, blondie</pre>"
      ],
      "text/plain": [
       "topic 92: cuts damn sounds sound. passion pop. fun enjoy! has. musicianship best. par sonic hey, blondie"
      ]
     },
     "metadata": {},
     "output_type": "display_data"
    },
    {
     "data": {
      "text/html": [
       "<pre>topic 93: good skills underrated album! purchase there. prime outs on! here. air. &lt; today. sets while.</pre>"
      ],
      "text/plain": [
       "topic 93: good skills underrated album! purchase there. prime outs on! here. air. &lt; today. sets while."
      ]
     },
     "metadata": {},
     "output_type": "display_data"
    },
    {
     "data": {
      "text/html": [
       "<pre>topic 94: great incubus morning voice view can't songs: brandon you'll boyd trip loss soul, sing crow</pre>"
      ],
      "text/plain": [
       "topic 94: great incubus morning voice view can't songs: brandon you'll boyd trip loss soul, sing crow"
      ]
     },
     "metadata": {},
     "output_type": "display_data"
    },
    {
     "data": {
      "text/html": [
       "<pre>topic 95: hot red chili peppers sex funk funky sugar blood john double rob stadium anthony rhcp</pre>"
      ],
      "text/plain": [
       "topic 95: hot red chili peppers sex funk funky sugar blood john double rob stadium anthony rhcp"
      ]
     },
     "metadata": {},
     "output_type": "display_data"
    },
    {
     "data": {
      "text/html": [
       "<pre>topic 96: cash johnny man american country cash's ain't rick prison waylon voice inch recordings faith johnny's</pre>"
      ],
      "text/plain": [
       "topic 96: cash johnny man american country cash's ain't rick prison waylon voice inch recordings faith johnny's"
      ]
     },
     "metadata": {},
     "output_type": "display_data"
    },
    {
     "data": {
      "text/html": [
       "<pre>topic 97: - version original live tracks album cd sound disc bonus great released versions release it's</pre>"
      ],
      "text/plain": [
       "topic 97: - version original live tracks album cd sound disc bonus great released versions release it's"
      ]
     },
     "metadata": {},
     "output_type": "display_data"
    },
    {
     "data": {
      "text/html": [
       "<pre>topic 98: & album. was, 'in star memories fave unfortunately, path till passionate star, disappointed gotta reviewed</pre>"
      ],
      "text/plain": [
       "topic 98: & album. was, 'in star memories fave unfortunately, path till passionate star, disappointed gotta reviewed"
      ]
     },
     "metadata": {},
     "output_type": "display_data"
    },
    {
     "data": {
      "text/html": [
       "<pre>topic 99: sounds boys beach brian pet wilson toni beatles shop smashing love pop pumpkins braxton billy</pre>"
      ],
      "text/plain": [
       "topic 99: sounds boys beach brian pet wilson toni beatles shop smashing love pop pumpkins braxton billy"
      ]
     },
     "metadata": {},
     "output_type": "display_data"
    },
    {
     "data": {
      "text/html": [
       "<pre>| 160       | 6m 17s        | 3.0732e+006    | 16350.7         |</pre>"
      ],
      "text/plain": [
       "| 160       | 6m 17s        | 3.0732e+006    | 16350.7         |"
      ]
     },
     "metadata": {},
     "output_type": "display_data"
    },
    {
     "data": {
      "text/html": [
       "<pre>topic 0: &amp; &quot;the songs album &quot;i hit pop me&quot; you&quot; &quot;you love&quot; make tracks r&amp;b title</pre>"
      ],
      "text/plain": [
       "topic 0: &amp; &quot;the songs album &quot;i hit pop me&quot; you&quot; &quot;you love&quot; make tracks r&amp;b title"
      ]
     },
     "metadata": {},
     "output_type": "display_data"
    },
    {
     "data": {
      "text/html": [
       "<pre>topic 1: gift 1994 glad seperate simply figured own. superior --------- book, -------- impact wrong. great, owns</pre>"
      ],
      "text/plain": [
       "topic 1: gift 1994 glad seperate simply figured own. superior --------- book, -------- impact wrong. great, owns"
      ]
     },
     "metadata": {},
     "output_type": "display_data"
    },
    {
     "data": {
      "text/html": [
       "<pre>topic 2: great. stars. coming lp party par great, feat / melodies hits, release, hear thought lenny</pre>"
      ],
      "text/plain": [
       "topic 2: great. stars. coming lp party par great, feat / melodies hits, release, hear thought lenny"
      ]
     },
     "metadata": {},
     "output_type": "display_data"
    },
    {
     "data": {
      "text/html": [
       "<pre>topic 3: album disc real good fun, anna nalick classic. acid market bar nalick's years doesn't stephen</pre>"
      ],
      "text/plain": [
       "topic 3: album disc real good fun, anna nalick classic. acid market bar nalick's years doesn't stephen"
      ]
     },
     "metadata": {},
     "output_type": "display_data"
    },
    {
     "data": {
      "text/html": [
       "<pre>topic 4: it's album don't songs i'm good album, that's doesn't isn't album. people pretty it. there's</pre>"
      ],
      "text/plain": [
       "topic 4: it's album don't songs i'm good album, that's doesn't isn't album. people pretty it. there's"
      ]
     },
     "metadata": {},
     "output_type": "display_data"
    },
    {
     "data": {
      "text/html": [
       "<pre>topic 5: paul simon mccartney & solo beatles carly simon's mccartney's paul's george garfunkel troubled run wings</pre>"
      ],
      "text/plain": [
       "topic 5: paul simon mccartney & solo beatles carly simon's mccartney's paul's george garfunkel troubled run wings"
      ]
     },
     "metadata": {},
     "output_type": "display_data"
    },
    {
     "data": {
      "text/html": [
       "<pre>topic 6: lips flaming great soft wayne battles lips, wrong record. yoshimi wonderful create coyne lips' this,</pre>"
      ],
      "text/plain": [
       "topic 6: lips flaming great soft wayne battles lips, wrong record. yoshimi wonderful create coyne lips' this,"
      ]
     },
     "metadata": {},
     "output_type": "display_data"
    },
    {
     "data": {
      "text/html": [
       "<pre>topic 7: long lay picked cover master definite deep, around. &#34;the this. female bad news sense, addictive</pre>"
      ],
      "text/plain": [
       "topic 7: long lay picked cover master definite deep, around. &#34;the this. female bad news sense, addictive"
      ]
     },
     "metadata": {},
     "output_type": "display_data"
    },
    {
     "data": {
      "text/html": [
       "<pre>topic 8: too, rare tracks. best. stuff. bring ride, days, fit lot. aaron djs you, string completely</pre>"
      ],
      "text/plain": [
       "topic 8: too, rare tracks. best. stuff. bring ride, days, fit lot. aaron djs you, string completely"
      ]
     },
     "metadata": {},
     "output_type": "display_data"
    },
    {
     "data": {
      "text/html": [
       "<pre>topic 9: punk daft all. groups tunes cute it. limited held alot punk's remixes great! videos i'm</pre>"
      ],
      "text/plain": [
       "topic 9: punk daft all. groups tunes cute it. limited held alot punk's remixes great! videos i'm"
      ]
     },
     "metadata": {},
     "output_type": "display_data"
    },
    {
     "data": {
      "text/html": [
       "<pre>topic 10: don't years. rock, worth call pure stuff. simply today! too. crap life definately like. disappointed.</pre>"
      ],
      "text/plain": [
       "topic 10: don't years. rock, worth call pure stuff. simply today! too. crap life definately like. disappointed."
      ]
     },
     "metadata": {},
     "output_type": "display_data"
    },
    {
     "data": {
      "text/html": [
       "<pre>topic 11: joni cars mitchell joni's mitchell's ric court ocasek spark dream friend's strawbs summer orr music</pre>"
      ],
      "text/plain": [
       "topic 11: joni cars mitchell joni's mitchell's ric court ocasek spark dream friend's strawbs summer orr music"
      ]
     },
     "metadata": {},
     "output_type": "display_data"
    },
    {
     "data": {
      "text/html": [
       "<pre>topic 12: songs god won't matter remember compare picked ride group emotional young words nyc b/c are.</pre>"
      ],
      "text/plain": [
       "topic 12: songs god won't matter remember compare picked ride group emotional young words nyc b/c are."
      ]
     },
     "metadata": {},
     "output_type": "display_data"
    },
    {
     "data": {
      "text/html": [
       "<pre>topic 13: black number potential songs: yorn mess met guys too. yorn's now, debuted anywhere, great anymore.</pre>"
      ],
      "text/plain": [
       "topic 13: black number potential songs: yorn mess met guys too. yorn's now, debuted anywhere, great anymore."
      ]
     },
     "metadata": {},
     "output_type": "display_data"
    },
    {
     "data": {
      "text/html": [
       "<pre>topic 14: music time back years people life record listen world make day made hear listening don't</pre>"
      ],
      "text/plain": [
       "topic 14: music time back years people life record listen world make day made hear listening don't"
      ]
     },
     "metadata": {},
     "output_type": "display_data"
    },
    {
     "data": {
      "text/html": [
       "<pre>topic 15: - album & track good beat song production -- great tracks featuring rap 2 nice</pre>"
      ],
      "text/plain": [
       "topic 15: - album & track good beat song production -- great tracks featuring rap 2 nice"
      ]
     },
     "metadata": {},
     "output_type": "display_data"
    },
    {
     "data": {
      "text/html": [
       "<pre>topic 16: free grab listening takes rest. cheap filled 80s simply doesn't spill starts great. (not bucks</pre>"
      ],
      "text/plain": [
       "topic 16: free grab listening takes rest. cheap filled 80s simply doesn't spill starts great. (not bucks"
      ]
     },
     "metadata": {},
     "output_type": "display_data"
    },
    {
     "data": {
      "text/html": [
       "<pre>topic 17: man time tones highly movie she's raw invisible house read obviously, ride be. inspired future</pre>"
      ],
      "text/plain": [
       "topic 17: man time tones highly movie she's raw invisible house read obviously, ride be. inspired future"
      ]
     },
     "metadata": {},
     "output_type": "display_data"
    },
    {
     "data": {
      "text/html": [
       "<pre>topic 18: good. . close age enjoyable. peace tv sort blow favorite hot, knock now. gems. anymore</pre>"
      ],
      "text/plain": [
       "topic 18: good. . close age enjoyable. peace tv sort blow favorite hot, knock now. gems. anymore"
      ]
     },
     "metadata": {},
     "output_type": "display_data"
    },
    {
     "data": {
      "text/html": [
       "<pre>topic 19: phil great eagles collins solo album don can't long genesis day easy air steve peter</pre>"
      ],
      "text/plain": [
       "topic 19: phil great eagles collins solo album don can't long genesis day easy air steve peter"
      ]
     },
     "metadata": {},
     "output_type": "display_data"
    },
    {
     "data": {
      "text/html": [
       "<pre>topic 20: music. sing disk limited fine masterpiece produce listen genius. it, poetry 2nd busy group tunes.</pre>"
      ],
      "text/plain": [
       "topic 20: music. sing disk limited fine masterpiece produce listen genius. it, poetry 2nd busy group tunes."
      ]
     },
     "metadata": {},
     "output_type": "display_data"
    },
    {
     "data": {
      "text/html": [
       "<pre>topic 21: style stuff, showcases go. avoid to, fun tracks door equal bunch remain earlier definetely fan,</pre>"
      ],
      "text/plain": [
       "topic 21: style stuff, showcases go. avoid to, fun tracks door equal bunch remain earlier definetely fan,"
      ]
     },
     "metadata": {},
     "output_type": "display_data"
    },
    {
     "data": {
      "text/html": [
       "<pre>topic 22: cd 5 stars good 4 2 give 3 star stars. gave 1 buy real stars,</pre>"
      ],
      "text/plain": [
       "topic 22: cd 5 stars good 4 2 give 3 star stars. gave 1 buy real stars,"
      ]
     },
     "metadata": {},
     "output_type": "display_data"
    },
    {
     "data": {
      "text/html": [
       "<pre>topic 23: alison sara bluegrass krauss plant album no. tegan chris tweet nickel robert [see best, creek</pre>"
      ],
      "text/plain": [
       "topic 23: alison sara bluegrass krauss plant album no. tegan chris tweet nickel robert [see best, creek"
      ]
     },
     "metadata": {},
     "output_type": "display_data"
    },
    {
     "data": {
      "text/html": [
       "<pre>topic 24: can't too. steve glad dare lp cd's ween flying route unique born fabulous close be.</pre>"
      ],
      "text/plain": [
       "topic 24: can't too. steve glad dare lp cd's ween flying route unique born fabulous close be."
      ]
     },
     "metadata": {},
     "output_type": "display_data"
    },
    {
     "data": {
      "text/html": [
       "<pre>topic 25: buy great. etc. timeless. sing lacking debut word significant poor fully plain hands vol. pass</pre>"
      ],
      "text/plain": [
       "topic 25: buy great. etc. timeless. sing lacking debut word significant poor fully plain hands vol. pass"
      ]
     },
     "metadata": {},
     "output_type": "display_data"
    },
    {
     "data": {
      "text/html": [
       "<pre>topic 26: white jack stripes lady blood gaga boy gonna meg dead white's love album nation blues</pre>"
      ],
      "text/plain": [
       "topic 26: white jack stripes lady blood gaga boy gonna meg dead white's love album nation blues"
      ]
     },
     "metadata": {},
     "output_type": "display_data"
    },
    {
     "data": {
      "text/html": [
       "<pre>topic 27: . , \" ( &quot; ! ... ) danger mouse an' .. pop gnarls cee-lo</pre>"
      ],
      "text/plain": [
       "topic 27: . , \" ( &quot; ! ... ) danger mouse an' .. pop gnarls cee-lo"
      ]
     },
     "metadata": {},
     "output_type": "display_data"
    },
    {
     "data": {
      "text/html": [
       "<pre>topic 28: listen nice one's strong open blah one. brought boring, back! specially strength kids there, brilliant</pre>"
      ],
      "text/plain": [
       "topic 28: listen nice one's strong open blah one. brought boring, back! specially strength kids there, brilliant"
      ]
     },
     "metadata": {},
     "output_type": "display_data"
    },
    {
     "data": {
      "text/html": [
       "<pre>topic 29: play top release. call making same. words album waited fresh ear long thousands questionable swears</pre>"
      ],
      "text/plain": [
       "topic 29: play top release. call making same. words album waited fresh ear long thousands questionable swears"
      ]
     },
     "metadata": {},
     "output_type": "display_data"
    },
    {
     "data": {
      "text/html": [
       "<pre>topic 30: ben folds del tunes les primus lana perfect harper rey \"born bad \"video pretty \"off</pre>"
      ],
      "text/plain": [
       "topic 30: ben folds del tunes les primus lana perfect harper rey \"born bad \"video pretty \"off"
      ]
     },
     "metadata": {},
     "output_type": "display_data"
    },
    {
     "data": {
      "text/html": [
       "<pre>topic 31: amy mary duffy 60's it. \"back nice start winehouse mary's cover, duffy's losing high simply</pre>"
      ],
      "text/plain": [
       "topic 31: amy mary duffy 60's it. \"back nice start winehouse mary's cover, duffy's losing high simply"
      ]
     },
     "metadata": {},
     "output_type": "display_data"
    },
    {
     "data": {
      "text/html": [
       "<pre>topic 32: one. likes style knowing words blatant old-school sounds complicated warmed group we've kol experience. stuff.</pre>"
      ],
      "text/plain": [
       "topic 32: one. likes style knowing words blatant old-school sounds complicated warmed group we've kol experience. stuff."
      ]
     },
     "metadata": {},
     "output_type": "display_data"
    },
    {
     "data": {
      "text/html": [
       "<pre>topic 33: trick mediocre continue fans, typical baby. wrong dumb interesting proven proof fabulous music stands focus</pre>"
      ],
      "text/plain": [
       "topic 33: trick mediocre continue fans, typical baby. wrong dumb interesting proven proof fabulous music stands focus"
      ]
     },
     "metadata": {},
     "output_type": "display_data"
    },
    {
     "data": {
      "text/html": [
       "<pre>topic 34: love voice soul music album she's debut mary r&b; cd artist soulful artists real sounds</pre>"
      ],
      "text/plain": [
       "topic 34: love voice soul music album she's debut mary r&b; cd artist soulful artists real sounds"
      ]
     },
     "metadata": {},
     "output_type": "display_data"
    },
    {
     "data": {
      "text/html": [
       "<pre>topic 35: tunes music! hype / folks slick fun drums doubt recent everyone. spot alike. great must-have</pre>"
      ],
      "text/plain": [
       "topic 35: tunes music! hype / folks slick fun drums doubt recent everyone. spot alike. great must-have"
      ]
     },
     "metadata": {},
     "output_type": "display_data"
    },
    {
     "data": {
      "text/html": [
       "<pre>topic 36: lot damn too. chief this, keef masterpiece. fall produced, lives side, can't happen year fingers</pre>"
      ],
      "text/plain": [
       "topic 36: lot damn too. chief this, keef masterpiece. fall produced, lives side, can't happen year fingers"
      ]
     },
     "metadata": {},
     "output_type": "display_data"
    },
    {
     "data": {
      "text/html": [
       "<pre>topic 37: mark dire knopfler straits brothers buy knopfler's huge adam it's arms\" celtic emmylou \"brothers finest</pre>"
      ],
      "text/plain": [
       "topic 37: mark dire knopfler straits brothers buy knopfler's huge adam it's arms\" celtic emmylou \"brothers finest"
      ]
     },
     "metadata": {},
     "output_type": "display_data"
    },
    {
     "data": {
      "text/html": [
       "<pre>topic 38: gordon lightfoot nina buy tonight gordon's music. lightfoot's veruca salt eclectic long bells too! unique</pre>"
      ],
      "text/plain": [
       "topic 38: gordon lightfoot nina buy tonight gordon's music. lightfoot's veruca salt eclectic long bells too! unique"
      ]
     },
     "metadata": {},
     "output_type": "display_data"
    },
    {
     "data": {
      "text/html": [
       "<pre>topic 39: album it's song music sound track lyrics musical songs vocals pop - vocal guitar \"the</pre>"
      ],
      "text/plain": [
       "topic 39: album it's song music sound track lyrics musical songs vocals pop - vocal guitar \"the"
      ]
     },
     "metadata": {},
     "output_type": "display_data"
    },
    {
     "data": {
      "text/html": [
       "<pre>topic 40: 12 love out, kelly r. :) good. kelly's skills body's heard speaks kelly, gem fake</pre>"
      ],
      "text/plain": [
       "topic 40: 12 love out, kelly r. :) good. kelly's skills body's heard speaks kelly, gem fake"
      ]
     },
     "metadata": {},
     "output_type": "display_data"
    },
    {
     "data": {
      "text/html": [
       "<pre>topic 41: cd songs cd. song heard music listen it. love good great buy bought cd, favorite</pre>"
      ],
      "text/plain": [
       "topic 41: cd songs cd. song heard music listen it. love good great buy bought cd, favorite"
      ]
     },
     "metadata": {},
     "output_type": "display_data"
    },
    {
     "data": {
      "text/html": [
       "<pre>topic 42: nelly furtado doubt love gwen nelly's god's furtado's ska loose free push latin tragic while.</pre>"
      ],
      "text/plain": [
       "topic 42: nelly furtado doubt love gwen nelly's god's furtado's ska loose free push latin tragic while."
      ]
     },
     "metadata": {},
     "output_type": "display_data"
    },
    {
     "data": {
      "text/html": [
       "<pre>topic 43: gang guru listen kool starr premier album moment one. truely true primo guru's old. favorite</pre>"
      ],
      "text/plain": [
       "topic 43: gang guru listen kool starr premier album moment one. truely true primo guru's old. favorite"
      ]
     },
     "metadata": {},
     "output_type": "display_data"
    },
    {
     "data": {
      "text/html": [
       "<pre>topic 44: cyndi lauper incredible cyndi's lauper's awesome alive give friends \"girls \"true hit miss effort. disappointed</pre>"
      ],
      "text/plain": [
       "topic 44: cyndi lauper incredible cyndi's lauper's awesome alive give friends \"girls \"true hit miss effort. disappointed"
      ]
     },
     "metadata": {},
     "output_type": "display_data"
    },
    {
     "data": {
      "text/html": [
       "<pre>topic 45: dido dido's adele wait land lyrics play adele's 10 faithless angel \"rolling charts, rent pick</pre>"
      ],
      "text/plain": [
       "topic 45: dido dido's adele wait land lyrics play adele's 10 faithless angel \"rolling charts, rent pick"
      ]
     },
     "metadata": {},
     "output_type": "display_data"
    },
    {
     "data": {
      "text/html": [
       "<pre>topic 46: love big outkast andre boi day hey groups boi's hip-hop kelis innovative 3000 killer outkast's</pre>"
      ],
      "text/plain": [
       "topic 46: love big outkast andre boi day hey groups boi's hip-hop kelis innovative 3000 killer outkast's"
      ]
     },
     "metadata": {},
     "output_type": "display_data"
    },
    {
     "data": {
      "text/html": [
       "<pre>topic 47: yeah karen richard carpenters carpenter karen's yeahs up. day. remains o's yyy's richard's love. buzz</pre>"
      ],
      "text/plain": [
       "topic 47: yeah karen richard carpenters carpenter karen's yeahs up. day. remains o's yyy's richard's love. buzz"
      ]
     },
     "metadata": {},
     "output_type": "display_data"
    },
    {
     "data": {
      "text/html": [
       "<pre>topic 48: fleet love foxes absolutely complete singing song! good sisters fresh follow call ball annoying man's</pre>"
      ],
      "text/plain": [
       "topic 48: fleet love foxes absolutely complete singing song! good sisters fresh follow call ball annoying man's"
      ]
     },
     "metadata": {},
     "output_type": "display_data"
    },
    {
     "data": {
      "text/html": [
       "<pre>topic 49: van album alanis halen great eddie david rock lee hard roth classic cover morissette dave</pre>"
      ],
      "text/plain": [
       "topic 49: van album alanis halen great eddie david rock lee hard roth classic cover morissette dave"
      ]
     },
     "metadata": {},
     "output_type": "display_data"
    },
    {
     "data": {
      "text/html": [
       "<pre>topic 50: album great love weezer album. cd cher songs it's you'll aimee melissa green mann blue</pre>"
      ],
      "text/plain": [
       "topic 50: album great love weezer album. cd cher songs it's you'll aimee melissa green mann blue"
      ]
     },
     "metadata": {},
     "output_type": "display_data"
    },
    {
     "data": {
      "text/html": [
       "<pre>topic 51: song it's great good - album love songs song. track album. song, lyrics nice favorite</pre>"
      ],
      "text/plain": [
       "topic 51: song it's great good - album love songs song. track album. song, lyrics nice favorite"
      ]
     },
     "metadata": {},
     "output_type": "display_data"
    },
    {
     "data": {
      "text/html": [
       "<pre>topic 52: thumbs great good here's highlights: love matter: word: said. middle, changed you. so. love, totally</pre>"
      ],
      "text/plain": [
       "topic 52: thumbs great good here's highlights: love matter: word: said. middle, changed you. so. love, totally"
      ]
     },
     "metadata": {},
     "output_type": "display_data"
    },
    {
     "data": {
      "text/html": [
       "<pre>topic 53: blues great rock guitar classic jeff playing songs blues, eric clapton folk country led beck</pre>"
      ],
      "text/plain": [
       "topic 53: blues great rock guitar classic jeff playing songs blues, eric clapton folk country led beck"
      ]
     },
     "metadata": {},
     "output_type": "display_data"
    },
    {
     "data": {
      "text/html": [
       "<pre>topic 54: sheryl crow great montreal barnes crow's false kevin project loves close c'mon sheryl's black sounds</pre>"
      ],
      "text/plain": [
       "topic 54: sheryl crow great montreal barnes crow's false kevin project loves close c'mon sheryl's black sounds"
      ]
     },
     "metadata": {},
     "output_type": "display_data"
    },
    {
     "data": {
      "text/html": [
       "<pre>topic 55: tori songs cat amos tori's stevens beautiful albums artist piano cover choirgirl \"little venus amos'</pre>"
      ],
      "text/plain": [
       "topic 55: tori songs cat amos tori's stevens beautiful albums artist piano cover choirgirl \"little venus amos'"
      ]
     },
     "metadata": {},
     "output_type": "display_data"
    },
    {
     "data": {
      "text/html": [
       "<pre>topic 56: it. voice enjoy things expected follow dig down. addition amazing words pop. great concept middle</pre>"
      ],
      "text/plain": [
       "topic 56: it. voice enjoy things expected follow dig down. addition amazing words pop. great concept middle"
      ]
     },
     "metadata": {},
     "output_type": "display_data"
    },
    {
     "data": {
      "text/html": [
       "<pre>topic 57: bon jovi jon forever work. iver added justin jovi's impressive disc stuff songs vernon's alone.</pre>"
      ],
      "text/plain": [
       "topic 57: bon jovi jon forever work. iver added justin jovi's impressive disc stuff songs vernon's alone."
      ]
     },
     "metadata": {},
     "output_type": "display_data"
    },
    {
     "data": {
      "text/html": [
       "<pre>topic 58: radiohead thom king yorke radiohead's ruben yorke's kid computer clay \"kid radiohead, there, start world,</pre>"
      ],
      "text/plain": [
       "topic 58: radiohead thom king yorke radiohead's ruben yorke's kid computer clay \"kid radiohead, there, start world,"
      ]
     },
     "metadata": {},
     "output_type": "display_data"
    },
    {
     "data": {
      "text/html": [
       "<pre>topic 59: jazz music playing great miles work musicians recording blue solo recorded john play hear takes</pre>"
      ],
      "text/plain": [
       "topic 59: jazz music playing great miles work musicians recording blue solo recorded john play hear takes"
      ]
     },
     "metadata": {},
     "output_type": "display_data"
    },
    {
     "data": {
      "text/html": [
       "<pre>topic 60: good give this. different, record * cd demi listen creates edition, great. committed forever, release.</pre>"
      ],
      "text/plain": [
       "topic 60: good give this. different, record * cd demi listen creates edition, great. committed forever, release."
      ]
     },
     "metadata": {},
     "output_type": "display_data"
    },
    {
     "data": {
      "text/html": [
       "<pre>topic 61: hot billboard u.s. 100 top easy pop adult # 40 charts weeks chart minutes mainstream</pre>"
      ],
      "text/plain": [
       "topic 61: hot billboard u.s. 100 top easy pop adult # 40 charts weeks chart minutes mainstream"
      ]
     },
     "metadata": {},
     "output_type": "display_data"
    },
    {
     "data": {
      "text/html": [
       "<pre>topic 62: dan steely fagen dan's becker royal donald katy perry walter lose b-52's fogelberg dude \"do</pre>"
      ],
      "text/plain": [
       "topic 62: dan steely fagen dan's becker royal donald katy perry walter lose b-52's fogelberg dude \"do"
      ]
     },
     "metadata": {},
     "output_type": "display_data"
    },
    {
     "data": {
      "text/html": [
       "<pre>topic 63: bone mariah group carey thugs mariah's krayzie eternal 1999 flesh fast harmony layzie bizzy it's</pre>"
      ],
      "text/plain": [
       "topic 63: bone mariah group carey thugs mariah's krayzie eternal 1999 flesh fast harmony layzie bizzy it's"
      ]
     },
     "metadata": {},
     "output_type": "display_data"
    },
    {
     "data": {
      "text/html": [
       "<pre>topic 64: add tracks buy piece show loaded lot also. avoid provoking memory sublime better. loves worth</pre>"
      ],
      "text/plain": [
       "topic 64: add tracks buy piece show loaded lot also. avoid provoking memory sublime better. loves worth"
      ]
     },
     "metadata": {},
     "output_type": "display_data"
    },
    {
     "data": {
      "text/html": [
       "<pre>topic 65: mr you. songs. out. too. piece trash offering represent that's album: away. junk they're todays</pre>"
      ],
      "text/plain": [
       "topic 65: mr you. songs. out. too. piece trash offering represent that's album: away. junk they're todays"
      ]
     },
     "metadata": {},
     "output_type": "display_data"
    },
    {
     "data": {
      "text/html": [
       "<pre>topic 66: funk p-funk parliament connection clinton bootsy mothership nose large to. clones trip roof reggae stick</pre>"
      ],
      "text/plain": [
       "topic 66: funk p-funk parliament connection clinton bootsy mothership nose large to. clones trip roof reggae stick"
      ]
     },
     "metadata": {},
     "output_type": "display_data"
    },
    {
     "data": {
      "text/html": [
       "<pre>topic 67: nick drake moon drake's jamiroquai leaves good great pink \"pink lot nick's moon, jay record.</pre>"
      ],
      "text/plain": [
       "topic 67: nick drake moon drake's jamiroquai leaves good great pink \"pink lot nick's moon, jay record."
      ]
     },
     "metadata": {},
     "output_type": "display_data"
    },
    {
     "data": {
      "text/html": [
       "<pre>topic 68: album michael jackson music dance pop stop bad elvis can't jackson's songs costello michael's make</pre>"
      ],
      "text/plain": [
       "topic 68: album michael jackson music dance pop stop bad elvis can't jackson's songs costello michael's make"
      ]
     },
     "metadata": {},
     "output_type": "display_data"
    },
    {
     "data": {
      "text/html": [
       "<pre>topic 69: album rap 50 beats eminem hip good hop he's lyrics real game dont dre tracks</pre>"
      ],
      "text/plain": [
       "topic 69: album rap 50 beats eminem hip good hop he's lyrics real game dont dre tracks"
      ]
     },
     "metadata": {},
     "output_type": "display_data"
    },
    {
     "data": {
      "text/html": [
       "<pre>topic 70: devo great devo's miss you've worth guys rip add band hits. mark musicianship best! chapin</pre>"
      ],
      "text/plain": [
       "topic 70: devo great devo's miss you've worth guys rip add band hits. mark musicianship best! chapin"
      ]
     },
     "metadata": {},
     "output_type": "display_data"
    },
    {
     "data": {
      "text/html": [
       "<pre>topic 71: album madonna alice it's great love madonna's album. dance good title pop buffett jimmy cooper</pre>"
      ],
      "text/plain": [
       "topic 71: album madonna alice it's great love madonna's album. dance good title pop buffett jimmy cooper"
      ]
     },
     "metadata": {},
     "output_type": "display_data"
    },
    {
     "data": {
      "text/html": [
       "<pre>topic 72: great cypress hill songs liz phair days check do. entertaining deserves muggs sings this. loves</pre>"
      ],
      "text/plain": [
       "topic 72: great cypress hill songs liz phair days check do. entertaining deserves muggs sings this. loves"
      ]
     },
     "metadata": {},
     "output_type": "display_data"
    },
    {
     "data": {
      "text/html": [
       "<pre>topic 73: prince album funk time prince's sign times purple soundtrack funky \"purple movie o' jams morris</pre>"
      ],
      "text/plain": [
       "topic 73: prince album funk time prince's sign times purple soundtrack funky \"purple movie o' jams morris"
      ]
     },
     "metadata": {},
     "output_type": "display_data"
    },
    {
     "data": {
      "text/html": [
       "<pre>topic 74: dylan bob mars dylan's belle sebastian blood boy volta stuart songs dylan, twist marilyn drink</pre>"
      ],
      "text/plain": [
       "topic 74: dylan bob mars dylan's belle sebastian blood boy volta stuart songs dylan, twist marilyn drink"
      ]
     },
     "metadata": {},
     "output_type": "display_data"
    },
    {
     "data": {
      "text/html": [
       "<pre>topic 75: it! live perfect wrong today. thier radio, songs listenable. style slaughter case, songs, bigger vocalists</pre>"
      ],
      "text/plain": [
       "topic 75: it! live perfect wrong today. thier radio, songs listenable. style slaughter case, songs, bigger vocalists"
      ]
     },
     "metadata": {},
     "output_type": "display_data"
    },
    {
     "data": {
      "text/html": [
       "<pre>topic 76: album strong one! stuff. listen. work. can't lyrics shake things let's movie day favorites batch</pre>"
      ],
      "text/plain": [
       "topic 76: album strong one! stuff. listen. work. can't lyrics shake things let's movie day favorites batch"
      ]
     },
     "metadata": {},
     "output_type": "display_data"
    },
    {
     "data": {
      "text/html": [
       "<pre>topic 77: pixies frank kim love francis pixies, name. call bands consistency breeders knew deal surfer cool.</pre>"
      ],
      "text/plain": [
       "topic 77: pixies frank kim love francis pixies, name. call bands consistency breeders knew deal surfer cool."
      ]
     },
     "metadata": {},
     "output_type": "display_data"
    },
    {
     "data": {
      "text/html": [
       "<pre>topic 78: album great songs album. albums album, good tracks track favorite highly recommend albums. debut fan</pre>"
      ],
      "text/plain": [
       "topic 78: album great songs album. albums album, good tracks track favorite highly recommend albums. debut fan"
      ]
     },
     "metadata": {},
     "output_type": "display_data"
    },
    {
     "data": {
      "text/html": [
       "<pre>topic 79: pop classic feel here! amazon.com brilliant group hell, world genius. it). close records tv love</pre>"
      ],
      "text/plain": [
       "topic 79: pop classic feel here! amazon.com brilliant group hell, world genius. it). close records tv love"
      ]
     },
     "metadata": {},
     "output_type": "display_data"
    },
    {
     "data": {
      "text/html": [
       "<pre>topic 80: la de los rage el en machine battle disco super tom le ratm al lobos</pre>"
      ],
      "text/plain": [
       "topic 80: la de los rage el en machine battle disco super tom le ratm al lobos"
      ]
     },
     "metadata": {},
     "output_type": "display_data"
    },
    {
     "data": {
      "text/html": [
       "<pre>topic 81: great it! lounge music! great, collection put symphony taste props i'll grab also. fa back</pre>"
      ],
      "text/plain": [
       "topic 81: great it! lounge music! great, collection put symphony taste props i'll grab also. fa back"
      ]
     },
     "metadata": {},
     "output_type": "display_data"
    },
    {
     "data": {
      "text/html": [
       "<pre>topic 82: compare pretty stuff. perfect. kid favorite on, group, greatness person kick then. absolute brings i've</pre>"
      ],
      "text/plain": [
       "topic 82: compare pretty stuff. perfect. kid favorite on, group, greatness person kick then. absolute brings i've"
      ]
     },
     "metadata": {},
     "output_type": "display_data"
    },
    {
     "data": {
      "text/html": [
       "<pre>topic 83: songs hits greatest collection disc cd albums good fan tracks set compilation fans it's hit</pre>"
      ],
      "text/plain": [
       "topic 83: songs hits greatest collection disc cd albums good fan tracks set compilation fans it's hit"
      ]
     },
     "metadata": {},
     "output_type": "display_data"
    },
    {
     "data": {
      "text/html": [
       "<pre>topic 84: album wu beats wu-tang lyrics production rza ghostface ghost method buy arctic tang true gza</pre>"
      ],
      "text/plain": [
       "topic 84: album wu beats wu-tang lyrics production rza ghostface ghost method buy arctic tang true gza"
      ]
     },
     "metadata": {},
     "output_type": "display_data"
    },
    {
     "data": {
      "text/html": [
       "<pre>topic 85: album song songs hit & \"the elton released top pop john single great \"i albums</pre>"
      ],
      "text/plain": [
       "topic 85: album song songs hit & \"the elton released top pop john single great \"i albums"
      ]
     },
     "metadata": {},
     "output_type": "display_data"
    },
    {
     "data": {
      "text/html": [
       "<pre>topic 86: band rock album guitar sound bands great hard it's band's heavy metal music sounds songs</pre>"
      ],
      "text/plain": [
       "topic 86: band rock album guitar sound bands great hard it's band's heavy metal music sounds songs"
      ]
     },
     "metadata": {},
     "output_type": "display_data"
    },
    {
     "data": {
      "text/html": [
       "<pre>topic 87: jones norah jewel pop country music voice she's michelle debut cd talent spirit vanessa jewel's</pre>"
      ],
      "text/plain": [
       "topic 87: jones norah jewel pop country music voice she's michelle debut cd talent spirit vanessa jewel's"
      ]
     },
     "metadata": {},
     "output_type": "display_data"
    },
    {
     "data": {
      "text/html": [
       "<pre>topic 88: duran great fleetwood annie mac stevie eurythmics pop nicks christine doubt lennox buckingham dreams lindsey</pre>"
      ],
      "text/plain": [
       "topic 88: duran great fleetwood annie mac stevie eurythmics pop nicks christine doubt lennox buckingham dreams lindsey"
      ]
     },
     "metadata": {},
     "output_type": "display_data"
    },
    {
     "data": {
      "text/html": [
       "<pre>topic 89: listen wrong more. pleasure. joy greatness favorite pleasures it. reasons proof pace james produced. (yes</pre>"
      ],
      "text/plain": [
       "topic 89: listen wrong more. pleasure. joy greatness favorite pleasures it. reasons proof pace james produced. (yes"
      ]
     },
     "metadata": {},
     "output_type": "display_data"
    },
    {
     "data": {
      "text/html": [
       "<pre>topic 90: wouldn't fun. what's cut surely years. recently, work, side multiple door efforts call found with.</pre>"
      ],
      "text/plain": [
       "topic 90: wouldn't fun. what's cut surely years. recently, work, side multiple door efforts call found with."
      ]
     },
     "metadata": {},
     "output_type": "display_data"
    },
    {
     "data": {
      "text/html": [
       "<pre>topic 91: recommend album! promise stuff release 'love opinion, life, highly entry straight cut melodic solid. follow</pre>"
      ],
      "text/plain": [
       "topic 91: recommend album! promise stuff release 'love opinion, life, highly entry straight cut melodic solid. follow"
      ]
     },
     "metadata": {},
     "output_type": "display_data"
    },
    {
     "data": {
      "text/html": [
       "<pre>topic 92: best. real too. down. classics right. pop it! lesser effort. commercial damn house titled jd</pre>"
      ],
      "text/plain": [
       "topic 92: best. real too. down. classics right. pop it! lesser effort. commercial damn house titled jd"
      ]
     },
     "metadata": {},
     "output_type": "display_data"
    },
    {
     "data": {
      "text/html": [
       "<pre>topic 93: 100% production. cut formula extremely 2 stores heart set there. fan. it. word wild field</pre>"
      ],
      "text/plain": [
       "topic 93: 100% production. cut formula extremely 2 stores heart set there. fan. it. word wild field"
      ]
     },
     "metadata": {},
     "output_type": "display_data"
    },
    {
     "data": {
      "text/html": [
       "<pre>topic 94: incubus morning view great boyd brandon polished listen up! incubus' hear amazing wait together. call</pre>"
      ],
      "text/plain": [
       "topic 94: incubus morning view great boyd brandon polished listen up! incubus' hear amazing wait together. call"
      ]
     },
     "metadata": {},
     "output_type": "display_data"
    },
    {
     "data": {
      "text/html": [
       "<pre>topic 95: hot red chili peppers sex funk funky sugar blood john double hell anthony meat stadium</pre>"
      ],
      "text/plain": [
       "topic 95: hot red chili peppers sex funk funky sugar blood john double hell anthony meat stadium"
      ]
     },
     "metadata": {},
     "output_type": "display_data"
    },
    {
     "data": {
      "text/html": [
       "<pre>topic 96: cash johnny man american cash's country ain't prison rick waylon inch depeche recordings cash, meet</pre>"
      ],
      "text/plain": [
       "topic 96: cash johnny man american cash's country ain't prison rick waylon inch depeche recordings cash, meet"
      ]
     },
     "metadata": {},
     "output_type": "display_data"
    },
    {
     "data": {
      "text/html": [
       "<pre>topic 97: - version original live tracks album cd sound disc bonus release great released versions track</pre>"
      ],
      "text/plain": [
       "topic 97: - version original live tracks album cd sound disc bonus release great released versions track"
      ]
     },
     "metadata": {},
     "output_type": "display_data"
    },
    {
     "data": {
      "text/html": [
       "<pre>topic 98: it. 15 soft job jam plain cool hit romance prime selection straight blondie quiet perfection</pre>"
      ],
      "text/plain": [
       "topic 98: it. 15 soft job jam plain cool hit romance prime selection straight blondie quiet perfection"
      ]
     },
     "metadata": {},
     "output_type": "display_data"
    },
    {
     "data": {
      "text/html": [
       "<pre>topic 99: boys sounds beach brian pet wilson love smashing shop pumpkins beastie beatles corgan sounds, billy</pre>"
      ],
      "text/plain": [
       "topic 99: boys sounds beach brian pet wilson love smashing shop pumpkins beastie beatles corgan sounds, billy"
      ]
     },
     "metadata": {},
     "output_type": "display_data"
    },
    {
     "data": {
      "text/html": [
       "<pre>| 170       | 6m 37s        | 3.19459e+006   | 16342.3         |</pre>"
      ],
      "text/plain": [
       "| 170       | 6m 37s        | 3.19459e+006   | 16342.3         |"
      ]
     },
     "metadata": {},
     "output_type": "display_data"
    },
    {
     "data": {
      "text/html": [
       "<pre>topic 0: &amp; &quot;the album songs &quot;i hit me&quot; pop you&quot; love tracks &quot;you love&quot; title classic</pre>"
      ],
      "text/plain": [
       "topic 0: &amp; &quot;the album songs &quot;i hit me&quot; pop you&quot; love tracks &quot;you love&quot; title classic"
      ]
     },
     "metadata": {},
     "output_type": "display_data"
    },
    {
     "data": {
      "text/html": [
       "<pre>topic 1: gift it's song perfect love work, summer price 10 drugs super plain cuz it! classics</pre>"
      ],
      "text/plain": [
       "topic 1: gift it's song perfect love work, summer price 10 drugs super plain cuz it! classics"
      ]
     },
     "metadata": {},
     "output_type": "display_data"
    },
    {
     "data": {
      "text/html": [
       "<pre>topic 2: terrific goodbye bizarre, great, meets cd. fail to. joe's around, lp match disk thing. title</pre>"
      ],
      "text/plain": [
       "topic 2: terrific goodbye bizarre, great, meets cd. fail to. joe's around, lp match disk thing. title"
      ]
     },
     "metadata": {},
     "output_type": "display_data"
    },
    {
     "data": {
      "text/html": [
       "<pre>topic 3: album real anna nalick stuff stronger christmas recomend challenge finish. singer. nalick's promising improved laugh</pre>"
      ],
      "text/plain": [
       "topic 3: album real anna nalick stuff stronger christmas recomend challenge finish. singer. nalick's promising improved laugh"
      ]
     },
     "metadata": {},
     "output_type": "display_data"
    },
    {
     "data": {
      "text/html": [
       "<pre>topic 4: it's album don't songs i'm good album, that's doesn't isn't album. lot can't pretty people</pre>"
      ],
      "text/plain": [
       "topic 4: it's album don't songs i'm good album, that's doesn't isn't album. lot can't pretty people"
      ]
     },
     "metadata": {},
     "output_type": "display_data"
    },
    {
     "data": {
      "text/html": [
       "<pre>topic 5: paul simon mccartney & solo carly simon's beatles mccartney's paul's garfunkel troubled wings art run</pre>"
      ],
      "text/plain": [
       "topic 5: paul simon mccartney & solo carly simon's beatles mccartney's paul's garfunkel troubled wings art run"
      ]
     },
     "metadata": {},
     "output_type": "display_data"
    },
    {
     "data": {
      "text/html": [
       "<pre>topic 6: lips flaming soft great pink wayne wrong sounds good battles yoshimi future yeah lips, coyne</pre>"
      ],
      "text/plain": [
       "topic 6: lips flaming soft great pink wayne wrong sounds good battles yoshimi future yeah lips, coyne"
      ]
     },
     "metadata": {},
     "output_type": "display_data"
    },
    {
     "data": {
      "text/html": [
       "<pre>topic 7: great boring this. definately loves e's town buy band. incredible memory gotta recommended mentions ridiculous</pre>"
      ],
      "text/plain": [
       "topic 7: great boring this. definately loves e's town buy band. incredible memory gotta recommended mentions ridiculous"
      ]
     },
     "metadata": {},
     "output_type": "display_data"
    },
    {
     "data": {
      "text/html": [
       "<pre>topic 8: time! again. purists lyrics miss joy cry either. subject talented purchase. doors expected \"before there's</pre>"
      ],
      "text/plain": [
       "topic 8: time! again. purists lyrics miss joy cry either. subject talented purchase. doors expected \"before there's"
      ]
     },
     "metadata": {},
     "output_type": "display_data"
    },
    {
     "data": {
      "text/html": [
       "<pre>topic 9: punk daft basement it. punk's soft fan techno classics helped house alot jaxx group. baby.</pre>"
      ],
      "text/plain": [
       "topic 9: punk daft basement it. punk's soft fan techno classics helped house alot jaxx group. baby."
      ]
     },
     "metadata": {},
     "output_type": "display_data"
    },
    {
     "data": {
      "text/html": [
       "<pre>topic 10: night don't years. runs wait flash music. call worth best. cares sounds. there. buy one.</pre>"
      ],
      "text/plain": [
       "topic 10: night don't years. runs wait flash music. call worth best. cares sounds. there. buy one."
      ]
     },
     "metadata": {},
     "output_type": "display_data"
    },
    {
     "data": {
      "text/html": [
       "<pre>topic 11: joni cars mitchell joni's mitchell's court pop real ric ocasek spark strawbs cars, regular elliot</pre>"
      ],
      "text/plain": [
       "topic 11: joni cars mitchell joni's mitchell's court pop real ric ocasek spark strawbs cars, regular elliot"
      ]
     },
     "metadata": {},
     "output_type": "display_data"
    },
    {
     "data": {
      "text/html": [
       "<pre>topic 12: work tears lyrically remember reason taste found interesting. radio. couple compare armatrading added gems house,</pre>"
      ],
      "text/plain": [
       "topic 12: work tears lyrically remember reason taste found interesting. radio. couple compare armatrading added gems house,"
      ]
     },
     "metadata": {},
     "output_type": "display_data"
    },
    {
     "data": {
      "text/html": [
       "<pre>topic 13: yorn talent. christian soothing songs: rest lets bird mind, r&b 100% wrong. past genius, worn</pre>"
      ],
      "text/plain": [
       "topic 13: yorn talent. christian soothing songs: rest lets bird mind, r&b 100% wrong. past genius, worn"
      ]
     },
     "metadata": {},
     "output_type": "display_data"
    },
    {
     "data": {
      "text/html": [
       "<pre>topic 14: music time back years people life record make world listen made day hear music. it's</pre>"
      ],
      "text/plain": [
       "topic 14: music time back years people life record make world listen made day hear music. it's"
      ]
     },
     "metadata": {},
     "output_type": "display_data"
    },
    {
     "data": {
      "text/html": [
       "<pre>topic 15: - & album track good song beat production -- rap great featuring tracks nice 2</pre>"
      ],
      "text/plain": [
       "topic 15: - & album track good song beat production -- rap great featuring tracks nice 2"
      ]
     },
     "metadata": {},
     "output_type": "display_data"
    },
    {
     "data": {
      "text/html": [
       "<pre>topic 16: release round listening star, dance. rest bt split memorable songs hour talent, folky original, first,</pre>"
      ],
      "text/plain": [
       "topic 16: release round listening star, dance. rest bt split memorable songs hour talent, folky original, first,"
      ]
     },
     "metadata": {},
     "output_type": "display_data"
    },
    {
     "data": {
      "text/html": [
       "<pre>topic 17: soft be. sound. forever. limit voice. enough. now! highly dog plastic out, part geared song!</pre>"
      ],
      "text/plain": [
       "topic 17: soft be. sound. forever. limit voice. enough. now! highly dog plastic out, part geared song!"
      ]
     },
     "metadata": {},
     "output_type": "display_data"
    },
    {
     "data": {
      "text/html": [
       "<pre>topic 18: hope straight bump dance, good. style silent place give project record digital fellow things (5/5):</pre>"
      ],
      "text/plain": [
       "topic 18: hope straight bump dance, good. style silent place give project record digital fellow things (5/5):"
      ]
     },
     "metadata": {},
     "output_type": "display_data"
    },
    {
     "data": {
      "text/html": [
       "<pre>topic 19: phil album solo eagles collins can't don long genesis great peter air don't steve henley</pre>"
      ],
      "text/plain": [
       "topic 19: phil album solo eagles collins can't don long genesis great peter air don't steve henley"
      ]
     },
     "metadata": {},
     "output_type": "display_data"
    },
    {
     "data": {
      "text/html": [
       "<pre>topic 20: buy talent previous deserves group done, classic fairly in, commercial world's disappoint. queen young product</pre>"
      ],
      "text/plain": [
       "topic 20: buy talent previous deserves group done, classic fairly in, commercial world's disappoint. queen young product"
      ]
     },
     "metadata": {},
     "output_type": "display_data"
    },
    {
     "data": {
      "text/html": [
       "<pre>topic 21: great. style song, again. listen lp it's lived fun world, ten ever, 80's what? orchestra</pre>"
      ],
      "text/plain": [
       "topic 21: great. style song, again. listen lp it's lived fun world, ten ever, 80's what? orchestra"
      ]
     },
     "metadata": {},
     "output_type": "display_data"
    },
    {
     "data": {
      "text/html": [
       "<pre>topic 22: cd 5 good stars 4 2 give 3 star stars. gave buy stars, 1 rate</pre>"
      ],
      "text/plain": [
       "topic 22: cd 5 good stars 4 2 give 3 star stars. gave buy stars, 1 rate"
      ]
     },
     "metadata": {},
     "output_type": "display_data"
    },
    {
     "data": {
      "text/html": [
       "<pre>topic 23: alison sara bluegrass krauss voice album group plant robert tweet tegan nickel [see no. talented</pre>"
      ],
      "text/plain": [
       "topic 23: alison sara bluegrass krauss voice album group plant robert tweet tegan nickel [see no. talented"
      ]
     },
     "metadata": {},
     "output_type": "display_data"
    },
    {
     "data": {
      "text/html": [
       "<pre>topic 24: effort exception ladies radio close glad places loved round do. consistently few. good buy critics</pre>"
      ],
      "text/plain": [
       "topic 24: effort exception ladies radio close glad places loved round do. consistently few. good buy critics"
      ]
     },
     "metadata": {},
     "output_type": "display_data"
    },
    {
     "data": {
      "text/html": [
       "<pre>topic 25: war 10 ultimate masterpiece. walk passion style, i'll play. named trip groups land holds understood</pre>"
      ],
      "text/plain": [
       "topic 25: war 10 ultimate masterpiece. walk passion style, i'll play. named trip groups land holds understood"
      ]
     },
     "metadata": {},
     "output_type": "display_data"
    },
    {
     "data": {
      "text/html": [
       "<pre>topic 26: white jack stripes love lady gonna blood gaga cold meg white's leaves boy don't duo</pre>"
      ],
      "text/plain": [
       "topic 26: white jack stripes love lady gonna blood gaga cold meg white's leaves boy don't duo"
      ]
     },
     "metadata": {},
     "output_type": "display_data"
    },
    {
     "data": {
      "text/html": [
       "<pre>topic 27: . , \" ( &quot; ! ) danger ... mouse an' : ? .. gnarls</pre>"
      ],
      "text/plain": [
       "topic 27: . , \" ( &quot; ! ) danger ... mouse an' : ? .. gnarls"
      ]
     },
     "metadata": {},
     "output_type": "display_data"
    },
    {
     "data": {
      "text/html": [
       "<pre>topic 28: listen music ears lack album clear you've rank (not hole genre. beats purpose singer, kids</pre>"
      ],
      "text/plain": [
       "topic 28: listen music ears lack album clear you've rank (not hole genre. beats purpose singer, kids"
      ]
     },
     "metadata": {},
     "output_type": "display_data"
    },
    {
     "data": {
      "text/html": [
       "<pre>topic 29: feel negative bought simply favorites start. lyrics. kings buy while, yet. lyrics lives debut. corporate</pre>"
      ],
      "text/plain": [
       "topic 29: feel negative bought simply favorites start. lyrics. kings buy while, yet. lyrics lives debut. corporate"
      ]
     },
     "metadata": {},
     "output_type": "display_data"
    },
    {
     "data": {
      "text/html": [
       "<pre>topic 30: ben folds del primus les lana \"dark die\" harper \"video rey perfect \"born games\" claypool</pre>"
      ],
      "text/plain": [
       "topic 30: ben folds del primus les lana \"dark die\" harper \"video rey perfect \"born games\" claypool"
      ]
     },
     "metadata": {},
     "output_type": "display_data"
    },
    {
     "data": {
      "text/html": [
       "<pre>topic 31: it. duffy 60's it's duffy's &#8211; letter wrong crazy tunes. nice rough found half amazing,</pre>"
      ],
      "text/plain": [
       "topic 31: it. duffy 60's it's duffy's &#8211; letter wrong crazy tunes. nice rough found half amazing,"
      ]
     },
     "metadata": {},
     "output_type": "display_data"
    },
    {
     "data": {
      "text/html": [
       "<pre>topic 32: one. upbeat worth out, record group. there. covered boring, golden before, weeks. read long lp</pre>"
      ],
      "text/plain": [
       "topic 32: one. upbeat worth out, record group. there. covered boring, golden before, weeks. read long lp"
      ]
     },
     "metadata": {},
     "output_type": "display_data"
    },
    {
     "data": {
      "text/html": [
       "<pre>topic 33: fire fun now! out. fantastic. album! tracks proven one's toe talented group. manages there's bear</pre>"
      ],
      "text/plain": [
       "topic 33: fire fun now! out. fantastic. album! tracks proven one's toe talented group. manages there's bear"
      ]
     },
     "metadata": {},
     "output_type": "display_data"
    },
    {
     "data": {
      "text/html": [
       "<pre>topic 34: love soul voice album music she's mary debut r&b; cd soulful artists artist feel sounds</pre>"
      ],
      "text/plain": [
       "topic 34: love soul voice album music she's mary debut r&b; cd soulful artists artist feel sounds"
      ]
     },
     "metadata": {},
     "output_type": "display_data"
    },
    {
     "data": {
      "text/html": [
       "<pre>topic 35: great stay favorite filler. / here. (maybe down. pure move powerful. tunes date offer 70's</pre>"
      ],
      "text/plain": [
       "topic 35: great stay favorite filler. / here. (maybe down. pure move powerful. tunes date offer 70's"
      ]
     },
     "metadata": {},
     "output_type": "display_data"
    },
    {
     "data": {
      "text/html": [
       "<pre>topic 36: cd! one, found gave chief album! best! time. sleeping damn keef pop. standouts ween skipping</pre>"
      ],
      "text/plain": [
       "topic 36: cd! one, found gave chief album! best! time. sleeping damn keef pop. standouts ween skipping"
      ]
     },
     "metadata": {},
     "output_type": "display_data"
    },
    {
     "data": {
      "text/html": [
       "<pre>topic 37: mark dire knopfler straits knopfler's nothing\" arms\" long emmylou head world \"brothers cd brilliant cute</pre>"
      ],
      "text/plain": [
       "topic 37: mark dire knopfler straits knopfler's nothing\" arms\" long emmylou head world \"brothers cd brilliant cute"
      ]
     },
     "metadata": {},
     "output_type": "display_data"
    },
    {
     "data": {
      "text/html": [
       "<pre>topic 38: gordon lightfoot music nina buy fun. gordon's veruca here. lightfoot's albums salt great end. past</pre>"
      ],
      "text/plain": [
       "topic 38: gordon lightfoot music nina buy fun. gordon's veruca here. lightfoot's albums salt great end. past"
      ]
     },
     "metadata": {},
     "output_type": "display_data"
    },
    {
     "data": {
      "text/html": [
       "<pre>topic 39: album it's music song songs lyrics sound musical track vocals pop guitar - vocal \"the</pre>"
      ],
      "text/plain": [
       "topic 39: album it's music song songs lyrics sound musical track vocals pop guitar - vocal \"the"
      ]
     },
     "metadata": {},
     "output_type": "display_data"
    },
    {
     "data": {
      "text/html": [
       "<pre>topic 40: love work. titled sound. buying signature catalog. album... out, losing (i time... ever. better, pop.</pre>"
      ],
      "text/plain": [
       "topic 40: love work. titled sound. buying signature catalog. album... out, losing (i time... ever. better, pop."
      ]
     },
     "metadata": {},
     "output_type": "display_data"
    },
    {
     "data": {
      "text/html": [
       "<pre>topic 41: cd songs love cd. listen heard music song it. good bought buy great cd, i'm</pre>"
      ],
      "text/plain": [
       "topic 41: cd songs love cd. listen heard music song it. good bought buy great cd, i'm"
      ]
     },
     "metadata": {},
     "output_type": "display_data"
    },
    {
     "data": {
      "text/html": [
       "<pre>topic 42: nelly furtado doubt gwen trick fresh tragic nelly's song loose furtado's great. push kingdom ska</pre>"
      ],
      "text/plain": [
       "topic 42: nelly furtado doubt gwen trick fresh tragic nelly's song loose furtado's great. push kingdom ska"
      ]
     },
     "metadata": {},
     "output_type": "display_data"
    },
    {
     "data": {
      "text/html": [
       "<pre>topic 43: gang album guru kool moment starr premier guru's excellent primo old. heart monotone is. earth</pre>"
      ],
      "text/plain": [
       "topic 43: gang album guru kool moment starr premier guru's excellent primo old. heart monotone is. earth"
      ]
     },
     "metadata": {},
     "output_type": "display_data"
    },
    {
     "data": {
      "text/html": [
       "<pre>topic 44: cyndi lauper cyndi's problem lauper's day style listenable sell free energy alittle masterpiece. \"true range</pre>"
      ],
      "text/plain": [
       "topic 44: cyndi lauper cyndi's problem lauper's day style listenable sell free energy alittle masterpiece. \"true range"
      ]
     },
     "metadata": {},
     "output_type": "display_data"
    },
    {
     "data": {
      "text/html": [
       "<pre>topic 45: dido dido's adele bond angel adele's delivered faithless land music! :) \"rolling strong thing songwriting</pre>"
      ],
      "text/plain": [
       "topic 45: dido dido's adele bond angel adele's delivered faithless land music! :) \"rolling strong thing songwriting"
      ]
     },
     "metadata": {},
     "output_type": "display_data"
    },
    {
     "data": {
      "text/html": [
       "<pre>topic 46: love big outkast andre boi hip-hop day hey groups kelis boi's 3000 disc lives outkast's</pre>"
      ],
      "text/plain": [
       "topic 46: love big outkast andre boi hip-hop day hey groups kelis boi's 3000 disc lives outkast's"
      ]
     },
     "metadata": {},
     "output_type": "display_data"
    },
    {
     "data": {
      "text/html": [
       "<pre>topic 47: yeah karen carpenters carpenter richard enjoy karen's yeahs music, music singles. yyy's disc fun there.</pre>"
      ],
      "text/plain": [
       "topic 47: yeah karen carpenters carpenter richard enjoy karen's yeahs music, music singles. yyy's disc fun there."
      ]
     },
     "metadata": {},
     "output_type": "display_data"
    },
    {
     "data": {
      "text/html": [
       "<pre>topic 48: fleet love foxes one. listening smoke this, true then, opinion classic. sounding wife bad. product</pre>"
      ],
      "text/plain": [
       "topic 48: fleet love foxes one. listening smoke this, true then, opinion classic. sounding wife bad. product"
      ]
     },
     "metadata": {},
     "output_type": "display_data"
    },
    {
     "data": {
      "text/html": [
       "<pre>topic 49: van alanis halen album great eddie david lee rock roth morissette halen's cover classic dave</pre>"
      ],
      "text/plain": [
       "topic 49: van alanis halen album great eddie david lee rock roth morissette halen's cover classic dave"
      ]
     },
     "metadata": {},
     "output_type": "display_data"
    },
    {
     "data": {
      "text/html": [
       "<pre>topic 50: album great weezer love cher songs turn blue album. mann cd green aimee ain't cher's</pre>"
      ],
      "text/plain": [
       "topic 50: album great weezer love cher songs turn blue album. mann cd green aimee ain't cher's"
      ]
     },
     "metadata": {},
     "output_type": "display_data"
    },
    {
     "data": {
      "text/html": [
       "<pre>topic 51: song it's great - good album songs love song. track song, album. lyrics nice favorite</pre>"
      ],
      "text/plain": [
       "topic 51: song it's great - good album songs love song. track song, album. lyrics nice favorite"
      ]
     },
     "metadata": {},
     "output_type": "display_data"
    },
    {
     "data": {
      "text/html": [
       "<pre>topic 52: thumbs here's rest highlights: word: anthems matter: disappoint. release. middle, straight one. satisfy stab\" cd</pre>"
      ],
      "text/plain": [
       "topic 52: thumbs here's rest highlights: word: anthems matter: disappoint. release. middle, straight one. satisfy stab\" cd"
      ]
     },
     "metadata": {},
     "output_type": "display_data"
    },
    {
     "data": {
      "text/html": [
       "<pre>topic 53: blues great rock guitar jeff blues, classic eric clapton love beck moody playing led folk</pre>"
      ],
      "text/plain": [
       "topic 53: blues great rock guitar jeff blues, classic eric clapton love beck moody playing led folk"
      ]
     },
     "metadata": {},
     "output_type": "display_data"
    },
    {
     "data": {
      "text/html": [
       "<pre>topic 54: sheryl crow great kevin montreal barnes add false crow's better. writing it. sheryl's enough. gotta</pre>"
      ],
      "text/plain": [
       "topic 54: sheryl crow great kevin montreal barnes add false crow's better. writing it. sheryl's enough. gotta"
      ]
     },
     "metadata": {},
     "output_type": "display_data"
    },
    {
     "data": {
      "text/html": [
       "<pre>topic 55: tori songs cat amos tori's stevens piano beautiful amazing strange cover \"little boys choirgirl walk</pre>"
      ],
      "text/plain": [
       "topic 55: tori songs cat amos tori's stevens piano beautiful amazing strange cover \"little boys choirgirl walk"
      ]
     },
     "metadata": {},
     "output_type": "display_data"
    },
    {
     "data": {
      "text/html": [
       "<pre>topic 56: great song buy it. received strong sound piece voice lots review mine years. follow +</pre>"
      ],
      "text/plain": [
       "topic 56: great song buy it. received strong sound piece voice lots review mine years. follow +"
      ]
     },
     "metadata": {},
     "output_type": "display_data"
    },
    {
     "data": {
      "text/html": [
       "<pre>topic 57: bon jovi jon album justin mind iver richie year forever easy solid jovi's days ring</pre>"
      ],
      "text/plain": [
       "topic 57: bon jovi jon album justin mind iver richie year forever easy solid jovi's days ring"
      ]
     },
     "metadata": {},
     "output_type": "display_data"
    },
    {
     "data": {
      "text/html": [
       "<pre>topic 58: radiohead thom kid king yorke radiohead's yorke's radiohead, computer limbs this. eraser top, limbs\" hail</pre>"
      ],
      "text/plain": [
       "topic 58: radiohead thom kid king yorke radiohead's yorke's radiohead, computer limbs this. eraser top, limbs\" hail"
      ]
     },
     "metadata": {},
     "output_type": "display_data"
    },
    {
     "data": {
      "text/html": [
       "<pre>topic 59: jazz music great playing musicians miles recording blue work solo - james play john recorded</pre>"
      ],
      "text/plain": [
       "topic 59: jazz music great playing musicians miles recording blue work solo - james play john recorded"
      ]
     },
     "metadata": {},
     "output_type": "display_data"
    },
    {
     "data": {
      "text/html": [
       "<pre>topic 60: good dance i'm head. immediately. teenager tracks melodies 70's give squeeze memories mediocre you. one,</pre>"
      ],
      "text/plain": [
       "topic 60: good dance i'm head. immediately. teenager tracks melodies 70's give squeeze memories mediocre you. one,"
      ]
     },
     "metadata": {},
     "output_type": "display_data"
    },
    {
     "data": {
      "text/html": [
       "<pre>topic 61: hot u.s. billboard 100 top pop # easy 40 minutes chart charts weeks magazine reached</pre>"
      ],
      "text/plain": [
       "topic 61: hot u.s. billboard 100 top pop # easy 40 minutes chart charts weeks magazine reached"
      ]
     },
     "metadata": {},
     "output_type": "display_data"
    },
    {
     "data": {
      "text/html": [
       "<pre>topic 62: dan steely fagen dan's royal becker katy donald lose perry walter b-52's fogelberg lyrics. \"can't</pre>"
      ],
      "text/plain": [
       "topic 62: dan steely fagen dan's royal becker katy donald lose perry walter b-52's fogelberg lyrics. \"can't"
      ]
     },
     "metadata": {},
     "output_type": "display_data"
    },
    {
     "data": {
      "text/html": [
       "<pre>topic 63: bone mariah thugs group carey mariah's krayzie 1999 lyrics harmony bizzy eternal layzie e. flesh</pre>"
      ],
      "text/plain": [
       "topic 63: bone mariah thugs group carey mariah's krayzie 1999 lyrics harmony bizzy eternal layzie e. flesh"
      ]
     },
     "metadata": {},
     "output_type": "display_data"
    },
    {
     "data": {
      "text/html": [
       "<pre>topic 64: don't cd album! place stand favorite 90s name, dug (especially changed. justice. awsome mandy waiting</pre>"
      ],
      "text/plain": [
       "topic 64: don't cd album! place stand favorite 90s name, dug (especially changed. justice. awsome mandy waiting"
      ]
     },
     "metadata": {},
     "output_type": "display_data"
    },
    {
     "data": {
      "text/html": [
       "<pre>topic 65: hearing status personal love, sadly a-ha huge (i.e. isn't spot airplay hate 90s. there's love.</pre>"
      ],
      "text/plain": [
       "topic 65: hearing status personal love, sadly a-ha huge (i.e. isn't spot airplay hate 90s. there's love."
      ]
     },
     "metadata": {},
     "output_type": "display_data"
    },
    {
     "data": {
      "text/html": [
       "<pre>topic 66: funk music p-funk parliament highly clinton bootsy mothership funk. child clones sweet dig admire what's</pre>"
      ],
      "text/plain": [
       "topic 66: funk music p-funk parliament highly clinton bootsy mothership funk. child clones sweet dig admire what's"
      ]
     },
     "metadata": {},
     "output_type": "display_data"
    },
    {
     "data": {
      "text/html": [
       "<pre>topic 67: nick drake drake's pink moon jamiroquai leaves \"pink duncan jane nick's bring kay record. jay</pre>"
      ],
      "text/plain": [
       "topic 67: nick drake drake's pink moon jamiroquai leaves \"pink duncan jane nick's bring kay record. jay"
      ]
     },
     "metadata": {},
     "output_type": "display_data"
    },
    {
     "data": {
      "text/html": [
       "<pre>topic 68: michael album jackson music pop bad make elvis can't jackson's dance stop costello michael's disco</pre>"
      ],
      "text/plain": [
       "topic 68: michael album jackson music pop bad make elvis can't jackson's dance stop costello michael's disco"
      ]
     },
     "metadata": {},
     "output_type": "display_data"
    },
    {
     "data": {
      "text/html": [
       "<pre>topic 69: album rap 50 beats eminem hip good game hop he's lyrics dre real dont cd</pre>"
      ],
      "text/plain": [
       "topic 69: album rap 50 beats eminem hip good game hop he's lyrics dre real dont cd"
      ]
     },
     "metadata": {},
     "output_type": "display_data"
    },
    {
     "data": {
      "text/html": [
       "<pre>topic 70: devo solid worth baby devo's concept cuts ... later. best! looked \"whip review retro hand</pre>"
      ],
      "text/plain": [
       "topic 70: devo solid worth baby devo's concept cuts ... later. best! looked \"whip review retro hand"
      ]
     },
     "metadata": {},
     "output_type": "display_data"
    },
    {
     "data": {
      "text/html": [
       "<pre>topic 71: album madonna alice great madonna's love album. dance title songs buffett jimmy good cooper track</pre>"
      ],
      "text/plain": [
       "topic 71: album madonna alice great madonna's love album. dance title songs buffett jimmy good cooper track"
      ]
     },
     "metadata": {},
     "output_type": "display_data"
    },
    {
     "data": {
      "text/html": [
       "<pre>topic 72: hill great cypress love liz phair future 2nd classic voice sen muggs water masterpiece. well,</pre>"
      ],
      "text/plain": [
       "topic 72: hill great cypress love liz phair future 2nd classic voice sen muggs water masterpiece. well,"
      ]
     },
     "metadata": {},
     "output_type": "display_data"
    },
    {
     "data": {
      "text/html": [
       "<pre>topic 73: prince prince's funk times sign album purple movie soundtrack funky o' time morris \"purple funk,</pre>"
      ],
      "text/plain": [
       "topic 73: prince prince's funk times sign album purple movie soundtrack funky o' time morris \"purple funk,"
      ]
     },
     "metadata": {},
     "output_type": "display_data"
    },
    {
     "data": {
      "text/html": [
       "<pre>topic 74: dylan bob mars dylan's belle blood sebastian volta great stuart boy drink manson dylan, joan</pre>"
      ],
      "text/plain": [
       "topic 74: dylan bob mars dylan's belle blood sebastian volta great stuart boy drink manson dylan, joan"
      ]
     },
     "metadata": {},
     "output_type": "display_data"
    },
    {
     "data": {
      "text/html": [
       "<pre>topic 75: it! golden limit project top shame. favorites, worst impressed sense acid damn powerful i've chapter</pre>"
      ],
      "text/plain": [
       "topic 75: it! golden limit project top shame. favorites, worst impressed sense acid damn powerful i've chapter"
      ]
     },
     "metadata": {},
     "output_type": "display_data"
    },
    {
     "data": {
      "text/html": [
       "<pre>topic 76: stand cover hooked all. enough, cuts trip perfect. story. lp. disc. favorites \"head computer down,</pre>"
      ],
      "text/plain": [
       "topic 76: stand cover hooked all. enough, cuts trip perfect. story. lp. disc. favorites \"head computer down,"
      ]
     },
     "metadata": {},
     "output_type": "display_data"
    },
    {
     "data": {
      "text/html": [
       "<pre>topic 77: love kim pixies frank breeders style francis classic thinks surfer deal's doolittle loved better. perfection.</pre>"
      ],
      "text/plain": [
       "topic 77: love kim pixies frank breeders style francis classic thinks surfer deal's doolittle loved better. perfection."
      ]
     },
     "metadata": {},
     "output_type": "display_data"
    },
    {
     "data": {
      "text/html": [
       "<pre>topic 78: album great album. songs album, albums good tracks track favorite highly fan recommend music albums.</pre>"
      ],
      "text/plain": [
       "topic 78: album great album. songs album, albums good tracks track favorite highly fan recommend music albums."
      ]
     },
     "metadata": {},
     "output_type": "display_data"
    },
    {
     "data": {
      "text/html": [
       "<pre>topic 79: dance earth genius. fun pop group artists. cross respected lp's work stands duck man here!</pre>"
      ],
      "text/plain": [
       "topic 79: dance earth genius. fun pop group artists. cross respected lp's work stands duck man here!"
      ]
     },
     "metadata": {},
     "output_type": "display_data"
    },
    {
     "data": {
      "text/html": [
       "<pre>topic 80: la de los rage el en tom yo album machine lo ratm battle this. con</pre>"
      ],
      "text/plain": [
       "topic 80: la de los rage el en tom yo album machine lo ratm battle this. con"
      ]
     },
     "metadata": {},
     "output_type": "display_data"
    },
    {
     "data": {
      "text/html": [
       "<pre>topic 81: great simply start friendly lyric hell, carrying critics involved alive. small have. others, stands give</pre>"
      ],
      "text/plain": [
       "topic 81: great simply start friendly lyric hell, carrying critics involved alive. small have. others, stands give"
      ]
     },
     "metadata": {},
     "output_type": "display_data"
    },
    {
     "data": {
      "text/html": [
       "<pre>topic 82: fan, pretty done. world it's track brand changing late brat thing. surprisingly, cheap was, chose</pre>"
      ],
      "text/plain": [
       "topic 82: fan, pretty done. world it's track brand changing late brat thing. surprisingly, cheap was, chose"
      ]
     },
     "metadata": {},
     "output_type": "display_data"
    },
    {
     "data": {
      "text/html": [
       "<pre>topic 83: songs hits greatest collection cd disc good tracks set albums compilation fan songs, hendrix it's</pre>"
      ],
      "text/plain": [
       "topic 83: songs hits greatest collection cd disc good tracks set albums compilation fan songs, hendrix it's"
      ]
     },
     "metadata": {},
     "output_type": "display_data"
    },
    {
     "data": {
      "text/html": [
       "<pre>topic 84: album wu beats wu-tang rza ghostface ghost true method lyrics arctic world tang gza monkeys</pre>"
      ],
      "text/plain": [
       "topic 84: album wu beats wu-tang rza ghostface ghost true method lyrics arctic world tang gza monkeys"
      ]
     },
     "metadata": {},
     "output_type": "display_data"
    },
    {
     "data": {
      "text/html": [
       "<pre>topic 85: album song songs hit & \"the elton released john great pop top single albums title</pre>"
      ],
      "text/plain": [
       "topic 85: album song songs hit & \"the elton released john great pop top single albums title"
      ]
     },
     "metadata": {},
     "output_type": "display_data"
    },
    {
     "data": {
      "text/html": [
       "<pre>topic 86: band rock album guitar sound bands great hard heavy band's metal it's albums sounds bass</pre>"
      ],
      "text/plain": [
       "topic 86: band rock album guitar sound bands great hard heavy band's metal it's albums sounds bass"
      ]
     },
     "metadata": {},
     "output_type": "display_data"
    },
    {
     "data": {
      "text/html": [
       "<pre>topic 87: jones jewel norah country music pop she's voice michelle spirit cd debut vanessa jewel's dolly</pre>"
      ],
      "text/plain": [
       "topic 87: jones jewel norah country music pop she's voice michelle spirit cd debut vanessa jewel's dolly"
      ]
     },
     "metadata": {},
     "output_type": "display_data"
    },
    {
     "data": {
      "text/html": [
       "<pre>topic 88: duran stevie great fleetwood annie mac eurythmics group christine nicks pop dreams lennox buckingham lindsey</pre>"
      ],
      "text/plain": [
       "topic 88: duran stevie great fleetwood annie mac eurythmics group christine nicks pop dreams lennox buckingham lindsey"
      ]
     },
     "metadata": {},
     "output_type": "display_data"
    },
    {
     "data": {
      "text/html": [
       "<pre>topic 89: listen back wrong awesome family that's album. break order sweat lots off. sat people. ride</pre>"
      ],
      "text/plain": [
       "topic 89: listen back wrong awesome family that's album. break order sweat lots off. sat people. ride"
      ]
     },
     "metadata": {},
     "output_type": "display_data"
    },
    {
     "data": {
      "text/html": [
       "<pre>topic 90: mediocre brilliant, mind. stick age music breaking solid intelligent worried (...) mellencamp good. misfits inspiring</pre>"
      ],
      "text/plain": [
       "topic 90: mediocre brilliant, mind. stick age music breaking solid intelligent worried (...) mellencamp good. misfits inspiring"
      ]
     },
     "metadata": {},
     "output_type": "display_data"
    },
    {
     "data": {
      "text/html": [
       "<pre>topic 91: tracks worth great 3 delivers days have. modern knowing hear endless [...] cookie baby spoiled</pre>"
      ],
      "text/plain": [
       "topic 91: tracks worth great 3 delivers days have. modern knowing hear endless [...] cookie baby spoiled"
      ]
     },
     "metadata": {},
     "output_type": "display_data"
    },
    {
     "data": {
      "text/html": [
       "<pre>topic 92: best. house massive can't 10 this. creating 25 business dance rocks then, electronic short grab</pre>"
      ],
      "text/plain": [
       "topic 92: best. house massive can't 10 this. creating 25 business dance rocks then, electronic short grab"
      ]
     },
     "metadata": {},
     "output_type": "display_data"
    },
    {
     "data": {
      "text/html": [
       "<pre>topic 93: dogs realized songs shadow not. wasting collection! jam pick household trip something. safe mature lyrics.</pre>"
      ],
      "text/plain": [
       "topic 93: dogs realized songs shadow not. wasting collection! jam pick household trip something. safe mature lyrics."
      ]
     },
     "metadata": {},
     "output_type": "display_data"
    },
    {
     "data": {
      "text/html": [
       "<pre>topic 94: incubus morning great view fantastic style. brandon effort paris \"morning he's boyd incubus' alone. ridiculously</pre>"
      ],
      "text/plain": [
       "topic 94: incubus morning great view fantastic style. brandon effort paris \"morning he's boyd incubus' alone. ridiculously"
      ]
     },
     "metadata": {},
     "output_type": "display_data"
    },
    {
     "data": {
      "text/html": [
       "<pre>topic 95: hot red chili peppers funky sex sugar blood funk john stadium double meat anthony rhcp</pre>"
      ],
      "text/plain": [
       "topic 95: hot red chili peppers funky sex sugar blood funk john stadium double meat anthony rhcp"
      ]
     },
     "metadata": {},
     "output_type": "display_data"
    },
    {
     "data": {
      "text/html": [
       "<pre>topic 96: cash johnny man american country cash's rick prison waylon guys rubin ain't meet legend audience</pre>"
      ],
      "text/plain": [
       "topic 96: cash johnny man american country cash's rick prison waylon guys rubin ain't meet legend audience"
      ]
     },
     "metadata": {},
     "output_type": "display_data"
    },
    {
     "data": {
      "text/html": [
       "<pre>topic 97: - version album original live tracks cd sound bonus disc great versions released release studio</pre>"
      ],
      "text/plain": [
       "topic 97: - version album original live tracks cd sound bonus disc great versions released release studio"
      ]
     },
     "metadata": {},
     "output_type": "display_data"
    },
    {
     "data": {
      "text/html": [
       "<pre>topic 98: pop it. let's them, brightest pure lie filler, me) law blur areas won't awful. tunes,</pre>"
      ],
      "text/plain": [
       "topic 98: pop it. let's them, brightest pure lie filler, me) law blur areas won't awful. tunes,"
      ]
     },
     "metadata": {},
     "output_type": "display_data"
    },
    {
     "data": {
      "text/html": [
       "<pre>topic 99: boys beach sounds brian pet wilson love shop smashing pumpkins beatles beastie corgan wilson's boys,</pre>"
      ],
      "text/plain": [
       "topic 99: boys beach sounds brian pet wilson love shop smashing pumpkins beatles beastie corgan wilson's boys,"
      ]
     },
     "metadata": {},
     "output_type": "display_data"
    },
    {
     "data": {
      "text/html": [
       "<pre>| 180       | 6m 57s        | 3.13717e+006   | 16332.3         |</pre>"
      ],
      "text/plain": [
       "| 180       | 6m 57s        | 3.13717e+006   | 16332.3         |"
      ]
     },
     "metadata": {},
     "output_type": "display_data"
    },
    {
     "data": {
      "text/html": [
       "<pre>topic 0: &amp; &quot;the album &quot;i songs pop me&quot; hit you&quot; &quot;you tracks love&quot; r&amp;b love &quot;don't</pre>"
      ],
      "text/plain": [
       "topic 0: &amp; &quot;the album &quot;i songs pop me&quot; hit you&quot; &quot;you tracks love&quot; r&amp;b love &quot;don't"
      ]
     },
     "metadata": {},
     "output_type": "display_data"
    },
    {
     "data": {
      "text/html": [
       "<pre>topic 1: great true soft love gift amazing stand song mix boost loves --------- buy underground. me.</pre>"
      ],
      "text/plain": [
       "topic 1: great true soft love gift amazing stand song mix boost loves --------- buy underground. me."
      ]
     },
     "metadata": {},
     "output_type": "display_data"
    },
    {
     "data": {
      "text/html": [
       "<pre>topic 2: boy crazy magic fashioned days. pop impressed fan, romance wanna bruno sing party. pure perry,</pre>"
      ],
      "text/plain": [
       "topic 2: boy crazy magic fashioned days. pop impressed fan, romance wanna bruno sing party. pure perry,"
      ]
     },
     "metadata": {},
     "output_type": "display_data"
    },
    {
     "data": {
      "text/html": [
       "<pre>topic 3: real nalick bunch anna brilliant nalick's though. sit underated review, 'hot boy, redhead dance. album</pre>"
      ],
      "text/plain": [
       "topic 3: real nalick bunch anna brilliant nalick's though. sit underated review, 'hot boy, redhead dance. album"
      ]
     },
     "metadata": {},
     "output_type": "display_data"
    },
    {
     "data": {
      "text/html": [
       "<pre>topic 4: it's album don't songs i'm good that's doesn't album, isn't album. people pretty it. can't</pre>"
      ],
      "text/plain": [
       "topic 4: it's album don't songs i'm good that's doesn't album, isn't album. people pretty it. can't"
      ]
     },
     "metadata": {},
     "output_type": "display_data"
    },
    {
     "data": {
      "text/html": [
       "<pre>topic 5: paul simon & mccartney solo carly simon's troubled folk beatles mccartney's paul's garfunkel run wings</pre>"
      ],
      "text/plain": [
       "topic 5: paul simon & mccartney solo carly simon's troubled folk beatles mccartney's paul's garfunkel run wings"
      ]
     },
     "metadata": {},
     "output_type": "display_data"
    },
    {
     "data": {
      "text/html": [
       "<pre>topic 6: lips flaming soft wayne great cd! bad wrong pink battles are, lips, you've yoshimi day.</pre>"
      ],
      "text/plain": [
       "topic 6: lips flaming soft wayne great cd! bad wrong pink battles are, lips, you've yoshimi day."
      ]
     },
     "metadata": {},
     "output_type": "display_data"
    },
    {
     "data": {
      "text/html": [
       "<pre>topic 7: great buy free long album listening. fantastic brothers can't chances perform deny boring band geffen/universal</pre>"
      ],
      "text/plain": [
       "topic 7: great buy free long album listening. fantastic brothers can't chances perform deny boring band geffen/universal"
      ]
     },
     "metadata": {},
     "output_type": "display_data"
    },
    {
     "data": {
      "text/html": [
       "<pre>topic 8: that. songs. back standouts guys up. blow days killer joy voices. worst smoke lover fantastic</pre>"
      ],
      "text/plain": [
       "topic 8: that. songs. back standouts guys up. blow days killer joy voices. worst smoke lover fantastic"
      ]
     },
     "metadata": {},
     "output_type": "display_data"
    },
    {
     "data": {
      "text/html": [
       "<pre>topic 9: punk daft it. basement discovery too, punk's work (5/5): dancing did. jaxx nofx staying tunes,</pre>"
      ],
      "text/plain": [
       "topic 9: punk daft it. basement discovery too, punk's work (5/5): dancing did. jaxx nofx staying tunes,"
      ]
     },
     "metadata": {},
     "output_type": "display_data"
    },
    {
     "data": {
      "text/html": [
       "<pre>topic 10: 2 god summer before. 12 quiet band. awesome long 2nd consistent level title admire beats</pre>"
      ],
      "text/plain": [
       "topic 10: 2 god summer before. 12 quiet band. awesome long 2nd consistent level title admire beats"
      ]
     },
     "metadata": {},
     "output_type": "display_data"
    },
    {
     "data": {
      "text/html": [
       "<pre>topic 11: joni cars mitchell joni's mitchell's ric court ocasek moon strawbs reckless spark \"shake cars, \"free</pre>"
      ],
      "text/plain": [
       "topic 11: joni cars mitchell joni's mitchell's ric court ocasek moon strawbs reckless spark \"shake cars, \"free"
      ]
     },
     "metadata": {},
     "output_type": "display_data"
    },
    {
     "data": {
      "text/html": [
       "<pre>topic 12: do, two. add hear. taste values along. skin opposite trash enjoy. moment acquired strong old.</pre>"
      ],
      "text/plain": [
       "topic 12: do, two. add hear. taste values along. skin opposite trash enjoy. moment acquired strong old."
      ]
     },
     "metadata": {},
     "output_type": "display_data"
    },
    {
     "data": {
      "text/html": [
       "<pre>topic 13: doubt, sounds fully singers par party half twist. bland nice cd. mature alone, they're pass</pre>"
      ],
      "text/plain": [
       "topic 13: doubt, sounds fully singers par party half twist. bland nice cd. mature alone, they're pass"
      ]
     },
     "metadata": {},
     "output_type": "display_data"
    },
    {
     "data": {
      "text/html": [
       "<pre>topic 14: music time back years people life it's make record world love hear day listen i'm</pre>"
      ],
      "text/plain": [
       "topic 14: music time back years people life it's make record world love hear day listen i'm"
      ]
     },
     "metadata": {},
     "output_type": "display_data"
    },
    {
     "data": {
      "text/html": [
       "<pre>topic 15: - & album track good song beat -- production tracks rap featuring great nice 2</pre>"
      ],
      "text/plain": [
       "topic 15: - & album track good song beat -- production tracks rap featuring great nice 2"
      ]
     },
     "metadata": {},
     "output_type": "display_data"
    },
    {
     "data": {
      "text/html": [
       "<pre>topic 16: worth rest record drive simple. kirk free up! release biggest fell thier moment change. high,</pre>"
      ],
      "text/plain": [
       "topic 16: worth rest record drive simple. kirk free up! release biggest fell thier moment change. high,"
      ]
     },
     "metadata": {},
     "output_type": "display_data"
    },
    {
     "data": {
      "text/html": [
       "<pre>topic 17: york fun stay offering southern good of. here. find tracy touches recycled true atmosphere, wind</pre>"
      ],
      "text/plain": [
       "topic 17: york fun stay offering southern good of. here. find tracy touches recycled true atmosphere, wind"
      ]
     },
     "metadata": {},
     "output_type": "display_data"
    },
    {
     "data": {
      "text/html": [
       "<pre>topic 18: style deserves finish. sisters give charlotte &lt; window combined are: anywhere. judging checking listening. crown</pre>"
      ],
      "text/plain": [
       "topic 18: style deserves finish. sisters give charlotte &lt; window combined are: anywhere. judging checking listening. crown"
      ]
     },
     "metadata": {},
     "output_type": "display_data"
    },
    {
     "data": {
      "text/html": [
       "<pre>topic 19: album phil eagles collins solo don great can't long genesis day air christmas steve peter</pre>"
      ],
      "text/plain": [
       "topic 19: album phil eagles collins solo don great can't long genesis day air christmas steve peter"
      ]
     },
     "metadata": {},
     "output_type": "display_data"
    },
    {
     "data": {
      "text/html": [
       "<pre>topic 20: group music. long listen years. cd buy debut alot me! duo coldplay ranks \"classic\" amazing</pre>"
      ],
      "text/plain": [
       "topic 20: group music. long listen years. cd buy debut alot me! duo coldplay ranks \"classic\" amazing"
      ]
     },
     "metadata": {},
     "output_type": "display_data"
    },
    {
     "data": {
      "text/html": [
       "<pre>topic 21: listen add effort word, low pick creative fun great. god radio, brilliant, airplay. hooks music.</pre>"
      ],
      "text/plain": [
       "topic 21: listen add effort word, low pick creative fun great. god radio, brilliant, airplay. hooks music."
      ]
     },
     "metadata": {},
     "output_type": "display_data"
    },
    {
     "data": {
      "text/html": [
       "<pre>topic 22: cd 5 good stars 4 2 give 3 star stars. gave stars, bad 1 rate</pre>"
      ],
      "text/plain": [
       "topic 22: cd 5 good stars 4 2 give 3 star stars. gave stars, bad 1 rate"
      ]
     },
     "metadata": {},
     "output_type": "display_data"
    },
    {
     "data": {
      "text/html": [
       "<pre>topic 23: alison bluegrass sara krauss voice plant traditional no. union tegan group tweet nickel [see cd</pre>"
      ],
      "text/plain": [
       "topic 23: alison bluegrass sara krauss voice plant traditional no. union tegan group tweet nickel [see cd"
      ]
     },
     "metadata": {},
     "output_type": "display_data"
    },
    {
     "data": {
      "text/html": [
       "<pre>topic 24: don't glad industry fresh lacks album! places did, faves miss icons out. slump forever (for</pre>"
      ],
      "text/plain": [
       "topic 24: don't glad industry fresh lacks album! places did, faves miss icons out. slump forever (for"
      ]
     },
     "metadata": {},
     "output_type": "display_data"
    },
    {
     "data": {
      "text/html": [
       "<pre>topic 25: real gem group. also. 10 sorts 80s rock. brother kicks people alot plan sunday pure</pre>"
      ],
      "text/plain": [
       "topic 25: real gem group. also. 10 sorts 80s rock. brother kicks people alot plan sunday pure"
      ]
     },
     "metadata": {},
     "output_type": "display_data"
    },
    {
     "data": {
      "text/html": [
       "<pre>topic 26: white jack stripes love lady gaga blood album meg cold white's gonna born nation \"born</pre>"
      ],
      "text/plain": [
       "topic 26: white jack stripes love lady gaga blood album meg cold white's gonna born nation \"born"
      ]
     },
     "metadata": {},
     "output_type": "display_data"
    },
    {
     "data": {
      "text/html": [
       "<pre>topic 27: . , \" ( &quot; ! ) danger mouse ... : an' ? gnarls cee-lo</pre>"
      ],
      "text/plain": [
       "topic 27: . , \" ( &quot; ! ) danger mouse ... : an' ? gnarls cee-lo"
      ]
     },
     "metadata": {},
     "output_type": "display_data"
    },
    {
     "data": {
      "text/html": [
       "<pre>topic 28: listen songs: times. music mind adam release. loves here: not. time, fun 2001 enjoy! beat</pre>"
      ],
      "text/plain": [
       "topic 28: listen songs: times. music mind adam release. loves here: not. time, fun 2001 enjoy! beat"
      ]
     },
     "metadata": {},
     "output_type": "display_data"
    },
    {
     "data": {
      "text/html": [
       "<pre>topic 29: listen cd people add call styles ambient matter fans this! deeper yourself, sure, :: decide</pre>"
      ],
      "text/plain": [
       "topic 29: listen cd people add call styles ambient matter fans this! deeper yourself, sure, :: decide"
      ]
     },
     "metadata": {},
     "output_type": "display_data"
    },
    {
     "data": {
      "text/html": [
       "<pre>topic 30: ben folds del les primus debut lana bad die\" harper find rey fabulous \"video claypool</pre>"
      ],
      "text/plain": [
       "topic 30: ben folds del les primus debut lana bad die\" harper find rey fabulous \"video claypool"
      ]
     },
     "metadata": {},
     "output_type": "display_data"
    },
    {
     "data": {
      "text/html": [
       "<pre>topic 31: duffy girls &#8211; it&#8217;s work hearing crazy amazing, 60's \"new proves duffy's slight hall rockferry</pre>"
      ],
      "text/plain": [
       "topic 31: duffy girls &#8211; it&#8217;s work hearing crazy amazing, 60's \"new proves duffy's slight hall rockferry"
      ]
     },
     "metadata": {},
     "output_type": "display_data"
    },
    {
     "data": {
      "text/html": [
       "<pre>topic 32: effort. one. shake purchased wrong apparent bears authentic are. crafted bit decade impressed. perfect decade,</pre>"
      ],
      "text/plain": [
       "topic 32: effort. one. shake purchased wrong apparent bears authentic are. crafted bit decade impressed. perfect decade,"
      ]
     },
     "metadata": {},
     "output_type": "display_data"
    },
    {
     "data": {
      "text/html": [
       "<pre>topic 33: set album! bt check video bt's this, now! ladies par needed fun rise underrated notch</pre>"
      ],
      "text/plain": [
       "topic 33: set album! bt check video bt's this, now! ladies par needed fun rise underrated notch"
      ]
     },
     "metadata": {},
     "output_type": "display_data"
    },
    {
     "data": {
      "text/html": [
       "<pre>topic 34: love voice soul album she's music debut mary cd r&b; artist soulful sounds singing real</pre>"
      ],
      "text/plain": [
       "topic 34: love voice soul album she's music debut mary cd r&b; artist soulful sounds singing real"
      ]
     },
     "metadata": {},
     "output_type": "display_data"
    },
    {
     "data": {
      "text/html": [
       "<pre>topic 35: good. cover faith 100% rock hidden etc. foot belong artist. realize trance blazing work, folks</pre>"
      ],
      "text/plain": [
       "topic 35: good. cover faith 100% rock hidden etc. foot belong artist. realize trance blazing work, folks"
      ]
     },
     "metadata": {},
     "output_type": "display_data"
    },
    {
     "data": {
      "text/html": [
       "<pre>topic 36: track pop. chief team love good keef excellent! guy ago awesome, back, damn flat give</pre>"
      ],
      "text/plain": [
       "topic 36: track pop. chief team love good keef excellent! guy ago awesome, back, damn flat give"
      ]
     },
     "metadata": {},
     "output_type": "display_data"
    },
    {
     "data": {
      "text/html": [
       "<pre>topic 37: mark dire knopfler straits knopfler's all. cd stands best. arms\" star \"brothers lovers you'd collection</pre>"
      ],
      "text/plain": [
       "topic 37: mark dire knopfler straits knopfler's all. cd stands best. arms\" star \"brothers lovers you'd collection"
      ]
     },
     "metadata": {},
     "output_type": "display_data"
    },
    {
     "data": {
      "text/html": [
       "<pre>topic 38: gordon lightfoot nina music give rock, gordon's lightfoot's cut, unique tear veruca singing party salt</pre>"
      ],
      "text/plain": [
       "topic 38: gordon lightfoot nina music give rock, gordon's lightfoot's cut, unique tear veruca singing party salt"
      ]
     },
     "metadata": {},
     "output_type": "display_data"
    },
    {
     "data": {
      "text/html": [
       "<pre>topic 39: album it's song music sound lyrics track musical songs pop vocal vocals guitar work sounds</pre>"
      ],
      "text/plain": [
       "topic 39: album it's song music sound lyrics track musical songs pop vocal vocals guitar work sounds"
      ]
     },
     "metadata": {},
     "output_type": "display_data"
    },
    {
     "data": {
      "text/html": [
       "<pre>topic 40: loved love * date. beats voice hand sharp show years, baby. wonderful recommend is: (number</pre>"
      ],
      "text/plain": [
       "topic 40: loved love * date. beats voice hand sharp show years, baby. wonderful recommend is: (number"
      ]
     },
     "metadata": {},
     "output_type": "display_data"
    },
    {
     "data": {
      "text/html": [
       "<pre>topic 41: cd songs music heard listen cd. love song it. good bought buy cd, great favorite</pre>"
      ],
      "text/plain": [
       "topic 41: cd songs music heard listen cd. love song it. good bought buy cd, great favorite"
      ]
     },
     "metadata": {},
     "output_type": "display_data"
    },
    {
     "data": {
      "text/html": [
       "<pre>topic 42: nelly furtado doubt gwen loose nelly's out, god's ~ push furtado's tragic releases kingdom \"say</pre>"
      ],
      "text/plain": [
       "topic 42: nelly furtado doubt gwen loose nelly's out, god's ~ push furtado's tragic releases kingdom \"say"
      ]
     },
     "metadata": {},
     "output_type": "display_data"
    },
    {
     "data": {
      "text/html": [
       "<pre>topic 43: album gang guru starr kool listen moment this. premier masterpiece guru's mass play advice filled</pre>"
      ],
      "text/plain": [
       "topic 43: album gang guru starr kool listen moment this. premier masterpiece guru's mass play advice filled"
      ]
     },
     "metadata": {},
     "output_type": "display_data"
    },
    {
     "data": {
      "text/html": [
       "<pre>topic 44: cyndi lauper cyndi's lauper's awesome (i \"girls yeah, range bad stands peace. move \"true total</pre>"
      ],
      "text/plain": [
       "topic 44: cyndi lauper cyndi's lauper's awesome (i \"girls yeah, range bad stands peace. move \"true total"
      ]
     },
     "metadata": {},
     "output_type": "display_data"
    },
    {
     "data": {
      "text/html": [
       "<pre>topic 45: dido adele dido's angel adele's wait faithless bond ever! singer, \"see enjoyable. alone, remembered land</pre>"
      ],
      "text/plain": [
       "topic 45: dido adele dido's angel adele's wait faithless bond ever! singer, \"see enjoyable. alone, remembered land"
      ]
     },
     "metadata": {},
     "output_type": "display_data"
    },
    {
     "data": {
      "text/html": [
       "<pre>topic 46: big love outkast andre boi hip-hop day group hey boi's hit double 3000 kelis groups</pre>"
      ],
      "text/plain": [
       "topic 46: big love outkast andre boi hip-hop day group hey boi's hit double 3000 kelis groups"
      ]
     },
     "metadata": {},
     "output_type": "display_data"
    },
    {
     "data": {
      "text/html": [
       "<pre>topic 47: yeah karen carpenters fun carpenter richard great, karen's yeahs worth lyrics, check enjoy brother solid</pre>"
      ],
      "text/plain": [
       "topic 47: yeah karen carpenters fun carpenter richard great, karen's yeahs worth lyrics, check enjoy brother solid"
      ]
     },
     "metadata": {},
     "output_type": "display_data"
    },
    {
     "data": {
      "text/html": [
       "<pre>topic 48: fleet foxes night yorn bad. styles thing. left is, bing usual one. \"helplessness produced, i.e.</pre>"
      ],
      "text/plain": [
       "topic 48: fleet foxes night yorn bad. styles thing. left is, bing usual one. \"helplessness produced, i.e."
      ]
     },
     "metadata": {},
     "output_type": "display_data"
    },
    {
     "data": {
      "text/html": [
       "<pre>topic 49: van halen alanis eddie great david album lee cover roth rock morissette halen's \"you bad</pre>"
      ],
      "text/plain": [
       "topic 49: van halen alanis eddie great david album lee cover roth rock morissette halen's \"you bad"
      ]
     },
     "metadata": {},
     "output_type": "display_data"
    },
    {
     "data": {
      "text/html": [
       "<pre>topic 50: album weezer great cher blue album. songs mann aimee love green song cher's that's turn</pre>"
      ],
      "text/plain": [
       "topic 50: album weezer great cher blue album. songs mann aimee love green song cher's that's turn"
      ]
     },
     "metadata": {},
     "output_type": "display_data"
    },
    {
     "data": {
      "text/html": [
       "<pre>topic 51: song it's great - good songs album love song. song, track album. lyrics nice favorite</pre>"
      ],
      "text/plain": [
       "topic 51: song it's great - good songs album love song. song, track album. lyrics nice favorite"
      ]
     },
     "metadata": {},
     "output_type": "display_data"
    },
    {
     "data": {
      "text/html": [
       "<pre>topic 52: thumbs talented here's step highlights: enjoying word: todays straight matter: can't proves \"is hell creativity</pre>"
      ],
      "text/plain": [
       "topic 52: thumbs talented here's step highlights: enjoying word: todays straight matter: can't proves \"is hell creativity"
      ]
     },
     "metadata": {},
     "output_type": "display_data"
    },
    {
     "data": {
      "text/html": [
       "<pre>topic 53: blues guitar great rock jeff eric classic blues, songs clapton robert beck country guy johnson</pre>"
      ],
      "text/plain": [
       "topic 53: blues guitar great rock jeff eric classic blues, songs clapton robert beck country guy johnson"
      ]
     },
     "metadata": {},
     "output_type": "display_data"
    },
    {
     "data": {
      "text/html": [
       "<pre>topic 54: sheryl crow it. montreal barnes crow's add kevin belongs song, sheryl's artists. todays great wonderful.</pre>"
      ],
      "text/plain": [
       "topic 54: sheryl crow it. montreal barnes crow's add kevin belongs song, sheryl's artists. todays great wonderful."
      ]
     },
     "metadata": {},
     "output_type": "display_data"
    },
    {
     "data": {
      "text/html": [
       "<pre>topic 55: tori songs cat amos tori's stevens piano beautiful walk strange cover choirgirl personal venus \"little</pre>"
      ],
      "text/plain": [
       "topic 55: tori songs cat amos tori's stevens piano beautiful walk strange cover choirgirl personal venus \"little"
      ]
     },
     "metadata": {},
     "output_type": "display_data"
    },
    {
     "data": {
      "text/html": [
       "<pre>topic 56: great it. sound play buy add song player. creative leave understand hope songwriter signature first,</pre>"
      ],
      "text/plain": [
       "topic 56: great it. sound play buy add song player. creative leave understand hope songwriter signature first,"
      ]
     },
     "metadata": {},
     "output_type": "display_data"
    },
    {
     "data": {
      "text/html": [
       "<pre>topic 57: bon jovi jon justin forever richie iver hate jersey high jovi's desmond difference vernon's vernon</pre>"
      ],
      "text/plain": [
       "topic 57: bon jovi jon justin forever richie iver hate jersey high jovi's desmond difference vernon's vernon"
      ]
     },
     "metadata": {},
     "output_type": "display_data"
    },
    {
     "data": {
      "text/html": [
       "<pre>topic 58: radiohead thom king yorke kid radiohead's yorke's computer this. radiohead, peace diverse limbs day. \"kid</pre>"
      ],
      "text/plain": [
       "topic 58: radiohead thom king yorke kid radiohead's yorke's computer this. radiohead, peace diverse limbs day. \"kid"
      ]
     },
     "metadata": {},
     "output_type": "display_data"
    },
    {
     "data": {
      "text/html": [
       "<pre>topic 59: jazz music playing great recording miles musicians work solo james recorded blue funk john played</pre>"
      ],
      "text/plain": [
       "topic 59: jazz music playing great recording miles musicians work solo james recorded blue funk john played"
      ]
     },
     "metadata": {},
     "output_type": "display_data"
    },
    {
     "data": {
      "text/html": [
       "<pre>topic 60: late good stuff. enough. right. great songs: masterpiece witty stay songs mike orb we've girls</pre>"
      ],
      "text/plain": [
       "topic 60: late good stuff. enough. right. great songs: masterpiece witty stay songs mike orb we've girls"
      ]
     },
     "metadata": {},
     "output_type": "display_data"
    },
    {
     "data": {
      "text/html": [
       "<pre>topic 61: hot billboard u.s. top 100 easy 40 # adult 200 charts mainstream pop reached minutes</pre>"
      ],
      "text/plain": [
       "topic 61: hot billboard u.s. top 100 easy 40 # adult 200 charts mainstream pop reached minutes"
      ]
     },
     "metadata": {},
     "output_type": "display_data"
    },
    {
     "data": {
      "text/html": [
       "<pre>topic 62: dan steely royal fagen dan's becker donald katy lose buy can't walter b-52's \"can't fogelberg</pre>"
      ],
      "text/plain": [
       "topic 62: dan steely royal fagen dan's becker donald katy lose buy can't walter b-52's \"can't fogelberg"
      ]
     },
     "metadata": {},
     "output_type": "display_data"
    },
    {
     "data": {
      "text/html": [
       "<pre>topic 63: bone mariah thugs carey mariah's 1999 krayzie eternal group bizzy art layzie harmony flesh ah</pre>"
      ],
      "text/plain": [
       "topic 63: bone mariah thugs carey mariah's 1999 krayzie eternal group bizzy art layzie harmony flesh ah"
      ]
     },
     "metadata": {},
     "output_type": "display_data"
    },
    {
     "data": {
      "text/html": [
       "<pre>topic 64: cd don't you're avoid album! thier we're recommend abilities 90s work schoolboy wonderful. better. favorite</pre>"
      ],
      "text/plain": [
       "topic 64: cd don't you're avoid album! thier we're recommend abilities 90s work schoolboy wonderful. better. favorite"
      ]
     },
     "metadata": {},
     "output_type": "display_data"
    },
    {
     "data": {
      "text/html": [
       "<pre>topic 65: eye sarah music on. favorites, back fan. 9 industry jonah wont guy till away! mistake</pre>"
      ],
      "text/plain": [
       "topic 65: eye sarah music on. favorites, back fan. 9 industry jonah wont guy till away! mistake"
      ]
     },
     "metadata": {},
     "output_type": "display_data"
    },
    {
     "data": {
      "text/html": [
       "<pre>topic 66: music funk parliament p-funk clinton mothership roof nice nose bootsy car loved clones funkadelic funk.</pre>"
      ],
      "text/plain": [
       "topic 66: music funk parliament p-funk clinton mothership roof nice nose bootsy car loved clones funkadelic funk."
      ]
     },
     "metadata": {},
     "output_type": "display_data"
    },
    {
     "data": {
      "text/html": [
       "<pre>topic 67: nick drake drake's leaves jamiroquai pink moon record. jay \"pink albums nick's jane glad duncan</pre>"
      ],
      "text/plain": [
       "topic 67: nick drake drake's leaves jamiroquai pink moon record. jay \"pink albums nick's jane glad duncan"
      ]
     },
     "metadata": {},
     "output_type": "display_data"
    },
    {
     "data": {
      "text/html": [
       "<pre>topic 68: michael album jackson music pop bad dance stop elvis jackson's songs can't costello michael's george</pre>"
      ],
      "text/plain": [
       "topic 68: michael album jackson music pop bad dance stop elvis jackson's songs can't costello michael's george"
      ]
     },
     "metadata": {},
     "output_type": "display_data"
    },
    {
     "data": {
      "text/html": [
       "<pre>topic 69: album rap 50 hip beats eminem good hop game he's lyrics real dont dre album.</pre>"
      ],
      "text/plain": [
       "topic 69: album rap 50 hip beats eminem good hop game he's lyrics real dont dre album."
      ]
     },
     "metadata": {},
     "output_type": "display_data"
    },
    {
     "data": {
      "text/html": [
       "<pre>topic 70: devo buy recommend whip devo's on. turn holds freedom download head once, album, group. career</pre>"
      ],
      "text/plain": [
       "topic 70: devo buy recommend whip devo's on. turn holds freedom download head once, album, group. career"
      ]
     },
     "metadata": {},
     "output_type": "display_data"
    },
    {
     "data": {
      "text/html": [
       "<pre>topic 71: album madonna alice great madonna's love it's album. title dance buffett good album, track jimmy</pre>"
      ],
      "text/plain": [
       "topic 71: album madonna alice great madonna's love it's album. title dance buffett good album, track jimmy"
      ]
     },
     "metadata": {},
     "output_type": "display_data"
    },
    {
     "data": {
      "text/html": [
       "<pre>topic 72: hill cypress liz great phair song 12 time! sen good dog muggs chill deserve ft.</pre>"
      ],
      "text/plain": [
       "topic 72: hill cypress liz great phair song 12 time! sen good dog muggs chill deserve ft."
      ]
     },
     "metadata": {},
     "output_type": "display_data"
    },
    {
     "data": {
      "text/html": [
       "<pre>topic 73: prince prince's sign funky time funk soundtrack movie album times purple o' morris cherry \"purple</pre>"
      ],
      "text/plain": [
       "topic 73: prince prince's sign funky time funk soundtrack movie album times purple o' morris cherry \"purple"
      ]
     },
     "metadata": {},
     "output_type": "display_data"
    },
    {
     "data": {
      "text/html": [
       "<pre>topic 74: dylan bob mars dylan's great belle blood sebastian boy volta joan stuart manson marilyn drink</pre>"
      ],
      "text/plain": [
       "topic 74: dylan bob mars dylan's great belle blood sebastian boy volta joan stuart manson marilyn drink"
      ]
     },
     "metadata": {},
     "output_type": "display_data"
    },
    {
     "data": {
      "text/html": [
       "<pre>topic 75: cool i've soft drop this, high project coming quiet too. cheap price. stronger english amazed</pre>"
      ],
      "text/plain": [
       "topic 75: cool i've soft drop this, high project coming quiet too. cheap price. stronger english amazed"
      ]
     },
     "metadata": {},
     "output_type": "display_data"
    },
    {
     "data": {
      "text/html": [
       "<pre>topic 76: all. stand classic have. singing. rhythms desert black find stays suggest pretty favorite hour minute</pre>"
      ],
      "text/plain": [
       "topic 76: all. stand classic have. singing. rhythms desert black find stays suggest pretty favorite hour minute"
      ]
     },
     "metadata": {},
     "output_type": "display_data"
    },
    {
     "data": {
      "text/html": [
       "<pre>topic 77: love kim up, classic pixies favorite. breeders awesome mind good. disc there. pleasure loves edge.</pre>"
      ],
      "text/plain": [
       "topic 77: love kim up, classic pixies favorite. breeders awesome mind good. disc there. pleasure loves edge."
      ]
     },
     "metadata": {},
     "output_type": "display_data"
    },
    {
     "data": {
      "text/html": [
       "<pre>topic 78: album great album. songs album, albums good tracks track highly favorite debut recommend music fan</pre>"
      ],
      "text/plain": [
       "topic 78: album great album. songs album, albums good tracks track highly favorite debut recommend music fan"
      ]
     },
     "metadata": {},
     "output_type": "display_data"
    },
    {
     "data": {
      "text/html": [
       "<pre>topic 79: mike perfect forget child magazine ranging listening. m. stick glass passionate right. dozen awesome. fun,</pre>"
      ],
      "text/plain": [
       "topic 79: mike perfect forget child magazine ranging listening. m. stick glass passionate right. dozen awesome. fun,"
      ]
     },
     "metadata": {},
     "output_type": "display_data"
    },
    {
     "data": {
      "text/html": [
       "<pre>topic 80: la de los rage album el tom en machine yo battle disco ratm angeles lobos</pre>"
      ],
      "text/plain": [
       "topic 80: la de los rage album el tom en machine yo battle disco ratm angeles lobos"
      ]
     },
     "metadata": {},
     "output_type": "display_data"
    },
    {
     "data": {
      "text/html": [
       "<pre>topic 81: great unique either. kids man knock sister do, voice album! hold mountain longer start recommend</pre>"
      ],
      "text/plain": [
       "topic 81: great unique either. kids man knock sister do, voice album! hold mountain longer start recommend"
      ]
     },
     "metadata": {},
     "output_type": "display_data"
    },
    {
     "data": {
      "text/html": [
       "<pre>topic 82: fun music! chapman kick sky happen live definition far. fans. works singing, top. delightful ahead</pre>"
      ],
      "text/plain": [
       "topic 82: fun music! chapman kick sky happen live definition far. fans. works singing, top. delightful ahead"
      ]
     },
     "metadata": {},
     "output_type": "display_data"
    },
    {
     "data": {
      "text/html": [
       "<pre>topic 83: songs hits greatest collection great cd disc good albums tracks set early compilation fan fans</pre>"
      ],
      "text/plain": [
       "topic 83: songs hits greatest collection great cd disc good albums tracks set early compilation fan fans"
      ]
     },
     "metadata": {},
     "output_type": "display_data"
    },
    {
     "data": {
      "text/html": [
       "<pre>topic 84: album wu beats wu-tang rza ghostface ghost method production album. tang arctic gza 36 monkeys</pre>"
      ],
      "text/plain": [
       "topic 84: album wu beats wu-tang rza ghostface ghost method production album. tang arctic gza 36 monkeys"
      ]
     },
     "metadata": {},
     "output_type": "display_data"
    },
    {
     "data": {
      "text/html": [
       "<pre>topic 85: album song songs hit \"the & elton released pop top john time albums title single</pre>"
      ],
      "text/plain": [
       "topic 85: album song songs hit \"the & elton released pop top john time albums title single"
      ]
     },
     "metadata": {},
     "output_type": "display_data"
    },
    {
     "data": {
      "text/html": [
       "<pre>topic 86: band rock album guitar sound bands hard great heavy band's metal sounds songs music it's</pre>"
      ],
      "text/plain": [
       "topic 86: band rock album guitar sound bands hard great heavy band's metal sounds songs music it's"
      ]
     },
     "metadata": {},
     "output_type": "display_data"
    },
    {
     "data": {
      "text/html": [
       "<pre>topic 87: jones music country norah jewel pop voice she's michelle spirit vanessa jewel's style dolly branch</pre>"
      ],
      "text/plain": [
       "topic 87: jones music country norah jewel pop voice she's michelle spirit vanessa jewel's style dolly branch"
      ]
     },
     "metadata": {},
     "output_type": "display_data"
    },
    {
     "data": {
      "text/html": [
       "<pre>topic 88: duran stevie great fleetwood annie mac eurythmics music. christine nicks lennox buckingham pop lindsey dreams</pre>"
      ],
      "text/plain": [
       "topic 88: duran stevie great fleetwood annie mac eurythmics music. christine nicks lennox buckingham pop lindsey dreams"
      ]
     },
     "metadata": {},
     "output_type": "display_data"
    },
    {
     "data": {
      "text/html": [
       "<pre>topic 89: pop, it! true one, album. last. artists dance song, back stuff tunes ever. off. beats</pre>"
      ],
      "text/plain": [
       "topic 89: pop, it! true one, album. last. artists dance song, back stuff tunes ever. off. beats"
      ]
     },
     "metadata": {},
     "output_type": "display_data"
    },
    {
     "data": {
      "text/html": [
       "<pre>topic 90: wrote stand open alot age quality. intelligent world spins roots. christian blend kids better. (great</pre>"
      ],
      "text/plain": [
       "topic 90: wrote stand open alot age quality. intelligent world spins roots. christian blend kids better. (great"
      ]
     },
     "metadata": {},
     "output_type": "display_data"
    },
    {
     "data": {
      "text/html": [
       "<pre>topic 91: bit lyrical original gonna melodies space 'love gotta 311 real suicide 1/4 big positive fall</pre>"
      ],
      "text/plain": [
       "topic 91: bit lyrical original gonna melodies space 'love gotta 311 real suicide 1/4 big positive fall"
      ]
     },
     "metadata": {},
     "output_type": "display_data"
    },
    {
     "data": {
      "text/html": [
       "<pre>topic 92: super totally effort. best. earth talent. highlight shows back hoping million label scale finish. more.</pre>"
      ],
      "text/plain": [
       "topic 92: super totally effort. best. earth talent. highlight shows back hoping million label scale finish. more."
      ]
     },
     "metadata": {},
     "output_type": "display_data"
    },
    {
     "data": {
      "text/html": [
       "<pre>topic 93: songs high sounds moves style album! imagine rise call releases mike run group's reason straight</pre>"
      ],
      "text/plain": [
       "topic 93: songs high sounds moves style album! imagine rise call releases mike run group's reason straight"
      ]
     },
     "metadata": {},
     "output_type": "display_data"
    },
    {
     "data": {
      "text/html": [
       "<pre>topic 94: incubus morning great view favorites brandon boyd alternative works \"morning view, impressive crow stuck mtv</pre>"
      ],
      "text/plain": [
       "topic 94: incubus morning great view favorites brandon boyd alternative works \"morning view, impressive crow stuck mtv"
      ]
     },
     "metadata": {},
     "output_type": "display_data"
    },
    {
     "data": {
      "text/html": [
       "<pre>topic 95: hot red chili peppers sex funky sugar funk blood john meat stadium double rhcp anthony</pre>"
      ],
      "text/plain": [
       "topic 95: hot red chili peppers sex funky sugar funk blood john meat stadium double rhcp anthony"
      ]
     },
     "metadata": {},
     "output_type": "display_data"
    },
    {
     "data": {
      "text/html": [
       "<pre>topic 96: cash johnny man country american cash's rick ain't prison waylon recordings song legend inch rubin</pre>"
      ],
      "text/plain": [
       "topic 96: cash johnny man country american cash's rick ain't prison waylon recordings song legend inch rubin"
      ]
     },
     "metadata": {},
     "output_type": "display_data"
    },
    {
     "data": {
      "text/html": [
       "<pre>topic 97: - version original live album tracks cd sound bonus disc release released great versions quality</pre>"
      ],
      "text/plain": [
       "topic 97: - version original live album tracks cd sound bonus disc release released great versions quality"
      ]
     },
     "metadata": {},
     "output_type": "display_data"
    },
    {
     "data": {
      "text/html": [
       "<pre>topic 98: best. it. this, enjoy greatest cross sister cool 12 hands bit meets sunshine, get, close</pre>"
      ],
      "text/plain": [
       "topic 98: best. it. this, enjoy greatest cross sister cool 12 hands bit meets sunshine, get, close"
      ]
     },
     "metadata": {},
     "output_type": "display_data"
    },
    {
     "data": {
      "text/html": [
       "<pre>topic 99: boys sounds beach brian pet wilson love beatles smashing pumpkins shop beastie corgan god sounds,</pre>"
      ],
      "text/plain": [
       "topic 99: boys sounds beach brian pet wilson love beatles smashing pumpkins shop beastie corgan god sounds,"
      ]
     },
     "metadata": {},
     "output_type": "display_data"
    },
    {
     "data": {
      "text/html": [
       "<pre>| 190       | 7m 16s        | 3.16713e+006   | 16344.7         |</pre>"
      ],
      "text/plain": [
       "| 190       | 7m 16s        | 3.16713e+006   | 16344.7         |"
      ]
     },
     "metadata": {},
     "output_type": "display_data"
    },
    {
     "data": {
      "text/html": [
       "<pre>topic 0: &amp; &quot;the album songs &quot;i hit title me&quot; pop you&quot; &quot;you love&quot; r&amp;b love classic</pre>"
      ],
      "text/plain": [
       "topic 0: &amp; &quot;the album songs &quot;i hit title me&quot; pop you&quot; &quot;you love&quot; r&amp;b love classic"
      ]
     },
     "metadata": {},
     "output_type": "display_data"
    },
    {
     "data": {
      "text/html": [
       "<pre>topic 1: excellent. songs cover great half --------- simply excellent spin slick -------- bands miss medium wayne</pre>"
      ],
      "text/plain": [
       "topic 1: excellent. songs cover great half --------- simply excellent spin slick -------- bands miss medium wayne"
      ]
     },
     "metadata": {},
     "output_type": "display_data"
    },
    {
     "data": {
      "text/html": [
       "<pre>topic 2: truely stuff adding glad squeeze neck great days. glass recent excited enter handed singing. spectacular</pre>"
      ],
      "text/plain": [
       "topic 2: truely stuff adding glad squeeze neck great days. glass recent excited enter handed singing. spectacular"
      ]
     },
     "metadata": {},
     "output_type": "display_data"
    },
    {
     "data": {
      "text/html": [
       "<pre>topic 3: i've nalick love talent works real talent, anna games blows columbia luck enough. song, one.</pre>"
      ],
      "text/plain": [
       "topic 3: i've nalick love talent works real talent, anna games blows columbia luck enough. song, one."
      ]
     },
     "metadata": {},
     "output_type": "display_data"
    },
    {
     "data": {
      "text/html": [
       "<pre>topic 4: it's album don't songs good i'm that's album, doesn't album. isn't people pretty sound lot</pre>"
      ],
      "text/plain": [
       "topic 4: it's album don't songs good i'm that's album, doesn't album. isn't people pretty sound lot"
      ]
     },
     "metadata": {},
     "output_type": "display_data"
    },
    {
     "data": {
      "text/html": [
       "<pre>topic 5: paul simon mccartney solo simon's carly beatles mccartney's & paul's garfunkel troubled wings run folk</pre>"
      ],
      "text/plain": [
       "topic 5: paul simon mccartney solo simon's carly beatles mccartney's & paul's garfunkel troubled wings run folk"
      ]
     },
     "metadata": {},
     "output_type": "display_data"
    },
    {
     "data": {
      "text/html": [
       "<pre>topic 6: lips flaming soft great pink wayne add battles many, lips, stuff lips' music. yoshimi they're</pre>"
      ],
      "text/plain": [
       "topic 6: lips flaming soft great pink wayne add battles many, lips, stuff lips' music. yoshimi they're"
      ]
     },
     "metadata": {},
     "output_type": "display_data"
    },
    {
     "data": {
      "text/html": [
       "<pre>topic 7: great cd hear listen. group. free lyrics, talent. im turn forever. business buy years. doubt,</pre>"
      ],
      "text/plain": [
       "topic 7: great cd hear listen. group. free lyrics, talent. im turn forever. business buy years. doubt,"
      ]
     },
     "metadata": {},
     "output_type": "display_data"
    },
    {
     "data": {
      "text/html": [
       "<pre>topic 8: songs. anyway, recommend miss purchase. thing compliment day there. prepare close vile amount emotions ms</pre>"
      ],
      "text/plain": [
       "topic 8: songs. anyway, recommend miss purchase. thing compliment day there. prepare close vile amount emotions ms"
      ]
     },
     "metadata": {},
     "output_type": "display_data"
    },
    {
     "data": {
      "text/html": [
       "<pre>topic 9: punk daft it. love put alot basement style. discovery short, expected nofx too, back. punk's</pre>"
      ],
      "text/plain": [
       "topic 9: punk daft it. love put alot basement style. discovery short, expected nofx too, back. punk's"
      ]
     },
     "metadata": {},
     "output_type": "display_data"
    },
    {
     "data": {
      "text/html": [
       "<pre>topic 10: it's play lyrics there. recycled describe check cover newest wrong buzz work, new. recognizable soundtrack</pre>"
      ],
      "text/plain": [
       "topic 10: it's play lyrics there. recycled describe check cover newest wrong buzz work, new. recognizable soundtrack"
      ]
     },
     "metadata": {},
     "output_type": "display_data"
    },
    {
     "data": {
      "text/html": [
       "<pre>topic 11: joni cars mitchell joni's mitchell's court ric friend's ocasek spark work. cars, ladies elliot strawbs</pre>"
      ],
      "text/plain": [
       "topic 11: joni cars mitchell joni's mitchell's court ric friend's ocasek spark work. cars, ladies elliot strawbs"
      ]
     },
     "metadata": {},
     "output_type": "display_data"
    },
    {
     "data": {
      "text/html": [
       "<pre>topic 12: burn out. tight check it. handful produced, superb bright top-notch flawless chilling soothing cool. tired</pre>"
      ],
      "text/plain": [
       "topic 12: burn out. tight check it. handful produced, superb bright top-notch flawless chilling soothing cool. tired"
      ]
     },
     "metadata": {},
     "output_type": "display_data"
    },
    {
     "data": {
      "text/html": [
       "<pre>topic 13: full can't rest nice 20 decent hold ab-soul par record. frequently though. up. express here;</pre>"
      ],
      "text/plain": [
       "topic 13: full can't rest nice 20 decent hold ab-soul par record. frequently though. up. express here;"
      ]
     },
     "metadata": {},
     "output_type": "display_data"
    },
    {
     "data": {
      "text/html": [
       "<pre>topic 14: music time back years love people it's life world make record day music. can't listen</pre>"
      ],
      "text/plain": [
       "topic 14: music time back years love people it's life world make record day music. can't listen"
      ]
     },
     "metadata": {},
     "output_type": "display_data"
    },
    {
     "data": {
      "text/html": [
       "<pre>topic 15: - album & track good beat song -- production great featuring tracks rap 2 nice</pre>"
      ],
      "text/plain": [
       "topic 15: - album & track good beat song -- production great featuring tracks rap 2 nice"
      ]
     },
     "metadata": {},
     "output_type": "display_data"
    },
    {
     "data": {
      "text/html": [
       "<pre>topic 16: bit free favorite worth album. hear. pieces together, mine alot ride look, fathers standout off,</pre>"
      ],
      "text/plain": [
       "topic 16: bit free favorite worth album. hear. pieces together, mine alot ride look, fathers standout off,"
      ]
     },
     "metadata": {},
     "output_type": "display_data"
    },
    {
     "data": {
      "text/html": [
       "<pre>topic 17: good album. left lyrics taylor player clean cd, story, great. market. science worth. hits pop,</pre>"
      ],
      "text/plain": [
       "topic 17: good album. left lyrics taylor player clean cd, story, great. market. science worth. hits pop,"
      ]
     },
     "metadata": {},
     "output_type": "display_data"
    },
    {
     "data": {
      "text/html": [
       "<pre>topic 18: give lost dance, fans. great. puts straight time witty opinion, belongs sisters useless strong. wait</pre>"
      ],
      "text/plain": [
       "topic 18: give lost dance, fans. great. puts straight time witty opinion, belongs sisters useless strong. wait"
      ]
     },
     "metadata": {},
     "output_type": "display_data"
    },
    {
     "data": {
      "text/html": [
       "<pre>topic 19: phil album eagles collins great songs solo don long genesis can't don't peter easy steve</pre>"
      ],
      "text/plain": [
       "topic 19: phil album eagles collins great songs solo don long genesis can't don't peter easy steve"
      ]
     },
     "metadata": {},
     "output_type": "display_data"
    },
    {
     "data": {
      "text/html": [
       "<pre>topic 20: true years. change bought buy listen fans long genuine surprises love, music. alot allot note</pre>"
      ],
      "text/plain": [
       "topic 20: true years. change bought buy listen fans long genuine surprises love, music. alot allot note"
      ]
     },
     "metadata": {},
     "output_type": "display_data"
    },
    {
     "data": {
      "text/html": [
       "<pre>topic 21: listen add things pick anyway. dog broadcast hear, bright b-52's album! gangnam his, sharp memorable</pre>"
      ],
      "text/plain": [
       "topic 21: listen add things pick anyway. dog broadcast hear, bright b-52's album! gangnam his, sharp memorable"
      ]
     },
     "metadata": {},
     "output_type": "display_data"
    },
    {
     "data": {
      "text/html": [
       "<pre>topic 22: 5 cd stars good 2 4 3 give star stars. gave 1 bad stars, rate</pre>"
      ],
      "text/plain": [
       "topic 22: 5 cd stars good 2 4 3 give star stars. gave 1 bad stars, rate"
      ]
     },
     "metadata": {},
     "output_type": "display_data"
    },
    {
     "data": {
      "text/html": [
       "<pre>topic 23: alison bluegrass sara cd krauss group plant listen voice tegan tweet no. union [see nickel</pre>"
      ],
      "text/plain": [
       "topic 23: alison bluegrass sara cd krauss group plant listen voice tegan tweet no. union [see nickel"
      ]
     },
     "metadata": {},
     "output_type": "display_data"
    },
    {
     "data": {
      "text/html": [
       "<pre>topic 24: it! it. old, yorn mike classics groups that's lie fresh works shake developed hell giving</pre>"
      ],
      "text/plain": [
       "topic 24: it! it. old, yorn mike classics groups that's lie fresh works shake developed hell giving"
      ]
     },
     "metadata": {},
     "output_type": "display_data"
    },
    {
     "data": {
      "text/html": [
       "<pre>topic 25: real brand way, night. delivers pass = years. attack (that solid me, ii. disco pure</pre>"
      ],
      "text/plain": [
       "topic 25: real brand way, night. delivers pass = years. attack (that solid me, ii. disco pure"
      ]
     },
     "metadata": {},
     "output_type": "display_data"
    },
    {
     "data": {
      "text/html": [
       "<pre>topic 26: white jack stripes love lady blood gaga meg cold album white's dead \"born duo boy</pre>"
      ],
      "text/plain": [
       "topic 26: white jack stripes love lady blood gaga meg cold album white's dead \"born duo boy"
      ]
     },
     "metadata": {},
     "output_type": "display_data"
    },
    {
     "data": {
      "text/html": [
       "<pre>topic 27: . , \" ( &quot; ) danger ! mouse : ... an' stuff gonna modest</pre>"
      ],
      "text/plain": [
       "topic 27: . , \" ( &quot; ) danger ! mouse : ... an' stuff gonna modest"
      ]
     },
     "metadata": {},
     "output_type": "display_data"
    },
    {
     "data": {
      "text/html": [
       "<pre>topic 28: listen music me. magic love, tight fear loved open listen. owned bottom carlisle lazy here!</pre>"
      ],
      "text/plain": [
       "topic 28: listen music me. magic love, tight fear loved open listen. owned bottom carlisle lazy here!"
      ]
     },
     "metadata": {},
     "output_type": "display_data"
    },
    {
     "data": {
      "text/html": [
       "<pre>topic 29: cd listen definite this! status expected. arguably odd save quick voice stuck suggest killer passed</pre>"
      ],
      "text/plain": [
       "topic 29: cd listen definite this! status expected. arguably odd save quick voice stuck suggest killer passed"
      ]
     },
     "metadata": {},
     "output_type": "display_data"
    },
    {
     "data": {
      "text/html": [
       "<pre>topic 30: ben folds primus les del lana born hasn't \"video rey games\" claypool brain seas it's</pre>"
      ],
      "text/plain": [
       "topic 30: ben folds primus les del lana born hasn't \"video rey games\" claypool brain seas it's"
      ]
     },
     "metadata": {},
     "output_type": "display_data"
    },
    {
     "data": {
      "text/html": [
       "<pre>topic 31: duffy it&#8217;s &#8211; chose duffy's sweet shines awful rockferry &#34;the .. sing around, on. (the</pre>"
      ],
      "text/plain": [
       "topic 31: duffy it&#8217;s &#8211; chose duffy's sweet shines awful rockferry &#34;the .. sing around, on. (the"
      ]
     },
     "metadata": {},
     "output_type": "display_data"
    },
    {
     "data": {
      "text/html": [
       "<pre>topic 32: bunch records stuff. either. favorites soul melt elegant stars. pleasure questionable dozen great, cool everyone.</pre>"
      ],
      "text/plain": [
       "topic 32: bunch records stuff. either. favorites soul melt elegant stars. pleasure questionable dozen great, cool everyone."
      ]
     },
     "metadata": {},
     "output_type": "display_data"
    },
    {
     "data": {
      "text/html": [
       "<pre>topic 33: glad fun bt songwriter maroon groovy mixing train brought indeed. grows collection. so. duets do.</pre>"
      ],
      "text/plain": [
       "topic 33: glad fun bt songwriter maroon groovy mixing train brought indeed. grows collection. so. duets do."
      ]
     },
     "metadata": {},
     "output_type": "display_data"
    },
    {
     "data": {
      "text/html": [
       "<pre>topic 34: love soul voice album music she's mary cd debut r&b; real & soulful feel artist</pre>"
      ],
      "text/plain": [
       "topic 34: love soul voice album music she's mary cd debut r&b; real & soulful feel artist"
      ]
     },
     "metadata": {},
     "output_type": "display_data"
    },
    {
     "data": {
      "text/html": [
       "<pre>topic 35: music. ? i've ten enjoy! can't pete gem. easy all-time right. it, tear falls good.</pre>"
      ],
      "text/plain": [
       "topic 35: music. ? i've ten enjoy! can't pete gem. easy all-time right. it, tear falls good."
      ]
     },
     "metadata": {},
     "output_type": "display_data"
    },
    {
     "data": {
      "text/html": [
       "<pre>topic 36: love make superb wild style chief expect strong figured simple songs jump brothers wow interesting</pre>"
      ],
      "text/plain": [
       "topic 36: love make superb wild style chief expect strong figured simple songs jump brothers wow interesting"
      ]
     },
     "metadata": {},
     "output_type": "display_data"
    },
    {
     "data": {
      "text/html": [
       "<pre>topic 37: mark cd dire knopfler straits knopfler's arms\" \"brothers emmylou nothing\" man's i'll cross walk lacks</pre>"
      ],
      "text/plain": [
       "topic 37: mark cd dire knopfler straits knopfler's arms\" \"brothers emmylou nothing\" man's i'll cross walk lacks"
      ]
     },
     "metadata": {},
     "output_type": "display_data"
    },
    {
     "data": {
      "text/html": [
       "<pre>topic 38: gordon music lightfoot nina classic. musical gordon's rest good veruca tonight lightfoot's recommend world. rock,</pre>"
      ],
      "text/plain": [
       "topic 38: gordon music lightfoot nina classic. musical gordon's rest good veruca tonight lightfoot's recommend world. rock,"
      ]
     },
     "metadata": {},
     "output_type": "display_data"
    },
    {
     "data": {
      "text/html": [
       "<pre>topic 39: album it's song music track sound vocals musical lyrics songs vocal pop guitar work -</pre>"
      ],
      "text/plain": [
       "topic 39: album it's song music track sound vocals musical lyrics songs vocal pop guitar work -"
      ]
     },
     "metadata": {},
     "output_type": "display_data"
    },
    {
     "data": {
      "text/html": [
       "<pre>topic 40: purchased made. gift cheap (number daughter kind tracks record records. pay recommend disc. radio belongs</pre>"
      ],
      "text/plain": [
       "topic 40: purchased made. gift cheap (number daughter kind tracks record records. pay recommend disc. radio belongs"
      ]
     },
     "metadata": {},
     "output_type": "display_data"
    },
    {
     "data": {
      "text/html": [
       "<pre>topic 41: cd songs music cd. song heard it. love listen buy great good bought cd, i'm</pre>"
      ],
      "text/plain": [
       "topic 41: cd songs music cd. song heard it. love listen buy great good bought cd, i'm"
      ]
     },
     "metadata": {},
     "output_type": "display_data"
    },
    {
     "data": {
      "text/html": [
       "<pre>topic 42: nelly furtado doubt gwen love loose nelly's trick god's kingdom furtado's ~ dug tragic spanish</pre>"
      ],
      "text/plain": [
       "topic 42: nelly furtado doubt gwen love loose nelly's trick god's kingdom furtado's ~ dug tragic spanish"
      ]
     },
     "metadata": {},
     "output_type": "display_data"
    },
    {
     "data": {
      "text/html": [
       "<pre>topic 43: album gang guru starr kool premier earth moment this. listen guru's monotone advice forward excellent.</pre>"
      ],
      "text/plain": [
       "topic 43: album gang guru starr kool premier earth moment this. listen guru's monotone advice forward excellent."
      ]
     },
     "metadata": {},
     "output_type": "display_data"
    },
    {
     "data": {
      "text/html": [
       "<pre>topic 44: cyndi lauper cyndi's lauper's bad \"true 80s \"girls bought kylie high threw around. producing move</pre>"
      ],
      "text/plain": [
       "topic 44: cyndi lauper cyndi's lauper's bad \"true 80s \"girls bought kylie high threw around. producing move"
      ]
     },
     "metadata": {},
     "output_type": "display_data"
    },
    {
     "data": {
      "text/html": [
       "<pre>topic 45: dido adele dido's angel adele's bond are: \"rolling music! land best! \"white \"life greater lover's</pre>"
      ],
      "text/plain": [
       "topic 45: dido adele dido's angel adele's bond are: \"rolling music! land best! \"white \"life greater lover's"
      ]
     },
     "metadata": {},
     "output_type": "display_data"
    },
    {
     "data": {
      "text/html": [
       "<pre>topic 46: big love outkast andre boi group hip-hop hey double day boi's kelis lives 3000 disc</pre>"
      ],
      "text/plain": [
       "topic 46: big love outkast andre boi group hip-hop hey double day boi's kelis lives 3000 disc"
      ]
     },
     "metadata": {},
     "output_type": "display_data"
    },
    {
     "data": {
      "text/html": [
       "<pre>topic 47: yeah karen richard carpenters carpenter karen's long yeahs songs yesterday real ever. wrong. all. fun</pre>"
      ],
      "text/plain": [
       "topic 47: yeah karen richard carpenters carpenter karen's long yeahs songs yesterday real ever. wrong. all. fun"
      ]
     },
     "metadata": {},
     "output_type": "display_data"
    },
    {
     "data": {
      "text/html": [
       "<pre>topic 48: fleet foxes words go. kills love happy album. mighty plain skills starts songs, debut \"helplessness</pre>"
      ],
      "text/plain": [
       "topic 48: fleet foxes words go. kills love happy album. mighty plain skills starts songs, debut \"helplessness"
      ]
     },
     "metadata": {},
     "output_type": "display_data"
    },
    {
     "data": {
      "text/html": [
       "<pre>topic 49: van alanis halen eddie album david great lee roth cover classic morissette halen's rock dave</pre>"
      ],
      "text/plain": [
       "topic 49: van alanis halen eddie album david great lee roth cover classic morissette halen's rock dave"
      ]
     },
     "metadata": {},
     "output_type": "display_data"
    },
    {
     "data": {
      "text/html": [
       "<pre>topic 50: album weezer cher great blue aimee album. mann green ain't cher's songs weezer's love mann's</pre>"
      ],
      "text/plain": [
       "topic 50: album weezer cher great blue aimee album. mann green ain't cher's songs weezer's love mann's"
      ]
     },
     "metadata": {},
     "output_type": "display_data"
    },
    {
     "data": {
      "text/html": [
       "<pre>topic 51: song it's great - good album love songs song. track song, album. lyrics nice favorite</pre>"
      ],
      "text/plain": [
       "topic 51: song it's great - good album love songs song. track song, album. lyrics nice favorite"
      ]
     },
     "metadata": {},
     "output_type": "display_data"
    },
    {
     "data": {
      "text/html": [
       "<pre>topic 52: thumbs call here's highlights: rest pulled matter: word: own, bad disappoint. fishbone run middle, solid</pre>"
      ],
      "text/plain": [
       "topic 52: thumbs call here's highlights: rest pulled matter: word: own, bad disappoint. fishbone run middle, solid"
      ]
     },
     "metadata": {},
     "output_type": "display_data"
    },
    {
     "data": {
      "text/html": [
       "<pre>topic 53: blues guitar rock great songs jeff classic playing eric blues, clapton beck robert john country</pre>"
      ],
      "text/plain": [
       "topic 53: blues guitar rock great songs jeff classic playing eric blues, clapton beck robert john country"
      ]
     },
     "metadata": {},
     "output_type": "display_data"
    },
    {
     "data": {
      "text/html": [
       "<pre>topic 54: sheryl crow montreal barnes kevin crow's add it. false c'mon sheryl's artists. masterpiece simply listenable</pre>"
      ],
      "text/plain": [
       "topic 54: sheryl crow montreal barnes kevin crow's add it. false c'mon sheryl's artists. masterpiece simply listenable"
      ]
     },
     "metadata": {},
     "output_type": "display_data"
    },
    {
     "data": {
      "text/html": [
       "<pre>topic 55: tori songs cat amos tori's stevens walk beautiful female piano strange choirgirl live venus albums</pre>"
      ],
      "text/plain": [
       "topic 55: tori songs cat amos tori's stevens walk beautiful female piano strange choirgirl live venus albums"
      ]
     },
     "metadata": {},
     "output_type": "display_data"
    },
    {
     "data": {
      "text/html": [
       "<pre>topic 56: great buy it. play sound flair people's produce martin brilliance label, press foot review heaven</pre>"
      ],
      "text/plain": [
       "topic 56: great buy it. play sound flair people's produce martin brilliance label, press foot review heaven"
      ]
     },
     "metadata": {},
     "output_type": "display_data"
    },
    {
     "data": {
      "text/html": [
       "<pre>topic 57: bon jovi great jon justin forever iver cuts album, day. living work hey jovi's recommend</pre>"
      ],
      "text/plain": [
       "topic 57: bon jovi great jon justin forever iver cuts album, day. living work hey jovi's recommend"
      ]
     },
     "metadata": {},
     "output_type": "display_data"
    },
    {
     "data": {
      "text/html": [
       "<pre>topic 58: radiohead king thom kid yorke radiohead's yorke's computer radiohead, limbs close \"kid eraser worst lot</pre>"
      ],
      "text/plain": [
       "topic 58: radiohead king thom kid yorke radiohead's yorke's computer radiohead, limbs close \"kid eraser worst lot"
      ]
     },
     "metadata": {},
     "output_type": "display_data"
    },
    {
     "data": {
      "text/html": [
       "<pre>topic 59: jazz music playing great recording miles musicians james blue work solo recorded play bass played</pre>"
      ],
      "text/plain": [
       "topic 59: jazz music playing great recording miles musicians james blue work solo recorded play bass played"
      ]
     },
     "metadata": {},
     "output_type": "display_data"
    },
    {
     "data": {
      "text/html": [
       "<pre>topic 60: good great disagree order falls stars have. definetely enjoyable production. while. go, talented true plain</pre>"
      ],
      "text/plain": [
       "topic 60: good great disagree order falls stars have. definetely enjoyable production. while. go, talented true plain"
      ]
     },
     "metadata": {},
     "output_type": "display_data"
    },
    {
     "data": {
      "text/html": [
       "<pre>topic 61: hot billboard u.s. 100 top / easy # 40 charts adult magazine 200 mainstream chart</pre>"
      ],
      "text/plain": [
       "topic 61: hot billboard u.s. 100 top / easy # 40 charts adult magazine 200 mainstream chart"
      ]
     },
     "metadata": {},
     "output_type": "display_data"
    },
    {
     "data": {
      "text/html": [
       "<pre>topic 62: dan steely royal fagen dan's buy donald becker katy walter lose fogelberg \"do david type</pre>"
      ],
      "text/plain": [
       "topic 62: dan steely royal fagen dan's buy donald becker katy walter lose fogelberg \"do david type"
      ]
     },
     "metadata": {},
     "output_type": "display_data"
    },
    {
     "data": {
      "text/html": [
       "<pre>topic 63: bone mariah group carey thugs mariah's fast album, krayzie 1999 harmony eternal bizzy layzie flesh</pre>"
      ],
      "text/plain": [
       "topic 63: bone mariah group carey thugs mariah's fast album, krayzie 1999 harmony eternal bizzy layzie flesh"
      ]
     },
     "metadata": {},
     "output_type": "display_data"
    },
    {
     "data": {
      "text/html": [
       "<pre>topic 64: work thier better. album! rob avoid (and recommend have. well. piano pun collection. cats wonderful</pre>"
      ],
      "text/plain": [
       "topic 64: work thier better. album! rob avoid (and recommend have. well. piano pun collection. cats wonderful"
      ]
     },
     "metadata": {},
     "output_type": "display_data"
    },
    {
     "data": {
      "text/html": [
       "<pre>topic 65: excellent guy stuff. listen understand fresh, record match good used, stores rest world read emotion</pre>"
      ],
      "text/plain": [
       "topic 65: excellent guy stuff. listen understand fresh, record match good used, stores rest world read emotion"
      ]
     },
     "metadata": {},
     "output_type": "display_data"
    },
    {
     "data": {
      "text/html": [
       "<pre>topic 66: funk parliament p-funk clinton mothership roof music bootsy chocolate up, stated :) clones damn jody</pre>"
      ],
      "text/plain": [
       "topic 66: funk parliament p-funk clinton mothership roof music bootsy chocolate up, stated :) clones damn jody"
      ]
     },
     "metadata": {},
     "output_type": "display_data"
    },
    {
     "data": {
      "text/html": [
       "<pre>topic 67: nick drake drake's pink leaves jamiroquai moon \"pink jay nick's hit others, duncan \"five bryter</pre>"
      ],
      "text/plain": [
       "topic 67: nick drake drake's pink leaves jamiroquai moon \"pink jay nick's hit others, duncan \"five bryter"
      ]
     },
     "metadata": {},
     "output_type": "display_data"
    },
    {
     "data": {
      "text/html": [
       "<pre>topic 68: album michael jackson music pop can't bad dance jackson's stop elvis songs costello made michael's</pre>"
      ],
      "text/plain": [
       "topic 68: album michael jackson music pop can't bad dance jackson's stop elvis songs costello made michael's"
      ]
     },
     "metadata": {},
     "output_type": "display_data"
    },
    {
     "data": {
      "text/html": [
       "<pre>topic 69: album rap 50 beats hip eminem good hop game he's real dre lyrics tracks dont</pre>"
      ],
      "text/plain": [
       "topic 69: album rap 50 beats hip eminem good hop game he's real dre lyrics tracks dont"
      ]
     },
     "metadata": {},
     "output_type": "display_data"
    },
    {
     "data": {
      "text/html": [
       "<pre>topic 70: devo freedom buy devo's wrong it, depth singles, earth pick inclined ace shaking beats, simply</pre>"
      ],
      "text/plain": [
       "topic 70: devo freedom buy devo's wrong it, depth singles, earth pick inclined ace shaking beats, simply"
      ]
     },
     "metadata": {},
     "output_type": "display_data"
    },
    {
     "data": {
      "text/html": [
       "<pre>topic 71: album madonna alice madonna's dance good buffett title album. song songs love pop cooper great</pre>"
      ],
      "text/plain": [
       "topic 71: album madonna alice madonna's dance good buffett title album. song songs love pop cooper great"
      ]
     },
     "metadata": {},
     "output_type": "display_data"
    },
    {
     "data": {
      "text/html": [
       "<pre>topic 72: cypress hill liz great phair love hill. record top chill incredibly classics. sen muggs give</pre>"
      ],
      "text/plain": [
       "topic 72: cypress hill liz great phair love hill. record top chill incredibly classics. sen muggs give"
      ]
     },
     "metadata": {},
     "output_type": "display_data"
    },
    {
     "data": {
      "text/html": [
       "<pre>topic 73: prince prince's funk sign album soundtrack times time movie purple funky o' \"purple funk, prince,</pre>"
      ],
      "text/plain": [
       "topic 73: prince prince's funk sign album soundtrack times time movie purple funky o' \"purple funk, prince,"
      ]
     },
     "metadata": {},
     "output_type": "display_data"
    },
    {
     "data": {
      "text/html": [
       "<pre>topic 74: dylan bob mars dylan's belle great sebastian joan volta blood boy manson stuart marilyn drink</pre>"
      ],
      "text/plain": [
       "topic 74: dylan bob mars dylan's belle great sebastian joan volta blood boy manson stuart marilyn drink"
      ]
     },
     "metadata": {},
     "output_type": "display_data"
    },
    {
     "data": {
      "text/html": [
       "<pre>topic 75: make hey, followup poor promising classic, knew satire this. ear though. enjoy! originality. storytelling feel,</pre>"
      ],
      "text/plain": [
       "topic 75: make hey, followup poor promising classic, knew satire this. ear though. enjoy! originality. storytelling feel,"
      ]
     },
     "metadata": {},
     "output_type": "display_data"
    },
    {
     "data": {
      "text/html": [
       "<pre>topic 76: (with times call great, it. yet, vivid tight ruled throughout. enjoying great ever. arguably be.</pre>"
      ],
      "text/plain": [
       "topic 76: (with times call great, it. yet, vivid tight ruled throughout. enjoying great ever. arguably be."
      ]
     },
     "metadata": {},
     "output_type": "display_data"
    },
    {
     "data": {
      "text/html": [
       "<pre>topic 77: love perfect similar 10/10: kim splash enjoyed drive album! good. attack cuts it! half sadly</pre>"
      ],
      "text/plain": [
       "topic 77: love perfect similar 10/10: kim splash enjoyed drive album! good. attack cuts it! half sadly"
      ]
     },
     "metadata": {},
     "output_type": "display_data"
    },
    {
     "data": {
      "text/html": [
       "<pre>topic 78: album album. songs great album, good albums tracks highly favorite track recommend debut fan worth</pre>"
      ],
      "text/plain": [
       "topic 78: album album. songs great album, good albums tracks highly favorite track recommend debut fan worth"
      ]
     },
     "metadata": {},
     "output_type": "display_data"
    },
    {
     "data": {
      "text/html": [
       "<pre>topic 79: earth listening. lyrics, pop talent eye songs: acid pleasing listening anthem golden like: ever. music</pre>"
      ],
      "text/plain": [
       "topic 79: earth listening. lyrics, pop talent eye songs: acid pleasing listening anthem golden like: ever. music"
      ]
     },
     "metadata": {},
     "output_type": "display_data"
    },
    {
     "data": {
      "text/html": [
       "<pre>topic 80: la de los album rage el en yo tom machine battle ratm lobos del angeles</pre>"
      ],
      "text/plain": [
       "topic 80: la de los album rage el en yo tom machine battle ratm lobos del angeles"
      ]
     },
     "metadata": {},
     "output_type": "display_data"
    },
    {
     "data": {
      "text/html": [
       "<pre>topic 81: great blunt hit generation it. call listening don't modern pleasure skip fact, music. lacking pity</pre>"
      ],
      "text/plain": [
       "topic 81: great blunt hit generation it. call listening don't modern pleasure skip fact, music. lacking pity"
      ]
     },
     "metadata": {},
     "output_type": "display_data"
    },
    {
     "data": {
      "text/html": [
       "<pre>topic 82: fun one! can't totally starting artistic lyrically house exceptional time! alright. deal. put hype. musician,</pre>"
      ],
      "text/plain": [
       "topic 82: fun one! can't totally starting artistic lyrically house exceptional time! alright. deal. put hype. musician,"
      ]
     },
     "metadata": {},
     "output_type": "display_data"
    },
    {
     "data": {
      "text/html": [
       "<pre>topic 83: songs hits greatest collection great cd disc tracks good albums fan set compilation music hendrix</pre>"
      ],
      "text/plain": [
       "topic 83: songs hits greatest collection great cd disc tracks good albums fan set compilation music hendrix"
      ]
     },
     "metadata": {},
     "output_type": "display_data"
    },
    {
     "data": {
      "text/html": [
       "<pre>topic 84: album wu beats wu-tang rza ghostface production ghost method buy lyrics arctic tang forever gza</pre>"
      ],
      "text/plain": [
       "topic 84: album wu beats wu-tang rza ghostface production ghost method buy lyrics arctic tang forever gza"
      ]
     },
     "metadata": {},
     "output_type": "display_data"
    },
    {
     "data": {
      "text/html": [
       "<pre>topic 85: album song songs hit & \"the elton released albums top john pop single time \"i</pre>"
      ],
      "text/plain": [
       "topic 85: album song songs hit & \"the elton released albums top john pop single time \"i"
      ]
     },
     "metadata": {},
     "output_type": "display_data"
    },
    {
     "data": {
      "text/html": [
       "<pre>topic 86: band rock album guitar sound bands great hard it's music heavy metal albums band's sounds</pre>"
      ],
      "text/plain": [
       "topic 86: band rock album guitar sound bands great hard it's music heavy metal albums band's sounds"
      ]
     },
     "metadata": {},
     "output_type": "display_data"
    },
    {
     "data": {
      "text/html": [
       "<pre>topic 87: music voice jones norah pop jewel country she's michelle style talent spirit vanessa artist jewel's</pre>"
      ],
      "text/plain": [
       "topic 87: music voice jones norah pop jewel country she's michelle style talent spirit vanessa artist jewel's"
      ]
     },
     "metadata": {},
     "output_type": "display_data"
    },
    {
     "data": {
      "text/html": [
       "<pre>topic 88: duran stevie fleetwood annie mac eurythmics christine nicks dreams lennox best. great buckingham lindsey enjoy</pre>"
      ],
      "text/plain": [
       "topic 88: duran stevie fleetwood annie mac eurythmics christine nicks dreams lennox best. great buckingham lindsey enjoy"
      ]
     },
     "metadata": {},
     "output_type": "display_data"
    },
    {
     "data": {
      "text/html": [
       "<pre>topic 89: awesome albums days times night side future pop wanted regret excellent puts entire good brothers</pre>"
      ],
      "text/plain": [
       "topic 89: awesome albums days times night side future pop wanted regret excellent puts entire good brothers"
      ]
     },
     "metadata": {},
     "output_type": "display_data"
    },
    {
     "data": {
      "text/html": [
       "<pre>topic 90: fav better. explore avoid what's recommend check about. miss puts world. avoided mood. wanna hands</pre>"
      ],
      "text/plain": [
       "topic 90: fav better. explore avoid what's recommend check about. miss puts world. avoided mood. wanna hands"
      ]
     },
     "metadata": {},
     "output_type": "display_data"
    },
    {
     "data": {
      "text/html": [
       "<pre>topic 91: worth brilliant talent. records (especially remember stock beautiful, rock, make supply to. own. showed line</pre>"
      ],
      "text/plain": [
       "topic 91: worth brilliant talent. records (especially remember stock beautiful, rock, make supply to. own. showed line"
      ]
     },
     "metadata": {},
     "output_type": "display_data"
    },
    {
     "data": {
      "text/html": [
       "<pre>topic 92: it! ever. grab long favourite definite great was, terrific super days ago. anytime imo, best.</pre>"
      ],
      "text/plain": [
       "topic 92: it! ever. grab long favourite definite great was, terrific super days ago. anytime imo, best."
      ]
     },
     "metadata": {},
     "output_type": "display_data"
    },
    {
     "data": {
      "text/html": [
       "<pre>topic 93: up. songs bring you. enjoy there, love power. album. wrong reviews. close. back comeback put,</pre>"
      ],
      "text/plain": [
       "topic 93: up. songs bring you. enjoy there, love power. album. wrong reviews. close. back comeback put,"
      ]
     },
     "metadata": {},
     "output_type": "display_data"
    },
    {
     "data": {
      "text/html": [
       "<pre>topic 94: morning incubus view great excellent stuff. brandon major boyd \"morning awesome. view, view. carole crow</pre>"
      ],
      "text/plain": [
       "topic 94: morning incubus view great excellent stuff. brandon major boyd \"morning awesome. view, view. carole crow"
      ]
     },
     "metadata": {},
     "output_type": "display_data"
    },
    {
     "data": {
      "text/html": [
       "<pre>topic 95: hot red chili peppers sex funky sugar john blood funk meat stadium \"by hell rhcp</pre>"
      ],
      "text/plain": [
       "topic 95: hot red chili peppers sex funky sugar john blood funk meat stadium \"by hell rhcp"
      ]
     },
     "metadata": {},
     "output_type": "display_data"
    },
    {
     "data": {
      "text/html": [
       "<pre>topic 96: cash johnny man country american cash's rick prison recordings ain't waylon rubin meet cash, best.</pre>"
      ],
      "text/plain": [
       "topic 96: cash johnny man country american cash's rick prison recordings ain't waylon rubin meet cash, best."
      ]
     },
     "metadata": {},
     "output_type": "display_data"
    },
    {
     "data": {
      "text/html": [
       "<pre>topic 97: - version original album live tracks cd sound bonus disc release quality great versions released</pre>"
      ],
      "text/plain": [
       "topic 97: - version original album live tracks cd sound bonus disc release quality great versions released"
      ]
     },
     "metadata": {},
     "output_type": "display_data"
    },
    {
     "data": {
      "text/html": [
       "<pre>topic 98: it. this, variety record collection. talent, songs: sad, hit stick romance ride push sad mixture</pre>"
      ],
      "text/plain": [
       "topic 98: it. this, variety record collection. talent, songs: sad, hit stick romance ride push sad mixture"
      ]
     },
     "metadata": {},
     "output_type": "display_data"
    },
    {
     "data": {
      "text/html": [
       "<pre>topic 99: sounds boys beach brian pet wilson beatles shop smashing pumpkins beastie corgan sounds, wilson's sounds.</pre>"
      ],
      "text/plain": [
       "topic 99: sounds boys beach brian pet wilson beatles shop smashing pumpkins beastie corgan sounds, wilson's sounds."
      ]
     },
     "metadata": {},
     "output_type": "display_data"
    },
    {
     "data": {
      "text/html": [
       "<pre>| 200       | 7m 36s        | 3.15208e+006   | 16330.8         |</pre>"
      ],
      "text/plain": [
       "| 200       | 7m 36s        | 3.15208e+006   | 16330.8         |"
      ]
     },
     "metadata": {},
     "output_type": "display_data"
    },
    {
     "data": {
      "text/html": [
       "<pre>topic 0: &amp; &quot;the songs &quot;i album me&quot; title pop love you&quot; &quot;you love&quot; hit tracks classic</pre>"
      ],
      "text/plain": [
       "topic 0: &amp; &quot;the songs &quot;i album me&quot; title pop love you&quot; &quot;you love&quot; hit tracks classic"
      ]
     },
     "metadata": {},
     "output_type": "display_data"
    },
    {
     "data": {
      "text/html": [
       "<pre>topic 1: great gift lovers lives collection. trees can't tedious album! earth, nonetheless once, back. remixes baby</pre>"
      ],
      "text/plain": [
       "topic 1: great gift lovers lives collection. trees can't tedious album! earth, nonetheless once, back. remixes baby"
      ]
     },
     "metadata": {},
     "output_type": "display_data"
    },
    {
     "data": {
      "text/html": [
       "<pre>topic 2: glass leave free classic 25 boz home ad done. lyrical till goofy mew up. finally</pre>"
      ],
      "text/plain": [
       "topic 2: glass leave free classic 25 boz home ad done. lyrical till goofy mew up. finally"
      ]
     },
     "metadata": {},
     "output_type": "display_data"
    },
    {
     "data": {
      "text/html": [
       "<pre>topic 3: listening nalick anna form man, fourth style ears rufus you've nalick's fake thing absolute days</pre>"
      ],
      "text/plain": [
       "topic 3: listening nalick anna form man, fourth style ears rufus you've nalick's fake thing absolute days"
      ]
     },
     "metadata": {},
     "output_type": "display_data"
    },
    {
     "data": {
      "text/html": [
       "<pre>topic 4: it's album songs don't good i'm that's doesn't album, isn't album. people lot pretty make</pre>"
      ],
      "text/plain": [
       "topic 4: it's album songs don't good i'm that's doesn't album, isn't album. people lot pretty make"
      ]
     },
     "metadata": {},
     "output_type": "display_data"
    },
    {
     "data": {
      "text/html": [
       "<pre>topic 5: paul simon mccartney solo carly simon's & beatles mccartney's paul's garfunkel art troubled run wings</pre>"
      ],
      "text/plain": [
       "topic 5: paul simon mccartney solo carly simon's & beatles mccartney's paul's garfunkel art troubled run wings"
      ]
     },
     "metadata": {},
     "output_type": "display_data"
    },
    {
     "data": {
      "text/html": [
       "<pre>topic 6: lips flaming soft great pink taste wayne battles lips, now, yoshimi meets cd add lips'</pre>"
      ],
      "text/plain": [
       "topic 6: lips flaming soft great pink taste wayne battles lips, now, yoshimi meets cd add lips'"
      ]
     },
     "metadata": {},
     "output_type": "display_data"
    },
    {
     "data": {
      "text/html": [
       "<pre>topic 7: cd great give ... forward loves one. understand everything, guys hearing stars. crowd. can. stress</pre>"
      ],
      "text/plain": [
       "topic 7: cd great give ... forward loves one. understand everything, guys hearing stars. crowd. can. stress"
      ]
     },
     "metadata": {},
     "output_type": "display_data"
    },
    {
     "data": {
      "text/html": [
       "<pre>topic 8: around. out. tracks listened cd weird years songs. occasionally still, amazing. reckoned melodic releases out!</pre>"
      ],
      "text/plain": [
       "topic 8: around. out. tracks listened cd weird years songs. occasionally still, amazing. reckoned melodic releases out!"
      ]
     },
     "metadata": {},
     "output_type": "display_data"
    },
    {
     "data": {
      "text/html": [
       "<pre>topic 9: punk daft it. can't rest punk's blend love said. hope vocalists music! christmas find discovery</pre>"
      ],
      "text/plain": [
       "topic 9: punk daft it. can't rest punk's blend love said. hope vocalists music! christmas find discovery"
      ]
     },
     "metadata": {},
     "output_type": "display_data"
    },
    {
     "data": {
      "text/html": [
       "<pre>topic 10: same. rest you. blunt earned girl play months perfect. 23 choice. couldn't restless songs: dead</pre>"
      ],
      "text/plain": [
       "topic 10: same. rest you. blunt earned girl play months perfect. 23 choice. couldn't restless songs: dead"
      ]
     },
     "metadata": {},
     "output_type": "display_data"
    },
    {
     "data": {
      "text/html": [
       "<pre>topic 11: joni cars mitchell joni's mitchell's court ric ocasek true friend's summer strawbs folk cars, cars'</pre>"
      ],
      "text/plain": [
       "topic 11: joni cars mitchell joni's mitchell's court ric ocasek true friend's summer strawbs folk cars, cars'"
      ]
     },
     "metadata": {},
     "output_type": "display_data"
    },
    {
     "data": {
      "text/html": [
       "<pre>topic 12: it. song im lot nice question lp return quit name, quality belong song, by, gem</pre>"
      ],
      "text/plain": [
       "topic 12: it. song im lot nice question lp return quit name, quality belong song, by, gem"
      ]
     },
     "metadata": {},
     "output_type": "display_data"
    },
    {
     "data": {
      "text/html": [
       "<pre>topic 13: fire fun duo song record. call i'll pull stay truely far. foot now! sunset raw</pre>"
      ],
      "text/plain": [
       "topic 13: fire fun duo song record. call i'll pull stay truely far. foot now! sunset raw"
      ]
     },
     "metadata": {},
     "output_type": "display_data"
    },
    {
     "data": {
      "text/html": [
       "<pre>topic 14: music time back love life it's years people world make song record man listen made</pre>"
      ],
      "text/plain": [
       "topic 14: music time back love life it's years people world make song record man listen made"
      ]
     },
     "metadata": {},
     "output_type": "display_data"
    },
    {
     "data": {
      "text/html": [
       "<pre>topic 15: - album & track good beat song -- production featuring great 2 rap nice tracks</pre>"
      ],
      "text/plain": [
       "topic 15: - album & track good beat song -- production featuring great 2 rap nice tracks"
      ]
     },
     "metadata": {},
     "output_type": "display_data"
    },
    {
     "data": {
      "text/html": [
       "<pre>topic 16: album. mine worth best. listen. great hearing bt's bothered overall, ride follow new, reduced forgotten</pre>"
      ],
      "text/plain": [
       "topic 16: album. mine worth best. listen. great hearing bt's bothered overall, ride follow new, reduced forgotten"
      ]
     },
     "metadata": {},
     "output_type": "display_data"
    },
    {
     "data": {
      "text/html": [
       "<pre>topic 17: lyrics part fantastic. wrong full reach album christian 10/10: efforts smooth making it. buy sing</pre>"
      ],
      "text/plain": [
       "topic 17: lyrics part fantastic. wrong full reach album christian 10/10: efforts smooth making it. buy sing"
      ]
     },
     "metadata": {},
     "output_type": "display_data"
    },
    {
     "data": {
      "text/html": [
       "<pre>topic 18: glad too. 12 piece kind group. one, levels download true off, train antics personality 20</pre>"
      ],
      "text/plain": [
       "topic 18: glad too. 12 piece kind group. one, levels download true off, train antics personality 20"
      ]
     },
     "metadata": {},
     "output_type": "display_data"
    },
    {
     "data": {
      "text/html": [
       "<pre>topic 19: album phil great eagles collins songs don long solo can't genesis don't day air christmas</pre>"
      ],
      "text/plain": [
       "topic 19: album phil great eagles collins songs don long solo can't genesis don't day air christmas"
      ]
     },
     "metadata": {},
     "output_type": "display_data"
    },
    {
     "data": {
      "text/html": [
       "<pre>topic 20: years. me. bands fans funny up! kids changing eyes adam drag shorter tunes love best.</pre>"
      ],
      "text/plain": [
       "topic 20: years. me. bands fans funny up! kids changing eyes adam drag shorter tunes love best."
      ]
     },
     "metadata": {},
     "output_type": "display_data"
    },
    {
     "data": {
      "text/html": [
       "<pre>topic 21: one. albums 1 day. expecting forever. cd wanted due word soft, album! ... downloaded misses</pre>"
      ],
      "text/plain": [
       "topic 21: one. albums 1 day. expecting forever. cd wanted due word soft, album! ... downloaded misses"
      ]
     },
     "metadata": {},
     "output_type": "display_data"
    },
    {
     "data": {
      "text/html": [
       "<pre>topic 22: cd 5 good stars 4 3 give 2 star stars. rate buy 1 worth gave</pre>"
      ],
      "text/plain": [
       "topic 22: cd 5 good stars 4 3 give 2 star stars. rate buy 1 worth gave"
      ]
     },
     "metadata": {},
     "output_type": "display_data"
    },
    {
     "data": {
      "text/html": [
       "<pre>topic 23: alison sara bluegrass krauss plant group no. voice traditional union [see nickel chris tegan country</pre>"
      ],
      "text/plain": [
       "topic 23: alison sara bluegrass krauss plant group no. voice traditional union [see nickel chris tegan country"
      ]
     },
     "metadata": {},
     "output_type": "display_data"
    },
    {
     "data": {
      "text/html": [
       "<pre>topic 24: close limit hit records riding it! im cd, give dig move enjoyable. ab-soul gorgeous voice.</pre>"
      ],
      "text/plain": [
       "topic 24: close limit hit records riding it! im cd, give dig move enjoyable. ab-soul gorgeous voice."
      ]
     },
     "metadata": {},
     "output_type": "display_data"
    },
    {
     "data": {
      "text/html": [
       "<pre>topic 25: listen perfect meet burst song immortal bit effort. // releases. forward alike. enjoy did. me,</pre>"
      ],
      "text/plain": [
       "topic 25: listen perfect meet burst song immortal bit effort. // releases. forward alike. enjoy did. me,"
      ]
     },
     "metadata": {},
     "output_type": "display_data"
    },
    {
     "data": {
      "text/html": [
       "<pre>topic 26: white jack love stripes lady blood gaga cold meg white's nation boy \"white lonely gonna</pre>"
      ],
      "text/plain": [
       "topic 26: white jack love stripes lady blood gaga cold meg white's nation boy \"white lonely gonna"
      ]
     },
     "metadata": {},
     "output_type": "display_data"
    },
    {
     "data": {
      "text/html": [
       "<pre>topic 27: . , \" ( &quot; ! ) danger mouse an' : ... ? gnarls cee-lo</pre>"
      ],
      "text/plain": [
       "topic 27: . , \" ( &quot; ! ) danger mouse an' : ... ? gnarls cee-lo"
      ]
     },
     "metadata": {},
     "output_type": "display_data"
    },
    {
     "data": {
      "text/html": [
       "<pre>topic 28: listen music out. turn days depth. though, crisp studio. pit beer & debut :: (with</pre>"
      ],
      "text/plain": [
       "topic 28: listen music out. turn days depth. though, crisp studio. pit beer & debut :: (with"
      ]
     },
     "metadata": {},
     "output_type": "display_data"
    },
    {
     "data": {
      "text/html": [
       "<pre>topic 29: listen beginning definite summer again. musically sublime work thing. feat you're masterpiece. is. sounding i'm</pre>"
      ],
      "text/plain": [
       "topic 29: listen beginning definite summer again. musically sublime work thing. feat you're masterpiece. is. sounding i'm"
      ]
     },
     "metadata": {},
     "output_type": "display_data"
    },
    {
     "data": {
      "text/html": [
       "<pre>topic 30: ben folds del les primus lana \"born \"video rey sound it's die\" games\" average stuff</pre>"
      ],
      "text/plain": [
       "topic 30: ben folds del les primus lana \"born \"video rey sound it's die\" games\" average stuff"
      ]
     },
     "metadata": {},
     "output_type": "display_data"
    },
    {
     "data": {
      "text/html": [
       "<pre>topic 31: duffy &#8211; it&#8217;s style. tunes duffy's you'll rockferry add again. best. acts \"mercy\" brilliant wyatt</pre>"
      ],
      "text/plain": [
       "topic 31: duffy &#8211; it&#8217;s style. tunes duffy's you'll rockferry add again. best. acts \"mercy\" brilliant wyatt"
      ]
     },
     "metadata": {},
     "output_type": "display_data"
    },
    {
     "data": {
      "text/html": [
       "<pre>topic 32: effort. pure side chain moment awesome unique lighter world met involved attitude definetly (to lives</pre>"
      ],
      "text/plain": [
       "topic 32: effort. pure side chain moment awesome unique lighter world met involved attitude definetly (to lives"
      ]
     },
     "metadata": {},
     "output_type": "display_data"
    },
    {
     "data": {
      "text/html": [
       "<pre>topic 33: record original. release. say, say? book fresh most. blend witty standouts touch catches songs: curious</pre>"
      ],
      "text/plain": [
       "topic 33: record original. release. say, say? book fresh most. blend witty standouts touch catches songs: curious"
      ]
     },
     "metadata": {},
     "output_type": "display_data"
    },
    {
     "data": {
      "text/html": [
       "<pre>topic 34: love album soul voice she's music debut & mary r&b; track cd soulful artists artist</pre>"
      ],
      "text/plain": [
       "topic 34: love album soul voice she's music debut & mary r&b; track cd soulful artists artist"
      ]
     },
     "metadata": {},
     "output_type": "display_data"
    },
    {
     "data": {
      "text/html": [
       "<pre>topic 35: music. total long band sound. friends (even delivered question good. category wear ability terrific regina</pre>"
      ],
      "text/plain": [
       "topic 35: music. total long band sound. friends (even delivered question good. category wear ability terrific regina"
      ]
     },
     "metadata": {},
     "output_type": "display_data"
    },
    {
     "data": {
      "text/html": [
       "<pre>topic 36: leave chief couldn't voice ten music keef perfect. strong super make worst feist head event</pre>"
      ],
      "text/plain": [
       "topic 36: leave chief couldn't voice ten music keef perfect. strong super make worst feist head event"
      ]
     },
     "metadata": {},
     "output_type": "display_data"
    },
    {
     "data": {
      "text/html": [
       "<pre>topic 37: mark dire knopfler straits knopfler's cd man's arms\" perfectly stop have. \"brothers nothing\" first, cut</pre>"
      ],
      "text/plain": [
       "topic 37: mark dire knopfler straits knopfler's cd man's arms\" perfectly stop have. \"brothers nothing\" first, cut"
      ]
     },
     "metadata": {},
     "output_type": "display_data"
    },
    {
     "data": {
      "text/html": [
       "<pre>topic 38: music gordon nina lightfoot classic. rest good gordon's delivered lightfoot's tonight figure veruca shelf enjoy.</pre>"
      ],
      "text/plain": [
       "topic 38: music gordon nina lightfoot classic. rest good gordon's delivered lightfoot's tonight figure veruca shelf enjoy."
      ]
     },
     "metadata": {},
     "output_type": "display_data"
    },
    {
     "data": {
      "text/html": [
       "<pre>topic 39: album it's music sound track lyrics song musical songs pop vocal guitar vocals sounds -</pre>"
      ],
      "text/plain": [
       "topic 39: album it's music sound track lyrics song musical songs pop vocal guitar vocals sounds -"
      ]
     },
     "metadata": {},
     "output_type": "display_data"
    },
    {
     "data": {
      "text/html": [
       "<pre>topic 40: strong tracks sing soundtrack 30 sell eyes flows sampled morrison great. does. truely singles. display</pre>"
      ],
      "text/plain": [
       "topic 40: strong tracks sing soundtrack 30 sell eyes flows sampled morrison great. does. truely singles. display"
      ]
     },
     "metadata": {},
     "output_type": "display_data"
    },
    {
     "data": {
      "text/html": [
       "<pre>topic 41: cd songs listen music heard cd. song love it. good bought buy great cd, i'm</pre>"
      ],
      "text/plain": [
       "topic 41: cd songs listen music heard cd. song love it. good bought buy great cd, i'm"
      ]
     },
     "metadata": {},
     "output_type": "display_data"
    },
    {
     "data": {
      "text/html": [
       "<pre>topic 42: nelly furtado doubt gwen fresh nelly's loose furtado's fun trick tragic \"say kingdom them. spanish</pre>"
      ],
      "text/plain": [
       "topic 42: nelly furtado doubt gwen fresh nelly's loose furtado's fun trick tragic \"say kingdom them. spanish"
      ]
     },
     "metadata": {},
     "output_type": "display_data"
    },
    {
     "data": {
      "text/html": [
       "<pre>topic 43: gang guru starr moment album kool premier earth public guru's gangstarr him. let's golden alot</pre>"
      ],
      "text/plain": [
       "topic 43: gang guru starr moment album kool premier earth public guru's gangstarr him. let's golden alot"
      ]
     },
     "metadata": {},
     "output_type": "display_data"
    },
    {
     "data": {
      "text/html": [
       "<pre>topic 44: cyndi lauper cyndi's lauper's ... colors \"true blends pretty \"girls 80's recommend listening test everyone.</pre>"
      ],
      "text/plain": [
       "topic 44: cyndi lauper cyndi's lauper's ... colors \"true blends pretty \"girls 80's recommend listening test everyone."
      ]
     },
     "metadata": {},
     "output_type": "display_data"
    },
    {
     "data": {
      "text/html": [
       "<pre>topic 45: dido dido's adele amazing adele's angel 21 bond eclectic faithless best! british suzanne \"life start</pre>"
      ],
      "text/plain": [
       "topic 45: dido dido's adele amazing adele's angel 21 bond eclectic faithless best! british suzanne \"life start"
      ]
     },
     "metadata": {},
     "output_type": "display_data"
    },
    {
     "data": {
      "text/html": [
       "<pre>topic 46: big love outkast andre boi hey hip-hop kelis boi's hit disc innovative 3000 lives great,</pre>"
      ],
      "text/plain": [
       "topic 46: big love outkast andre boi hey hip-hop kelis boi's hit disc innovative 3000 lives great,"
      ]
     },
     "metadata": {},
     "output_type": "display_data"
    },
    {
     "data": {
      "text/html": [
       "<pre>topic 47: yeah karen carpenters richard carpenter cuts karen's yeahs listen shine fever richard's born copy mind.</pre>"
      ],
      "text/plain": [
       "topic 47: yeah karen carpenters richard carpenter cuts karen's yeahs listen shine fever richard's born copy mind."
      ]
     },
     "metadata": {},
     "output_type": "display_data"
    },
    {
     "data": {
      "text/html": [
       "<pre>topic 48: love fleet foxes simply great prime (5/5): mainstream. songwriter \"helplessness beth say, cd quality. \"sun</pre>"
      ],
      "text/plain": [
       "topic 48: love fleet foxes simply great prime (5/5): mainstream. songwriter \"helplessness beth say, cd quality. \"sun"
      ]
     },
     "metadata": {},
     "output_type": "display_data"
    },
    {
     "data": {
      "text/html": [
       "<pre>topic 49: van album alanis halen eddie david lee rock cover roth classic morissette halen's cream dave</pre>"
      ],
      "text/plain": [
       "topic 49: van album alanis halen eddie david lee rock cover roth classic morissette halen's cream dave"
      ]
     },
     "metadata": {},
     "output_type": "display_data"
    },
    {
     "data": {
      "text/html": [
       "<pre>topic 50: great weezer album cher good blue mann ain't aimee green cher's rivers weezer's turn mann's</pre>"
      ],
      "text/plain": [
       "topic 50: great weezer album cher good blue mann ain't aimee green cher's rivers weezer's turn mann's"
      ]
     },
     "metadata": {},
     "output_type": "display_data"
    },
    {
     "data": {
      "text/html": [
       "<pre>topic 51: song it's great album - good love songs song. track song, album. lyrics nice favorite</pre>"
      ],
      "text/plain": [
       "topic 51: song it's great album - good love songs song. track song, album. lyrics nice favorite"
      ]
     },
     "metadata": {},
     "output_type": "display_data"
    },
    {
     "data": {
      "text/html": [
       "<pre>topic 52: thumbs pick pretty here's bad bird fun highlights: follow matter: word: make rest jamie middle,</pre>"
      ],
      "text/plain": [
       "topic 52: thumbs pick pretty here's bad bird fun highlights: follow matter: word: make rest jamie middle,"
      ]
     },
     "metadata": {},
     "output_type": "display_data"
    },
    {
     "data": {
      "text/html": [
       "<pre>topic 53: blues rock guitar great songs jeff eric blues, clapton robert classic beck playing muddy folk</pre>"
      ],
      "text/plain": [
       "topic 53: blues rock guitar great songs jeff eric blues, clapton robert classic beck playing muddy folk"
      ]
     },
     "metadata": {},
     "output_type": "display_data"
    },
    {
     "data": {
      "text/html": [
       "<pre>topic 54: sheryl crow add montreal it. barnes kevin false crow's sheryl's it's c'mon bit priest average</pre>"
      ],
      "text/plain": [
       "topic 54: sheryl crow add montreal it. barnes kevin false crow's sheryl's it's c'mon bit priest average"
      ]
     },
     "metadata": {},
     "output_type": "display_data"
    },
    {
     "data": {
      "text/html": [
       "<pre>topic 55: tori cat songs amos tori's stevens piano personal strange albums choirgirl walk beautiful female venus</pre>"
      ],
      "text/plain": [
       "topic 55: tori cat songs amos tori's stevens piano personal strange albums choirgirl walk beautiful female venus"
      ]
     },
     "metadata": {},
     "output_type": "display_data"
    },
    {
     "data": {
      "text/html": [
       "<pre>topic 56: great wrong listening record reviews cover pathetic is. camp her, you. hard gun, old. buy</pre>"
      ],
      "text/plain": [
       "topic 56: great wrong listening record reviews cover pathetic is. camp her, you. hard gun, old. buy"
      ]
     },
     "metadata": {},
     "output_type": "display_data"
    },
    {
     "data": {
      "text/html": [
       "<pre>topic 57: bon jovi justin iver jon great richie cd, too. jovi's hurt forever wonderful emma, desmond</pre>"
      ],
      "text/plain": [
       "topic 57: bon jovi justin iver jon great richie cd, too. jovi's hurt forever wonderful emma, desmond"
      ]
     },
     "metadata": {},
     "output_type": "display_data"
    },
    {
     "data": {
      "text/html": [
       "<pre>topic 58: radiohead thom king kid yorke radiohead's yorke's computer release. radiohead, this. ride limbs world, hail</pre>"
      ],
      "text/plain": [
       "topic 58: radiohead thom king kid yorke radiohead's yorke's computer release. radiohead, this. ride limbs world, hail"
      ]
     },
     "metadata": {},
     "output_type": "display_data"
    },
    {
     "data": {
      "text/html": [
       "<pre>topic 59: jazz music playing great recording miles musicians - james work funk solo blue recorded free</pre>"
      ],
      "text/plain": [
       "topic 59: jazz music playing great recording miles musicians - james work funk solo blue recorded free"
      ]
     },
     "metadata": {},
     "output_type": "display_data"
    },
    {
     "data": {
      "text/html": [
       "<pre>topic 60: good music it's musically library money off. minor deserves & stuff. wide tough major orb</pre>"
      ],
      "text/plain": [
       "topic 60: good music it's musically library money off. minor deserves & stuff. wide tough major orb"
      ]
     },
     "metadata": {},
     "output_type": "display_data"
    },
    {
     "data": {
      "text/html": [
       "<pre>topic 61: hot u.s. billboard top 100 pop easy adult minutes # 40 charts mainstream weeks country</pre>"
      ],
      "text/plain": [
       "topic 61: hot u.s. billboard top 100 pop easy adult minutes # 40 charts mainstream weeks country"
      ]
     },
     "metadata": {},
     "output_type": "display_data"
    },
    {
     "data": {
      "text/html": [
       "<pre>topic 62: dan steely royal fagen dan's becker donald katy buy walter type fogelberg belongs have. lose</pre>"
      ],
      "text/plain": [
       "topic 62: dan steely royal fagen dan's becker donald katy buy walter type fogelberg belongs have. lose"
      ]
     },
     "metadata": {},
     "output_type": "display_data"
    },
    {
     "data": {
      "text/html": [
       "<pre>topic 63: bone mariah group thugs carey mariah's krayzie eternal bizzy harmony war fast 1999 layzie world</pre>"
      ],
      "text/plain": [
       "topic 63: bone mariah group thugs carey mariah's krayzie eternal bizzy harmony war fast 1999 layzie world"
      ]
     },
     "metadata": {},
     "output_type": "display_data"
    },
    {
     "data": {
      "text/html": [
       "<pre>topic 64: thier made heard. 90's. british rob alive it's queen back, (except dear have. limited two.</pre>"
      ],
      "text/plain": [
       "topic 64: thier made heard. 90's. british rob alive it's queen back, (except dear have. limited two."
      ]
     },
     "metadata": {},
     "output_type": "display_data"
    },
    {
     "data": {
      "text/html": [
       "<pre>topic 65: buy world worth guy grow summer faces real chair amount rest orleans everyone's time. america</pre>"
      ],
      "text/plain": [
       "topic 65: buy world worth guy grow summer faces real chair amount rest orleans everyone's time. america"
      ]
     },
     "metadata": {},
     "output_type": "display_data"
    },
    {
     "data": {
      "text/html": [
       "<pre>topic 66: funk p-funk parliament clinton fans. mothership bootsy clones gun funkadelic nose others. roof ahead side</pre>"
      ],
      "text/plain": [
       "topic 66: funk p-funk parliament clinton fans. mothership bootsy clones gun funkadelic nose others. roof ahead side"
      ]
     },
     "metadata": {},
     "output_type": "display_data"
    },
    {
     "data": {
      "text/html": [
       "<pre>topic 67: nick drake drake's leaves jamiroquai pink moon nick's jay kay \"pink jane classic. bryter music.</pre>"
      ],
      "text/plain": [
       "topic 67: nick drake drake's leaves jamiroquai pink moon nick's jay kay \"pink jane classic. bryter music."
      ]
     },
     "metadata": {},
     "output_type": "display_data"
    },
    {
     "data": {
      "text/html": [
       "<pre>topic 68: album michael jackson music pop bad dance songs elvis jackson's stop can't costello michael's remember</pre>"
      ],
      "text/plain": [
       "topic 68: album michael jackson music pop bad dance songs elvis jackson's stop can't costello michael's remember"
      ]
     },
     "metadata": {},
     "output_type": "display_data"
    },
    {
     "data": {
      "text/html": [
       "<pre>topic 69: album rap 50 beats hip eminem good hop game real lyrics dre dont he's tracks</pre>"
      ],
      "text/plain": [
       "topic 69: album rap 50 beats hip eminem good hop game real lyrics dre dont he's tracks"
      ]
     },
     "metadata": {},
     "output_type": "display_data"
    },
    {
     "data": {
      "text/html": [
       "<pre>topic 70: devo live earth freedom bit devo's pick write afraid cut listened jason here. bound what's</pre>"
      ],
      "text/plain": [
       "topic 70: devo live earth freedom bit devo's pick write afraid cut listened jason here. bound what's"
      ]
     },
     "metadata": {},
     "output_type": "display_data"
    },
    {
     "data": {
      "text/html": [
       "<pre>topic 71: album madonna alice madonna's great album. buffett it's songs love title jimmy song cooper single</pre>"
      ],
      "text/plain": [
       "topic 71: album madonna alice madonna's great album. buffett it's songs love title jimmy song cooper single"
      ]
     },
     "metadata": {},
     "output_type": "display_data"
    },
    {
     "data": {
      "text/html": [
       "<pre>topic 72: cypress hill liz phair albums sen musical muggs artist poor there. wrong greatest. b-real 1996</pre>"
      ],
      "text/plain": [
       "topic 72: cypress hill liz phair albums sen musical muggs artist poor there. wrong greatest. b-real 1996"
      ]
     },
     "metadata": {},
     "output_type": "display_data"
    },
    {
     "data": {
      "text/html": [
       "<pre>topic 73: prince prince's times funk sign time soundtrack movie funky albums o' album purple rain, funk,</pre>"
      ],
      "text/plain": [
       "topic 73: prince prince's times funk sign time soundtrack movie funky albums o' album purple rain, funk,"
      ]
     },
     "metadata": {},
     "output_type": "display_data"
    },
    {
     "data": {
      "text/html": [
       "<pre>topic 74: dylan bob mars dylan's great belle joan sebastian boy volta blood stuart dear manson twist</pre>"
      ],
      "text/plain": [
       "topic 74: dylan bob mars dylan's great belle joan sebastian boy volta blood stuart dear manson twist"
      ]
     },
     "metadata": {},
     "output_type": "display_data"
    },
    {
     "data": {
      "text/html": [
       "<pre>topic 75: put - make sam cookie approach next. record. head, flag heck armatrading la, teena's rating:</pre>"
      ],
      "text/plain": [
       "topic 75: put - make sam cookie approach next. record. head, flag heck armatrading la, teena's rating:"
      ]
     },
     "metadata": {},
     "output_type": "display_data"
    },
    {
     "data": {
      "text/html": [
       "<pre>topic 76: it. album albums call * ever. groundbreaking killing fans keeper. rhythms times bubblegum energy, barely</pre>"
      ],
      "text/plain": [
       "topic 76: it. album albums call * ever. groundbreaking killing fans keeper. rhythms times bubblegum energy, barely"
      ]
     },
     "metadata": {},
     "output_type": "display_data"
    },
    {
     "data": {
      "text/html": [
       "<pre>topic 77: love kills half scene, smash it! talents ranks forward album! smooth back! listenable bought pleasure.</pre>"
      ],
      "text/plain": [
       "topic 77: love kills half scene, smash it! talents ranks forward album! smooth back! listenable bought pleasure."
      ]
     },
     "metadata": {},
     "output_type": "display_data"
    },
    {
     "data": {
      "text/html": [
       "<pre>topic 78: album great songs album. albums album, good tracks highly favorite track debut recommend fan music</pre>"
      ],
      "text/plain": [
       "topic 78: album great songs album. albums album, good tracks highly favorite track debut recommend fan music"
      ]
     },
     "metadata": {},
     "output_type": "display_data"
    },
    {
     "data": {
      "text/html": [
       "<pre>topic 79: bad listen glen again. love, suppose street part earned worldwide definately are. tears offering 'the</pre>"
      ],
      "text/plain": [
       "topic 79: bad listen glen again. love, suppose street part earned worldwide definately are. tears offering 'the"
      ]
     },
     "metadata": {},
     "output_type": "display_data"
    },
    {
     "data": {
      "text/html": [
       "<pre>topic 80: la de los rage album el en yo ratm machine lobos battle con super disco</pre>"
      ],
      "text/plain": [
       "topic 80: la de los rage album el en yo ratm machine lobos battle con super disco"
      ]
     },
     "metadata": {},
     "output_type": "display_data"
    },
    {
     "data": {
      "text/html": [
       "<pre>topic 81: great catchy fun it. usual music. style pretty peace (and recommend releases. said, sell stuff.</pre>"
      ],
      "text/plain": [
       "topic 81: great catchy fun it. usual music. style pretty peace (and recommend releases. said, sell stuff."
      ]
     },
     "metadata": {},
     "output_type": "display_data"
    },
    {
     "data": {
      "text/html": [
       "<pre>topic 82: fun nice :) cameo totally bit forever cool fully dark music, cold hey album. i,</pre>"
      ],
      "text/plain": [
       "topic 82: fun nice :) cameo totally bit forever cool fully dark music, cold hey album. i,"
      ]
     },
     "metadata": {},
     "output_type": "display_data"
    },
    {
     "data": {
      "text/html": [
       "<pre>topic 83: songs hits collection greatest great cd disc tracks good albums music set fan compilation fans</pre>"
      ],
      "text/plain": [
       "topic 83: songs hits collection greatest great cd disc tracks good albums music set fan compilation fans"
      ]
     },
     "metadata": {},
     "output_type": "display_data"
    },
    {
     "data": {
      "text/html": [
       "<pre>topic 84: album wu beats wu-tang album. rza ghostface ghost buy true method arctic tang lyrics monkeys</pre>"
      ],
      "text/plain": [
       "topic 84: album wu beats wu-tang album. rza ghostface ghost buy true method arctic tang lyrics monkeys"
      ]
     },
     "metadata": {},
     "output_type": "display_data"
    },
    {
     "data": {
      "text/html": [
       "<pre>topic 85: album songs song hit \"the & elton released john pop top albums single title classic</pre>"
      ],
      "text/plain": [
       "topic 85: album songs song hit \"the & elton released john pop top albums single title classic"
      ]
     },
     "metadata": {},
     "output_type": "display_data"
    },
    {
     "data": {
      "text/html": [
       "<pre>topic 86: band rock album guitar sound bands great hard heavy metal it's music albums band's sounds</pre>"
      ],
      "text/plain": [
       "topic 86: band rock album guitar sound bands great hard heavy metal it's music albums band's sounds"
      ]
     },
     "metadata": {},
     "output_type": "display_data"
    },
    {
     "data": {
      "text/html": [
       "<pre>topic 87: jones music voice norah country jewel pop she's artist michelle spirit vanessa jewel's dolly style</pre>"
      ],
      "text/plain": [
       "topic 87: jones music voice norah country jewel pop she's artist michelle spirit vanessa jewel's dolly style"
      ]
     },
     "metadata": {},
     "output_type": "display_data"
    },
    {
     "data": {
      "text/html": [
       "<pre>topic 88: duran fleetwood mac annie stevie eurythmics great nicks christine buckingham lennox lindsey doubt mac's annie's</pre>"
      ],
      "text/plain": [
       "topic 88: duran fleetwood mac annie stevie eurythmics great nicks christine buckingham lennox lindsey doubt mac's annie's"
      ]
     },
     "metadata": {},
     "output_type": "display_data"
    },
    {
     "data": {
      "text/html": [
       "<pre>topic 89: rest it! compare folks witty albums enjoying far. all. ween reason cliche real. public hard</pre>"
      ],
      "text/plain": [
       "topic 89: rest it! compare folks witty albums enjoying far. all. ween reason cliche real. public hard"
      ]
     },
     "metadata": {},
     "output_type": "display_data"
    },
    {
     "data": {
      "text/html": [
       "<pre>topic 90: ever. worth plain album! feeling distinctive upbeat, previous to, create right. sublime greatest hit. ann</pre>"
      ],
      "text/plain": [
       "topic 90: ever. worth plain album! feeling distinctive upbeat, previous to, create right. sublime greatest hit. ann"
      ]
     },
     "metadata": {},
     "output_type": "display_data"
    },
    {
     "data": {
      "text/html": [
       "<pre>topic 91: blondie ... majority bring didn't underrated clear said. watching disk moved vice stuff, won't innovative</pre>"
      ],
      "text/plain": [
       "topic 91: blondie ... majority bring didn't underrated clear said. watching disk moved vice stuff, won't innovative"
      ]
     },
     "metadata": {},
     "output_type": "display_data"
    },
    {
     "data": {
      "text/html": [
       "<pre>topic 92: it! buying favorites, shines shot records means highly album) sort days favourite finest it.the lyrics</pre>"
      ],
      "text/plain": [
       "topic 92: it! buying favorites, shines shot records means highly album) sort days favourite finest it.the lyrics"
      ]
     },
     "metadata": {},
     "output_type": "display_data"
    },
    {
     "data": {
      "text/html": [
       "<pre>topic 93: bad more, songs didn't perfect literally bit them. sit rush needed today straight amazon. angels</pre>"
      ],
      "text/plain": [
       "topic 93: bad more, songs didn't perfect literally bit them. sit rush needed today straight amazon. angels"
      ]
     },
     "metadata": {},
     "output_type": "display_data"
    },
    {
     "data": {
      "text/html": [
       "<pre>topic 94: morning incubus view make filled brandon boyd incubus' science view, awesome excellent crow year great</pre>"
      ],
      "text/plain": [
       "topic 94: morning incubus view make filled brandon boyd incubus' science view, awesome excellent crow year great"
      ]
     },
     "metadata": {},
     "output_type": "display_data"
    },
    {
     "data": {
      "text/html": [
       "<pre>topic 95: hot red peppers chili sex funky funk sugar blood john double mellow hell anthony meat</pre>"
      ],
      "text/plain": [
       "topic 95: hot red peppers chili sex funky funk sugar blood john double mellow hell anthony meat"
      ]
     },
     "metadata": {},
     "output_type": "display_data"
    },
    {
     "data": {
      "text/html": [
       "<pre>topic 96: cash johnny man american country cash's rick prison ain't waylon recordings walk jennings carter kris</pre>"
      ],
      "text/plain": [
       "topic 96: cash johnny man american country cash's rick prison ain't waylon recordings walk jennings carter kris"
      ]
     },
     "metadata": {},
     "output_type": "display_data"
    },
    {
     "data": {
      "text/html": [
       "<pre>topic 97: - version original album live tracks cd sound disc bonus release great versions released quality</pre>"
      ],
      "text/plain": [
       "topic 97: - version original album live tracks cd sound disc bonus release great versions released quality"
      ]
     },
     "metadata": {},
     "output_type": "display_data"
    },
    {
     "data": {
      "text/html": [
       "<pre>topic 98: collection. money. power stand book. it. raw lot. album, agree up. coming video met sweet</pre>"
      ],
      "text/plain": [
       "topic 98: collection. money. power stand book. it. raw lot. album, agree up. coming video met sweet"
      ]
     },
     "metadata": {},
     "output_type": "display_data"
    },
    {
     "data": {
      "text/html": [
       "<pre>topic 99: sounds boys beach brian pet wilson beatles smashing shop pumpkins wilson's corgan beastie sounds, created</pre>"
      ],
      "text/plain": [
       "topic 99: sounds boys beach brian pet wilson beatles smashing shop pumpkins wilson's corgan beastie sounds, created"
      ]
     },
     "metadata": {},
     "output_type": "display_data"
    },
    {
     "data": {
      "text/html": [
       "<pre>+-----------+---------------+----------------+-----------------+</pre>"
      ],
      "text/plain": [
       "+-----------+---------------+----------------+-----------------+"
      ]
     },
     "metadata": {},
     "output_type": "display_data"
    },
    {
     "data": {
      "text/plain": [
       "Class                          : TopicModel\n",
       "\n",
       "Schema\n",
       "------\n",
       "Vocabulary Size                : 366316\n",
       "\n",
       "Settings\n",
       "--------\n",
       "Number of Topics               : 100\n",
       "alpha                          : 0.5\n",
       "beta                           : 0.1\n",
       "Iterations                     : 200\n",
       "Training time                  : 460.5692\n",
       "Verbose                        : True\n",
       "\n",
       "Accessible fields             : \n",
       "m['topics']                   : An SFrame containing the topics.\n",
       "m['vocabulary']               : An SArray containing the words in the vocabulary.\n",
       "Useful methods                : \n",
       "m.get_topics()                : Get the most probable words per topic.\n",
       "m.predict(new_docs)           : Make predictions for new documents."
      ]
     },
     "execution_count": 9,
     "metadata": {},
     "output_type": "execute_result"
    }
   ],
   "source": [
    "# using topic modelling\n",
    "\n",
    "textdata1 = reviews['reviewText']\n",
    "\n",
    "# texttrain, texttest = train_test_split(textdata1, test_size = 0.2)\n",
    "# reviewfolds = gl.cross_validation.KFold(textdata1, 10)\n",
    "# texttrain, texttest = reviewfolds[1]\n",
    "\n",
    "review_docs = gl.text_analytics.count_words(textdata1)\n",
    "review_docs = review_docs.dict_trim_by_keys(gl.text_analytics.stopwords(), exclude=True)\n",
    "\n",
    "texttrain, texttest = gl.text_analytics.random_split(review_docs, prob=0.4)\n",
    "\n",
    "# review_test = gl.text_analytics.count_words(texttest)\n",
    "# review_test = review_docs.dict_trim_by_keys(gl.text_analytics.stopwords(), exclude=True)\n",
    "\n",
    "# gl.text_analytics.trim_rare_words()\n",
    "\n",
    "# texttrainframe = texttrain.to_dataframe()\n",
    "\n",
    "# series = texttrainframe.iloc[:,0]\n",
    "# listseries = []\n",
    "# for i in series:\n",
    "#     listseries.append(i)\n",
    "    \n",
    "# listseries\n",
    "    \n",
    "# # series2 = gl.SArray(listseries, dtype=dict)\n",
    "# type(texttrainframe)\n",
    "\n",
    "\n",
    "# texttrain = series2.to_dict()\n",
    "# texttrain = series2.to_dict()\n",
    "\n",
    "\n",
    "\n",
    "lda = gl.topic_model.create(dataset=texttrain, validation_set=texttest, num_topics=100, num_iterations=200, verbose=1)\n",
    "\n",
    "lda.\n"
   ]
  },
  {
   "cell_type": "code",
   "execution_count": 10,
   "metadata": {},
   "outputs": [
    {
     "data": {
      "text/html": [
       "<div style=\"max-height:1000px;max-width:1500px;overflow:auto;\"><table frame=\"box\" rules=\"cols\">\n",
       "    <tr>\n",
       "        <th style=\"padding-left: 1em; padding-right: 1em; text-align: center\">topic</th>\n",
       "        <th style=\"padding-left: 1em; padding-right: 1em; text-align: center\">word</th>\n",
       "        <th style=\"padding-left: 1em; padding-right: 1em; text-align: center\">score</th>\n",
       "    </tr>\n",
       "    <tr>\n",
       "        <td style=\"padding-left: 1em; padding-right: 1em; text-align: center; vertical-align: top\">0</td>\n",
       "        <td style=\"padding-left: 1em; padding-right: 1em; text-align: center; vertical-align: top\">&amp;amp;</td>\n",
       "        <td style=\"padding-left: 1em; padding-right: 1em; text-align: center; vertical-align: top\">0.0188063947231</td>\n",
       "    </tr>\n",
       "    <tr>\n",
       "        <td style=\"padding-left: 1em; padding-right: 1em; text-align: center; vertical-align: top\">0</td>\n",
       "        <td style=\"padding-left: 1em; padding-right: 1em; text-align: center; vertical-align: top\">&amp;quot;the</td>\n",
       "        <td style=\"padding-left: 1em; padding-right: 1em; text-align: center; vertical-align: top\">0.0173506621197</td>\n",
       "    </tr>\n",
       "    <tr>\n",
       "        <td style=\"padding-left: 1em; padding-right: 1em; text-align: center; vertical-align: top\">0</td>\n",
       "        <td style=\"padding-left: 1em; padding-right: 1em; text-align: center; vertical-align: top\">songs</td>\n",
       "        <td style=\"padding-left: 1em; padding-right: 1em; text-align: center; vertical-align: top\">0.0109669166868</td>\n",
       "    </tr>\n",
       "    <tr>\n",
       "        <td style=\"padding-left: 1em; padding-right: 1em; text-align: center; vertical-align: top\">0</td>\n",
       "        <td style=\"padding-left: 1em; padding-right: 1em; text-align: center; vertical-align: top\">&amp;quot;i</td>\n",
       "        <td style=\"padding-left: 1em; padding-right: 1em; text-align: center; vertical-align: top\">0.00954698078673</td>\n",
       "    </tr>\n",
       "    <tr>\n",
       "        <td style=\"padding-left: 1em; padding-right: 1em; text-align: center; vertical-align: top\">0</td>\n",
       "        <td style=\"padding-left: 1em; padding-right: 1em; text-align: center; vertical-align: top\">album</td>\n",
       "        <td style=\"padding-left: 1em; padding-right: 1em; text-align: center; vertical-align: top\">0.00819863829342</td>\n",
       "    </tr>\n",
       "    <tr>\n",
       "        <td style=\"padding-left: 1em; padding-right: 1em; text-align: center; vertical-align: top\">1</td>\n",
       "        <td style=\"padding-left: 1em; padding-right: 1em; text-align: center; vertical-align: top\">great</td>\n",
       "        <td style=\"padding-left: 1em; padding-right: 1em; text-align: center; vertical-align: top\">0.00125862188485</td>\n",
       "    </tr>\n",
       "    <tr>\n",
       "        <td style=\"padding-left: 1em; padding-right: 1em; text-align: center; vertical-align: top\">1</td>\n",
       "        <td style=\"padding-left: 1em; padding-right: 1em; text-align: center; vertical-align: top\">gift</td>\n",
       "        <td style=\"padding-left: 1em; padding-right: 1em; text-align: center; vertical-align: top\">0.000760372257459</td>\n",
       "    </tr>\n",
       "    <tr>\n",
       "        <td style=\"padding-left: 1em; padding-right: 1em; text-align: center; vertical-align: top\">1</td>\n",
       "        <td style=\"padding-left: 1em; padding-right: 1em; text-align: center; vertical-align: top\">lovers</td>\n",
       "        <td style=\"padding-left: 1em; padding-right: 1em; text-align: center; vertical-align: top\">0.000565405011957</td>\n",
       "    </tr>\n",
       "    <tr>\n",
       "        <td style=\"padding-left: 1em; padding-right: 1em; text-align: center; vertical-align: top\">1</td>\n",
       "        <td style=\"padding-left: 1em; padding-right: 1em; text-align: center; vertical-align: top\">lives</td>\n",
       "        <td style=\"padding-left: 1em; padding-right: 1em; text-align: center; vertical-align: top\">0.000522078957401</td>\n",
       "    </tr>\n",
       "    <tr>\n",
       "        <td style=\"padding-left: 1em; padding-right: 1em; text-align: center; vertical-align: top\">1</td>\n",
       "        <td style=\"padding-left: 1em; padding-right: 1em; text-align: center; vertical-align: top\">collection.</td>\n",
       "        <td style=\"padding-left: 1em; padding-right: 1em; text-align: center; vertical-align: top\">0.000522078957401</td>\n",
       "    </tr>\n",
       "</table>\n",
       "[500 rows x 3 columns]<br/>Note: Only the head of the SFrame is printed.<br/>You can use print_rows(num_rows=m, num_columns=n) to print more rows and columns.\n",
       "</div>"
      ],
      "text/plain": [
       "Columns:\n",
       "\ttopic\tint\n",
       "\tword\tstr\n",
       "\tscore\tfloat\n",
       "\n",
       "Rows: 500\n",
       "\n",
       "Data:\n",
       "+-------+-------------+-------------------+\n",
       "| topic |     word    |       score       |\n",
       "+-------+-------------+-------------------+\n",
       "|   0   |    &amp;    |  0.0188063947231  |\n",
       "|   0   |  &quot;the  |  0.0173506621197  |\n",
       "|   0   |    songs    |  0.0109669166868  |\n",
       "|   0   |   &quot;i   |  0.00954698078673 |\n",
       "|   0   |    album    |  0.00819863829342 |\n",
       "|   1   |    great    |  0.00125862188485 |\n",
       "|   1   |     gift    | 0.000760372257459 |\n",
       "|   1   |    lovers   | 0.000565405011957 |\n",
       "|   1   |    lives    | 0.000522078957401 |\n",
       "|   1   | collection. | 0.000522078957401 |\n",
       "+-------+-------------+-------------------+\n",
       "[500 rows x 3 columns]\n",
       "Note: Only the head of the SFrame is printed.\n",
       "You can use print_rows(num_rows=m, num_columns=n) to print more rows and columns."
      ]
     },
     "execution_count": 10,
     "metadata": {},
     "output_type": "execute_result"
    }
   ],
   "source": [
    "lda.get_topics()"
   ]
  }
 ],
 "metadata": {
  "kernelspec": {
   "display_name": "Python [conda env:graphlab]",
   "language": "python",
   "name": "conda-env-graphlab-py"
  },
  "language_info": {
   "codemirror_mode": {
    "name": "ipython",
    "version": 2
   },
   "file_extension": ".py",
   "mimetype": "text/x-python",
   "name": "python",
   "nbconvert_exporter": "python",
   "pygments_lexer": "ipython2",
   "version": "2.7.14"
  }
 },
 "nbformat": 4,
 "nbformat_minor": 2
}
