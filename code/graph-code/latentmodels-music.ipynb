{
 "cells": [
  {
   "cell_type": "code",
   "execution_count": 1,
   "metadata": {},
   "outputs": [],
   "source": [
    "import graphlab as gl\n",
    "\n",
    "from sklearn.model_selection import train_test_split\n",
    "from scipy.sparse import csr_matrix\n",
    "\n",
    "import pandas as pd\n",
    "import numpy as np\n",
    "\n",
    "import matplotlib.pyplot as plt\n",
    "import seaborn as sb"
   ]
  },
  {
   "cell_type": "code",
   "execution_count": 2,
   "metadata": {},
   "outputs": [
    {
     "name": "stdout",
     "output_type": "stream",
     "text": [
      "This non-commercial license of GraphLab Create for academic use is assigned to rahulbali.mecse16@pec.edu.in and will expire on November 23, 2018.\n"
     ]
    },
    {
     "name": "stderr",
     "output_type": "stream",
     "text": [
      "[INFO] graphlab.cython.cy_server: GraphLab Create v2.1 started. Logging: C:\\Users\\cramdog\\AppData\\Local\\Temp\\graphlab_server_1529684897.log.0\n"
     ]
    },
    {
     "data": {
      "text/html": [
       "<pre>Finished parsing file E:\\ACADEMICS\\PEC---\\ME 4 SEM\\code\\graph-code\\dataset\\amazon5core\\digitalmusic\\10ksample.csv</pre>"
      ],
      "text/plain": [
       "Finished parsing file E:\\ACADEMICS\\PEC---\\ME 4 SEM\\code\\graph-code\\dataset\\amazon5core\\digitalmusic\\10ksample.csv"
      ]
     },
     "metadata": {},
     "output_type": "display_data"
    },
    {
     "data": {
      "text/html": [
       "<pre>Parsing completed. Parsed 10000 lines in 0.34932 secs.</pre>"
      ],
      "text/plain": [
       "Parsing completed. Parsed 10000 lines in 0.34932 secs."
      ]
     },
     "metadata": {},
     "output_type": "display_data"
    }
   ],
   "source": [
    "musicdata = \"./dataset/amazon5core/digitalmusic/10ksample.csv\"\n",
    "healthdata = \"./dataset/amazon5core/healthcare/10ksample.csv\"\n",
    "\n",
    "# loading data using gl\n",
    "musicsf = gl.SFrame.read_csv(musicdata, delimiter=\",\",\n",
    "                             usecols=[\"asin\",\"reviewerID\",\"overall\",\"reviewText\"],\n",
    "                             column_type_hints=[str, str, int, str])\n",
    "\n",
    "# healthsf = gl.SFrame.read_csv(healthdata, delimiter=\",\",\n",
    "#                               usecols=[\"asin\",\"reviewerID\",\"overall\",\"reviewText\"],\n",
    "#                               column_type_hints=[str, str, int, str])"
   ]
  },
  {
   "cell_type": "code",
   "execution_count": 3,
   "metadata": {},
   "outputs": [],
   "source": [
    "# divide the review and rating data\n",
    "ratings = musicsf[[\"asin\", \"reviewerID\", \"overall\"]]\n",
    "reviews = musicsf[[\"asin\", \"reviewerID\", \"reviewText\"]]\n",
    "\n",
    "\n",
    "# ratings = healthsf[[\"asin\", \"reviewerID\", \"overall\"]]\n",
    "# reviews = healthsf[[\"asin\", \"reviewerID\", \"reviewText\"]]\n",
    "\n",
    "# train, test = gl.recommender.util.random_split_by_user(dataset=ratings,item_id=\"asin\",user_id=\"reviewerID\",max_num_users=100)\n",
    "\n",
    "## cross validation structure\n",
    "folds = gl.cross_validation.KFold(ratings, 10)\n",
    "train, test = folds[3]\n"
   ]
  },
  {
   "cell_type": "code",
   "execution_count": 4,
   "metadata": {},
   "outputs": [],
   "source": [
    "# train.show()\n",
    "# gl.canvas.show()"
   ]
  },
  {
   "cell_type": "code",
   "execution_count": 31,
   "metadata": {},
   "outputs": [
    {
     "data": {
      "text/html": [
       "<pre>Recsys training: model = factorization_recommender</pre>"
      ],
      "text/plain": [
       "Recsys training: model = factorization_recommender"
      ]
     },
     "metadata": {},
     "output_type": "display_data"
    },
    {
     "data": {
      "text/html": [
       "<pre>Preparing data set.</pre>"
      ],
      "text/plain": [
       "Preparing data set."
      ]
     },
     "metadata": {},
     "output_type": "display_data"
    },
    {
     "data": {
      "text/html": [
       "<pre>    Data has 9000 observations with 3886 users and 2757 items.</pre>"
      ],
      "text/plain": [
       "    Data has 9000 observations with 3886 users and 2757 items."
      ]
     },
     "metadata": {},
     "output_type": "display_data"
    },
    {
     "data": {
      "text/html": [
       "<pre>    Data prepared in: 0.069063s</pre>"
      ],
      "text/plain": [
       "    Data prepared in: 0.069063s"
      ]
     },
     "metadata": {},
     "output_type": "display_data"
    },
    {
     "data": {
      "text/html": [
       "<pre>Training factorization_recommender for recommendations.</pre>"
      ],
      "text/plain": [
       "Training factorization_recommender for recommendations."
      ]
     },
     "metadata": {},
     "output_type": "display_data"
    },
    {
     "data": {
      "text/html": [
       "<pre>+--------------------------------+--------------------------------------------------+----------+</pre>"
      ],
      "text/plain": [
       "+--------------------------------+--------------------------------------------------+----------+"
      ]
     },
     "metadata": {},
     "output_type": "display_data"
    },
    {
     "data": {
      "text/html": [
       "<pre>| Parameter                      | Description                                      | Value    |</pre>"
      ],
      "text/plain": [
       "| Parameter                      | Description                                      | Value    |"
      ]
     },
     "metadata": {},
     "output_type": "display_data"
    },
    {
     "data": {
      "text/html": [
       "<pre>+--------------------------------+--------------------------------------------------+----------+</pre>"
      ],
      "text/plain": [
       "+--------------------------------+--------------------------------------------------+----------+"
      ]
     },
     "metadata": {},
     "output_type": "display_data"
    },
    {
     "data": {
      "text/html": [
       "<pre>| num_factors                    | Factor Dimension                                 | 50       |</pre>"
      ],
      "text/plain": [
       "| num_factors                    | Factor Dimension                                 | 50       |"
      ]
     },
     "metadata": {},
     "output_type": "display_data"
    },
    {
     "data": {
      "text/html": [
       "<pre>| regularization                 | L2 Regularization on Factors                     | 1e-008   |</pre>"
      ],
      "text/plain": [
       "| regularization                 | L2 Regularization on Factors                     | 1e-008   |"
      ]
     },
     "metadata": {},
     "output_type": "display_data"
    },
    {
     "data": {
      "text/html": [
       "<pre>| solver                         | Solver used for training                         | sgd      |</pre>"
      ],
      "text/plain": [
       "| solver                         | Solver used for training                         | sgd      |"
      ]
     },
     "metadata": {},
     "output_type": "display_data"
    },
    {
     "data": {
      "text/html": [
       "<pre>| linear_regularization          | L2 Regularization on Linear Coefficients         | 1e-010   |</pre>"
      ],
      "text/plain": [
       "| linear_regularization          | L2 Regularization on Linear Coefficients         | 1e-010   |"
      ]
     },
     "metadata": {},
     "output_type": "display_data"
    },
    {
     "data": {
      "text/html": [
       "<pre>| max_iterations                 | Maximum Number of Iterations                     | 300      |</pre>"
      ],
      "text/plain": [
       "| max_iterations                 | Maximum Number of Iterations                     | 300      |"
      ]
     },
     "metadata": {},
     "output_type": "display_data"
    },
    {
     "data": {
      "text/html": [
       "<pre>+--------------------------------+--------------------------------------------------+----------+</pre>"
      ],
      "text/plain": [
       "+--------------------------------+--------------------------------------------------+----------+"
      ]
     },
     "metadata": {},
     "output_type": "display_data"
    },
    {
     "data": {
      "text/html": [
       "<pre>  Optimizing model using SGD; tuning step size.</pre>"
      ],
      "text/plain": [
       "  Optimizing model using SGD; tuning step size."
      ]
     },
     "metadata": {},
     "output_type": "display_data"
    },
    {
     "data": {
      "text/html": [
       "<pre>  Using 9000 / 9000 points for tuning the step size.</pre>"
      ],
      "text/plain": [
       "  Using 9000 / 9000 points for tuning the step size."
      ]
     },
     "metadata": {},
     "output_type": "display_data"
    },
    {
     "data": {
      "text/html": [
       "<pre>+---------+-------------------+------------------------------------------+</pre>"
      ],
      "text/plain": [
       "+---------+-------------------+------------------------------------------+"
      ]
     },
     "metadata": {},
     "output_type": "display_data"
    },
    {
     "data": {
      "text/html": [
       "<pre>| Attempt | Initial Step Size | Estimated Objective Value                |</pre>"
      ],
      "text/plain": [
       "| Attempt | Initial Step Size | Estimated Objective Value                |"
      ]
     },
     "metadata": {},
     "output_type": "display_data"
    },
    {
     "data": {
      "text/html": [
       "<pre>+---------+-------------------+------------------------------------------+</pre>"
      ],
      "text/plain": [
       "+---------+-------------------+------------------------------------------+"
      ]
     },
     "metadata": {},
     "output_type": "display_data"
    },
    {
     "data": {
      "text/html": [
       "<pre>| 0       | 25                | Not Viable                               |</pre>"
      ],
      "text/plain": [
       "| 0       | 25                | Not Viable                               |"
      ]
     },
     "metadata": {},
     "output_type": "display_data"
    },
    {
     "data": {
      "text/html": [
       "<pre>| 1       | 6.25              | Not Viable                               |</pre>"
      ],
      "text/plain": [
       "| 1       | 6.25              | Not Viable                               |"
      ]
     },
     "metadata": {},
     "output_type": "display_data"
    },
    {
     "data": {
      "text/html": [
       "<pre>| 2       | 1.5625            | Not Viable                               |</pre>"
      ],
      "text/plain": [
       "| 2       | 1.5625            | Not Viable                               |"
      ]
     },
     "metadata": {},
     "output_type": "display_data"
    },
    {
     "data": {
      "text/html": [
       "<pre>| 3       | 0.390625          | 0.141467                                 |</pre>"
      ],
      "text/plain": [
       "| 3       | 0.390625          | 0.141467                                 |"
      ]
     },
     "metadata": {},
     "output_type": "display_data"
    },
    {
     "data": {
      "text/html": [
       "<pre>| 4       | 0.195312          | 0.275614                                 |</pre>"
      ],
      "text/plain": [
       "| 4       | 0.195312          | 0.275614                                 |"
      ]
     },
     "metadata": {},
     "output_type": "display_data"
    },
    {
     "data": {
      "text/html": [
       "<pre>| 5       | 0.0976562         | 0.355467                                 |</pre>"
      ],
      "text/plain": [
       "| 5       | 0.0976562         | 0.355467                                 |"
      ]
     },
     "metadata": {},
     "output_type": "display_data"
    },
    {
     "data": {
      "text/html": [
       "<pre>+---------+-------------------+------------------------------------------+</pre>"
      ],
      "text/plain": [
       "+---------+-------------------+------------------------------------------+"
      ]
     },
     "metadata": {},
     "output_type": "display_data"
    },
    {
     "data": {
      "text/html": [
       "<pre>| Final   | 0.390625          | 0.141467                                 |</pre>"
      ],
      "text/plain": [
       "| Final   | 0.390625          | 0.141467                                 |"
      ]
     },
     "metadata": {},
     "output_type": "display_data"
    },
    {
     "data": {
      "text/html": [
       "<pre>+---------+-------------------+------------------------------------------+</pre>"
      ],
      "text/plain": [
       "+---------+-------------------+------------------------------------------+"
      ]
     },
     "metadata": {},
     "output_type": "display_data"
    },
    {
     "data": {
      "text/html": [
       "<pre>Starting Optimization.</pre>"
      ],
      "text/plain": [
       "Starting Optimization."
      ]
     },
     "metadata": {},
     "output_type": "display_data"
    },
    {
     "data": {
      "text/html": [
       "<pre>+---------+--------------+-------------------+-----------------------+-------------+</pre>"
      ],
      "text/plain": [
       "+---------+--------------+-------------------+-----------------------+-------------+"
      ]
     },
     "metadata": {},
     "output_type": "display_data"
    },
    {
     "data": {
      "text/html": [
       "<pre>| Iter.   | Elapsed Time | Approx. Objective | Approx. Training RMSE | Step Size   |</pre>"
      ],
      "text/plain": [
       "| Iter.   | Elapsed Time | Approx. Objective | Approx. Training RMSE | Step Size   |"
      ]
     },
     "metadata": {},
     "output_type": "display_data"
    },
    {
     "data": {
      "text/html": [
       "<pre>+---------+--------------+-------------------+-----------------------+-------------+</pre>"
      ],
      "text/plain": [
       "+---------+--------------+-------------------+-----------------------+-------------+"
      ]
     },
     "metadata": {},
     "output_type": "display_data"
    },
    {
     "data": {
      "text/html": [
       "<pre>| Initial | 0us          | 1.18749           | 1.08972               |             |</pre>"
      ],
      "text/plain": [
       "| Initial | 0us          | 1.18749           | 1.08972               |             |"
      ]
     },
     "metadata": {},
     "output_type": "display_data"
    },
    {
     "data": {
      "text/html": [
       "<pre>+---------+--------------+-------------------+-----------------------+-------------+</pre>"
      ],
      "text/plain": [
       "+---------+--------------+-------------------+-----------------------+-------------+"
      ]
     },
     "metadata": {},
     "output_type": "display_data"
    },
    {
     "data": {
      "text/html": [
       "<pre>| 1       | 34.03ms      | 1.40198           | 1.18404               | 0.390625    |</pre>"
      ],
      "text/plain": [
       "| 1       | 34.03ms      | 1.40198           | 1.18404               | 0.390625    |"
      ]
     },
     "metadata": {},
     "output_type": "display_data"
    },
    {
     "data": {
      "text/html": [
       "<pre>| 2       | 54.049ms     | 0.801063          | 0.895015              | 0.232267    |</pre>"
      ],
      "text/plain": [
       "| 2       | 54.049ms     | 0.801063          | 0.895015              | 0.232267    |"
      ]
     },
     "metadata": {},
     "output_type": "display_data"
    },
    {
     "data": {
      "text/html": [
       "<pre>| 3       | 65.057ms     | 0.509942          | 0.714097              | 0.171364    |</pre>"
      ],
      "text/plain": [
       "| 3       | 65.057ms     | 0.509942          | 0.714097              | 0.171364    |"
      ]
     },
     "metadata": {},
     "output_type": "display_data"
    },
    {
     "data": {
      "text/html": [
       "<pre>| 4       | 71.063ms     | 0.323693          | 0.568935              | 0.116134    |</pre>"
      ],
      "text/plain": [
       "| 4       | 71.063ms     | 0.323693          | 0.568935              | 0.116134    |"
      ]
     },
     "metadata": {},
     "output_type": "display_data"
    },
    {
     "data": {
      "text/html": [
       "<pre>| 5       | 89.081ms     | 0.222969          | 0.472189              | 0.098237    |</pre>"
      ],
      "text/plain": [
       "| 5       | 89.081ms     | 0.222969          | 0.472189              | 0.098237    |"
      ]
     },
     "metadata": {},
     "output_type": "display_data"
    },
    {
     "data": {
      "text/html": [
       "<pre>| 6       | 115.104ms    | 0.163442          | 0.404271              | 0.0856819   |</pre>"
      ],
      "text/plain": [
       "| 6       | 115.104ms    | 0.163442          | 0.404271              | 0.0856819   |"
      ]
     },
     "metadata": {},
     "output_type": "display_data"
    },
    {
     "data": {
      "text/html": [
       "<pre>| 11      | 248.227ms    | 0.0531758         | 0.230573              | 0.0543824   |</pre>"
      ],
      "text/plain": [
       "| 11      | 248.227ms    | 0.0531758         | 0.230573              | 0.0543824   |"
      ]
     },
     "metadata": {},
     "output_type": "display_data"
    },
    {
     "data": {
      "text/html": [
       "<pre>| 51      | 1.04s        | 0.00351294        | 0.0591238             | 0.0172117   |</pre>"
      ],
      "text/plain": [
       "| 51      | 1.04s        | 0.00351294        | 0.0591238             | 0.0172117   |"
      ]
     },
     "metadata": {},
     "output_type": "display_data"
    },
    {
     "data": {
      "text/html": [
       "<pre>| 100     | 2.00s        | 0.00107323        | 0.0324822             | 0.0103873   |</pre>"
      ],
      "text/plain": [
       "| 100     | 2.00s        | 0.00107323        | 0.0324822             | 0.0103873   |"
      ]
     },
     "metadata": {},
     "output_type": "display_data"
    },
    {
     "data": {
      "text/html": [
       "<pre>| 101     | 2.01s        | 0.00105451        | 0.0321926             | 0.0103101   |</pre>"
      ],
      "text/plain": [
       "| 101     | 2.01s        | 0.00105451        | 0.0321926             | 0.0103101   |"
      ]
     },
     "metadata": {},
     "output_type": "display_data"
    },
    {
     "data": {
      "text/html": [
       "<pre>+---------+--------------+-------------------+-----------------------+-------------+</pre>"
      ],
      "text/plain": [
       "+---------+--------------+-------------------+-----------------------+-------------+"
      ]
     },
     "metadata": {},
     "output_type": "display_data"
    },
    {
     "data": {
      "text/html": [
       "<pre>Optimization Complete: Convergence on objective within bounds.</pre>"
      ],
      "text/plain": [
       "Optimization Complete: Convergence on objective within bounds."
      ]
     },
     "metadata": {},
     "output_type": "display_data"
    },
    {
     "data": {
      "text/html": [
       "<pre>Computing final objective value and training RMSE.</pre>"
      ],
      "text/plain": [
       "Computing final objective value and training RMSE."
      ]
     },
     "metadata": {},
     "output_type": "display_data"
    },
    {
     "data": {
      "text/html": [
       "<pre>       Final objective value: 0.000344692</pre>"
      ],
      "text/plain": [
       "       Final objective value: 0.000344692"
      ]
     },
     "metadata": {},
     "output_type": "display_data"
    },
    {
     "data": {
      "text/html": [
       "<pre>       Final training RMSE: 0.0180596</pre>"
      ],
      "text/plain": [
       "       Final training RMSE: 0.0180596"
      ]
     },
     "metadata": {},
     "output_type": "display_data"
    },
    {
     "name": "stdout",
     "output_type": "stream",
     "text": [
      "dict_keys(['precision_recall_overall', 'precision_recall_by_user'])\n",
      "+--------+-------------------+------------------+\n",
      "| cutoff |     precision     |      recall      |\n",
      "+--------+-------------------+------------------+\n",
      "|   1    |        0.0        |       0.0        |\n",
      "|   2    |        0.0        |       0.0        |\n",
      "|   3    | 0.000822030415125 | 0.00246609124538 |\n",
      "|   4    | 0.000616522811344 | 0.00246609124538 |\n",
      "|   5    | 0.000493218249075 | 0.00246609124538 |\n",
      "|   6    | 0.000411015207563 | 0.00246609124538 |\n",
      "|   7    | 0.000352298749339 | 0.00246609124538 |\n",
      "|   8    | 0.000308261405672 | 0.00246609124538 |\n",
      "|   9    | 0.000274010138375 | 0.00246609124538 |\n",
      "|   10   | 0.000246609124538 | 0.00246609124538 |\n",
      "+--------+-------------------+------------------+\n",
      "[18 rows x 3 columns]\n",
      "Note: Only the head of the SFrame is printed.\n",
      "You can use print_rows(num_rows=m, num_columns=n) to print more rows and columns.\n",
      "0.00558227966752\n"
     ]
    }
   ],
   "source": [
    "## using recommender system lsa or svd\n",
    "\n",
    "# outF = open(\"cross_val_score.txt\", \"w\")\n",
    "\n",
    "## random seed 22 is good.\n",
    "shuffletrain = gl.cross_validation.shuffle(train, random_seed=22)\n",
    "\n",
    "# for train, valid in folds:\n",
    "model = gl.recommender.factorization_recommender.create(observation_data=train,\n",
    "                                                        user_id=\"reviewerID\",\n",
    "                                                        item_id=\"asin\",\n",
    "                                                        target=\"overall\",\n",
    "                                                        num_factors=50, \n",
    "                                                        nmf=0, max_iterations=300,\n",
    "                                                        solver='sgd',\n",
    "                                                        verbose=1)\n",
    "    \n",
    "# print >> outF, model['coefficients']\n",
    "# # view = model.views.overview(validation_set=)\n",
    "# print >> outF, model.evaluate_precision_recall(dataset=valid)\n",
    "# print >> outF, model.evaluate_rmse(valid, target='overall')\n",
    "# print >> outF, \"balibalibalibalibalibalibbalibbalibbalibalibali\"\n",
    "\n",
    "# out_rmse = model.evaluate_rmse(dataset=test, target='overall')\n",
    "out_pr = model.evaluate_precision_recall(dataset=test, verbose=1)\n",
    "print(out_pr.viewkeys())\n",
    "print(out_pr['precision_recall_by_user'])\n",
    "print(out_pr['precision_recall_overall']['precision'].sum())\n",
    "# model.show()\n",
    "\n",
    "\n",
    "# outF.close()"
   ]
  },
  {
   "cell_type": "code",
   "execution_count": 6,
   "metadata": {},
   "outputs": [
    {
     "name": "stderr",
     "output_type": "stream",
     "text": [
      "[INFO] graphlab.deploy.job: Validating job.\n",
      "[INFO] graphlab.deploy.job: Creating a LocalAsync environment called 'async'.\n",
      "[INFO] graphlab.deploy.map_job: Validation complete. Job: 'Cross-Validation-Jun-22-2018-21-58-36-806000-87955429' ready for execution\n",
      "[INFO] graphlab.deploy.map_job: Job: 'Cross-Validation-Jun-22-2018-21-58-36-806000-87955429' scheduled.\n",
      "[INFO] graphlab.deploy._job: Waiting for job to finish, this may take quite a while.\n",
      "[INFO] graphlab.deploy._job: You may CTRL-C to stop this command and it will not cancel your job.\n"
     ]
    },
    {
     "name": "stdout",
     "output_type": "stream",
     "text": [
      "OrderedDict([('models', None), ('summary', Columns:\n",
      "\tparameters\tfloat\n",
      "\tmetric\tfloat\n",
      "\tmetadata\tfloat\n",
      "\n",
      "Rows: 0\n",
      "\n",
      "Data:\n",
      "\t[])])\n"
     ]
    }
   ],
   "source": [
    "# params = dict([('target', 'overall'),('observation_data', 'train'),('user_id', \"reviewerID\"),('item_id', \"asin\"),('target', \"overall\"),\n",
    "#                                                 ('num_factors', 10),('solver', 'als'),('verbose', '1')])\n",
    "\n",
    "# def evaluator1(model, train, valid):\n",
    "#     targets = valid['overall']\n",
    "#     return graphlab.evaluation.f1_score(targets, predictions,average = 'micro')\n",
    "\n",
    "# job = gl.cross_validation.cross_val_score(folds,gl.recommender.factorization_recommender.create,params, evaluator=evaluator1)\n",
    "# # # print >> outF, job.get_results()\n",
    "\n",
    "# print(job.get_results())\n",
    "# outF.close()"
   ]
  },
  {
   "cell_type": "code",
   "execution_count": 7,
   "metadata": {},
   "outputs": [],
   "source": [
    "# recs = model.recommend(users=[\"AFNCXMCX7VZWH\"])"
   ]
  },
  {
   "cell_type": "code",
   "execution_count": 23,
   "metadata": {
    "scrolled": false
   },
   "outputs": [
    {
     "data": {
      "image/png": "[encoded data removed]",
      "text/plain": [
       "<Figure size 720x720 with 1 Axes>"
      ]
     },
     "metadata": {},
     "output_type": "display_data"
    }
   ],
   "source": [
    "# coeff = model['coefficients']['reviewerID']['factors']\n",
    "\n",
    "# python method list\n",
    "methods = [method_name for method_name in dir(model) if callable(getattr(model, method_name))]\n",
    "# print(coeff)\n",
    "\n",
    "# print(model.summary)\n",
    "\n",
    "userPitem = model.get_num_users_per_item()\n",
    "itemPuser = model.get_num_items_per_user()\n",
    "\n",
    "userPitem = userPitem.to_dataframe()\n",
    "itemPuser = itemPuser.to_dataframe()\n",
    "\n",
    "# itemPuser = itemPuser.sort_values(\"num_items\", ascending=False, kind='mergesort')\n",
    "userPitem = userPitem.sort_values(\"num_users\", ascending=False, kind='mergesort')\n",
    "# print(itemPuser)\n",
    "\n",
    "# sb.barplot(userPitem['asin'], userPitem['num_users']) #Variable Plot\n",
    "\n",
    "plt.figure(figsize=(10,10))\n",
    "# sb.barplot(y='reviewerID', x='num_items', data=itemPuser.head(50))\n",
    "sb.barplot(y='asin', x='num_users', data=userPitem.head(50))\n",
    "sb.despine()"
   ]
  },
  {
   "cell_type": "code",
   "execution_count": null,
   "metadata": {},
   "outputs": [],
   "source": [
    "# using topic modelling\n",
    "\n",
    "textdata1 = reviews['reviewText']\n",
    "\n",
    "# texttrain, texttest = train_test_split(textdata1, test_size = 0.2)\n",
    "# reviewfolds = gl.cross_validation.KFold(textdata1, 10)\n",
    "# texttrain, texttest = reviewfolds[1]\n",
    "\n",
    "review_docs = gl.text_analytics.count_words(textdata1)\n",
    "review_docs = review_docs.dict_trim_by_keys(gl.text_analytics.stopwords(), exclude=True)\n",
    "\n",
    "texttrain, texttest = gl.text_analytics.random_split(review_docs, prob=0.4)\n",
    "\n",
    "# review_test = gl.text_analytics.count_words(texttest)\n",
    "# review_test = review_docs.dict_trim_by_keys(gl.text_analytics.stopwords(), exclude=True)\n",
    "\n",
    "# gl.text_analytics.trim_rare_words()\n",
    "\n",
    "# texttrainframe = texttrain.to_dataframe()\n",
    "\n",
    "# series = texttrainframe.iloc[:,0]\n",
    "# listseries = []\n",
    "# for i in series:\n",
    "#     listseries.append(i)\n",
    "    \n",
    "# listseries\n",
    "    \n",
    "# # series2 = gl.SArray(listseries, dtype=dict)\n",
    "# type(texttrainframe)\n",
    "\n",
    "\n",
    "# texttrain = series2.to_dict()\n",
    "# texttrain = series2.to_dict()\n",
    "\n",
    "\n",
    "\n",
    "lda = gl.topic_model.create(dataset=texttrain, validation_set=texttest, num_topics=100, num_iterations=200, verbose=1)\n",
    "\n",
    "lda\n"
   ]
  },
  {
   "cell_type": "code",
   "execution_count": null,
   "metadata": {},
   "outputs": [],
   "source": [
    "lda.get_topics()"
   ]
  }
 ],
 "metadata": {
  "kernelspec": {
   "display_name": "Python [conda env:graphlab]",
   "language": "python",
   "name": "conda-env-graphlab-py"
  },
  "language_info": {
   "codemirror_mode": {
    "name": "ipython",
    "version": 2
   },
   "file_extension": ".py",
   "mimetype": "text/x-python",
   "name": "python",
   "nbconvert_exporter": "python",
   "pygments_lexer": "ipython2",
   "version": "2.7.14"
  }
 },
 "nbformat": 4,
 "nbformat_minor": 2
}
