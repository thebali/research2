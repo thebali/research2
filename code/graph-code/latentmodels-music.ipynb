{
 "cells": [
  {
   "cell_type": "code",
   "execution_count": 1,
   "metadata": {},
   "outputs": [],
   "source": [
    "import graphlab as gl\n",
    "\n",
    "from sklearn.model_selection import train_test_split\n",
    "from scipy.sparse import csr_matrix\n",
    "\n",
    "import pandas as pd\n",
    "import numpy as np"
   ]
  },
  {
   "cell_type": "code",
   "execution_count": 2,
   "metadata": {},
   "outputs": [
    {
     "name": "stdout",
     "output_type": "stream",
     "text": [
      "This non-commercial license of GraphLab Create for academic use is assigned to rahulbali.mecse16@pec.edu.in and will expire on November 23, 2018.\n"
     ]
    },
    {
     "name": "stderr",
     "output_type": "stream",
     "text": [
      "[INFO] graphlab.cython.cy_server: GraphLab Create v2.1 started. Logging: C:\\Users\\cramdog\\AppData\\Local\\Temp\\graphlab_server_1529165614.log.0\n"
     ]
    },
    {
     "data": {
      "text/html": [
       "<pre>Finished parsing file E:\\ACADEMICS\\PEC---\\ME 4 SEM\\code\\graph-code\\dataset\\amazon5core\\digitalmusic\\10ksample.csv</pre>"
      ],
      "text/plain": [
       "Finished parsing file E:\\ACADEMICS\\PEC---\\ME 4 SEM\\code\\graph-code\\dataset\\amazon5core\\digitalmusic\\10ksample.csv"
      ]
     },
     "metadata": {},
     "output_type": "display_data"
    },
    {
     "data": {
      "text/html": [
       "<pre>Parsing completed. Parsed 10000 lines in 0.223204 secs.</pre>"
      ],
      "text/plain": [
       "Parsing completed. Parsed 10000 lines in 0.223204 secs."
      ]
     },
     "metadata": {},
     "output_type": "display_data"
    }
   ],
   "source": [
    "musicdata = \"./dataset/amazon5core/digitalmusic/10ksample.csv\"\n",
    "healthdata = \"./dataset/amazon5core/healthcare/10ksample.csv\"\n",
    "\n",
    "# loading data using gl\n",
    "musicsf = gl.SFrame.read_csv(musicdata, delimiter=\",\",\n",
    "                             usecols=[\"asin\",\"reviewerID\",\"overall\",\"reviewText\"],\n",
    "                             column_type_hints=[str, str, int, str])\n",
    "\n",
    "# healthsf = gl.SFrame.read_csv(healthdata, delimiter=\",\",\n",
    "#                               usecols=[\"asin\",\"reviewerID\",\"overall\",\"reviewText\"],\n",
    "#                               column_type_hints=[str, str, int, str])"
   ]
  },
  {
   "cell_type": "code",
   "execution_count": 3,
   "metadata": {},
   "outputs": [],
   "source": [
    "# divide the review and rating data\n",
    "ratings = musicsf[[\"asin\", \"reviewerID\", \"overall\"]]\n",
    "reviews = musicsf[[\"asin\", \"reviewerID\", \"reviewText\"]]\n",
    "\n",
    "\n",
    "# ratings = healthsf[[\"asin\", \"reviewerID\", \"overall\"]]\n",
    "# reviews = healthsf[[\"asin\", \"reviewerID\", \"reviewText\"]]\n",
    "\n",
    "# train, test = gl.recommender.util.random_split_by_user(dataset=ratings,item_id=\"asin\",user_id=\"reviewerID\",max_num_users=100)\n",
    "\n",
    "## cross validation structure\n",
    "folds = gl.cross_validation.KFold(ratings, 10)\n"
   ]
  },
  {
   "cell_type": "code",
   "execution_count": 4,
   "metadata": {},
   "outputs": [],
   "source": [
    "## using recommender system lsa or svd\n",
    "\n",
    "outF = open(\"cross_val_score.txt\", \"w\")\n",
    "\n",
    "for train, valid in folds:\n",
    "    model = gl.recommender.factorization_recommender.create(observation_data=train,\n",
    "                                                              user_id=\"reviewerID\",\n",
    "                                                              item_id=\"asin\",\n",
    "                                                              target=\"overall\",\n",
    "                                                              num_factors=10,\n",
    "                                                              solver='als',\n",
    "                                                              verbose=1)\n",
    "    \n",
    "#     print >> outF, model['coefficients']\n",
    "#     # view = model.views.overview(validation_set=)\n",
    "#     print >> outF, model.evaluate_precision_recall(dataset=valid)\n",
    "#     print >> outF, model.evaluate_rmse(valid, target='overall')\n",
    "#     print >> outF, \"balibalibalibalibalibalibbalibbalibbalibalibali\"\n",
    "\n",
    "outF.close()"
   ]
  },
  {
   "cell_type": "code",
   "execution_count": 6,
   "metadata": {},
   "outputs": [
    {
     "name": "stderr",
     "output_type": "stream",
     "text": [
      "[INFO] graphlab.deploy.job: Validating job.\n",
      "[INFO] graphlab.deploy.map_job: Validation complete. Job: 'Cross-Validation-Jun-16-2018-21-45-44-759000--9530059' ready for execution\n",
      "[INFO] graphlab.deploy.map_job: Job: 'Cross-Validation-Jun-16-2018-21-45-44-759000--9530059' scheduled.\n",
      "[INFO] graphlab.deploy._job: Waiting for job to finish, this may take quite a while.\n",
      "[INFO] graphlab.deploy._job: You may CTRL-C to stop this command and it will not cancel your job.\n"
     ]
    },
    {
     "name": "stdout",
     "output_type": "stream",
     "text": [
      "OrderedDict([('models', None), ('summary', Columns:\n",
      "\tparameters\tfloat\n",
      "\tmetric\tfloat\n",
      "\tmetadata\tfloat\n",
      "\n",
      "Rows: 0\n",
      "\n",
      "Data:\n",
      "\t[])])\n"
     ]
    }
   ],
   "source": [
    "# params = dict([('target', 'overall'),('observation_data', 'train'),('user_id', \"reviewerID\"),('item_id', \"asin\"),('target', \"overall\"),\n",
    "#                                                 ('num_factors', 10),('solver', 'als'),('verbose', '1')])\n",
    "\n",
    "# def evaluator(model, train, valid):\n",
    "#     targets = valid['overall']\n",
    "#     graphlab.evaluation.f1_score(targets, predictions,average = 'micro')\n",
    "\n",
    "# job = gl.cross_validation.cross_val_score(folds,gl.recommender.factorization_recommender.create,params, )\n",
    "# # print >> outF, job.get_results()\n",
    "\n",
    "# print(job.get_results())\n",
    "# outF.close()"
   ]
  },
  {
   "cell_type": "code",
   "execution_count": null,
   "metadata": {},
   "outputs": [],
   "source": [
    "recs = model.recommend(users=[\"AFNCXMCX7VZWH\"])\n",
    "recs"
   ]
  },
  {
   "cell_type": "code",
   "execution_count": null,
   "metadata": {
    "scrolled": false
   },
   "outputs": [],
   "source": []
  },
  {
   "cell_type": "code",
   "execution_count": null,
   "metadata": {},
   "outputs": [],
   "source": [
    ">>> x = gl.cross_validation.shuffle(sf)\n",
    "\n",
    "## simple structural results \n",
    ">>> url = 'https://static.turi.com/datasets/xgboost/mushroom.csv'\n",
    ">>> data = gl.SFrame.read_csv(url)\n",
    ">>> data['label'] = (data['label'] == 'p')\n",
    ">>> folds = gl.cross_validation.KFold(data, 5)\n",
    ">>> params = dict([('target', 'label'), ('max_depth', 5)])\n",
    ">>> job = gl.cross_validation.cross_val_score(folds,\n",
    "                                              gl.boosted_trees_classifier.create,\n",
    "                                              params)\n",
    ">>> print job.get_results()\n",
    "\n"
   ]
  },
  {
   "cell_type": "code",
   "execution_count": null,
   "metadata": {},
   "outputs": [],
   "source": []
  },
  {
   "cell_type": "code",
   "execution_count": null,
   "metadata": {},
   "outputs": [],
   "source": [
    "## using topic modelling\n"
   ]
  }
 ],
 "metadata": {
  "kernelspec": {
   "display_name": "Python [conda env:graphlab]",
   "language": "python",
   "name": "conda-env-graphlab-py"
  },
  "language_info": {
   "codemirror_mode": {
    "name": "ipython",
    "version": 2
   },
   "file_extension": ".py",
   "mimetype": "text/x-python",
   "name": "python",
   "nbconvert_exporter": "python",
   "pygments_lexer": "ipython2",
   "version": "2.7.14"
  }
 },
 "nbformat": 4,
 "nbformat_minor": 2
}
