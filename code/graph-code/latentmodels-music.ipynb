{
 "cells": [
  {
   "cell_type": "code",
   "execution_count": 19,
   "metadata": {},
   "outputs": [],
   "source": [
    "import graphlab as gl\n",
    "\n",
    "from sklearn.model_selection import train_test_split\n",
    "from scipy.sparse import csr_matrix\n",
    "\n",
    "import pandas as pd\n",
    "import numpy as np\n",
    "import seaborn as sb"
   ]
  },
  {
   "cell_type": "code",
   "execution_count": 20,
   "metadata": {},
   "outputs": [
    {
     "data": {
      "text/html": [
       "<pre>Finished parsing file E:\\ACADEMICS\\PEC---\\ME 4 SEM\\code\\graph-code\\dataset\\amazon5core\\digitalmusic\\10ksample.csv</pre>"
      ],
      "text/plain": [
       "Finished parsing file E:\\ACADEMICS\\PEC---\\ME 4 SEM\\code\\graph-code\\dataset\\amazon5core\\digitalmusic\\10ksample.csv"
      ]
     },
     "metadata": {},
     "output_type": "display_data"
    },
    {
     "data": {
      "text/html": [
       "<pre>Parsing completed. Parsed 10000 lines in 0.415365 secs.</pre>"
      ],
      "text/plain": [
       "Parsing completed. Parsed 10000 lines in 0.415365 secs."
      ]
     },
     "metadata": {},
     "output_type": "display_data"
    }
   ],
   "source": [
    "musicdata = \"./dataset/amazon5core/digitalmusic/10ksample.csv\"\n",
    "healthdata = \"./dataset/amazon5core/healthcare/10ksample.csv\"\n",
    "\n",
    "# loading data using gl\n",
    "musicsf = gl.SFrame.read_csv(musicdata, delimiter=\",\",\n",
    "                             usecols=[\"asin\",\"reviewerID\",\"overall\",\"reviewText\"],\n",
    "                             column_type_hints=[str, str, int, str])\n",
    "\n",
    "# healthsf = gl.SFrame.read_csv(healthdata, delimiter=\",\",\n",
    "#                               usecols=[\"asin\",\"reviewerID\",\"overall\",\"reviewText\"],\n",
    "#                               column_type_hints=[str, str, int, str])"
   ]
  },
  {
   "cell_type": "code",
   "execution_count": 21,
   "metadata": {},
   "outputs": [],
   "source": [
    "# divide the review and rating data\n",
    "ratings = musicsf[[\"asin\", \"reviewerID\", \"overall\"]]\n",
    "reviews = musicsf[[\"asin\", \"reviewerID\", \"reviewText\"]]\n",
    "\n",
    "\n",
    "# ratings = healthsf[[\"asin\", \"reviewerID\", \"overall\"]]\n",
    "# reviews = healthsf[[\"asin\", \"reviewerID\", \"reviewText\"]]\n",
    "\n",
    "# train, test = gl.recommender.util.random_split_by_user(dataset=ratings,item_id=\"asin\",user_id=\"reviewerID\",max_num_users=100)\n",
    "\n",
    "## cross validation structure\n",
    "folds = gl.cross_validation.KFold(ratings, 10)\n",
    "train, test = folds[3]\n"
   ]
  },
  {
   "cell_type": "code",
   "execution_count": 22,
   "metadata": {},
   "outputs": [
    {
     "name": "stdout",
     "output_type": "stream",
     "text": [
      "Canvas is updated and available in a tab in the default browser.\n"
     ]
    }
   ],
   "source": [
    "train.show()\n",
    "# gl.canvas.show()"
   ]
  },
  {
   "cell_type": "code",
   "execution_count": 23,
   "metadata": {},
   "outputs": [
    {
     "data": {
      "text/html": [
       "<pre>Recsys training: model = factorization_recommender</pre>"
      ],
      "text/plain": [
       "Recsys training: model = factorization_recommender"
      ]
     },
     "metadata": {},
     "output_type": "display_data"
    },
    {
     "data": {
      "text/html": [
       "<pre>Preparing data set.</pre>"
      ],
      "text/plain": [
       "Preparing data set."
      ]
     },
     "metadata": {},
     "output_type": "display_data"
    },
    {
     "data": {
      "text/html": [
       "<pre>    Data has 9000 observations with 3886 users and 2757 items.</pre>"
      ],
      "text/plain": [
       "    Data has 9000 observations with 3886 users and 2757 items."
      ]
     },
     "metadata": {},
     "output_type": "display_data"
    },
    {
     "data": {
      "text/html": [
       "<pre>    Data prepared in: 0.057052s</pre>"
      ],
      "text/plain": [
       "    Data prepared in: 0.057052s"
      ]
     },
     "metadata": {},
     "output_type": "display_data"
    },
    {
     "data": {
      "text/html": [
       "<pre>Training factorization_recommender for recommendations.</pre>"
      ],
      "text/plain": [
       "Training factorization_recommender for recommendations."
      ]
     },
     "metadata": {},
     "output_type": "display_data"
    },
    {
     "data": {
      "text/html": [
       "<pre>+------------------------------+--------------------------------------------------+----------+</pre>"
      ],
      "text/plain": [
       "+------------------------------+--------------------------------------------------+----------+"
      ]
     },
     "metadata": {},
     "output_type": "display_data"
    },
    {
     "data": {
      "text/html": [
       "<pre>| Parameter                    | Description                                      | Value    |</pre>"
      ],
      "text/plain": [
       "| Parameter                    | Description                                      | Value    |"
      ]
     },
     "metadata": {},
     "output_type": "display_data"
    },
    {
     "data": {
      "text/html": [
       "<pre>+------------------------------+--------------------------------------------------+----------+</pre>"
      ],
      "text/plain": [
       "+------------------------------+--------------------------------------------------+----------+"
      ]
     },
     "metadata": {},
     "output_type": "display_data"
    },
    {
     "data": {
      "text/html": [
       "<pre>| num_factors                  | Factor Dimension                                 | 10       |</pre>"
      ],
      "text/plain": [
       "| num_factors                  | Factor Dimension                                 | 10       |"
      ]
     },
     "metadata": {},
     "output_type": "display_data"
    },
    {
     "data": {
      "text/html": [
       "<pre>| regularization               | L2 Regularization on Factors                     | 1e-008   |</pre>"
      ],
      "text/plain": [
       "| regularization               | L2 Regularization on Factors                     | 1e-008   |"
      ]
     },
     "metadata": {},
     "output_type": "display_data"
    },
    {
     "data": {
      "text/html": [
       "<pre>| max_iterations               | Maximum Number of Iterations                     | 50       |</pre>"
      ],
      "text/plain": [
       "| max_iterations               | Maximum Number of Iterations                     | 50       |"
      ]
     },
     "metadata": {},
     "output_type": "display_data"
    },
    {
     "data": {
      "text/html": [
       "<pre>| solver                       | Solver used for training                         | als      |</pre>"
      ],
      "text/plain": [
       "| solver                       | Solver used for training                         | als      |"
      ]
     },
     "metadata": {},
     "output_type": "display_data"
    },
    {
     "data": {
      "text/html": [
       "<pre>+------------------------------+--------------------------------------------------+----------+</pre>"
      ],
      "text/plain": [
       "+------------------------------+--------------------------------------------------+----------+"
      ]
     },
     "metadata": {},
     "output_type": "display_data"
    },
    {
     "data": {
      "text/html": [
       "<pre>+---------+--------------+------------------------+</pre>"
      ],
      "text/plain": [
       "+---------+--------------+------------------------+"
      ]
     },
     "metadata": {},
     "output_type": "display_data"
    },
    {
     "data": {
      "text/html": [
       "<pre>| Iter.   | Elapsed time | RMSE                   |</pre>"
      ],
      "text/plain": [
       "| Iter.   | Elapsed time | RMSE                   |"
      ]
     },
     "metadata": {},
     "output_type": "display_data"
    },
    {
     "data": {
      "text/html": [
       "<pre>+---------+--------------+------------------------+</pre>"
      ],
      "text/plain": [
       "+---------+--------------+------------------------+"
      ]
     },
     "metadata": {},
     "output_type": "display_data"
    },
    {
     "data": {
      "text/html": [
       "<pre>| Initial | 0us          | NA                     |</pre>"
      ],
      "text/plain": [
       "| Initial | 0us          | NA                     |"
      ]
     },
     "metadata": {},
     "output_type": "display_data"
    },
    {
     "data": {
      "text/html": [
       "<pre>+---------+--------------+------------------------+</pre>"
      ],
      "text/plain": [
       "+---------+--------------+------------------------+"
      ]
     },
     "metadata": {},
     "output_type": "display_data"
    },
    {
     "data": {
      "text/html": [
       "<pre>| 0       | 39.036ms     | 0.349745               |</pre>"
      ],
      "text/plain": [
       "| 0       | 39.036ms     | 0.349745               |"
      ]
     },
     "metadata": {},
     "output_type": "display_data"
    },
    {
     "data": {
      "text/html": [
       "<pre>| 1       | 83.076ms     | 0.05297                |</pre>"
      ],
      "text/plain": [
       "| 1       | 83.076ms     | 0.05297                |"
      ]
     },
     "metadata": {},
     "output_type": "display_data"
    },
    {
     "data": {
      "text/html": [
       "<pre>| 2       | 112.102ms    | 0.0283836              |</pre>"
      ],
      "text/plain": [
       "| 2       | 112.102ms    | 0.0283836              |"
      ]
     },
     "metadata": {},
     "output_type": "display_data"
    },
    {
     "data": {
      "text/html": [
       "<pre>| 3       | 144.131ms    | 0.0454751              |</pre>"
      ],
      "text/plain": [
       "| 3       | 144.131ms    | 0.0454751              |"
      ]
     },
     "metadata": {},
     "output_type": "display_data"
    },
    {
     "data": {
      "text/html": [
       "<pre>| 4       | 171.155ms    | 0.0129784              |</pre>"
      ],
      "text/plain": [
       "| 4       | 171.155ms    | 0.0129784              |"
      ]
     },
     "metadata": {},
     "output_type": "display_data"
    },
    {
     "data": {
      "text/html": [
       "<pre>| 5       | 194.176ms    | 0.0224668              |</pre>"
      ],
      "text/plain": [
       "| 5       | 194.176ms    | 0.0224668              |"
      ]
     },
     "metadata": {},
     "output_type": "display_data"
    },
    {
     "data": {
      "text/html": [
       "<pre>| 6       | 223.203ms    | 0.016775               |</pre>"
      ],
      "text/plain": [
       "| 6       | 223.203ms    | 0.016775               |"
      ]
     },
     "metadata": {},
     "output_type": "display_data"
    },
    {
     "data": {
      "text/html": [
       "<pre>| 7       | 248.225ms    | 0.0422738              |</pre>"
      ],
      "text/plain": [
       "| 7       | 248.225ms    | 0.0422738              |"
      ]
     },
     "metadata": {},
     "output_type": "display_data"
    },
    {
     "data": {
      "text/html": [
       "<pre>| 8       | 274.251ms    | 0.0932605              |</pre>"
      ],
      "text/plain": [
       "| 8       | 274.251ms    | 0.0932605              |"
      ]
     },
     "metadata": {},
     "output_type": "display_data"
    },
    {
     "data": {
      "text/html": [
       "<pre>| 9       | 314.286ms    | 0.337608               |</pre>"
      ],
      "text/plain": [
       "| 9       | 314.286ms    | 0.337608               |"
      ]
     },
     "metadata": {},
     "output_type": "display_data"
    },
    {
     "data": {
      "text/html": [
       "<pre>| 10      | 344.314ms    | 0.258877               |</pre>"
      ],
      "text/plain": [
       "| 10      | 344.314ms    | 0.258877               |"
      ]
     },
     "metadata": {},
     "output_type": "display_data"
    },
    {
     "data": {
      "text/html": [
       "<pre>| 11      | 370.335ms    | 0.143093               |</pre>"
      ],
      "text/plain": [
       "| 11      | 370.335ms    | 0.143093               |"
      ]
     },
     "metadata": {},
     "output_type": "display_data"
    },
    {
     "data": {
      "text/html": [
       "<pre>| 12      | 394.357ms    | 11.7865                |</pre>"
      ],
      "text/plain": [
       "| 12      | 394.357ms    | 11.7865                |"
      ]
     },
     "metadata": {},
     "output_type": "display_data"
    },
    {
     "data": {
      "text/html": [
       "<pre>| 13      | 418.379ms    | 0.25049                |</pre>"
      ],
      "text/plain": [
       "| 13      | 418.379ms    | 0.25049                |"
      ]
     },
     "metadata": {},
     "output_type": "display_data"
    },
    {
     "data": {
      "text/html": [
       "<pre>| 14      | 441.4ms      | 1.66515                |</pre>"
      ],
      "text/plain": [
       "| 14      | 441.4ms      | 1.66515                |"
      ]
     },
     "metadata": {},
     "output_type": "display_data"
    },
    {
     "data": {
      "text/html": [
       "<pre>| 15      | 463.419ms    | 0.38196                |</pre>"
      ],
      "text/plain": [
       "| 15      | 463.419ms    | 0.38196                |"
      ]
     },
     "metadata": {},
     "output_type": "display_data"
    },
    {
     "data": {
      "text/html": [
       "<pre>| 16      | 484.438ms    | 0.491077               |</pre>"
      ],
      "text/plain": [
       "| 16      | 484.438ms    | 0.491077               |"
      ]
     },
     "metadata": {},
     "output_type": "display_data"
    },
    {
     "data": {
      "text/html": [
       "<pre>| 17      | 505.458ms    | 0.264603               |</pre>"
      ],
      "text/plain": [
       "| 17      | 505.458ms    | 0.264603               |"
      ]
     },
     "metadata": {},
     "output_type": "display_data"
    },
    {
     "data": {
      "text/html": [
       "<pre>| 18      | 529.481ms    | 0.337053               |</pre>"
      ],
      "text/plain": [
       "| 18      | 529.481ms    | 0.337053               |"
      ]
     },
     "metadata": {},
     "output_type": "display_data"
    },
    {
     "data": {
      "text/html": [
       "<pre>| 19      | 555.504ms    | 1.12435                |</pre>"
      ],
      "text/plain": [
       "| 19      | 555.504ms    | 1.12435                |"
      ]
     },
     "metadata": {},
     "output_type": "display_data"
    },
    {
     "data": {
      "text/html": [
       "<pre>| 20      | 577.523ms    | 0.681027               |</pre>"
      ],
      "text/plain": [
       "| 20      | 577.523ms    | 0.681027               |"
      ]
     },
     "metadata": {},
     "output_type": "display_data"
    },
    {
     "data": {
      "text/html": [
       "<pre>| 21      | 599.543ms    | 0.528331               |</pre>"
      ],
      "text/plain": [
       "| 21      | 599.543ms    | 0.528331               |"
      ]
     },
     "metadata": {},
     "output_type": "display_data"
    },
    {
     "data": {
      "text/html": [
       "<pre>| 22      | 623.565ms    | 0.548635               |</pre>"
      ],
      "text/plain": [
       "| 22      | 623.565ms    | 0.548635               |"
      ]
     },
     "metadata": {},
     "output_type": "display_data"
    },
    {
     "data": {
      "text/html": [
       "<pre>| 23      | 649.588ms    | 0.376478               |</pre>"
      ],
      "text/plain": [
       "| 23      | 649.588ms    | 0.376478               |"
      ]
     },
     "metadata": {},
     "output_type": "display_data"
    },
    {
     "data": {
      "text/html": [
       "<pre>| 24      | 671.608ms    | 0.642767               |</pre>"
      ],
      "text/plain": [
       "| 24      | 671.608ms    | 0.642767               |"
      ]
     },
     "metadata": {},
     "output_type": "display_data"
    },
    {
     "data": {
      "text/html": [
       "<pre>| 25      | 694.629ms    | 0.598483               |</pre>"
      ],
      "text/plain": [
       "| 25      | 694.629ms    | 0.598483               |"
      ]
     },
     "metadata": {},
     "output_type": "display_data"
    },
    {
     "data": {
      "text/html": [
       "<pre>| 26      | 722.655ms    | 0.301959               |</pre>"
      ],
      "text/plain": [
       "| 26      | 722.655ms    | 0.301959               |"
      ]
     },
     "metadata": {},
     "output_type": "display_data"
    },
    {
     "data": {
      "text/html": [
       "<pre>| 27      | 747.677ms    | 0.473505               |</pre>"
      ],
      "text/plain": [
       "| 27      | 747.677ms    | 0.473505               |"
      ]
     },
     "metadata": {},
     "output_type": "display_data"
    },
    {
     "data": {
      "text/html": [
       "<pre>| 28      | 775.703ms    | 0.540016               |</pre>"
      ],
      "text/plain": [
       "| 28      | 775.703ms    | 0.540016               |"
      ]
     },
     "metadata": {},
     "output_type": "display_data"
    },
    {
     "data": {
      "text/html": [
       "<pre>| 29      | 798.726ms    | 0.303415               |</pre>"
      ],
      "text/plain": [
       "| 29      | 798.726ms    | 0.303415               |"
      ]
     },
     "metadata": {},
     "output_type": "display_data"
    },
    {
     "data": {
      "text/html": [
       "<pre>| 30      | 830.76ms     | 0.361924               |</pre>"
      ],
      "text/plain": [
       "| 30      | 830.76ms     | 0.361924               |"
      ]
     },
     "metadata": {},
     "output_type": "display_data"
    },
    {
     "data": {
      "text/html": [
       "<pre>| 31      | 853.774ms    | 0.526754               |</pre>"
      ],
      "text/plain": [
       "| 31      | 853.774ms    | 0.526754               |"
      ]
     },
     "metadata": {},
     "output_type": "display_data"
    },
    {
     "data": {
      "text/html": [
       "<pre>| 32      | 878.798ms    | 0.513501               |</pre>"
      ],
      "text/plain": [
       "| 32      | 878.798ms    | 0.513501               |"
      ]
     },
     "metadata": {},
     "output_type": "display_data"
    },
    {
     "data": {
      "text/html": [
       "<pre>| 33      | 908.824ms    | 0.457805               |</pre>"
      ],
      "text/plain": [
       "| 33      | 908.824ms    | 0.457805               |"
      ]
     },
     "metadata": {},
     "output_type": "display_data"
    },
    {
     "data": {
      "text/html": [
       "<pre>| 34      | 944.86ms     | 0.468972               |</pre>"
      ],
      "text/plain": [
       "| 34      | 944.86ms     | 0.468972               |"
      ]
     },
     "metadata": {},
     "output_type": "display_data"
    },
    {
     "data": {
      "text/html": [
       "<pre>| 35      | 978.887ms    | 0.426817               |</pre>"
      ],
      "text/plain": [
       "| 35      | 978.887ms    | 0.426817               |"
      ]
     },
     "metadata": {},
     "output_type": "display_data"
    },
    {
     "data": {
      "text/html": [
       "<pre>| 36      | 1.00s        | 0.438581               |</pre>"
      ],
      "text/plain": [
       "| 36      | 1.00s        | 0.438581               |"
      ]
     },
     "metadata": {},
     "output_type": "display_data"
    },
    {
     "data": {
      "text/html": [
       "<pre>| 37      | 1.03s        | 0.424933               |</pre>"
      ],
      "text/plain": [
       "| 37      | 1.03s        | 0.424933               |"
      ]
     },
     "metadata": {},
     "output_type": "display_data"
    },
    {
     "data": {
      "text/html": [
       "<pre>| 38      | 1.05s        | 0.695378               |</pre>"
      ],
      "text/plain": [
       "| 38      | 1.05s        | 0.695378               |"
      ]
     },
     "metadata": {},
     "output_type": "display_data"
    },
    {
     "data": {
      "text/html": [
       "<pre>| 39      | 1.07s        | 0.463117               |</pre>"
      ],
      "text/plain": [
       "| 39      | 1.07s        | 0.463117               |"
      ]
     },
     "metadata": {},
     "output_type": "display_data"
    },
    {
     "data": {
      "text/html": [
       "<pre>| 40      | 1.10s        | 0.334149               |</pre>"
      ],
      "text/plain": [
       "| 40      | 1.10s        | 0.334149               |"
      ]
     },
     "metadata": {},
     "output_type": "display_data"
    },
    {
     "data": {
      "text/html": [
       "<pre>| 41      | 1.13s        | 0.222741               |</pre>"
      ],
      "text/plain": [
       "| 41      | 1.13s        | 0.222741               |"
      ]
     },
     "metadata": {},
     "output_type": "display_data"
    },
    {
     "data": {
      "text/html": [
       "<pre>| 42      | 1.17s        | 0.394575               |</pre>"
      ],
      "text/plain": [
       "| 42      | 1.17s        | 0.394575               |"
      ]
     },
     "metadata": {},
     "output_type": "display_data"
    },
    {
     "data": {
      "text/html": [
       "<pre>| 43      | 1.19s        | 0.252296               |</pre>"
      ],
      "text/plain": [
       "| 43      | 1.19s        | 0.252296               |"
      ]
     },
     "metadata": {},
     "output_type": "display_data"
    },
    {
     "data": {
      "text/html": [
       "<pre>| 44      | 1.21s        | 0.406524               |</pre>"
      ],
      "text/plain": [
       "| 44      | 1.21s        | 0.406524               |"
      ]
     },
     "metadata": {},
     "output_type": "display_data"
    },
    {
     "data": {
      "text/html": [
       "<pre>| 45      | 1.23s        | 0.245089               |</pre>"
      ],
      "text/plain": [
       "| 45      | 1.23s        | 0.245089               |"
      ]
     },
     "metadata": {},
     "output_type": "display_data"
    },
    {
     "data": {
      "text/html": [
       "<pre>| 46      | 1.26s        | 0.295003               |</pre>"
      ],
      "text/plain": [
       "| 46      | 1.26s        | 0.295003               |"
      ]
     },
     "metadata": {},
     "output_type": "display_data"
    },
    {
     "data": {
      "text/html": [
       "<pre>| 47      | 1.28s        | 0.469223               |</pre>"
      ],
      "text/plain": [
       "| 47      | 1.28s        | 0.469223               |"
      ]
     },
     "metadata": {},
     "output_type": "display_data"
    },
    {
     "data": {
      "text/html": [
       "<pre>| 48      | 1.30s        | 0.272964               |</pre>"
      ],
      "text/plain": [
       "| 48      | 1.30s        | 0.272964               |"
      ]
     },
     "metadata": {},
     "output_type": "display_data"
    },
    {
     "data": {
      "text/html": [
       "<pre>| 49      | 1.32s        | 0.216235               |</pre>"
      ],
      "text/plain": [
       "| 49      | 1.32s        | 0.216235               |"
      ]
     },
     "metadata": {},
     "output_type": "display_data"
    },
    {
     "data": {
      "text/html": [
       "<pre>| FINAL   | 1.32s        | 0.216235               |</pre>"
      ],
      "text/plain": [
       "| FINAL   | 1.32s        | 0.216235               |"
      ]
     },
     "metadata": {},
     "output_type": "display_data"
    },
    {
     "data": {
      "text/html": [
       "<pre>+---------+--------------+------------------------+</pre>"
      ],
      "text/plain": [
       "+---------+--------------+------------------------+"
      ]
     },
     "metadata": {},
     "output_type": "display_data"
    },
    {
     "data": {
      "text/html": [
       "<pre>Optimization Complete: Iteration limit reached.</pre>"
      ],
      "text/plain": [
       "Optimization Complete: Iteration limit reached."
      ]
     },
     "metadata": {},
     "output_type": "display_data"
    },
    {
     "name": "stdout",
     "output_type": "stream",
     "text": [
      "{'rmse_by_user': Columns:\n",
      "\treviewerID\tstr\n",
      "\tcount\tint\n",
      "\trmse\tfloat\n",
      "\n",
      "Rows: 811\n",
      "\n",
      "Data:\n",
      "+----------------+-------+---------------+\n",
      "|   reviewerID   | count |      rmse     |\n",
      "+----------------+-------+---------------+\n",
      "| A201HVK6NWJJER |   1   | 4.99834889721 |\n",
      "| AWCJ12KBO5VII  |   1   |      4.0      |\n",
      "| AGRUNN58UZPY1  |   1   |      5.0      |\n",
      "| ACE57M02TNPJW  |   1   | 3.00854017586 |\n",
      "| A3INN916E4VION |   1   |      5.0      |\n",
      "| A21AMFQK5SGWTC |   1   |      5.0      |\n",
      "| A3CN9CCJUNIPKT |   1   |  5.0000000393 |\n",
      "| AFTN9ZLB22PSZ  |   1   |      4.0      |\n",
      "| A8LVAO2H29WII  |   1   |      5.0      |\n",
      "| ADTAINNCOFYYQ  |   1   |      1.0      |\n",
      "+----------------+-------+---------------+\n",
      "[811 rows x 3 columns]\n",
      "Note: Only the head of the SFrame is printed.\n",
      "You can use print_rows(num_rows=m, num_columns=n) to print more rows and columns., 'rmse_by_item': Columns:\n",
      "\tasin\tstr\n",
      "\tcount\tint\n",
      "\trmse\tfloat\n",
      "\n",
      "Rows: 772\n",
      "\n",
      "Data:\n",
      "+------------+-------+---------------+\n",
      "|    asin    | count |      rmse     |\n",
      "+------------+-------+---------------+\n",
      "| B000001FC0 |   2   | 96.4508581359 |\n",
      "| B0013FDTYA |   2   | 4.19470206114 |\n",
      "| B00000HZG9 |   2   | 6.72164068732 |\n",
      "| B00008VOQM |   1   | 4.01202554349 |\n",
      "| B00006IU73 |   1   | 106.750007629 |\n",
      "| B0007NFL18 |   6   | 3.23508021118 |\n",
      "| B0000C0FKA |   3   | 327.483268625 |\n",
      "| B0007QS4TQ |   2   | 2.91547594742 |\n",
      "| B00000D9W1 |   1   | 3.21055102348 |\n",
      "| B000002KME |   1   |      2.0      |\n",
      "+------------+-------+---------------+\n",
      "[772 rows x 3 columns]\n",
      "Note: Only the head of the SFrame is printed.\n",
      "You can use print_rows(num_rows=m, num_columns=n) to print more rows and columns., 'rmse_overall': 760.7151359480418}\n",
      "Canvas is updated and available in a tab in the default browser.\n"
     ]
    }
   ],
   "source": [
    "## using recommender system lsa or svd\n",
    "\n",
    "# outF = open(\"cross_val_score.txt\", \"w\")\n",
    "\n",
    "\n",
    "shuffletrain = gl.cross_validation.shuffle(train, random_seed=23)\n",
    "\n",
    "# for train, valid in folds:\n",
    "model = gl.recommender.factorization_recommender.create(observation_data=train,\n",
    "                                                        user_id=\"reviewerID\",\n",
    "                                                        item_id=\"asin\",\n",
    "                                                        target=\"overall\",\n",
    "                                                        num_factors=10, \n",
    "                                                        nmf=1,\n",
    "                                                        solver='als',\n",
    "                                                        verbose=1)\n",
    "    \n",
    "# print >> outF, model['coefficients']\n",
    "# # view = model.views.overview(validation_set=)\n",
    "# print >> outF, model.evaluate_precision_recall(dataset=valid)\n",
    "# print >> outF, model.evaluate_rmse(valid, target='overall')\n",
    "# print >> outF, \"balibalibalibalibalibalibbalibbalibbalibalibali\"\n",
    "\n",
    "out_rmse = model.evaluate_rmse(test, target='overall')\n",
    "print(out_rmse)\n",
    "model.show()\n",
    "\n",
    "\n",
    "# outF.close()"
   ]
  },
  {
   "cell_type": "code",
   "execution_count": 24,
   "metadata": {},
   "outputs": [],
   "source": [
    "# params = dict([('target', 'overall'),('observation_data', 'train'),('user_id', \"reviewerID\"),('item_id', \"asin\"),('target', \"overall\"),\n",
    "#                                                 ('num_factors', 10),('solver', 'als'),('verbose', '1')])\n",
    "\n",
    "# def evaluator(model, train, valid):\n",
    "#     targets = valid['overall']\n",
    "#     graphlab.evaluation.f1_score(targets, predictions,average = 'micro')\n",
    "\n",
    "# job = gl.cross_validation.cross_val_score(folds,gl.recommender.factorization_recommender.create,params, )\n",
    "# # print >> outF, job.get_results()\n",
    "\n",
    "# print(job.get_results())\n",
    "# outF.close()"
   ]
  },
  {
   "cell_type": "code",
   "execution_count": 25,
   "metadata": {},
   "outputs": [],
   "source": [
    "# recs = model.recommend(users=[\"AFNCXMCX7VZWH\"])"
   ]
  },
  {
   "cell_type": "code",
   "execution_count": 26,
   "metadata": {
    "scrolled": false
   },
   "outputs": [],
   "source": [
    "# sns.violinplot(df['Age'], df['Gender']) #Variable Plot\n",
    "# sns.despine()"
   ]
  },
  {
   "cell_type": "code",
   "execution_count": 38,
   "metadata": {},
   "outputs": [
    {
     "data": {
      "text/html": [
       "<pre>Learning a topic model</pre>"
      ],
      "text/plain": [
       "Learning a topic model"
      ]
     },
     "metadata": {},
     "output_type": "display_data"
    },
    {
     "data": {
      "text/html": [
       "<pre>       Number of documents     10000</pre>"
      ],
      "text/plain": [
       "       Number of documents     10000"
      ]
     },
     "metadata": {},
     "output_type": "display_data"
    },
    {
     "data": {
      "text/html": [
       "<pre>           Vocabulary size    101417</pre>"
      ],
      "text/plain": [
       "           Vocabulary size    101417"
      ]
     },
     "metadata": {},
     "output_type": "display_data"
    },
    {
     "data": {
      "text/html": [
       "<pre>   Running collapsed Gibbs sampling</pre>"
      ],
      "text/plain": [
       "   Running collapsed Gibbs sampling"
      ]
     },
     "metadata": {},
     "output_type": "display_data"
    },
    {
     "data": {
      "text/html": [
       "<pre>+-----------+---------------+----------------+-----------------+</pre>"
      ],
      "text/plain": [
       "+-----------+---------------+----------------+-----------------+"
      ]
     },
     "metadata": {},
     "output_type": "display_data"
    },
    {
     "data": {
      "text/html": [
       "<pre>| Iteration | Elapsed Time  | Tokens/Second  | Est. Perplexity |</pre>"
      ],
      "text/plain": [
       "| Iteration | Elapsed Time  | Tokens/Second  | Est. Perplexity |"
      ]
     },
     "metadata": {},
     "output_type": "display_data"
    },
    {
     "data": {
      "text/html": [
       "<pre>+-----------+---------------+----------------+-----------------+</pre>"
      ],
      "text/plain": [
       "+-----------+---------------+----------------+-----------------+"
      ]
     },
     "metadata": {},
     "output_type": "display_data"
    },
    {
     "data": {
      "text/html": [
       "<pre>| 10        | 3.38s         | 3.07041e+006   | 14576.6         |</pre>"
      ],
      "text/plain": [
       "| 10        | 3.38s         | 3.07041e+006   | 14576.6         |"
      ]
     },
     "metadata": {},
     "output_type": "display_data"
    },
    {
     "data": {
      "text/html": [
       "<pre>| 20        | 6.43s         | 3.08891e+006   | 14485.3         |</pre>"
      ],
      "text/plain": [
       "| 20        | 6.43s         | 3.08891e+006   | 14485.3         |"
      ]
     },
     "metadata": {},
     "output_type": "display_data"
    },
    {
     "data": {
      "text/html": [
       "<pre>| 30        | 9.47s         | 3.14577e+006   | 14369.6         |</pre>"
      ],
      "text/plain": [
       "| 30        | 9.47s         | 3.14577e+006   | 14369.6         |"
      ]
     },
     "metadata": {},
     "output_type": "display_data"
    },
    {
     "data": {
      "text/html": [
       "<pre>| 40        | 12.52s        | 3.12661e+006   | 14294.5         |</pre>"
      ],
      "text/plain": [
       "| 40        | 12.52s        | 3.12661e+006   | 14294.5         |"
      ]
     },
     "metadata": {},
     "output_type": "display_data"
    },
    {
     "data": {
      "text/html": [
       "<pre>| 50        | 15.57s        | 3.03406e+006   | 14241.1         |</pre>"
      ],
      "text/plain": [
       "| 50        | 15.57s        | 3.03406e+006   | 14241.1         |"
      ]
     },
     "metadata": {},
     "output_type": "display_data"
    },
    {
     "data": {
      "text/html": [
       "<pre>| 60        | 18.60s        | 3.05219e+006   | 14205.1         |</pre>"
      ],
      "text/plain": [
       "| 60        | 18.60s        | 3.05219e+006   | 14205.1         |"
      ]
     },
     "metadata": {},
     "output_type": "display_data"
    },
    {
     "data": {
      "text/html": [
       "<pre>| 70        | 21.82s        | 3.18483e+006   | 14193.9         |</pre>"
      ],
      "text/plain": [
       "| 70        | 21.82s        | 3.18483e+006   | 14193.9         |"
      ]
     },
     "metadata": {},
     "output_type": "display_data"
    },
    {
     "data": {
      "text/html": [
       "<pre>| 80        | 24.84s        | 3.10765e+006   | 14143.9         |</pre>"
      ],
      "text/plain": [
       "| 80        | 24.84s        | 3.10765e+006   | 14143.9         |"
      ]
     },
     "metadata": {},
     "output_type": "display_data"
    },
    {
     "data": {
      "text/html": [
       "<pre>| 90        | 27.88s        | 3.08893e+006   | 14146.9         |</pre>"
      ],
      "text/plain": [
       "| 90        | 27.88s        | 3.08893e+006   | 14146.9         |"
      ]
     },
     "metadata": {},
     "output_type": "display_data"
    },
    {
     "data": {
      "text/html": [
       "<pre>| 100       | 30.95s        | 3.14577e+006   | 14078.7         |</pre>"
      ],
      "text/plain": [
       "| 100       | 30.95s        | 3.14577e+006   | 14078.7         |"
      ]
     },
     "metadata": {},
     "output_type": "display_data"
    },
    {
     "data": {
      "text/html": [
       "<pre>| 110       | 33.99s        | 3.05214e+006   | 14103.9         |</pre>"
      ],
      "text/plain": [
       "| 110       | 33.99s        | 3.05214e+006   | 14103.9         |"
      ]
     },
     "metadata": {},
     "output_type": "display_data"
    },
    {
     "data": {
      "text/html": [
       "<pre>| 120       | 37.19s        | 3.08891e+006   | 14103.1         |</pre>"
      ],
      "text/plain": [
       "| 120       | 37.19s        | 3.08891e+006   | 14103.1         |"
      ]
     },
     "metadata": {},
     "output_type": "display_data"
    },
    {
     "data": {
      "text/html": [
       "<pre>| 130       | 40.31s        | 3.14577e+006   | 14099.1         |</pre>"
      ],
      "text/plain": [
       "| 130       | 40.31s        | 3.14577e+006   | 14099.1         |"
      ]
     },
     "metadata": {},
     "output_type": "display_data"
    },
    {
     "data": {
      "text/html": [
       "<pre>| 140       | 43.46s        | 3.05216e+006   | 14115.7         |</pre>"
      ],
      "text/plain": [
       "| 140       | 43.46s        | 3.05216e+006   | 14115.7         |"
      ]
     },
     "metadata": {},
     "output_type": "display_data"
    },
    {
     "data": {
      "text/html": [
       "<pre>| 150       | 46.50s        | 3.08886e+006   | 14066           |</pre>"
      ],
      "text/plain": [
       "| 150       | 46.50s        | 3.08886e+006   | 14066           |"
      ]
     },
     "metadata": {},
     "output_type": "display_data"
    },
    {
     "data": {
      "text/html": [
       "<pre>| 160       | 49.56s        | 3.14575e+006   | 14103.5         |</pre>"
      ],
      "text/plain": [
       "| 160       | 49.56s        | 3.14575e+006   | 14103.5         |"
      ]
     },
     "metadata": {},
     "output_type": "display_data"
    },
    {
     "data": {
      "text/html": [
       "<pre>| 170       | 52.69s        | 2.88065e+006   | 14103.9         |</pre>"
      ],
      "text/plain": [
       "| 170       | 52.69s        | 2.88065e+006   | 14103.9         |"
      ]
     },
     "metadata": {},
     "output_type": "display_data"
    },
    {
     "data": {
      "text/html": [
       "<pre>| 180       | 55.77s        | 3.07049e+006   | 14078.5         |</pre>"
      ],
      "text/plain": [
       "| 180       | 55.77s        | 3.07049e+006   | 14078.5         |"
      ]
     },
     "metadata": {},
     "output_type": "display_data"
    },
    {
     "data": {
      "text/html": [
       "<pre>| 190       | 58.87s        | 2.94692e+006   | 14090.7         |</pre>"
      ],
      "text/plain": [
       "| 190       | 58.87s        | 2.94692e+006   | 14090.7         |"
      ]
     },
     "metadata": {},
     "output_type": "display_data"
    },
    {
     "data": {
      "text/html": [
       "<pre>| 200       | 1m 2s         | 3.08889e+006   | 14101.5         |</pre>"
      ],
      "text/plain": [
       "| 200       | 1m 2s         | 3.08889e+006   | 14101.5         |"
      ]
     },
     "metadata": {},
     "output_type": "display_data"
    },
    {
     "data": {
      "text/html": [
       "<pre>+-----------+---------------+----------------+-----------------+</pre>"
      ],
      "text/plain": [
       "+-----------+---------------+----------------+-----------------+"
      ]
     },
     "metadata": {},
     "output_type": "display_data"
    },
    {
     "data": {
      "text/plain": [
       "Class                          : TopicModel\n",
       "\n",
       "Schema\n",
       "------\n",
       "Vocabulary Size                : 101417\n",
       "\n",
       "Settings\n",
       "--------\n",
       "Number of Topics               : 100\n",
       "alpha                          : 0.5\n",
       "beta                           : 0.1\n",
       "Iterations                     : 200\n",
       "Training time                  : 62.0303\n",
       "Verbose                        : False\n",
       "\n",
       "Accessible fields             : \n",
       "m['topics']                   : An SFrame containing the topics.\n",
       "m['vocabulary']               : An SArray containing the words in the vocabulary.\n",
       "Useful methods                : \n",
       "m.get_topics()                : Get the most probable words per topic.\n",
       "m.predict(new_docs)           : Make predictions for new documents."
      ]
     },
     "execution_count": 38,
     "metadata": {},
     "output_type": "execute_result"
    }
   ],
   "source": [
    "# using topic modelling\n",
    "\n",
    "textdata1 = reviews['reviewText']\n",
    "\n",
    "# texttrain, texttest = train_test_split(textdata1, test_size = 0.2)\n",
    "# reviewfolds = gl.cross_validation.KFold(textdata1, 10)\n",
    "# texttrain, texttest = reviewfolds[1]\n",
    "\n",
    "review_docs = gl.text_analytics.count_words(textdata1)\n",
    "review_docs = review_docs.dict_trim_by_keys(gl.text_analytics.stopwords(), exclude=True)\n",
    "\n",
    "texttrain, texttest = gl.text_analytics.random_split(review_docs, prob=0.4)\n",
    "\n",
    "# review_test = gl.text_analytics.count_words(texttest)\n",
    "# review_test = review_docs.dict_trim_by_keys(gl.text_analytics.stopwords(), exclude=True)\n",
    "\n",
    "# gl.text_analytics.trim_rare_words()\n",
    "\n",
    "# texttrainframe = texttrain.to_dataframe()\n",
    "\n",
    "# series = texttrainframe.iloc[:,0]\n",
    "# listseries = []\n",
    "# for i in series:\n",
    "#     listseries.append(i)\n",
    "    \n",
    "# listseries\n",
    "    \n",
    "# # series2 = gl.SArray(listseries, dtype=dict)\n",
    "# type(texttrainframe)\n",
    "\n",
    "\n",
    "# texttrain = series2.to_dict()\n",
    "# texttrain = series2.to_dict()\n",
    "\n",
    "\n",
    "\n",
    "lda = gl.topic_model.create(dataset=texttrain, validation_set=texttest, num_topics=100, num_iterations=200)\n",
    "\n",
    "lda\n"
   ]
  },
  {
   "cell_type": "code",
   "execution_count": 42,
   "metadata": {},
   "outputs": [
    {
     "data": {
      "text/html": [
       "<div style=\"max-height:1000px;max-width:1500px;overflow:auto;\"><table frame=\"box\" rules=\"cols\">\n",
       "    <tr>\n",
       "        <th style=\"padding-left: 1em; padding-right: 1em; text-align: center\">topic</th>\n",
       "        <th style=\"padding-left: 1em; padding-right: 1em; text-align: center\">word</th>\n",
       "        <th style=\"padding-left: 1em; padding-right: 1em; text-align: center\">score</th>\n",
       "    </tr>\n",
       "    <tr>\n",
       "        <td style=\"padding-left: 1em; padding-right: 1em; text-align: center; vertical-align: top\">0</td>\n",
       "        <td style=\"padding-left: 1em; padding-right: 1em; text-align: center; vertical-align: top\">sound</td>\n",
       "        <td style=\"padding-left: 1em; padding-right: 1em; text-align: center; vertical-align: top\">0.00189678648166</td>\n",
       "    </tr>\n",
       "    <tr>\n",
       "        <td style=\"padding-left: 1em; padding-right: 1em; text-align: center; vertical-align: top\">0</td>\n",
       "        <td style=\"padding-left: 1em; padding-right: 1em; text-align: center; vertical-align: top\">speed</td>\n",
       "        <td style=\"padding-left: 1em; padding-right: 1em; text-align: center; vertical-align: top\">0.000952328482493</td>\n",
       "    </tr>\n",
       "    <tr>\n",
       "        <td style=\"padding-left: 1em; padding-right: 1em; text-align: center; vertical-align: top\">0</td>\n",
       "        <td style=\"padding-left: 1em; padding-right: 1em; text-align: center; vertical-align: top\">world</td>\n",
       "        <td style=\"padding-left: 1em; padding-right: 1em; text-align: center; vertical-align: top\">0.000952328482493</td>\n",
       "    </tr>\n",
       "    <tr>\n",
       "        <td style=\"padding-left: 1em; padding-right: 1em; text-align: center; vertical-align: top\">0</td>\n",
       "        <td style=\"padding-left: 1em; padding-right: 1em; text-align: center; vertical-align: top\">bach</td>\n",
       "        <td style=\"padding-left: 1em; padding-right: 1em; text-align: center; vertical-align: top\">0.000716213982701</td>\n",
       "    </tr>\n",
       "    <tr>\n",
       "        <td style=\"padding-left: 1em; padding-right: 1em; text-align: center; vertical-align: top\">0</td>\n",
       "        <td style=\"padding-left: 1em; padding-right: 1em; text-align: center; vertical-align: top\">recordings.</td>\n",
       "        <td style=\"padding-left: 1em; padding-right: 1em; text-align: center; vertical-align: top\">0.000716213982701</td>\n",
       "    </tr>\n",
       "    <tr>\n",
       "        <td style=\"padding-left: 1em; padding-right: 1em; text-align: center; vertical-align: top\">1</td>\n",
       "        <td style=\"padding-left: 1em; padding-right: 1em; text-align: center; vertical-align: top\">pure</td>\n",
       "        <td style=\"padding-left: 1em; padding-right: 1em; text-align: center; vertical-align: top\">0.000801542771434</td>\n",
       "    </tr>\n",
       "    <tr>\n",
       "        <td style=\"padding-left: 1em; padding-right: 1em; text-align: center; vertical-align: top\">1</td>\n",
       "        <td style=\"padding-left: 1em; padding-right: 1em; text-align: center; vertical-align: top\">blood</td>\n",
       "        <td style=\"padding-left: 1em; padding-right: 1em; text-align: center; vertical-align: top\">0.000801542771434</td>\n",
       "    </tr>\n",
       "    <tr>\n",
       "        <td style=\"padding-left: 1em; padding-right: 1em; text-align: center; vertical-align: top\">1</td>\n",
       "        <td style=\"padding-left: 1em; padding-right: 1em; text-align: center; vertical-align: top\">20</td>\n",
       "        <td style=\"padding-left: 1em; padding-right: 1em; text-align: center; vertical-align: top\">0.000801542771434</td>\n",
       "    </tr>\n",
       "    <tr>\n",
       "        <td style=\"padding-left: 1em; padding-right: 1em; text-align: center; vertical-align: top\">1</td>\n",
       "        <td style=\"padding-left: 1em; padding-right: 1em; text-align: center; vertical-align: top\">we're</td>\n",
       "        <td style=\"padding-left: 1em; padding-right: 1em; text-align: center; vertical-align: top\">0.000722182100995</td>\n",
       "    </tr>\n",
       "    <tr>\n",
       "        <td style=\"padding-left: 1em; padding-right: 1em; text-align: center; vertical-align: top\">1</td>\n",
       "        <td style=\"padding-left: 1em; padding-right: 1em; text-align: center; vertical-align: top\">catch</td>\n",
       "        <td style=\"padding-left: 1em; padding-right: 1em; text-align: center; vertical-align: top\">0.000642821430556</td>\n",
       "    </tr>\n",
       "</table>\n",
       "[500 rows x 3 columns]<br/>Note: Only the head of the SFrame is printed.<br/>You can use print_rows(num_rows=m, num_columns=n) to print more rows and columns.\n",
       "</div>"
      ],
      "text/plain": [
       "Columns:\n",
       "\ttopic\tint\n",
       "\tword\tstr\n",
       "\tscore\tfloat\n",
       "\n",
       "Rows: 500\n",
       "\n",
       "Data:\n",
       "+-------+-------------+-------------------+\n",
       "| topic |     word    |       score       |\n",
       "+-------+-------------+-------------------+\n",
       "|   0   |    sound    |  0.00189678648166 |\n",
       "|   0   |    speed    | 0.000952328482493 |\n",
       "|   0   |    world    | 0.000952328482493 |\n",
       "|   0   |     bach    | 0.000716213982701 |\n",
       "|   0   | recordings. | 0.000716213982701 |\n",
       "|   1   |     pure    | 0.000801542771434 |\n",
       "|   1   |    blood    | 0.000801542771434 |\n",
       "|   1   |      20     | 0.000801542771434 |\n",
       "|   1   |    we're    | 0.000722182100995 |\n",
       "|   1   |    catch    | 0.000642821430556 |\n",
       "+-------+-------------+-------------------+\n",
       "[500 rows x 3 columns]\n",
       "Note: Only the head of the SFrame is printed.\n",
       "You can use print_rows(num_rows=m, num_columns=n) to print more rows and columns."
      ]
     },
     "execution_count": 42,
     "metadata": {},
     "output_type": "execute_result"
    }
   ],
   "source": [
    "lda.get_topics()"
   ]
  }
 ],
 "metadata": {
  "kernelspec": {
   "display_name": "Python [conda env:graphlab]",
   "language": "python",
   "name": "conda-env-graphlab-py"
  },
  "language_info": {
   "codemirror_mode": {
    "name": "ipython",
    "version": 2
   },
   "file_extension": ".py",
   "mimetype": "text/x-python",
   "name": "python",
   "nbconvert_exporter": "python",
   "pygments_lexer": "ipython2",
   "version": "2.7.14"
  }
 },
 "nbformat": 4,
 "nbformat_minor": 2
}
