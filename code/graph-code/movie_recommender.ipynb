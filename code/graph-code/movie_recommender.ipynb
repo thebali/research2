{
 "cells": [
  {
   "cell_type": "code",
   "execution_count": 3,
   "metadata": {},
   "outputs": [],
   "source": [
    "from os import path\n",
    "import graphlab as gl\n",
    "from datetime import datetime\n",
    "\n",
    "## my key for graphlab\n",
    "gl.product_key.set_product_key('49FA-0266-3006-D865-C0D5-2C05-56B6-4129')\n"
   ]
  },
  {
   "cell_type": "markdown",
   "metadata": {},
   "source": [
    "# Load Data\n",
    "\n",
    "MovieLens dataset collected by the GroupLens Research Project at the University of Minnesota.\n",
    "For more information, see http://grouplens.org/datasets/movielens/"
   ]
  },
  {
   "cell_type": "code",
   "execution_count": 4,
   "metadata": {},
   "outputs": [
    {
     "name": "stdout",
     "output_type": "stream",
     "text": [
      "This non-commercial license of GraphLab Create for academic use is assigned to rahulbali.mecse16@pec.edu.in and will expire on November 23, 2018.\n"
     ]
    },
    {
     "name": "stderr",
     "output_type": "stream",
     "text": [
      "[INFO] graphlab.cython.cy_server: GraphLab Create v2.1 started. Logging: C:\\Users\\cramdog\\AppData\\Local\\Temp\\graphlab_server_1528021934.log.0\n"
     ]
    },
    {
     "data": {
      "text/html": [
       "<pre>Finished parsing file E:\\ACADEMICS\\PEC---\\ME 4 SEM\\code\\graph-code\\dataset\\ml-20m\\movies.csv</pre>"
      ],
      "text/plain": [
       "Finished parsing file E:\\ACADEMICS\\PEC---\\ME 4 SEM\\code\\graph-code\\dataset\\ml-20m\\movies.csv"
      ]
     },
     "metadata": {},
     "output_type": "display_data"
    },
    {
     "data": {
      "text/html": [
       "<pre>Parsing completed. Parsed 100 lines in 0.104096 secs.</pre>"
      ],
      "text/plain": [
       "Parsing completed. Parsed 100 lines in 0.104096 secs."
      ]
     },
     "metadata": {},
     "output_type": "display_data"
    },
    {
     "name": "stdout",
     "output_type": "stream",
     "text": [
      "------------------------------------------------------\n",
      "Inferred types from first 100 line(s) of file as \n",
      "column_type_hints=[long,str,str]\n",
      "If parsing fails due to incorrect types, you can correct\n",
      "the inferred type list above and pass it to read_csv in\n",
      "the column_type_hints argument\n",
      "------------------------------------------------------\n"
     ]
    },
    {
     "data": {
      "text/html": [
       "<pre>Finished parsing file E:\\ACADEMICS\\PEC---\\ME 4 SEM\\code\\graph-code\\dataset\\ml-20m\\movies.csv</pre>"
      ],
      "text/plain": [
       "Finished parsing file E:\\ACADEMICS\\PEC---\\ME 4 SEM\\code\\graph-code\\dataset\\ml-20m\\movies.csv"
      ]
     },
     "metadata": {},
     "output_type": "display_data"
    },
    {
     "data": {
      "text/html": [
       "<pre>Parsing completed. Parsed 27278 lines in 0.08908 secs.</pre>"
      ],
      "text/plain": [
       "Parsing completed. Parsed 27278 lines in 0.08908 secs."
      ]
     },
     "metadata": {},
     "output_type": "display_data"
    },
    {
     "data": {
      "text/html": [
       "<pre>Finished parsing file E:\\ACADEMICS\\PEC---\\ME 4 SEM\\code\\graph-code\\dataset\\ml-20m\\ratings.csv</pre>"
      ],
      "text/plain": [
       "Finished parsing file E:\\ACADEMICS\\PEC---\\ME 4 SEM\\code\\graph-code\\dataset\\ml-20m\\ratings.csv"
      ]
     },
     "metadata": {},
     "output_type": "display_data"
    },
    {
     "data": {
      "text/html": [
       "<pre>Parsing completed. Parsed 100 lines in 1.28917 secs.</pre>"
      ],
      "text/plain": [
       "Parsing completed. Parsed 100 lines in 1.28917 secs."
      ]
     },
     "metadata": {},
     "output_type": "display_data"
    },
    {
     "name": "stdout",
     "output_type": "stream",
     "text": [
      "------------------------------------------------------\n",
      "Inferred types from first 100 line(s) of file as \n",
      "column_type_hints=[long,long,float,long]\n",
      "If parsing fails due to incorrect types, you can correct\n",
      "the inferred type list above and pass it to read_csv in\n",
      "the column_type_hints argument\n",
      "------------------------------------------------------\n"
     ]
    },
    {
     "data": {
      "text/html": [
       "<pre>Read 2042753 lines. Lines per second: 875547</pre>"
      ],
      "text/plain": [
       "Read 2042753 lines. Lines per second: 875547"
      ]
     },
     "metadata": {},
     "output_type": "display_data"
    },
    {
     "data": {
      "text/html": [
       "<pre>Read 11940935 lines. Lines per second: 1.62602e+006</pre>"
      ],
      "text/plain": [
       "Read 11940935 lines. Lines per second: 1.62602e+006"
      ]
     },
     "metadata": {},
     "output_type": "display_data"
    },
    {
     "data": {
      "text/html": [
       "<pre>Finished parsing file E:\\ACADEMICS\\PEC---\\ME 4 SEM\\code\\graph-code\\dataset\\ml-20m\\ratings.csv</pre>"
      ],
      "text/plain": [
       "Finished parsing file E:\\ACADEMICS\\PEC---\\ME 4 SEM\\code\\graph-code\\dataset\\ml-20m\\ratings.csv"
      ]
     },
     "metadata": {},
     "output_type": "display_data"
    },
    {
     "data": {
      "text/html": [
       "<pre>Parsing completed. Parsed 20000263 lines in 10.8368 secs.</pre>"
      ],
      "text/plain": [
       "Parsing completed. Parsed 20000263 lines in 10.8368 secs."
      ]
     },
     "metadata": {},
     "output_type": "display_data"
    }
   ],
   "source": [
    "# Path to the dataset directory\n",
    "data_dir = './dataset/ml-20m'\n",
    "\n",
    "# Table of movies we are recommending: movieId, title, genres\n",
    "items = gl.SFrame.read_csv(path.join(data_dir, 'movies.csv'))\n",
    "\n",
    "# Table of interactions between users and items: userId, movieId, rating, timestamp\n",
    "actions = gl.SFrame.read_csv(path.join(data_dir, 'ratings.csv'))"
   ]
  },
  {
   "cell_type": "markdown",
   "metadata": {},
   "source": [
    "# Prepare Data"
   ]
  },
  {
   "cell_type": "code",
   "execution_count": 5,
   "metadata": {},
   "outputs": [],
   "source": [
    "# Prepare the data by removing items that are rare\n",
    "rare_items = actions.groupby('movieId', gl.aggregate.COUNT).sort('Count')\n",
    "rare_items = rare_items[rare_items['Count'] <= 5]\n",
    "items = items.filter_by(rare_items['movieId'], 'movieId', exclude=True)\n",
    "actions = actions.filter_by(rare_items['movieId'], 'movieId', exclude=True)\n",
    "actions['timestamp'] = actions['timestamp'].astype(datetime)"
   ]
  },
  {
   "cell_type": "code",
   "execution_count": 6,
   "metadata": {},
   "outputs": [],
   "source": [
    "# Extract year, title, and genre\n",
    "items['year'] = items['title'].apply(lambda x: x[-5:-1])\n",
    "items['title'] = items['title'].apply(lambda x: x[:-7])\n",
    "items['genres'] = items['genres'].apply(lambda x: x.split('|'))"
   ]
  },
  {
   "cell_type": "markdown",
   "metadata": {},
   "source": [
    "# Train Recommender Model"
   ]
  },
  {
   "cell_type": "code",
   "execution_count": 7,
   "metadata": {},
   "outputs": [
    {
     "data": {
      "text/html": [
       "<pre>Recsys training: model = item_similarity</pre>"
      ],
      "text/plain": [
       "Recsys training: model = item_similarity"
      ]
     },
     "metadata": {},
     "output_type": "display_data"
    },
    {
     "data": {
      "text/html": [
       "<pre>Warning: Ignoring columns rating, timestamp;</pre>"
      ],
      "text/plain": [
       "Warning: Ignoring columns rating, timestamp;"
      ]
     },
     "metadata": {},
     "output_type": "display_data"
    },
    {
     "data": {
      "text/html": [
       "<pre>    To use one of these as a target column, set target = <column_name></pre>"
      ],
      "text/plain": [
       "    To use one of these as a target column, set target = <column_name>"
      ]
     },
     "metadata": {},
     "output_type": "display_data"
    },
    {
     "data": {
      "text/html": [
       "<pre>    and use a method that allows the use of a target.</pre>"
      ],
      "text/plain": [
       "    and use a method that allows the use of a target."
      ]
     },
     "metadata": {},
     "output_type": "display_data"
    },
    {
     "data": {
      "text/html": [
       "<pre>Preparing data set.</pre>"
      ],
      "text/plain": [
       "Preparing data set."
      ]
     },
     "metadata": {},
     "output_type": "display_data"
    },
    {
     "data": {
      "text/html": [
       "<pre>    Data has 19950681 observations with 138493 users and 17519 items.</pre>"
      ],
      "text/plain": [
       "    Data has 19950681 observations with 138493 users and 17519 items."
      ]
     },
     "metadata": {},
     "output_type": "display_data"
    },
    {
     "data": {
      "text/html": [
       "<pre>    Data prepared in: 17.9343s</pre>"
      ],
      "text/plain": [
       "    Data prepared in: 17.9343s"
      ]
     },
     "metadata": {},
     "output_type": "display_data"
    },
    {
     "data": {
      "text/html": [
       "<pre>Training model from provided data.</pre>"
      ],
      "text/plain": [
       "Training model from provided data."
      ]
     },
     "metadata": {},
     "output_type": "display_data"
    },
    {
     "data": {
      "text/html": [
       "<pre>Gathering per-item and per-user statistics.</pre>"
      ],
      "text/plain": [
       "Gathering per-item and per-user statistics."
      ]
     },
     "metadata": {},
     "output_type": "display_data"
    },
    {
     "data": {
      "text/html": [
       "<pre>+--------------------------------+------------+</pre>"
      ],
      "text/plain": [
       "+--------------------------------+------------+"
      ]
     },
     "metadata": {},
     "output_type": "display_data"
    },
    {
     "data": {
      "text/html": [
       "<pre>| Elapsed Time (Item Statistics) | % Complete |</pre>"
      ],
      "text/plain": [
       "| Elapsed Time (Item Statistics) | % Complete |"
      ]
     },
     "metadata": {},
     "output_type": "display_data"
    },
    {
     "data": {
      "text/html": [
       "<pre>+--------------------------------+------------+</pre>"
      ],
      "text/plain": [
       "+--------------------------------+------------+"
      ]
     },
     "metadata": {},
     "output_type": "display_data"
    },
    {
     "data": {
      "text/html": [
       "<pre>| 33.986ms                       | 0.5        |</pre>"
      ],
      "text/plain": [
       "| 33.986ms                       | 0.5        |"
      ]
     },
     "metadata": {},
     "output_type": "display_data"
    },
    {
     "data": {
      "text/html": [
       "<pre>| 461.376ms                      | 100        |</pre>"
      ],
      "text/plain": [
       "| 461.376ms                      | 100        |"
      ]
     },
     "metadata": {},
     "output_type": "display_data"
    },
    {
     "data": {
      "text/html": [
       "<pre>+--------------------------------+------------+</pre>"
      ],
      "text/plain": [
       "+--------------------------------+------------+"
      ]
     },
     "metadata": {},
     "output_type": "display_data"
    },
    {
     "data": {
      "text/html": [
       "<pre>Setting up lookup tables.</pre>"
      ],
      "text/plain": [
       "Setting up lookup tables."
      ]
     },
     "metadata": {},
     "output_type": "display_data"
    },
    {
     "data": {
      "text/html": [
       "<pre>Processing data in one pass using dense lookup tables.</pre>"
      ],
      "text/plain": [
       "Processing data in one pass using dense lookup tables."
      ]
     },
     "metadata": {},
     "output_type": "display_data"
    },
    {
     "data": {
      "text/html": [
       "<pre>+-------------------------------------+------------------+-----------------+</pre>"
      ],
      "text/plain": [
       "+-------------------------------------+------------------+-----------------+"
      ]
     },
     "metadata": {},
     "output_type": "display_data"
    },
    {
     "data": {
      "text/html": [
       "<pre>| Elapsed Time (Constructing Lookups) | Total % Complete | Items Processed |</pre>"
      ],
      "text/plain": [
       "| Elapsed Time (Constructing Lookups) | Total % Complete | Items Processed |"
      ]
     },
     "metadata": {},
     "output_type": "display_data"
    },
    {
     "data": {
      "text/html": [
       "<pre>+-------------------------------------+------------------+-----------------+</pre>"
      ],
      "text/plain": [
       "+-------------------------------------+------------------+-----------------+"
      ]
     },
     "metadata": {},
     "output_type": "display_data"
    },
    {
     "data": {
      "text/html": [
       "<pre>| 1.66s                               | 0                | 0               |</pre>"
      ],
      "text/plain": [
       "| 1.66s                               | 0                | 0               |"
      ]
     },
     "metadata": {},
     "output_type": "display_data"
    },
    {
     "data": {
      "text/html": [
       "<pre>| 2.66s                               | 1.5              | 277             |</pre>"
      ],
      "text/plain": [
       "| 2.66s                               | 1.5              | 277             |"
      ]
     },
     "metadata": {},
     "output_type": "display_data"
    },
    {
     "data": {
      "text/html": [
       "<pre>| 3.66s                               | 2.75             | 520             |</pre>"
      ],
      "text/plain": [
       "| 3.66s                               | 2.75             | 520             |"
      ]
     },
     "metadata": {},
     "output_type": "display_data"
    },
    {
     "data": {
      "text/html": [
       "<pre>| 4.66s                               | 4                | 738             |</pre>"
      ],
      "text/plain": [
       "| 4.66s                               | 4                | 738             |"
      ]
     },
     "metadata": {},
     "output_type": "display_data"
    },
    {
     "data": {
      "text/html": [
       "<pre>| 5.66s                               | 5                | 914             |</pre>"
      ],
      "text/plain": [
       "| 5.66s                               | 5                | 914             |"
      ]
     },
     "metadata": {},
     "output_type": "display_data"
    },
    {
     "data": {
      "text/html": [
       "<pre>| 6.66s                               | 6.5              | 1143            |</pre>"
      ],
      "text/plain": [
       "| 6.66s                               | 6.5              | 1143            |"
      ]
     },
     "metadata": {},
     "output_type": "display_data"
    },
    {
     "data": {
      "text/html": [
       "<pre>| 7.66s                               | 7.75             | 1360            |</pre>"
      ],
      "text/plain": [
       "| 7.66s                               | 7.75             | 1360            |"
      ]
     },
     "metadata": {},
     "output_type": "display_data"
    },
    {
     "data": {
      "text/html": [
       "<pre>| 8.66s                               | 8.75             | 1571            |</pre>"
      ],
      "text/plain": [
       "| 8.66s                               | 8.75             | 1571            |"
      ]
     },
     "metadata": {},
     "output_type": "display_data"
    },
    {
     "data": {
      "text/html": [
       "<pre>| 9.66s                               | 10               | 1795            |</pre>"
      ],
      "text/plain": [
       "| 9.66s                               | 10               | 1795            |"
      ]
     },
     "metadata": {},
     "output_type": "display_data"
    },
    {
     "data": {
      "text/html": [
       "<pre>| 10.68s                              | 11.5             | 2050            |</pre>"
      ],
      "text/plain": [
       "| 10.68s                              | 11.5             | 2050            |"
      ]
     },
     "metadata": {},
     "output_type": "display_data"
    },
    {
     "data": {
      "text/html": [
       "<pre>| 11.67s                              | 12.75            | 2251            |</pre>"
      ],
      "text/plain": [
       "| 11.67s                              | 12.75            | 2251            |"
      ]
     },
     "metadata": {},
     "output_type": "display_data"
    },
    {
     "data": {
      "text/html": [
       "<pre>| 12.67s                              | 14               | 2462            |</pre>"
      ],
      "text/plain": [
       "| 12.67s                              | 14               | 2462            |"
      ]
     },
     "metadata": {},
     "output_type": "display_data"
    },
    {
     "data": {
      "text/html": [
       "<pre>| 13.67s                              | 15.25            | 2707            |</pre>"
      ],
      "text/plain": [
       "| 13.67s                              | 15.25            | 2707            |"
      ]
     },
     "metadata": {},
     "output_type": "display_data"
    },
    {
     "data": {
      "text/html": [
       "<pre>| 14.67s                              | 16.5             | 2907            |</pre>"
      ],
      "text/plain": [
       "| 14.67s                              | 16.5             | 2907            |"
      ]
     },
     "metadata": {},
     "output_type": "display_data"
    },
    {
     "data": {
      "text/html": [
       "<pre>| 15.67s                              | 17.5             | 3083            |</pre>"
      ],
      "text/plain": [
       "| 15.67s                              | 17.5             | 3083            |"
      ]
     },
     "metadata": {},
     "output_type": "display_data"
    },
    {
     "data": {
      "text/html": [
       "<pre>| 16.67s                              | 18.75            | 3301            |</pre>"
      ],
      "text/plain": [
       "| 16.67s                              | 18.75            | 3301            |"
      ]
     },
     "metadata": {},
     "output_type": "display_data"
    },
    {
     "data": {
      "text/html": [
       "<pre>| 17.68s                              | 20               | 3527            |</pre>"
      ],
      "text/plain": [
       "| 17.68s                              | 20               | 3527            |"
      ]
     },
     "metadata": {},
     "output_type": "display_data"
    },
    {
     "data": {
      "text/html": [
       "<pre>| 18.67s                              | 21.25            | 3741            |</pre>"
      ],
      "text/plain": [
       "| 18.67s                              | 21.25            | 3741            |"
      ]
     },
     "metadata": {},
     "output_type": "display_data"
    },
    {
     "data": {
      "text/html": [
       "<pre>| 19.67s                              | 22.5             | 3970            |</pre>"
      ],
      "text/plain": [
       "| 19.67s                              | 22.5             | 3970            |"
      ]
     },
     "metadata": {},
     "output_type": "display_data"
    },
    {
     "data": {
      "text/html": [
       "<pre>| 20.67s                              | 23.75            | 4181            |</pre>"
      ],
      "text/plain": [
       "| 20.67s                              | 23.75            | 4181            |"
      ]
     },
     "metadata": {},
     "output_type": "display_data"
    },
    {
     "data": {
      "text/html": [
       "<pre>| 21.67s                              | 25               | 4404            |</pre>"
      ],
      "text/plain": [
       "| 21.67s                              | 25               | 4404            |"
      ]
     },
     "metadata": {},
     "output_type": "display_data"
    },
    {
     "data": {
      "text/html": [
       "<pre>| 22.68s                              | 26.5             | 4645            |</pre>"
      ],
      "text/plain": [
       "| 22.68s                              | 26.5             | 4645            |"
      ]
     },
     "metadata": {},
     "output_type": "display_data"
    },
    {
     "data": {
      "text/html": [
       "<pre>| 23.68s                              | 27.5             | 4836            |</pre>"
      ],
      "text/plain": [
       "| 23.68s                              | 27.5             | 4836            |"
      ]
     },
     "metadata": {},
     "output_type": "display_data"
    },
    {
     "data": {
      "text/html": [
       "<pre>| 24.68s                              | 28.75            | 5059            |</pre>"
      ],
      "text/plain": [
       "| 24.68s                              | 28.75            | 5059            |"
      ]
     },
     "metadata": {},
     "output_type": "display_data"
    },
    {
     "data": {
      "text/html": [
       "<pre>| 25.68s                              | 29.75            | 5238            |</pre>"
      ],
      "text/plain": [
       "| 25.68s                              | 29.75            | 5238            |"
      ]
     },
     "metadata": {},
     "output_type": "display_data"
    },
    {
     "data": {
      "text/html": [
       "<pre>| 26.68s                              | 31               | 5448            |</pre>"
      ],
      "text/plain": [
       "| 26.68s                              | 31               | 5448            |"
      ]
     },
     "metadata": {},
     "output_type": "display_data"
    },
    {
     "data": {
      "text/html": [
       "<pre>| 27.73s                              | 32.25            | 5653            |</pre>"
      ],
      "text/plain": [
       "| 27.73s                              | 32.25            | 5653            |"
      ]
     },
     "metadata": {},
     "output_type": "display_data"
    },
    {
     "data": {
      "text/html": [
       "<pre>| 28.68s                              | 33.25            | 5827            |</pre>"
      ],
      "text/plain": [
       "| 28.68s                              | 33.25            | 5827            |"
      ]
     },
     "metadata": {},
     "output_type": "display_data"
    },
    {
     "data": {
      "text/html": [
       "<pre>| 29.68s                              | 34.5             | 6047            |</pre>"
      ],
      "text/plain": [
       "| 29.68s                              | 34.5             | 6047            |"
      ]
     },
     "metadata": {},
     "output_type": "display_data"
    },
    {
     "data": {
      "text/html": [
       "<pre>| 30.70s                              | 35.5             | 6252            |</pre>"
      ],
      "text/plain": [
       "| 30.70s                              | 35.5             | 6252            |"
      ]
     },
     "metadata": {},
     "output_type": "display_data"
    },
    {
     "data": {
      "text/html": [
       "<pre>| 31.68s                              | 36.75            | 6438            |</pre>"
      ],
      "text/plain": [
       "| 31.68s                              | 36.75            | 6438            |"
      ]
     },
     "metadata": {},
     "output_type": "display_data"
    },
    {
     "data": {
      "text/html": [
       "<pre>| 32.68s                              | 37.75            | 6655            |</pre>"
      ],
      "text/plain": [
       "| 32.68s                              | 37.75            | 6655            |"
      ]
     },
     "metadata": {},
     "output_type": "display_data"
    },
    {
     "data": {
      "text/html": [
       "<pre>| 33.69s                              | 39.25            | 6899            |</pre>"
      ],
      "text/plain": [
       "| 33.69s                              | 39.25            | 6899            |"
      ]
     },
     "metadata": {},
     "output_type": "display_data"
    },
    {
     "data": {
      "text/html": [
       "<pre>| 34.69s                              | 40.5             | 7116            |</pre>"
      ],
      "text/plain": [
       "| 34.69s                              | 40.5             | 7116            |"
      ]
     },
     "metadata": {},
     "output_type": "display_data"
    },
    {
     "data": {
      "text/html": [
       "<pre>| 35.69s                              | 42               | 7368            |</pre>"
      ],
      "text/plain": [
       "| 35.69s                              | 42               | 7368            |"
      ]
     },
     "metadata": {},
     "output_type": "display_data"
    },
    {
     "data": {
      "text/html": [
       "<pre>| 36.69s                              | 43.25            | 7584            |</pre>"
      ],
      "text/plain": [
       "| 36.69s                              | 43.25            | 7584            |"
      ]
     },
     "metadata": {},
     "output_type": "display_data"
    },
    {
     "data": {
      "text/html": [
       "<pre>| 37.69s                              | 44.5             | 7812            |</pre>"
      ],
      "text/plain": [
       "| 37.69s                              | 44.5             | 7812            |"
      ]
     },
     "metadata": {},
     "output_type": "display_data"
    },
    {
     "data": {
      "text/html": [
       "<pre>| 38.69s                              | 45.75            | 8044            |</pre>"
      ],
      "text/plain": [
       "| 38.69s                              | 45.75            | 8044            |"
      ]
     },
     "metadata": {},
     "output_type": "display_data"
    },
    {
     "data": {
      "text/html": [
       "<pre>| 39.69s                              | 47               | 8266            |</pre>"
      ],
      "text/plain": [
       "| 39.69s                              | 47               | 8266            |"
      ]
     },
     "metadata": {},
     "output_type": "display_data"
    },
    {
     "data": {
      "text/html": [
       "<pre>| 40.69s                              | 48.25            | 8463            |</pre>"
      ],
      "text/plain": [
       "| 40.69s                              | 48.25            | 8463            |"
      ]
     },
     "metadata": {},
     "output_type": "display_data"
    },
    {
     "data": {
      "text/html": [
       "<pre>| 41.69s                              | 49.25            | 8662            |</pre>"
      ],
      "text/plain": [
       "| 41.69s                              | 49.25            | 8662            |"
      ]
     },
     "metadata": {},
     "output_type": "display_data"
    },
    {
     "data": {
      "text/html": [
       "<pre>| 42.70s                              | 50.75            | 8899            |</pre>"
      ],
      "text/plain": [
       "| 42.70s                              | 50.75            | 8899            |"
      ]
     },
     "metadata": {},
     "output_type": "display_data"
    },
    {
     "data": {
      "text/html": [
       "<pre>| 43.71s                              | 52               | 9137            |</pre>"
      ],
      "text/plain": [
       "| 43.71s                              | 52               | 9137            |"
      ]
     },
     "metadata": {},
     "output_type": "display_data"
    },
    {
     "data": {
      "text/html": [
       "<pre>| 44.70s                              | 53               | 9320            |</pre>"
      ],
      "text/plain": [
       "| 44.70s                              | 53               | 9320            |"
      ]
     },
     "metadata": {},
     "output_type": "display_data"
    },
    {
     "data": {
      "text/html": [
       "<pre>| 45.70s                              | 54               | 9490            |</pre>"
      ],
      "text/plain": [
       "| 45.70s                              | 54               | 9490            |"
      ]
     },
     "metadata": {},
     "output_type": "display_data"
    },
    {
     "data": {
      "text/html": [
       "<pre>| 46.70s                              | 55.25            | 9683            |</pre>"
      ],
      "text/plain": [
       "| 46.70s                              | 55.25            | 9683            |"
      ]
     },
     "metadata": {},
     "output_type": "display_data"
    },
    {
     "data": {
      "text/html": [
       "<pre>| 47.70s                              | 56.25            | 9865            |</pre>"
      ],
      "text/plain": [
       "| 47.70s                              | 56.25            | 9865            |"
      ]
     },
     "metadata": {},
     "output_type": "display_data"
    },
    {
     "data": {
      "text/html": [
       "<pre>| 48.70s                              | 57.5             | 10106           |</pre>"
      ],
      "text/plain": [
       "| 48.70s                              | 57.5             | 10106           |"
      ]
     },
     "metadata": {},
     "output_type": "display_data"
    },
    {
     "data": {
      "text/html": [
       "<pre>| 49.71s                              | 58.75            | 10297           |</pre>"
      ],
      "text/plain": [
       "| 49.71s                              | 58.75            | 10297           |"
      ]
     },
     "metadata": {},
     "output_type": "display_data"
    },
    {
     "data": {
      "text/html": [
       "<pre>| 50.70s                              | 59.75            | 10468           |</pre>"
      ],
      "text/plain": [
       "| 50.70s                              | 59.75            | 10468           |"
      ]
     },
     "metadata": {},
     "output_type": "display_data"
    },
    {
     "data": {
      "text/html": [
       "<pre>| 51.70s                              | 60.5             | 10617           |</pre>"
      ],
      "text/plain": [
       "| 51.70s                              | 60.5             | 10617           |"
      ]
     },
     "metadata": {},
     "output_type": "display_data"
    },
    {
     "data": {
      "text/html": [
       "<pre>| 52.70s                              | 61.5             | 10788           |</pre>"
      ],
      "text/plain": [
       "| 52.70s                              | 61.5             | 10788           |"
      ]
     },
     "metadata": {},
     "output_type": "display_data"
    },
    {
     "data": {
      "text/html": [
       "<pre>| 53.71s                              | 62.5             | 10987           |</pre>"
      ],
      "text/plain": [
       "| 53.71s                              | 62.5             | 10987           |"
      ]
     },
     "metadata": {},
     "output_type": "display_data"
    },
    {
     "data": {
      "text/html": [
       "<pre>| 54.71s                              | 63.75            | 11202           |</pre>"
      ],
      "text/plain": [
       "| 54.71s                              | 63.75            | 11202           |"
      ]
     },
     "metadata": {},
     "output_type": "display_data"
    },
    {
     "data": {
      "text/html": [
       "<pre>| 55.71s                              | 64.5             | 11338           |</pre>"
      ],
      "text/plain": [
       "| 55.71s                              | 64.5             | 11338           |"
      ]
     },
     "metadata": {},
     "output_type": "display_data"
    },
    {
     "data": {
      "text/html": [
       "<pre>| 56.71s                              | 65.25            | 11464           |</pre>"
      ],
      "text/plain": [
       "| 56.71s                              | 65.25            | 11464           |"
      ]
     },
     "metadata": {},
     "output_type": "display_data"
    },
    {
     "data": {
      "text/html": [
       "<pre>| 57.71s                              | 66.5             | 11654           |</pre>"
      ],
      "text/plain": [
       "| 57.71s                              | 66.5             | 11654           |"
      ]
     },
     "metadata": {},
     "output_type": "display_data"
    },
    {
     "data": {
      "text/html": [
       "<pre>| 58.71s                              | 67.5             | 11830           |</pre>"
      ],
      "text/plain": [
       "| 58.71s                              | 67.5             | 11830           |"
      ]
     },
     "metadata": {},
     "output_type": "display_data"
    },
    {
     "data": {
      "text/html": [
       "<pre>| 59.72s                              | 68.25            | 11986           |</pre>"
      ],
      "text/plain": [
       "| 59.72s                              | 68.25            | 11986           |"
      ]
     },
     "metadata": {},
     "output_type": "display_data"
    },
    {
     "data": {
      "text/html": [
       "<pre>| 1m 0s                               | 69.25            | 12160           |</pre>"
      ],
      "text/plain": [
       "| 1m 0s                               | 69.25            | 12160           |"
      ]
     },
     "metadata": {},
     "output_type": "display_data"
    },
    {
     "data": {
      "text/html": [
       "<pre>| 1m 1s                               | 70.5             | 12362           |</pre>"
      ],
      "text/plain": [
       "| 1m 1s                               | 70.5             | 12362           |"
      ]
     },
     "metadata": {},
     "output_type": "display_data"
    },
    {
     "data": {
      "text/html": [
       "<pre>| 1m 2s                               | 71.5             | 12555           |</pre>"
      ],
      "text/plain": [
       "| 1m 2s                               | 71.5             | 12555           |"
      ]
     },
     "metadata": {},
     "output_type": "display_data"
    },
    {
     "data": {
      "text/html": [
       "<pre>| 1m 3s                               | 72.75            | 12782           |</pre>"
      ],
      "text/plain": [
       "| 1m 3s                               | 72.75            | 12782           |"
      ]
     },
     "metadata": {},
     "output_type": "display_data"
    },
    {
     "data": {
      "text/html": [
       "<pre>| 1m 4s                               | 73.75            | 12958           |</pre>"
      ],
      "text/plain": [
       "| 1m 4s                               | 73.75            | 12958           |"
      ]
     },
     "metadata": {},
     "output_type": "display_data"
    },
    {
     "data": {
      "text/html": [
       "<pre>| 1m 5s                               | 75               | 13165           |</pre>"
      ],
      "text/plain": [
       "| 1m 5s                               | 75               | 13165           |"
      ]
     },
     "metadata": {},
     "output_type": "display_data"
    },
    {
     "data": {
      "text/html": [
       "<pre>| 1m 6s                               | 76               | 13337           |</pre>"
      ],
      "text/plain": [
       "| 1m 6s                               | 76               | 13337           |"
      ]
     },
     "metadata": {},
     "output_type": "display_data"
    },
    {
     "data": {
      "text/html": [
       "<pre>| 1m 7s                               | 77.25            | 13536           |</pre>"
      ],
      "text/plain": [
       "| 1m 7s                               | 77.25            | 13536           |"
      ]
     },
     "metadata": {},
     "output_type": "display_data"
    },
    {
     "data": {
      "text/html": [
       "<pre>| 1m 8s                               | 78.25            | 13750           |</pre>"
      ],
      "text/plain": [
       "| 1m 8s                               | 78.25            | 13750           |"
      ]
     },
     "metadata": {},
     "output_type": "display_data"
    },
    {
     "data": {
      "text/html": [
       "<pre>| 1m 9s                               | 79.75            | 13975           |</pre>"
      ],
      "text/plain": [
       "| 1m 9s                               | 79.75            | 13975           |"
      ]
     },
     "metadata": {},
     "output_type": "display_data"
    },
    {
     "data": {
      "text/html": [
       "<pre>| 1m 10s                              | 80.75            | 14167           |</pre>"
      ],
      "text/plain": [
       "| 1m 10s                              | 80.75            | 14167           |"
      ]
     },
     "metadata": {},
     "output_type": "display_data"
    },
    {
     "data": {
      "text/html": [
       "<pre>| 1m 11s                              | 82               | 14404           |</pre>"
      ],
      "text/plain": [
       "| 1m 11s                              | 82               | 14404           |"
      ]
     },
     "metadata": {},
     "output_type": "display_data"
    },
    {
     "data": {
      "text/html": [
       "<pre>| 1m 12s                              | 83.25            | 14602           |</pre>"
      ],
      "text/plain": [
       "| 1m 12s                              | 83.25            | 14602           |"
      ]
     },
     "metadata": {},
     "output_type": "display_data"
    },
    {
     "data": {
      "text/html": [
       "<pre>| 1m 13s                              | 84.5             | 14822           |</pre>"
      ],
      "text/plain": [
       "| 1m 13s                              | 84.5             | 14822           |"
      ]
     },
     "metadata": {},
     "output_type": "display_data"
    },
    {
     "data": {
      "text/html": [
       "<pre>| 1m 14s                              | 85.75            | 15047           |</pre>"
      ],
      "text/plain": [
       "| 1m 14s                              | 85.75            | 15047           |"
      ]
     },
     "metadata": {},
     "output_type": "display_data"
    },
    {
     "data": {
      "text/html": [
       "<pre>| 1m 15s                              | 86.75            | 15208           |</pre>"
      ],
      "text/plain": [
       "| 1m 15s                              | 86.75            | 15208           |"
      ]
     },
     "metadata": {},
     "output_type": "display_data"
    },
    {
     "data": {
      "text/html": [
       "<pre>| 1m 16s                              | 88               | 15432           |</pre>"
      ],
      "text/plain": [
       "| 1m 16s                              | 88               | 15432           |"
      ]
     },
     "metadata": {},
     "output_type": "display_data"
    },
    {
     "data": {
      "text/html": [
       "<pre>| 1m 17s                              | 88.75            | 15590           |</pre>"
      ],
      "text/plain": [
       "| 1m 17s                              | 88.75            | 15590           |"
      ]
     },
     "metadata": {},
     "output_type": "display_data"
    },
    {
     "data": {
      "text/html": [
       "<pre>| 1m 18s                              | 90               | 15797           |</pre>"
      ],
      "text/plain": [
       "| 1m 18s                              | 90               | 15797           |"
      ]
     },
     "metadata": {},
     "output_type": "display_data"
    },
    {
     "data": {
      "text/html": [
       "<pre>| 1m 19s                              | 91.25            | 16007           |</pre>"
      ],
      "text/plain": [
       "| 1m 19s                              | 91.25            | 16007           |"
      ]
     },
     "metadata": {},
     "output_type": "display_data"
    },
    {
     "data": {
      "text/html": [
       "<pre>| 1m 20s                              | 92.25            | 16197           |</pre>"
      ],
      "text/plain": [
       "| 1m 20s                              | 92.25            | 16197           |"
      ]
     },
     "metadata": {},
     "output_type": "display_data"
    },
    {
     "data": {
      "text/html": [
       "<pre>| 1m 21s                              | 93.5             | 16407           |</pre>"
      ],
      "text/plain": [
       "| 1m 21s                              | 93.5             | 16407           |"
      ]
     },
     "metadata": {},
     "output_type": "display_data"
    },
    {
     "data": {
      "text/html": [
       "<pre>| 1m 22s                              | 94.5             | 16563           |</pre>"
      ],
      "text/plain": [
       "| 1m 22s                              | 94.5             | 16563           |"
      ]
     },
     "metadata": {},
     "output_type": "display_data"
    },
    {
     "data": {
      "text/html": [
       "<pre>| 1m 23s                              | 95.5             | 16750           |</pre>"
      ],
      "text/plain": [
       "| 1m 23s                              | 95.5             | 16750           |"
      ]
     },
     "metadata": {},
     "output_type": "display_data"
    },
    {
     "data": {
      "text/html": [
       "<pre>| 1m 24s                              | 96.5             | 16927           |</pre>"
      ],
      "text/plain": [
       "| 1m 24s                              | 96.5             | 16927           |"
      ]
     },
     "metadata": {},
     "output_type": "display_data"
    },
    {
     "data": {
      "text/html": [
       "<pre>| 1m 25s                              | 97.5             | 17116           |</pre>"
      ],
      "text/plain": [
       "| 1m 25s                              | 97.5             | 17116           |"
      ]
     },
     "metadata": {},
     "output_type": "display_data"
    },
    {
     "data": {
      "text/html": [
       "<pre>| 1m 26s                              | 98.75            | 17337           |</pre>"
      ],
      "text/plain": [
       "| 1m 26s                              | 98.75            | 17337           |"
      ]
     },
     "metadata": {},
     "output_type": "display_data"
    },
    {
     "data": {
      "text/html": [
       "<pre>| 1m 27s                              | 99.75            | 17506           |</pre>"
      ],
      "text/plain": [
       "| 1m 27s                              | 99.75            | 17506           |"
      ]
     },
     "metadata": {},
     "output_type": "display_data"
    },
    {
     "data": {
      "text/html": [
       "<pre>| 1m 34s                              | 100              | 17519           |</pre>"
      ],
      "text/plain": [
       "| 1m 34s                              | 100              | 17519           |"
      ]
     },
     "metadata": {},
     "output_type": "display_data"
    },
    {
     "data": {
      "text/html": [
       "<pre>+-------------------------------------+------------------+-----------------+</pre>"
      ],
      "text/plain": [
       "+-------------------------------------+------------------+-----------------+"
      ]
     },
     "metadata": {},
     "output_type": "display_data"
    },
    {
     "data": {
      "text/html": [
       "<pre>Finalizing lookup tables.</pre>"
      ],
      "text/plain": [
       "Finalizing lookup tables."
      ]
     },
     "metadata": {},
     "output_type": "display_data"
    },
    {
     "data": {
      "text/html": [
       "<pre>Generating candidate set for working with new users.</pre>"
      ],
      "text/plain": [
       "Generating candidate set for working with new users."
      ]
     },
     "metadata": {},
     "output_type": "display_data"
    },
    {
     "data": {
      "text/html": [
       "<pre>Finished training in 96.5337s</pre>"
      ],
      "text/plain": [
       "Finished training in 96.5337s"
      ]
     },
     "metadata": {},
     "output_type": "display_data"
    }
   ],
   "source": [
    "training_data, validation_data = gl.recommender.util.random_split_by_user(actions, 'userId', 'movieId')\n",
    "model = gl.recommender.create(training_data, 'userId', 'movieId')"
   ]
  },
  {
   "cell_type": "markdown",
   "metadata": {},
   "source": [
    "# Explore and Evaluate the Model"
   ]
  },
  {
   "cell_type": "code",
   "execution_count": 8,
   "metadata": {
    "scrolled": false
   },
   "outputs": [
    {
     "name": "stdout",
     "output_type": "stream",
     "text": [
      "Could not detect types. Using str for each column.\n"
     ]
    },
    {
     "ename": "RuntimeError",
     "evalue": "Runtime Exception. No files corresponding to the specified path (E:\\ACADEMICS\\PEC---\\ME 4 SEM\\code\\graph-code\\dataset\\ml-20m\\movie_urls.csv).",
     "output_type": "error",
     "traceback": [
      "\u001b[1;31m---------------------------------------------------------------------------\u001b[0m",
      "\u001b[1;31mRuntimeError\u001b[0m                              Traceback (most recent call last)",
      "\u001b[1;32m<ipython-input-8-4b9f282a4e81>\u001b[0m in \u001b[0;36m<module>\u001b[1;34m()\u001b[0m\n\u001b[0;32m      1\u001b[0m \u001b[1;31m# Get the metadata ready\u001b[0m\u001b[1;33m\u001b[0m\u001b[1;33m\u001b[0m\u001b[0m\n\u001b[1;32m----> 2\u001b[1;33m \u001b[0murls\u001b[0m \u001b[1;33m=\u001b[0m \u001b[0mgl\u001b[0m\u001b[1;33m.\u001b[0m\u001b[0mSFrame\u001b[0m\u001b[1;33m.\u001b[0m\u001b[0mread_csv\u001b[0m\u001b[1;33m(\u001b[0m\u001b[0mpath\u001b[0m\u001b[1;33m.\u001b[0m\u001b[0mjoin\u001b[0m\u001b[1;33m(\u001b[0m\u001b[0mdata_dir\u001b[0m\u001b[1;33m,\u001b[0m \u001b[1;34m'movie_urls.csv'\u001b[0m\u001b[1;33m)\u001b[0m\u001b[1;33m)\u001b[0m\u001b[1;33m\u001b[0m\u001b[0m\n\u001b[0m\u001b[0;32m      3\u001b[0m \u001b[0mitems\u001b[0m \u001b[1;33m=\u001b[0m \u001b[0mitems\u001b[0m\u001b[1;33m.\u001b[0m\u001b[0mjoin\u001b[0m\u001b[1;33m(\u001b[0m\u001b[0murls\u001b[0m\u001b[1;33m,\u001b[0m \u001b[0mon\u001b[0m\u001b[1;33m=\u001b[0m\u001b[1;34m'movieId'\u001b[0m\u001b[1;33m)\u001b[0m\u001b[1;33m\u001b[0m\u001b[0m\n\u001b[0;32m      4\u001b[0m \u001b[0musers\u001b[0m \u001b[1;33m=\u001b[0m \u001b[0mgl\u001b[0m\u001b[1;33m.\u001b[0m\u001b[0mSFrame\u001b[0m\u001b[1;33m.\u001b[0m\u001b[0mread_csv\u001b[0m\u001b[1;33m(\u001b[0m\u001b[0mpath\u001b[0m\u001b[1;33m.\u001b[0m\u001b[0mjoin\u001b[0m\u001b[1;33m(\u001b[0m\u001b[0mdata_dir\u001b[0m\u001b[1;33m,\u001b[0m \u001b[1;34m'user_names.csv'\u001b[0m\u001b[1;33m)\u001b[0m\u001b[1;33m)\u001b[0m\u001b[1;33m\u001b[0m\u001b[0m\n",
      "\u001b[1;32mC:\\Anaconda3\\envs\\graphlab\\lib\\site-packages\\graphlab\\data_structures\\sframe.pyc\u001b[0m in \u001b[0;36mread_csv\u001b[1;34m(cls, url, delimiter, header, error_bad_lines, comment_char, escape_char, double_quote, quote_char, skip_initial_space, column_type_hints, na_values, line_terminator, usecols, nrows, skiprows, verbose, nrows_to_infer, **kwargs)\u001b[0m\n\u001b[0;32m   1623\u001b[0m                                   \u001b[0mstore_errors\u001b[0m\u001b[1;33m=\u001b[0m\u001b[0mFalse\u001b[0m\u001b[1;33m,\u001b[0m\u001b[1;33m\u001b[0m\u001b[0m\n\u001b[0;32m   1624\u001b[0m                                   \u001b[0mnrows_to_infer\u001b[0m\u001b[1;33m=\u001b[0m\u001b[0mnrows_to_infer\u001b[0m\u001b[1;33m,\u001b[0m\u001b[1;33m\u001b[0m\u001b[0m\n\u001b[1;32m-> 1625\u001b[1;33m                                   **kwargs)[0]\n\u001b[0m\u001b[0;32m   1626\u001b[0m \u001b[1;33m\u001b[0m\u001b[0m\n\u001b[0;32m   1627\u001b[0m \u001b[1;33m\u001b[0m\u001b[0m\n",
      "\u001b[1;32mC:\\Anaconda3\\envs\\graphlab\\lib\\site-packages\\graphlab\\data_structures\\sframe.pyc\u001b[0m in \u001b[0;36m_read_csv_impl\u001b[1;34m(cls, url, delimiter, header, error_bad_lines, comment_char, escape_char, double_quote, quote_char, skip_initial_space, column_type_hints, na_values, line_terminator, usecols, nrows, skiprows, verbose, store_errors, nrows_to_infer, **kwargs)\u001b[0m\n\u001b[0;32m   1179\u001b[0m                 \u001b[0mglconnect\u001b[0m\u001b[1;33m.\u001b[0m\u001b[0mget_server\u001b[0m\u001b[1;33m(\u001b[0m\u001b[1;33m)\u001b[0m\u001b[1;33m.\u001b[0m\u001b[0mset_log_progress\u001b[0m\u001b[1;33m(\u001b[0m\u001b[0mFalse\u001b[0m\u001b[1;33m)\u001b[0m\u001b[1;33m\u001b[0m\u001b[0m\n\u001b[0;32m   1180\u001b[0m             \u001b[1;32mwith\u001b[0m \u001b[0mcython_context\u001b[0m\u001b[1;33m(\u001b[0m\u001b[1;33m)\u001b[0m\u001b[1;33m:\u001b[0m\u001b[1;33m\u001b[0m\u001b[0m\n\u001b[1;32m-> 1181\u001b[1;33m                 \u001b[0merrors\u001b[0m \u001b[1;33m=\u001b[0m \u001b[0mproxy\u001b[0m\u001b[1;33m.\u001b[0m\u001b[0mload_from_csvs\u001b[0m\u001b[1;33m(\u001b[0m\u001b[0minternal_url\u001b[0m\u001b[1;33m,\u001b[0m \u001b[0mparsing_config\u001b[0m\u001b[1;33m,\u001b[0m \u001b[0mtype_hints\u001b[0m\u001b[1;33m)\u001b[0m\u001b[1;33m\u001b[0m\u001b[0m\n\u001b[0m\u001b[0;32m   1182\u001b[0m         \u001b[1;32mexcept\u001b[0m \u001b[0mException\u001b[0m \u001b[1;32mas\u001b[0m \u001b[0me\u001b[0m\u001b[1;33m:\u001b[0m\u001b[1;33m\u001b[0m\u001b[0m\n\u001b[0;32m   1183\u001b[0m             \u001b[1;32mif\u001b[0m \u001b[0mtype\u001b[0m\u001b[1;33m(\u001b[0m\u001b[0me\u001b[0m\u001b[1;33m)\u001b[0m \u001b[1;33m==\u001b[0m \u001b[0mRuntimeError\u001b[0m \u001b[1;32mand\u001b[0m \u001b[1;34m\"CSV parsing cancelled\"\u001b[0m \u001b[1;32min\u001b[0m \u001b[0mstr\u001b[0m\u001b[1;33m(\u001b[0m\u001b[0me\u001b[0m\u001b[1;33m.\u001b[0m\u001b[0margs\u001b[0m\u001b[1;33m[\u001b[0m\u001b[1;36m0\u001b[0m\u001b[1;33m]\u001b[0m\u001b[1;33m)\u001b[0m\u001b[1;33m:\u001b[0m\u001b[1;33m\u001b[0m\u001b[0m\n",
      "\u001b[1;32mC:\\Anaconda3\\envs\\graphlab\\lib\\site-packages\\graphlab\\cython\\context.pyc\u001b[0m in \u001b[0;36m__exit__\u001b[1;34m(self, exc_type, exc_value, traceback)\u001b[0m\n\u001b[0;32m     47\u001b[0m             \u001b[1;32mif\u001b[0m \u001b[1;32mnot\u001b[0m \u001b[0mself\u001b[0m\u001b[1;33m.\u001b[0m\u001b[0mshow_cython_trace\u001b[0m\u001b[1;33m:\u001b[0m\u001b[1;33m\u001b[0m\u001b[0m\n\u001b[0;32m     48\u001b[0m                 \u001b[1;31m# To hide cython trace, we re-raise from here\u001b[0m\u001b[1;33m\u001b[0m\u001b[1;33m\u001b[0m\u001b[0m\n\u001b[1;32m---> 49\u001b[1;33m                 \u001b[1;32mraise\u001b[0m \u001b[0mexc_type\u001b[0m\u001b[1;33m(\u001b[0m\u001b[0mexc_value\u001b[0m\u001b[1;33m)\u001b[0m\u001b[1;33m\u001b[0m\u001b[0m\n\u001b[0m\u001b[0;32m     50\u001b[0m             \u001b[1;32melse\u001b[0m\u001b[1;33m:\u001b[0m\u001b[1;33m\u001b[0m\u001b[0m\n\u001b[0;32m     51\u001b[0m                 \u001b[1;31m# To show the full trace, we do nothing and let exception propagate\u001b[0m\u001b[1;33m\u001b[0m\u001b[1;33m\u001b[0m\u001b[0m\n",
      "\u001b[1;31mRuntimeError\u001b[0m: Runtime Exception. No files corresponding to the specified path (E:\\ACADEMICS\\PEC---\\ME 4 SEM\\code\\graph-code\\dataset\\ml-20m\\movie_urls.csv)."
     ]
    }
   ],
   "source": [
    "# Get the metadata ready\n",
    "urls = gl.SFrame.read_csv(path.join(data_dir, 'movie_urls.csv'))\n",
    "items = items.join(urls, on='movieId')\n",
    "users = gl.SFrame.read_csv(path.join(data_dir, 'user_names.csv'))"
   ]
  },
  {
   "cell_type": "code",
   "execution_count": null,
   "metadata": {},
   "outputs": [],
   "source": [
    "# Interactively evaluate and explore recommendations\n",
    "view = model.views.overview(validation_set=validation_data,\n",
    "                            user_data=users,\n",
    "                            item_data=items,\n",
    "                            item_name_column='title',\n",
    "                            item_url_column='url')\n",
    "view.show()"
   ]
  },
  {
   "cell_type": "code",
   "execution_count": null,
   "metadata": {},
   "outputs": [],
   "source": []
  }
 ],
 "metadata": {
  "kernelspec": {
   "display_name": "Python [conda env:graphlab]",
   "language": "python",
   "name": "conda-env-graphlab-py"
  },
  "language_info": {
   "codemirror_mode": {
    "name": "ipython",
    "version": 2
   },
   "file_extension": ".py",
   "mimetype": "text/x-python",
   "name": "python",
   "nbconvert_exporter": "python",
   "pygments_lexer": "ipython2",
   "version": "2.7.14"
  }
 },
 "nbformat": 4,
 "nbformat_minor": 1
}
