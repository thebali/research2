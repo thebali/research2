{
 "cells": [
  {
   "cell_type": "code",
   "execution_count": 19,
   "metadata": {},
   "outputs": [],
   "source": [
    "import graphlab as gl\n",
    "\n",
    "from sklearn.model_selection import train_test_split\n",
    "from scipy.sparse import csr_matrix\n",
    "\n",
    "import pandas as pd\n",
    "import numpy as np"
   ]
  },
  {
   "cell_type": "code",
   "execution_count": 20,
   "metadata": {},
   "outputs": [
    {
     "data": {
      "text/html": [
       "<pre>Finished parsing file E:\\ACADEMICS\\PEC---\\ME 4 SEM\\code\\graph-code\\dataset\\amazon5core\\digitalmusic\\10ksample.csv</pre>"
      ],
      "text/plain": [
       "Finished parsing file E:\\ACADEMICS\\PEC---\\ME 4 SEM\\code\\graph-code\\dataset\\amazon5core\\digitalmusic\\10ksample.csv"
      ]
     },
     "metadata": {},
     "output_type": "display_data"
    },
    {
     "data": {
      "text/html": [
       "<pre>Parsing completed. Parsed 10000 lines in 0.260236 secs.</pre>"
      ],
      "text/plain": [
       "Parsing completed. Parsed 10000 lines in 0.260236 secs."
      ]
     },
     "metadata": {},
     "output_type": "display_data"
    }
   ],
   "source": [
    "musicdata = \"./dataset/amazon5core/digitalmusic/10ksample.csv\"\n",
    "healthdata = \"./dataset/amazon5core/healthcare/10ksample.csv\"\n",
    "\n",
    "# loading data using gl\n",
    "musicsf = gl.SFrame.read_csv(musicdata, delimiter=\",\",\n",
    "                             usecols=[\"asin\",\"reviewerID\",\"overall\",\"reviewText\"],\n",
    "                             column_type_hints=[str, str, int, str])\n",
    "\n",
    "# healthsf = gl.SFrame.read_csv(healthdata, delimiter=\",\",\n",
    "#                               usecols=[\"asin\",\"reviewerID\",\"overall\",\"reviewText\"],\n",
    "#                               column_type_hints=[str, str, int, str])"
   ]
  },
  {
   "cell_type": "code",
   "execution_count": 21,
   "metadata": {},
   "outputs": [],
   "source": [
    "# divide the review and rating data\n",
    "ratings = musicsf[[\"asin\", \"reviewerID\", \"overall\"]]\n",
    "reviews = musicsf[[\"asin\", \"reviewerID\", \"reviewText\"]]\n",
    "\n",
    "\n",
    "# ratings = healthsf[[\"asin\", \"reviewerID\", \"overall\"]]\n",
    "# reviews = healthsf[[\"asin\", \"reviewerID\", \"reviewText\"]]\n"
   ]
  },
  {
   "cell_type": "code",
   "execution_count": 24,
   "metadata": {},
   "outputs": [
    {
     "data": {
      "text/html": [
       "<pre>Recsys training: model = factorization_recommender</pre>"
      ],
      "text/plain": [
       "Recsys training: model = factorization_recommender"
      ]
     },
     "metadata": {},
     "output_type": "display_data"
    },
    {
     "data": {
      "text/html": [
       "<pre>Preparing data set.</pre>"
      ],
      "text/plain": [
       "Preparing data set."
      ]
     },
     "metadata": {},
     "output_type": "display_data"
    },
    {
     "data": {
      "text/html": [
       "<pre>    Data has 10000 observations with 4080 users and 2866 items.</pre>"
      ],
      "text/plain": [
       "    Data has 10000 observations with 4080 users and 2866 items."
      ]
     },
     "metadata": {},
     "output_type": "display_data"
    },
    {
     "data": {
      "text/html": [
       "<pre>    Data prepared in: 0.062056s</pre>"
      ],
      "text/plain": [
       "    Data prepared in: 0.062056s"
      ]
     },
     "metadata": {},
     "output_type": "display_data"
    },
    {
     "data": {
      "text/html": [
       "<pre>Training factorization_recommender for recommendations.</pre>"
      ],
      "text/plain": [
       "Training factorization_recommender for recommendations."
      ]
     },
     "metadata": {},
     "output_type": "display_data"
    },
    {
     "data": {
      "text/html": [
       "<pre>+------------------------------+--------------------------------------------------+----------+</pre>"
      ],
      "text/plain": [
       "+------------------------------+--------------------------------------------------+----------+"
      ]
     },
     "metadata": {},
     "output_type": "display_data"
    },
    {
     "data": {
      "text/html": [
       "<pre>| Parameter                    | Description                                      | Value    |</pre>"
      ],
      "text/plain": [
       "| Parameter                    | Description                                      | Value    |"
      ]
     },
     "metadata": {},
     "output_type": "display_data"
    },
    {
     "data": {
      "text/html": [
       "<pre>+------------------------------+--------------------------------------------------+----------+</pre>"
      ],
      "text/plain": [
       "+------------------------------+--------------------------------------------------+----------+"
      ]
     },
     "metadata": {},
     "output_type": "display_data"
    },
    {
     "data": {
      "text/html": [
       "<pre>| num_factors                  | Factor Dimension                                 | 10       |</pre>"
      ],
      "text/plain": [
       "| num_factors                  | Factor Dimension                                 | 10       |"
      ]
     },
     "metadata": {},
     "output_type": "display_data"
    },
    {
     "data": {
      "text/html": [
       "<pre>| regularization               | L2 Regularization on Factors                     | 1e-008   |</pre>"
      ],
      "text/plain": [
       "| regularization               | L2 Regularization on Factors                     | 1e-008   |"
      ]
     },
     "metadata": {},
     "output_type": "display_data"
    },
    {
     "data": {
      "text/html": [
       "<pre>| max_iterations               | Maximum Number of Iterations                     | 50       |</pre>"
      ],
      "text/plain": [
       "| max_iterations               | Maximum Number of Iterations                     | 50       |"
      ]
     },
     "metadata": {},
     "output_type": "display_data"
    },
    {
     "data": {
      "text/html": [
       "<pre>| solver                       | Solver used for training                         | als      |</pre>"
      ],
      "text/plain": [
       "| solver                       | Solver used for training                         | als      |"
      ]
     },
     "metadata": {},
     "output_type": "display_data"
    },
    {
     "data": {
      "text/html": [
       "<pre>+------------------------------+--------------------------------------------------+----------+</pre>"
      ],
      "text/plain": [
       "+------------------------------+--------------------------------------------------+----------+"
      ]
     },
     "metadata": {},
     "output_type": "display_data"
    },
    {
     "data": {
      "text/html": [
       "<pre>+---------+--------------+------------------------+</pre>"
      ],
      "text/plain": [
       "+---------+--------------+------------------------+"
      ]
     },
     "metadata": {},
     "output_type": "display_data"
    },
    {
     "data": {
      "text/html": [
       "<pre>| Iter.   | Elapsed time | RMSE                   |</pre>"
      ],
      "text/plain": [
       "| Iter.   | Elapsed time | RMSE                   |"
      ]
     },
     "metadata": {},
     "output_type": "display_data"
    },
    {
     "data": {
      "text/html": [
       "<pre>+---------+--------------+------------------------+</pre>"
      ],
      "text/plain": [
       "+---------+--------------+------------------------+"
      ]
     },
     "metadata": {},
     "output_type": "display_data"
    },
    {
     "data": {
      "text/html": [
       "<pre>| Initial | 0us          | NA                     |</pre>"
      ],
      "text/plain": [
       "| Initial | 0us          | NA                     |"
      ]
     },
     "metadata": {},
     "output_type": "display_data"
    },
    {
     "data": {
      "text/html": [
       "<pre>+---------+--------------+------------------------+</pre>"
      ],
      "text/plain": [
       "+---------+--------------+------------------------+"
      ]
     },
     "metadata": {},
     "output_type": "display_data"
    },
    {
     "data": {
      "text/html": [
       "<pre>| 0       | 40.036ms     | 0.107365               |</pre>"
      ],
      "text/plain": [
       "| 0       | 40.036ms     | 0.107365               |"
      ]
     },
     "metadata": {},
     "output_type": "display_data"
    },
    {
     "data": {
      "text/html": [
       "<pre>| 1       | 72.065ms     | 0.00578583             |</pre>"
      ],
      "text/plain": [
       "| 1       | 72.065ms     | 0.00578583             |"
      ]
     },
     "metadata": {},
     "output_type": "display_data"
    },
    {
     "data": {
      "text/html": [
       "<pre>| 2       | 103.094ms    | 0.00211948             |</pre>"
      ],
      "text/plain": [
       "| 2       | 103.094ms    | 0.00211948             |"
      ]
     },
     "metadata": {},
     "output_type": "display_data"
    },
    {
     "data": {
      "text/html": [
       "<pre>| 3       | 132.121ms    | 0.00233133             |</pre>"
      ],
      "text/plain": [
       "| 3       | 132.121ms    | 0.00233133             |"
      ]
     },
     "metadata": {},
     "output_type": "display_data"
    },
    {
     "data": {
      "text/html": [
       "<pre>| 4       | 188.172ms    | 0.0026181              |</pre>"
      ],
      "text/plain": [
       "| 4       | 188.172ms    | 0.0026181              |"
      ]
     },
     "metadata": {},
     "output_type": "display_data"
    },
    {
     "data": {
      "text/html": [
       "<pre>| 5       | 225.206ms    | 0.0011217              |</pre>"
      ],
      "text/plain": [
       "| 5       | 225.206ms    | 0.0011217              |"
      ]
     },
     "metadata": {},
     "output_type": "display_data"
    },
    {
     "data": {
      "text/html": [
       "<pre>| 6       | 257.233ms    | 0.00244023             |</pre>"
      ],
      "text/plain": [
       "| 6       | 257.233ms    | 0.00244023             |"
      ]
     },
     "metadata": {},
     "output_type": "display_data"
    },
    {
     "data": {
      "text/html": [
       "<pre>| 7       | 288.26ms     | 0.00289296             |</pre>"
      ],
      "text/plain": [
       "| 7       | 288.26ms     | 0.00289296             |"
      ]
     },
     "metadata": {},
     "output_type": "display_data"
    },
    {
     "data": {
      "text/html": [
       "<pre>| 8       | 314.284ms    | 0.00260546             |</pre>"
      ],
      "text/plain": [
       "| 8       | 314.284ms    | 0.00260546             |"
      ]
     },
     "metadata": {},
     "output_type": "display_data"
    },
    {
     "data": {
      "text/html": [
       "<pre>| 9       | 341.309ms    | 0.00402747             |</pre>"
      ],
      "text/plain": [
       "| 9       | 341.309ms    | 0.00402747             |"
      ]
     },
     "metadata": {},
     "output_type": "display_data"
    },
    {
     "data": {
      "text/html": [
       "<pre>| 10      | 368.333ms    | 0.012243               |</pre>"
      ],
      "text/plain": [
       "| 10      | 368.333ms    | 0.012243               |"
      ]
     },
     "metadata": {},
     "output_type": "display_data"
    },
    {
     "data": {
      "text/html": [
       "<pre>| 11      | 406.367ms    | 0.0104398              |</pre>"
      ],
      "text/plain": [
       "| 11      | 406.367ms    | 0.0104398              |"
      ]
     },
     "metadata": {},
     "output_type": "display_data"
    },
    {
     "data": {
      "text/html": [
       "<pre>| 12      | 430.389ms    | 0.012688               |</pre>"
      ],
      "text/plain": [
       "| 12      | 430.389ms    | 0.012688               |"
      ]
     },
     "metadata": {},
     "output_type": "display_data"
    },
    {
     "data": {
      "text/html": [
       "<pre>| 13      | 455.412ms    | 0.00936678             |</pre>"
      ],
      "text/plain": [
       "| 13      | 455.412ms    | 0.00936678             |"
      ]
     },
     "metadata": {},
     "output_type": "display_data"
    },
    {
     "data": {
      "text/html": [
       "<pre>| 14      | 484.439ms    | 0.0238633              |</pre>"
      ],
      "text/plain": [
       "| 14      | 484.439ms    | 0.0238633              |"
      ]
     },
     "metadata": {},
     "output_type": "display_data"
    },
    {
     "data": {
      "text/html": [
       "<pre>| 15      | 515.468ms    | 0.0198667              |</pre>"
      ],
      "text/plain": [
       "| 15      | 515.468ms    | 0.0198667              |"
      ]
     },
     "metadata": {},
     "output_type": "display_data"
    },
    {
     "data": {
      "text/html": [
       "<pre>| 16      | 544.493ms    | 0.0244128              |</pre>"
      ],
      "text/plain": [
       "| 16      | 544.493ms    | 0.0244128              |"
      ]
     },
     "metadata": {},
     "output_type": "display_data"
    },
    {
     "data": {
      "text/html": [
       "<pre>| 17      | 568.515ms    | 0.0374703              |</pre>"
      ],
      "text/plain": [
       "| 17      | 568.515ms    | 0.0374703              |"
      ]
     },
     "metadata": {},
     "output_type": "display_data"
    },
    {
     "data": {
      "text/html": [
       "<pre>| 18      | 597.541ms    | 0.0174365              |</pre>"
      ],
      "text/plain": [
       "| 18      | 597.541ms    | 0.0174365              |"
      ]
     },
     "metadata": {},
     "output_type": "display_data"
    },
    {
     "data": {
      "text/html": [
       "<pre>| 19      | 623.566ms    | 0.0383141              |</pre>"
      ],
      "text/plain": [
       "| 19      | 623.566ms    | 0.0383141              |"
      ]
     },
     "metadata": {},
     "output_type": "display_data"
    },
    {
     "data": {
      "text/html": [
       "<pre>| 20      | 648.587ms    | 0.0303045              |</pre>"
      ],
      "text/plain": [
       "| 20      | 648.587ms    | 0.0303045              |"
      ]
     },
     "metadata": {},
     "output_type": "display_data"
    },
    {
     "data": {
      "text/html": [
       "<pre>| 21      | 679.616ms    | 0.0287044              |</pre>"
      ],
      "text/plain": [
       "| 21      | 679.616ms    | 0.0287044              |"
      ]
     },
     "metadata": {},
     "output_type": "display_data"
    },
    {
     "data": {
      "text/html": [
       "<pre>| 22      | 703.638ms    | 0.0643857              |</pre>"
      ],
      "text/plain": [
       "| 22      | 703.638ms    | 0.0643857              |"
      ]
     },
     "metadata": {},
     "output_type": "display_data"
    },
    {
     "data": {
      "text/html": [
       "<pre>| 23      | 727.66ms     | 0.0402472              |</pre>"
      ],
      "text/plain": [
       "| 23      | 727.66ms     | 0.0402472              |"
      ]
     },
     "metadata": {},
     "output_type": "display_data"
    },
    {
     "data": {
      "text/html": [
       "<pre>| 24      | 751.682ms    | 0.0193621              |</pre>"
      ],
      "text/plain": [
       "| 24      | 751.682ms    | 0.0193621              |"
      ]
     },
     "metadata": {},
     "output_type": "display_data"
    },
    {
     "data": {
      "text/html": [
       "<pre>| 25      | 782.71ms     | 0.0314234              |</pre>"
      ],
      "text/plain": [
       "| 25      | 782.71ms     | 0.0314234              |"
      ]
     },
     "metadata": {},
     "output_type": "display_data"
    },
    {
     "data": {
      "text/html": [
       "<pre>| 26      | 812.737ms    | 0.0195558              |</pre>"
      ],
      "text/plain": [
       "| 26      | 812.737ms    | 0.0195558              |"
      ]
     },
     "metadata": {},
     "output_type": "display_data"
    },
    {
     "data": {
      "text/html": [
       "<pre>| 27      | 836.759ms    | 0.0882749              |</pre>"
      ],
      "text/plain": [
       "| 27      | 836.759ms    | 0.0882749              |"
      ]
     },
     "metadata": {},
     "output_type": "display_data"
    },
    {
     "data": {
      "text/html": [
       "<pre>| 28      | 861.781ms    | 0.0275744              |</pre>"
      ],
      "text/plain": [
       "| 28      | 861.781ms    | 0.0275744              |"
      ]
     },
     "metadata": {},
     "output_type": "display_data"
    },
    {
     "data": {
      "text/html": [
       "<pre>| 29      | 900.817ms    | 0.0124808              |</pre>"
      ],
      "text/plain": [
       "| 29      | 900.817ms    | 0.0124808              |"
      ]
     },
     "metadata": {},
     "output_type": "display_data"
    },
    {
     "data": {
      "text/html": [
       "<pre>| 30      | 933.847ms    | 0.0127551              |</pre>"
      ],
      "text/plain": [
       "| 30      | 933.847ms    | 0.0127551              |"
      ]
     },
     "metadata": {},
     "output_type": "display_data"
    },
    {
     "data": {
      "text/html": [
       "<pre>| 31      | 958.869ms    | 0.177283               |</pre>"
      ],
      "text/plain": [
       "| 31      | 958.869ms    | 0.177283               |"
      ]
     },
     "metadata": {},
     "output_type": "display_data"
    },
    {
     "data": {
      "text/html": [
       "<pre>| 32      | 983.892ms    | 0.0310577              |</pre>"
      ],
      "text/plain": [
       "| 32      | 983.892ms    | 0.0310577              |"
      ]
     },
     "metadata": {},
     "output_type": "display_data"
    },
    {
     "data": {
      "text/html": [
       "<pre>| 33      | 1.00s        | 0.0100484              |</pre>"
      ],
      "text/plain": [
       "| 33      | 1.00s        | 0.0100484              |"
      ]
     },
     "metadata": {},
     "output_type": "display_data"
    },
    {
     "data": {
      "text/html": [
       "<pre>| 34      | 1.03s        | 0.0107377              |</pre>"
      ],
      "text/plain": [
       "| 34      | 1.03s        | 0.0107377              |"
      ]
     },
     "metadata": {},
     "output_type": "display_data"
    },
    {
     "data": {
      "text/html": [
       "<pre>| 35      | 1.06s        | 0.0228617              |</pre>"
      ],
      "text/plain": [
       "| 35      | 1.06s        | 0.0228617              |"
      ]
     },
     "metadata": {},
     "output_type": "display_data"
    },
    {
     "data": {
      "text/html": [
       "<pre>| 36      | 1.08s        | 0.0275318              |</pre>"
      ],
      "text/plain": [
       "| 36      | 1.08s        | 0.0275318              |"
      ]
     },
     "metadata": {},
     "output_type": "display_data"
    },
    {
     "data": {
      "text/html": [
       "<pre>| 37      | 1.11s        | 0.0237263              |</pre>"
      ],
      "text/plain": [
       "| 37      | 1.11s        | 0.0237263              |"
      ]
     },
     "metadata": {},
     "output_type": "display_data"
    },
    {
     "data": {
      "text/html": [
       "<pre>| 38      | 1.14s        | 0.018956               |</pre>"
      ],
      "text/plain": [
       "| 38      | 1.14s        | 0.018956               |"
      ]
     },
     "metadata": {},
     "output_type": "display_data"
    },
    {
     "data": {
      "text/html": [
       "<pre>| 39      | 1.16s        | 0.0908501              |</pre>"
      ],
      "text/plain": [
       "| 39      | 1.16s        | 0.0908501              |"
      ]
     },
     "metadata": {},
     "output_type": "display_data"
    },
    {
     "data": {
      "text/html": [
       "<pre>| 40      | 1.19s        | 0.0161186              |</pre>"
      ],
      "text/plain": [
       "| 40      | 1.19s        | 0.0161186              |"
      ]
     },
     "metadata": {},
     "output_type": "display_data"
    },
    {
     "data": {
      "text/html": [
       "<pre>| 41      | 1.21s        | 0.0178323              |</pre>"
      ],
      "text/plain": [
       "| 41      | 1.21s        | 0.0178323              |"
      ]
     },
     "metadata": {},
     "output_type": "display_data"
    },
    {
     "data": {
      "text/html": [
       "<pre>| 42      | 1.24s        | 0.0304488              |</pre>"
      ],
      "text/plain": [
       "| 42      | 1.24s        | 0.0304488              |"
      ]
     },
     "metadata": {},
     "output_type": "display_data"
    },
    {
     "data": {
      "text/html": [
       "<pre>| 43      | 1.26s        | 0.0242155              |</pre>"
      ],
      "text/plain": [
       "| 43      | 1.26s        | 0.0242155              |"
      ]
     },
     "metadata": {},
     "output_type": "display_data"
    },
    {
     "data": {
      "text/html": [
       "<pre>| 44      | 1.29s        | 0.0158165              |</pre>"
      ],
      "text/plain": [
       "| 44      | 1.29s        | 0.0158165              |"
      ]
     },
     "metadata": {},
     "output_type": "display_data"
    },
    {
     "data": {
      "text/html": [
       "<pre>| 45      | 1.32s        | 0.0104978              |</pre>"
      ],
      "text/plain": [
       "| 45      | 1.32s        | 0.0104978              |"
      ]
     },
     "metadata": {},
     "output_type": "display_data"
    },
    {
     "data": {
      "text/html": [
       "<pre>| 46      | 1.34s        | 0.0249064              |</pre>"
      ],
      "text/plain": [
       "| 46      | 1.34s        | 0.0249064              |"
      ]
     },
     "metadata": {},
     "output_type": "display_data"
    },
    {
     "data": {
      "text/html": [
       "<pre>| 47      | 1.37s        | 0.0244941              |</pre>"
      ],
      "text/plain": [
       "| 47      | 1.37s        | 0.0244941              |"
      ]
     },
     "metadata": {},
     "output_type": "display_data"
    },
    {
     "data": {
      "text/html": [
       "<pre>| 48      | 1.40s        | 0.0145944              |</pre>"
      ],
      "text/plain": [
       "| 48      | 1.40s        | 0.0145944              |"
      ]
     },
     "metadata": {},
     "output_type": "display_data"
    },
    {
     "data": {
      "text/html": [
       "<pre>| 49      | 1.43s        | 0.0153876              |</pre>"
      ],
      "text/plain": [
       "| 49      | 1.43s        | 0.0153876              |"
      ]
     },
     "metadata": {},
     "output_type": "display_data"
    },
    {
     "data": {
      "text/html": [
       "<pre>| FINAL   | 1.43s        | 0.0153876              |</pre>"
      ],
      "text/plain": [
       "| FINAL   | 1.43s        | 0.0153876              |"
      ]
     },
     "metadata": {},
     "output_type": "display_data"
    },
    {
     "data": {
      "text/html": [
       "<pre>+---------+--------------+------------------------+</pre>"
      ],
      "text/plain": [
       "+---------+--------------+------------------------+"
      ]
     },
     "metadata": {},
     "output_type": "display_data"
    },
    {
     "data": {
      "text/html": [
       "<pre>Optimization Complete: Iteration limit reached.</pre>"
      ],
      "text/plain": [
       "Optimization Complete: Iteration limit reached."
      ]
     },
     "metadata": {},
     "output_type": "display_data"
    }
   ],
   "source": [
    "## using recommender system lsa or svd\n",
    "\n",
    "model_class = gl.recommender.factorization_recommender.create(observation_data=ratings,\n",
    "                                                              user_id=\"reviewerID\",\n",
    "                                                              item_id=\"asin\",\n",
    "                                                              target=\"overall\",\n",
    "                                                              num_factors=10,\n",
    "                                                              solver='als',\n",
    "                                                              verbose=1)"
   ]
  },
  {
   "cell_type": "code",
   "execution_count": 26,
   "metadata": {},
   "outputs": [
    {
     "data": {
      "text/plain": [
       "{}"
      ]
     },
     "execution_count": 26,
     "metadata": {},
     "output_type": "execute_result"
    }
   ],
   "source": [
    "pr = model_class.evaluate_precision_recall\n",
    "pr.im_func.func_dict"
   ]
  },
  {
   "cell_type": "code",
   "execution_count": 3,
   "metadata": {},
   "outputs": [],
   "source": [
    "## using topic modelling\n"
   ]
  }
 ],
 "metadata": {
  "kernelspec": {
   "display_name": "Python [conda env:graphlab]",
   "language": "python",
   "name": "conda-env-graphlab-py"
  },
  "language_info": {
   "codemirror_mode": {
    "name": "ipython",
    "version": 2
   },
   "file_extension": ".py",
   "mimetype": "text/x-python",
   "name": "python",
   "nbconvert_exporter": "python",
   "pygments_lexer": "ipython2",
   "version": "2.7.14"
  }
 },
 "nbformat": 4,
 "nbformat_minor": 2
}
