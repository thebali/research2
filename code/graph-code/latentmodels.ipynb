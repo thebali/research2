{
 "cells": [
  {
   "cell_type": "code",
   "execution_count": 10,
   "metadata": {},
   "outputs": [],
   "source": [
    "import graphlab as gl\n",
    "\n",
    "from sklearn.model_selection import train_test_split\n",
    "from scipy.sparse import csr_matrix\n",
    "\n",
    "import pandas as pd\n",
    "import numpy as np"
   ]
  },
  {
   "cell_type": "code",
   "execution_count": 17,
   "metadata": {},
   "outputs": [
    {
     "data": {
      "text/html": [
       "<pre>Finished parsing file E:\\ACADEMICS\\PEC---\\ME 4 SEM\\code\\data\\digitalmusic\\ratings\\dm-ratings.csv</pre>"
      ],
      "text/plain": [
       "Finished parsing file E:\\ACADEMICS\\PEC---\\ME 4 SEM\\code\\data\\digitalmusic\\ratings\\dm-ratings.csv"
      ]
     },
     "metadata": {},
     "output_type": "display_data"
    },
    {
     "data": {
      "text/html": [
       "<pre>Parsing completed. Parsed 836006 lines in 1.28317 secs.</pre>"
      ],
      "text/plain": [
       "Parsing completed. Parsed 836006 lines in 1.28317 secs."
      ]
     },
     "metadata": {},
     "output_type": "display_data"
    },
    {
     "data": {
      "text/html": [
       "<pre>Read 64194 lines. Lines per second: 55146.8</pre>"
      ],
      "text/plain": [
       "Read 64194 lines. Lines per second: 55146.8"
      ]
     },
     "metadata": {},
     "output_type": "display_data"
    },
    {
     "data": {
      "text/html": [
       "<pre>Unable to parse line \"B00005QG9J,\"[1, 8]\",2,\"Horrible, nothing like the old days,hopefully next CD will be better. BTW, their not so hot live either :-\\\",A3A46ODNJA64XZ,Horrible.\"</pre>"
      ],
      "text/plain": [
       "Unable to parse line \"B00005QG9J,\"[1, 8]\",2,\"Horrible, nothing like the old days,hopefully next CD will be better. BTW, their not so hot live either :-\\\",A3A46ODNJA64XZ,Horrible.\""
      ]
     },
     "metadata": {},
     "output_type": "display_data"
    },
    {
     "data": {
      "text/html": [
       "<pre>Unable to parse line \"B000BGR18W,\"[4, 6]\",5,\"CARRIE UNDERWOOD IS ONE OF THE BEST IN COUNTRY MUSIC, SHE HAS THE SOUND OF A CROSS BETWEEN MARTINA MCBRIDE AND FAITH HILL, AND HER BEAUTY DOESN'T HURT HER RATINGS\\\",A3R2OZ0RB7Q7VK,GREAT SINGER\"</pre>"
      ],
      "text/plain": [
       "Unable to parse line \"B000BGR18W,\"[4, 6]\",5,\"CARRIE UNDERWOOD IS ONE OF THE BEST IN COUNTRY MUSIC, SHE HAS THE SOUND OF A CROSS BETWEEN MARTINA MCBRIDE AND FAITH HILL, AND HER BEAUTY DOESN'T HURT HER RATINGS\\\",A3R2OZ0RB7Q7VK,GREAT SINGER\""
      ]
     },
     "metadata": {},
     "output_type": "display_data"
    },
    {
     "data": {
      "text/html": [
       "<pre>Unable to parse line \"B0009G3BWE,\"[4, 5]\",2,\"i'm not really feeling the album. I liked the single \"\"Sittin Sideways\"\" and also \"\"Drive Slow\"\". But the album as a whole...?? it's not that hot. the beats are lacking... paul wall sounds like he has  down syndrome... if it wasn't f...\"</pre>"
      ],
      "text/plain": [
       "Unable to parse line \"B0009G3BWE,\"[4, 5]\",2,\"i'm not really feeling the album. I liked the single \"\"Sittin Sideways\"\" and also \"\"Drive Slow\"\". But the album as a whole...?? it's not that hot. the beats are lacking... paul wall sounds like he has  down syndrome... if it wasn't f...\""
      ]
     },
     "metadata": {},
     "output_type": "display_data"
    },
    {
     "data": {
      "text/html": [
       "<pre>Unable to parse line \"B001ERSLKO,\"[0, 0]\",5,\"One of the greatest Linkin Park songs of all time, if you don't want to spend a buck for this song, then :\\\",A17R1M5ECDQ5JP,Greatest LP song\"</pre>"
      ],
      "text/plain": [
       "Unable to parse line \"B001ERSLKO,\"[0, 0]\",5,\"One of the greatest Linkin Park songs of all time, if you don't want to spend a buck for this song, then :\\\",A17R1M5ECDQ5JP,Greatest LP song\""
      ]
     },
     "metadata": {},
     "output_type": "display_data"
    },
    {
     "data": {
      "text/html": [
       "<pre>Unable to parse line \"B0011V58QI,\"[1, 2]\",5,\"The concept of this record was to get independent and underground bands to cover music by more mainstream and contemporary pop bands. And let me tell you- it's so shocking to hear this! It's awesome! You'll wish Goat redid all Fall O...\"</pre>"
      ],
      "text/plain": [
       "Unable to parse line \"B0011V58QI,\"[1, 2]\",5,\"The concept of this record was to get independent and underground bands to cover music by more mainstream and contemporary pop bands. And let me tell you- it's so shocking to hear this! It's awesome! You'll wish Goat redid all Fall O...\""
      ]
     },
     "metadata": {},
     "output_type": "display_data"
    },
    {
     "data": {
      "text/html": [
       "<pre>Unable to parse line \"B00136LLIU,\"[0, 0]\",5,\"I challenge you to find a better way to spend 99 cents. Almost 12 minutes of one of the best blues guitarists in history paying homage to another of history's greats. I give this 7 out of a possible 5 stars, but Amazon limits me to 5...\"</pre>"
      ],
      "text/plain": [
       "Unable to parse line \"B00136LLIU,\"[0, 0]\",5,\"I challenge you to find a better way to spend 99 cents. Almost 12 minutes of one of the best blues guitarists in history paying homage to another of history's greats. I give this 7 out of a possible 5 stars, but Amazon limits me to 5...\""
      ]
     },
     "metadata": {},
     "output_type": "display_data"
    },
    {
     "data": {
      "text/html": [
       "<pre>Unable to parse line \"B0042GKKUS,\"[0, 0]\",5,\"My daughter absolutel loves this song.  Thanks for the great item at such a great price.  Love, love this song!!\\\",A1RK0LTKPU5ZNC,Keep Me In Mind\"</pre>"
      ],
      "text/plain": [
       "Unable to parse line \"B0042GKKUS,\"[0, 0]\",5,\"My daughter absolutel loves this song.  Thanks for the great item at such a great price.  Love, love this song!!\\\",A1RK0LTKPU5ZNC,Keep Me In Mind\""
      ]
     },
     "metadata": {},
     "output_type": "display_data"
    },
    {
     "data": {
      "text/html": [
       "<pre>Unable to parse line \"B008GOLKP6,\"[0, 0]\",5,\"Ever wondered what the Two Thousand \"\"teens\"\" should sound like? No... not like Justin Beiber... like this album right here!Great job guys!!! /''\\\",A1NDH49BPAAM2U,A must purchase for rock/metal enthusiasts\"</pre>"
      ],
      "text/plain": [
       "Unable to parse line \"B008GOLKP6,\"[0, 0]\",5,\"Ever wondered what the Two Thousand \"\"teens\"\" should sound like? No... not like Justin Beiber... like this album right here!Great job guys!!! /''\\\",A1NDH49BPAAM2U,A must purchase for rock/metal enthusiasts\""
      ]
     },
     "metadata": {},
     "output_type": "display_data"
    },
    {
     "data": {
      "text/html": [
       "<pre>Unable to parse line \"\" this set is both a worthy introduction to Sibelius at his greatest and a worthy addition to the l\"\"\",A3GSSHOC7N92MD,Most of the highlights of Bis' Sibelius Edition at an astonishing price,,,\"</pre>"
      ],
      "text/plain": [
       "Unable to parse line \"\" this set is both a worthy introduction to Sibelius at his greatest and a worthy addition to the l\"\"\",A3GSSHOC7N92MD,Most of the highlights of Bis' Sibelius Edition at an astonishing price,,,\""
      ]
     },
     "metadata": {},
     "output_type": "display_data"
    },
    {
     "data": {
      "text/html": [
       "<pre>Unable to parse line \"B00542G81O,\"[0, 0]\",1,\"I was hoping that the words were on this, i mean dont get me wrong i guess i could have printed the word and stuck them in my back pocket :\\\",A2JH8F23NVWRGH,boo\"</pre>"
      ],
      "text/plain": [
       "Unable to parse line \"B00542G81O,\"[0, 0]\",1,\"I was hoping that the words were on this, i mean dont get me wrong i guess i could have printed the word and stuck them in my back pocket :\\\",A2JH8F23NVWRGH,boo\""
      ]
     },
     "metadata": {},
     "output_type": "display_data"
    },
    {
     "data": {
      "text/html": [
       "<pre>12 lines failed to parse correctly</pre>"
      ],
      "text/plain": [
       "12 lines failed to parse correctly"
      ]
     },
     "metadata": {},
     "output_type": "display_data"
    },
    {
     "data": {
      "text/html": [
       "<pre>Finished parsing file E:\\ACADEMICS\\PEC---\\ME 4 SEM\\code\\data\\digitalmusic\\reviews\\complete_reviews.csv</pre>"
      ],
      "text/plain": [
       "Finished parsing file E:\\ACADEMICS\\PEC---\\ME 4 SEM\\code\\data\\digitalmusic\\reviews\\complete_reviews.csv"
      ]
     },
     "metadata": {},
     "output_type": "display_data"
    },
    {
     "data": {
      "text/html": [
       "<pre>Parsing completed. Parsed 835995 lines in 6.09854 secs.</pre>"
      ],
      "text/plain": [
       "Parsing completed. Parsed 835995 lines in 6.09854 secs."
      ]
     },
     "metadata": {},
     "output_type": "display_data"
    },
    {
     "data": {
      "text/html": [
       "<div style=\"max-height:1000px;max-width:1500px;overflow:auto;\"><table frame=\"box\" rules=\"cols\">\n",
       "    <tr>\n",
       "        <th style=\"padding-left: 1em; padding-right: 1em; text-align: center\">asin</th>\n",
       "        <th style=\"padding-left: 1em; padding-right: 1em; text-align: center\">helpful</th>\n",
       "        <th style=\"padding-left: 1em; padding-right: 1em; text-align: center\">overall</th>\n",
       "        <th style=\"padding-left: 1em; padding-right: 1em; text-align: center\">reviewText</th>\n",
       "        <th style=\"padding-left: 1em; padding-right: 1em; text-align: center\">reviewerID</th>\n",
       "        <th style=\"padding-left: 1em; padding-right: 1em; text-align: center\">summary</th>\n",
       "    </tr>\n",
       "    <tr>\n",
       "        <td style=\"padding-left: 1em; padding-right: 1em; text-align: center; vertical-align: top\">5555991584</td>\n",
       "        <td style=\"padding-left: 1em; padding-right: 1em; text-align: center; vertical-align: top\">[4, 5]</td>\n",
       "        <td style=\"padding-left: 1em; padding-right: 1em; text-align: center; vertical-align: top\">5</td>\n",
       "        <td style=\"padding-left: 1em; padding-right: 1em; text-align: center; vertical-align: top\">The anthemic title track<br>begins &amp;quot;The Memory ...</td>\n",
       "        <td style=\"padding-left: 1em; padding-right: 1em; text-align: center; vertical-align: top\">A2EFCYXHNK06IS</td>\n",
       "        <td style=\"padding-left: 1em; padding-right: 1em; text-align: center; vertical-align: top\">Enya Experiments And<br>Succeeds ...</td>\n",
       "    </tr>\n",
       "    <tr>\n",
       "        <td style=\"padding-left: 1em; padding-right: 1em; text-align: center; vertical-align: top\">5555991584</td>\n",
       "        <td style=\"padding-left: 1em; padding-right: 1em; text-align: center; vertical-align: top\">[1, 1]</td>\n",
       "        <td style=\"padding-left: 1em; padding-right: 1em; text-align: center; vertical-align: top\">5</td>\n",
       "        <td style=\"padding-left: 1em; padding-right: 1em; text-align: center; vertical-align: top\">Just when I thought Enya<br>couldn't possibly get ...</td>\n",
       "        <td style=\"padding-left: 1em; padding-right: 1em; text-align: center; vertical-align: top\">A1WR23ER5HMAA9</td>\n",
       "        <td style=\"padding-left: 1em; padding-right: 1em; text-align: center; vertical-align: top\">How to improve upon<br>perfection. ...</td>\n",
       "    </tr>\n",
       "    <tr>\n",
       "        <td style=\"padding-left: 1em; padding-right: 1em; text-align: center; vertical-align: top\">5555991584</td>\n",
       "        <td style=\"padding-left: 1em; padding-right: 1em; text-align: center; vertical-align: top\">[0, 0]</td>\n",
       "        <td style=\"padding-left: 1em; padding-right: 1em; text-align: center; vertical-align: top\">4</td>\n",
       "        <td style=\"padding-left: 1em; padding-right: 1em; text-align: center; vertical-align: top\">Nice CD for easy<br>listening.  My husband ...</td>\n",
       "        <td style=\"padding-left: 1em; padding-right: 1em; text-align: center; vertical-align: top\">A2IR4Q0GPAFJKW</td>\n",
       "        <td style=\"padding-left: 1em; padding-right: 1em; text-align: center; vertical-align: top\">Good listening.</td>\n",
       "    </tr>\n",
       "    <tr>\n",
       "        <td style=\"padding-left: 1em; padding-right: 1em; text-align: center; vertical-align: top\">5555991584</td>\n",
       "        <td style=\"padding-left: 1em; padding-right: 1em; text-align: center; vertical-align: top\">[0, 1]</td>\n",
       "        <td style=\"padding-left: 1em; padding-right: 1em; text-align: center; vertical-align: top\">4</td>\n",
       "        <td style=\"padding-left: 1em; padding-right: 1em; text-align: center; vertical-align: top\">I really liked this CD,<br>especially the different ...</td>\n",
       "        <td style=\"padding-left: 1em; padding-right: 1em; text-align: center; vertical-align: top\">A2V0KUVAB9HSYO</td>\n",
       "        <td style=\"padding-left: 1em; padding-right: 1em; text-align: center; vertical-align: top\">Loved It</td>\n",
       "    </tr>\n",
       "    <tr>\n",
       "        <td style=\"padding-left: 1em; padding-right: 1em; text-align: center; vertical-align: top\">5555991584</td>\n",
       "        <td style=\"padding-left: 1em; padding-right: 1em; text-align: center; vertical-align: top\">[3, 3]</td>\n",
       "        <td style=\"padding-left: 1em; padding-right: 1em; text-align: center; vertical-align: top\">5</td>\n",
       "        <td style=\"padding-left: 1em; padding-right: 1em; text-align: center; vertical-align: top\">Enya's richly chorded<br>style has smitten me  ...</td>\n",
       "        <td style=\"padding-left: 1em; padding-right: 1em; text-align: center; vertical-align: top\">A1J0GL9HCA7ELW</td>\n",
       "        <td style=\"padding-left: 1em; padding-right: 1em; text-align: center; vertical-align: top\">Another Hauntingly<br>Beautiful Collection of ...</td>\n",
       "    </tr>\n",
       "    <tr>\n",
       "        <td style=\"padding-left: 1em; padding-right: 1em; text-align: center; vertical-align: top\">5555991584</td>\n",
       "        <td style=\"padding-left: 1em; padding-right: 1em; text-align: center; vertical-align: top\">[3, 3]</td>\n",
       "        <td style=\"padding-left: 1em; padding-right: 1em; text-align: center; vertical-align: top\">5</td>\n",
       "        <td style=\"padding-left: 1em; padding-right: 1em; text-align: center; vertical-align: top\">It's hard to believe<br>\"Memory of Trees\" came ...</td>\n",
       "        <td style=\"padding-left: 1em; padding-right: 1em; text-align: center; vertical-align: top\">A3EBHHCZO6V2A4</td>\n",
       "        <td style=\"padding-left: 1em; padding-right: 1em; text-align: center; vertical-align: top\">Enya's last great album</td>\n",
       "    </tr>\n",
       "    <tr>\n",
       "        <td style=\"padding-left: 1em; padding-right: 1em; text-align: center; vertical-align: top\">5555991584</td>\n",
       "        <td style=\"padding-left: 1em; padding-right: 1em; text-align: center; vertical-align: top\">[1, 3]</td>\n",
       "        <td style=\"padding-left: 1em; padding-right: 1em; text-align: center; vertical-align: top\">3</td>\n",
       "        <td style=\"padding-left: 1em; padding-right: 1em; text-align: center; vertical-align: top\">I am an enya fan and like<br>her cd's. on this cd  ...</td>\n",
       "        <td style=\"padding-left: 1em; padding-right: 1em; text-align: center; vertical-align: top\">A340XJYJDFSMUG</td>\n",
       "        <td style=\"padding-left: 1em; padding-right: 1em; text-align: center; vertical-align: top\">Something Different</td>\n",
       "    </tr>\n",
       "    <tr>\n",
       "        <td style=\"padding-left: 1em; padding-right: 1em; text-align: center; vertical-align: top\">5555991584</td>\n",
       "        <td style=\"padding-left: 1em; padding-right: 1em; text-align: center; vertical-align: top\">[0, 0]</td>\n",
       "        <td style=\"padding-left: 1em; padding-right: 1em; text-align: center; vertical-align: top\">5</td>\n",
       "        <td style=\"padding-left: 1em; padding-right: 1em; text-align: center; vertical-align: top\">I'm not a huge, know it<br>all Enya fan.  But I do ...</td>\n",
       "        <td style=\"padding-left: 1em; padding-right: 1em; text-align: center; vertical-align: top\">A3Q1J7VFGG80EK</td>\n",
       "        <td style=\"padding-left: 1em; padding-right: 1em; text-align: center; vertical-align: top\">Memory of Trees or My<br>favorite Enya CD ...</td>\n",
       "    </tr>\n",
       "    <tr>\n",
       "        <td style=\"padding-left: 1em; padding-right: 1em; text-align: center; vertical-align: top\">5555991584</td>\n",
       "        <td style=\"padding-left: 1em; padding-right: 1em; text-align: center; vertical-align: top\">[6, 8]</td>\n",
       "        <td style=\"padding-left: 1em; padding-right: 1em; text-align: center; vertical-align: top\">5</td>\n",
       "        <td style=\"padding-left: 1em; padding-right: 1em; text-align: center; vertical-align: top\">This is my very favorite<br>Enya album to date. Even ...</td>\n",
       "        <td style=\"padding-left: 1em; padding-right: 1em; text-align: center; vertical-align: top\">A1REP2FMPOXV4A</td>\n",
       "        <td style=\"padding-left: 1em; padding-right: 1em; text-align: center; vertical-align: top\">In a word, perfection</td>\n",
       "    </tr>\n",
       "    <tr>\n",
       "        <td style=\"padding-left: 1em; padding-right: 1em; text-align: center; vertical-align: top\">5555991584</td>\n",
       "        <td style=\"padding-left: 1em; padding-right: 1em; text-align: center; vertical-align: top\">[1, 1]</td>\n",
       "        <td style=\"padding-left: 1em; padding-right: 1em; text-align: center; vertical-align: top\">5</td>\n",
       "        <td style=\"padding-left: 1em; padding-right: 1em; text-align: center; vertical-align: top\">I love, love love love<br>love The Memory of Trees ...</td>\n",
       "        <td style=\"padding-left: 1em; padding-right: 1em; text-align: center; vertical-align: top\">A3QEKUPBPQ7A2S</td>\n",
       "        <td style=\"padding-left: 1em; padding-right: 1em; text-align: center; vertical-align: top\">I could listen to this<br>album all day! ...</td>\n",
       "    </tr>\n",
       "</table>\n",
       "[835995 rows x 6 columns]<br/>Note: Only the head of the SFrame is printed.<br/>You can use print_rows(num_rows=m, num_columns=n) to print more rows and columns.\n",
       "</div>"
      ],
      "text/plain": [
       "Columns:\n",
       "\tasin\tstr\n",
       "\thelpful\tstr\n",
       "\toverall\tint\n",
       "\treviewText\tstr\n",
       "\treviewerID\tstr\n",
       "\tsummary\tstr\n",
       "\n",
       "Rows: 835995\n",
       "\n",
       "Data:\n",
       "+------------+---------+---------+-------------------------------+\n",
       "|    asin    | helpful | overall |           reviewText          |\n",
       "+------------+---------+---------+-------------------------------+\n",
       "| 5555991584 |  [4, 5] |    5    | The anthemic title track b... |\n",
       "| 5555991584 |  [1, 1] |    5    | Just when I thought Enya c... |\n",
       "| 5555991584 |  [0, 0] |    4    | Nice CD for easy listening... |\n",
       "| 5555991584 |  [0, 1] |    4    | I really liked this CD, es... |\n",
       "| 5555991584 |  [3, 3] |    5    | Enya's richly chorded styl... |\n",
       "| 5555991584 |  [3, 3] |    5    | It's hard to believe \"Memo... |\n",
       "| 5555991584 |  [1, 3] |    3    | I am an enya fan and like ... |\n",
       "| 5555991584 |  [0, 0] |    5    | I'm not a huge, know it al... |\n",
       "| 5555991584 |  [6, 8] |    5    | This is my very favorite E... |\n",
       "| 5555991584 |  [1, 1] |    5    | I love, love love love lov... |\n",
       "+------------+---------+---------+-------------------------------+\n",
       "+----------------+-------------------------------+\n",
       "|   reviewerID   |            summary            |\n",
       "+----------------+-------------------------------+\n",
       "| A2EFCYXHNK06IS | Enya Experiments And Succeeds |\n",
       "| A1WR23ER5HMAA9 | How to improve upon perfec... |\n",
       "| A2IR4Q0GPAFJKW |        Good listening.        |\n",
       "| A2V0KUVAB9HSYO |            Loved It           |\n",
       "| A1J0GL9HCA7ELW | Another Hauntingly Beautif... |\n",
       "| A3EBHHCZO6V2A4 |    Enya's last great album    |\n",
       "| A340XJYJDFSMUG |      Something Different      |\n",
       "| A3Q1J7VFGG80EK | Memory of Trees or My favo... |\n",
       "| A1REP2FMPOXV4A |     In a word, perfection     |\n",
       "| A3QEKUPBPQ7A2S | I could listen to this alb... |\n",
       "+----------------+-------------------------------+\n",
       "[835995 rows x 6 columns]\n",
       "Note: Only the head of the SFrame is printed.\n",
       "You can use print_rows(num_rows=m, num_columns=n) to print more rows and columns."
      ]
     },
     "execution_count": 17,
     "metadata": {},
     "output_type": "execute_result"
    }
   ],
   "source": [
    "ratingdata = \"../data/digitalmusic/ratings/dm-ratings.csv\"\n",
    "reviewdata = \"../data/digitalmusic/reviews/complete_reviews.csv\"\n",
    "\n",
    "# loading data using gl\n",
    "#data = gl.SFrame.read_csv(ratingdata, format={\"asin\": str, \"overall\": int, \"reviewerID\": str})\n",
    "datarate = gl.SFrame.read_csv(ratingdata, delimiter=\",\", column_type_hints=[str, int, str])\n",
    "\n",
    "# datamatrix = gl.SFrame.read_csv(reviewdata, format={\"asin\": str, \n",
    "#                                            \"helpful\": str, \n",
    "#                                            \"reviewText\": str, \n",
    "#                                            \"reviewerID\": str, \"summary\": str})\n",
    "datarev = gl.SFrame.read_csv(reviewdata, delimiter=\",\", column_type_hints=[str, str, int, str, str, str])\n",
    "\n",
    "# datarev = datarev[['asin', 'reviewText', 'reviewerID']]\n",
    "\n",
    "datarev"
   ]
  },
  {
   "cell_type": "code",
   "execution_count": 16,
   "metadata": {},
   "outputs": [
    {
     "data": {
      "text/html": [
       "<div style=\"max-height:1000px;max-width:1500px;overflow:auto;\"><table frame=\"box\" rules=\"cols\">\n",
       "    <tr>\n",
       "        <th style=\"padding-left: 1em; padding-right: 1em; text-align: center\">asin</th>\n",
       "        <th style=\"padding-left: 1em; padding-right: 1em; text-align: center\">overall</th>\n",
       "        <th style=\"padding-left: 1em; padding-right: 1em; text-align: center\">reviewerID</th>\n",
       "    </tr>\n",
       "    <tr>\n",
       "        <td style=\"padding-left: 1em; padding-right: 1em; text-align: center; vertical-align: top\">5555991584</td>\n",
       "        <td style=\"padding-left: 1em; padding-right: 1em; text-align: center; vertical-align: top\">5</td>\n",
       "        <td style=\"padding-left: 1em; padding-right: 1em; text-align: center; vertical-align: top\">A2EFCYXHNK06IS</td>\n",
       "    </tr>\n",
       "    <tr>\n",
       "        <td style=\"padding-left: 1em; padding-right: 1em; text-align: center; vertical-align: top\">5555991584</td>\n",
       "        <td style=\"padding-left: 1em; padding-right: 1em; text-align: center; vertical-align: top\">5</td>\n",
       "        <td style=\"padding-left: 1em; padding-right: 1em; text-align: center; vertical-align: top\">A1WR23ER5HMAA9</td>\n",
       "    </tr>\n",
       "    <tr>\n",
       "        <td style=\"padding-left: 1em; padding-right: 1em; text-align: center; vertical-align: top\">5555991584</td>\n",
       "        <td style=\"padding-left: 1em; padding-right: 1em; text-align: center; vertical-align: top\">4</td>\n",
       "        <td style=\"padding-left: 1em; padding-right: 1em; text-align: center; vertical-align: top\">A2IR4Q0GPAFJKW</td>\n",
       "    </tr>\n",
       "    <tr>\n",
       "        <td style=\"padding-left: 1em; padding-right: 1em; text-align: center; vertical-align: top\">5555991584</td>\n",
       "        <td style=\"padding-left: 1em; padding-right: 1em; text-align: center; vertical-align: top\">4</td>\n",
       "        <td style=\"padding-left: 1em; padding-right: 1em; text-align: center; vertical-align: top\">A2V0KUVAB9HSYO</td>\n",
       "    </tr>\n",
       "    <tr>\n",
       "        <td style=\"padding-left: 1em; padding-right: 1em; text-align: center; vertical-align: top\">5555991584</td>\n",
       "        <td style=\"padding-left: 1em; padding-right: 1em; text-align: center; vertical-align: top\">5</td>\n",
       "        <td style=\"padding-left: 1em; padding-right: 1em; text-align: center; vertical-align: top\">A1J0GL9HCA7ELW</td>\n",
       "    </tr>\n",
       "    <tr>\n",
       "        <td style=\"padding-left: 1em; padding-right: 1em; text-align: center; vertical-align: top\">5555991584</td>\n",
       "        <td style=\"padding-left: 1em; padding-right: 1em; text-align: center; vertical-align: top\">5</td>\n",
       "        <td style=\"padding-left: 1em; padding-right: 1em; text-align: center; vertical-align: top\">A3EBHHCZO6V2A4</td>\n",
       "    </tr>\n",
       "    <tr>\n",
       "        <td style=\"padding-left: 1em; padding-right: 1em; text-align: center; vertical-align: top\">5555991584</td>\n",
       "        <td style=\"padding-left: 1em; padding-right: 1em; text-align: center; vertical-align: top\">3</td>\n",
       "        <td style=\"padding-left: 1em; padding-right: 1em; text-align: center; vertical-align: top\">A340XJYJDFSMUG</td>\n",
       "    </tr>\n",
       "    <tr>\n",
       "        <td style=\"padding-left: 1em; padding-right: 1em; text-align: center; vertical-align: top\">5555991584</td>\n",
       "        <td style=\"padding-left: 1em; padding-right: 1em; text-align: center; vertical-align: top\">5</td>\n",
       "        <td style=\"padding-left: 1em; padding-right: 1em; text-align: center; vertical-align: top\">A3Q1J7VFGG80EK</td>\n",
       "    </tr>\n",
       "    <tr>\n",
       "        <td style=\"padding-left: 1em; padding-right: 1em; text-align: center; vertical-align: top\">5555991584</td>\n",
       "        <td style=\"padding-left: 1em; padding-right: 1em; text-align: center; vertical-align: top\">5</td>\n",
       "        <td style=\"padding-left: 1em; padding-right: 1em; text-align: center; vertical-align: top\">A1REP2FMPOXV4A</td>\n",
       "    </tr>\n",
       "    <tr>\n",
       "        <td style=\"padding-left: 1em; padding-right: 1em; text-align: center; vertical-align: top\">5555991584</td>\n",
       "        <td style=\"padding-left: 1em; padding-right: 1em; text-align: center; vertical-align: top\">5</td>\n",
       "        <td style=\"padding-left: 1em; padding-right: 1em; text-align: center; vertical-align: top\">A3QEKUPBPQ7A2S</td>\n",
       "    </tr>\n",
       "</table>\n",
       "[836006 rows x 3 columns]<br/>Note: Only the head of the SFrame is printed.<br/>You can use print_rows(num_rows=m, num_columns=n) to print more rows and columns.\n",
       "</div>"
      ],
      "text/plain": [
       "Columns:\n",
       "\tasin\tstr\n",
       "\toverall\tint\n",
       "\treviewerID\tstr\n",
       "\n",
       "Rows: 836006\n",
       "\n",
       "Data:\n",
       "+------------+---------+----------------+\n",
       "|    asin    | overall |   reviewerID   |\n",
       "+------------+---------+----------------+\n",
       "| 5555991584 |    5    | A2EFCYXHNK06IS |\n",
       "| 5555991584 |    5    | A1WR23ER5HMAA9 |\n",
       "| 5555991584 |    4    | A2IR4Q0GPAFJKW |\n",
       "| 5555991584 |    4    | A2V0KUVAB9HSYO |\n",
       "| 5555991584 |    5    | A1J0GL9HCA7ELW |\n",
       "| 5555991584 |    5    | A3EBHHCZO6V2A4 |\n",
       "| 5555991584 |    3    | A340XJYJDFSMUG |\n",
       "| 5555991584 |    5    | A3Q1J7VFGG80EK |\n",
       "| 5555991584 |    5    | A1REP2FMPOXV4A |\n",
       "| 5555991584 |    5    | A3QEKUPBPQ7A2S |\n",
       "+------------+---------+----------------+\n",
       "[836006 rows x 3 columns]\n",
       "Note: Only the head of the SFrame is printed.\n",
       "You can use print_rows(num_rows=m, num_columns=n) to print more rows and columns."
      ]
     },
     "execution_count": 16,
     "metadata": {},
     "output_type": "execute_result"
    }
   ],
   "source": [
    "data"
   ]
  }
 ],
 "metadata": {
  "kernelspec": {
   "display_name": "Python [conda env:graphlab]",
   "language": "python",
   "name": "conda-env-graphlab-py"
  }
 },
 "nbformat": 4,
 "nbformat_minor": 2
}
