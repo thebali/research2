{
 "cells": [
  {
   "cell_type": "code",
   "execution_count": null,
   "metadata": {},
   "outputs": [],
   "source": [
    "import graphlab as gl\n",
    "\n",
    "from sklearn.model_selection import train_test_split\n",
    "from scipy.sparse import csr_matrix\n",
    "\n",
    "import pandas as pd\n",
    "import numpy as np"
   ]
  },
  {
   "cell_type": "code",
   "execution_count": null,
   "metadata": {},
   "outputs": [],
   "source": [
    "musicdata = \"./dataset/amazon5core/digitalmusic/10ksample.csv\"\n",
    "healthdata = \"./dataset/amazon5core/healthcare/10ksample.csv\"\n",
    "\n",
    "# loading data using gl\n",
    "# musicsf = gl.SFrame.read_csv(musicdata, delimiter=\",\",\n",
    "#                              usecols=[\"asin\",\"reviewerID\",\"overall\",\"reviewText\"],\n",
    "#                              column_type_hints=[str, str, int, str])\n",
    "\n",
    "healthsf = gl.SFrame.read_csv(healthdata, delimiter=\",\",\n",
    "                              usecols=[\"asin\",\"reviewerID\",\"overall\",\"reviewText\"],\n",
    "                              column_type_hints=[str, str, int, str])"
   ]
  },
  {
   "cell_type": "code",
   "execution_count": null,
   "metadata": {},
   "outputs": [],
   "source": [
    "# divide the review and rating data\n",
    "# ratings = musicsf[[\"asin\", \"reviewerID\", \"overall\"]]\n",
    "# reviews = musicsf[[\"asin\", \"reviewerID\", \"reviewText\"]]\n",
    "\n",
    "\n",
    "ratings = healthsf[[\"asin\", \"reviewerID\", \"overall\"]]\n",
    "reviews = healthsf[[\"asin\", \"reviewerID\", \"reviewText\"]]\n",
    "\n",
    "# train, test = gl.recommender.util.random_split_by_user(dataset=ratings,\n",
    "#                                                        item_id=\"asin\",\n",
    "#                                                        user_id=\"reviewerID\",\n",
    "#                                                        max_num_users=100)\n",
    "\n",
    "\n",
    "\n",
    "## cross validation structure\n",
    "folds = gl.cross_validation.KFold(ratings, 10)\n",
    "train, test = folds[3]"
   ]
  },
  {
   "cell_type": "code",
   "execution_count": null,
   "metadata": {},
   "outputs": [],
   "source": [
    "## using recommender system lsa or svd\n",
    "\n",
    "\n",
    "## random seed 22 is good.\n",
    "shuffletrain = gl.cross_validation.shuffle(train, random_seed=22)\n",
    "\n",
    "# for train, valid in folds:\n",
    "model = gl.recommender.factorization_recommender.create(observation_data=train,\n",
    "                                                        user_id=\"reviewerID\",\n",
    "                                                        item_id=\"asin\",\n",
    "                                                        target=\"overall\",\n",
    "                                                        num_factors=50, \n",
    "                                                        nmf=0, max_iterations=500,\n",
    "                                                        solver='sgd',\n",
    "                                                        verbose=1)\n",
    "    \n",
    "# print >> outF, model['coefficients']\n",
    "# # view = model.views.overview(validation_set=)\n",
    "# print >> outF, model.evaluate_precision_recall(dataset=valid)\n",
    "# print >> outF, model.evaluate_rmse(valid, target='overall')\n",
    "# print >> outF, \"balibalibalibalibalibalibbalibbalibbalibalibali\""
   ]
  },
  {
   "cell_type": "code",
   "execution_count": null,
   "metadata": {},
   "outputs": [],
   "source": [
    "out_rmse = model.evaluate_rmse(dataset=test, target='overall')\n",
    "out_pr = model.evaluate_precision_recall(dataset=test, verbose=1)\n",
    "print(out_rmse.viewkeys())\n",
    "print(out_rmse['rmse_overall'])"
   ]
  },
  {
   "cell_type": "code",
   "execution_count": null,
   "metadata": {},
   "outputs": [],
   "source": [
    "# python method list\n",
    "methods = [method_name for method_name in dir(model) if callable(getattr(model, method_name))]\n",
    "print(methods)\n",
    "\n",
    "print(model.list_fields())\n",
    "\n",
    "# print(out_pr['precision_recall_by_user'])\n",
    "# print(out_pr['precision_recall_overall']['recall'].sum())\n",
    "# model.show()"
   ]
  },
  {
   "cell_type": "code",
   "execution_count": null,
   "metadata": {},
   "outputs": [],
   "source": [
    "model._get_queryable_methods()"
   ]
  },
  {
   "cell_type": "code",
   "execution_count": null,
   "metadata": {},
   "outputs": [],
   "source": [
    "factors_asin = model['coefficients']['asin'][['factors', 'asin']]\n",
    "factors_reviewerID = model['coefficients']['reviewerID'][['factors', 'reviewerID']]"
   ]
  },
  {
   "cell_type": "code",
   "execution_count": null,
   "metadata": {},
   "outputs": [],
   "source": [
    "# factors_reviewerID\n",
    "model.show()"
   ]
  },
  {
   "cell_type": "code",
   "execution_count": null,
   "metadata": {},
   "outputs": [],
   "source": [
    "recs = model.recommend(users=[\"AFNCXMCX7VZWH\"])"
   ]
  },
  {
   "cell_type": "code",
   "execution_count": null,
   "metadata": {},
   "outputs": [],
   "source": [
    "## using topic modelling\n",
    "\n",
    "# print(reviews)\n",
    "\n",
    "one_item_reviews = []\n",
    "\n",
    "for item in reviews['asin'].unique().sort():\n",
    "    one_item_reviews.append([item, reviews.filter_by(item, 'asin')['reviewText']])\n",
    "\n",
    "# print(reviews.filter_by('B00004OCLJ', 'asin')['reviewText'])\n",
    "\n",
    "\n",
    "# lda = gl.topic_model.create(dataset=texttrain, validation_set=texttest, num_topics=100, num_iterations=200, verbose=1)\n",
    "\n"
   ]
  },
  {
   "cell_type": "code",
   "execution_count": null,
   "metadata": {},
   "outputs": [],
   "source": [
    "one_item_reviews"
   ]
  }
 ],
 "metadata": {
  "kernelspec": {
   "display_name": "Python [conda env:graphlab]",
   "language": "python",
   "name": "conda-env-graphlab-py"
  },
  "language_info": {
   "codemirror_mode": {
    "name": "ipython",
    "version": 2
   },
   "file_extension": ".py",
   "mimetype": "text/x-python",
   "name": "python",
   "nbconvert_exporter": "python",
   "pygments_lexer": "ipython2",
   "version": "2.7.14"
  }
 },
 "nbformat": 4,
 "nbformat_minor": 2
}
