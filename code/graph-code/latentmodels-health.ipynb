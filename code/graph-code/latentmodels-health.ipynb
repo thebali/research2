{
 "cells": [
  {
   "cell_type": "code",
   "execution_count": 1,
   "metadata": {},
   "outputs": [],
   "source": [
    "import graphlab as gl\n",
    "\n",
    "from sklearn.model_selection import train_test_split\n",
    "from scipy.sparse import csr_matrix\n",
    "\n",
    "import pandas as pd\n",
    "import numpy as np"
   ]
  },
  {
   "cell_type": "code",
   "execution_count": 2,
   "metadata": {},
   "outputs": [
    {
     "name": "stdout",
     "output_type": "stream",
     "text": [
      "This non-commercial license of GraphLab Create for academic use is assigned to rahulbali.mecse16@pec.edu.in and will expire on November 23, 2018.\n"
     ]
    },
    {
     "name": "stderr",
     "output_type": "stream",
     "text": [
      "[INFO] graphlab.cython.cy_server: GraphLab Create v2.1 started. Logging: C:\\Users\\cramdog\\AppData\\Local\\Temp\\graphlab_server_1529008964.log.0\n"
     ]
    },
    {
     "data": {
      "text/html": [
       "<pre>Finished parsing file E:\\ACADEMICS\\PEC---\\ME 4 SEM\\code\\graph-code\\dataset\\amazon5core\\healthcare\\10ksample.csv</pre>"
      ],
      "text/plain": [
       "Finished parsing file E:\\ACADEMICS\\PEC---\\ME 4 SEM\\code\\graph-code\\dataset\\amazon5core\\healthcare\\10ksample.csv"
      ]
     },
     "metadata": {},
     "output_type": "display_data"
    },
    {
     "data": {
      "text/html": [
       "<pre>Parsing completed. Parsed 10000 lines in 0.235213 secs.</pre>"
      ],
      "text/plain": [
       "Parsing completed. Parsed 10000 lines in 0.235213 secs."
      ]
     },
     "metadata": {},
     "output_type": "display_data"
    }
   ],
   "source": [
    "musicdata = \"./dataset/amazon5core/digitalmusic/10ksample.csv\"\n",
    "healthdata = \"./dataset/amazon5core/healthcare/10ksample.csv\"\n",
    "\n",
    "# loading data using gl\n",
    "# musicsf = gl.SFrame.read_csv(musicdata, delimiter=\",\",\n",
    "#                              usecols=[\"asin\",\"reviewerID\",\"overall\",\"reviewText\"],\n",
    "#                              column_type_hints=[str, str, int, str])\n",
    "\n",
    "healthsf = gl.SFrame.read_csv(healthdata, delimiter=\",\",\n",
    "                              usecols=[\"asin\",\"reviewerID\",\"overall\",\"reviewText\"],\n",
    "                              column_type_hints=[str, str, int, str])"
   ]
  },
  {
   "cell_type": "code",
   "execution_count": 3,
   "metadata": {},
   "outputs": [],
   "source": [
    "# divide the review and rating data\n",
    "# ratings = musicsf[[\"asin\", \"reviewerID\", \"overall\"]]\n",
    "# reviews = musicsf[[\"asin\", \"reviewerID\", \"reviewText\"]]\n",
    "\n",
    "\n",
    "ratings = healthsf[[\"asin\", \"reviewerID\", \"overall\"]]\n",
    "reviews = healthsf[[\"asin\", \"reviewerID\", \"reviewText\"]]\n",
    "\n",
    "train, test = gl.recommender.util.random_split_by_user(dataset=ratings,\n",
    "                                                       item_id=\"asin\",\n",
    "                                                       user_id=\"reviewerID\",\n",
    "                                                       max_num_users=100)\n"
   ]
  },
  {
   "cell_type": "code",
   "execution_count": 4,
   "metadata": {},
   "outputs": [
    {
     "data": {
      "text/html": [
       "<pre>Recsys training: model = factorization_recommender</pre>"
      ],
      "text/plain": [
       "Recsys training: model = factorization_recommender"
      ]
     },
     "metadata": {},
     "output_type": "display_data"
    },
    {
     "data": {
      "text/html": [
       "<pre>Preparing data set.</pre>"
      ],
      "text/plain": [
       "Preparing data set."
      ]
     },
     "metadata": {},
     "output_type": "display_data"
    },
    {
     "data": {
      "text/html": [
       "<pre>    Data has 9969 observations with 8222 users and 6170 items.</pre>"
      ],
      "text/plain": [
       "    Data has 9969 observations with 8222 users and 6170 items."
      ]
     },
     "metadata": {},
     "output_type": "display_data"
    },
    {
     "data": {
      "text/html": [
       "<pre>    Data prepared in: 0.075036s</pre>"
      ],
      "text/plain": [
       "    Data prepared in: 0.075036s"
      ]
     },
     "metadata": {},
     "output_type": "display_data"
    },
    {
     "data": {
      "text/html": [
       "<pre>Training factorization_recommender for recommendations.</pre>"
      ],
      "text/plain": [
       "Training factorization_recommender for recommendations."
      ]
     },
     "metadata": {},
     "output_type": "display_data"
    },
    {
     "data": {
      "text/html": [
       "<pre>+------------------------------+--------------------------------------------------+----------+</pre>"
      ],
      "text/plain": [
       "+------------------------------+--------------------------------------------------+----------+"
      ]
     },
     "metadata": {},
     "output_type": "display_data"
    },
    {
     "data": {
      "text/html": [
       "<pre>| Parameter                    | Description                                      | Value    |</pre>"
      ],
      "text/plain": [
       "| Parameter                    | Description                                      | Value    |"
      ]
     },
     "metadata": {},
     "output_type": "display_data"
    },
    {
     "data": {
      "text/html": [
       "<pre>+------------------------------+--------------------------------------------------+----------+</pre>"
      ],
      "text/plain": [
       "+------------------------------+--------------------------------------------------+----------+"
      ]
     },
     "metadata": {},
     "output_type": "display_data"
    },
    {
     "data": {
      "text/html": [
       "<pre>| num_factors                  | Factor Dimension                                 | 10       |</pre>"
      ],
      "text/plain": [
       "| num_factors                  | Factor Dimension                                 | 10       |"
      ]
     },
     "metadata": {},
     "output_type": "display_data"
    },
    {
     "data": {
      "text/html": [
       "<pre>| regularization               | L2 Regularization on Factors                     | 1e-008   |</pre>"
      ],
      "text/plain": [
       "| regularization               | L2 Regularization on Factors                     | 1e-008   |"
      ]
     },
     "metadata": {},
     "output_type": "display_data"
    },
    {
     "data": {
      "text/html": [
       "<pre>| max_iterations               | Maximum Number of Iterations                     | 50       |</pre>"
      ],
      "text/plain": [
       "| max_iterations               | Maximum Number of Iterations                     | 50       |"
      ]
     },
     "metadata": {},
     "output_type": "display_data"
    },
    {
     "data": {
      "text/html": [
       "<pre>| solver                       | Solver used for training                         | als      |</pre>"
      ],
      "text/plain": [
       "| solver                       | Solver used for training                         | als      |"
      ]
     },
     "metadata": {},
     "output_type": "display_data"
    },
    {
     "data": {
      "text/html": [
       "<pre>+------------------------------+--------------------------------------------------+----------+</pre>"
      ],
      "text/plain": [
       "+------------------------------+--------------------------------------------------+----------+"
      ]
     },
     "metadata": {},
     "output_type": "display_data"
    },
    {
     "data": {
      "text/html": [
       "<pre>+---------+--------------+------------------------+</pre>"
      ],
      "text/plain": [
       "+---------+--------------+------------------------+"
      ]
     },
     "metadata": {},
     "output_type": "display_data"
    },
    {
     "data": {
      "text/html": [
       "<pre>| Iter.   | Elapsed time | RMSE                   |</pre>"
      ],
      "text/plain": [
       "| Iter.   | Elapsed time | RMSE                   |"
      ]
     },
     "metadata": {},
     "output_type": "display_data"
    },
    {
     "data": {
      "text/html": [
       "<pre>+---------+--------------+------------------------+</pre>"
      ],
      "text/plain": [
       "+---------+--------------+------------------------+"
      ]
     },
     "metadata": {},
     "output_type": "display_data"
    },
    {
     "data": {
      "text/html": [
       "<pre>| Initial | 0us          | NA                     |</pre>"
      ],
      "text/plain": [
       "| Initial | 0us          | NA                     |"
      ]
     },
     "metadata": {},
     "output_type": "display_data"
    },
    {
     "data": {
      "text/html": [
       "<pre>+---------+--------------+------------------------+</pre>"
      ],
      "text/plain": [
       "+---------+--------------+------------------------+"
      ]
     },
     "metadata": {},
     "output_type": "display_data"
    },
    {
     "data": {
      "text/html": [
       "<pre>| 0       | 74.067ms     | 0.00656452             |</pre>"
      ],
      "text/plain": [
       "| 0       | 74.067ms     | 0.00656452             |"
      ]
     },
     "metadata": {},
     "output_type": "display_data"
    },
    {
     "data": {
      "text/html": [
       "<pre>| 1       | 138.125ms    | 0.00309593             |</pre>"
      ],
      "text/plain": [
       "| 1       | 138.125ms    | 0.00309593             |"
      ]
     },
     "metadata": {},
     "output_type": "display_data"
    },
    {
     "data": {
      "text/html": [
       "<pre>| 2       | 170.154ms    | 0.00216269             |</pre>"
      ],
      "text/plain": [
       "| 2       | 170.154ms    | 0.00216269             |"
      ]
     },
     "metadata": {},
     "output_type": "display_data"
    },
    {
     "data": {
      "text/html": [
       "<pre>| 3       | 217.197ms    | 0.0017031              |</pre>"
      ],
      "text/plain": [
       "| 3       | 217.197ms    | 0.0017031              |"
      ]
     },
     "metadata": {},
     "output_type": "display_data"
    },
    {
     "data": {
      "text/html": [
       "<pre>| 4       | 264.245ms    | 0.00144427             |</pre>"
      ],
      "text/plain": [
       "| 4       | 264.245ms    | 0.00144427             |"
      ]
     },
     "metadata": {},
     "output_type": "display_data"
    },
    {
     "data": {
      "text/html": [
       "<pre>| 5       | 301.274ms    | 0.00124347             |</pre>"
      ],
      "text/plain": [
       "| 5       | 301.274ms    | 0.00124347             |"
      ]
     },
     "metadata": {},
     "output_type": "display_data"
    },
    {
     "data": {
      "text/html": [
       "<pre>| 6       | 333.303ms    | 0.00110869             |</pre>"
      ],
      "text/plain": [
       "| 6       | 333.303ms    | 0.00110869             |"
      ]
     },
     "metadata": {},
     "output_type": "display_data"
    },
    {
     "data": {
      "text/html": [
       "<pre>| 7       | 371.336ms    | 0.00100685             |</pre>"
      ],
      "text/plain": [
       "| 7       | 371.336ms    | 0.00100685             |"
      ]
     },
     "metadata": {},
     "output_type": "display_data"
    },
    {
     "data": {
      "text/html": [
       "<pre>| 8       | 410.372ms    | 0.0009199              |</pre>"
      ],
      "text/plain": [
       "| 8       | 410.372ms    | 0.0009199              |"
      ]
     },
     "metadata": {},
     "output_type": "display_data"
    },
    {
     "data": {
      "text/html": [
       "<pre>| 9       | 449.411ms    | 0.000850527            |</pre>"
      ],
      "text/plain": [
       "| 9       | 449.411ms    | 0.000850527            |"
      ]
     },
     "metadata": {},
     "output_type": "display_data"
    },
    {
     "data": {
      "text/html": [
       "<pre>| 10      | 482.438ms    | 0.000788523            |</pre>"
      ],
      "text/plain": [
       "| 10      | 482.438ms    | 0.000788523            |"
      ]
     },
     "metadata": {},
     "output_type": "display_data"
    },
    {
     "data": {
      "text/html": [
       "<pre>| 11      | 515.468ms    | 0.000733873            |</pre>"
      ],
      "text/plain": [
       "| 11      | 515.468ms    | 0.000733873            |"
      ]
     },
     "metadata": {},
     "output_type": "display_data"
    },
    {
     "data": {
      "text/html": [
       "<pre>| 12      | 553.502ms    | 0.000693668            |</pre>"
      ],
      "text/plain": [
       "| 12      | 553.502ms    | 0.000693668            |"
      ]
     },
     "metadata": {},
     "output_type": "display_data"
    },
    {
     "data": {
      "text/html": [
       "<pre>| 13      | 607.553ms    | 0.000651897            |</pre>"
      ],
      "text/plain": [
       "| 13      | 607.553ms    | 0.000651897            |"
      ]
     },
     "metadata": {},
     "output_type": "display_data"
    },
    {
     "data": {
      "text/html": [
       "<pre>| 14      | 647.587ms    | 0.000615555            |</pre>"
      ],
      "text/plain": [
       "| 14      | 647.587ms    | 0.000615555            |"
      ]
     },
     "metadata": {},
     "output_type": "display_data"
    },
    {
     "data": {
      "text/html": [
       "<pre>| 15      | 680.617ms    | 0.000584593            |</pre>"
      ],
      "text/plain": [
       "| 15      | 680.617ms    | 0.000584593            |"
      ]
     },
     "metadata": {},
     "output_type": "display_data"
    },
    {
     "data": {
      "text/html": [
       "<pre>| 16      | 721.659ms    | 0.000555974            |</pre>"
      ],
      "text/plain": [
       "| 16      | 721.659ms    | 0.000555974            |"
      ]
     },
     "metadata": {},
     "output_type": "display_data"
    },
    {
     "data": {
      "text/html": [
       "<pre>| 17      | 752.682ms    | 0.000526058            |</pre>"
      ],
      "text/plain": [
       "| 17      | 752.682ms    | 0.000526058            |"
      ]
     },
     "metadata": {},
     "output_type": "display_data"
    },
    {
     "data": {
      "text/html": [
       "<pre>| 18      | 793.719ms    | 0.0005045              |</pre>"
      ],
      "text/plain": [
       "| 18      | 793.719ms    | 0.0005045              |"
      ]
     },
     "metadata": {},
     "output_type": "display_data"
    },
    {
     "data": {
      "text/html": [
       "<pre>| 19      | 824.746ms    | 0.000482864            |</pre>"
      ],
      "text/plain": [
       "| 19      | 824.746ms    | 0.000482864            |"
      ]
     },
     "metadata": {},
     "output_type": "display_data"
    },
    {
     "data": {
      "text/html": [
       "<pre>| 20      | 874.792ms    | 0.000462238            |</pre>"
      ],
      "text/plain": [
       "| 20      | 874.792ms    | 0.000462238            |"
      ]
     },
     "metadata": {},
     "output_type": "display_data"
    },
    {
     "data": {
      "text/html": [
       "<pre>| 21      | 905.821ms    | 0.000445094            |</pre>"
      ],
      "text/plain": [
       "| 21      | 905.821ms    | 0.000445094            |"
      ]
     },
     "metadata": {},
     "output_type": "display_data"
    },
    {
     "data": {
      "text/html": [
       "<pre>| 22      | 947.859ms    | 0.000429335            |</pre>"
      ],
      "text/plain": [
       "| 22      | 947.859ms    | 0.000429335            |"
      ]
     },
     "metadata": {},
     "output_type": "display_data"
    },
    {
     "data": {
      "text/html": [
       "<pre>| 23      | 981.889ms    | 0.000419199            |</pre>"
      ],
      "text/plain": [
       "| 23      | 981.889ms    | 0.000419199            |"
      ]
     },
     "metadata": {},
     "output_type": "display_data"
    },
    {
     "data": {
      "text/html": [
       "<pre>| 24      | 1.02s        | 0.000399315            |</pre>"
      ],
      "text/plain": [
       "| 24      | 1.02s        | 0.000399315            |"
      ]
     },
     "metadata": {},
     "output_type": "display_data"
    },
    {
     "data": {
      "text/html": [
       "<pre>| 25      | 1.05s        | 0.000386173            |</pre>"
      ],
      "text/plain": [
       "| 25      | 1.05s        | 0.000386173            |"
      ]
     },
     "metadata": {},
     "output_type": "display_data"
    },
    {
     "data": {
      "text/html": [
       "<pre>| 26      | 1.09s        | 0.000376132            |</pre>"
      ],
      "text/plain": [
       "| 26      | 1.09s        | 0.000376132            |"
      ]
     },
     "metadata": {},
     "output_type": "display_data"
    },
    {
     "data": {
      "text/html": [
       "<pre>| 27      | 1.12s        | 0.000363156            |</pre>"
      ],
      "text/plain": [
       "| 27      | 1.12s        | 0.000363156            |"
      ]
     },
     "metadata": {},
     "output_type": "display_data"
    },
    {
     "data": {
      "text/html": [
       "<pre>| 28      | 1.16s        | 0.000352546            |</pre>"
      ],
      "text/plain": [
       "| 28      | 1.16s        | 0.000352546            |"
      ]
     },
     "metadata": {},
     "output_type": "display_data"
    },
    {
     "data": {
      "text/html": [
       "<pre>| 29      | 1.19s        | 0.000342208            |</pre>"
      ],
      "text/plain": [
       "| 29      | 1.19s        | 0.000342208            |"
      ]
     },
     "metadata": {},
     "output_type": "display_data"
    },
    {
     "data": {
      "text/html": [
       "<pre>| 30      | 1.23s        | 0.000332402            |</pre>"
      ],
      "text/plain": [
       "| 30      | 1.23s        | 0.000332402            |"
      ]
     },
     "metadata": {},
     "output_type": "display_data"
    },
    {
     "data": {
      "text/html": [
       "<pre>| 31      | 1.27s        | 0.000323991            |</pre>"
      ],
      "text/plain": [
       "| 31      | 1.27s        | 0.000323991            |"
      ]
     },
     "metadata": {},
     "output_type": "display_data"
    },
    {
     "data": {
      "text/html": [
       "<pre>| 32      | 1.31s        | 0.000315874            |</pre>"
      ],
      "text/plain": [
       "| 32      | 1.31s        | 0.000315874            |"
      ]
     },
     "metadata": {},
     "output_type": "display_data"
    },
    {
     "data": {
      "text/html": [
       "<pre>| 33      | 1.34s        | 0.000308321            |</pre>"
      ],
      "text/plain": [
       "| 33      | 1.34s        | 0.000308321            |"
      ]
     },
     "metadata": {},
     "output_type": "display_data"
    },
    {
     "data": {
      "text/html": [
       "<pre>| 34      | 1.38s        | 0.000301295            |</pre>"
      ],
      "text/plain": [
       "| 34      | 1.38s        | 0.000301295            |"
      ]
     },
     "metadata": {},
     "output_type": "display_data"
    },
    {
     "data": {
      "text/html": [
       "<pre>| 35      | 1.42s        | 0.000294124            |</pre>"
      ],
      "text/plain": [
       "| 35      | 1.42s        | 0.000294124            |"
      ]
     },
     "metadata": {},
     "output_type": "display_data"
    },
    {
     "data": {
      "text/html": [
       "<pre>| 36      | 1.46s        | 0.000287445            |</pre>"
      ],
      "text/plain": [
       "| 36      | 1.46s        | 0.000287445            |"
      ]
     },
     "metadata": {},
     "output_type": "display_data"
    },
    {
     "data": {
      "text/html": [
       "<pre>| 37      | 1.49s        | 0.000281114            |</pre>"
      ],
      "text/plain": [
       "| 37      | 1.49s        | 0.000281114            |"
      ]
     },
     "metadata": {},
     "output_type": "display_data"
    },
    {
     "data": {
      "text/html": [
       "<pre>| 38      | 1.52s        | 0.000274938            |</pre>"
      ],
      "text/plain": [
       "| 38      | 1.52s        | 0.000274938            |"
      ]
     },
     "metadata": {},
     "output_type": "display_data"
    },
    {
     "data": {
      "text/html": [
       "<pre>| 39      | 1.56s        | 0.000268767            |</pre>"
      ],
      "text/plain": [
       "| 39      | 1.56s        | 0.000268767            |"
      ]
     },
     "metadata": {},
     "output_type": "display_data"
    },
    {
     "data": {
      "text/html": [
       "<pre>| 40      | 1.59s        | 0.000263098            |</pre>"
      ],
      "text/plain": [
       "| 40      | 1.59s        | 0.000263098            |"
      ]
     },
     "metadata": {},
     "output_type": "display_data"
    },
    {
     "data": {
      "text/html": [
       "<pre>| 41      | 1.63s        | 0.000258134            |</pre>"
      ],
      "text/plain": [
       "| 41      | 1.63s        | 0.000258134            |"
      ]
     },
     "metadata": {},
     "output_type": "display_data"
    },
    {
     "data": {
      "text/html": [
       "<pre>| 42      | 1.67s        | 0.000253177            |</pre>"
      ],
      "text/plain": [
       "| 42      | 1.67s        | 0.000253177            |"
      ]
     },
     "metadata": {},
     "output_type": "display_data"
    },
    {
     "data": {
      "text/html": [
       "<pre>| 43      | 1.71s        | 0.000248343            |</pre>"
      ],
      "text/plain": [
       "| 43      | 1.71s        | 0.000248343            |"
      ]
     },
     "metadata": {},
     "output_type": "display_data"
    },
    {
     "data": {
      "text/html": [
       "<pre>| 44      | 1.74s        | 0.000243666            |</pre>"
      ],
      "text/plain": [
       "| 44      | 1.74s        | 0.000243666            |"
      ]
     },
     "metadata": {},
     "output_type": "display_data"
    },
    {
     "data": {
      "text/html": [
       "<pre>| 45      | 1.78s        | 0.000239182            |</pre>"
      ],
      "text/plain": [
       "| 45      | 1.78s        | 0.000239182            |"
      ]
     },
     "metadata": {},
     "output_type": "display_data"
    },
    {
     "data": {
      "text/html": [
       "<pre>| 46      | 1.82s        | 0.000234682            |</pre>"
      ],
      "text/plain": [
       "| 46      | 1.82s        | 0.000234682            |"
      ]
     },
     "metadata": {},
     "output_type": "display_data"
    },
    {
     "data": {
      "text/html": [
       "<pre>| 47      | 1.86s        | 0.000230241            |</pre>"
      ],
      "text/plain": [
       "| 47      | 1.86s        | 0.000230241            |"
      ]
     },
     "metadata": {},
     "output_type": "display_data"
    },
    {
     "data": {
      "text/html": [
       "<pre>| 48      | 1.89s        | 0.000225833            |</pre>"
      ],
      "text/plain": [
       "| 48      | 1.89s        | 0.000225833            |"
      ]
     },
     "metadata": {},
     "output_type": "display_data"
    },
    {
     "data": {
      "text/html": [
       "<pre>| 49      | 1.93s        | 0.000221973            |</pre>"
      ],
      "text/plain": [
       "| 49      | 1.93s        | 0.000221973            |"
      ]
     },
     "metadata": {},
     "output_type": "display_data"
    },
    {
     "data": {
      "text/html": [
       "<pre>| FINAL   | 1.93s        | 0.000221973            |</pre>"
      ],
      "text/plain": [
       "| FINAL   | 1.93s        | 0.000221973            |"
      ]
     },
     "metadata": {},
     "output_type": "display_data"
    },
    {
     "data": {
      "text/html": [
       "<pre>+---------+--------------+------------------------+</pre>"
      ],
      "text/plain": [
       "+---------+--------------+------------------------+"
      ]
     },
     "metadata": {},
     "output_type": "display_data"
    },
    {
     "data": {
      "text/html": [
       "<pre>Optimization Complete: Iteration limit reached.</pre>"
      ],
      "text/plain": [
       "Optimization Complete: Iteration limit reached."
      ]
     },
     "metadata": {},
     "output_type": "display_data"
    }
   ],
   "source": [
    "## using recommender system lsa or svd\n",
    "\n",
    "model = gl.recommender.factorization_recommender.create(observation_data=train,\n",
    "                                                              user_id=\"reviewerID\",\n",
    "                                                              item_id=\"asin\",\n",
    "                                                              target=\"overall\",\n",
    "                                                              num_factors=10,\n",
    "                                                              solver='als',\n",
    "                                                              verbose=1)"
   ]
  },
  {
   "cell_type": "code",
   "execution_count": 5,
   "metadata": {},
   "outputs": [
    {
     "data": {
      "text/html": [
       "<div style=\"max-height:1000px;max-width:1500px;overflow:auto;\"><table frame=\"box\" rules=\"cols\">\n",
       "    <tr>\n",
       "        <th style=\"padding-left: 1em; padding-right: 1em; text-align: center\">reviewerID</th>\n",
       "        <th style=\"padding-left: 1em; padding-right: 1em; text-align: center\">asin</th>\n",
       "        <th style=\"padding-left: 1em; padding-right: 1em; text-align: center\">score</th>\n",
       "        <th style=\"padding-left: 1em; padding-right: 1em; text-align: center\">rank</th>\n",
       "    </tr>\n",
       "    <tr>\n",
       "        <td style=\"padding-left: 1em; padding-right: 1em; text-align: center; vertical-align: top\">AFNCXMCX7VZWH</td>\n",
       "        <td style=\"padding-left: 1em; padding-right: 1em; text-align: center; vertical-align: top\">B00GBQ3K54</td>\n",
       "        <td style=\"padding-left: 1em; padding-right: 1em; text-align: center; vertical-align: top\">4.2846825158</td>\n",
       "        <td style=\"padding-left: 1em; padding-right: 1em; text-align: center; vertical-align: top\">1</td>\n",
       "    </tr>\n",
       "    <tr>\n",
       "        <td style=\"padding-left: 1em; padding-right: 1em; text-align: center; vertical-align: top\">AFNCXMCX7VZWH</td>\n",
       "        <td style=\"padding-left: 1em; padding-right: 1em; text-align: center; vertical-align: top\">B0014YTACK</td>\n",
       "        <td style=\"padding-left: 1em; padding-right: 1em; text-align: center; vertical-align: top\">4.2846825158</td>\n",
       "        <td style=\"padding-left: 1em; padding-right: 1em; text-align: center; vertical-align: top\">2</td>\n",
       "    </tr>\n",
       "    <tr>\n",
       "        <td style=\"padding-left: 1em; padding-right: 1em; text-align: center; vertical-align: top\">AFNCXMCX7VZWH</td>\n",
       "        <td style=\"padding-left: 1em; padding-right: 1em; text-align: center; vertical-align: top\">B00K5NEORM</td>\n",
       "        <td style=\"padding-left: 1em; padding-right: 1em; text-align: center; vertical-align: top\">4.2846825158</td>\n",
       "        <td style=\"padding-left: 1em; padding-right: 1em; text-align: center; vertical-align: top\">3</td>\n",
       "    </tr>\n",
       "    <tr>\n",
       "        <td style=\"padding-left: 1em; padding-right: 1em; text-align: center; vertical-align: top\">AFNCXMCX7VZWH</td>\n",
       "        <td style=\"padding-left: 1em; padding-right: 1em; text-align: center; vertical-align: top\">B003V32UDI</td>\n",
       "        <td style=\"padding-left: 1em; padding-right: 1em; text-align: center; vertical-align: top\">4.2846825158</td>\n",
       "        <td style=\"padding-left: 1em; padding-right: 1em; text-align: center; vertical-align: top\">4</td>\n",
       "    </tr>\n",
       "    <tr>\n",
       "        <td style=\"padding-left: 1em; padding-right: 1em; text-align: center; vertical-align: top\">AFNCXMCX7VZWH</td>\n",
       "        <td style=\"padding-left: 1em; padding-right: 1em; text-align: center; vertical-align: top\">B008BQI8YA</td>\n",
       "        <td style=\"padding-left: 1em; padding-right: 1em; text-align: center; vertical-align: top\">4.2846825158</td>\n",
       "        <td style=\"padding-left: 1em; padding-right: 1em; text-align: center; vertical-align: top\">5</td>\n",
       "    </tr>\n",
       "    <tr>\n",
       "        <td style=\"padding-left: 1em; padding-right: 1em; text-align: center; vertical-align: top\">AFNCXMCX7VZWH</td>\n",
       "        <td style=\"padding-left: 1em; padding-right: 1em; text-align: center; vertical-align: top\">B000BABW5Q</td>\n",
       "        <td style=\"padding-left: 1em; padding-right: 1em; text-align: center; vertical-align: top\">4.2846825158</td>\n",
       "        <td style=\"padding-left: 1em; padding-right: 1em; text-align: center; vertical-align: top\">6</td>\n",
       "    </tr>\n",
       "    <tr>\n",
       "        <td style=\"padding-left: 1em; padding-right: 1em; text-align: center; vertical-align: top\">AFNCXMCX7VZWH</td>\n",
       "        <td style=\"padding-left: 1em; padding-right: 1em; text-align: center; vertical-align: top\">B004OZGG0K</td>\n",
       "        <td style=\"padding-left: 1em; padding-right: 1em; text-align: center; vertical-align: top\">4.2846825158</td>\n",
       "        <td style=\"padding-left: 1em; padding-right: 1em; text-align: center; vertical-align: top\">7</td>\n",
       "    </tr>\n",
       "    <tr>\n",
       "        <td style=\"padding-left: 1em; padding-right: 1em; text-align: center; vertical-align: top\">AFNCXMCX7VZWH</td>\n",
       "        <td style=\"padding-left: 1em; padding-right: 1em; text-align: center; vertical-align: top\">B00EDR6YB0</td>\n",
       "        <td style=\"padding-left: 1em; padding-right: 1em; text-align: center; vertical-align: top\">4.2846825158</td>\n",
       "        <td style=\"padding-left: 1em; padding-right: 1em; text-align: center; vertical-align: top\">8</td>\n",
       "    </tr>\n",
       "    <tr>\n",
       "        <td style=\"padding-left: 1em; padding-right: 1em; text-align: center; vertical-align: top\">AFNCXMCX7VZWH</td>\n",
       "        <td style=\"padding-left: 1em; padding-right: 1em; text-align: center; vertical-align: top\">B001J5H92C</td>\n",
       "        <td style=\"padding-left: 1em; padding-right: 1em; text-align: center; vertical-align: top\">4.2846825158</td>\n",
       "        <td style=\"padding-left: 1em; padding-right: 1em; text-align: center; vertical-align: top\">9</td>\n",
       "    </tr>\n",
       "    <tr>\n",
       "        <td style=\"padding-left: 1em; padding-right: 1em; text-align: center; vertical-align: top\">AFNCXMCX7VZWH</td>\n",
       "        <td style=\"padding-left: 1em; padding-right: 1em; text-align: center; vertical-align: top\">B002T3DBKW</td>\n",
       "        <td style=\"padding-left: 1em; padding-right: 1em; text-align: center; vertical-align: top\">4.2846825158</td>\n",
       "        <td style=\"padding-left: 1em; padding-right: 1em; text-align: center; vertical-align: top\">10</td>\n",
       "    </tr>\n",
       "</table>\n",
       "[10 rows x 4 columns]<br/>\n",
       "</div>"
      ],
      "text/plain": [
       "Columns:\n",
       "\treviewerID\tstr\n",
       "\tasin\tstr\n",
       "\tscore\tfloat\n",
       "\trank\tint\n",
       "\n",
       "Rows: 10\n",
       "\n",
       "Data:\n",
       "+---------------+------------+--------------+------+\n",
       "|   reviewerID  |    asin    |    score     | rank |\n",
       "+---------------+------------+--------------+------+\n",
       "| AFNCXMCX7VZWH | B00GBQ3K54 | 4.2846825158 |  1   |\n",
       "| AFNCXMCX7VZWH | B0014YTACK | 4.2846825158 |  2   |\n",
       "| AFNCXMCX7VZWH | B00K5NEORM | 4.2846825158 |  3   |\n",
       "| AFNCXMCX7VZWH | B003V32UDI | 4.2846825158 |  4   |\n",
       "| AFNCXMCX7VZWH | B008BQI8YA | 4.2846825158 |  5   |\n",
       "| AFNCXMCX7VZWH | B000BABW5Q | 4.2846825158 |  6   |\n",
       "| AFNCXMCX7VZWH | B004OZGG0K | 4.2846825158 |  7   |\n",
       "| AFNCXMCX7VZWH | B00EDR6YB0 | 4.2846825158 |  8   |\n",
       "| AFNCXMCX7VZWH | B001J5H92C | 4.2846825158 |  9   |\n",
       "| AFNCXMCX7VZWH | B002T3DBKW | 4.2846825158 |  10  |\n",
       "+---------------+------------+--------------+------+\n",
       "[10 rows x 4 columns]"
      ]
     },
     "execution_count": 5,
     "metadata": {},
     "output_type": "execute_result"
    }
   ],
   "source": [
    "recs = model.recommend(users=[\"AFNCXMCX7VZWH\"])\n",
    "recs"
   ]
  },
  {
   "cell_type": "code",
   "execution_count": 6,
   "metadata": {
    "scrolled": false
   },
   "outputs": [
    {
     "data": {
      "text/plain": [
       "{'asin': Columns:\n",
       " \tasin\tstr\n",
       " \tlinear_terms\tfloat\n",
       " \tfactors\tarray\n",
       " \n",
       " Rows: 6170\n",
       " \n",
       " Data:\n",
       " +------------+--------------+-------------------------------+\n",
       " |    asin    | linear_terms |            factors            |\n",
       " +------------+--------------+-------------------------------+\n",
       " | B002T3DBKW |     0.0      | [-1.41087621159e-05, 2.896... |\n",
       " | B001J5H92C |     0.0      | [-0.0704518184066, -2.1016... |\n",
       " | B00EDR6YB0 |     0.0      | [0.118054434657, -3.538033... |\n",
       " | B004OZGG0K |     0.0      | [-2.22086382564e-05, -3.48... |\n",
       " | B000BABW5Q |     0.0      | [-0.000109896995127, 1.792... |\n",
       " | B008BQI8YA |     0.0      | [-0.00374574260786, -0.031... |\n",
       " | B003V32UDI |     0.0      | [-8.45319809741e-05, -0.06... |\n",
       " | B00K5NEORM |     0.0      | [-0.00424741348252, -0.045... |\n",
       " | B0014YTACK |     0.0      | [0.0127840861678, -0.03964... |\n",
       " | B00GBQ3K54 |     0.0      | [0.00327599304728, 0.00018... |\n",
       " +------------+--------------+-------------------------------+\n",
       " [6170 rows x 3 columns]\n",
       " Note: Only the head of the SFrame is printed.\n",
       " You can use print_rows(num_rows=m, num_columns=n) to print more rows and columns.,\n",
       " 'intercept': 4.284682515798946,\n",
       " 'reviewerID': Columns:\n",
       " \treviewerID\tstr\n",
       " \tlinear_terms\tfloat\n",
       " \tfactors\tarray\n",
       " \n",
       " Rows: 8222\n",
       " \n",
       " Data:\n",
       " +----------------+--------------+-------------------------------+\n",
       " |   reviewerID   | linear_terms |            factors            |\n",
       " +----------------+--------------+-------------------------------+\n",
       " | A339O8ZW72WHZ0 |     0.0      | [-0.0012277859496, 0.00025... |\n",
       " | A8QC2O7KA1V8D  |     0.0      | [-3.51419782639, -0.001044... |\n",
       " | A2PZ39BYJ4C1LS |     0.0      | [5.39677810669, -0.0015845... |\n",
       " | A4P3D4248880B  |     0.0      | [0.000390136614442, 0.0006... |\n",
       " | A26MQ4YGVS5CC2 |     0.0      | [-0.00304292421788, 7.4539... |\n",
       " | AUP0UHW4TVP1D  |     0.0      | [0.163084924221, 2.1066148... |\n",
       " | A19DW3VKM5KKYB |     0.0      | [-0.00366250029765, -2.764... |\n",
       " | AX0ZTNX6KVJ40  |     0.0      | [-0.270686984062, -2.81489... |\n",
       " | A2F69JAZ214QDS |     0.0      | [-0.29306268692, 0.9125993... |\n",
       " | AJOZL929DDQPL  |     0.0      | [-0.162745431066, -0.01062... |\n",
       " +----------------+--------------+-------------------------------+\n",
       " [8222 rows x 3 columns]\n",
       " Note: Only the head of the SFrame is printed.\n",
       " You can use print_rows(num_rows=m, num_columns=n) to print more rows and columns.}"
      ]
     },
     "execution_count": 6,
     "metadata": {},
     "output_type": "execute_result"
    }
   ],
   "source": [
    "model['coefficients']"
   ]
  },
  {
   "cell_type": "code",
   "execution_count": 7,
   "metadata": {},
   "outputs": [
    {
     "data": {
      "text/plain": [
       "{'precision_recall_by_user': Columns:\n",
       " \treviewerID\tstr\n",
       " \tcutoff\tint\n",
       " \tprecision\tfloat\n",
       " \trecall\tfloat\n",
       " \tcount\tint\n",
       " \n",
       " Rows: 522\n",
       " \n",
       " Data:\n",
       " +----------------+--------+-----------+--------+-------+\n",
       " |   reviewerID   | cutoff | precision | recall | count |\n",
       " +----------------+--------+-----------+--------+-------+\n",
       " | A15FXTZ9PODUGO |   1    |    0.0    |  0.0   |   1   |\n",
       " | A15FXTZ9PODUGO |   2    |    0.0    |  0.0   |   1   |\n",
       " | A15FXTZ9PODUGO |   3    |    0.0    |  0.0   |   1   |\n",
       " | A15FXTZ9PODUGO |   4    |    0.0    |  0.0   |   1   |\n",
       " | A15FXTZ9PODUGO |   5    |    0.0    |  0.0   |   1   |\n",
       " | A15FXTZ9PODUGO |   6    |    0.0    |  0.0   |   1   |\n",
       " | A15FXTZ9PODUGO |   7    |    0.0    |  0.0   |   1   |\n",
       " | A15FXTZ9PODUGO |   8    |    0.0    |  0.0   |   1   |\n",
       " | A15FXTZ9PODUGO |   9    |    0.0    |  0.0   |   1   |\n",
       " | A15FXTZ9PODUGO |   10   |    0.0    |  0.0   |   1   |\n",
       " +----------------+--------+-----------+--------+-------+\n",
       " [522 rows x 5 columns]\n",
       " Note: Only the head of the SFrame is printed.\n",
       " You can use print_rows(num_rows=m, num_columns=n) to print more rows and columns.,\n",
       " 'precision_recall_overall': Columns:\n",
       " \tcutoff\tint\n",
       " \tprecision\tfloat\n",
       " \trecall\tfloat\n",
       " \n",
       " Rows: 18\n",
       " \n",
       " Data:\n",
       " +--------+-----------+--------+\n",
       " | cutoff | precision | recall |\n",
       " +--------+-----------+--------+\n",
       " |   1    |    0.0    |  0.0   |\n",
       " |   2    |    0.0    |  0.0   |\n",
       " |   3    |    0.0    |  0.0   |\n",
       " |   4    |    0.0    |  0.0   |\n",
       " |   5    |    0.0    |  0.0   |\n",
       " |   6    |    0.0    |  0.0   |\n",
       " |   7    |    0.0    |  0.0   |\n",
       " |   8    |    0.0    |  0.0   |\n",
       " |   9    |    0.0    |  0.0   |\n",
       " |   10   |    0.0    |  0.0   |\n",
       " +--------+-----------+--------+\n",
       " [18 rows x 3 columns]\n",
       " Note: Only the head of the SFrame is printed.\n",
       " You can use print_rows(num_rows=m, num_columns=n) to print more rows and columns.}"
      ]
     },
     "execution_count": 7,
     "metadata": {},
     "output_type": "execute_result"
    }
   ],
   "source": [
    "# view = model.views.overview(validation_set=)\n",
    "model.evaluate_precision_recall(dataset=test)"
   ]
  },
  {
   "cell_type": "code",
   "execution_count": 8,
   "metadata": {},
   "outputs": [
    {
     "data": {
      "text/plain": [
       "{'rmse_by_item': Columns:\n",
       " \tasin\tstr\n",
       " \tcount\tint\n",
       " \trmse\tfloat\n",
       " \n",
       " Rows: 31\n",
       " \n",
       " Data:\n",
       " +------------+-------+----------------+\n",
       " |    asin    | count |      rmse      |\n",
       " +------------+-------+----------------+\n",
       " | B0002274FK |   1   |  3.2846825158  |\n",
       " | B000VPBNJQ |   1   | 0.715317484201 |\n",
       " | B0002IXH0U |   1   | 0.715317484201 |\n",
       " | B0002407V6 |   1   | 0.715317484201 |\n",
       " | B00CLD7DDG |   1   | 0.239208195149 |\n",
       " | B00BZAIARE |   1   | 0.715317484201 |\n",
       " | B000LM0X0Y |   1   | 3.23584467897  |\n",
       " | B003ULK0HO |   1   | 0.708464774047 |\n",
       " | B0049POHK6 |   1   |  2.2846825158  |\n",
       " | B000LNI5VC |   1   | 0.715317484201 |\n",
       " +------------+-------+----------------+\n",
       " [31 rows x 3 columns]\n",
       " Note: Only the head of the SFrame is printed.\n",
       " You can use print_rows(num_rows=m, num_columns=n) to print more rows and columns.,\n",
       " 'rmse_by_user': Columns:\n",
       " \treviewerID\tstr\n",
       " \tcount\tint\n",
       " \trmse\tfloat\n",
       " \n",
       " Rows: 29\n",
       " \n",
       " Data:\n",
       " +----------------+-------+----------------+\n",
       " |   reviewerID   | count |      rmse      |\n",
       " +----------------+-------+----------------+\n",
       " | A24T532TFWAGYG |   1   | 0.284682515799 |\n",
       " | A15FXTZ9PODUGO |   1   |  3.2846825158  |\n",
       " | A1XJR6X9MA37XB |   1   |  1.2846825158  |\n",
       " | A2OS3TIVAKUAHG |   1   | 0.708464774047 |\n",
       " | A1VGXHHR08G044 |   1   | 0.715317484201 |\n",
       " |  AWA2DXL9OC66  |   1   | 0.715317484201 |\n",
       " | A3M6TSEV71537G |   1   | 0.284682515799 |\n",
       " | A1YJMG0QJXZLD4 |   2   | 0.864319545131 |\n",
       " | A2EQVLY0BKQINM |   1   | 0.715317484201 |\n",
       " | A21EJ67AQGX8TR |   1   | 1.18488677985  |\n",
       " +----------------+-------+----------------+\n",
       " [29 rows x 3 columns]\n",
       " Note: Only the head of the SFrame is printed.\n",
       " You can use print_rows(num_rows=m, num_columns=n) to print more rows and columns.,\n",
       " 'rmse_overall': 1.4758755815174}"
      ]
     },
     "execution_count": 8,
     "metadata": {},
     "output_type": "execute_result"
    }
   ],
   "source": [
    "model.evaluate_rmse(test, target='overall')"
   ]
  },
  {
   "cell_type": "code",
   "execution_count": null,
   "metadata": {},
   "outputs": [],
   "source": [
    "## using topic modelling\n"
   ]
  }
 ],
 "metadata": {
  "kernelspec": {
   "display_name": "Python [conda env:graphlab]",
   "language": "python",
   "name": "conda-env-graphlab-py"
  },
  "language_info": {
   "codemirror_mode": {
    "name": "ipython",
    "version": 2
   },
   "file_extension": ".py",
   "mimetype": "text/x-python",
   "name": "python",
   "nbconvert_exporter": "python",
   "pygments_lexer": "ipython2",
   "version": "2.7.14"
  }
 },
 "nbformat": 4,
 "nbformat_minor": 2
}
